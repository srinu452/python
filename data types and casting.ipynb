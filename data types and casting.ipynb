{
 "cells": [
  {
   "cell_type": "code",
   "execution_count": null,
   "id": "e3b5fc60-0b11-46b6-83bd-4766c45d3492",
   "metadata": {},
   "outputs": [],
   "source": [
    "                          \"\"\" Python Data Types\"\"\""
   ]
  },
  {
   "cell_type": "code",
   "execution_count": null,
   "id": "772ccdef-969b-44e9-9190-149576f887a2",
   "metadata": {},
   "outputs": [],
   "source": [
    "\"\"\"1.Built in data types\"\"\""
   ]
  },
  {
   "cell_type": "code",
   "execution_count": null,
   "id": "a54058a1-eb10-43d5-b3c9-0d6dbda2066b",
   "metadata": {},
   "outputs": [],
   "source": [
    "Variables can store the data of different types,and different types can do different things"
   ]
  },
  {
   "cell_type": "code",
   "execution_count": null,
   "id": "e263aef1-cfd6-4b67-b39f-e8840044457c",
   "metadata": {},
   "outputs": [],
   "source": [
    "Text Type      : str\n",
    "Numeric Types  : int,float,complex\n",
    "Sequence Types : List,tuple,range\n",
    "Mapping Types  : dict\n",
    "Set Types      : set,frozenset\n",
    "Boolean Types  : bool\n",
    "BInary types   : bytes,bytearray,memoryview\n",
    "none Type      : None Type"
   ]
  },
  {
   "cell_type": "code",
   "execution_count": null,
   "id": "e3232bfc-9b68-4fe2-a011-9e744993aefc",
   "metadata": {},
   "outputs": [],
   "source": [
    "# Getting the Data Type"
   ]
  },
  {
   "cell_type": "code",
   "execution_count": null,
   "id": "8103dd1a-2ba5-4c77-aa99-92d9c12082b6",
   "metadata": {},
   "outputs": [],
   "source": [
    "you can get the data types of any object bby using type() function:"
   ]
  },
  {
   "cell_type": "code",
   "execution_count": 1,
   "id": "3bfcb257-0679-4d0b-947e-f84a9c11a648",
   "metadata": {},
   "outputs": [
    {
     "name": "stdout",
     "output_type": "stream",
     "text": [
      "<class 'int'>\n"
     ]
    }
   ],
   "source": [
    "x=5\n",
    "print(type(x))"
   ]
  },
  {
   "cell_type": "code",
   "execution_count": 3,
   "id": "50aa8a8c-fe41-435f-acd5-a0980a2aa177",
   "metadata": {},
   "outputs": [
    {
     "name": "stdout",
     "output_type": "stream",
     "text": [
      "<class 'str'>\n"
     ]
    }
   ],
   "source": [
    "x=\"Hello world\"\n",
    "print(type(x))"
   ]
  },
  {
   "cell_type": "code",
   "execution_count": 7,
   "id": "27a69b13-d64c-4b45-9860-ada4431c4ffa",
   "metadata": {},
   "outputs": [
    {
     "name": "stdout",
     "output_type": "stream",
     "text": [
      "<class 'int'>\n"
     ]
    }
   ],
   "source": [
    "x=9\n",
    "print(type(x))"
   ]
  },
  {
   "cell_type": "code",
   "execution_count": 9,
   "id": "6a5e3b7e-c571-4db1-a0e2-fa5ba36b021c",
   "metadata": {},
   "outputs": [
    {
     "name": "stdout",
     "output_type": "stream",
     "text": [
      "<class 'float'>\n"
     ]
    }
   ],
   "source": [
    "x=9.4\n",
    "print(type(x))\n"
   ]
  },
  {
   "cell_type": "code",
   "execution_count": 13,
   "id": "4f05626c-b8be-4095-8069-a0d0a63a0b7e",
   "metadata": {},
   "outputs": [
    {
     "name": "stdout",
     "output_type": "stream",
     "text": [
      "<class 'complex'>\n"
     ]
    }
   ],
   "source": [
    "x=9+7j\n",
    "print(type(x))"
   ]
  },
  {
   "cell_type": "code",
   "execution_count": 15,
   "id": "35908871-4ba7-43c2-b4e1-47d4e942f26e",
   "metadata": {},
   "outputs": [
    {
     "name": "stdout",
     "output_type": "stream",
     "text": [
      "<class 'list'>\n"
     ]
    }
   ],
   "source": [
    "x=[\"list\",\"List1\",\"List2\"]\n",
    "print(type(x))"
   ]
  },
  {
   "cell_type": "code",
   "execution_count": 19,
   "id": "9dd267a5-303e-4176-a239-771b38ed25eb",
   "metadata": {},
   "outputs": [
    {
     "name": "stdout",
     "output_type": "stream",
     "text": [
      "<class 'tuple'>\n"
     ]
    }
   ],
   "source": [
    "x=(\"tuple\",23,23+8j)\n",
    "print(type(x))"
   ]
  },
  {
   "cell_type": "code",
   "execution_count": 23,
   "id": "58ad9026-052b-4bd4-a512-a47ee7668220",
   "metadata": {},
   "outputs": [
    {
     "name": "stdout",
     "output_type": "stream",
     "text": [
      "<class 'range'>\n"
     ]
    }
   ],
   "source": [
    "x=range(6)\n",
    "print(type(x))"
   ]
  },
  {
   "cell_type": "code",
   "execution_count": 27,
   "id": "80c80651-94ed-4df7-a756-59bdbc2d5ff2",
   "metadata": {},
   "outputs": [
    {
     "name": "stdout",
     "output_type": "stream",
     "text": [
      "<class 'dict'>\n"
     ]
    }
   ],
   "source": [
    "x={\"a\":23,\"b\":\"str\",\"c\":23+9j}\n",
    "print(type(x))"
   ]
  },
  {
   "cell_type": "code",
   "execution_count": 37,
   "id": "fcd4303c-68d8-4279-8cfc-c64c5a5454fc",
   "metadata": {},
   "outputs": [
    {
     "name": "stdout",
     "output_type": "stream",
     "text": [
      "<class 'set'>\n"
     ]
    }
   ],
   "source": [
    "x={12,43,32,43,32+5j,(224)}\n",
    "print(type(x))"
   ]
  },
  {
   "cell_type": "code",
   "execution_count": 47,
   "id": "a2456907-b96b-45bd-a7aa-28a45e22ef63",
   "metadata": {},
   "outputs": [
    {
     "data": {
      "text/plain": [
       "frozenset"
      ]
     },
     "execution_count": 47,
     "metadata": {},
     "output_type": "execute_result"
    }
   ],
   "source": [
    "x=frozenset({\"apple\",\"banana\",\"cherry\",(\"ew\")})\n",
    "x\n",
    "print(type(x))"
   ]
  },
  {
   "cell_type": "code",
   "execution_count": 49,
   "id": "28f312a1-9211-4736-90dc-2957f801e9f8",
   "metadata": {},
   "outputs": [
    {
     "name": "stdout",
     "output_type": "stream",
     "text": [
      "<class 'bool'>\n"
     ]
    }
   ],
   "source": [
    "x=True\n",
    "print(type(x))"
   ]
  },
  {
   "cell_type": "code",
   "execution_count": 53,
   "id": "0b8f5c30-8124-4116-8a18-d1dc174a0859",
   "metadata": {},
   "outputs": [
    {
     "name": "stdout",
     "output_type": "stream",
     "text": [
      "<class 'bytearray'>\n"
     ]
    }
   ],
   "source": [
    "x=bytearray(5)\n",
    "print(type(x))"
   ]
  },
  {
   "cell_type": "code",
   "execution_count": 59,
   "id": "5513c2af-978c-473e-98f5-dc4b249cdf6d",
   "metadata": {},
   "outputs": [
    {
     "name": "stdout",
     "output_type": "stream",
     "text": [
      "<class 'memoryview'>\n"
     ]
    }
   ],
   "source": [
    "x=memoryview(bytes(5))\n",
    "print(type(x))"
   ]
  },
  {
   "cell_type": "code",
   "execution_count": 61,
   "id": "c45a9192-6e5a-4854-8906-c7b5cca8af41",
   "metadata": {},
   "outputs": [
    {
     "name": "stdout",
     "output_type": "stream",
     "text": [
      "<class 'NoneType'>\n"
     ]
    }
   ],
   "source": [
    "x=None\n",
    "print(type(x))"
   ]
  },
  {
   "cell_type": "code",
   "execution_count": null,
   "id": "fb8b99f2-bd9d-4b76-9f55-10b2de17397b",
   "metadata": {},
   "outputs": [],
   "source": [
    "\"\"\"2.Setting the Specific Data Type\"\"\"\n",
    "If you want to specify the data type you can use the following constructer functions"
   ]
  },
  {
   "cell_type": "code",
   "execution_count": 69,
   "id": "52c1ecae-8094-4a29-aa91-f70ca2827f85",
   "metadata": {},
   "outputs": [
    {
     "name": "stdout",
     "output_type": "stream",
     "text": [
      "Hello World\n",
      "<class 'str'>\n"
     ]
    }
   ],
   "source": [
    "x=str(\"Hello World\")\n",
    "print(x)\n",
    "print(type(x))"
   ]
  },
  {
   "cell_type": "code",
   "execution_count": 71,
   "id": "b9a9e399-57b7-4a14-ad65-1a17dd7fa6dd",
   "metadata": {},
   "outputs": [
    {
     "name": "stdout",
     "output_type": "stream",
     "text": [
      "34\n",
      "<class 'int'>\n"
     ]
    }
   ],
   "source": [
    "x=int(34)\n",
    "print(x)\n",
    "print(type(x))"
   ]
  },
  {
   "cell_type": "code",
   "execution_count": 77,
   "id": "8a7a44a7-8986-44ac-a6ba-57378e13938b",
   "metadata": {},
   "outputs": [
    {
     "name": "stdout",
     "output_type": "stream",
     "text": [
      "23.0\n",
      "<class 'float'>\n"
     ]
    }
   ],
   "source": [
    "x=float(23)\n",
    "print(x)\n",
    "print(type(x))"
   ]
  },
  {
   "cell_type": "code",
   "execution_count": 79,
   "id": "8178764d-f834-45a9-b119-26f4f0dc8d88",
   "metadata": {},
   "outputs": [
    {
     "name": "stdout",
     "output_type": "stream",
     "text": [
      "(23+89j)\n",
      "<class 'complex'>\n"
     ]
    }
   ],
   "source": [
    "x=complex(23+89j)\n",
    "print(x)\n",
    "print(type(x))"
   ]
  },
  {
   "cell_type": "code",
   "execution_count": 89,
   "id": "23a1f96f-025f-47eb-910d-56d09ea6c165",
   "metadata": {},
   "outputs": [
    {
     "name": "stdout",
     "output_type": "stream",
     "text": [
      "[('apple', 'banana', 23, (3334+89j), ['3535', 'rgt'])]\n",
      "<class 'list'>\n"
     ]
    }
   ],
   "source": [
    "x=list((\"apple\",\"banana\",23,3334+89j,[\"3535\",\"rgt\"]))\n",
    "print(x)\n",
    "print(type(x))"
   ]
  },
  {
   "cell_type": "code",
   "execution_count": 93,
   "id": "6332b250-e346-4fe0-bd94-c9f289608cb1",
   "metadata": {},
   "outputs": [
    {
     "name": "stdout",
     "output_type": "stream",
     "text": [
      "('hi', 'hello', 'I am tuple', 'grr', [344, 335])\n",
      "<class 'tuple'>\n"
     ]
    }
   ],
   "source": [
    "x=tuple((\"hi\",\"hello\",\"I am tuple\",(\"grr\"),[344,335]))\n",
    "print(x)\n",
    "print(type(x))"
   ]
  },
  {
   "cell_type": "code",
   "execution_count": 95,
   "id": "170c41ba-8012-4685-b1bf-5c52efb1361a",
   "metadata": {},
   "outputs": [
    {
     "name": "stdout",
     "output_type": "stream",
     "text": [
      "range(0, 6)\n",
      "<class 'range'>\n"
     ]
    }
   ],
   "source": [
    "x= range(6)\n",
    "print(x)\n",
    "print(type(x))"
   ]
  },
  {
   "cell_type": "code",
   "execution_count": 101,
   "id": "8e562f72-14a1-4436-864b-5915071aa7bb",
   "metadata": {},
   "outputs": [
    {
     "name": "stdout",
     "output_type": "stream",
     "text": [
      "{'name': 'john', 'age': '34'}\n",
      "<class 'dict'>\n"
     ]
    }
   ],
   "source": [
    "x=dict(name=\"john\",age=\"34\")\n",
    "print(x)\n",
    "print(type(x))"
   ]
  },
  {
   "cell_type": "code",
   "execution_count": 109,
   "id": "a6908a83-9f0a-4719-b9b0-c39a87972d78",
   "metadata": {},
   "outputs": [
    {
     "name": "stdout",
     "output_type": "stream",
     "text": [
      "{24, 'apple', 12, '3435'}\n",
      "<class 'set'>\n"
     ]
    }
   ],
   "source": [
    "x=set(( 12,\"apple\",(\"3435\"),24,24))\n",
    "print(x)\n",
    "print(type(x))"
   ]
  },
  {
   "cell_type": "code",
   "execution_count": 113,
   "id": "acd652d6-00b8-419e-bca0-e5b5ea0aab36",
   "metadata": {},
   "outputs": [
    {
     "name": "stdout",
     "output_type": "stream",
     "text": [
      "frozenset({24, 'rgrrgr', 'apple'})\n",
      "<class 'frozenset'>\n"
     ]
    }
   ],
   "source": [
    "x=frozenset((\"apple\",\"rgrrgr\",24,24))\n",
    "print(x)\n",
    "print(type(x))"
   ]
  },
  {
   "cell_type": "code",
   "execution_count": 115,
   "id": "46de0421-036d-42a8-a9d7-5b4f83cb1762",
   "metadata": {},
   "outputs": [
    {
     "name": "stdout",
     "output_type": "stream",
     "text": [
      "True\n",
      "<class 'bool'>\n"
     ]
    }
   ],
   "source": [
    "x=bool(5)\n",
    "print(x)\n",
    "print(type(x))"
   ]
  },
  {
   "cell_type": "code",
   "execution_count": 117,
   "id": "02bf2467-7824-4f3a-8ee1-bc3557347f4f",
   "metadata": {},
   "outputs": [
    {
     "name": "stdout",
     "output_type": "stream",
     "text": [
      "b'\\x00\\x00\\x00\\x00\\x00'\n",
      "<class 'bytes'>\n"
     ]
    }
   ],
   "source": [
    "x=bytes(5)\n",
    "print(x)\n",
    "print(type(x))"
   ]
  },
  {
   "cell_type": "code",
   "execution_count": 121,
   "id": "d44a5b91-80dc-46c0-9bf3-75252b9adf1c",
   "metadata": {},
   "outputs": [
    {
     "name": "stdout",
     "output_type": "stream",
     "text": [
      "bytearray(b'\\x00\\x00\\x00\\x00\\x00')\n",
      "<class 'bytearray'>\n"
     ]
    }
   ],
   "source": [
    "x=bytearray(5)\n",
    "print(x)\n",
    "print(type(x))"
   ]
  },
  {
   "cell_type": "code",
   "execution_count": 123,
   "id": "80ede19f-7ba0-40dc-9379-f469789e09bd",
   "metadata": {},
   "outputs": [
    {
     "name": "stdout",
     "output_type": "stream",
     "text": [
      "<memory at 0x000002A712462740>\n",
      "<class 'memoryview'>\n"
     ]
    }
   ],
   "source": [
    "x=memoryview(bytes(5))\n",
    "print(x)\n",
    "print(type(x))"
   ]
  },
  {
   "cell_type": "code",
   "execution_count": null,
   "id": "977d5205-5cd7-488d-889d-bc9d7fd3057c",
   "metadata": {},
   "outputs": [],
   "source": [
    "                               \"\"\" Python Numbers\"\"\""
   ]
  },
  {
   "cell_type": "code",
   "execution_count": null,
   "id": "10448d19-07b1-48c5-9e80-4d2d60bbe81f",
   "metadata": {},
   "outputs": [],
   "source": [
    "there are three types of numeric types in python\n",
    "1.int\n",
    "2.float\n",
    "3.complex\n",
    "Variables of numeric types are created when you assign the values to them"
   ]
  },
  {
   "cell_type": "code",
   "execution_count": 135,
   "id": "6b0a7258-0c9e-4fbc-b253-4e143fa8a695",
   "metadata": {},
   "outputs": [
    {
     "name": "stdout",
     "output_type": "stream",
     "text": [
      "<class 'int'>\n",
      "<class 'float'>\n",
      "<class 'complex'>\n"
     ]
    }
   ],
   "source": [
    "x=3    #int\n",
    "y=45.5 #float\n",
    "z=34+6j #complex\n",
    "print(type(x))\n",
    "print(type(y))\n",
    "print(type(z))"
   ]
  },
  {
   "cell_type": "code",
   "execution_count": null,
   "id": "15556267-0b18-440b-8c60-ea1af5ea38db",
   "metadata": {},
   "outputs": [],
   "source": [
    "\"\"\"1.int\"\"\""
   ]
  },
  {
   "cell_type": "code",
   "execution_count": null,
   "id": "34f19eb0-4690-4dfa-b190-c2376c9e447a",
   "metadata": {},
   "outputs": [],
   "source": [
    "Int is integer is whole number,positive and negative number without having any decimal with unlimited length"
   ]
  },
  {
   "cell_type": "code",
   "execution_count": 140,
   "id": "666b39a8-35f5-4259-b61b-ffe05c2859cf",
   "metadata": {},
   "outputs": [
    {
     "name": "stdout",
     "output_type": "stream",
     "text": [
      "<class 'int'>\n",
      "<class 'int'>\n",
      "<class 'int'>\n"
     ]
    }
   ],
   "source": [
    "x = 1\n",
    "y = 35656222554887711\n",
    "z = -3255522\n",
    "\n",
    "print(type(x))\n",
    "print(type(y))\n",
    "print(type(z))"
   ]
  },
  {
   "cell_type": "code",
   "execution_count": null,
   "id": "818cbb61-12f6-4e7d-a60b-85a3ab3310fb",
   "metadata": {},
   "outputs": [],
   "source": [
    "\"\"\"2.Float\"\"\""
   ]
  },
  {
   "cell_type": "code",
   "execution_count": null,
   "id": "b240ab9c-7507-4a07-a320-d82f7a075aad",
   "metadata": {},
   "outputs": [],
   "source": [
    "Float is flaot point number is a number having positive or negative or any one or more decimals"
   ]
  },
  {
   "cell_type": "code",
   "execution_count": null,
   "id": "df3dfe53-0d88-4ca2-a681-7d764b5a1226",
   "metadata": {},
   "outputs": [],
   "source": [
    "x = 1.10\n",
    "y = 1.0\n",
    "z = -35.59\n",
    "\n",
    "print(type(x))\n",
    "print(type(y))\n",
    "print(type(z))"
   ]
  },
  {
   "cell_type": "code",
   "execution_count": null,
   "id": "704f64fa-514e-4622-963a-9a38d059d369",
   "metadata": {},
   "outputs": [],
   "source": [
    "Float can also be scientific numbers with an \"e\" to indicate the power of 10."
   ]
  },
  {
   "cell_type": "code",
   "execution_count": 146,
   "id": "aeee7403-4ff4-4e05-99e9-7955f2fac934",
   "metadata": {},
   "outputs": [
    {
     "name": "stdout",
     "output_type": "stream",
     "text": [
      "35000.0\n",
      "<class 'float'>\n",
      "<class 'float'>\n",
      "<class 'float'>\n"
     ]
    }
   ],
   "source": [
    "x = 35e3  #\"e\" indicates the poer of 10 means after e if we have 2 so two zeros before e\n",
    "y = 12E4\n",
    "z = -87.7e100\n",
    "print(x)\n",
    "\n",
    "print(type(x))\n",
    "print(type(y))\n",
    "print(type(z))"
   ]
  },
  {
   "cell_type": "code",
   "execution_count": null,
   "id": "526eb00d-944b-4689-9856-0e0c8ee3c2f5",
   "metadata": {},
   "outputs": [],
   "source": [
    "\"\"\" 3.complex\"\"\""
   ]
  },
  {
   "cell_type": "code",
   "execution_count": null,
   "id": "7dfc53ca-d3b7-4a69-987f-be4f7d3c59ca",
   "metadata": {},
   "outputs": [],
   "source": [
    "Complex numbers are written with a \"j\" as the imaginary part:"
   ]
  },
  {
   "cell_type": "code",
   "execution_count": 148,
   "id": "938ac7a9-6327-43a6-95f3-a4f3c76f19ed",
   "metadata": {},
   "outputs": [
    {
     "name": "stdout",
     "output_type": "stream",
     "text": [
      "(3+5j)\n",
      "5j\n",
      "(-0-5j)\n",
      "<class 'complex'>\n",
      "<class 'complex'>\n",
      "<class 'complex'>\n"
     ]
    }
   ],
   "source": [
    "x = 3+5j\n",
    "y = 5j\n",
    "z = -5j\n",
    "print(x)\n",
    "print(y)\n",
    "print(z)\n",
    "\n",
    "print(type(x))\n",
    "print(type(y))\n",
    "print(type(z))"
   ]
  },
  {
   "cell_type": "code",
   "execution_count": null,
   "id": "f1a145e6-c1db-4e7b-9a65-c6abc6feadc2",
   "metadata": {},
   "outputs": [],
   "source": [
    "                       \"\"\" TYpe conversion\"\"\""
   ]
  },
  {
   "cell_type": "code",
   "execution_count": null,
   "id": "e8c166b9-6764-4106-a13c-220080ad235e",
   "metadata": {},
   "outputs": [],
   "source": [
    "You can convert one type to another type with the int(),float() and complex() methods"
   ]
  },
  {
   "cell_type": "code",
   "execution_count": 150,
   "id": "d407eac9-a3ac-4ef0-8e01-792629be6e89",
   "metadata": {},
   "outputs": [
    {
     "name": "stdout",
     "output_type": "stream",
     "text": [
      "1.0\n",
      "2\n",
      "(1+0j)\n",
      "<class 'float'>\n",
      "<class 'int'>\n",
      "<class 'complex'>\n"
     ]
    }
   ],
   "source": [
    "x = 1    # int\n",
    "y = 2.8  # float\n",
    "z = 1j   # complex\n",
    "\n",
    "#convert from int to float:\n",
    "a = float(x)\n",
    "\n",
    "#convert from float to int:\n",
    "b = int(y)\n",
    "\n",
    "#convert from int to complex:\n",
    "c = complex(x)\n",
    "\n",
    "print(a)\n",
    "print(b)\n",
    "print(c)\n",
    "\n",
    "print(type(a))\n",
    "print(type(b))\n",
    "print(type(c))"
   ]
  },
  {
   "cell_type": "code",
   "execution_count": null,
   "id": "e520097d-0af2-46ae-b4c7-5173fd8a7cd0",
   "metadata": {},
   "outputs": [],
   "source": [
    "\"\"\"4.Random Number\"\"\""
   ]
  },
  {
   "cell_type": "code",
   "execution_count": null,
   "id": "e0632997-d896-47e9-ab68-6d2bc5111d4e",
   "metadata": {},
   "outputs": [],
   "source": [
    "Python doesn't have randome() for to make a random number but\n",
    "we have a built_in module called \"random\" that can be iused to make random numbers:"
   ]
  },
  {
   "cell_type": "code",
   "execution_count": null,
   "id": "90ed3bca-c109-4ab5-918d-8caa0e551d88",
   "metadata": {},
   "outputs": [],
   "source": [
    "Import the random module, and display a random number between 1 and 9:"
   ]
  },
  {
   "cell_type": "code",
   "execution_count": 160,
   "id": "85088a9f-cfde-4ad7-b922-4d8eac16b484",
   "metadata": {},
   "outputs": [
    {
     "name": "stdout",
     "output_type": "stream",
     "text": [
      "4\n"
     ]
    }
   ],
   "source": [
    "import random\n",
    "print(random.randrange(0,9))"
   ]
  },
  {
   "cell_type": "code",
   "execution_count": null,
   "id": "af9657ca-1074-45cc-bd2a-aa4dfbe872f2",
   "metadata": {},
   "outputs": [],
   "source": [
    "\"\"\" Python Casting\"\"\""
   ]
  },
  {
   "cell_type": "code",
   "execution_count": null,
   "id": "264e5fb6-a282-4c50-9959-6c4c74ef998b",
   "metadata": {},
   "outputs": [],
   "source": [
    "here may be times when you want to specify a type on\n",
    "to a variable. This can be done with casting. \n",
    "Python is an object-orientated language, and as \n",
    "such it uses classes to define data types,\n",
    "including its primitive types."
   ]
  },
  {
   "cell_type": "code",
   "execution_count": null,
   "id": "5f117c1f-4bda-4087-b545-3ceefdb048d3",
   "metadata": {},
   "outputs": [],
   "source": [
    "1.int() - constructs an integer number from an integer literal, a float literal (by removing all decimals), or a string literal (providing the string represents a whole number)\n",
    "2.float() - constructs a float number from an integer literal, a float literal or a string literal (providing the string represents a float or an integer)\n",
    "3.str() - constructs a string from a wide variety of data types, including strings, integer literals and float literals"
   ]
  },
  {
   "cell_type": "code",
   "execution_count": 162,
   "id": "fdfb2a16-e306-4e35-b4dd-527cd512a2e9",
   "metadata": {},
   "outputs": [
    {
     "name": "stdout",
     "output_type": "stream",
     "text": [
      "1\n",
      "2\n",
      "3\n"
     ]
    }
   ],
   "source": [
    "1.int\n",
    "x = int(1) # x will be 1\n",
    "y = int(2.8) # y will be 2\n",
    "z = int(\"3\")# z will be 3\n",
    "print(x)\n",
    "print(y)\n",
    "print(z)"
   ]
  },
  {
   "cell_type": "code",
   "execution_count": 164,
   "id": "a774ff06-33ed-4315-8e04-8c895bb4a953",
   "metadata": {},
   "outputs": [
    {
     "name": "stdout",
     "output_type": "stream",
     "text": [
      "1.0\n",
      "2.8\n",
      "3.0\n",
      "4.2\n"
     ]
    }
   ],
   "source": [
    "\"\"\"2.float\"\"\"\n",
    "x = float(1)     # x will be 1.0\n",
    "y = float(2.8)   # y will be 2.8\n",
    "z = float(\"3\")   # z will be 3.0\n",
    "w = float(\"4.2\") # w will be 4.2\n",
    "print(x)\n",
    "print(y)\n",
    "print(z)\n",
    "print(w)"
   ]
  },
  {
   "cell_type": "code",
   "execution_count": 166,
   "id": "fbe761c0-2c20-415f-ae9b-5f26c97b4c60",
   "metadata": {},
   "outputs": [
    {
     "name": "stdout",
     "output_type": "stream",
     "text": [
      "s1\n",
      "2\n",
      "3.0\n"
     ]
    }
   ],
   "source": [
    "\"\"\"3.strings\"\"\"\n",
    "x = str(\"s1\") # x will be 's1'\n",
    "y = str(2)    # y will be '2'\n",
    "z = str(3.0)  # z will be '3.0'\n",
    "print(x)\n",
    "print(y)\n",
    "print(z)"
   ]
  },
  {
   "cell_type": "code",
   "execution_count": null,
   "id": "04eee14a-c997-4d28-995d-5542ea44c4b3",
   "metadata": {},
   "outputs": [],
   "source": []
  },
  {
   "cell_type": "code",
   "execution_count": null,
   "id": "f240d9c0-a724-41bb-bb3b-2747e3d84fdd",
   "metadata": {},
   "outputs": [],
   "source": []
  },
  {
   "cell_type": "code",
   "execution_count": null,
   "id": "cf01613d-f804-4d4f-b790-8b2864febd71",
   "metadata": {},
   "outputs": [],
   "source": []
  },
  {
   "cell_type": "code",
   "execution_count": null,
   "id": "3365f122-35e1-498b-b8da-417fa842128a",
   "metadata": {},
   "outputs": [],
   "source": []
  },
  {
   "cell_type": "code",
   "execution_count": null,
   "id": "5a87ef31-1a10-4783-b729-6c92d8d97e2f",
   "metadata": {},
   "outputs": [],
   "source": []
  },
  {
   "cell_type": "code",
   "execution_count": null,
   "id": "5c7dc7b3-c794-4864-aa79-959f92665ecc",
   "metadata": {},
   "outputs": [],
   "source": []
  },
  {
   "cell_type": "code",
   "execution_count": null,
   "id": "e3be0cd0-5212-45a8-83b2-0c200e42e5a3",
   "metadata": {},
   "outputs": [],
   "source": []
  },
  {
   "cell_type": "code",
   "execution_count": null,
   "id": "4f8f9526-c949-4c6f-8226-296cb79aed0f",
   "metadata": {},
   "outputs": [],
   "source": []
  },
  {
   "cell_type": "code",
   "execution_count": null,
   "id": "8ea300d5-4ca8-4dd9-ba65-aa3df77b1e28",
   "metadata": {},
   "outputs": [],
   "source": []
  },
  {
   "cell_type": "code",
   "execution_count": null,
   "id": "8d3c5b28-a9fe-4ab0-9a1a-15f8c43bbf6b",
   "metadata": {},
   "outputs": [],
   "source": []
  },
  {
   "cell_type": "code",
   "execution_count": null,
   "id": "b9641c33-e402-4abf-b7b7-748a567e4e62",
   "metadata": {},
   "outputs": [],
   "source": []
  },
  {
   "cell_type": "code",
   "execution_count": null,
   "id": "3e8733ed-003f-4e46-b3d4-8ad123c06573",
   "metadata": {},
   "outputs": [],
   "source": []
  },
  {
   "cell_type": "code",
   "execution_count": null,
   "id": "1391c605-3254-4498-9fce-1a8b1a69c7cb",
   "metadata": {},
   "outputs": [],
   "source": []
  },
  {
   "cell_type": "code",
   "execution_count": null,
   "id": "e108fd82-9548-4894-86b6-5626fb91e942",
   "metadata": {},
   "outputs": [],
   "source": []
  },
  {
   "cell_type": "code",
   "execution_count": null,
   "id": "214b8c2b-4d69-4fd5-9d68-c4d7f1a3b56f",
   "metadata": {},
   "outputs": [],
   "source": []
  },
  {
   "cell_type": "code",
   "execution_count": null,
   "id": "d4c1d977-25dc-4ad6-8c1b-e6ce8e6dc934",
   "metadata": {},
   "outputs": [],
   "source": []
  },
  {
   "cell_type": "code",
   "execution_count": null,
   "id": "c19f4170-2eae-496a-a7e4-ba5d9be13b05",
   "metadata": {},
   "outputs": [],
   "source": []
  },
  {
   "cell_type": "code",
   "execution_count": null,
   "id": "8db8c008-3e59-41c0-97bd-ad0b8bd12e7d",
   "metadata": {},
   "outputs": [],
   "source": []
  },
  {
   "cell_type": "code",
   "execution_count": null,
   "id": "afcd9483-dde9-49e8-a5b9-df8c254a6ede",
   "metadata": {},
   "outputs": [],
   "source": []
  },
  {
   "cell_type": "code",
   "execution_count": null,
   "id": "37c4f792-e777-4ad8-a54d-311207e6f2c2",
   "metadata": {},
   "outputs": [],
   "source": []
  },
  {
   "cell_type": "code",
   "execution_count": null,
   "id": "60d1512d-3406-48ea-9c3a-7f54f35a88e5",
   "metadata": {},
   "outputs": [],
   "source": []
  },
  {
   "cell_type": "code",
   "execution_count": null,
   "id": "7aeac0ed-6e33-4cf2-a530-e651272ce631",
   "metadata": {},
   "outputs": [],
   "source": []
  },
  {
   "cell_type": "code",
   "execution_count": null,
   "id": "af9bafea-7c78-4f56-9de4-b731c8792b59",
   "metadata": {},
   "outputs": [],
   "source": []
  },
  {
   "cell_type": "code",
   "execution_count": null,
   "id": "bee8f5c2-75c4-4b03-a9fc-be4bda9200fa",
   "metadata": {},
   "outputs": [],
   "source": []
  },
  {
   "cell_type": "code",
   "execution_count": null,
   "id": "b3f79617-d31f-4ad6-aa86-0e5b567a4361",
   "metadata": {},
   "outputs": [],
   "source": []
  },
  {
   "cell_type": "code",
   "execution_count": null,
   "id": "cf0b585e-db85-429e-920f-a0c67b3f6a70",
   "metadata": {},
   "outputs": [],
   "source": []
  },
  {
   "cell_type": "code",
   "execution_count": null,
   "id": "5704b2e7-5022-47c7-a6c4-0011dea29ee7",
   "metadata": {},
   "outputs": [],
   "source": []
  },
  {
   "cell_type": "code",
   "execution_count": null,
   "id": "cfbe007a-6b67-471c-b048-fc6a340fec30",
   "metadata": {},
   "outputs": [],
   "source": []
  },
  {
   "cell_type": "code",
   "execution_count": null,
   "id": "6255785a-46ba-446f-a75d-c1752eb890b8",
   "metadata": {},
   "outputs": [],
   "source": []
  },
  {
   "cell_type": "code",
   "execution_count": null,
   "id": "570a6f6a-fda3-4c2b-8745-fee77e986139",
   "metadata": {},
   "outputs": [],
   "source": []
  },
  {
   "cell_type": "code",
   "execution_count": null,
   "id": "71bcbeca-9eaf-4df2-bc1f-fe22bbe57064",
   "metadata": {},
   "outputs": [],
   "source": []
  },
  {
   "cell_type": "code",
   "execution_count": null,
   "id": "b056ced4-4971-42a8-86a4-3cebb7ad837e",
   "metadata": {},
   "outputs": [],
   "source": []
  },
  {
   "cell_type": "code",
   "execution_count": null,
   "id": "7eb0a12d-dec5-4949-b1e1-355a8e78aed3",
   "metadata": {},
   "outputs": [],
   "source": []
  },
  {
   "cell_type": "code",
   "execution_count": null,
   "id": "d6993218-bf76-4fa2-8499-77d444043fe5",
   "metadata": {},
   "outputs": [],
   "source": []
  },
  {
   "cell_type": "code",
   "execution_count": null,
   "id": "e754d6cc-d5a0-40d6-8cc0-0813450293c7",
   "metadata": {},
   "outputs": [],
   "source": []
  },
  {
   "cell_type": "code",
   "execution_count": null,
   "id": "db5df151-ab8f-4196-93e8-186eb1e74703",
   "metadata": {},
   "outputs": [],
   "source": []
  },
  {
   "cell_type": "code",
   "execution_count": null,
   "id": "7ce52af8-beae-43ad-8fa4-563d6b4d9c23",
   "metadata": {},
   "outputs": [],
   "source": []
  },
  {
   "cell_type": "code",
   "execution_count": null,
   "id": "331800d2-42be-4c42-a369-eab3db6797d3",
   "metadata": {},
   "outputs": [],
   "source": []
  },
  {
   "cell_type": "code",
   "execution_count": null,
   "id": "cbb5981c-833e-4caf-96d1-dd2ad433175b",
   "metadata": {},
   "outputs": [],
   "source": []
  },
  {
   "cell_type": "code",
   "execution_count": null,
   "id": "402448b5-ee68-46a6-9787-09a9f455775d",
   "metadata": {},
   "outputs": [],
   "source": []
  },
  {
   "cell_type": "code",
   "execution_count": null,
   "id": "223082c1-899d-4a25-8106-b3f0af950f3e",
   "metadata": {},
   "outputs": [],
   "source": []
  },
  {
   "cell_type": "code",
   "execution_count": null,
   "id": "b884d617-fe5b-40c8-b54d-8119842560ab",
   "metadata": {},
   "outputs": [],
   "source": []
  },
  {
   "cell_type": "code",
   "execution_count": null,
   "id": "369fd1aa-da8d-4c7d-8660-18eb78a635e2",
   "metadata": {},
   "outputs": [],
   "source": []
  },
  {
   "cell_type": "code",
   "execution_count": null,
   "id": "df2afaa6-9053-4dee-b110-eb980eee9725",
   "metadata": {},
   "outputs": [],
   "source": []
  },
  {
   "cell_type": "code",
   "execution_count": null,
   "id": "39d539d2-1823-464e-98d0-3eb7454dc222",
   "metadata": {},
   "outputs": [],
   "source": []
  },
  {
   "cell_type": "code",
   "execution_count": null,
   "id": "e10618a6-1da6-40a6-a67e-25ae6c6a6b00",
   "metadata": {},
   "outputs": [],
   "source": []
  },
  {
   "cell_type": "code",
   "execution_count": null,
   "id": "12e305b2-7bf3-4163-bc49-dea776cc2a71",
   "metadata": {},
   "outputs": [],
   "source": []
  },
  {
   "cell_type": "code",
   "execution_count": null,
   "id": "b672f1ee-4cb4-45af-8dfc-293a389fe78e",
   "metadata": {},
   "outputs": [],
   "source": []
  },
  {
   "cell_type": "code",
   "execution_count": null,
   "id": "8d78f319-cd89-478a-bb1f-e2a978e8d58b",
   "metadata": {},
   "outputs": [],
   "source": []
  }
 ],
 "metadata": {
  "kernelspec": {
   "display_name": "Python 3 (ipykernel)",
   "language": "python",
   "name": "python3"
  },
  "language_info": {
   "codemirror_mode": {
    "name": "ipython",
    "version": 3
   },
   "file_extension": ".py",
   "mimetype": "text/x-python",
   "name": "python",
   "nbconvert_exporter": "python",
   "pygments_lexer": "ipython3",
   "version": "3.12.4"
  }
 },
 "nbformat": 4,
 "nbformat_minor": 5
}
