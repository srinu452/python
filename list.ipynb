{
 "cells": [
  {
   "cell_type": "code",
   "execution_count": null,
   "id": "b0b55fed-c8aa-4dac-9878-a6531d4d96f5",
   "metadata": {},
   "outputs": [],
   "source": [
    "'''Lists'''"
   ]
  },
  {
   "cell_type": "code",
   "execution_count": 1,
   "id": "e0f8903b-8cc6-4a5f-8a1e-e80a8f79b2da",
   "metadata": {},
   "outputs": [
    {
     "name": "stdout",
     "output_type": "stream",
     "text": [
      "['string', 'int', 'complex', 'tuples', {'sets'}]\n"
     ]
    }
   ],
   "source": [
    "mylist=[\"string\",\"int\",\"complex\",(\"tuples\"),{\"sets\"}]\n",
    "print(mylist)"
   ]
  },
  {
   "cell_type": "code",
   "execution_count": null,
   "id": "0e8292dc-0659-415f-af9b-64079c24dc1d",
   "metadata": {},
   "outputs": [],
   "source": [
    "Lists are used to store multiple items in a single varaible\n",
    "List are created using square brackets"
   ]
  },
  {
   "cell_type": "code",
   "execution_count": 3,
   "id": "357dabe2-c659-4f4d-b766-fbbae25db096",
   "metadata": {},
   "outputs": [
    {
     "name": "stdout",
     "output_type": "stream",
     "text": [
      "['apple', 'banana', 'cherry']\n"
     ]
    }
   ],
   "source": [
    "thislist=[\"apple\",\"banana\",\"cherry\"]\n",
    "print(thislist)"
   ]
  },
  {
   "cell_type": "code",
   "execution_count": null,
   "id": "27cf40ae-5876-4158-9b79-90a829942838",
   "metadata": {},
   "outputs": [],
   "source": [
    "List are:\n",
    "1.ordered\n",
    "2.mutable(changing)\n",
    "3.allow duplicates"
   ]
  },
  {
   "cell_type": "code",
   "execution_count": null,
   "id": "b51a2f75-6cda-4bf8-bdef-8d0c2b9476b0",
   "metadata": {},
   "outputs": [],
   "source": [
    "List items are indexed starting with[0],[1]..."
   ]
  },
  {
   "cell_type": "code",
   "execution_count": 27,
   "id": "d15e3ed8-82a6-4333-80fc-a99e7ccaf765",
   "metadata": {},
   "outputs": [],
   "source": [
    "1.Ordered \n",
    "means List have specified order and that order wil not change \n",
    "if we add any new value it will add at end "
   ]
  },
  {
   "cell_type": "code",
   "execution_count": null,
   "id": "616e1fac-c41e-4958-b903-b3458b9d740b",
   "metadata": {},
   "outputs": [],
   "source": [
    "2.Mutable(changeable)\n",
    "the list are changeable means we can remove and add and items in alist after it has been created"
   ]
  },
  {
   "cell_type": "code",
   "execution_count": null,
   "id": "d87a8749-674d-41de-8f0a-e9b1f1afce28",
   "metadata": {},
   "outputs": [],
   "source": [
    "3.Allow Duplicates\n",
    "Since lists are indexed, lists can have items with the same value:"
   ]
  },
  {
   "cell_type": "code",
   "execution_count": 29,
   "id": "1b2ffcb5-fca3-407e-8c11-206bf7a67c6a",
   "metadata": {},
   "outputs": [
    {
     "data": {
      "text/plain": [
       "['apple', 'banana', 'cherry', 'dolly']"
      ]
     },
     "execution_count": 29,
     "metadata": {},
     "output_type": "execute_result"
    }
   ],
   "source": [
    "thislist=[\"apple\",\"banana\",\"cherry\",\"dolly\"]\n",
    "thislist"
   ]
  },
  {
   "cell_type": "code",
   "execution_count": null,
   "id": "f8887469-ff86-4c9c-b29b-351b3a3d5c57",
   "metadata": {},
   "outputs": [],
   "source": [
    "4.list length\n",
    "to deteramine the length of the list can we measure with len()function:"
   ]
  },
  {
   "cell_type": "code",
   "execution_count": 35,
   "id": "5ca705fb-a3df-4d96-899a-7948f27e4bb2",
   "metadata": {},
   "outputs": [
    {
     "name": "stdout",
     "output_type": "stream",
     "text": [
      "4\n"
     ]
    }
   ],
   "source": [
    "thislist=[\"apple\",\"banana\",\"cherry\",\"dolly\"]\n",
    "print(len(thislist))"
   ]
  },
  {
   "cell_type": "code",
   "execution_count": null,
   "id": "6bfb8146-bb25-4b22-9de2-626e1cf5842f",
   "metadata": {},
   "outputs": [],
   "source": [
    "5.List Items - Data Types\n",
    "lists can be have any data types:"
   ]
  },
  {
   "cell_type": "code",
   "execution_count": null,
   "id": "994e5e91-1d2b-47da-a7c0-a996541c950a",
   "metadata": {},
   "outputs": [],
   "source": [
    "strings,int,complex,boolean data types:\n"
   ]
  },
  {
   "cell_type": "code",
   "execution_count": 37,
   "id": "f56fccd4-a5da-4cae-b767-e36e9c2eba71",
   "metadata": {},
   "outputs": [
    {
     "name": "stdout",
     "output_type": "stream",
     "text": [
      "['apple', 'banana', 'cherry'] [12, 32, 3, 2, 4, 4, 4, 2, 2] [12.23, 12.23] [(12+2j)] [True, False]\n"
     ]
    }
   ],
   "source": [
    "L1=[\"apple\",\"banana\",\"cherry\"]\n",
    "L2=[12,32,3,2,4,4,4,2,2]\n",
    "L3=[12.23,12.23]\n",
    "L4=[12+2j]\n",
    "L5=[True,False]\n",
    "print(L1,L2,L3,L4,L5)"
   ]
  },
  {
   "cell_type": "code",
   "execution_count": null,
   "id": "62ff65f3-3910-414f-9be3-49050afa33da",
   "metadata": {},
   "outputs": [],
   "source": [
    "A list can contain different data types:"
   ]
  },
  {
   "cell_type": "code",
   "execution_count": 53,
   "id": "d1be473d-9a3f-4b7c-a8fc-a960bb45ff58",
   "metadata": {},
   "outputs": [
    {
     "data": {
      "text/plain": [
       "['str', 12, (12+2j), tuple, {set}, {dict: 12}]"
      ]
     },
     "execution_count": 53,
     "metadata": {},
     "output_type": "execute_result"
    }
   ],
   "source": [
    "l1=[\"str\",12,12+2j,(tuple),{set},{dict:12}]\n",
    "l1"
   ]
  },
  {
   "cell_type": "code",
   "execution_count": 57,
   "id": "26a3a47f-7948-4d34-971b-4c6951032690",
   "metadata": {},
   "outputs": [
    {
     "name": "stdout",
     "output_type": "stream",
     "text": [
      "<class 'list'>\n"
     ]
    }
   ],
   "source": [
    "7.type()\n",
    "l1=[\"str\",12,12+2j,(tuple),{set},{dict:12}]\n",
    "print(type(l1))"
   ]
  },
  {
   "cell_type": "code",
   "execution_count": null,
   "id": "e8a29378-9f88-41c3-be49-a48b555f1caf",
   "metadata": {},
   "outputs": [],
   "source": [
    "8.List() constructer\n",
    "It is Possible to use the list() construter when creating a new list"
   ]
  },
  {
   "cell_type": "code",
   "execution_count": null,
   "id": "9c28b93e-c2cc-4bce-a32d-b93c4a1ca651",
   "metadata": {},
   "outputs": [],
   "source": [
    "Using the list() constructor to make a List:"
   ]
  },
  {
   "cell_type": "code",
   "execution_count": 59,
   "id": "de315a72-ab44-4db5-900f-cacddc2193f5",
   "metadata": {},
   "outputs": [
    {
     "name": "stdout",
     "output_type": "stream",
     "text": [
      "['apple', 'banana', 'grapes']\n"
     ]
    }
   ],
   "source": [
    "l1=list((\"apple\",\"banana\",\"grapes\")) # note the double round-brackets\n",
    "print(l1)"
   ]
  },
  {
   "cell_type": "code",
   "execution_count": null,
   "id": "d1fe4aa8-2f3e-4d1d-802d-14ef8c1122f7",
   "metadata": {},
   "outputs": [],
   "source": [
    "9.Access List Items"
   ]
  },
  {
   "cell_type": "code",
   "execution_count": null,
   "id": "4fb31a0a-5ad2-4923-a306-254e8ebcdae1",
   "metadata": {},
   "outputs": [],
   "source": [
    "List of items are indexed that means yiu can get with mentioning their index number"
   ]
  },
  {
   "cell_type": "code",
   "execution_count": 65,
   "id": "cb167edc-2aa1-472e-9d1b-157e9f793861",
   "metadata": {},
   "outputs": [
    {
     "name": "stdout",
     "output_type": "stream",
     "text": [
      "srinu\n",
      "vasu\n",
      "12\n",
      "(12+7j)\n"
     ]
    }
   ],
   "source": [
    "list1=[\"srinu\",\"vasu\",12,12+7j] #Index starts with 0\n",
    "print(list1[0])\n",
    "print(list1[1])\n",
    "print(list1[2])\n",
    "print(list1[3])"
   ]
  },
  {
   "cell_type": "code",
   "execution_count": null,
   "id": "7623c4bf-e377-4336-9cb3-05ced8a986fb",
   "metadata": {},
   "outputs": [],
   "source": [
    "'''Negative Indexing"
   ]
  },
  {
   "cell_type": "code",
   "execution_count": null,
   "id": "fb82f20a-4ebc-401a-99bf-1be18dd86ecb",
   "metadata": {},
   "outputs": [],
   "source": [
    "you can give negative indexing also to get values from the end of list"
   ]
  },
  {
   "cell_type": "code",
   "execution_count": 71,
   "id": "35c065e4-df43-4c37-98e8-103d1d4b03ec",
   "metadata": {},
   "outputs": [
    {
     "name": "stdout",
     "output_type": "stream",
     "text": [
      "(12+7j)\n",
      "12\n",
      "vasu\n"
     ]
    }
   ],
   "source": [
    "list1=[\"srinu\",\"vasu\",12,12+7j] #index starts with -1\n",
    "print(list1[-1])\n",
    "print(list1[-2])\n",
    "print(list1[-3])\n"
   ]
  },
  {
   "cell_type": "code",
   "execution_count": null,
   "id": "05b4aed0-bb68-43ef-b27b-7d45e4d7f607",
   "metadata": {},
   "outputs": [],
   "source": [
    "'''Range of indexs"
   ]
  },
  {
   "cell_type": "code",
   "execution_count": null,
   "id": "98665570-c4e3-4be6-806d-6ba8a67d8af9",
   "metadata": {},
   "outputs": [],
   "source": [
    "you can specify a range of indexe by specifiying where to start and where to end the range"
   ]
  },
  {
   "cell_type": "code",
   "execution_count": 75,
   "id": "fc4887fa-c77f-441a-8a48-008b2ba22492",
   "metadata": {},
   "outputs": [
    {
     "name": "stdout",
     "output_type": "stream",
     "text": [
      "['cherry', 'orange', 'kiwi']\n",
      "['cherry']\n"
     ]
    }
   ],
   "source": [
    "l2 = [\"apple\", \"banana\", \"cherry\", \"orange\", \"kiwi\", \"melon\", \"mango\"]\n",
    "print(l2[2:5]) #end=end-1\n",
    "print(l2[2:3])"
   ]
  },
  {
   "cell_type": "code",
   "execution_count": 77,
   "id": "741f1e3d-2cab-4027-b848-594363c5b12b",
   "metadata": {},
   "outputs": [
    {
     "name": "stdout",
     "output_type": "stream",
     "text": [
      "['apple', 'banana', 'cherry', 'orange']\n"
     ]
    }
   ],
   "source": [
    "#By leaving out the start value, the range will start at the first item:\n",
    "\n",
    "thislist = [\"apple\", \"banana\", \"cherry\", \"orange\", \"kiwi\", \"melon\", \"mango\"]\n",
    "print(thislist[:4])\n",
    "\n"
   ]
  },
  {
   "cell_type": "code",
   "execution_count": 79,
   "id": "22ef68e4-5a4e-43b6-9ce9-61e60f816f0a",
   "metadata": {},
   "outputs": [
    {
     "name": "stdout",
     "output_type": "stream",
     "text": [
      "['cherry', 'orange', 'kiwi', 'melon', 'mango']\n"
     ]
    }
   ],
   "source": [
    "# By leaving out the end value, the range will go on to the end of the list:\n",
    "thislist = [\"apple\", \"banana\", \"cherry\", \"orange\", \"kiwi\", \"melon\", \"mango\"]\n",
    "print(thislist[2:])\n"
   ]
  },
  {
   "cell_type": "code",
   "execution_count": null,
   "id": "8f12e482-1883-46b8-96be-6f9854b23a1a",
   "metadata": {},
   "outputs": [],
   "source": [
    "'''Range of Negative Indexes"
   ]
  },
  {
   "cell_type": "code",
   "execution_count": null,
   "id": "9bb15383-2bc7-4ef2-9c77-d957ac33ae4c",
   "metadata": {},
   "outputs": [],
   "source": [
    "Specify negative indexes if you want to start the search from the end of the list:"
   ]
  },
  {
   "cell_type": "code",
   "execution_count": 91,
   "id": "122192aa-0657-40eb-a5da-81008f313388",
   "metadata": {},
   "outputs": [
    {
     "name": "stdout",
     "output_type": "stream",
     "text": [
      "['orange', 'kiwi', 'melon']\n"
     ]
    }
   ],
   "source": [
    "thislist = [\"apple\", \"banana\", \"cherry\", \"orange\", \"kiwi\", \"melon\", \"mango\"]\n",
    "print(thislist[-4:-1])"
   ]
  },
  {
   "cell_type": "code",
   "execution_count": null,
   "id": "4b25ac48-3953-4327-99f6-3efdfd989490",
   "metadata": {},
   "outputs": [],
   "source": [
    "'''Check if Item Exists"
   ]
  },
  {
   "cell_type": "code",
   "execution_count": 95,
   "id": "cd37b68c-e4c1-4357-809b-94c85192e027",
   "metadata": {},
   "outputs": [
    {
     "name": "stdout",
     "output_type": "stream",
     "text": [
      "Yes,'apple' is present in the llist\n"
     ]
    }
   ],
   "source": [
    "l1=[\"apple\",\"banana\",\"cherry\"]\n",
    "if \"apple\" in l1:\n",
    "    print(\"Yes,'apple' is present in the llist\")"
   ]
  },
  {
   "cell_type": "code",
   "execution_count": null,
   "id": "e2cbfa9e-cb8e-435d-a9e2-2ff7b6b9263b",
   "metadata": {},
   "outputs": [],
   "source": [
    "11.Change List Items\n",
    "To change the value pf a specific item ,refer to the index number"
   ]
  },
  {
   "cell_type": "code",
   "execution_count": 99,
   "id": "ca11d655-eadf-4adb-9195-b54045dbab33",
   "metadata": {},
   "outputs": [
    {
     "name": "stdout",
     "output_type": "stream",
     "text": [
      "['srinu', 'vasu', '21']\n"
     ]
    }
   ],
   "source": [
    "list1=[\"srinu\",\"vasu\",\"21bj1a4403\"]\n",
    "list1[2]=\"21\"\n",
    "print(list1)"
   ]
  },
  {
   "cell_type": "code",
   "execution_count": null,
   "id": "1073a363-726a-460a-80d9-43e831fe5670",
   "metadata": {},
   "outputs": [],
   "source": [
    "'''Change a Range of Item Values\n",
    "To change the value of items within a specific range ,define a lsit with the new \n",
    "values and refer to the range of index numbers where you want to insert new values\n"
   ]
  },
  {
   "cell_type": "code",
   "execution_count": 111,
   "id": "20e769dd-d87c-40f9-a4ba-ad5ed26b42f9",
   "metadata": {},
   "outputs": [
    {
     "name": "stdout",
     "output_type": "stream",
     "text": [
      "['apple', 'blackcurrant', 'watermelon', 'kiwi', 'mango']\n"
     ]
    }
   ],
   "source": [
    "# Change the values \"banana\" and \"cherry\" with the values \"blackcurrant\" and \"watermelon\":\n",
    "\n",
    "list = [\"apple\", \"banana\", \"cherry\", \"orange\", \"kiwi\", \"mango\"]\n",
    "list[1:3] = [\"blackcurrant\", \"watermelon\"]\n",
    "print(list)"
   ]
  },
  {
   "cell_type": "code",
   "execution_count": 113,
   "id": "c6fd12ec-ff02-45a9-84ad-6c42a56209f1",
   "metadata": {},
   "outputs": [
    {
     "name": "stdout",
     "output_type": "stream",
     "text": [
      "['apple', 'blackcurrant', 'watermelon', 'kiwi', 'mango']\n"
     ]
    }
   ],
   "source": [
    "\n",
    "list = [\"apple\", \"banana\", \"cherry\", \"orange\", \"kiwi\", \"mango\"]\n",
    "list[1:4] = [\"blackcurrant\", \"watermelon\"]\n",
    "print(list)#in the range 1 to 4 take both values"
   ]
  },
  {
   "cell_type": "code",
   "execution_count": 115,
   "id": "a7481740-4bad-464d-8e59-09e8de958412",
   "metadata": {},
   "outputs": [
    {
     "name": "stdout",
     "output_type": "stream",
     "text": [
      "['apple', 'blackcurrant', 'watermelon', 'cherry', 'orange', 'kiwi', 'mango']\n"
     ]
    }
   ],
   "source": [
    "\n",
    "list = [\"apple\", \"banana\", \"cherry\", \"orange\", \"kiwi\", \"mango\"]\n",
    "list[1:2] = [\"blackcurrant\", \"watermelon\"]\n",
    "print(list)#replace in 1st index with 2 values"
   ]
  },
  {
   "cell_type": "code",
   "execution_count": null,
   "id": "bc05c7cd-fab0-4dcf-840a-a5bffba59d7e",
   "metadata": {},
   "outputs": [],
   "source": [
    "12.insert Items\n",
    "To insert a new list item,without replacing any of the  existing values we can use the insert() method\n",
    "The insert() method inserts an item at the specified index:"
   ]
  },
  {
   "cell_type": "code",
   "execution_count": 127,
   "id": "7d7a1740-4c48-421d-80c2-355eccac5ac5",
   "metadata": {},
   "outputs": [
    {
     "name": "stdout",
     "output_type": "stream",
     "text": [
      "['apple', 'grapes', 'juice', 'banana']\n"
     ]
    }
   ],
   "source": [
    "l1=[\"apple\",\"juice\",\"banana\"]\n",
    "l1.insert(1,\"grapes\")\n",
    "#  just adding not replacing\n",
    "print(l1)"
   ]
  },
  {
   "cell_type": "code",
   "execution_count": 133,
   "id": "c54eaa26-4c06-4603-a1cf-f3bab68c1876",
   "metadata": {},
   "outputs": [
    {
     "name": "stdout",
     "output_type": "stream",
     "text": [
      "['apple', 'grapes', 'juice', 'I love', 'I love', 'banana', 'I love']\n"
     ]
    }
   ],
   "source": [
    "l1.insert(6,\"I love\")\n",
    "print(l1)"
   ]
  },
  {
   "cell_type": "code",
   "execution_count": null,
   "id": "fa2cea59-c9b4-46d0-8b58-abbf1d4b9c4c",
   "metadata": {},
   "outputs": [],
   "source": []
  },
  {
   "cell_type": "code",
   "execution_count": null,
   "id": "3b7098ea-99f4-410b-992a-9d7ea2041c41",
   "metadata": {},
   "outputs": [],
   "source": [
    "13.add list items\n",
    "to add the item at the end of the list,use append() method:"
   ]
  },
  {
   "cell_type": "code",
   "execution_count": 139,
   "id": "aac5f692-3d26-436b-a0f7-279e8b19ddd9",
   "metadata": {},
   "outputs": [
    {
     "name": "stdout",
     "output_type": "stream",
     "text": [
      "['apple', 'grapes', 'juice', 'I love', 'I love', 'banana', 'I love', 'i hate yoou']\n"
     ]
    }
   ],
   "source": [
    "l1=['apple', 'grapes', 'juice', 'I love', 'I love', 'banana', 'I love']\n",
    "l1.append(\"i hate yoou\")\n",
    "print(l1)"
   ]
  },
  {
   "cell_type": "code",
   "execution_count": null,
   "id": "cc193b26-a6c2-4a02-9dee-28387f162c82",
   "metadata": {},
   "outputs": [],
   "source": []
  },
  {
   "cell_type": "code",
   "execution_count": null,
   "id": "599cbb50-9328-4577-ab50-e48f6344e727",
   "metadata": {},
   "outputs": [],
   "source": [
    "14.extend list\n",
    "to add or append the another list of items we use extend()method:"
   ]
  },
  {
   "cell_type": "code",
   "execution_count": 141,
   "id": "04fd906a-f36c-4e7d-915b-15bf87917a33",
   "metadata": {},
   "outputs": [
    {
     "name": "stdout",
     "output_type": "stream",
     "text": [
      "['apple', 'grapes', 'juice', 'I love', 'I love', 'banana', 'I love', 'elephent', 'dog', 12]\n"
     ]
    }
   ],
   "source": [
    "l1=['apple', 'grapes', 'juice', 'I love', 'I love', 'banana', 'I love']\n",
    "l2=[\"elephent\",\"dog\",12]\n",
    "l1.extend(l2)\n",
    "print(l1)#The elements will be added to the end of the list."
   ]
  },
  {
   "cell_type": "code",
   "execution_count": null,
   "id": "1519d587-3ebd-420e-a89e-6694d510c663",
   "metadata": {},
   "outputs": [],
   "source": [
    "'''Add Any Iterable\n",
    "means we can append any type of avlues like tuple,dict,set"
   ]
  },
  {
   "cell_type": "code",
   "execution_count": 147,
   "id": "6309a81e-6a41-4d9e-89a3-bee454ddca6c",
   "metadata": {},
   "outputs": [
    {
     "name": "stdout",
     "output_type": "stream",
     "text": [
      "['apple', 'grapes', 'juice', 'I love', 'I love', 'banana', 'I love', 'elephent', 'dog', 12, 'mylove', 'srinu']\n"
     ]
    }
   ],
   "source": [
    "l1=['apple', 'grapes', 'juice', 'I love', 'I love', 'banana', 'I love']\n",
    "l2=(\"elephent\",\"dog\",12)\n",
    "l3={\"mylove\"}\n",
    "l4={'srinu':13}\n",
    "l1.extend(l2)\n",
    "l1.extend(l3)\n",
    "l1.extend(l4)\n",
    "print(l1)"
   ]
  },
  {
   "cell_type": "code",
   "execution_count": null,
   "id": "38f11d17-5e02-4ab4-a671-c686fef5a83c",
   "metadata": {},
   "outputs": [],
   "source": [
    "15.Remove List Items\n",
    "The remove() method removes the item #mentioning values"
   ]
  },
  {
   "cell_type": "code",
   "execution_count": 155,
   "id": "35e6c73d-b0d8-4328-96fa-ad4f54d1d1c7",
   "metadata": {},
   "outputs": [
    {
     "name": "stdout",
     "output_type": "stream",
     "text": [
      "['grapes', 'juice', 'I love', 'I love', 'banana', 'I love', 'elephent', 'dog', 12, 'mylove', 'srinu']\n"
     ]
    }
   ],
   "source": [
    "l1=['apple', 'grapes', 'juice', 'I love', 'I love', 'banana', 'I love', 'elephent', 'dog', 12, 'mylove', 'srinu']\n",
    "l1.remove(\"apple\")\n",
    "print(l1)"
   ]
  },
  {
   "cell_type": "code",
   "execution_count": null,
   "id": "b5fda955-49ab-4d95-a9ce-722cd25a77c7",
   "metadata": {},
   "outputs": [],
   "source": [
    "If there are more than one item with the specified value, the remove() method removes the first occurrence:"
   ]
  },
  {
   "cell_type": "code",
   "execution_count": 159,
   "id": "f4c96ff7-4480-44f8-b05b-2f0ca72282a0",
   "metadata": {},
   "outputs": [
    {
     "name": "stdout",
     "output_type": "stream",
     "text": [
      "['grapes', 'juice', 'I love', 'banana', 'I love', 'elephent', 'dog', 12, 'mylove', 'srinu']\n"
     ]
    }
   ],
   "source": [
    "l1.remove(\"I love\")\n",
    "print(l1)"
   ]
  },
  {
   "cell_type": "code",
   "execution_count": null,
   "id": "2519f2b3-3808-4991-bbfa-82fa7649d445",
   "metadata": {},
   "outputs": [],
   "source": []
  },
  {
   "cell_type": "code",
   "execution_count": null,
   "id": "a58773a6-5075-4af9-9aee-9b2649904b36",
   "metadata": {},
   "outputs": [],
   "source": [
    "15.pop() :using this we can remove the elements index wise"
   ]
  },
  {
   "cell_type": "code",
   "execution_count": 161,
   "id": "fa094a74-411d-4be4-97f0-5fa5ac7dfa9f",
   "metadata": {},
   "outputs": [
    {
     "name": "stdout",
     "output_type": "stream",
     "text": [
      "['juice', 'I love', 'banana', 'I love', 'elephent', 'dog', 12, 'mylove', 'srinu']\n"
     ]
    }
   ],
   "source": [
    "l1=['grapes', 'juice', 'I love', 'banana', 'I love', 'elephent', 'dog', 12, 'mylove', 'srinu']\n",
    "l1.pop(0) #index \n",
    "print(l1)"
   ]
  },
  {
   "cell_type": "code",
   "execution_count": 165,
   "id": "c8e527b9-fc26-45f9-834d-369ef3c9bd0e",
   "metadata": {},
   "outputs": [
    {
     "name": "stdout",
     "output_type": "stream",
     "text": [
      "['juice', 'I love', 'banana', 'I love', 'elephent', 'dog', 12, 'mylove']\n"
     ]
    }
   ],
   "source": [
    "# If you do not specify the index, the pop() method removes the last item.\n",
    "l1.pop()\n",
    "print(l1)"
   ]
  },
  {
   "cell_type": "code",
   "execution_count": null,
   "id": "da9fc8b1-aa2b-4848-b37e-6975802221d6",
   "metadata": {},
   "outputs": [],
   "source": [
    "16.del keyword also removes the index:\n",
    "del.variable[index]"
   ]
  },
  {
   "cell_type": "code",
   "execution_count": 167,
   "id": "60fdb0d9-cde2-429f-aeb7-6dda620db79c",
   "metadata": {},
   "outputs": [
    {
     "name": "stdout",
     "output_type": "stream",
     "text": [
      "['juice', 'I love', 'banana', 'I love', 'elephent', 'dog', 12, 'mylove', 'srinu']\n"
     ]
    }
   ],
   "source": [
    "l1=['grapes', 'juice', 'I love', 'banana', 'I love', 'elephent', 'dog', 12, 'mylove', 'srinu']\n",
    "del l1[0]\n",
    "print(l1)\n"
   ]
  },
  {
   "cell_type": "code",
   "execution_count": null,
   "id": "f11643a8-963a-4433-931c-ddeaa339d7e6",
   "metadata": {},
   "outputs": [],
   "source": [
    "17.clear() method empties the list"
   ]
  },
  {
   "cell_type": "code",
   "execution_count": 173,
   "id": "7ca4296f-ddd6-4ace-9792-6f411b6b0e29",
   "metadata": {},
   "outputs": [
    {
     "name": "stdout",
     "output_type": "stream",
     "text": [
      "[]\n"
     ]
    }
   ],
   "source": [
    "l2=['elephent', 'dog', 12]\n",
    "l2.clear()\n",
    "print(l2)"
   ]
  },
  {
   "cell_type": "code",
   "execution_count": null,
   "id": "d15f8b0e-c88b-4284-b44e-27006d424fb5",
   "metadata": {},
   "outputs": [],
   "source": []
  },
  {
   "cell_type": "code",
   "execution_count": null,
   "id": "40fd5899-2936-4f0b-8364-0fc8313249f6",
   "metadata": {},
   "outputs": [],
   "source": [
    "18.looping through a list"
   ]
  },
  {
   "cell_type": "code",
   "execution_count": null,
   "id": "4c59ed0c-065f-42a0-aa5c-e426f4e6b69e",
   "metadata": {},
   "outputs": [],
   "source": [
    "You can loop through the list items by using a for loop:"
   ]
  },
  {
   "cell_type": "code",
   "execution_count": 187,
   "id": "80456e55-620f-4e1f-bd1e-312126332687",
   "metadata": {},
   "outputs": [
    {
     "name": "stdout",
     "output_type": "stream",
     "text": [
      "grapes\n",
      "juice\n",
      "I love\n",
      "banana\n",
      "I love\n",
      "elephent\n",
      "dog\n",
      "12\n",
      "mylove\n",
      "srinu\n"
     ]
    }
   ],
   "source": [
    "l1=['grapes', 'juice', 'I love', 'banana', 'I love', 'elephent', 'dog', 12, 'mylove', 'srinu']\n",
    "for i in l1:\n",
    "    print(i)"
   ]
  },
  {
   "cell_type": "code",
   "execution_count": null,
   "id": "5a0dd3e1-af60-461a-a6b2-8782321aeea9",
   "metadata": {},
   "outputs": [],
   "source": [
    "'''loop throuh the index numbers"
   ]
  },
  {
   "cell_type": "code",
   "execution_count": null,
   "id": "2840715f-3f44-427a-b7bf-c0032feb71a2",
   "metadata": {},
   "outputs": [],
   "source": [
    "we can also loop through the list items by reffering to the their index number\n",
    "use range() and len() functions to create a suitable iterable"
   ]
  },
  {
   "cell_type": "code",
   "execution_count": 199,
   "id": "50aaf601-026f-435f-b66d-04dbd8a6197f",
   "metadata": {},
   "outputs": [
    {
     "name": "stdout",
     "output_type": "stream",
     "text": [
      "grapes\n",
      "juice\n",
      "I love\n",
      "banana\n",
      "I love\n",
      "elephent\n",
      "dog\n",
      "12\n",
      "mylove\n",
      "srinu\n"
     ]
    }
   ],
   "source": [
    "# Print all items by referring to their index number:\n",
    "l1=['grapes',\n",
    " 'juice',\n",
    " 'I love',\n",
    " 'banana',\n",
    " 'I love',\n",
    " 'elephent',\n",
    " 'dog',\n",
    " 12,\n",
    " 'mylove',\n",
    " 'srinu']\n",
    "for i in range(len(l1)):\n",
    "    print(l1[i])\n"
   ]
  },
  {
   "cell_type": "code",
   "execution_count": null,
   "id": "6944da1b-ba6e-46e4-9043-82d576f2fa6d",
   "metadata": {},
   "outputs": [],
   "source": [
    "''using while loop"
   ]
  },
  {
   "cell_type": "code",
   "execution_count": null,
   "id": "b8ff42bb-cae6-4e18-9229-bb9335afb891",
   "metadata": {},
   "outputs": [],
   "source": [
    "You can loop through the list items by using a while loop.\n",
    "\n",
    "Use the len() function to determine the length of the list, then start at 0 and loop your way through the list items by referring to their indexes.\n",
    "\n",
    "Remember to increase the index by 1 after each iteration.\n"
   ]
  },
  {
   "cell_type": "code",
   "execution_count": 201,
   "id": "f096e6c9-85a1-4aa3-8bac-f1e8896a4448",
   "metadata": {},
   "outputs": [
    {
     "data": {
      "text/plain": [
       "['grapes',\n",
       " 'juice',\n",
       " 'I love',\n",
       " 'banana',\n",
       " 'I love',\n",
       " 'elephent',\n",
       " 'dog',\n",
       " 12,\n",
       " 'mylove',\n",
       " 'srinu']"
      ]
     },
     "execution_count": 201,
     "metadata": {},
     "output_type": "execute_result"
    }
   ],
   "source": [
    "l1"
   ]
  },
  {
   "cell_type": "code",
   "execution_count": 209,
   "id": "001cd58e-1a4d-43dd-97b0-27fad626f7dd",
   "metadata": {},
   "outputs": [
    {
     "name": "stdout",
     "output_type": "stream",
     "text": [
      "grapes\n",
      "juice\n",
      "I love\n",
      "banana\n",
      "I love\n",
      "elephent\n",
      "dog\n",
      "12\n",
      "mylove\n",
      "srinu\n"
     ]
    }
   ],
   "source": [
    "i=0\n",
    "while i<len(l1):\n",
    "    print(l1[i])\n",
    "    i+=1\n",
    "    "
   ]
  },
  {
   "cell_type": "code",
   "execution_count": null,
   "id": "a0e7e4dc-dd22-4d27-972c-6eb9db25cfea",
   "metadata": {},
   "outputs": [],
   "source": [
    "''Looping Using List Comprehension'''\n",
    "in this shortify the loop statement"
   ]
  },
  {
   "cell_type": "code",
   "execution_count": 211,
   "id": "1c75334a-4859-43d4-9014-2aef86a42a00",
   "metadata": {},
   "outputs": [
    {
     "data": {
      "text/plain": [
       "['grapes',\n",
       " 'juice',\n",
       " 'I love',\n",
       " 'banana',\n",
       " 'I love',\n",
       " 'elephent',\n",
       " 'dog',\n",
       " 12,\n",
       " 'mylove',\n",
       " 'srinu']"
      ]
     },
     "execution_count": 211,
     "metadata": {},
     "output_type": "execute_result"
    }
   ],
   "source": [
    "l1"
   ]
  },
  {
   "cell_type": "code",
   "execution_count": 213,
   "id": "4299df52-4908-4099-897e-a3a2eeab5442",
   "metadata": {},
   "outputs": [
    {
     "name": "stdout",
     "output_type": "stream",
     "text": [
      "grapes\n",
      "juice\n",
      "I love\n",
      "banana\n",
      "I love\n",
      "elephent\n",
      "dog\n",
      "12\n",
      "mylove\n",
      "srinu\n"
     ]
    },
    {
     "data": {
      "text/plain": [
       "[None, None, None, None, None, None, None, None, None, None]"
      ]
     },
     "execution_count": 213,
     "metadata": {},
     "output_type": "execute_result"
    }
   ],
   "source": [
    "[print(i) for i in l1]"
   ]
  },
  {
   "cell_type": "code",
   "execution_count": null,
   "id": "1cb43aa1-565b-457e-a806-8245d43ae4c2",
   "metadata": {},
   "outputs": [],
   "source": [
    "19.List Comprehension\n",
    "List comprehension offers shortest syntax when you want to create a new list based on the values of an existing list."
   ]
  },
  {
   "cell_type": "code",
   "execution_count": 225,
   "id": "ccf664e1-0808-4971-87e3-cae781a8a20f",
   "metadata": {},
   "outputs": [
    {
     "name": "stdout",
     "output_type": "stream",
     "text": [
      "['banana']\n"
     ]
    }
   ],
   "source": [
    "# Ex:Based on a list of fruits, you want a new list, containing only the fruits with the letter \"a\" in the name.\n",
    "l1=['juice', 'I love', 'banana', 'I love', 'elephent', 'dog', 'mylove', 'srinu']\n",
    "newlist=[]\n",
    "for i in l1:\n",
    "    if 'a' in i:\n",
    "        newlist.append(i)\n",
    "print(newlist)"
   ]
  },
  {
   "cell_type": "code",
   "execution_count": null,
   "id": "a3ff32ed-19f7-4e92-b017-375928eb9e75",
   "metadata": {},
   "outputs": [],
   "source": [
    "With list comprehension you can do all that with only one line of code:"
   ]
  },
  {
   "cell_type": "code",
   "execution_count": 233,
   "id": "3b492642-77bf-4ae3-b2e4-38ee0c7748fa",
   "metadata": {},
   "outputs": [
    {
     "data": {
      "text/plain": [
       "['I love', 'I love']"
      ]
     },
     "execution_count": 233,
     "metadata": {},
     "output_type": "execute_result"
    }
   ],
   "source": [
    "newlist=[ i for i in l1 if 'I' in i]\n",
    "newlist"
   ]
  },
  {
   "cell_type": "code",
   "execution_count": null,
   "id": "0c0b21a1-0e06-4b23-82df-90db7c729716",
   "metadata": {},
   "outputs": [],
   "source": [
    "The Syntax\n",
    "newlist = [expression for item in iterable if condition == True]"
   ]
  },
  {
   "cell_type": "code",
   "execution_count": 239,
   "id": "7129d117-8f12-4cda-ab43-a3a202da90c9",
   "metadata": {},
   "outputs": [
    {
     "name": "stdout",
     "output_type": "stream",
     "text": [
      "['juice', 'I love', 'banana', 'I love', 'elephent', 'dog', 'srinu']\n"
     ]
    }
   ],
   "source": [
    "newlist=[i for i in l1 if i!=\"mylove\"] #it prints all items except mylove\n",
    "print(newlist)"
   ]
  },
  {
   "cell_type": "code",
   "execution_count": null,
   "id": "ca3b35a7-db5d-4d81-a209-b7c00d19c430",
   "metadata": {},
   "outputs": [],
   "source": [
    "With no if statement:"
   ]
  },
  {
   "cell_type": "code",
   "execution_count": 243,
   "id": "2509e827-8270-459b-aec8-8076499096e2",
   "metadata": {},
   "outputs": [
    {
     "name": "stdout",
     "output_type": "stream",
     "text": [
      "['juice', 'I love', 'banana', 'I love', 'elephent', 'dog', 'mylove', 'srinu']\n"
     ]
    }
   ],
   "source": [
    "newlist=[i for i in l1]\n",
    "print(newlist)"
   ]
  },
  {
   "cell_type": "code",
   "execution_count": null,
   "id": "208534f3-50fc-425c-9650-cdfea14749c8",
   "metadata": {},
   "outputs": [],
   "source": [
    "'''Iterable'''\n",
    "the iterable can be any iterable object ,like a list,tuple,set etc"
   ]
  },
  {
   "cell_type": "code",
   "execution_count": 247,
   "id": "a36f7ab9-7572-4a9b-b54c-1e6eb7d6b0b4",
   "metadata": {},
   "outputs": [
    {
     "name": "stdout",
     "output_type": "stream",
     "text": [
      "[0, 1, 2, 3, 4]\n"
     ]
    }
   ],
   "source": [
    "# You can use the range() function to create an iterable:\n",
    "newlist=[i for i in range(5)]\n",
    "print(newlist)"
   ]
  },
  {
   "cell_type": "code",
   "execution_count": 251,
   "id": "b775f8ae-6ed2-4102-bca7-506df04a21ed",
   "metadata": {},
   "outputs": [
    {
     "name": "stdout",
     "output_type": "stream",
     "text": [
      "[0, 1]\n"
     ]
    }
   ],
   "source": [
    "# Accept only numbers lower than 5:\n",
    "newlist=[i for i in range(5) if i<2]\n",
    "print(newlist)"
   ]
  },
  {
   "cell_type": "code",
   "execution_count": null,
   "id": "2425cf75-87ff-4231-9f66-edacef6242c6",
   "metadata": {},
   "outputs": [],
   "source": [
    "Expression:\n",
    "The expression is the current item in the iteration, \n",
    "but it is also the outcome, which you can manipulate \n",
    "before it ends up like a list item in the new list:"
   ]
  },
  {
   "cell_type": "code",
   "execution_count": 255,
   "id": "a16cea5c-a2fc-460d-a9a2-f3cad5cfa23e",
   "metadata": {},
   "outputs": [
    {
     "name": "stdout",
     "output_type": "stream",
     "text": [
      "['JUICE', 'I LOVE', 'BANANA', 'I LOVE', 'ELEPHENT', 'DOG', 'MYLOVE', 'SRINU']\n"
     ]
    }
   ],
   "source": [
    "# newlist with uppercse()\n",
    "newlist=[i.upper() for i in l1]\n",
    "print(newlist)"
   ]
  },
  {
   "cell_type": "code",
   "execution_count": 257,
   "id": "49ca1111-54e6-4b37-ac73-c89a20db5541",
   "metadata": {},
   "outputs": [
    {
     "name": "stdout",
     "output_type": "stream",
     "text": [
      "['hello', 'hello', 'hello', 'hello', 'hello', 'hello', 'hello', 'hello']\n"
     ]
    }
   ],
   "source": [
    "newlist=[\"hello\" for i in l1]\n",
    "print(newlist)"
   ]
  },
  {
   "cell_type": "code",
   "execution_count": 259,
   "id": "bd84e230-16fb-4b8e-bca9-2aac9587cf6f",
   "metadata": {},
   "outputs": [
    {
     "name": "stdout",
     "output_type": "stream",
     "text": [
      "['JUICE', 'I LOVE', 'BANANA', 'I LOVE', 'ELEPHENT', 'DOG', 'MYLOVE', 'SRINU']\n"
     ]
    }
   ],
   "source": [
    "newlist=[i.upper() for i in l1]\n",
    "print(newlist)"
   ]
  },
  {
   "cell_type": "code",
   "execution_count": null,
   "id": "14d39bb6-09d4-468f-8710-e8f199a8e73d",
   "metadata": {},
   "outputs": [],
   "source": [
    "The expression can also contain conditions, not like a filter, but as a way to manipulate the outcome:"
   ]
  },
  {
   "cell_type": "code",
   "execution_count": 261,
   "id": "9fa8b65a-d8e5-4c15-aa58-aa4d7ddd6f2c",
   "metadata": {},
   "outputs": [
    {
     "name": "stdout",
     "output_type": "stream",
     "text": [
      "['juice', 'mylove', 'banana', 'mylove', 'elephent', 'dog', 'mylove', 'srinu']\n"
     ]
    }
   ],
   "source": [
    "# return \"I love\" instead of \"mylove\"\n",
    "newlist=[i if i!=\"I love\" else \"mylove\" for i in l1]\n",
    "print(newlist)"
   ]
  },
  {
   "cell_type": "code",
   "execution_count": 279,
   "id": "eb954900-9b84-4fa9-972b-1655ddef207a",
   "metadata": {},
   "outputs": [
    {
     "name": "stdout",
     "output_type": "stream",
     "text": [
      "['juice', 'I love', 'orenge', 'I love', 'elephent', 'dog', 'mylove', 'srinu']\n"
     ]
    }
   ],
   "source": [
    "newlist=[]\n",
    "for i in l1:\n",
    "    if i!=\"banana\":\n",
    "        newlist.append(i)\n",
    "    else:\n",
    "        newlist.append(\"orenge\")\n",
    "\n",
    "print(newlist)\n",
    "    "
   ]
  },
  {
   "cell_type": "code",
   "execution_count": null,
   "id": "cd13a7da-f997-4f3b-9738-2db913f80d06",
   "metadata": {},
   "outputs": [],
   "source": [
    "19.sort the lists\n",
    "List have a sort() method that will sort the list alphanumericaly and ascending by default:"
   ]
  },
  {
   "cell_type": "code",
   "execution_count": 295,
   "id": "0d0c6e27-406d-4589-ad94-bd23bed5d442",
   "metadata": {},
   "outputs": [
    {
     "name": "stdout",
     "output_type": "stream",
     "text": [
      "['dog', 'elephent', 'i love', 'i love', 'juice', 'mylove', 'orenge', 'srinu']\n"
     ]
    }
   ],
   "source": [
    "l1=['juice', 'i love', 'orenge', 'i love', 'elephent', 'dog', 'mylove', 'srinu']\n",
    "l1.sort()\n",
    "print(l1)"
   ]
  },
  {
   "cell_type": "code",
   "execution_count": 297,
   "id": "345aee0c-4897-4983-bdf2-05ae2af405cc",
   "metadata": {},
   "outputs": [
    {
     "name": "stdout",
     "output_type": "stream",
     "text": [
      "[23, 50, 65, 82, 100]\n"
     ]
    }
   ],
   "source": [
    "# Sort the list numerically:\n",
    "thislist = [100, 50, 65, 82, 23]\n",
    "thislist.sort()\n",
    "print(thislist)"
   ]
  },
  {
   "cell_type": "code",
   "execution_count": null,
   "id": "18bd9d71-2d39-4f1b-ad76-df90f5adc64b",
   "metadata": {},
   "outputs": [],
   "source": [
    "sort Descending\n",
    "to sort descending use keyword arguement reverse=True"
   ]
  },
  {
   "cell_type": "code",
   "execution_count": 299,
   "id": "7117f8e2-8461-4ae6-ae50-59eac551e270",
   "metadata": {},
   "outputs": [
    {
     "name": "stdout",
     "output_type": "stream",
     "text": [
      "['srinu', 'orenge', 'mylove', 'juice', 'i love', 'i love', 'elephent', 'dog']\n"
     ]
    }
   ],
   "source": [
    "l1=['juice', 'i love', 'orenge', 'i love', 'elephent', 'dog', 'mylove', 'srinu']\n",
    "l1.sort(reverse=True)\n",
    "print(l1)"
   ]
  },
  {
   "cell_type": "code",
   "execution_count": 301,
   "id": "1ebeeaab-86c1-4a09-ba23-eb27782b6ca9",
   "metadata": {},
   "outputs": [
    {
     "name": "stdout",
     "output_type": "stream",
     "text": [
      "[100, 82, 65, 50, 23]\n"
     ]
    }
   ],
   "source": [
    "thislist = [100, 50, 65, 82, 23]\n",
    "thislist.sort(reverse=True)\n",
    "print(thislist)"
   ]
  },
  {
   "cell_type": "code",
   "execution_count": null,
   "id": "9b3a31d3-e383-42b0-8044-c5a1c7f5ddc1",
   "metadata": {},
   "outputs": [],
   "source": [
    "'''Customize Sort Function'''\n",
    "you can also customise your own function by using the keyword arguement key=function\n",
    "The function will return a number that will be used to sort the list(lowest number first)\n"
   ]
  },
  {
   "cell_type": "code",
   "execution_count": 305,
   "id": "155941a0-59ab-46b2-b975-990ca2def56f",
   "metadata": {},
   "outputs": [
    {
     "name": "stdout",
     "output_type": "stream",
     "text": [
      "[50, 65, 23, 82, 100]\n"
     ]
    }
   ],
   "source": [
    "def myfuc(n):\n",
    "    return abs(n-50)\n",
    "\n",
    "thislist=[100, 82, 65, 50, 23]\n",
    "thislist.sort(key=myfuc)\n",
    "print(thislist)"
   ]
  },
  {
   "cell_type": "code",
   "execution_count": null,
   "id": "16ea68f1-7481-4da8-a583-bd6d7aae2bb2",
   "metadata": {},
   "outputs": [],
   "source": [
    "'''Case Sensitive Sort'''"
   ]
  },
  {
   "cell_type": "code",
   "execution_count": null,
   "id": "6f570e40-3270-424e-8294-c6a1b5e085cb",
   "metadata": {},
   "outputs": [],
   "source": [
    "By default sort() method is case sensitive ,\n",
    "resulting in all capital letters being sorted before lower case letters:"
   ]
  },
  {
   "cell_type": "code",
   "execution_count": 3,
   "id": "5d99e75b-e9db-441a-83ca-d83adb94d986",
   "metadata": {},
   "outputs": [
    {
     "name": "stdout",
     "output_type": "stream",
     "text": [
      "['grapes', 'aplles', 'Kiswi', 'Egales']\n"
     ]
    }
   ],
   "source": [
    "list1=[\"Kiswi\",\"grapes\",\"aplles\",\"Egales\"]\n",
    "list1.sort()\n",
    "print(list1)"
   ]
  },
  {
   "cell_type": "code",
   "execution_count": null,
   "id": "dff16d23-1a36-482a-9d15-6704e80024d6",
   "metadata": {},
   "outputs": [],
   "source": [
    "So if you want a case-insensitive sort function, use str.lower as a key function:"
   ]
  },
  {
   "cell_type": "code",
   "execution_count": 11,
   "id": "532fba1f-571d-476b-bc64-c49341d048e8",
   "metadata": {},
   "outputs": [
    {
     "name": "stdout",
     "output_type": "stream",
     "text": [
      "['dog', 'Elephent', 'i love', 'I love', 'juice', 'Mylove', 'orenge', 'srinu']\n"
     ]
    }
   ],
   "source": [
    "l1=['juice', 'i love', 'orenge', 'I love', 'Elephent', 'dog', 'Mylove', 'srinu']\n",
    "\n",
    "l1.sort(key=str.lower)\n",
    "print(l1)"
   ]
  },
  {
   "cell_type": "code",
   "execution_count": null,
   "id": "554dd128-63bc-4bc1-9c00-885b65aa1b54",
   "metadata": {},
   "outputs": [],
   "source": [
    "'''Reverse Order'''\n",
    "If you want to reverse the order of a list,regardless of the alphabet\n",
    "The reverse() method revrse the current sorting order of the elements"
   ]
  },
  {
   "cell_type": "code",
   "execution_count": 15,
   "id": "ef10a87d-c069-4287-a675-f4d4ba73762b",
   "metadata": {},
   "outputs": [
    {
     "data": {
      "text/plain": [
       "['dog', 'Elephent', 'i love', 'I love', 'juice', 'Mylove', 'orenge', 'srinu']"
      ]
     },
     "execution_count": 15,
     "metadata": {},
     "output_type": "execute_result"
    }
   ],
   "source": [
    "l1"
   ]
  },
  {
   "cell_type": "code",
   "execution_count": 17,
   "id": "79cc44b7-e0ea-4650-9b8b-d0771710d0cd",
   "metadata": {},
   "outputs": [
    {
     "name": "stdout",
     "output_type": "stream",
     "text": [
      "['srinu', 'orenge', 'Mylove', 'juice', 'I love', 'i love', 'Elephent', 'dog']\n"
     ]
    }
   ],
   "source": [
    "l1.reverse()  #here we just reverse the order without any sorting\n",
    "print(l1)"
   ]
  },
  {
   "cell_type": "code",
   "execution_count": null,
   "id": "99d4a216-886d-45db-8cab-de26c52a1c74",
   "metadata": {},
   "outputs": [],
   "source": [
    "20.Copy Lists: \n",
    "You can use the built -in list method copy() to copy a list"
   ]
  },
  {
   "cell_type": "code",
   "execution_count": 19,
   "id": "d9c61835-131c-4536-a09a-0f05ce521edd",
   "metadata": {},
   "outputs": [
    {
     "data": {
      "text/plain": [
       "['srinu', 'orenge', 'Mylove', 'juice', 'I love', 'i love', 'Elephent', 'dog']"
      ]
     },
     "execution_count": 19,
     "metadata": {},
     "output_type": "execute_result"
    }
   ],
   "source": [
    "l1"
   ]
  },
  {
   "cell_type": "code",
   "execution_count": 21,
   "id": "a0e42442-88ee-4d99-b468-eda1fd6d7991",
   "metadata": {},
   "outputs": [
    {
     "name": "stdout",
     "output_type": "stream",
     "text": [
      "['srinu', 'orenge', 'Mylove', 'juice', 'I love', 'i love', 'Elephent', 'dog']\n"
     ]
    }
   ],
   "source": [
    "l2=l1.copy()\n",
    "print(l2)"
   ]
  },
  {
   "cell_type": "code",
   "execution_count": 23,
   "id": "0eb836aa-a5bb-43bf-bb83-e28be28b3efd",
   "metadata": {},
   "outputs": [
    {
     "data": {
      "text/plain": [
       "['srinu', 'orenge', 'Mylove', 'juice', 'I love', 'i love', 'Elephent', 'dog']"
      ]
     },
     "execution_count": 23,
     "metadata": {},
     "output_type": "execute_result"
    }
   ],
   "source": [
    "l1"
   ]
  },
  {
   "cell_type": "code",
   "execution_count": 25,
   "id": "9700aa80-367d-4b81-a0fc-c33428af68bd",
   "metadata": {},
   "outputs": [
    {
     "data": {
      "text/plain": [
       "['srinu', 'orenge', 'Mylove', 'juice', 'I love', 'i love', 'Elephent', 'dog']"
      ]
     },
     "execution_count": 25,
     "metadata": {},
     "output_type": "execute_result"
    }
   ],
   "source": [
    "l2"
   ]
  },
  {
   "cell_type": "code",
   "execution_count": null,
   "id": "03e96ceb-c5a8-4183-b688-0ab8e48f33cf",
   "metadata": {},
   "outputs": [],
   "source": [
    "'''Use the  list()  method.'''\n",
    "Another way to copy  is to use list() method"
   ]
  },
  {
   "cell_type": "code",
   "execution_count": 27,
   "id": "c15d4c1d-7bd6-409d-ab03-46a8b3fcc9b8",
   "metadata": {},
   "outputs": [
    {
     "data": {
      "text/plain": [
       "['srinu', 'orenge', 'Mylove', 'juice', 'I love', 'i love', 'Elephent', 'dog']"
      ]
     },
     "execution_count": 27,
     "metadata": {},
     "output_type": "execute_result"
    }
   ],
   "source": [
    "l2"
   ]
  },
  {
   "cell_type": "code",
   "execution_count": 31,
   "id": "0da6c62d-90c9-4a82-92ed-cc59e7b4a184",
   "metadata": {},
   "outputs": [
    {
     "name": "stdout",
     "output_type": "stream",
     "text": [
      "['srinu', 'orenge', 'Mylove', 'juice', 'I love', 'i love', 'Elephent', 'dog']\n"
     ]
    }
   ],
   "source": [
    "l3=list(l2)\n",
    "print(l3)"
   ]
  },
  {
   "cell_type": "code",
   "execution_count": null,
   "id": "568639a8-2d1f-480a-95e5-1d94f96c0489",
   "metadata": {},
   "outputs": [],
   "source": [
    "''' Use the slice Operator'''\n",
    "We can also make a copy of a list by using the (:)slice operator"
   ]
  },
  {
   "cell_type": "code",
   "execution_count": 43,
   "id": "01a425b3-de9e-48f7-9e34-a54397e2a414",
   "metadata": {},
   "outputs": [
    {
     "name": "stdout",
     "output_type": "stream",
     "text": [
      "l1: ['srinu', 'orenge', 'Mylove', 'juice', 'I love', 'i love', 'Elephent', 'dog']\n",
      "l4: ['Mylove', 'juice', 'I love', 'i love', 'Elephent', 'dog']\n"
     ]
    }
   ],
   "source": [
    "# Make a copy of a list with the : operator:\n",
    "print(\"l1:\",l1)\n",
    "l4=l1[2:]\n",
    "print(\"l4:\",l4)\n"
   ]
  },
  {
   "cell_type": "code",
   "execution_count": null,
   "id": "67c142ca-0d61-4a6f-8206-ce8b8f7b3652",
   "metadata": {},
   "outputs": [],
   "source": [
    "21.Joins Lists\n",
    "\n",
    "Join two lists\n",
    "\n",
    "One easiast way to join or concatainate is using + operator"
   ]
  },
  {
   "cell_type": "code",
   "execution_count": 47,
   "id": "71000ad4-a40c-47fe-8a81-97d8e3b8e2ef",
   "metadata": {},
   "outputs": [
    {
     "name": "stdout",
     "output_type": "stream",
     "text": [
      "['a', 'b', 'c', 1, 2, 3, 1]\n"
     ]
    }
   ],
   "source": [
    "l6=[\"a\",\"b\",\"c\"]\n",
    "l7=[1,2,3,1]\n",
    "l8=l6+l7\n",
    "print(l8)"
   ]
  },
  {
   "cell_type": "code",
   "execution_count": null,
   "id": "2ae73981-bb52-47c8-acbb-81afae5ee1f0",
   "metadata": {},
   "outputs": [],
   "source": [
    "Another way to join lits is by appending all the items from list2 into list1, one by one"
   ]
  },
  {
   "cell_type": "code",
   "execution_count": 53,
   "id": "ec185138-48d4-4275-9152-c7e3241196e0",
   "metadata": {},
   "outputs": [
    {
     "name": "stdout",
     "output_type": "stream",
     "text": [
      "['a', 'b', 'c', 1, 2, 3, 1]\n"
     ]
    }
   ],
   "source": [
    "l6=[\"a\",\"b\",\"c\"]\n",
    "l7=[1,2,3,1]\n",
    "for i in l7:\n",
    "    l6.append(i)\n",
    "print(l6)"
   ]
  },
  {
   "cell_type": "code",
   "execution_count": null,
   "id": "5db248de-2ecb-4cdd-a53e-fccf04b2b263",
   "metadata": {},
   "outputs": [],
   "source": [
    "we can use extend () for join"
   ]
  },
  {
   "cell_type": "code",
   "execution_count": 55,
   "id": "8aa7d37a-af3a-4b03-9d1b-640c2643c61c",
   "metadata": {},
   "outputs": [
    {
     "name": "stdout",
     "output_type": "stream",
     "text": [
      "['a', 'b', 'c', 1, 2, 3, 1]\n"
     ]
    }
   ],
   "source": [
    "l6=[\"a\",\"b\",\"c\"]\n",
    "l7=[1,2,3,1]\n",
    "l6.extend(l7)\n",
    "print(l6)"
   ]
  },
  {
   "cell_type": "code",
   "execution_count": null,
   "id": "4c6618aa-c8e6-4b7c-84b2-7b06ac986040",
   "metadata": {},
   "outputs": [],
   "source": [
    "23.List Methods"
   ]
  },
  {
   "cell_type": "code",
   "execution_count": null,
   "id": "3f17c84b-a27f-48c9-96c7-4ee5c528471d",
   "metadata": {},
   "outputs": [],
   "source": [
    "Method\t    Description\n",
    "append()    Adds an element at the end of the list\n",
    "clear()   \tRemoves all the elements from the list\n",
    "copy()\t    Returns a copy of the list\n",
    "count()  \tReturns the number of elements with the specified value\n",
    "extend()\tAdd the elements of a list (or any iterable), to the end of the current list\n",
    "index()\t    Returns the index of the first element with the specified value\n",
    "insert()\tAdds an element at the specified position\n",
    "pop()\t    Removes the element at the specified position\n",
    "remove()\tRemoves the item with the specified value\n",
    "reverse()\tReverses the order of the list\n",
    "sort()\t     Sorts the list\n"
   ]
  },
  {
   "cell_type": "code",
   "execution_count": 59,
   "id": "56c3d377-0f40-4d42-aaad-ba44ecf6c890",
   "metadata": {},
   "outputs": [
    {
     "data": {
      "text/plain": [
       "['srinu', 'orenge', 'Mylove', 'juice', 'I love', 'i love', 'Elephent', 'dog']"
      ]
     },
     "execution_count": 59,
     "metadata": {},
     "output_type": "execute_result"
    }
   ],
   "source": [
    "\n",
    "l1"
   ]
  },
  {
   "cell_type": "code",
   "execution_count": 69,
   "id": "47356f1b-425f-4261-a5b8-c5ad425ee364",
   "metadata": {},
   "outputs": [
    {
     "name": "stdout",
     "output_type": "stream",
     "text": [
      "['srinu', 'orenge', 'Mylove', 'juice', 'I love', 'i love', 'Elephent', 'dog']\n"
     ]
    }
   ],
   "source": [
    "x=l1.count(\"Mylove\")\n",
    "print(l1)"
   ]
  },
  {
   "cell_type": "code",
   "execution_count": null,
   "id": "90abec5f-748f-41d0-9137-7383f440371b",
   "metadata": {},
   "outputs": [],
   "source": []
  },
  {
   "cell_type": "code",
   "execution_count": null,
   "id": "e2d4bc22-9852-4804-a6e2-37a1da69e3f0",
   "metadata": {},
   "outputs": [],
   "source": []
  },
  {
   "cell_type": "code",
   "execution_count": null,
   "id": "0dcee81e-ebcd-442c-9338-f531cb0074af",
   "metadata": {},
   "outputs": [],
   "source": []
  },
  {
   "cell_type": "code",
   "execution_count": null,
   "id": "1ca81193-e8e4-431f-8832-4fa4d1a5266f",
   "metadata": {},
   "outputs": [],
   "source": []
  },
  {
   "cell_type": "code",
   "execution_count": null,
   "id": "f1dfa834-04df-40ef-9fe0-b95a1c9ab8a9",
   "metadata": {},
   "outputs": [],
   "source": []
  },
  {
   "cell_type": "code",
   "execution_count": null,
   "id": "4efb664a-67cf-4ae0-a095-6fc0f8e879c6",
   "metadata": {},
   "outputs": [],
   "source": []
  },
  {
   "cell_type": "code",
   "execution_count": null,
   "id": "641943ca-adb4-4c1e-bea6-0188a7281a50",
   "metadata": {},
   "outputs": [],
   "source": []
  },
  {
   "cell_type": "code",
   "execution_count": null,
   "id": "6a44bc30-5037-40de-b5f2-ef7579155cd8",
   "metadata": {},
   "outputs": [],
   "source": []
  },
  {
   "cell_type": "code",
   "execution_count": null,
   "id": "75dd0da2-f331-43d3-b707-e1603113e906",
   "metadata": {},
   "outputs": [],
   "source": []
  },
  {
   "cell_type": "code",
   "execution_count": null,
   "id": "13986f66-deaf-4779-87fc-297a65b0e912",
   "metadata": {},
   "outputs": [],
   "source": []
  },
  {
   "cell_type": "code",
   "execution_count": null,
   "id": "0528fb12-067d-4c9c-a976-ea0503b8ff6f",
   "metadata": {},
   "outputs": [],
   "source": []
  },
  {
   "cell_type": "code",
   "execution_count": null,
   "id": "4e55ae10-ebc0-44aa-9dee-1334129bde12",
   "metadata": {},
   "outputs": [],
   "source": []
  },
  {
   "cell_type": "code",
   "execution_count": null,
   "id": "52fdd390-9184-449b-b2b9-58959f1ee3cf",
   "metadata": {},
   "outputs": [],
   "source": []
  },
  {
   "cell_type": "code",
   "execution_count": null,
   "id": "212547db-6436-424f-9d95-595adedcc7fe",
   "metadata": {},
   "outputs": [],
   "source": []
  },
  {
   "cell_type": "code",
   "execution_count": null,
   "id": "6df5f677-1ff5-47ca-a448-bd84f66af9c3",
   "metadata": {},
   "outputs": [],
   "source": []
  },
  {
   "cell_type": "code",
   "execution_count": null,
   "id": "8c68cbe2-f32a-42c5-8447-22472c669cce",
   "metadata": {},
   "outputs": [],
   "source": []
  },
  {
   "cell_type": "code",
   "execution_count": null,
   "id": "8ea4a5d6-c0a5-4af5-805b-4f70e2a8974f",
   "metadata": {},
   "outputs": [],
   "source": []
  },
  {
   "cell_type": "code",
   "execution_count": null,
   "id": "45de81a3-f88d-404c-86c3-45d6230ca82d",
   "metadata": {},
   "outputs": [],
   "source": []
  },
  {
   "cell_type": "code",
   "execution_count": null,
   "id": "2a5b4955-6866-448e-9d88-74b1220a7a2f",
   "metadata": {},
   "outputs": [],
   "source": []
  },
  {
   "cell_type": "code",
   "execution_count": null,
   "id": "c5aeb751-10ca-4add-be37-bc63698c9528",
   "metadata": {},
   "outputs": [],
   "source": []
  },
  {
   "cell_type": "code",
   "execution_count": null,
   "id": "e280717b-c6b1-442c-a9db-436a275320d1",
   "metadata": {},
   "outputs": [],
   "source": []
  },
  {
   "cell_type": "code",
   "execution_count": null,
   "id": "ad95081f-aa20-4366-8130-f235fc46ac6f",
   "metadata": {},
   "outputs": [],
   "source": []
  },
  {
   "cell_type": "code",
   "execution_count": null,
   "id": "83efbe62-16ea-43d1-8596-e5149a46aadb",
   "metadata": {},
   "outputs": [],
   "source": []
  },
  {
   "cell_type": "code",
   "execution_count": null,
   "id": "24edff89-dfde-4fb1-bf84-ef83e0daacd9",
   "metadata": {},
   "outputs": [],
   "source": []
  },
  {
   "cell_type": "code",
   "execution_count": null,
   "id": "f79a8981-a007-4609-9910-aa710d4dbaee",
   "metadata": {},
   "outputs": [],
   "source": []
  },
  {
   "cell_type": "code",
   "execution_count": null,
   "id": "187a2e93-85cc-4613-9f67-adfa1503ab05",
   "metadata": {},
   "outputs": [],
   "source": []
  },
  {
   "cell_type": "code",
   "execution_count": null,
   "id": "4b79aa76-4fd7-4160-a604-f01084517694",
   "metadata": {},
   "outputs": [],
   "source": []
  },
  {
   "cell_type": "code",
   "execution_count": null,
   "id": "d1ebe936-5718-4b33-88bf-7befd88dd63c",
   "metadata": {},
   "outputs": [],
   "source": []
  },
  {
   "cell_type": "code",
   "execution_count": null,
   "id": "3eddcbff-d82f-4666-98ec-9365134d1c50",
   "metadata": {},
   "outputs": [],
   "source": []
  },
  {
   "cell_type": "code",
   "execution_count": null,
   "id": "d68693c0-b571-42f6-8aee-505d1d93ff35",
   "metadata": {},
   "outputs": [],
   "source": []
  },
  {
   "cell_type": "code",
   "execution_count": null,
   "id": "4b1c45df-8b64-493f-8a47-4cbc1124abdb",
   "metadata": {},
   "outputs": [],
   "source": []
  },
  {
   "cell_type": "code",
   "execution_count": null,
   "id": "497b8c44-004b-409b-9c60-df0ea125bd26",
   "metadata": {},
   "outputs": [],
   "source": []
  },
  {
   "cell_type": "code",
   "execution_count": null,
   "id": "ba30bfa7-ba42-49e2-bc25-24db500fe494",
   "metadata": {},
   "outputs": [],
   "source": []
  }
 ],
 "metadata": {
  "kernelspec": {
   "display_name": "Python 3 (ipykernel)",
   "language": "python",
   "name": "python3"
  },
  "language_info": {
   "codemirror_mode": {
    "name": "ipython",
    "version": 3
   },
   "file_extension": ".py",
   "mimetype": "text/x-python",
   "name": "python",
   "nbconvert_exporter": "python",
   "pygments_lexer": "ipython3",
   "version": "3.12.4"
  }
 },
 "nbformat": 4,
 "nbformat_minor": 5
}
