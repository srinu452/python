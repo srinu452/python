{
 "cells": [
  {
   "cell_type": "code",
   "execution_count": null,
   "id": "6afef5bf-b7a7-4656-9e41-ea4bcad57812",
   "metadata": {},
   "outputs": [],
   "source": [
    "                     '''Flow Control Statements'''"
   ]
  },
  {
   "cell_type": "code",
   "execution_count": null,
   "id": "d1642e5a-d319-4b5a-be10-98f1974dc8a8",
   "metadata": {},
   "outputs": [],
   "source": [
    "Python Condition and If statements"
   ]
  },
  {
   "cell_type": "code",
   "execution_count": null,
   "id": "ca14a907-cdc2-40f1-a1c4-5d5d843cd9be",
   "metadata": {},
   "outputs": [],
   "source": [
    "python supports the usual logical conditions from mathematics:\n",
    "1.Equals: a==b\n",
    "2.Not Equals:a!=b\n",
    "3.less than or equal to: a<=b\n",
    "4.Greater than or equal to: a>b\n",
    "5.Greater than or equal to: a>=b"
   ]
  },
  {
   "cell_type": "code",
   "execution_count": null,
   "id": "e49642b7-fe32-44a4-aa67-00703cdb0b93",
   "metadata": {},
   "outputs": [],
   "source": [
    "These conditions can be used in several ways, most commonly in \"if statements\" and loops."
   ]
  },
  {
   "cell_type": "code",
   "execution_count": null,
   "id": "42fa6153-1c3e-41d1-bca6-2f3aee4c5668",
   "metadata": {},
   "outputs": [],
   "source": [
    "1.If statement:\n",
    "an if Statement is wrutten by using the if keyword\n"
   ]
  },
  {
   "cell_type": "code",
   "execution_count": 3,
   "id": "3890a11c-0be3-475c-81c0-a333112c884f",
   "metadata": {},
   "outputs": [
    {
     "name": "stdout",
     "output_type": "stream",
     "text": [
      "b is greater\n"
     ]
    }
   ],
   "source": [
    "a=67\n",
    "b=80\n",
    "if a>b:\n",
    "\n",
    "    print(\"a is greater\")\n",
    "else:\n",
    "    print(\"b is greater\")"
   ]
  },
  {
   "cell_type": "code",
   "execution_count": null,
   "id": "fd8245dd-c92b-4e8e-ae73-18a67dd45435",
   "metadata": {},
   "outputs": [],
   "source": [
    "\"Indentation\"\n",
    "Pyhton relies on indentation (whitespaces at the beggining of the line ) to define scope in the code\n",
    "Other programming languages often use curly brackets of the purpose"
   ]
  },
  {
   "cell_type": "code",
   "execution_count": null,
   "id": "cc2798fe-d9fd-41d5-9a43-acf4cb42f8aa",
   "metadata": {},
   "outputs": [],
   "source": [
    "If statement, without indentation (will raise an error):"
   ]
  },
  {
   "cell_type": "code",
   "execution_count": 5,
   "id": "d8f7903b-8337-4841-9e3b-e76359be0602",
   "metadata": {},
   "outputs": [
    {
     "ename": "IndentationError",
     "evalue": "expected an indented block after 'if' statement on line 3 (1443227691.py, line 4)",
     "output_type": "error",
     "traceback": [
      "\u001b[1;36m  Cell \u001b[1;32mIn[5], line 4\u001b[1;36m\u001b[0m\n\u001b[1;33m    print(\"b is greater than a\") # you will get an error\u001b[0m\n\u001b[1;37m    ^\u001b[0m\n\u001b[1;31mIndentationError\u001b[0m\u001b[1;31m:\u001b[0m expected an indented block after 'if' statement on line 3\n"
     ]
    }
   ],
   "source": [
    "a = 33\n",
    "b = 200\n",
    "if b > a:\n",
    "print(\"b is greater than a\") # you will get an error"
   ]
  },
  {
   "cell_type": "code",
   "execution_count": null,
   "id": "376442fc-6fd1-4d4d-ae27-8411763fbbda",
   "metadata": {},
   "outputs": [],
   "source": [
    "2.Elif statement:\n",
    "elif statement is used when preveious if statement becomes fa;se then we can use this "
   ]
  },
  {
   "cell_type": "code",
   "execution_count": 7,
   "id": "d4f0e384-3f48-42c2-ba0b-0f08fff988c7",
   "metadata": {},
   "outputs": [
    {
     "name": "stdout",
     "output_type": "stream",
     "text": [
      "a and b are equal\n"
     ]
    }
   ],
   "source": [
    "a = 33\n",
    "b = 33\n",
    "if b > a:\n",
    "  print(\"b is greater than a\")\n",
    "elif a == b:\n",
    "  print(\"a and b are equal\")"
   ]
  },
  {
   "cell_type": "code",
   "execution_count": null,
   "id": "c44608e8-6d16-497e-ba58-0e7e9013ec0d",
   "metadata": {},
   "outputs": [],
   "source": [
    "3.Else:\n",
    "else keyword catches anything which isn't caught by the preceding\n",
    "conditions"
   ]
  },
  {
   "cell_type": "code",
   "execution_count": 13,
   "id": "8beb3529-29cc-432c-b05f-c75aeb492145",
   "metadata": {},
   "outputs": [
    {
     "name": "stdout",
     "output_type": "stream",
     "text": [
      "a is nothing\n"
     ]
    }
   ],
   "source": [
    "a = 332\n",
    "b = 331\n",
    "if b > a:\n",
    "  print(\"b is greater than a\")\n",
    "elif a == b:\n",
    "  print(\"a and b are equal\")\n",
    "else:\n",
    "    print(\"a is nothing\")"
   ]
  },
  {
   "cell_type": "code",
   "execution_count": 15,
   "id": "5137989e-f788-4cce-b05e-e1ab0c6d8e1a",
   "metadata": {},
   "outputs": [
    {
     "name": "stdout",
     "output_type": "stream",
     "text": [
      "b is not greater than a\n"
     ]
    }
   ],
   "source": [
    "a = 200\n",
    "b = 33\n",
    "if b > a:\n",
    "  print(\"b is greater than a\")\n",
    "else:\n",
    "  print(\"b is not greater than a\")"
   ]
  },
  {
   "cell_type": "code",
   "execution_count": null,
   "id": "db8d1333-cec6-4d7f-b22d-ea3fa441f541",
   "metadata": {},
   "outputs": [],
   "source": [
    "4.short hand if \n",
    "If you jave only one statemnt to execute then you can put it on one line"
   ]
  },
  {
   "cell_type": "code",
   "execution_count": 19,
   "id": "b2934461-f30e-4b34-aa76-d7ed091d94ed",
   "metadata": {},
   "outputs": [
    {
     "name": "stdout",
     "output_type": "stream",
     "text": [
      "a is gretare\n"
     ]
    }
   ],
   "source": [
    "a = 200\n",
    "b = 33\n",
    "if a>b:print(\"a is gretare\")"
   ]
  },
  {
   "cell_type": "code",
   "execution_count": null,
   "id": "c072305d-a4c6-4a10-801a-cd78dbbf79bd",
   "metadata": {},
   "outputs": [],
   "source": [
    "5.short hand if .. else\n",
    "if you have only one statement to execute ,one is if and one is else then you can write in one line"
   ]
  },
  {
   "cell_type": "code",
   "execution_count": 21,
   "id": "1d09bf96-ef45-430f-bf1f-38d6b8dd2aab",
   "metadata": {},
   "outputs": [
    {
     "name": "stdout",
     "output_type": "stream",
     "text": [
      "A\n"
     ]
    }
   ],
   "source": [
    "a=23\n",
    "b=344\n",
    "print(\"A\") if a<b else print(\"B\")"
   ]
  },
  {
   "cell_type": "code",
   "execution_count": null,
   "id": "3363f9d4-bdbb-4590-9877-7043669492e8",
   "metadata": {},
   "outputs": [],
   "source": [
    "You can also have multiple else statements on the same line:"
   ]
  },
  {
   "cell_type": "code",
   "execution_count": 25,
   "id": "67489c9c-d4ff-4a35-8dc9-c0abd69cd712",
   "metadata": {},
   "outputs": [
    {
     "name": "stdout",
     "output_type": "stream",
     "text": [
      "=\n"
     ]
    }
   ],
   "source": [
    "a=23\n",
    "b=23\n",
    "print(\"A\") if a<b else print(\"=\") if a==b else print(\"B\")"
   ]
  },
  {
   "cell_type": "code",
   "execution_count": null,
   "id": "e47c034b-59ad-498f-9e5b-fb105adb98b0",
   "metadata": {},
   "outputs": [],
   "source": [
    "6.AND\n",
    "the keyword is a logical operator and used to combine conditional statements"
   ]
  },
  {
   "cell_type": "code",
   "execution_count": 31,
   "id": "9cc88106-597d-4fd2-9116-7dfbf7dc6fa3",
   "metadata": {},
   "outputs": [
    {
     "name": "stdout",
     "output_type": "stream",
     "text": [
      " both are true\n"
     ]
    }
   ],
   "source": [
    "a=98\n",
    "b=76\n",
    "if a>b and  b<a:\n",
    "    print(\" both are true\")"
   ]
  },
  {
   "cell_type": "code",
   "execution_count": null,
   "id": "637aed34-28b0-49fa-b194-74c89b3f3e92",
   "metadata": {},
   "outputs": [],
   "source": [
    "7.Or\n",
    "THE or Keyword is a logoical operatoer is used to combine conditional operators"
   ]
  },
  {
   "cell_type": "code",
   "execution_count": 33,
   "id": "cdcca824-bf8c-423b-aa6c-c5d52affca8d",
   "metadata": {},
   "outputs": [
    {
     "name": "stdout",
     "output_type": "stream",
     "text": [
      " Atleast one condition will be true\n"
     ]
    }
   ],
   "source": [
    "a=98\n",
    "b=76\n",
    "if a>b or  b<a:\n",
    "    print(\" Atleast one condition will be true\")"
   ]
  },
  {
   "cell_type": "code",
   "execution_count": null,
   "id": "2e254c55-1733-4eea-9ecd-aa83741c5be8",
   "metadata": {},
   "outputs": [],
   "source": [
    "8.not\n",
    "the not keyword is logical operator ,which is used to reverse the result of the conditional statement"
   ]
  },
  {
   "cell_type": "code",
   "execution_count": 35,
   "id": "196da6ed-fd24-4867-b4dc-bf9dfdce531c",
   "metadata": {},
   "outputs": [
    {
     "name": "stdout",
     "output_type": "stream",
     "text": [
      "a is graeter\n"
     ]
    }
   ],
   "source": [
    "a=43\n",
    "b=34\n",
    "if not a<b:\n",
    "    print(\"a is graeter\")"
   ]
  },
  {
   "cell_type": "code",
   "execution_count": null,
   "id": "f5ab0177-b88a-471d-bea9-8b8c8380ee93",
   "metadata": {},
   "outputs": [],
   "source": [
    "8.Nested if :\n",
    "in this we can write if condion within the if condition"
   ]
  },
  {
   "cell_type": "code",
   "execution_count": 41,
   "id": "73e311c0-2b84-418d-893d-f7b91fe1c8bd",
   "metadata": {},
   "outputs": [
    {
     "name": "stdout",
     "output_type": "stream",
     "text": [
      "I hate you\n"
     ]
    }
   ],
   "source": [
    "a=79\n",
    "b=23\n",
    "if a>b:\n",
    "    if a==b:\n",
    "        print(\"I love you\")\n",
    "    else:\n",
    "        print(\"I hate you\")\n",
    "\n",
    "else:\n",
    "    print(\"give correct value\")"
   ]
  },
  {
   "cell_type": "code",
   "execution_count": null,
   "id": "3607bbab-9ae7-4e2c-b603-c7f74cbd9d9d",
   "metadata": {},
   "outputs": [],
   "source": [
    "9. pass\n",
    "if statements cannot be empty,but we have an if statement with no content,put in the pass statement to avoid getting an error"
   ]
  },
  {
   "cell_type": "code",
   "execution_count": 43,
   "id": "78f12b22-1eb5-40eb-9d56-69214d603ab8",
   "metadata": {},
   "outputs": [
    {
     "ename": "SyntaxError",
     "evalue": "incomplete input (603045984.py, line 3)",
     "output_type": "error",
     "traceback": [
      "\u001b[1;36m  Cell \u001b[1;32mIn[43], line 3\u001b[1;36m\u001b[0m\n\u001b[1;33m    if a>b:\u001b[0m\n\u001b[1;37m           ^\u001b[0m\n\u001b[1;31mSyntaxError\u001b[0m\u001b[1;31m:\u001b[0m incomplete input\n"
     ]
    }
   ],
   "source": [
    "a=26\n",
    "b=44\n",
    "if a>b:"
   ]
  },
  {
   "cell_type": "code",
   "execution_count": 80,
   "id": "14319d2b-c8ca-48d6-ad63-31c1f23503db",
   "metadata": {},
   "outputs": [],
   "source": [
    "a=23\n",
    "b=23\n",
    "if a<b:\n",
    "    pass\n",
    "# having an empty if statement like this, would raise an error without the pass statement"
   ]
  },
  {
   "cell_type": "code",
   "execution_count": null,
   "id": "733a34a4-31ef-4f1e-8d42-8d2c60ca1865",
   "metadata": {},
   "outputs": [],
   "source": [
    "    ''' Python While loops'''"
   ]
  },
  {
   "cell_type": "code",
   "execution_count": null,
   "id": "ee6cc419-678b-4f85-8a8c-36fdca8d6136",
   "metadata": {},
   "outputs": [],
   "source": [
    "python has two primitive loop commands:\n",
    "1. while loops\n",
    "2. for loops"
   ]
  },
  {
   "cell_type": "code",
   "execution_count": null,
   "id": "03117297-df33-42f4-8843-1076011ba142",
   "metadata": {},
   "outputs": [],
   "source": [
    "1.while loop"
   ]
  },
  {
   "cell_type": "code",
   "execution_count": null,
   "id": "d23a0a45-282e-4ccc-a212-8468a42b8af4",
   "metadata": {},
   "outputs": [],
   "source": [
    "with the while loop we can execute a set of statements as long as condition is true"
   ]
  },
  {
   "cell_type": "code",
   "execution_count": 86,
   "id": "ed4b47d0-894f-4ba1-892b-bb2987732eb1",
   "metadata": {},
   "outputs": [
    {
     "name": "stdout",
     "output_type": "stream",
     "text": [
      "1\n",
      "2\n",
      "3\n",
      "4\n",
      "5\n"
     ]
    }
   ],
   "source": [
    "i=1\n",
    "while i<6:\n",
    "    print(i)\n",
    "    i+=1"
   ]
  },
  {
   "cell_type": "code",
   "execution_count": null,
   "id": "0affd389-b057-40d8-84c9-5d9a758280c6",
   "metadata": {},
   "outputs": [],
   "source": [
    "Note: remember to increment i, or else the loop will continue forever."
   ]
  },
  {
   "cell_type": "code",
   "execution_count": null,
   "id": "4fcb508f-0f49-463f-a2a0-8e92e849ff0b",
   "metadata": {},
   "outputs": [],
   "source": [
    "7.the break statement:\n",
    "with the break statement we can stop the loop even if the while loop condition True"
   ]
  },
  {
   "cell_type": "code",
   "execution_count": 97,
   "id": "3a92a892-1475-4090-8631-dc30e4779b95",
   "metadata": {},
   "outputs": [
    {
     "name": "stdout",
     "output_type": "stream",
     "text": [
      "1\n",
      "2\n",
      "3\n"
     ]
    }
   ],
   "source": [
    "i=1\n",
    "while i<6:\n",
    "    print(i)\n",
    "    if i==3: #it will breaks the condition when i is eual to 3 \n",
    "        break\n",
    "    i+=1"
   ]
  },
  {
   "cell_type": "code",
   "execution_count": null,
   "id": "5b7fa9d9-4452-4abc-a428-1544cb229371",
   "metadata": {},
   "outputs": [],
   "source": [
    "8.continue statement\n",
    "with  continue statement we "
   ]
  },
  {
   "cell_type": "code",
   "execution_count": 101,
   "id": "f15786dd-7bf0-4f79-9858-ca024ca73245",
   "metadata": {},
   "outputs": [
    {
     "name": "stdout",
     "output_type": "stream",
     "text": [
      "1\n",
      "2\n",
      "4\n",
      "5\n",
      "6\n"
     ]
    }
   ],
   "source": [
    "i=0\n",
    "while i<6:\n",
    "    i+=1\n",
    "    if i==3: # it skips and continue to next iteration\n",
    "         continue\n",
    "        # In the loop, when i is 3, jump directly to the next iteration.\n",
    "    print(i)"
   ]
  },
  {
   "cell_type": "code",
   "execution_count": null,
   "id": "68914bd5-acca-49ed-8a4a-1e8ed969fbab",
   "metadata": {},
   "outputs": [],
   "source": [
    "while with else:\n",
    "with else statement we can run a block of code  once when the condition no longer is true"
   ]
  },
  {
   "cell_type": "code",
   "execution_count": 103,
   "id": "356b9011-7de5-442b-8d28-78d573bc8290",
   "metadata": {},
   "outputs": [
    {
     "name": "stdout",
     "output_type": "stream",
     "text": [
      "1\n",
      "2\n",
      "3\n",
      "4\n",
      "5\n",
      "i is no longer\n"
     ]
    }
   ],
   "source": [
    "i=1\n",
    "while i<6:\n",
    "    print(i)\n",
    "    i+=1\n",
    "else:\n",
    "    print(\"i is no longer\")\n",
    "    #prints the messege once the will be false"
   ]
  },
  {
   "cell_type": "code",
   "execution_count": null,
   "id": "893fa49e-65d7-473f-945e-1f4f9318db24",
   "metadata": {},
   "outputs": [],
   "source": [
    "       '''python for loops'''"
   ]
  },
  {
   "cell_type": "code",
   "execution_count": null,
   "id": "f929ac33-5fef-4bb1-b1b6-e2cd99fb72b8",
   "metadata": {},
   "outputs": [],
   "source": [
    "1.A for is use for iterating over sequence (that is either list,tuple ,s dictionary, string,set\n",
    "2.with the for we can execute set of statements ,once for each item in list,tuple,set etc"
   ]
  },
  {
   "cell_type": "code",
   "execution_count": null,
   "id": "f470e7ec-cc11-4b16-8b7e-184497f23cbf",
   "metadata": {},
   "outputs": [],
   "source": [
    "The for loop does not require an indexing variable to set beforehand"
   ]
  },
  {
   "cell_type": "code",
   "execution_count": null,
   "id": "cba45706-2a11-4c69-8513-305ba90cc941",
   "metadata": {},
   "outputs": [],
   "source": [
    "\"\"\"Looping Through a String\"\"\"\n",
    "Even strings are iterable objects,they contain sequence of characters"
   ]
  },
  {
   "cell_type": "code",
   "execution_count": 105,
   "id": "a8dd902c-35dd-4e8e-b92f-f1e739117fc6",
   "metadata": {},
   "outputs": [
    {
     "name": "stdout",
     "output_type": "stream",
     "text": [
      "b\n",
      "a\n",
      "n\n",
      "a\n",
      "n\n",
      "a\n"
     ]
    }
   ],
   "source": [
    "for x in \"banana\":\n",
    "    print(x)"
   ]
  },
  {
   "cell_type": "code",
   "execution_count": null,
   "id": "c71fcc41-54a0-4f30-af77-8de6b7735939",
   "metadata": {},
   "outputs": [],
   "source": [
    "''the break statement'''"
   ]
  },
  {
   "cell_type": "code",
   "execution_count": null,
   "id": "20bccc1d-c491-418b-a65f-0553de651202",
   "metadata": {},
   "outputs": [],
   "source": [
    "with the break statement we can stop the loop before it has loopes through all the items"
   ]
  },
  {
   "cell_type": "code",
   "execution_count": 129,
   "id": "94c75773-57d8-40e2-b6f7-2bbaaca266bf",
   "metadata": {},
   "outputs": [
    {
     "name": "stdout",
     "output_type": "stream",
     "text": [
      "apple\n",
      "banana\n",
      "cherry\n"
     ]
    }
   ],
   "source": [
    "friuts=[\"apple\",\"banana\",\"cherry\",\"papaya\"]\n",
    "for i in friuts:\n",
    "    print(i)\n",
    "    if i==\"cherry\":\n",
    "        break\n",
    "    "
   ]
  },
  {
   "cell_type": "code",
   "execution_count": null,
   "id": "db12bdde-4035-4dea-96c2-49327e027d5a",
   "metadata": {},
   "outputs": [],
   "source": [
    "Exit the loop when x is \"banana\" ,but this time break comes before the print:"
   ]
  },
  {
   "cell_type": "code",
   "execution_count": 125,
   "id": "125aa09e-e14e-4c94-ab24-ac670a27b033",
   "metadata": {},
   "outputs": [
    {
     "name": "stdout",
     "output_type": "stream",
     "text": [
      "apple\n",
      "banana\n"
     ]
    }
   ],
   "source": [
    "friuts=[\"apple\",\"banana\",\"cherry\",\"papaya\"]\n",
    "for i in friuts:\n",
    "    if i==\"cherry\":\n",
    "        break\n",
    "    print(i)\n",
    "    "
   ]
  },
  {
   "cell_type": "code",
   "execution_count": null,
   "id": "c89d6142-8bfc-4190-8bb2-dbbbfffd7d21",
   "metadata": {},
   "outputs": [],
   "source": [
    " for with continue\n",
    "with continue statement we can skip the current iteration and continue with the next:"
   ]
  },
  {
   "cell_type": "code",
   "execution_count": 137,
   "id": "4a8034fb-4f27-4d92-8cea-7ce28271a953",
   "metadata": {},
   "outputs": [
    {
     "name": "stdout",
     "output_type": "stream",
     "text": [
      "apple\n",
      "cherry\n",
      "apple\n"
     ]
    }
   ],
   "source": [
    "fruits = [\"apple\", \"banana\", \"cherry\",\"apple\"]\n",
    "for x in fruits:\n",
    "   if x == \"banana\":#skips\n",
    "    continue\n",
    "   print(x)\n",
    " "
   ]
  },
  {
   "cell_type": "code",
   "execution_count": null,
   "id": "9017923e-6f74-4a40-bed5-4a35453bd615",
   "metadata": {},
   "outputs": [],
   "source": [
    "\"\"\"the range() function\"\"\"\n",
    "to loop through a set of code specified of items,we can use the range() function"
   ]
  },
  {
   "cell_type": "code",
   "execution_count": null,
   "id": "1b53491e-d535-4f98-bdbe-cbeeda7d5ab1",
   "metadata": {},
   "outputs": [],
   "source": [
    "the range() function returns a sequence of numbers,starting from 0 by default and increaments by 1 (by default ) and ends at a specified"
   ]
  },
  {
   "cell_type": "code",
   "execution_count": 139,
   "id": "2b8d3728-7686-4c8e-80cf-a66b98e3dd90",
   "metadata": {},
   "outputs": [
    {
     "name": "stdout",
     "output_type": "stream",
     "text": [
      "0\n",
      "1\n",
      "2\n",
      "3\n",
      "4\n",
      "5\n"
     ]
    }
   ],
   "source": [
    "for  i in range(6):\n",
    "    print(i)"
   ]
  },
  {
   "cell_type": "code",
   "execution_count": 141,
   "id": "c81daeef-f28d-45bc-92a0-cba298330f70",
   "metadata": {},
   "outputs": [
    {
     "name": "stdout",
     "output_type": "stream",
     "text": [
      "2\n",
      "3\n",
      "4\n",
      "5\n"
     ]
    }
   ],
   "source": [
    "for i in range(2,6):\n",
    "    print(i)#which means values from 2 to 6 (but not including 6):"
   ]
  },
  {
   "cell_type": "code",
   "execution_count": null,
   "id": "1baafcf8-0006-4ac8-9985-8ee71c37049c",
   "metadata": {},
   "outputs": [],
   "source": [
    "the range function defaults to increament the sequence by 1,however \n",
    "it is possible to specify the increament value by adding a third parameter\n",
    "range(2,30,3)"
   ]
  },
  {
   "cell_type": "code",
   "execution_count": null,
   "id": "86bd41ab-3d9a-4ad0-80a9-c9676728c88d",
   "metadata": {},
   "outputs": [],
   "source": [
    "Increment the sequence with 3 (default is 1):"
   ]
  },
  {
   "cell_type": "code",
   "execution_count": 145,
   "id": "c6eb0ac1-759c-409a-af54-f852c334f43e",
   "metadata": {},
   "outputs": [
    {
     "name": "stdout",
     "output_type": "stream",
     "text": [
      "2\n",
      "5\n",
      "8\n",
      "11\n",
      "14\n",
      "17\n",
      "20\n",
      "23\n",
      "26\n",
      "29\n"
     ]
    }
   ],
   "source": [
    "for i in range(2,30,3):\n",
    "      print(i)"
   ]
  },
  {
   "cell_type": "code",
   "execution_count": null,
   "id": "0c37ad99-77ca-491b-bfaf-6595fdfacfe8",
   "metadata": {},
   "outputs": [],
   "source": [
    "**Else in for loop"
   ]
  },
  {
   "cell_type": "code",
   "execution_count": null,
   "id": "30c68ba9-85dc-441f-9873-22f61343b2dc",
   "metadata": {},
   "outputs": [],
   "source": [
    "the else keyword in for loop specifies a block of code to be executed when the loop is finished:"
   ]
  },
  {
   "cell_type": "code",
   "execution_count": 147,
   "id": "18cc5282-0849-4460-a8a6-03130f57cfeb",
   "metadata": {},
   "outputs": [
    {
     "name": "stdout",
     "output_type": "stream",
     "text": [
      "0\n",
      "1\n",
      "2\n",
      "loop is finished\n"
     ]
    }
   ],
   "source": [
    "for x in range(3):\n",
    "    print(x)\n",
    "else:\n",
    "    print(\"loop is finished\")"
   ]
  },
  {
   "cell_type": "code",
   "execution_count": null,
   "id": "17200143-f7a9-4ca8-b42b-a5ae256774ce",
   "metadata": {},
   "outputs": [],
   "source": [
    "Note: The else block will NOT be executed if the loop is stopped by a break statement."
   ]
  },
  {
   "cell_type": "code",
   "execution_count": 155,
   "id": "75d1bf9b-a3f3-471b-952f-65009f7e928e",
   "metadata": {},
   "outputs": [
    {
     "name": "stdout",
     "output_type": "stream",
     "text": [
      "0\n",
      "1\n",
      "2\n"
     ]
    }
   ],
   "source": [
    "for x in range(3):\n",
    "    print(x)\n",
    "    if x==2:\n",
    "        break\n",
    "    \n",
    "else:\n",
    "    print(\"loop is finished\")"
   ]
  },
  {
   "cell_type": "code",
   "execution_count": null,
   "id": "dbea7673-3079-431e-accc-bb3f60598840",
   "metadata": {},
   "outputs": [],
   "source": [
    "**Nested LOOPs **\n",
    "A nested loop is a loop inside the loop\n",
    "The \"Inner loop\" is executed one time for each iteration of the \"outer loop\""
   ]
  },
  {
   "cell_type": "code",
   "execution_count": 165,
   "id": "56908dae-c10a-4bf0-8d93-18bc2eb89319",
   "metadata": {},
   "outputs": [
    {
     "name": "stdout",
     "output_type": "stream",
     "text": [
      "red apple\n",
      "red banana\n",
      "red cherry\n",
      "blue apple\n",
      "blue banana\n",
      "blue cherry\n",
      "tastt apple\n",
      "tastt banana\n",
      "tastt cherry\n"
     ]
    }
   ],
   "source": [
    "list1=[\"red\",\"blue\",\"tastt\"]\n",
    "fruits=[\"apple\",\"banana\",\"cherry\"]\n",
    "for i in list1:\n",
    "    for j in fruits:\n",
    "        print(i,j)"
   ]
  },
  {
   "cell_type": "code",
   "execution_count": null,
   "id": "fe7b28ce-7acc-4935-a8c5-2818a81833eb",
   "metadata": {},
   "outputs": [],
   "source": [
    "** pass statement **\n",
    "for loops cannot be empty , but you have some reason have for loop with no content ,put in the pass statement to avoid getting error"
   ]
  },
  {
   "cell_type": "code",
   "execution_count": 167,
   "id": "70c527f8-9b25-4711-bc5b-3a89f68b44e8",
   "metadata": {},
   "outputs": [],
   "source": [
    "for i in [1,2,34]:\n",
    "    pass\n"
   ]
  },
  {
   "cell_type": "code",
   "execution_count": 211,
   "id": "0c8e232a-3e55-4bde-8253-9f101e954c86",
   "metadata": {},
   "outputs": [
    {
     "name": "stdout",
     "output_type": "stream",
     "text": [
      "['hi', 'hello'] nk 313\n"
     ]
    }
   ],
   "source": []
  }
 ],
 "metadata": {
  "kernelspec": {
   "display_name": "Python 3 (ipykernel)",
   "language": "python",
   "name": "python3"
  },
  "language_info": {
   "codemirror_mode": {
    "name": "ipython",
    "version": 3
   },
   "file_extension": ".py",
   "mimetype": "text/x-python",
   "name": "python",
   "nbconvert_exporter": "python",
   "pygments_lexer": "ipython3",
   "version": "3.12.4"
  }
 },
 "nbformat": 4,
 "nbformat_minor": 5
}
