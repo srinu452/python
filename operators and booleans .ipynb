{
 "cells": [
  {
   "cell_type": "code",
   "execution_count": null,
   "id": "a5206197-f46e-4180-8023-fda633c12c55",
   "metadata": {},
   "outputs": [],
   "source": [
    "\"\"\"Python Booleans\"\"\""
   ]
  },
  {
   "cell_type": "code",
   "execution_count": null,
   "id": "a3a9dfa3-435c-4443-87c3-9b040ca46c4a",
   "metadata": {},
   "outputs": [],
   "source": [
    "Booleans represent one of two values: True or False."
   ]
  },
  {
   "cell_type": "code",
   "execution_count": null,
   "id": "25d6c498-8544-4ad4-9673-44437c13e702",
   "metadata": {},
   "outputs": [],
   "source": [
    "When you compare two values, the expression is evaluated and Python returns the Boolean answer:"
   ]
  },
  {
   "cell_type": "code",
   "execution_count": 1,
   "id": "e939e43e-f63c-4b4f-b564-e5332722062a",
   "metadata": {},
   "outputs": [
    {
     "name": "stdout",
     "output_type": "stream",
     "text": [
      "True\n",
      "False\n",
      "False\n"
     ]
    }
   ],
   "source": [
    "print(10 > 9)\n",
    "print(10 == 9)\n",
    "print(10 < 9)"
   ]
  },
  {
   "cell_type": "code",
   "execution_count": null,
   "id": "afddde85-e79c-4698-8cf6-75108ed8976d",
   "metadata": {},
   "outputs": [],
   "source": [
    "When you run a condition in an if statement, Python returns True or False:"
   ]
  },
  {
   "cell_type": "code",
   "execution_count": null,
   "id": "5db8f524-7af1-4a5f-9b78-fb1797fa69b9",
   "metadata": {},
   "outputs": [],
   "source": [
    "Print a message based on whether the condition is True or False:"
   ]
  },
  {
   "cell_type": "code",
   "execution_count": 3,
   "id": "87351079-40f3-479a-b2ca-9e3339185490",
   "metadata": {},
   "outputs": [
    {
     "name": "stdout",
     "output_type": "stream",
     "text": [
      "b is not greater than a\n"
     ]
    }
   ],
   "source": [
    "a = 200\n",
    "b = 33\n",
    "\n",
    "if b > a:\n",
    "  print(\"b is greater than a\")\n",
    "else:\n",
    "  print(\"b is not greater than a\")"
   ]
  },
  {
   "cell_type": "code",
   "execution_count": null,
   "id": "f01f138f-f086-41be-b3f0-e9bdd5a725e3",
   "metadata": {},
   "outputs": [],
   "source": [
    "'''Evaluate Values and Variables'''"
   ]
  },
  {
   "cell_type": "code",
   "execution_count": null,
   "id": "84fe5af8-fc06-47dd-a2ff-21d4364552ee",
   "metadata": {},
   "outputs": [],
   "source": [
    "The bool() function allows you to evaluate any value, and give you True or False in return,"
   ]
  },
  {
   "cell_type": "code",
   "execution_count": 5,
   "id": "7fb06940-07b6-4449-8256-6c6f72b74111",
   "metadata": {},
   "outputs": [
    {
     "name": "stdout",
     "output_type": "stream",
     "text": [
      "True\n",
      "True\n"
     ]
    }
   ],
   "source": [
    "# Example\n",
    "# Evaluate a string and a number:\n",
    "\n",
    "print(bool(\"Hello\"))\n",
    "print(bool(15))"
   ]
  },
  {
   "cell_type": "code",
   "execution_count": 7,
   "id": "bfd4f8be-d8ea-4623-8e16-127740fffdb8",
   "metadata": {},
   "outputs": [
    {
     "name": "stdout",
     "output_type": "stream",
     "text": [
      "True\n",
      "True\n"
     ]
    }
   ],
   "source": [
    "# Evaluate two variables:\n",
    "\n",
    "x = \"Hello\"\n",
    "y = 15\n",
    "\n",
    "print(bool(x))\n",
    "print(bool(y))"
   ]
  },
  {
   "cell_type": "code",
   "execution_count": null,
   "id": "f46fe0de-85d7-4988-824f-e24d13733e89",
   "metadata": {},
   "outputs": [],
   "source": [
    "Most Values are True"
   ]
  },
  {
   "cell_type": "code",
   "execution_count": null,
   "id": "0d98d6ba-09f7-43f0-8dad-022d2cf8616c",
   "metadata": {},
   "outputs": [],
   "source": [
    "1.Almost any value is evaluated to True if it has some sort of content.\n",
    "\n",
    "2.Any string is True, except empty strings.\n",
    "\n",
    "3.Any number is True, except 0.\n",
    "\n",
    "4.Any list, tuple, set, and dictionary are True, except empty ones."
   ]
  },
  {
   "cell_type": "code",
   "execution_count": 11,
   "id": "30b336e7-6136-495c-9d31-b7c421f3fe6a",
   "metadata": {},
   "outputs": [
    {
     "name": "stdout",
     "output_type": "stream",
     "text": [
      "True True True\n"
     ]
    }
   ],
   "source": [
    "# The following will return True:\n",
    "\n",
    "print(bool(\"abc\"),\n",
    "bool(123),\n",
    "bool([\"apple\", \"cherry\", \"banana\"]),)"
   ]
  },
  {
   "cell_type": "code",
   "execution_count": null,
   "id": "43bd097c-e5f2-43ee-b19d-c646b2d069f8",
   "metadata": {},
   "outputs": [],
   "source": [
    "Some Values are False"
   ]
  },
  {
   "cell_type": "code",
   "execution_count": null,
   "id": "9fde6c05-46e9-43f7-878f-5bee6b1e8be4",
   "metadata": {},
   "outputs": [],
   "source": [
    "In fact, there are not many values that evaluate to False, except empty values, such as (), [], {}, \"\", the number 0, and the value None. And of course the value False evaluates to False."
   ]
  },
  {
   "cell_type": "code",
   "execution_count": 13,
   "id": "bc62009a-c348-4612-aa71-580f7879f9e7",
   "metadata": {},
   "outputs": [
    {
     "name": "stdout",
     "output_type": "stream",
     "text": [
      "False False False False False False False\n"
     ]
    }
   ],
   "source": [
    "# The following will return False:\n",
    "\n",
    "print(bool(False),\n",
    "bool(None),\n",
    "bool(0),\n",
    "bool(\"\"),\n",
    "bool(()),\n",
    "bool([]),\n",
    "bool({}),)"
   ]
  },
  {
   "cell_type": "code",
   "execution_count": null,
   "id": "15bfeef9-cf2b-44d6-af63-162c84657544",
   "metadata": {},
   "outputs": [],
   "source": [
    "# One more value, or object in this case, evaluates to False, and that is if you have an object that is\n",
    "# made from a class with a __len__ function that returns 0 or False:"
   ]
  },
  {
   "cell_type": "code",
   "execution_count": 15,
   "id": "f1d0f544-0f62-4f7d-bfdb-3080dad99905",
   "metadata": {},
   "outputs": [
    {
     "name": "stdout",
     "output_type": "stream",
     "text": [
      "False\n"
     ]
    }
   ],
   "source": [
    "class myclass():\n",
    "    def __len__(self):\n",
    "        return 0\n",
    "myobj=myclass()\n",
    "print(bool(myobj))"
   ]
  },
  {
   "cell_type": "code",
   "execution_count": null,
   "id": "e6228af7-d17f-43b9-99bb-53a8127499ea",
   "metadata": {},
   "outputs": [],
   "source": [
    "'''Functions can return a boolean value'''"
   ]
  },
  {
   "cell_type": "code",
   "execution_count": null,
   "id": "ba0a79ad-7ab1-472b-aca3-1fa8c585ccc2",
   "metadata": {},
   "outputs": [],
   "source": [
    "you can create a function that returns a boolean value"
   ]
  },
  {
   "cell_type": "code",
   "execution_count": 17,
   "id": "e90bf310-3625-420c-8581-9ce5cfae0f34",
   "metadata": {},
   "outputs": [
    {
     "name": "stdout",
     "output_type": "stream",
     "text": [
      "True\n"
     ]
    }
   ],
   "source": [
    "def myFunction():\n",
    "    return True\n",
    "print(myFunction())"
   ]
  },
  {
   "cell_type": "code",
   "execution_count": null,
   "id": "8c26f8f5-3c24-49dc-8a67-0f3ed68f85a3",
   "metadata": {},
   "outputs": [],
   "source": [
    "You can execute code based on the Boolean answer of a function:"
   ]
  },
  {
   "cell_type": "code",
   "execution_count": null,
   "id": "0942867e-3519-45f1-b76d-0d742386cc34",
   "metadata": {},
   "outputs": [],
   "source": [
    "print YES if my condition return True otherwise print \"no\";"
   ]
  },
  {
   "cell_type": "code",
   "execution_count": 25,
   "id": "ba2eab51-5034-40ef-b116-e12f73ebb17c",
   "metadata": {},
   "outputs": [
    {
     "name": "stdout",
     "output_type": "stream",
     "text": [
      "Yes\n"
     ]
    }
   ],
   "source": [
    "def myFunction():\n",
    "    \n",
    "    return True\n",
    "    \n",
    "if myFunction():\n",
    "    print(\"Yes\")\n",
    "else:\n",
    "    print(\"No\")"
   ]
  },
  {
   "cell_type": "code",
   "execution_count": null,
   "id": "eeac07a1-1685-4003-97ea-0402d80a4efb",
   "metadata": {},
   "outputs": [],
   "source": [
    "''isinstance() function also returns boolean value''"
   ]
  },
  {
   "cell_type": "code",
   "execution_count": 31,
   "id": "41ee34ac-61b4-4cec-8ebf-2f45923695a2",
   "metadata": {},
   "outputs": [
    {
     "name": "stdout",
     "output_type": "stream",
     "text": [
      "True\n"
     ]
    }
   ],
   "source": [
    "x=23\n",
    "print(isinstance(x,int))"
   ]
  },
  {
   "cell_type": "code",
   "execution_count": null,
   "id": "605a2f9c-f718-45ed-82d1-b1c18b669e69",
   "metadata": {},
   "outputs": [],
   "source": []
  },
  {
   "cell_type": "code",
   "execution_count": null,
   "id": "61f8addd-36e0-425c-8ee9-0f3b13b1db39",
   "metadata": {},
   "outputs": [],
   "source": []
  },
  {
   "cell_type": "code",
   "execution_count": null,
   "id": "4d2d259f-49ef-4ce1-a209-27d2c5dc7ad3",
   "metadata": {},
   "outputs": [],
   "source": [
    "''' Python Operators'''"
   ]
  },
  {
   "cell_type": "code",
   "execution_count": null,
   "id": "f663d74f-5cd9-4aa2-b8d2-447365981599",
   "metadata": {},
   "outputs": [],
   "source": [
    "operators are used to perform operations on variables and values"
   ]
  },
  {
   "cell_type": "code",
   "execution_count": 33,
   "id": "42d8d375-cb1b-42f8-8502-a2a565950942",
   "metadata": {},
   "outputs": [
    {
     "name": "stdout",
     "output_type": "stream",
     "text": [
      "33\n"
     ]
    }
   ],
   "source": [
    "# ex:\n",
    "print(10+23)"
   ]
  },
  {
   "cell_type": "code",
   "execution_count": null,
   "id": "8aa089db-a4d3-4b66-99fa-9efcbef6ccb7",
   "metadata": {},
   "outputs": [],
   "source": [
    "Python divides the operators in the following groups:\n",
    "\n",
    "1.Arithmetic operators\n",
    "2.Assignment operators\n",
    "3.Comparison operators\n",
    "4.Logical operators\n",
    "5.Identity operators\n",
    "6.Membership operators\n",
    "7.Bitwise operators"
   ]
  },
  {
   "cell_type": "code",
   "execution_count": null,
   "id": "22a33e3c-7666-4164-8b5d-3abfdb466d35",
   "metadata": {},
   "outputs": [],
   "source": [
    "'''1.Arithematic Operators'''"
   ]
  },
  {
   "cell_type": "code",
   "execution_count": null,
   "id": "4e2cbce7-7d06-40b0-b2fc-9426fffbb51f",
   "metadata": {},
   "outputs": [],
   "source": [
    "Arithematic operators are used with numeric values to perform mathematical operations"
   ]
  },
  {
   "cell_type": "code",
   "execution_count": null,
   "id": "b342ce5a-26a2-48f9-a22e-140f35bde036",
   "metadata": {},
   "outputs": [],
   "source": [
    "Operator\t            Name\t                  Example\t\n",
    "+\t                  Addition\t                   x + y\t\n",
    "-\t               Subtraction                   \tx - y\t\n",
    "*\t                Multiplication\t                 x * y\t\n",
    "/                    \tDivision                 \tx / y\t\n",
    "%\t                       Modulus\t                  x % y\t\n",
    "**\t                    Exponentiation\t          x ** y\t\n",
    "//\t                    Floor division         \tx // y"
   ]
  },
  {
   "cell_type": "code",
   "execution_count": 59,
   "id": "7817036a-f56c-47d9-af6f-d812ee6daa11",
   "metadata": {},
   "outputs": [
    {
     "name": "stdout",
     "output_type": "stream",
     "text": [
      "35\n",
      "-11\n",
      "276\n",
      "1.0\n",
      "3\n",
      "6\n",
      "27\n"
     ]
    }
   ],
   "source": [
    "print(12+23)\n",
    "print(12-23)\n",
    "print(12*23)\n",
    "print(23/23)\n",
    "print(23%10) #it give remainder value\n",
    "print(24//4)#It gives quotient value\n",
    "print(3**3) #here exponently multiplying"
   ]
  },
  {
   "cell_type": "code",
   "execution_count": null,
   "id": "25b293e1-4734-402c-adea-8c6d9493994e",
   "metadata": {},
   "outputs": [],
   "source": [
    "'''2.Assighnment Operators'''"
   ]
  },
  {
   "cell_type": "code",
   "execution_count": null,
   "id": "febc9f84-3955-426f-a4ec-4e372db22f57",
   "metadata": {},
   "outputs": [],
   "source": [
    "Assignment operators are used to assign values to variables:"
   ]
  },
  {
   "cell_type": "code",
   "execution_count": null,
   "id": "6ba423de-08cd-4e98-85e8-89ac9fc0189e",
   "metadata": {},
   "outputs": [],
   "source": [
    "Operator               \tExample\t                   Same As\n",
    "=\t                       x = 5\t               x = 5\n",
    "+=\t                       x += 3\t              x = x + 3\t\n",
    "-=\t                       x -= 3            \tx = x - 3\t\n",
    "*=\t                      x *= 3\t                x = x * 3\t\n",
    "/=\t                     x /= 3\t                   x = x / 3\t\n",
    "%=\t                       x %= 3\t               x = x % 3\t\n",
    "//=\t                    x //= 3              \tx = x // 3\t\n",
    "**=\t                        x **= 3\t           x = x ** 3\t\n",
    "&=\t                    x &= 3                \tx = x & 3\t\n",
    "|=\t                     x |= 3\t               x = x | 3\t\n",
    "^=\t                        x ^= 3\t          x = x ^ 3\t\n",
    ">>=\t                        x >>= 3          \tx = x >> 3\t\n",
    "<<=\t                     x <<= 3         \tx = x << 3\t\n",
    ":=\t                    print(x := 3)         \tx = 3\n",
    "                                                    print(x)"
   ]
  },
  {
   "cell_type": "code",
   "execution_count": 7,
   "id": "53babc70-ed92-4e61-9e1e-d04ad353b0c2",
   "metadata": {},
   "outputs": [
    {
     "name": "stdout",
     "output_type": "stream",
     "text": [
      "10\n",
      "22\n",
      "10\n",
      "100\n",
      "10.0\n",
      "3.0\n",
      "3.0\n",
      "59049.0\n",
      "59049\n"
     ]
    }
   ],
   "source": [
    "x=10\n",
    "print(x)\n",
    "x+=12 #x=x+12\n",
    "print(x)\n",
    "x-=12#x=x-12\n",
    "print(x)\n",
    "x*=10#x=x*10\n",
    "print(x)\n",
    "x/=10#x=x/10\n",
    "print(x)\n",
    "x%=7#x=x%7 #remainder\n",
    "print(x)\n",
    "x//=1 #x=x//1 #quotient\n",
    "print(x)\n",
    "x**=10#x=x**10\n",
    "print(x)\n",
    "print(int(x))\n",
    "\n",
    "\n"
   ]
  },
  {
   "cell_type": "code",
   "execution_count": null,
   "id": "6f78c0a5-4490-49cc-9c58-f646b4f45e9a",
   "metadata": {},
   "outputs": [],
   "source": [
    "#Bitwise operators"
   ]
  },
  {
   "cell_type": "code",
   "execution_count": 13,
   "id": "af954cf8-7d35-4f7b-b00b-390a962d99dd",
   "metadata": {},
   "outputs": [
    {
     "name": "stdout",
     "output_type": "stream",
     "text": [
      "1\n",
      "3\n"
     ]
    }
   ],
   "source": [
    "# 1.bitwise and (&) operator\n",
    "a=5 # 0101(8421)\n",
    "b=3#0011 \n",
    "# if both elements are true(1) it will give true means 1.otherwise 0\n",
    "print(a&b)\n",
    "\n",
    "a=23#10111\n",
    "a&=3#00011#a=a&3\n",
    "print(a)\n"
   ]
  },
  {
   "cell_type": "code",
   "execution_count": 23,
   "id": "6cbf4869-84cd-4580-8eb3-13f6ec7f5569",
   "metadata": {},
   "outputs": [
    {
     "name": "stdout",
     "output_type": "stream",
     "text": [
      "5\n",
      "3\n"
     ]
    }
   ],
   "source": [
    "#bitwise or (|) operator\n",
    "\n",
    "# if both elements are 0 it will give 0 otherwise 1.\n",
    "a=5#0101\n",
    "b=4#0100\n",
    "print(a|b)\n",
    "a=3#0011\n",
    "a|=2#0010#a=a|2\n",
    "print(a)\n",
    "\n"
   ]
  },
  {
   "cell_type": "code",
   "execution_count": 27,
   "id": "d7a75845-fe7c-4abf-93de-f8af2b1b8bdf",
   "metadata": {},
   "outputs": [
    {
     "name": "stdout",
     "output_type": "stream",
     "text": [
      "6\n",
      "10\n"
     ]
    }
   ],
   "source": [
    "# bitwise xor(^) operators\n",
    "# if both bits are same it will give 0 if it will give 1 if the both bits are different \n",
    "a=4#0100\n",
    "b=2#0010\n",
    "print(a^b)\n",
    "\n",
    "a=8#1000\n",
    "a^=2#0010\n",
    "print(a)"
   ]
  },
  {
   "cell_type": "code",
   "execution_count": 137,
   "id": "8f58f238-26c9-4343-b7a4-fa9abdbfa471",
   "metadata": {},
   "outputs": [
    {
     "name": "stdout",
     "output_type": "stream",
     "text": [
      "-6\n",
      "-17\n"
     ]
    }
   ],
   "source": [
    "# compliment(~)(not) operator\n",
    "# it will give opisite bits to the real bitslike 1 to 0 and 0 to 1\n",
    "\n",
    "a=5#0101\n",
    "# It will give the 2's complement of answer so it is \n",
    "# 2's complement means 1's+1\n",
    "print(~a)\n",
    "a=16#10000 -> 1's -> 01111->2's->add 1->10000\n",
    "print(~a)\n",
    "\n",
    "simply-(a+1)\n"
   ]
  },
  {
   "cell_type": "code",
   "execution_count": null,
   "id": "39ba58a6-ba54-4f58-bde4-fca0b0090761",
   "metadata": {},
   "outputs": [],
   "source": [
    "left shift(<<)\n",
    "It means if we give left shit of how many times it will move towads left to that times and on right side it will take 0's"
   ]
  },
  {
   "cell_type": "code",
   "execution_count": 41,
   "id": "4582efcf-af43-4f02-adf9-02b7d56d1cb4",
   "metadata": {},
   "outputs": [
    {
     "name": "stdout",
     "output_type": "stream",
     "text": [
      "20\n"
     ]
    }
   ],
   "source": [
    "a=5#0101->\n",
    "01 two bits are move to left means we have only two bits \n",
    "0101add two zeros at right \n",
    "0  1  0 1 (0  0) left shit bits\n",
    "32,16,8,4,2, 1 #20\n",
    "print(a<<2)\n",
    "#(a*2^n) formula for left shift\n"
   ]
  },
  {
   "cell_type": "code",
   "execution_count": 49,
   "id": "51037a7a-9ecb-4b63-a90f-afaa76525f99",
   "metadata": {},
   "outputs": [
    {
     "name": "stdout",
     "output_type": "stream",
     "text": [
      "40\n"
     ]
    }
   ],
   "source": [
    "a=5#0101->0101000\n",
    "a<<=3 #a=a<<3\n",
    "print(a)"
   ]
  },
  {
   "cell_type": "code",
   "execution_count": null,
   "id": "56107c8a-6d39-4e94-a103-dfab1e4073d2",
   "metadata": {},
   "outputs": [],
   "source": [
    "right shift(>>)\n",
    "in this we loose the bits how many times we mention and add those deleted bits with 0's"
   ]
  },
  {
   "cell_type": "code",
   "execution_count": 51,
   "id": "4cfd4e67-a9cb-4b88-b2dd-fc4935f6756c",
   "metadata": {},
   "outputs": [
    {
     "data": {
      "text/plain": [
       "0"
      ]
     },
     "execution_count": 51,
     "metadata": {},
     "output_type": "execute_result"
    }
   ],
   "source": [
    "#ex:\n",
    "a=3#0011->loose all and gives 0\n",
    "a>>4"
   ]
  },
  {
   "cell_type": "code",
   "execution_count": 57,
   "id": "dfc8279b-5dfb-44b8-b510-29c22f3b3d9f",
   "metadata": {},
   "outputs": [
    {
     "data": {
      "text/plain": [
       "1"
      ]
     },
     "execution_count": 57,
     "metadata": {},
     "output_type": "execute_result"
    }
   ],
   "source": [
    "a=5#0101->0001\n",
    "a>>2"
   ]
  },
  {
   "cell_type": "code",
   "execution_count": null,
   "id": "635095da-d353-49e7-9948-65142d6ef58c",
   "metadata": {},
   "outputs": [],
   "source": [
    "3.python comparision operators(==,!=,>,<,>=,<=)"
   ]
  },
  {
   "cell_type": "code",
   "execution_count": null,
   "id": "59d95251-f3e5-475c-bb16-6626f1c7c4d6",
   "metadata": {},
   "outputs": [],
   "source": [
    "Comparison operators are used to compare two values:"
   ]
  },
  {
   "cell_type": "code",
   "execution_count": 59,
   "id": "d6d9242d-ec15-45a4-865d-c0044e6c09e5",
   "metadata": {},
   "outputs": [
    {
     "name": "stdout",
     "output_type": "stream",
     "text": [
      "False\n"
     ]
    }
   ],
   "source": [
    "x=4\n",
    "y=3\n",
    "print(x==y)"
   ]
  },
  {
   "cell_type": "code",
   "execution_count": 61,
   "id": "da220460-7910-493f-b1f8-cd45620e288e",
   "metadata": {},
   "outputs": [
    {
     "name": "stdout",
     "output_type": "stream",
     "text": [
      "True\n"
     ]
    }
   ],
   "source": [
    "print(x!=y)"
   ]
  },
  {
   "cell_type": "code",
   "execution_count": 63,
   "id": "ce138f80-c452-4d53-a038-3b5a2b43b293",
   "metadata": {},
   "outputs": [
    {
     "name": "stdout",
     "output_type": "stream",
     "text": [
      "False\n"
     ]
    }
   ],
   "source": [
    "print(x<y)"
   ]
  },
  {
   "cell_type": "code",
   "execution_count": 65,
   "id": "474ce4fd-7c0e-4112-adbe-d56a7cbc8d23",
   "metadata": {},
   "outputs": [
    {
     "name": "stdout",
     "output_type": "stream",
     "text": [
      "True\n"
     ]
    }
   ],
   "source": [
    "print(x>y)"
   ]
  },
  {
   "cell_type": "code",
   "execution_count": 67,
   "id": "4d0aeee8-7fd6-4e0d-8919-9e1550cf3041",
   "metadata": {},
   "outputs": [
    {
     "name": "stdout",
     "output_type": "stream",
     "text": [
      "False\n"
     ]
    }
   ],
   "source": [
    "print(x<=y)"
   ]
  },
  {
   "cell_type": "code",
   "execution_count": 69,
   "id": "b4a9b3cb-3748-4b50-9fe8-a7028c877ad1",
   "metadata": {},
   "outputs": [
    {
     "name": "stdout",
     "output_type": "stream",
     "text": [
      "True\n"
     ]
    }
   ],
   "source": [
    "print(x>=y)"
   ]
  },
  {
   "cell_type": "code",
   "execution_count": null,
   "id": "1b2b7d0a-74ec-4b8f-9fd8-6126167ad92e",
   "metadata": {},
   "outputs": [],
   "source": [
    "4.python logical opearators"
   ]
  },
  {
   "cell_type": "code",
   "execution_count": null,
   "id": "86608986-0cc7-4e74-bea0-f8a2d4a7d076",
   "metadata": {},
   "outputs": [],
   "source": [
    "logical opearotors are used combine condition statements:"
   ]
  },
  {
   "cell_type": "code",
   "execution_count": 71,
   "id": "e5ea97a6-612d-4d3b-b9db-e4db72151f8f",
   "metadata": {},
   "outputs": [
    {
     "name": "stdout",
     "output_type": "stream",
     "text": [
      "x is smaller\n"
     ]
    }
   ],
   "source": [
    "1.and (\tReturns True if both statements are true)\n",
    "x=12\n",
    "if x<12 and x>12:\n",
    "    print(\"x is greater\")\n",
    "else:\n",
    "    print(\"x is smaller\")\n",
    "    "
   ]
  },
  {
   "cell_type": "code",
   "execution_count": 77,
   "id": "b1de0b90-14e0-4cdb-bfa8-5e1504afd802",
   "metadata": {},
   "outputs": [
    {
     "name": "stdout",
     "output_type": "stream",
     "text": [
      "x is greater\n"
     ]
    }
   ],
   "source": [
    "2. or(\tReturns True if one of the statements is true\t)\n",
    "x=12\n",
    "if x<12 or x==12:\n",
    "    print(\"x is greater\")\n",
    "else:\n",
    "    print(\"x is smaller\")\n",
    "    "
   ]
  },
  {
   "cell_type": "code",
   "execution_count": 79,
   "id": "7be83692-a639-4782-9c95-038e2220819b",
   "metadata": {},
   "outputs": [
    {
     "name": "stdout",
     "output_type": "stream",
     "text": [
      "x is smaller\n"
     ]
    }
   ],
   "source": [
    "3.not(\tReverse the result, returns False if the result is true)\n",
    "x=12\n",
    "if not(x<12 or x==12):\n",
    "    print(\"x is greater\")\n",
    "else:\n",
    "    print(\"x is smaller\")\n",
    "    "
   ]
  },
  {
   "cell_type": "code",
   "execution_count": null,
   "id": "173cfd9c-9037-444f-8c0b-9e220135fbb5",
   "metadata": {},
   "outputs": [],
   "source": [
    "5.python Identity operators"
   ]
  },
  {
   "cell_type": "code",
   "execution_count": null,
   "id": "bee0c0ae-4a38-4f07-a73f-18e804b5de18",
   "metadata": {},
   "outputs": [],
   "source": [
    "Identity operators are used to compare the objects not if they are equal ,but if they are equal actually the same object with the same memory l;ocation"
   ]
  },
  {
   "cell_type": "code",
   "execution_count": 87,
   "id": "bf520703-37d0-40e1-8e31-309479377f71",
   "metadata": {},
   "outputs": [
    {
     "name": "stdout",
     "output_type": "stream",
     "text": [
      "equal\n"
     ]
    }
   ],
   "source": [
    "1.is(Returns True if both variables are the same object)\n",
    "x=12\n",
    "y=12\n",
    "if x is y:\n",
    "    print(\"equal\")\n",
    "else:\n",
    "    print(\"not equal\")\n",
    "\n",
    "\n"
   ]
  },
  {
   "cell_type": "code",
   "execution_count": 91,
   "id": "2ce7413c-c300-400e-a7f4-2504d421b534",
   "metadata": {},
   "outputs": [
    {
     "name": "stdout",
     "output_type": "stream",
     "text": [
      "equal\n"
     ]
    }
   ],
   "source": [
    "2.is not(Returns True if both variables are not the same object)\n",
    "x=12\n",
    "y=13\n",
    "if x is not  y:\n",
    "    print(\"equal\")\n",
    "else:\n",
    "    print(\"not equal\")\n",
    "\n"
   ]
  },
  {
   "cell_type": "code",
   "execution_count": null,
   "id": "d9ff7093-fddd-44ce-875f-e211abacdeee",
   "metadata": {},
   "outputs": [],
   "source": [
    "6.Membership operators"
   ]
  },
  {
   "cell_type": "code",
   "execution_count": null,
   "id": "8184a74c-0c64-4c6b-a57a-de79562fe949",
   "metadata": {},
   "outputs": [],
   "source": [
    "Memebership operator are used to test to if a sequence present in an"
   ]
  },
  {
   "cell_type": "code",
   "execution_count": 101,
   "id": "9fcc1ef4-8a5c-44d7-b6bb-2e026aecbbd7",
   "metadata": {},
   "outputs": [
    {
     "name": "stdout",
     "output_type": "stream",
     "text": [
      "I love you\n"
     ]
    }
   ],
   "source": [
    "1.in(\tReturns True if a sequence with the specified value is present in the object)\n",
    "x=[\"apple\",\"banana\",\"reshma\"]\n",
    "ravi=[\"ravi\",\"reshama\"]\n",
    "if \"reshama\" in ravi:\n",
    "    print(\"I love you\")"
   ]
  },
  {
   "cell_type": "code",
   "execution_count": 105,
   "id": "fe82458b-4e99-4f76-b4d9-ae0e6af380d0",
   "metadata": {},
   "outputs": [
    {
     "name": "stdout",
     "output_type": "stream",
     "text": [
      "I hate you\n"
     ]
    }
   ],
   "source": [
    "ravi=[\"ravi\",\"reshama\"]\n",
    "if \"reshama\"  not in ravi:\n",
    "    print(\"I love you\")\n",
    "else:\n",
    "    print(\"I hate you\")"
   ]
  },
  {
   "cell_type": "code",
   "execution_count": 135,
   "id": "ff66b961-d2be-4937-a896-49a46d5f0a9f",
   "metadata": {},
   "outputs": [
    {
     "name": "stdout",
     "output_type": "stream",
     "text": [
      "-7\n"
     ]
    }
   ],
   "source": [
    "print(~6)#0110->1001>1010"
   ]
  },
  {
   "cell_type": "code",
   "execution_count": null,
   "id": "6ca3d105-893a-4ac8-b2e5-f0c004346d3d",
   "metadata": {},
   "outputs": [],
   "source": []
  },
  {
   "cell_type": "code",
   "execution_count": null,
   "id": "b4052d4b-2bab-4bd3-ba81-266113870a7d",
   "metadata": {},
   "outputs": [],
   "source": []
  },
  {
   "cell_type": "code",
   "execution_count": null,
   "id": "68b03f53-4a80-4d83-a73e-165de3120c1e",
   "metadata": {},
   "outputs": [],
   "source": []
  },
  {
   "cell_type": "code",
   "execution_count": null,
   "id": "da3147f4-987b-4fd4-b0f4-019b0448b0eb",
   "metadata": {},
   "outputs": [],
   "source": []
  },
  {
   "cell_type": "code",
   "execution_count": null,
   "id": "fd06d1de-2dfd-49dc-b843-465ce5f5f04b",
   "metadata": {},
   "outputs": [],
   "source": []
  },
  {
   "cell_type": "code",
   "execution_count": null,
   "id": "c815c2e1-cfd1-47ca-85b8-1387a2f9d171",
   "metadata": {},
   "outputs": [],
   "source": []
  },
  {
   "cell_type": "code",
   "execution_count": null,
   "id": "2878f5a0-7067-40bb-94b3-d5bf221e0a75",
   "metadata": {},
   "outputs": [],
   "source": []
  },
  {
   "cell_type": "code",
   "execution_count": null,
   "id": "6716b27d-16f7-4a24-93cd-a16bffefa871",
   "metadata": {},
   "outputs": [],
   "source": []
  },
  {
   "cell_type": "code",
   "execution_count": null,
   "id": "d67923fd-29f9-47a7-92c2-9d58a84cac48",
   "metadata": {},
   "outputs": [],
   "source": []
  },
  {
   "cell_type": "code",
   "execution_count": null,
   "id": "ad42fa28-7196-41fa-bbb7-1472703687d1",
   "metadata": {},
   "outputs": [],
   "source": []
  },
  {
   "cell_type": "code",
   "execution_count": null,
   "id": "d23b5e84-c017-4827-9471-b8f64d238231",
   "metadata": {},
   "outputs": [],
   "source": []
  }
 ],
 "metadata": {
  "kernelspec": {
   "display_name": "Python 3 (ipykernel)",
   "language": "python",
   "name": "python3"
  },
  "language_info": {
   "codemirror_mode": {
    "name": "ipython",
    "version": 3
   },
   "file_extension": ".py",
   "mimetype": "text/x-python",
   "name": "python",
   "nbconvert_exporter": "python",
   "pygments_lexer": "ipython3",
   "version": "3.12.4"
  }
 },
 "nbformat": 4,
 "nbformat_minor": 5
}
