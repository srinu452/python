{
 "cells": [
  {
   "cell_type": "code",
   "execution_count": null,
   "id": "81d8ad47-91dc-433c-ad6d-5ede46e92ec5",
   "metadata": {},
   "outputs": [],
   "source": [
    "              \"\"\""
   ]
  },
  {
   "cell_type": "code",
   "execution_count": null,
   "id": "913e7b8e-8ad0-4086-b9fc-32e4e5e8d8ec",
   "metadata": {},
   "outputs": [],
   "source": []
  },
  {
   "cell_type": "code",
   "execution_count": null,
   "id": "db253035-6538-420a-8b77-c43aed4754a3",
   "metadata": {},
   "outputs": [],
   "source": []
  },
  {
   "cell_type": "code",
   "execution_count": null,
   "id": "5776ebb7-b5a2-4e01-9af0-262aa4570a05",
   "metadata": {},
   "outputs": [],
   "source": []
  },
  {
   "cell_type": "code",
   "execution_count": null,
   "id": "f64b296f-0d8c-4362-a437-30b382469cae",
   "metadata": {},
   "outputs": [],
   "source": []
  },
  {
   "cell_type": "code",
   "execution_count": 15,
   "id": "e6f07446-a4f9-449e-b0b3-40d90494cd7e",
   "metadata": {},
   "outputs": [
    {
     "name": "stdout",
     "output_type": "stream",
     "text": [
      "HI,I am vasu \n",
      "I am adata scinece studnet\n"
     ]
    }
   ],
   "source": [
    "f1=open(\"file_1.txt\")\n",
    "data=f1.read()\n",
    "print(data)"
   ]
  },
  {
   "cell_type": "code",
   "execution_count": 17,
   "id": "5e34acd8-f604-4087-9ea2-e27666cf327e",
   "metadata": {},
   "outputs": [
    {
     "ename": "FileNotFoundError",
     "evalue": "[Errno 2] No such file or directory: 'file_2.txt'",
     "output_type": "error",
     "traceback": [
      "\u001b[1;31m----------------------------------------------------------------\u001b[0m",
      "\u001b[1;31mFileNotFoundError\u001b[0m              Traceback (most recent call last)",
      "Cell \u001b[1;32mIn[17], line 1\u001b[0m\n\u001b[1;32m----> 1\u001b[0m f1\u001b[38;5;241m=\u001b[39m\u001b[38;5;28mopen\u001b[39m(\u001b[38;5;124m\"\u001b[39m\u001b[38;5;124mfile_2.txt\u001b[39m\u001b[38;5;124m\"\u001b[39m)\n\u001b[0;32m      2\u001b[0m data\u001b[38;5;241m=\u001b[39mf1\u001b[38;5;241m.\u001b[39mread()\n\u001b[0;32m      3\u001b[0m \u001b[38;5;28mprint\u001b[39m(data)\n",
      "File \u001b[1;32m~\\anaconda3\\Lib\\site-packages\\IPython\\core\\interactiveshell.py:324\u001b[0m, in \u001b[0;36m_modified_open\u001b[1;34m(file, *args, **kwargs)\u001b[0m\n\u001b[0;32m    317\u001b[0m \u001b[38;5;28;01mif\u001b[39;00m file \u001b[38;5;129;01min\u001b[39;00m {\u001b[38;5;241m0\u001b[39m, \u001b[38;5;241m1\u001b[39m, \u001b[38;5;241m2\u001b[39m}:\n\u001b[0;32m    318\u001b[0m     \u001b[38;5;28;01mraise\u001b[39;00m \u001b[38;5;167;01mValueError\u001b[39;00m(\n\u001b[0;32m    319\u001b[0m         \u001b[38;5;124mf\u001b[39m\u001b[38;5;124m\"\u001b[39m\u001b[38;5;124mIPython won\u001b[39m\u001b[38;5;124m'\u001b[39m\u001b[38;5;124mt let you open fd=\u001b[39m\u001b[38;5;132;01m{\u001b[39;00mfile\u001b[38;5;132;01m}\u001b[39;00m\u001b[38;5;124m by default \u001b[39m\u001b[38;5;124m\"\u001b[39m\n\u001b[0;32m    320\u001b[0m         \u001b[38;5;124m\"\u001b[39m\u001b[38;5;124mas it is likely to crash IPython. If you know what you are doing, \u001b[39m\u001b[38;5;124m\"\u001b[39m\n\u001b[0;32m    321\u001b[0m         \u001b[38;5;124m\"\u001b[39m\u001b[38;5;124myou can use builtins\u001b[39m\u001b[38;5;124m'\u001b[39m\u001b[38;5;124m open.\u001b[39m\u001b[38;5;124m\"\u001b[39m\n\u001b[0;32m    322\u001b[0m     )\n\u001b[1;32m--> 324\u001b[0m \u001b[38;5;28;01mreturn\u001b[39;00m io_open(file, \u001b[38;5;241m*\u001b[39margs, \u001b[38;5;241m*\u001b[39m\u001b[38;5;241m*\u001b[39mkwargs)\n",
      "\u001b[1;31mFileNotFoundError\u001b[0m: [Errno 2] No such file or directory: 'file_2.txt'"
     ]
    }
   ],
   "source": [
    "f1=open(\"file_2.txt\")\n",
    "data=f1.read()\n",
    "print(data)"
   ]
  },
  {
   "cell_type": "code",
   "execution_count": 19,
   "id": "fe60978a-4f6e-4dfe-94cd-8831add6b778",
   "metadata": {},
   "outputs": [
    {
     "name": "stdout",
     "output_type": "stream",
     "text": [
      "HI,I am vasu \n",
      "I am adata scinece studnet\n"
     ]
    }
   ],
   "source": [
    "\n",
    "f1=open(\"file_1.txt\",\"r\")\n",
    "data=f1.read()\n",
    "print(data)"
   ]
  },
  {
   "cell_type": "code",
   "execution_count": 21,
   "id": "51743c48-e394-4150-ba15-6c4fc1f2ca39",
   "metadata": {},
   "outputs": [],
   "source": [
    "f1=open(\"file_2.txt\",\"w\")\n",
    "# data=f1.read()\n",
    "# print(data)"
   ]
  },
  {
   "cell_type": "code",
   "execution_count": 31,
   "id": "ec5e847a-07b1-4018-9b5d-2acee7b64e2a",
   "metadata": {},
   "outputs": [
    {
     "data": {
      "text/plain": [
       "39"
      ]
     },
     "execution_count": 31,
     "metadata": {},
     "output_type": "execute_result"
    }
   ],
   "source": [
    "f1=open(\"file_1.txt\",\"w\")\n",
    "# data=f1.read()\n",
    "# print(data)\n",
    "f1.write(\"I am data science student so,I need job\")\n"
   ]
  },
  {
   "cell_type": "code",
   "execution_count": 33,
   "id": "da9d897d-8a48-4726-8d18-bddf152a9206",
   "metadata": {},
   "outputs": [
    {
     "ename": "UnsupportedOperation",
     "evalue": "not readable",
     "output_type": "error",
     "traceback": [
      "\u001b[1;31m----------------------------------------------------------------\u001b[0m",
      "\u001b[1;31mUnsupportedOperation\u001b[0m           Traceback (most recent call last)",
      "Cell \u001b[1;32mIn[33], line 1\u001b[0m\n\u001b[1;32m----> 1\u001b[0m \u001b[38;5;28mprint\u001b[39m(f1\u001b[38;5;241m.\u001b[39mread())\n",
      "\u001b[1;31mUnsupportedOperation\u001b[0m: not readable"
     ]
    }
   ],
   "source": [
    "print(f1.read())"
   ]
  },
  {
   "cell_type": "code",
   "execution_count": 41,
   "id": "22a634ce-9ab7-464d-9bc7-6db70e6323f5",
   "metadata": {},
   "outputs": [
    {
     "name": "stdout",
     "output_type": "stream",
     "text": [
      "I am data science student so,I need jobI am data science student so,I need jobpython corse\n"
     ]
    },
    {
     "data": {
      "text/plain": [
       "12"
      ]
     },
     "execution_count": 41,
     "metadata": {},
     "output_type": "execute_result"
    }
   ],
   "source": [
    "f1=open(\"file_1.txt\",\"r+\")\n",
    "data=f1.read()\n",
    "print(data)\n",
    "f1.write(\"python corse\")"
   ]
  },
  {
   "cell_type": "code",
   "execution_count": 43,
   "id": "4bf87daa-41f3-4646-bf7b-1a096dded997",
   "metadata": {},
   "outputs": [
    {
     "name": "stdout",
     "output_type": "stream",
     "text": [
      "ience student so,I need jobI am data science student so,I need jobpython corsepython corse\n"
     ]
    }
   ],
   "source": [
    "f1=open(\"file_1.txt\",\"r+\")\n",
    "f1.write(\"python corse\")\n",
    "data=f1.read()\n",
    "print(data)"
   ]
  },
  {
   "cell_type": "code",
   "execution_count": 45,
   "id": "daad666a-3c6e-40d5-844f-5a8a224547b5",
   "metadata": {},
   "outputs": [
    {
     "name": "stdout",
     "output_type": "stream",
     "text": [
      "0\n",
      "12\n",
      "ience student so,I need jobI am data science student so,I need jobpython corsepython corse\n",
      "102\n"
     ]
    }
   ],
   "source": [
    "f1=open(\"file_1.txt\",\"r+\")\n",
    "print(f1.tell())\n",
    "f1.write(\"python corse\")\n",
    "print(f1.tell())\n",
    "data=f1.read()\n",
    "print(data)\n",
    "print(f1.tell())"
   ]
  },
  {
   "cell_type": "code",
   "execution_count": 61,
   "id": "c356b0df-8437-4712-8314-209dacd74ffa",
   "metadata": {},
   "outputs": [
    {
     "name": "stdout",
     "output_type": "stream",
     "text": [
      "0\n",
      "12\n",
      "29\n",
      "\n",
      "29\n"
     ]
    }
   ],
   "source": [
    "f1=open(\"file_1.txt\",\"w+\")\n",
    "print(f1.tell())#initially 0 th position\n",
    "f1.write(\"python corse\")\n",
    "print(f1.tell())#12th position\n",
    "f1.write(\"I am data science\")\n",
    "print(f1.tell())#29th position\n",
    "data=f1.read() #no data \n",
    "print(data)\n",
    "print(f1.tell()) #29TH position\n",
    "f1.close()"
   ]
  },
  {
   "cell_type": "code",
   "execution_count": 65,
   "id": "4c478b06-f3f0-4f5e-a8af-0f39a2d7808a",
   "metadata": {},
   "outputs": [
    {
     "name": "stdout",
     "output_type": "stream",
     "text": [
      "0\n",
      "12\n",
      "29\n",
      "0\n",
      "python corseI am data science\n",
      "29\n"
     ]
    }
   ],
   "source": [
    "f1=open(\"file_1.txt\",\"w+\")\n",
    "print(f1.tell())#initailly 0 position\n",
    "f1.write(\"python corse\")\n",
    "print(f1.tell())# 12th position\n",
    "f1.write(\"I am data science\")\n",
    "print(f1.tell())#29th position\n",
    "f1.seek(0) # it moves to first position\n",
    "print(f1.tell())\n",
    "data=f1.read()\n",
    "print(data)\n",
    "print(f1.tell())\n",
    "f1.close()"
   ]
  },
  {
   "cell_type": "code",
   "execution_count": null,
   "id": "44856eba-5d55-4d08-a439-0bf6f5a0264c",
   "metadata": {},
   "outputs": [],
   "source": [
    "append():\n",
    " It will add the content at the end of the file if file exists otherwise it will creates new file"
   ]
  },
  {
   "cell_type": "code",
   "execution_count": 67,
   "id": "3c899884-e8d2-4076-8963-5dc5cfa5b2dc",
   "metadata": {},
   "outputs": [],
   "source": [
    "f1=open(\"file_2.txt\",\"a\")"
   ]
  },
  {
   "cell_type": "code",
   "execution_count": 71,
   "id": "bc03e13d-f8ae-419b-b5e6-c41408d4cd55",
   "metadata": {},
   "outputs": [
    {
     "data": {
      "text/plain": [
       "14"
      ]
     },
     "execution_count": 71,
     "metadata": {},
     "output_type": "execute_result"
    }
   ],
   "source": [
    "f1=open(\"file_1.txt\",\"a\")\n",
    "f1.write(\"Hello Students\")"
   ]
  },
  {
   "cell_type": "code",
   "execution_count": 73,
   "id": "5f52a7ed-0999-47f5-8166-ef15a1efe938",
   "metadata": {},
   "outputs": [
    {
     "ename": "UnsupportedOperation",
     "evalue": "not readable",
     "output_type": "error",
     "traceback": [
      "\u001b[1;31m----------------------------------------------------------------\u001b[0m",
      "\u001b[1;31mUnsupportedOperation\u001b[0m           Traceback (most recent call last)",
      "Cell \u001b[1;32mIn[73], line 3\u001b[0m\n\u001b[0;32m      1\u001b[0m f1\u001b[38;5;241m=\u001b[39m\u001b[38;5;28mopen\u001b[39m(\u001b[38;5;124m\"\u001b[39m\u001b[38;5;124mfile_1.txt\u001b[39m\u001b[38;5;124m\"\u001b[39m,\u001b[38;5;124m\"\u001b[39m\u001b[38;5;124ma\u001b[39m\u001b[38;5;124m\"\u001b[39m)\n\u001b[0;32m      2\u001b[0m f1\u001b[38;5;241m.\u001b[39mwrite(\u001b[38;5;124m\"\u001b[39m\u001b[38;5;124mHello Students\u001b[39m\u001b[38;5;124m\"\u001b[39m)\n\u001b[1;32m----> 3\u001b[0m \u001b[38;5;28mprint\u001b[39m(f1\u001b[38;5;241m.\u001b[39mread())\n",
      "\u001b[1;31mUnsupportedOperation\u001b[0m: not readable"
     ]
    }
   ],
   "source": [
    "f1=open(\"file_1.txt\",\"a\")\n",
    "f1.write(\"Hello Students\")\n",
    "print(f1.read())"
   ]
  },
  {
   "cell_type": "code",
   "execution_count": 75,
   "id": "7a96f2aa-783d-45e2-80c2-fc39181f6a89",
   "metadata": {},
   "outputs": [
    {
     "name": "stdout",
     "output_type": "stream",
     "text": [
      "Hello Students\n"
     ]
    }
   ],
   "source": [
    "f1=open(\"file_1.txt\",\"a+\")# append and read/write\n",
    "print(f1.read())"
   ]
  },
  {
   "cell_type": "code",
   "execution_count": 81,
   "id": "2a20bc28-7d73-44b3-96f3-404d1d84afe3",
   "metadata": {},
   "outputs": [
    {
     "name": "stdout",
     "output_type": "stream",
     "text": [
      "71\n",
      "\n"
     ]
    }
   ],
   "source": [
    "f1=open(\"file_1.txt\",\"a+\")# append and read\n",
    "print(f1.tell())\n",
    "print(f1.read())"
   ]
  },
  {
   "cell_type": "code",
   "execution_count": 87,
   "id": "d9b77a55-e4d5-41c9-8148-a3cbcb209a51",
   "metadata": {},
   "outputs": [
    {
     "name": "stdout",
     "output_type": "stream",
     "text": [
      "30\n",
      "python corse\n",
      "I am data science I am append methos\n"
     ]
    },
    {
     "data": {
      "text/plain": [
       "19"
      ]
     },
     "execution_count": 87,
     "metadata": {},
     "output_type": "execute_result"
    }
   ],
   "source": [
    "f1=open(\"file_1.txt\",\"a+\")# append and read\n",
    "print(f1.tell())\n",
    "f1.seek(0)\n",
    "print(f1.read())\n",
    "f1.write(\" I am append methos\")"
   ]
  },
  {
   "cell_type": "code",
   "execution_count": 89,
   "id": "98a94307-3ef7-44f3-b576-3f35339da8c0",
   "metadata": {},
   "outputs": [
    {
     "ename": "FileNotFoundError",
     "evalue": "[Errno 2] No such file or directory: 'anaconda/file_1.txt'",
     "output_type": "error",
     "traceback": [
      "\u001b[1;31m----------------------------------------------------------------\u001b[0m",
      "\u001b[1;31mFileNotFoundError\u001b[0m              Traceback (most recent call last)",
      "Cell \u001b[1;32mIn[89], line 1\u001b[0m\n\u001b[1;32m----> 1\u001b[0m f1\u001b[38;5;241m=\u001b[39m\u001b[38;5;28mopen\u001b[39m(\u001b[38;5;124m\"\u001b[39m\u001b[38;5;124manaconda/file_1.txt\u001b[39m\u001b[38;5;124m\"\u001b[39m,\u001b[38;5;124m\"\u001b[39m\u001b[38;5;124mr\u001b[39m\u001b[38;5;124m\"\u001b[39m)\n",
      "File \u001b[1;32m~\\anaconda3\\Lib\\site-packages\\IPython\\core\\interactiveshell.py:324\u001b[0m, in \u001b[0;36m_modified_open\u001b[1;34m(file, *args, **kwargs)\u001b[0m\n\u001b[0;32m    317\u001b[0m \u001b[38;5;28;01mif\u001b[39;00m file \u001b[38;5;129;01min\u001b[39;00m {\u001b[38;5;241m0\u001b[39m, \u001b[38;5;241m1\u001b[39m, \u001b[38;5;241m2\u001b[39m}:\n\u001b[0;32m    318\u001b[0m     \u001b[38;5;28;01mraise\u001b[39;00m \u001b[38;5;167;01mValueError\u001b[39;00m(\n\u001b[0;32m    319\u001b[0m         \u001b[38;5;124mf\u001b[39m\u001b[38;5;124m\"\u001b[39m\u001b[38;5;124mIPython won\u001b[39m\u001b[38;5;124m'\u001b[39m\u001b[38;5;124mt let you open fd=\u001b[39m\u001b[38;5;132;01m{\u001b[39;00mfile\u001b[38;5;132;01m}\u001b[39;00m\u001b[38;5;124m by default \u001b[39m\u001b[38;5;124m\"\u001b[39m\n\u001b[0;32m    320\u001b[0m         \u001b[38;5;124m\"\u001b[39m\u001b[38;5;124mas it is likely to crash IPython. If you know what you are doing, \u001b[39m\u001b[38;5;124m\"\u001b[39m\n\u001b[0;32m    321\u001b[0m         \u001b[38;5;124m\"\u001b[39m\u001b[38;5;124myou can use builtins\u001b[39m\u001b[38;5;124m'\u001b[39m\u001b[38;5;124m open.\u001b[39m\u001b[38;5;124m\"\u001b[39m\n\u001b[0;32m    322\u001b[0m     )\n\u001b[1;32m--> 324\u001b[0m \u001b[38;5;28;01mreturn\u001b[39;00m io_open(file, \u001b[38;5;241m*\u001b[39margs, \u001b[38;5;241m*\u001b[39m\u001b[38;5;241m*\u001b[39mkwargs)\n",
      "\u001b[1;31mFileNotFoundError\u001b[0m: [Errno 2] No such file or directory: 'anaconda/file_1.txt'"
     ]
    }
   ],
   "source": [
    "f1=open(\"anaconda/file_1.txt\",\"r\")"
   ]
  },
  {
   "cell_type": "code",
   "execution_count": 91,
   "id": "6cb2a222-5a8a-4d6e-a99f-b12f761690ac",
   "metadata": {},
   "outputs": [
    {
     "name": "stderr",
     "output_type": "stream",
     "text": [
      "<>:1: SyntaxWarning: invalid escape sequence '\\D'\n",
      "<>:1: SyntaxWarning: invalid escape sequence '\\D'\n",
      "C:\\Users\\gadam\\AppData\\Local\\Temp\\ipykernel_28532\\2953240208.py:1: SyntaxWarning: invalid escape sequence '\\D'\n",
      "  f1=open(\"D:\\Desktop\\anaconda/file_1.txt\",\"r\")\n",
      "C:\\Users\\gadam\\AppData\\Local\\Temp\\ipykernel_28532\\2953240208.py:1: SyntaxWarning: invalid escape sequence '\\D'\n",
      "  f1=open(\"D:\\Desktop\\anaconda/file_1.txt\",\"r\")\n"
     ]
    },
    {
     "ename": "FileNotFoundError",
     "evalue": "[Errno 2] No such file or directory: 'D:\\\\Desktop\\x07naconda/file_1.txt'",
     "output_type": "error",
     "traceback": [
      "\u001b[1;31m----------------------------------------------------------------\u001b[0m",
      "\u001b[1;31mFileNotFoundError\u001b[0m              Traceback (most recent call last)",
      "Cell \u001b[1;32mIn[91], line 1\u001b[0m\n\u001b[1;32m----> 1\u001b[0m f1\u001b[38;5;241m=\u001b[39m\u001b[38;5;28mopen\u001b[39m(\u001b[38;5;124m\"\u001b[39m\u001b[38;5;124mD:\u001b[39m\u001b[38;5;124m\\\u001b[39m\u001b[38;5;124mDesktop\u001b[39m\u001b[38;5;130;01m\\a\u001b[39;00m\u001b[38;5;124mnaconda/file_1.txt\u001b[39m\u001b[38;5;124m\"\u001b[39m,\u001b[38;5;124m\"\u001b[39m\u001b[38;5;124mr\u001b[39m\u001b[38;5;124m\"\u001b[39m)\n",
      "File \u001b[1;32m~\\anaconda3\\Lib\\site-packages\\IPython\\core\\interactiveshell.py:324\u001b[0m, in \u001b[0;36m_modified_open\u001b[1;34m(file, *args, **kwargs)\u001b[0m\n\u001b[0;32m    317\u001b[0m \u001b[38;5;28;01mif\u001b[39;00m file \u001b[38;5;129;01min\u001b[39;00m {\u001b[38;5;241m0\u001b[39m, \u001b[38;5;241m1\u001b[39m, \u001b[38;5;241m2\u001b[39m}:\n\u001b[0;32m    318\u001b[0m     \u001b[38;5;28;01mraise\u001b[39;00m \u001b[38;5;167;01mValueError\u001b[39;00m(\n\u001b[0;32m    319\u001b[0m         \u001b[38;5;124mf\u001b[39m\u001b[38;5;124m\"\u001b[39m\u001b[38;5;124mIPython won\u001b[39m\u001b[38;5;124m'\u001b[39m\u001b[38;5;124mt let you open fd=\u001b[39m\u001b[38;5;132;01m{\u001b[39;00mfile\u001b[38;5;132;01m}\u001b[39;00m\u001b[38;5;124m by default \u001b[39m\u001b[38;5;124m\"\u001b[39m\n\u001b[0;32m    320\u001b[0m         \u001b[38;5;124m\"\u001b[39m\u001b[38;5;124mas it is likely to crash IPython. If you know what you are doing, \u001b[39m\u001b[38;5;124m\"\u001b[39m\n\u001b[0;32m    321\u001b[0m         \u001b[38;5;124m\"\u001b[39m\u001b[38;5;124myou can use builtins\u001b[39m\u001b[38;5;124m'\u001b[39m\u001b[38;5;124m open.\u001b[39m\u001b[38;5;124m\"\u001b[39m\n\u001b[0;32m    322\u001b[0m     )\n\u001b[1;32m--> 324\u001b[0m \u001b[38;5;28;01mreturn\u001b[39;00m io_open(file, \u001b[38;5;241m*\u001b[39margs, \u001b[38;5;241m*\u001b[39m\u001b[38;5;241m*\u001b[39mkwargs)\n",
      "\u001b[1;31mFileNotFoundError\u001b[0m: [Errno 2] No such file or directory: 'D:\\\\Desktop\\x07naconda/file_1.txt'"
     ]
    }
   ],
   "source": [
    "f1=open(\"D:\\Desktop\\anaconda/file_1.txt\",\"r\")"
   ]
  },
  {
   "cell_type": "code",
   "execution_count": 95,
   "id": "17d181ae-1c50-4420-b023-fdf4c5a23380",
   "metadata": {},
   "outputs": [
    {
     "name": "stderr",
     "output_type": "stream",
     "text": [
      "<>:1: SyntaxWarning: invalid escape sequence '\\D'\n",
      "<>:1: SyntaxWarning: invalid escape sequence '\\D'\n",
      "C:\\Users\\gadam\\AppData\\Local\\Temp\\ipykernel_28532\\258403386.py:1: SyntaxWarning: invalid escape sequence '\\D'\n",
      "  f1=open(\"D:\\Desktop\\anaconda\\sql querys.txt\",\"r\")\n",
      "C:\\Users\\gadam\\AppData\\Local\\Temp\\ipykernel_28532\\258403386.py:1: SyntaxWarning: invalid escape sequence '\\D'\n",
      "  f1=open(\"D:\\Desktop\\anaconda\\sql querys.txt\",\"r\")\n"
     ]
    },
    {
     "ename": "FileNotFoundError",
     "evalue": "[Errno 2] No such file or directory: 'D:\\\\Desktop\\x07naconda\\\\sql querys.txt'",
     "output_type": "error",
     "traceback": [
      "\u001b[1;31m----------------------------------------------------------------\u001b[0m",
      "\u001b[1;31mFileNotFoundError\u001b[0m              Traceback (most recent call last)",
      "Cell \u001b[1;32mIn[95], line 1\u001b[0m\n\u001b[1;32m----> 1\u001b[0m f1\u001b[38;5;241m=\u001b[39m\u001b[38;5;28mopen\u001b[39m(\u001b[38;5;124m\"\u001b[39m\u001b[38;5;124mD:\u001b[39m\u001b[38;5;124m\\\u001b[39m\u001b[38;5;124mDesktop\u001b[39m\u001b[38;5;130;01m\\a\u001b[39;00m\u001b[38;5;124mnaconda\u001b[39m\u001b[38;5;124m\\\u001b[39m\u001b[38;5;124msql querys.txt\u001b[39m\u001b[38;5;124m\"\u001b[39m,\u001b[38;5;124m\"\u001b[39m\u001b[38;5;124mr\u001b[39m\u001b[38;5;124m\"\u001b[39m)\n\u001b[0;32m      2\u001b[0m \u001b[38;5;28mprint\u001b[39m(f1\u001b[38;5;241m.\u001b[39mread())\n",
      "File \u001b[1;32m~\\anaconda3\\Lib\\site-packages\\IPython\\core\\interactiveshell.py:324\u001b[0m, in \u001b[0;36m_modified_open\u001b[1;34m(file, *args, **kwargs)\u001b[0m\n\u001b[0;32m    317\u001b[0m \u001b[38;5;28;01mif\u001b[39;00m file \u001b[38;5;129;01min\u001b[39;00m {\u001b[38;5;241m0\u001b[39m, \u001b[38;5;241m1\u001b[39m, \u001b[38;5;241m2\u001b[39m}:\n\u001b[0;32m    318\u001b[0m     \u001b[38;5;28;01mraise\u001b[39;00m \u001b[38;5;167;01mValueError\u001b[39;00m(\n\u001b[0;32m    319\u001b[0m         \u001b[38;5;124mf\u001b[39m\u001b[38;5;124m\"\u001b[39m\u001b[38;5;124mIPython won\u001b[39m\u001b[38;5;124m'\u001b[39m\u001b[38;5;124mt let you open fd=\u001b[39m\u001b[38;5;132;01m{\u001b[39;00mfile\u001b[38;5;132;01m}\u001b[39;00m\u001b[38;5;124m by default \u001b[39m\u001b[38;5;124m\"\u001b[39m\n\u001b[0;32m    320\u001b[0m         \u001b[38;5;124m\"\u001b[39m\u001b[38;5;124mas it is likely to crash IPython. If you know what you are doing, \u001b[39m\u001b[38;5;124m\"\u001b[39m\n\u001b[0;32m    321\u001b[0m         \u001b[38;5;124m\"\u001b[39m\u001b[38;5;124myou can use builtins\u001b[39m\u001b[38;5;124m'\u001b[39m\u001b[38;5;124m open.\u001b[39m\u001b[38;5;124m\"\u001b[39m\n\u001b[0;32m    322\u001b[0m     )\n\u001b[1;32m--> 324\u001b[0m \u001b[38;5;28;01mreturn\u001b[39;00m io_open(file, \u001b[38;5;241m*\u001b[39margs, \u001b[38;5;241m*\u001b[39m\u001b[38;5;241m*\u001b[39mkwargs)\n",
      "\u001b[1;31mFileNotFoundError\u001b[0m: [Errno 2] No such file or directory: 'D:\\\\Desktop\\x07naconda\\\\sql querys.txt'"
     ]
    }
   ],
   "source": [
    "f1=open(\"D:\\Desktop\\anaconda\\sql querys.txt\",\"r\")\n",
    "print(f1.read())"
   ]
  },
  {
   "cell_type": "code",
   "execution_count": 117,
   "id": "75841866-214c-43f3-95a8-f7dc3c6a1ed1",
   "metadata": {},
   "outputs": [],
   "source": [
    "f1=open(r\"C:\\Users\\gadam\\OneDrive\\Pictures\\1691395486301.jpg\",\"rb\")\n",
    "f2=open(\"my_image2.jpg\",\"wb\")\n",
    "for i in f1:\n",
    "    f2.write(i)\n",
    "    "
   ]
  },
  {
   "cell_type": "code",
   "execution_count": null,
   "id": "1701cb21-e766-426f-9c0c-9a406040190b",
   "metadata": {},
   "outputs": [],
   "source": []
  },
  {
   "cell_type": "code",
   "execution_count": null,
   "id": "ebf035fd-137f-4453-884f-193b7218e576",
   "metadata": {},
   "outputs": [],
   "source": []
  },
  {
   "cell_type": "code",
   "execution_count": null,
   "id": "3ac281a6-2e44-4437-8801-7d7f8de15792",
   "metadata": {},
   "outputs": [],
   "source": []
  }
 ],
 "metadata": {
  "kernelspec": {
   "display_name": "Python 3 (ipykernel)",
   "language": "python",
   "name": "python3"
  },
  "language_info": {
   "codemirror_mode": {
    "name": "ipython",
    "version": 3
   },
   "file_extension": ".py",
   "mimetype": "text/x-python",
   "name": "python",
   "nbconvert_exporter": "python",
   "pygments_lexer": "ipython3",
   "version": "3.12.4"
  }
 },
 "nbformat": 4,
 "nbformat_minor": 5
}
