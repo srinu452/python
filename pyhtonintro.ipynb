{
 "cells": [
  {
   "cell_type": "code",
   "execution_count": 11,
   "id": "1f16cac1-8890-4c35-ab0b-9941641d6bfe",
   "metadata": {},
   "outputs": [
    {
     "name": "stdout",
     "output_type": "stream",
     "text": [
      "Hello World\n"
     ]
    }
   ],
   "source": [
    "print(\"Hello World\")\n"
   ]
  },
  {
   "cell_type": "code",
   "execution_count": 13,
   "id": "3f89d88c-25c5-4290-a04b-a4b0ecc69c64",
   "metadata": {},
   "outputs": [
    {
     "name": "stdout",
     "output_type": "stream",
     "text": [
      "I love u\n"
     ]
    }
   ],
   "source": [
    "#Indentation : refers to the spaces at the beggining of the code\n",
    "if 5>2:\n",
    "    print(\"I love u\")"
   ]
  },
  {
   "cell_type": "code",
   "execution_count": null,
   "id": "ca551bd2-bd55-4637-9487-2416f2af4e97",
   "metadata": {},
   "outputs": [],
   "source": [
    "# pyhton will give the error if you skip the indentation"
   ]
  },
  {
   "cell_type": "code",
   "execution_count": 15,
   "id": "56611e2f-7c29-48ee-b517-5d647a85dd50",
   "metadata": {},
   "outputs": [
    {
     "ename": "IndentationError",
     "evalue": "expected an indented block after 'if' statement on line 1 (2481040388.py, line 2)",
     "output_type": "error",
     "traceback": [
      "\u001b[1;36m  Cell \u001b[1;32mIn[15], line 2\u001b[1;36m\u001b[0m\n\u001b[1;33m    print(\"feeg\")\u001b[0m\n\u001b[1;37m    ^\u001b[0m\n\u001b[1;31mIndentationError\u001b[0m\u001b[1;31m:\u001b[0m expected an indented block after 'if' statement on line 1\n"
     ]
    }
   ],
   "source": [
    "if 2>4:\n",
    "print(\"feeg\")"
   ]
  },
  {
   "cell_type": "code",
   "execution_count": null,
   "id": "29249439-cb0b-4028-986e-a4e92a993d4d",
   "metadata": {},
   "outputs": [],
   "source": [
    "# Indentation is upto our need as programmaer and Mainly we will give atleast 4 spaces in the block code\n"
   ]
  },
  {
   "cell_type": "code",
   "execution_count": 17,
   "id": "35131d88-4034-45a7-a09a-b03447188aaf",
   "metadata": {},
   "outputs": [
    {
     "name": "stdout",
     "output_type": "stream",
     "text": [
      "not Hello World\n"
     ]
    }
   ],
   "source": [
    "if 2>34:\n",
    "    print(\"Hello World\")\n",
    "else:\n",
    "    print(\"not Hello World\")"
   ]
  },
  {
   "cell_type": "code",
   "execution_count": null,
   "id": "ddc53910-e7d1-44a5-82d1-788db88b60e3",
   "metadata": {},
   "outputs": [],
   "source": [
    "# YOu have use same number of spaces for the new line in same block of code otherwise python will give error"
   ]
  },
  {
   "cell_type": "code",
   "execution_count": 39,
   "id": "73ad4872-feb7-4085-aa8d-d73370425b1b",
   "metadata": {},
   "outputs": [
    {
     "name": "stdout",
     "output_type": "stream",
     "text": [
      "Hello World\n",
      "hello\n"
     ]
    }
   ],
   "source": [
    "if 2<5:\n",
    "    print(\"Hello World\")\n",
    "    #print(\"hello World not\") error takes\n",
    "print(\"hello\")"
   ]
  },
  {
   "cell_type": "code",
   "execution_count": null,
   "id": "24e267cd-8d04-46bb-9dd3-2f2a0f5e2771",
   "metadata": {},
   "outputs": [],
   "source": [
    "#Python Variables: variable are names or Memory Location which are stored a assigned values to them"
   ]
  },
  {
   "cell_type": "code",
   "execution_count": 47,
   "id": "923c5b15-25ea-4682-bce9-85111471cdd4",
   "metadata": {},
   "outputs": [
    {
     "data": {
      "text/plain": [
       "(8, 'Hello World')"
      ]
     },
     "execution_count": 47,
     "metadata": {},
     "output_type": "execute_result"
    }
   ],
   "source": [
    "x=8\n",
    "y=\"Hello World\"\n",
    "x,y"
   ]
  },
  {
   "cell_type": "code",
   "execution_count": null,
   "id": "27c26a0c-e63a-4d01-b942-faa32874b7ea",
   "metadata": {},
   "outputs": [],
   "source": [
    "                                           \"\"\"comments\"\"\"\n",
    "python has capability for in_line documentaion means reuse puropse and not needed or skipping "
   ]
  },
  {
   "cell_type": "code",
   "execution_count": 49,
   "id": "102f3b32-088d-43ba-98cb-a5fbf75e7f6c",
   "metadata": {},
   "outputs": [
    {
     "name": "stdout",
     "output_type": "stream",
     "text": [
      "Hello World\n"
     ]
    }
   ],
   "source": [
    "#This is commenting \n",
    "print(\"Hello World\")"
   ]
  },
  {
   "cell_type": "code",
   "execution_count": null,
   "id": "d8171655-01a9-4d71-9250-d097f70f5763",
   "metadata": {},
   "outputs": [],
   "source": [
    "# Comments can be used to expalin Python Code\n",
    "#comments can made the code more readble\n",
    "#Comments can be prevent the code when testing time"
   ]
  },
  {
   "cell_type": "code",
   "execution_count": null,
   "id": "dbb71377-4bb2-4129-9cff-5dbaed1b9d16",
   "metadata": {},
   "outputs": [],
   "source": [
    "#creating a comment\n",
    "# this is comment"
   ]
  },
  {
   "cell_type": "code",
   "execution_count": 51,
   "id": "9c5c9d0a-44d1-41c0-8b69-fa095b4073d5",
   "metadata": {},
   "outputs": [
    {
     "name": "stdout",
     "output_type": "stream",
     "text": [
      "Hello, World!\n"
     ]
    }
   ],
   "source": [
    "print(\"Hello, World!\") #This is a comment"
   ]
  },
  {
   "cell_type": "code",
   "execution_count": null,
   "id": "070c67d2-3f7d-40a0-9fdd-50e3b9c9d5e9",
   "metadata": {},
   "outputs": [],
   "source": [
    "print(\"Hello World\")\n",
    "# print(\"Hello World\")"
   ]
  },
  {
   "cell_type": "code",
   "execution_count": null,
   "id": "0f912f91-114a-4c96-b9ce-d501a8ed85e3",
   "metadata": {},
   "outputs": [],
   "source": [
    "             \"\"\"Multiline commenting\"\"\"\""
   ]
  },
  {
   "cell_type": "code",
   "execution_count": null,
   "id": "4661f2ca-bca3-43d9-bc67-c681653e8423",
   "metadata": {},
   "outputs": [],
   "source": [
    "# pyhthon doesn't have syntax for multiline commenting but\n",
    "\"\"\" but We can use string text By using tripe quotes\"\"\""
   ]
  },
  {
   "cell_type": "code",
   "execution_count": null,
   "id": "ec158e79-26f5-4b78-8493-0e56535c21e3",
   "metadata": {},
   "outputs": [],
   "source": [
    "                                          \"\"\" Python varibles \"\"\""
   ]
  },
  {
   "cell_type": "code",
   "execution_count": null,
   "id": "f2f85c85-f0c1-4ed9-b9fa-807bf994fbfd",
   "metadata": {},
   "outputs": [],
   "source": [
    "Variables are containers for storing data values"
   ]
  },
  {
   "cell_type": "code",
   "execution_count": null,
   "id": "eb29917f-17e2-453c-89e0-37f6a0b826cf",
   "metadata": {},
   "outputs": [],
   "source": [
    "                                      \"\"\" creating a variable \"\"\""
   ]
  },
  {
   "cell_type": "code",
   "execution_count": null,
   "id": "1472b7df-8f79-4a5d-a504-9e869529d164",
   "metadata": {},
   "outputs": [],
   "source": [
    "# Python does'nt have anyc command for creating a variable\n",
    "# only to assign the value to perticular variable"
   ]
  },
  {
   "cell_type": "code",
   "execution_count": 55,
   "id": "cebb3859-a479-490a-a915-a6d0341444bf",
   "metadata": {},
   "outputs": [
    {
     "name": "stdout",
     "output_type": "stream",
     "text": [
      "3\n",
      "3\n"
     ]
    }
   ],
   "source": [
    "# Ex:\n",
    "x=3\n",
    "y=\"3\"\n",
    "print(x)\n",
    "print(y)"
   ]
  },
  {
   "cell_type": "code",
   "execution_count": null,
   "id": "0eca572b-4a4c-4daf-8113-dada92da3b90",
   "metadata": {},
   "outputs": [],
   "source": [
    "\"\"\" variables do not need to decalre any data type and can even change after they have been set\"\"\" "
   ]
  },
  {
   "cell_type": "code",
   "execution_count": 59,
   "id": "2fa7d4bd-e9d7-4e0c-b35f-8eb759788ce6",
   "metadata": {},
   "outputs": [
    {
     "data": {
      "text/plain": [
       "'str'"
      ]
     },
     "execution_count": 59,
     "metadata": {},
     "output_type": "execute_result"
    }
   ],
   "source": [
    "x=3 # x is of type int\n",
    "x=\"str\"\n",
    "x# x is now of type str\n",
    "\"\"\" it takes only declare time variable not lod one\"\"\""
   ]
  },
  {
   "cell_type": "code",
   "execution_count": null,
   "id": "ff1d106f-56fd-4eea-a88f-9c117bfa6cf2",
   "metadata": {},
   "outputs": [],
   "source": [
    "\"\"\"Casting :If you want to change the data type you can mention that perticular type with the value\"\"\""
   ]
  },
  {
   "cell_type": "code",
   "execution_count": 69,
   "id": "2a17dc33-6bc5-4639-b559-9d7483f56bd4",
   "metadata": {},
   "outputs": [
    {
     "data": {
      "text/plain": [
       "3.0"
      ]
     },
     "execution_count": 69,
     "metadata": {},
     "output_type": "execute_result"
    }
   ],
   "source": [
    "\n",
    "z=float(3)\n",
    "z"
   ]
  },
  {
   "cell_type": "code",
   "execution_count": 71,
   "id": "7a2fc3d5-7ccb-4958-88c5-33d24f49d340",
   "metadata": {},
   "outputs": [
    {
     "data": {
      "text/plain": [
       "'3'"
      ]
     },
     "execution_count": 71,
     "metadata": {},
     "output_type": "execute_result"
    }
   ],
   "source": [
    "x=str(3)\n",
    "x"
   ]
  },
  {
   "cell_type": "code",
   "execution_count": 73,
   "id": "0ec1f01c-2b2f-484a-ae12-639fd8819432",
   "metadata": {},
   "outputs": [
    {
     "data": {
      "text/plain": [
       "3"
      ]
     },
     "execution_count": 73,
     "metadata": {},
     "output_type": "execute_result"
    }
   ],
   "source": [
    "y=int(3)\n",
    "y"
   ]
  },
  {
   "cell_type": "code",
   "execution_count": null,
   "id": "7b96ea25-e1ba-452e-89fd-98ef6ac888b2",
   "metadata": {},
   "outputs": [],
   "source": [
    "                                              \"\"\" type()\"\"\""
   ]
  },
  {
   "cell_type": "code",
   "execution_count": null,
   "id": "400c9605-5166-4efd-a54a-1f51ce1247fa",
   "metadata": {},
   "outputs": [],
   "source": [
    "# by using this type keyword we can know the which type it is"
   ]
  },
  {
   "cell_type": "code",
   "execution_count": 75,
   "id": "4e9e110a-dfbd-41c6-8b7c-dcc5bd92f6d9",
   "metadata": {},
   "outputs": [
    {
     "data": {
      "text/plain": [
       "int"
      ]
     },
     "execution_count": 75,
     "metadata": {},
     "output_type": "execute_result"
    }
   ],
   "source": [
    "d=3\n",
    "type(d)"
   ]
  },
  {
   "cell_type": "code",
   "execution_count": 77,
   "id": "40d13fa9-1078-48e0-b01c-9d2b6cf1858d",
   "metadata": {},
   "outputs": [
    {
     "data": {
      "text/plain": [
       "str"
      ]
     },
     "execution_count": 77,
     "metadata": {},
     "output_type": "execute_result"
    }
   ],
   "source": [
    "y=\"str\"\n",
    "type(y)"
   ]
  },
  {
   "cell_type": "code",
   "execution_count": null,
   "id": "cf31e7c0-c30c-40af-992c-a8d017e7e282",
   "metadata": {},
   "outputs": [],
   "source": [
    "                                 \"\"\" single and double quotes\"\"\"\n",
    "#we can mention the strings with both of them single and double quotes"
   ]
  },
  {
   "cell_type": "code",
   "execution_count": 79,
   "id": "07287dcc-7762-4cfd-bb42-ed42f6e77d46",
   "metadata": {},
   "outputs": [
    {
     "data": {
      "text/plain": [
       "'ffe'"
      ]
     },
     "execution_count": 79,
     "metadata": {},
     "output_type": "execute_result"
    }
   ],
   "source": [
    "x=\"ffe\"\n",
    "x"
   ]
  },
  {
   "cell_type": "code",
   "execution_count": 81,
   "id": "bcdca198-1da4-49e2-a848-47a26820d644",
   "metadata": {},
   "outputs": [
    {
     "data": {
      "text/plain": [
       "'reg'"
      ]
     },
     "execution_count": 81,
     "metadata": {},
     "output_type": "execute_result"
    }
   ],
   "source": [
    "d='reg'\n",
    "d"
   ]
  },
  {
   "cell_type": "code",
   "execution_count": null,
   "id": "6f8a6916-ad99-42aa-a67a-3f3bcf0a336e",
   "metadata": {},
   "outputs": [],
   "source": [
    "                                   \"\"\" Case sensitive\"\"\"\n",
    "# varible names are case sensitive means we didn't use instead of a to A"
   ]
  },
  {
   "cell_type": "code",
   "execution_count": 85,
   "id": "cb2d9a62-142d-4288-951b-0cabf8caa362",
   "metadata": {},
   "outputs": [
    {
     "data": {
      "text/plain": [
       "'big A'"
      ]
     },
     "execution_count": 85,
     "metadata": {},
     "output_type": "execute_result"
    }
   ],
   "source": [
    "a=2\n",
    "A=\"big A\"\n",
    "\n",
    "A"
   ]
  },
  {
   "cell_type": "code",
   "execution_count": 87,
   "id": "ede6d435-bcbc-4f3b-8659-d88a58d7c7ce",
   "metadata": {},
   "outputs": [
    {
     "data": {
      "text/plain": [
       "2"
      ]
     },
     "execution_count": 87,
     "metadata": {},
     "output_type": "execute_result"
    }
   ],
   "source": [
    "a"
   ]
  },
  {
   "cell_type": "code",
   "execution_count": null,
   "id": "f9f0ed6f-a10a-4560-95fe-cfaef9cd512a",
   "metadata": {},
   "outputs": [],
   "source": [
    "                                     \"\"\" Variable Names\"\"\"\n",
    "Rules:\n",
    "1.A variable must start with alphabets are underscore\n",
    "2.A variable cannot start with number\n",
    "3.A variable can be alpha_numeric characters and underscores(A-Z,a-z,0-9 and _)\n",
    "4.Variable names are case sensitive ex: age ,Age,AGE are three different names\n",
    "5.A variable cannot be any of python keywords like int ,str,if, elif,for ..."
   ]
  },
  {
   "cell_type": "code",
   "execution_count": 91,
   "id": "6a1d2ab7-4203-4db1-a1a9-3a64d223edb5",
   "metadata": {},
   "outputs": [
    {
     "name": "stdout",
     "output_type": "stream",
     "text": [
      "john\n",
      "sinu\n",
      "vasu\n",
      "ravu\n",
      "mani\n"
     ]
    }
   ],
   "source": [
    "                                               \"\"\" Legal varables\"\"\"\n",
    "myvar=\"john\"\n",
    "my_var=\"sinu\"\n",
    "myVar=\"vasu\"\n",
    "MYVAR=\"ravu\"\n",
    "MyVar=\"mani\"\n",
    "print(myvar)\n",
    "print(my_var)\n",
    "print(myVar)\n",
    "print(MYVAR)\n",
    "print(MyVar)"
   ]
  },
  {
   "cell_type": "code",
   "execution_count": 93,
   "id": "0e2beddc-fc86-40f0-90d1-8bf6eb080233",
   "metadata": {},
   "outputs": [
    {
     "ename": "SyntaxError",
     "evalue": "invalid decimal literal (2019498739.py, line 2)",
     "output_type": "error",
     "traceback": [
      "\u001b[1;36m  Cell \u001b[1;32mIn[93], line 2\u001b[1;36m\u001b[0m\n\u001b[1;33m    2myvar = \"John\"\u001b[0m\n\u001b[1;37m    ^\u001b[0m\n\u001b[1;31mSyntaxError\u001b[0m\u001b[1;31m:\u001b[0m invalid decimal literal\n"
     ]
    }
   ],
   "source": [
    "                                            \"\"\" Illegal varibles\"\"\"\n",
    "2myvar = \"John\"\n",
    "my-var = \"John\"\n",
    "my var = \"John\"\n"
   ]
  },
  {
   "cell_type": "code",
   "execution_count": null,
   "id": "23e861cf-66ba-4502-bd60-b30d5978b05e",
   "metadata": {},
   "outputs": [],
   "source": [
    "                                         \"\"\" Multi Words Varible Names\"\"\"\n",
    "Varible names with  Multiple words can be difficult to read "
   ]
  },
  {
   "cell_type": "code",
   "execution_count": 101,
   "id": "455a6737-fce7-4c1a-a7c5-cbd82c06707e",
   "metadata": {},
   "outputs": [
    {
     "data": {
      "text/plain": [
       "'John'"
      ]
     },
     "execution_count": 101,
     "metadata": {},
     "output_type": "execute_result"
    }
   ],
   "source": [
    "                                          \"\"\"Camel Case\"\"\"\n",
    "Each word, except the first, starts with a capital letter:\n",
    "myVariableName = \"John\"\n",
    "myVariableName\n"
   ]
  },
  {
   "cell_type": "code",
   "execution_count": null,
   "id": "951c96c7-9a2f-4f01-b79f-4e89a8ee6421",
   "metadata": {},
   "outputs": [],
   "source": [
    "                                          \"\"\"Pascal Case\"\"\"\n",
    "Each word starts with a capital letter"
   ]
  },
  {
   "cell_type": "code",
   "execution_count": 103,
   "id": "2aae8102-4eb3-4182-9460-7ee21acf73cb",
   "metadata": {},
   "outputs": [
    {
     "data": {
      "text/plain": [
       "'sriniu'"
      ]
     },
     "execution_count": 103,
     "metadata": {},
     "output_type": "execute_result"
    }
   ],
   "source": [
    "MyVariableName=\"sriniu\"\n",
    "MyVariableName"
   ]
  },
  {
   "cell_type": "code",
   "execution_count": null,
   "id": "0abee1cf-c453-45cf-9011-c8103ad2a35e",
   "metadata": {},
   "outputs": [],
   "source": [
    "                                            \"\"\"Snake Case\"\"\"\n",
    "Each word is seperated by a underscore charcter:\n"
   ]
  },
  {
   "cell_type": "code",
   "execution_count": 105,
   "id": "bc120f6f-ff3b-49ec-a5e6-d1e5cd54304d",
   "metadata": {},
   "outputs": [
    {
     "data": {
      "text/plain": [
       "'vasu'"
      ]
     },
     "execution_count": 105,
     "metadata": {},
     "output_type": "execute_result"
    }
   ],
   "source": [
    "my_varible_name=\"vasu\"\n",
    "my_varible_name"
   ]
  },
  {
   "cell_type": "code",
   "execution_count": null,
   "id": "9af70670-8f24-4aea-b158-43aac5d93ffe",
   "metadata": {},
   "outputs": [],
   "source": [
    "                                     \"\"\"Many Values to Multiple Variables\"\"\""
   ]
  },
  {
   "cell_type": "code",
   "execution_count": 109,
   "id": "e1c3948b-2b19-4f43-8980-06fbfe2f200c",
   "metadata": {},
   "outputs": [
    {
     "data": {
      "text/plain": [
       "('vasu', 'mani', 3)"
      ]
     },
     "execution_count": 109,
     "metadata": {},
     "output_type": "execute_result"
    }
   ],
   "source": [
    "x,y,z=\"vasu\",\"mani\",3\n",
    "x,y,z"
   ]
  },
  {
   "cell_type": "code",
   "execution_count": null,
   "id": "133edeea-2646-4c95-8670-4e9fa1fd8044",
   "metadata": {},
   "outputs": [],
   "source": [
    "                                      \"\"\"One Value to Multiple Variables\"\"\""
   ]
  },
  {
   "cell_type": "code",
   "execution_count": 111,
   "id": "ded8e11f-5639-4c0a-8fc7-4659dc1aeb6a",
   "metadata": {},
   "outputs": [
    {
     "data": {
      "text/plain": [
       "('srini', 'srini', 'srini')"
      ]
     },
     "execution_count": 111,
     "metadata": {},
     "output_type": "execute_result"
    }
   ],
   "source": [
    "x=y=z=\"srini\"\n",
    "x,y,z"
   ]
  },
  {
   "cell_type": "code",
   "execution_count": null,
   "id": "26ce2625-0245-4001-88d3-34d3acf66831",
   "metadata": {},
   "outputs": [],
   "source": [
    "                                               \"\"\"Unpack a Collection\"\"\""
   ]
  },
  {
   "cell_type": "code",
   "execution_count": null,
   "id": "55dcd0bd-5d13-4712-8a7e-4b072dc6d60b",
   "metadata": {},
   "outputs": [],
   "source": [
    "If you have collection values in a list or tuple etcc. \n",
    "Python allows you to extract the values into variables"
   ]
  },
  {
   "cell_type": "code",
   "execution_count": 115,
   "id": "46788e82-063c-4eb1-a0ae-a981ab6b7df9",
   "metadata": {},
   "outputs": [
    {
     "data": {
      "text/plain": [
       "('apple', 'banana', 'orenge')"
      ]
     },
     "execution_count": 115,
     "metadata": {},
     "output_type": "execute_result"
    }
   ],
   "source": [
    "friuts=[\"apple\",\"banana\",\"orenge\"]\n",
    "x,y,z=friuts\n",
    "x,y,z# we have to give how many values to that number of varibles"
   ]
  },
  {
   "cell_type": "code",
   "execution_count": null,
   "id": "2c98bf85-e0f3-4af4-87a2-6819e0023f49",
   "metadata": {},
   "outputs": [],
   "source": [
    "                                                 \"\"\"OutPut Variables\"\"\""
   ]
  },
  {
   "cell_type": "code",
   "execution_count": null,
   "id": "3eda7147-11da-4502-ad7b-e69e9eccddad",
   "metadata": {},
   "outputs": [],
   "source": [
    "Python used print() function for output variables"
   ]
  },
  {
   "cell_type": "code",
   "execution_count": 117,
   "id": "4ebf0915-02ea-4719-b991-6ab0a779a87e",
   "metadata": {},
   "outputs": [
    {
     "name": "stdout",
     "output_type": "stream",
     "text": [
      "I am data science\n"
     ]
    }
   ],
   "source": [
    "x=\"I am data science\"\n",
    "print(x)"
   ]
  },
  {
   "cell_type": "code",
   "execution_count": null,
   "id": "7ce6422e-da5e-467e-974b-03158e8719c7",
   "metadata": {},
   "outputs": [],
   "source": [
    "In the print() function we can take multiple output variables seperated by comma"
   ]
  },
  {
   "cell_type": "code",
   "execution_count": 119,
   "id": "63a01924-14b4-4083-97bb-e1ef16ada1b8",
   "metadata": {},
   "outputs": [
    {
     "name": "stdout",
     "output_type": "stream",
     "text": [
      "banana 3 (24+2j)\n"
     ]
    }
   ],
   "source": [
    "x=\"banana\"\n",
    "y=3\n",
    "z=24+2j\n",
    "print(x,y,z)"
   ]
  },
  {
   "cell_type": "code",
   "execution_count": null,
   "id": "6c4d43ba-7e52-4cf6-9bb9-38ed7ce48e05",
   "metadata": {},
   "outputs": [],
   "source": [
    "You can also use the + operator to output multiple variables:"
   ]
  },
  {
   "cell_type": "code",
   "execution_count": 121,
   "id": "d4eb2dd7-1f62-4227-a1ea-c93e123ab0a3",
   "metadata": {},
   "outputs": [
    {
     "ename": "TypeError",
     "evalue": "can only concatenate str (not \"int\") to str",
     "output_type": "error",
     "traceback": [
      "\u001b[1;31m---------------------------------------------------------------------------\u001b[0m",
      "\u001b[1;31mTypeError\u001b[0m                                 Traceback (most recent call last)",
      "Cell \u001b[1;32mIn[121], line 4\u001b[0m\n\u001b[0;32m      2\u001b[0m y\u001b[38;5;241m=\u001b[39m\u001b[38;5;241m3\u001b[39m\n\u001b[0;32m      3\u001b[0m z\u001b[38;5;241m=\u001b[39m\u001b[38;5;241m24\u001b[39m\u001b[38;5;241m+\u001b[39m\u001b[38;5;241m2\u001b[39mj\n\u001b[1;32m----> 4\u001b[0m \u001b[38;5;28mprint\u001b[39m(x\u001b[38;5;241m+\u001b[39my\u001b[38;5;241m+\u001b[39mz)\n",
      "\u001b[1;31mTypeError\u001b[0m: can only concatenate str (not \"int\") to str"
     ]
    }
   ],
   "source": [
    "x=\"banana\"\n",
    "y=3\n",
    "z=24+2j\n",
    "print(x+y+z)\n",
    "# the print() function, when you try to combine a string and a number with the + operator, Python will give you an error:"
   ]
  },
  {
   "cell_type": "code",
   "execution_count": 127,
   "id": "d27ac69b-db1c-43a4-9de4-319c83122355",
   "metadata": {},
   "outputs": [
    {
     "name": "stdout",
     "output_type": "stream",
     "text": [
      "(31+2j)\n"
     ]
    }
   ],
   "source": [
    "x=4\n",
    "y=3\n",
    "z=24+2j\n",
    "print(x+y+z)"
   ]
  },
  {
   "cell_type": "code",
   "execution_count": 129,
   "id": "76e9716f-d92d-4f01-a6b1-53faaa6c1ba1",
   "metadata": {},
   "outputs": [
    {
     "name": "stdout",
     "output_type": "stream",
     "text": [
      "banana34+2j\n"
     ]
    }
   ],
   "source": [
    "x=\"banana\"\n",
    "y=\"3\"\n",
    "z='4+2j'\n",
    "print(x+y+z)\n",
    "#Notice the space character after \"Python \" and \"is \", without them the result would be \"Pythonisawesome\"."
   ]
  },
  {
   "cell_type": "code",
   "execution_count": null,
   "id": "e62f6c98-5272-42b0-8e32-0a79ff6a7b93",
   "metadata": {},
   "outputs": [],
   "source": [
    "For numbers, the + character works as a mathematical operator:"
   ]
  },
  {
   "cell_type": "code",
   "execution_count": 131,
   "id": "6094cb34-7923-4405-a79b-453a756f2f0c",
   "metadata": {},
   "outputs": [
    {
     "name": "stdout",
     "output_type": "stream",
     "text": [
      "17\n"
     ]
    }
   ],
   "source": [
    "x=9\n",
    "y=8\n",
    "print(x+y)"
   ]
  },
  {
   "cell_type": "code",
   "execution_count": null,
   "id": "8c9d124f-30a2-4ebc-804a-17d8e4790530",
   "metadata": {},
   "outputs": [],
   "source": [
    "he best way to output multiple variables in the\n",
    "print() function is to separate them with commas, \n",
    "which even support different data types:"
   ]
  },
  {
   "cell_type": "code",
   "execution_count": 133,
   "id": "9af0ffa8-d04e-499c-bf59-1c9d13b959b0",
   "metadata": {},
   "outputs": [
    {
     "name": "stdout",
     "output_type": "stream",
     "text": [
      "7 grg\n"
     ]
    }
   ],
   "source": [
    "x=7\n",
    "y=\"grg\"\n",
    "print(x,y)"
   ]
  },
  {
   "cell_type": "code",
   "execution_count": null,
   "id": "ae925120-9c11-4290-8dd9-4cf627ec754a",
   "metadata": {},
   "outputs": [],
   "source": [
    "                                           \"\"\"Global Variables\"\"\""
   ]
  },
  {
   "cell_type": "code",
   "execution_count": null,
   "id": "c19018b9-54d9-4f78-b0fd-614a001f8445",
   "metadata": {},
   "outputs": [],
   "source": [
    "Variables that are created ouside of the function block then it is called \"\"\"Global variables\"\"\""
   ]
  },
  {
   "cell_type": "code",
   "execution_count": null,
   "id": "b3588ae1-3ae5-4ce9-9740-b379a38822c2",
   "metadata": {},
   "outputs": [],
   "source": [
    "Global variables can be used by everyone, both inside of functions and outside."
   ]
  },
  {
   "cell_type": "code",
   "execution_count": null,
   "id": "7ace29df-d5b4-4e06-95db-4c70fa7ac8b8",
   "metadata": {},
   "outputs": [],
   "source": [
    "#creating a variable  outside of the of fuction and use it inside the function"
   ]
  },
  {
   "cell_type": "code",
   "execution_count": 137,
   "id": "9d8d7945-39d0-4388-b8fb-4e127b9a2e26",
   "metadata": {},
   "outputs": [
    {
     "name": "stdout",
     "output_type": "stream",
     "text": [
      "srinu\n"
     ]
    }
   ],
   "source": [
    "x=\"srinu\"\n",
    "def myfunc():\n",
    "    print(x)\n",
    "myfunc()"
   ]
  },
  {
   "cell_type": "code",
   "execution_count": null,
   "id": "14bc7b83-5755-4a0c-a6b6-482a99cc0a37",
   "metadata": {},
   "outputs": [],
   "source": [
    "If we create a same variable in the inside function it will local varible\n",
    "and it will be only for inside the function it is called \"\"\"local varibale \"\"\"\n",
    "    and the outer variable stable as it is"
   ]
  },
  {
   "cell_type": "code",
   "execution_count": 139,
   "id": "dbc0965a-a125-4caa-ab81-5874b6314f16",
   "metadata": {},
   "outputs": [
    {
     "name": "stdout",
     "output_type": "stream",
     "text": [
      "vasu\n",
      "srinu\n"
     ]
    }
   ],
   "source": [
    "x=\"srinu\"\n",
    "def myfunc():\n",
    "    x=\"vasu\"\n",
    "    print(x)\n",
    "myfunc()\n",
    "print(x)"
   ]
  },
  {
   "cell_type": "code",
   "execution_count": null,
   "id": "9f3ca178-2208-4052-b835-25bb5a096b8b",
   "metadata": {},
   "outputs": [],
   "source": [
    "                               \"\"\"The global Keyword\"\"\""
   ]
  },
  {
   "cell_type": "code",
   "execution_count": null,
   "id": "dacb7e4c-763d-499a-ab28-206092cae0c6",
   "metadata": {},
   "outputs": [],
   "source": [
    "Normally ,when we create a variable inside the function then it is local and it will used for only inside function\n",
    "\n",
    "To create a global varible inside the function,we use global keyword"
   ]
  },
  {
   "cell_type": "code",
   "execution_count": 141,
   "id": "9107bb72-6e75-4f47-95b1-4337fb11295d",
   "metadata": {},
   "outputs": [
    {
     "name": "stdout",
     "output_type": "stream",
     "text": [
      "vasu\n"
     ]
    }
   ],
   "source": [
    "\n",
    "def myfunc():\n",
    "    global x\n",
    "    x=\"vasu\"\n",
    "   \n",
    "myfunc()\n",
    "print(x)"
   ]
  },
  {
   "cell_type": "code",
   "execution_count": null,
   "id": "779540cd-fabe-4ed8-8d43-fc3e63ae31ca",
   "metadata": {},
   "outputs": [],
   "source": [
    "Also, use the global keyword if you want to change a global variable inside a function."
   ]
  },
  {
   "cell_type": "code",
   "execution_count": 143,
   "id": "69edc87b-e8e9-4830-8935-7b86710a0bd3",
   "metadata": {},
   "outputs": [
    {
     "name": "stdout",
     "output_type": "stream",
     "text": [
      "my Pyhton\n"
     ]
    }
   ],
   "source": [
    "x=\"python\"\n",
    "def func():\n",
    "    global x\n",
    "    x=\"my Pyhton\" #changing outside x to inside x value\n",
    "func()\n",
    "print(x)"
   ]
  },
  {
   "cell_type": "code",
   "execution_count": null,
   "id": "3b151b7a-4475-43d1-9e71-3e5571fb7d87",
   "metadata": {},
   "outputs": [],
   "source": []
  },
  {
   "cell_type": "code",
   "execution_count": null,
   "id": "b781a572-ca77-418a-9f27-dcae0f61ceb7",
   "metadata": {},
   "outputs": [],
   "source": []
  },
  {
   "cell_type": "code",
   "execution_count": null,
   "id": "310c2f79-0c65-4372-b8f5-901789c9ee7f",
   "metadata": {},
   "outputs": [],
   "source": []
  }
 ],
 "metadata": {
  "kernelspec": {
   "display_name": "Python 3 (ipykernel)",
   "language": "python",
   "name": "python3"
  },
  "language_info": {
   "codemirror_mode": {
    "name": "ipython",
    "version": 3
   },
   "file_extension": ".py",
   "mimetype": "text/x-python",
   "name": "python",
   "nbconvert_exporter": "python",
   "pygments_lexer": "ipython3",
   "version": "3.12.4"
  }
 },
 "nbformat": 4,
 "nbformat_minor": 5
}
