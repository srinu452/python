{
 "cells": [
  {
   "cell_type": "code",
   "execution_count": null,
   "id": "a7d37121-1876-4990-9954-991ee59fe668",
   "metadata": {},
   "outputs": [],
   "source": [
    "          '''Python functions''''"
   ]
  },
  {
   "cell_type": "code",
   "execution_count": null,
   "id": "47ea2b04-af8d-4e31-a373-e6d2e9b02619",
   "metadata": {},
   "outputs": [],
   "source": [
    "1.A function is a block of code which only runs when it is called\n",
    "2.We can pass the data know as parameters into a function\n",
    "3.A function can return data as a result."
   ]
  },
  {
   "cell_type": "code",
   "execution_count": null,
   "id": "c8fdb822-5c18-4d78-87cc-c9460fc8d26f",
   "metadata": {},
   "outputs": [],
   "source": [
    "**Creating a Function**\n",
    "In python a function is defined using def keyword:"
   ]
  },
  {
   "cell_type": "code",
   "execution_count": 3,
   "id": "be26d95b-af2f-4221-a712-be8ff62e8df7",
   "metadata": {},
   "outputs": [
    {
     "name": "stdout",
     "output_type": "stream",
     "text": [
      "Hello from a function\n"
     ]
    }
   ],
   "source": [
    "def my_function():\n",
    "    print(\"Hello from a function\")\n",
    "my_function()"
   ]
  },
  {
   "cell_type": "code",
   "execution_count": null,
   "id": "e30c8a8a-9eda-42d2-9813-e54752139239",
   "metadata": {},
   "outputs": [],
   "source": [
    "**Calling a Function**\n",
    "To call a function,use the function name followed by paranthesis"
   ]
  },
  {
   "cell_type": "code",
   "execution_count": 5,
   "id": "6415705e-7cba-48eb-a9cc-2bb72ca9e4fa",
   "metadata": {},
   "outputs": [
    {
     "name": "stdout",
     "output_type": "stream",
     "text": [
      "Hello from a function\n"
     ]
    }
   ],
   "source": [
    "def my_function():\n",
    "  print(\"Hello from a function\")\n",
    "\n",
    "my_function()"
   ]
  },
  {
   "cell_type": "code",
   "execution_count": null,
   "id": "5266156e-b096-4294-a632-3ae3c943871d",
   "metadata": {},
   "outputs": [],
   "source": [
    "**Arguements**\n",
    "1.Information can be passed in a functions as arguments\n",
    "2.Arguments are specified after the function name,inside the parentheses\n",
    "3.We can add as many arguments as our need,jusr seperate them with a comma.\n",
    "4."
   ]
  },
  {
   "cell_type": "code",
   "execution_count": 7,
   "id": "f276726c-ccd6-48b2-8b43-57c6305b5419",
   "metadata": {},
   "outputs": [
    {
     "name": "stdout",
     "output_type": "stream",
     "text": [
      "emailresnes\n"
     ]
    }
   ],
   "source": [
    "def my_function(fname):\n",
    "    print(fname+\"resnes\")\n",
    "my_function(\"email\")"
   ]
  },
  {
   "cell_type": "code",
   "execution_count": null,
   "id": "020cdfbe-8b5f-4b44-9758-0e0c6a86830f",
   "metadata": {},
   "outputs": [],
   "source": [
    "** Parameters or Arguements?\n",
    "The terms parameters and arguments can be use for the same thing:\n",
    "                                             information that are passed into afunction."
   ]
  },
  {
   "cell_type": "code",
   "execution_count": null,
   "id": "1cf22aeb-9814-4f96-a4d9-4980f79dd0be",
   "metadata": {},
   "outputs": [],
   "source": [
    "1.A parameter is the variable listed inside the parentheses in the function definition.\n",
    "2.An argument is the value that is sent to the function when it is called."
   ]
  },
  {
   "cell_type": "code",
   "execution_count": null,
   "id": "b35f8162-502c-4ff1-9e47-d77965a4a5ee",
   "metadata": {},
   "outputs": [],
   "source": [
    "** Number of Arguments\n",
    "By default, a function must be called with the correct number of arguements .\n",
    "Meaning that if your function expects 2 arguments ,you have to call function with 2 arguments ,not more and not less"
   ]
  },
  {
   "cell_type": "code",
   "execution_count": 11,
   "id": "5593edff-4dd6-4fdb-9f86-291c98827328",
   "metadata": {},
   "outputs": [
    {
     "name": "stdout",
     "output_type": "stream",
     "text": [
      "srini vasulu\n"
     ]
    }
   ],
   "source": [
    "def my_function(fname, lname):\n",
    "  print(fname + \" \" + lname)\n",
    "\n",
    "my_function(\"srini\", \"vasulu\")"
   ]
  },
  {
   "cell_type": "code",
   "execution_count": null,
   "id": "9294b261-1d93-4fcc-833a-5449a0ab755f",
   "metadata": {},
   "outputs": [],
   "source": [
    "If you try to call the function with 1 or 3 arguments, you will get an error:"
   ]
  },
  {
   "cell_type": "code",
   "execution_count": 13,
   "id": "82351fe0-e84a-4ef6-b5b1-9c5ac42ae5e7",
   "metadata": {},
   "outputs": [
    {
     "ename": "TypeError",
     "evalue": "my_function() missing 1 required positional argument: 'lname'",
     "output_type": "error",
     "traceback": [
      "\u001b[1;31m---------------------------------------------------------------------------\u001b[0m",
      "\u001b[1;31mTypeError\u001b[0m                                 Traceback (most recent call last)",
      "Cell \u001b[1;32mIn[13], line 4\u001b[0m\n\u001b[0;32m      1\u001b[0m \u001b[38;5;28;01mdef\u001b[39;00m \u001b[38;5;21mmy_function\u001b[39m(fname, lname):\n\u001b[0;32m      2\u001b[0m   \u001b[38;5;28mprint\u001b[39m(fname \u001b[38;5;241m+\u001b[39m \u001b[38;5;124m\"\u001b[39m\u001b[38;5;124m \u001b[39m\u001b[38;5;124m\"\u001b[39m \u001b[38;5;241m+\u001b[39m lname)\n\u001b[1;32m----> 4\u001b[0m my_function(\u001b[38;5;124m\"\u001b[39m\u001b[38;5;124msrini\u001b[39m\u001b[38;5;124m\"\u001b[39m)\n",
      "\u001b[1;31mTypeError\u001b[0m: my_function() missing 1 required positional argument: 'lname'"
     ]
    }
   ],
   "source": [
    "def my_function(fname, lname):\n",
    "  print(fname + \" \" + lname)\n",
    "\n",
    "my_function(\"srini\")"
   ]
  },
  {
   "cell_type": "code",
   "execution_count": null,
   "id": "42d3e9fa-784a-46b1-8f29-824eff0ae2a7",
   "metadata": {},
   "outputs": [],
   "source": [
    "**Arbitary Arguments ,*args\n",
    "\n",
    "If we do not know how many arguments that will passed into our function\n",
    "add * before the parameter name in the function defination\n",
    "\n",
    "This way the function will recieve a tuple of arguments and can access the items accordingly"
   ]
  },
  {
   "cell_type": "code",
   "execution_count": 33,
   "id": "eb9b61b1-1c3e-4cb5-a288-9a17c1276043",
   "metadata": {},
   "outputs": [
    {
     "name": "stdout",
     "output_type": "stream",
     "text": [
      "My name is:sri\n"
     ]
    }
   ],
   "source": [
    "def my_function(*name):\n",
    "    print(\"My name is:\"+name[0])\n",
    "\n",
    "my_function(\"sri\",\"vasu\",\"gadham\")"
   ]
  },
  {
   "cell_type": "code",
   "execution_count": null,
   "id": "c237d32c-308b-4709-a63d-9613ebbf219a",
   "metadata": {},
   "outputs": [],
   "source": [
    "**keyword Arguments**\n",
    "we can also send arguments with the key=value synatx\n",
    "this way order of the arguements does not matter."
   ]
  },
  {
   "cell_type": "code",
   "execution_count": 49,
   "id": "dff7bf4b-c786-4292-b6ed-9d99c09c9839",
   "metadata": {},
   "outputs": [
    {
     "name": "stdout",
     "output_type": "stream",
     "text": [
      "the youngest child is :sai\n"
     ]
    }
   ],
   "source": [
    "def my_function(child3,child2,child1):\n",
    "    print(\"the youngest child is :\"+child3)\n",
    "\n",
    "my_function(child1=\"vasu\",child2=\"sri\",child3=\"sai\")"
   ]
  },
  {
   "cell_type": "code",
   "execution_count": null,
   "id": "dad94646-0554-445d-8452-9929b925f94f",
   "metadata": {},
   "outputs": [],
   "source": [
    "\"\"\"Arbitary Keyword Arguments\"\"\"\n",
    "**kwargs\n",
    "If you do not know how many keyword arguments that will be passed into your function, add two asterisk: \n",
    "** before the parameter name in the function definition.\n"
   ]
  },
  {
   "cell_type": "code",
   "execution_count": 53,
   "id": "55aa771f-4d52-4488-a1ed-fd46709c1bde",
   "metadata": {},
   "outputs": [
    {
     "name": "stdout",
     "output_type": "stream",
     "text": [
      "His last name is:vasu\n"
     ]
    }
   ],
   "source": [
    "def my_function(**kid):\n",
    "    print(\"His last name is:\"+kid[\"fname\"])\n",
    "\n",
    "my_function(fname=\"vasu\",lname=\"sai\")"
   ]
  },
  {
   "cell_type": "code",
   "execution_count": null,
   "id": "f3b4cc38-a705-4232-96f2-f7ac5fe33336",
   "metadata": {},
   "outputs": [],
   "source": [
    "\"\"\"Default parameter value\"\"\"\n",
    "The following example shows how to use a default parameter value.\n",
    "\n",
    "If we call the function without argument, it uses the default value:"
   ]
  },
  {
   "cell_type": "code",
   "execution_count": 63,
   "id": "e9f116ad-5ef0-462f-b466-e40708291ece",
   "metadata": {},
   "outputs": [
    {
     "name": "stdout",
     "output_type": "stream",
     "text": [
      "I am an sweden\n",
      "I am an India\n",
      "I am an indian\n"
     ]
    }
   ],
   "source": [
    "def my_function(country=\"indian\"):\n",
    "    print(\"I am an \"+country)\n",
    "\n",
    "my_function(\"sweden\")\n",
    "my_function(\"India\")\n",
    "my_function()\n"
   ]
  },
  {
   "cell_type": "code",
   "execution_count": null,
   "id": "073a031a-b7dc-4541-880b-ad9046411b49",
   "metadata": {},
   "outputs": [],
   "source": [
    "\"\"\"Passing a List as an Argument\"\"\"\n",
    "We can send any data types of arguements to a function(string,number,list,dictionary)\n",
    "and it will treated as the same data type inside the function."
   ]
  },
  {
   "cell_type": "code",
   "execution_count": 87,
   "id": "b30eaf09-4289-4624-944a-3d692105ae4c",
   "metadata": {},
   "outputs": [
    {
     "name": "stdout",
     "output_type": "stream",
     "text": [
      "apple\n",
      "banana\n",
      "cherry\n"
     ]
    }
   ],
   "source": [
    "def my_function(food):\n",
    "    for i in food:\n",
    "        print(i)\n",
    "\n",
    "fruits=[\"apple\",\"banana\",\"cherry\"]\n",
    "my_function(fruits)"
   ]
  },
  {
   "cell_type": "code",
   "execution_count": 89,
   "id": "52090d70-0ae2-4d2d-b7da-079e94176800",
   "metadata": {},
   "outputs": [
    {
     "data": {
      "text/plain": [
       "'Return Values'"
      ]
     },
     "execution_count": 89,
     "metadata": {},
     "output_type": "execute_result"
    }
   ],
   "source": [
    "\"\"\"Return Values\"\"\"\n",
    "TO let a function return a value,use the return statement:\n"
   ]
  },
  {
   "cell_type": "code",
   "execution_count": 97,
   "id": "8f7fddf9-9f72-439b-bb94-e919dc685c36",
   "metadata": {},
   "outputs": [
    {
     "name": "stdout",
     "output_type": "stream",
     "text": [
      "8\n",
      "20\n",
      "36\n"
     ]
    }
   ],
   "source": [
    "def my_function(x):\n",
    "    return x*4\n",
    "\n",
    "print(my_function(2))\n",
    "print(my_function(5))\n",
    "print(my_function(9))"
   ]
  },
  {
   "cell_type": "code",
   "execution_count": null,
   "id": "786b904b-1bb9-4ba2-be3e-9bd1275173a2",
   "metadata": {},
   "outputs": [],
   "source": [
    "\"\"\"The pass Statement\"\"\""
   ]
  },
  {
   "cell_type": "code",
   "execution_count": null,
   "id": "ba328724-af69-4928-93b2-7b713096431a",
   "metadata": {},
   "outputs": [],
   "source": [
    "function definitions cannot be empty, but if you for some reason have a function definition with no content, put in the pass statement to avoid getting an error.\n",
    "\n"
   ]
  },
  {
   "cell_type": "code",
   "execution_count": 103,
   "id": "23263663-aa32-4cea-a51d-0d6e1d217822",
   "metadata": {},
   "outputs": [],
   "source": [
    "def myfunction(s):\n",
    "    pass\n",
    "\n",
    "myfunction(\"hi\")"
   ]
  },
  {
   "cell_type": "code",
   "execution_count": null,
   "id": "e0159193-4c4e-4f11-bf42-8b846c5de2bd",
   "metadata": {},
   "outputs": [],
   "source": [
    "\"\"\"Positional-Only Arguments\"\"\""
   ]
  },
  {
   "cell_type": "code",
   "execution_count": null,
   "id": "a68e3a64-903b-4998-bfe1-e500cb29da34",
   "metadata": {},
   "outputs": [],
   "source": [
    "We can specify that a function can have only positional arguments or only keyword arguments.\n"
   ]
  },
  {
   "cell_type": "code",
   "execution_count": null,
   "id": "a256aa7a-56ce-4560-8584-9d0d691b41c8",
   "metadata": {},
   "outputs": [],
   "source": [
    "To specify that a function can have only positional arguments, add , / after the arguments:"
   ]
  },
  {
   "cell_type": "code",
   "execution_count": 117,
   "id": "6fc15bbe-ae0a-419b-91b0-890db242f6cd",
   "metadata": {},
   "outputs": [
    {
     "name": "stdout",
     "output_type": "stream",
     "text": [
      "12\n"
     ]
    }
   ],
   "source": [
    "def my_function(x,/):\n",
    "    print(x)\n",
    "\n",
    "my_function(12)"
   ]
  },
  {
   "cell_type": "code",
   "execution_count": 119,
   "id": "f8e74e58-ceeb-48b8-aaa9-ce5daa3d9ab0",
   "metadata": {},
   "outputs": [
    {
     "ename": "TypeError",
     "evalue": "my_function() got some positional-only arguments passed as keyword arguments: 'x'",
     "output_type": "error",
     "traceback": [
      "\u001b[1;31m---------------------------------------------------------------------------\u001b[0m",
      "\u001b[1;31mTypeError\u001b[0m                                 Traceback (most recent call last)",
      "Cell \u001b[1;32mIn[119], line 4\u001b[0m\n\u001b[0;32m      1\u001b[0m \u001b[38;5;28;01mdef\u001b[39;00m \u001b[38;5;21mmy_function\u001b[39m(x,\u001b[38;5;241m/\u001b[39m):\n\u001b[0;32m      2\u001b[0m     \u001b[38;5;28mprint\u001b[39m(x)\n\u001b[1;32m----> 4\u001b[0m my_function(x\u001b[38;5;241m=\u001b[39m\u001b[38;5;241m12\u001b[39m)\n",
      "\u001b[1;31mTypeError\u001b[0m: my_function() got some positional-only arguments passed as keyword arguments: 'x'"
     ]
    }
   ],
   "source": [
    "def my_function(x,/):\n",
    "    print(x)\n",
    "\n",
    "my_function(x=12)"
   ]
  },
  {
   "cell_type": "code",
   "execution_count": null,
   "id": "73e4c7f1-9779-4e00-927e-9c7f8665ad85",
   "metadata": {},
   "outputs": [],
   "source": [
    "Without the , / you are actually allowed to use keyword arguments even if the function expects positional arguments:"
   ]
  },
  {
   "cell_type": "code",
   "execution_count": 121,
   "id": "7891d052-3e19-443e-8746-0601fb82b7d9",
   "metadata": {},
   "outputs": [
    {
     "name": "stdout",
     "output_type": "stream",
     "text": [
      "3\n"
     ]
    }
   ],
   "source": [
    "def my_function(x):\n",
    "    print(x)\n",
    "\n",
    "my_function(x=3)"
   ]
  },
  {
   "cell_type": "code",
   "execution_count": null,
   "id": "abdb123b-58f6-40fc-b54a-64479f5dd803",
   "metadata": {},
   "outputs": [],
   "source": [
    "\"\"\"Keyword-Only Arguments\"\"\"\n",
    "To specify that a function can have only keyword arguments , add*,before the arguements"
   ]
  },
  {
   "cell_type": "code",
   "execution_count": 123,
   "id": "b8bc2b04-78ac-4d4d-8558-02dfda8b963a",
   "metadata": {},
   "outputs": [
    {
     "name": "stdout",
     "output_type": "stream",
     "text": [
      "2\n"
     ]
    }
   ],
   "source": [
    "def my_function(*,x):\n",
    "    print(x)\n",
    "\n",
    "my_function(x=2)"
   ]
  },
  {
   "cell_type": "code",
   "execution_count": null,
   "id": "1235ebb4-ddc3-48b9-af1c-9a57b5851343",
   "metadata": {},
   "outputs": [],
   "source": [
    "But when adding the *, / you will get an error if you try to send a positional argument:"
   ]
  },
  {
   "cell_type": "code",
   "execution_count": 125,
   "id": "f91b15bf-bb43-457b-a7e2-99a961216cf9",
   "metadata": {},
   "outputs": [
    {
     "ename": "TypeError",
     "evalue": "my_function() takes 0 positional arguments but 1 was given",
     "output_type": "error",
     "traceback": [
      "\u001b[1;31m---------------------------------------------------------------------------\u001b[0m",
      "\u001b[1;31mTypeError\u001b[0m                                 Traceback (most recent call last)",
      "Cell \u001b[1;32mIn[125], line 5\u001b[0m\n\u001b[0;32m      2\u001b[0m \u001b[38;5;28;01mdef\u001b[39;00m \u001b[38;5;21mmy_function\u001b[39m(\u001b[38;5;241m*\u001b[39m, x):\n\u001b[0;32m      3\u001b[0m   \u001b[38;5;28mprint\u001b[39m(x)\n\u001b[1;32m----> 5\u001b[0m my_function(\u001b[38;5;241m3\u001b[39m)\n",
      "\u001b[1;31mTypeError\u001b[0m: my_function() takes 0 positional arguments but 1 was given"
     ]
    }
   ],
   "source": [
    "# Example\n",
    "def my_function(*, x):\n",
    "  print(x)\n",
    "\n",
    "my_function(3)"
   ]
  },
  {
   "cell_type": "code",
   "execution_count": null,
   "id": "998bb78e-bee0-4fc2-9164-7f5b18fa2983",
   "metadata": {},
   "outputs": [],
   "source": [
    "\"\"\"Combine Positional-Only and Keyword-Only\"\"\"\n",
    "We can combine both rwo arguments types in a same function\n",
    "Any arguments before the/,are positional-only,and any argument after the*,are keyword only"
   ]
  },
  {
   "cell_type": "code",
   "execution_count": 127,
   "id": "58c327e6-fd13-4d89-8144-1cf5c202eddb",
   "metadata": {},
   "outputs": [
    {
     "name": "stdout",
     "output_type": "stream",
     "text": [
      "37\n"
     ]
    }
   ],
   "source": [
    "def my_function(a,b,/,*,c,d):\n",
    "    print(a+b+c+d)\n",
    "\n",
    "my_function(5,6,c=3,d=23)"
   ]
  },
  {
   "cell_type": "code",
   "execution_count": null,
   "id": "2f6072ac-9575-490a-b25d-80333fdf4640",
   "metadata": {},
   "outputs": [],
   "source": [
    "***Recursion***\n",
    "1.Python also accepts function recursion,which means a defined function can call itself\n",
    "2.Recursion is a common mathematical and programming concept.\n",
    "3. It means that a function calls itself. This has the benefit of meaning that you can loop through data to reach a result.\n",
    "4."
   ]
  },
  {
   "cell_type": "code",
   "execution_count": null,
   "id": "75591485-76e0-4494-97ab-e97c97c11537",
   "metadata": {},
   "outputs": [],
   "source": [
    "In this example, tri_recursion() is a function that we have defined to call itself (\"recurse\"). \n",
    "We use the k variable as the data, which decrements (-1) every time we recurse. The recursion ends when the condition is not greater than 0 (i.e. when it is 0)."
   ]
  },
  {
   "cell_type": "code",
   "execution_count": 151,
   "id": "b367278c-ed8f-4014-b8e8-c5bc30f51cbe",
   "metadata": {},
   "outputs": [
    {
     "name": "stdout",
     "output_type": "stream",
     "text": [
      "\n",
      "\n",
      "Recursuion example results\n",
      "1\n",
      "3\n",
      "6\n",
      "10\n",
      "15\n"
     ]
    },
    {
     "data": {
      "text/plain": [
       "15"
      ]
     },
     "execution_count": 151,
     "metadata": {},
     "output_type": "execute_result"
    }
   ],
   "source": [
    "def tri_recursion(k):\n",
    "    if(k>0):\n",
    "        result=k+tri_recursion(k-1)\n",
    "        print(result)\n",
    "    else:\n",
    "        result=0\n",
    "    return result\n",
    "\n",
    "print(\"\\n\\nRecursuion example results\")\n",
    "tri_recursion(5)\n",
    "# Let's walk through the execution of tri_recursion(5):\n",
    "\n",
    "# Step 1 (k = 5):\n",
    "\n",
    "# Calls tri_recursion(4).\n",
    "# Waits for the result of tri_recursion(4).\n",
    "# Step 2 (k = 4):\n",
    "\n",
    "# Calls tri_recursion(3).\n",
    "# Waits for the result of tri_recursion(3).\n",
    "# Step 3 (k = 3):\n",
    "\n",
    "# Calls tri_recursion(2).\n",
    "# Waits for the result of tri_recursion(2).\n",
    "# Step 4 (k = 2):\n",
    "\n",
    "# Calls tri_recursion(1).\n",
    "# Waits for the result of tri_recursion(1).\n",
    "# Step 5 (k = 1):\n",
    "\n",
    "# Calls tri_recursion(0).\n",
    "# Waits for the result of tri_recursion(0).\n",
    "# Step 6 (k = 0):\n",
    "\n",
    "# Returns 0 (base case).\n",
    "# Now, we go back up the recursive calls:\n",
    "\n",
    "# Step 5 (k = 1):\n",
    "\n",
    "# result = 1 + 0 = 1\n",
    "# Prints 1\n",
    "# Returns 1\n",
    "# Step 4 (k = 2):\n",
    "\n",
    "# result = 2 + 1 = 3\n",
    "# Prints 3\n",
    "# Returns 3\n",
    "# Step 3 (k = 3):\n",
    "\n",
    "# result = 3 + 3 = 6\n",
    "# Prints 6\n",
    "# Returns 6\n",
    "# Step 2 (k = 4):\n",
    "\n",
    "# result = 4 + 6 = 10\n",
    "# Prints 10\n",
    "# Returns 10\n",
    "# Step 1 (k = 5):\n",
    "\n",
    "# result = 5 + 10 = 15\n",
    "# Prints 15\n",
    "# Returns 15\n",
    "# The final output of the f"
   ]
  },
  {
   "cell_type": "code",
   "execution_count": null,
   "id": "dd5010e1-4697-4330-bf93-6ac29e9e49c6",
   "metadata": {},
   "outputs": [],
   "source": []
  },
  {
   "cell_type": "code",
   "execution_count": null,
   "id": "49943543-274f-49ef-b856-08c6a1aefcdb",
   "metadata": {},
   "outputs": [],
   "source": []
  },
  {
   "cell_type": "code",
   "execution_count": 143,
   "id": "32e1e98c-f492-47d9-b91c-c89c487a9ffc",
   "metadata": {},
   "outputs": [
    {
     "name": "stdout",
     "output_type": "stream",
     "text": [
      "3000\n"
     ]
    }
   ],
   "source": [
    "import sys\n",
    "print(sys.getrecursionlimit())\n",
    "def greet():\n",
    "    print(\"hello\")\n",
    "    greet()"
   ]
  },
  {
   "cell_type": "code",
   "execution_count": 1,
   "id": "a3829bff-b9a2-4ff5-a124-395db5c1409e",
   "metadata": {},
   "outputs": [
    {
     "name": "stdout",
     "output_type": "stream",
     "text": [
      "Original list of integers:\n",
      "[1, 2, 3, 4, 5, 6, 7, 8, 9, 10]\n",
      "\n",
      "Even numbers from the said list:\n",
      "[2, 4, 6, 8, 10]\n",
      "\n",
      "Odd numbers from the said list:\n",
      "[1, 3, 5, 7, 9]\n"
     ]
    }
   ],
   "source": [
    "# Original list of integers\n",
    "original_list = [1, 2, 3, 4, 5, 6, 7, 8, 9, 10]\n",
    "\n",
    "# Filter even numbers using a lambda function\n",
    "even_numbers = list(filter(lambda x: x % 2 == 0, original_list))\n",
    "\n",
    "# Filter odd numbers using a lambda function\n",
    "odd_numbers = list(filter(lambda x: x % 2 != 0, original_list))\n",
    "\n",
    "# Print the output\n",
    "print(\"Original list of integers:\")\n",
    "print(original_list)\n",
    "print(\"\\nEven numbers from the said list:\")\n",
    "print(even_numbers)\n",
    "print(\"\\nOdd numbers from the said list:\")\n",
    "print(odd_numbers)\n"
   ]
  },
  {
   "cell_type": "code",
   "execution_count": 9,
   "id": "b1439219-5992-4e84-8534-1c36dfa9f43a",
   "metadata": {},
   "outputs": [
    {
     "data": {
      "text/plain": [
       "['dER', 'neerG', 'eulB', 'etihW', 'kcalB']"
      ]
     },
     "execution_count": 9,
     "metadata": {},
     "output_type": "execute_result"
    }
   ],
   "source": [
    "my_list=[\"REd\",\"Green\",\"Blue\",\"White\",\"Black\"]\n",
    "original_list=list(map(lambda s:s[::-1],my_list))\n",
    "original_list"
   ]
  },
  {
   "cell_type": "code",
   "execution_count": null,
   "id": "285e7b80-5922-42b1-8b1a-fb0ac9d54c62",
   "metadata": {},
   "outputs": [],
   "source": [
    "from functools import reduce"
   ]
  },
  {
   "cell_type": "code",
   "execution_count": 13,
   "id": "d58a2e34-0610-4f60-98fc-b1e17a326dff",
   "metadata": {},
   "outputs": [
    {
     "data": {
      "text/plain": [
       "-9792"
      ]
     },
     "execution_count": 13,
     "metadata": {},
     "output_type": "execute_result"
    }
   ],
   "source": [
    "from functools import reduce\n",
    "list1=[4,3,3,2,34,-2,2]\n",
    "product=reduce(lambda x,y:x*y,list1)\n",
    "product"
   ]
  },
  {
   "cell_type": "code",
   "execution_count": 15,
   "id": "a000dc57-ef8a-4ae0-88dc-a07c5546b5f9",
   "metadata": {},
   "outputs": [
    {
     "name": "stdin",
     "output_type": "stream",
     "text": [
      "enter the no 5\n"
     ]
    },
    {
     "name": "stdout",
     "output_type": "stream",
     "text": [
      "the factorail of 5 is 120\n"
     ]
    }
   ],
   "source": [
    "x=int(input(\"enter the no\"))\n",
    "fact_list=list(range(1,x+1))\n",
    "fact=reduce(lambda x,y:x*y ,fact_list)\n",
    "print(\"the factorail of {} is {}\".format(x,fact))"
   ]
  },
  {
   "cell_type": "code",
   "execution_count": null,
   "id": "b6d349db-f9f3-4431-acdf-f4f6164e15da",
   "metadata": {},
   "outputs": [],
   "source": []
  },
  {
   "cell_type": "code",
   "execution_count": null,
   "id": "ae3d349b-a829-4f22-946a-dd80db3b0aa0",
   "metadata": {},
   "outputs": [],
   "source": []
  },
  {
   "cell_type": "code",
   "execution_count": null,
   "id": "40163a8b-9724-4329-877b-e0aa5bb03450",
   "metadata": {},
   "outputs": [],
   "source": []
  }
 ],
 "metadata": {
  "kernelspec": {
   "display_name": "Python 3 (ipykernel)",
   "language": "python",
   "name": "python3"
  },
  "language_info": {
   "codemirror_mode": {
    "name": "ipython",
    "version": 3
   },
   "file_extension": ".py",
   "mimetype": "text/x-python",
   "name": "python",
   "nbconvert_exporter": "python",
   "pygments_lexer": "ipython3",
   "version": "3.12.4"
  }
 },
 "nbformat": 4,
 "nbformat_minor": 5
}
