{
 "cells": [
  {
   "cell_type": "code",
   "execution_count": null,
   "id": "087f983b-51a6-4757-82ee-6a88ede6cc3e",
   "metadata": {},
   "outputs": [],
   "source": [
    "      \"\"\" Exception Handling\"\"\""
   ]
  },
  {
   "cell_type": "code",
   "execution_count": null,
   "id": "5321c282-7ba4-4835-ab52-78a7a9df2151",
   "metadata": {},
   "outputs": [],
   "source": [
    "It is also like error ,whenever we did any mistakes in code itwill throws an error in that case python generates one messege through an error .\n",
    "1.Python as many in exceptions that are raised when our program encounters an error. When the exception occur the python interpreter stops the curent process if not handled the program will crash"
   ]
  },
  {
   "cell_type": "code",
   "execution_count": 15,
   "id": "b4aa5fe8-dedf-4c1a-9577-a03e94494eb0",
   "metadata": {},
   "outputs": [
    {
     "name": "stdout",
     "output_type": "stream",
     "text": [
      "*****\n",
      "*****\n",
      "*****\n",
      "*****\n"
     ]
    },
    {
     "ename": "ZeroDivisionError",
     "evalue": "division by zero",
     "output_type": "error",
     "traceback": [
      "\u001b[1;31m----------------------------------------------------------------\u001b[0m",
      "\u001b[1;31mZeroDivisionError\u001b[0m              Traceback (most recent call last)",
      "Cell \u001b[1;32mIn[15], line 5\u001b[0m\n\u001b[0;32m      3\u001b[0m \u001b[38;5;28mprint\u001b[39m(\u001b[38;5;124m\"\u001b[39m\u001b[38;5;124m*****\u001b[39m\u001b[38;5;124m\"\u001b[39m)\n\u001b[0;32m      4\u001b[0m \u001b[38;5;28mprint\u001b[39m(\u001b[38;5;124m\"\u001b[39m\u001b[38;5;124m*****\u001b[39m\u001b[38;5;124m\"\u001b[39m)\n\u001b[1;32m----> 5\u001b[0m \u001b[38;5;241m1\u001b[39m\u001b[38;5;241m/\u001b[39m\u001b[38;5;241m0\u001b[39m\n\u001b[0;32m      6\u001b[0m \u001b[38;5;28mprint\u001b[39m(\u001b[38;5;124m\"\u001b[39m\u001b[38;5;124m*****\u001b[39m\u001b[38;5;124m\"\u001b[39m)\n\u001b[0;32m      8\u001b[0m \u001b[38;5;28mprint\u001b[39m(\u001b[38;5;124m\"\u001b[39m\u001b[38;5;124m*****\u001b[39m\u001b[38;5;124m\"\u001b[39m)\n",
      "\u001b[1;31mZeroDivisionError\u001b[0m: division by zero"
     ]
    }
   ],
   "source": [
    "print(\"*****\")\n",
    "print(\"*****\")\n",
    "print(\"*****\")\n",
    "print(\"*****\")\n",
    "1/0\n",
    "print(\"*****\")\n",
    " \n",
    "print(\"*****\")"
   ]
  },
  {
   "cell_type": "code",
   "execution_count": 1,
   "id": "5a7b121f-9922-4c37-addf-f885f191ef3f",
   "metadata": {},
   "outputs": [
    {
     "name": "stdout",
     "output_type": "stream",
     "text": [
      "********\n",
      "*******\n",
      "*******\n"
     ]
    },
    {
     "ename": "NameError",
     "evalue": "name 'a' is not defined",
     "output_type": "error",
     "traceback": [
      "\u001b[1;31m----------------------------------------------------------------\u001b[0m",
      "\u001b[1;31mNameError\u001b[0m                      Traceback (most recent call last)",
      "Cell \u001b[1;32mIn[1], line 4\u001b[0m\n\u001b[0;32m      2\u001b[0m \u001b[38;5;28mprint\u001b[39m(\u001b[38;5;124m\"\u001b[39m\u001b[38;5;124m*******\u001b[39m\u001b[38;5;124m\"\u001b[39m)\n\u001b[0;32m      3\u001b[0m \u001b[38;5;28mprint\u001b[39m(\u001b[38;5;124m\"\u001b[39m\u001b[38;5;124m*******\u001b[39m\u001b[38;5;124m\"\u001b[39m)\n\u001b[1;32m----> 4\u001b[0m a\n",
      "\u001b[1;31mNameError\u001b[0m: name 'a' is not defined"
     ]
    }
   ],
   "source": [
    "print(\"********\")\n",
    "print(\"*******\")\n",
    "print(\"*******\")\n",
    "a\n"
   ]
  },
  {
   "cell_type": "code",
   "execution_count": null,
   "id": "3eaa8764-e257-418a-9617-6f38bdf31c9d",
   "metadata": {},
   "outputs": [],
   "source": [
    "Exceptions are nothing but the errors .two types Synatx error(compiled time error )"
   ]
  },
  {
   "cell_type": "code",
   "execution_count": null,
   "id": "866daf25-7c4f-455b-b69a-4dea2f29e07c",
   "metadata": {},
   "outputs": [],
   "source": [
    "*Syntax error"
   ]
  },
  {
   "cell_type": "code",
   "execution_count": 7,
   "id": "3b1f9f8e-0d46-49b7-8a51-16173758e4a7",
   "metadata": {},
   "outputs": [
    {
     "ename": "IndentationError",
     "evalue": "expected an indented block after 'if' statement on line 2 (3410253800.py, line 3)",
     "output_type": "error",
     "traceback": [
      "\u001b[1;36m  Cell \u001b[1;32mIn[7], line 3\u001b[1;36m\u001b[0m\n\u001b[1;33m    print(\"***\")\u001b[0m\n\u001b[1;37m    ^\u001b[0m\n\u001b[1;31mIndentationError\u001b[0m\u001b[1;31m:\u001b[0m expected an indented block after 'if' statement on line 2\n"
     ]
    }
   ],
   "source": [
    "a=3\n",
    "if a<3:\n",
    "print(\"***\")"
   ]
  },
  {
   "cell_type": "code",
   "execution_count": null,
   "id": "c114cfe0-bd28-4c74-a332-99824d60c13e",
   "metadata": {},
   "outputs": [],
   "source": [
    "*logical error"
   ]
  },
  {
   "cell_type": "code",
   "execution_count": 9,
   "id": "673e55c0-b6bc-449b-8784-e756668c7ff6",
   "metadata": {},
   "outputs": [
    {
     "ename": "ZeroDivisionError",
     "evalue": "division by zero",
     "output_type": "error",
     "traceback": [
      "\u001b[1;31m----------------------------------------------------------------\u001b[0m",
      "\u001b[1;31mZeroDivisionError\u001b[0m              Traceback (most recent call last)",
      "Cell \u001b[1;32mIn[9], line 1\u001b[0m\n\u001b[1;32m----> 1\u001b[0m \u001b[38;5;241m1\u001b[39m\u001b[38;5;241m/\u001b[39m\u001b[38;5;241m0\u001b[39m\n",
      "\u001b[1;31mZeroDivisionError\u001b[0m: division by zero"
     ]
    }
   ],
   "source": [
    "1/0"
   ]
  },
  {
   "cell_type": "code",
   "execution_count": 11,
   "id": "263c5898-96a2-4c3a-bb5f-d4713b868f8e",
   "metadata": {},
   "outputs": [
    {
     "ename": "ModuleNotFoundError",
     "evalue": "No module named 'pytorch'",
     "output_type": "error",
     "traceback": [
      "\u001b[1;31m----------------------------------------------------------------\u001b[0m",
      "\u001b[1;31mModuleNotFoundError\u001b[0m            Traceback (most recent call last)",
      "Cell \u001b[1;32mIn[11], line 1\u001b[0m\n\u001b[1;32m----> 1\u001b[0m \u001b[38;5;28;01mimport\u001b[39;00m \u001b[38;5;21;01mpytorch\u001b[39;00m\n",
      "\u001b[1;31mModuleNotFoundError\u001b[0m: No module named 'pytorch'"
     ]
    }
   ],
   "source": [
    "import pytorch"
   ]
  },
  {
   "cell_type": "code",
   "execution_count": null,
   "id": "d568b15a-9ead-4ebd-a89d-f77d572512a2",
   "metadata": {},
   "outputs": [],
   "source": [
    "*Catching the exceptions in Python"
   ]
  },
  {
   "cell_type": "code",
   "execution_count": null,
   "id": "3d8ae408-f2fb-4a0b-bf67-a726ef47edab",
   "metadata": {},
   "outputs": [],
   "source": [
    "we can handle it by using the try statement\n",
    "the critical operations which can raise and exception is placed inside the try clause \n",
    "the code that handles the exception is writtern in except clause"
   ]
  },
  {
   "cell_type": "code",
   "execution_count": null,
   "id": "0b9257bb-297b-4bfa-8252-fe7fe73bce93",
   "metadata": {},
   "outputs": [],
   "source": [
    "The try block lets you test a block of code for errors.\n",
    "\n",
    "The except block lets you handle the error.\n",
    "\n",
    "The else block lets you execute code when there is no error.\n",
    "\n",
    "The finally block lets you execute code, regardless of the result of the try- and except blocks."
   ]
  },
  {
   "cell_type": "code",
   "execution_count": null,
   "id": "59621fae-ad7f-4713-af1b-9d266a22dd66",
   "metadata": {},
   "outputs": [],
   "source": [
    "try:\n",
    "    code\n",
    "\n",
    "except:"
   ]
  },
  {
   "cell_type": "code",
   "execution_count": 17,
   "id": "37889079-6ea7-46e5-9109-f5c1dea45aa9",
   "metadata": {},
   "outputs": [
    {
     "name": "stdout",
     "output_type": "stream",
     "text": [
      "['ArithmeticError', 'AssertionError', 'AttributeError', 'BaseException', 'BaseExceptionGroup', 'BlockingIOError', 'BrokenPipeError', 'BufferError', 'BytesWarning', 'ChildProcessError', 'ConnectionAbortedError', 'ConnectionError', 'ConnectionRefusedError', 'ConnectionResetError', 'DeprecationWarning', 'EOFError', 'Ellipsis', 'EncodingWarning', 'EnvironmentError', 'Exception', 'ExceptionGroup', 'False', 'FileExistsError', 'FileNotFoundError', 'FloatingPointError', 'FutureWarning', 'GeneratorExit', 'IOError', 'ImportError', 'ImportWarning', 'IndentationError', 'IndexError', 'InterruptedError', 'IsADirectoryError', 'KeyError', 'KeyboardInterrupt', 'LookupError', 'MemoryError', 'ModuleNotFoundError', 'NameError', 'None', 'NotADirectoryError', 'NotImplemented', 'NotImplementedError', 'OSError', 'OverflowError', 'PendingDeprecationWarning', 'PermissionError', 'ProcessLookupError', 'RecursionError', 'ReferenceError', 'ResourceWarning', 'RuntimeError', 'RuntimeWarning', 'StopAsyncIteration', 'StopIteration', 'SyntaxError', 'SyntaxWarning', 'SystemError', 'SystemExit', 'TabError', 'TimeoutError', 'True', 'TypeError', 'UnboundLocalError', 'UnicodeDecodeError', 'UnicodeEncodeError', 'UnicodeError', 'UnicodeTranslateError', 'UnicodeWarning', 'UserWarning', 'ValueError', 'Warning', 'WindowsError', 'ZeroDivisionError', '__IPYTHON__', '__build_class__', '__debug__', '__doc__', '__import__', '__loader__', '__name__', '__package__', '__spec__', 'abs', 'aiter', 'all', 'anext', 'any', 'ascii', 'bin', 'bool', 'breakpoint', 'bytearray', 'bytes', 'callable', 'chr', 'classmethod', 'compile', 'complex', 'copyright', 'credits', 'delattr', 'dict', 'dir', 'display', 'divmod', 'enumerate', 'eval', 'exec', 'execfile', 'filter', 'float', 'format', 'frozenset', 'get_ipython', 'getattr', 'globals', 'hasattr', 'hash', 'help', 'hex', 'id', 'input', 'int', 'isinstance', 'issubclass', 'iter', 'len', 'license', 'list', 'locals', 'map', 'max', 'memoryview', 'min', 'next', 'object', 'oct', 'open', 'ord', 'pow', 'print', 'property', 'range', 'repr', 'reversed', 'round', 'runfile', 'set', 'setattr', 'slice', 'sorted', 'staticmethod', 'str', 'sum', 'super', 'tuple', 'type', 'vars', 'zip']\n"
     ]
    }
   ],
   "source": [
    "print(list(dir(locals()['__builtins__'])))"
   ]
  },
  {
   "cell_type": "code",
   "execution_count": 19,
   "id": "ea99a8e2-2902-4271-b701-5c5df5fed778",
   "metadata": {},
   "outputs": [
    {
     "name": "stdout",
     "output_type": "stream",
     "text": [
      "********\n",
      "********\n",
      "**********\n",
      "error\n",
      "****\n",
      "there was some error \n",
      "hi i love\n",
      "You\n"
     ]
    }
   ],
   "source": [
    "try:\n",
    "    print(\"********\")\n",
    "    print(\"********\")\n",
    "    print(\"**********\")\n",
    "    print(1/0)\n",
    "\n",
    "except:\n",
    "    print(\"error\")\n",
    "\n",
    "try:\n",
    "    print(\"****\")\n",
    "    import pytorch\n",
    "    print(\"*******\")\n",
    "\n",
    "except:\n",
    "    print(\"there was some error \")\n",
    "\n",
    "print(\"hi i love\")\n",
    "print(\"You\")"
   ]
  },
  {
   "cell_type": "code",
   "execution_count": 21,
   "id": "acf98eac-d38b-4ca4-8460-89d4efdc6c00",
   "metadata": {},
   "outputs": [
    {
     "ename": "ZeroDivisionError",
     "evalue": "division by zero",
     "output_type": "error",
     "traceback": [
      "\u001b[1;31m----------------------------------------------------------------\u001b[0m",
      "\u001b[1;31mZeroDivisionError\u001b[0m              Traceback (most recent call last)",
      "Cell \u001b[1;32mIn[21], line 3\u001b[0m\n\u001b[0;32m      1\u001b[0m a\u001b[38;5;241m=\u001b[39m\u001b[38;5;241m1\u001b[39m\n\u001b[0;32m      2\u001b[0m b\u001b[38;5;241m=\u001b[39m\u001b[38;5;241m0\u001b[39m\n\u001b[1;32m----> 3\u001b[0m c\u001b[38;5;241m=\u001b[39ma\u001b[38;5;241m/\u001b[39mb\n\u001b[0;32m      4\u001b[0m \u001b[38;5;28mprint\u001b[39m(c)\n",
      "\u001b[1;31mZeroDivisionError\u001b[0m: division by zero"
     ]
    }
   ],
   "source": [
    "a=1\n",
    "b=0\n",
    "c=a/b\n",
    "print(c)"
   ]
  },
  {
   "cell_type": "code",
   "execution_count": 23,
   "id": "c6808cee-63dc-4a3c-a30f-a62eaaa20833",
   "metadata": {},
   "outputs": [
    {
     "name": "stdout",
     "output_type": "stream",
     "text": [
      "34\n",
      "**\n"
     ]
    }
   ],
   "source": [
    "try:\n",
    "    a=1\n",
    "    b=0\n",
    "    print(\"34\")\n",
    "    import pytorch\n",
    "    z\n",
    "    a/b\n",
    "    print(c)\n",
    "\n",
    "except:\n",
    "    pass\n",
    "\n",
    "print(\"**\")"
   ]
  },
  {
   "cell_type": "code",
   "execution_count": 31,
   "id": "1c3dbafc-7821-4a29-b78b-b5a8f6b5a2fd",
   "metadata": {},
   "outputs": [
    {
     "name": "stdin",
     "output_type": "stream",
     "text": [
      "enter the numerator 1\n",
      "entr the denaminator 0\n"
     ]
    },
    {
     "name": "stdout",
     "output_type": "stream",
     "text": [
      "The denominator cannot be zero ,please give valid try again\n"
     ]
    },
    {
     "name": "stdin",
     "output_type": "stream",
     "text": [
      "enter the numerator 1\n",
      "entr the denaminator 3\n"
     ]
    },
    {
     "name": "stdout",
     "output_type": "stream",
     "text": [
      "the ans is  0.3333333333333333\n",
      "The code ends here\n"
     ]
    }
   ],
   "source": [
    "def divide_program():\n",
    "    try:\n",
    "        a=int(input(\"enter the numerator\"))\n",
    "        b=int(input(\"entr the denaminator\"))\n",
    "        c=a/b\n",
    "        print(\"the ans is \",c)\n",
    "    except:\n",
    "        print(\"The denominator cannot be zero ,please give valid try again\")\n",
    "        divide_program()\n",
    "\n",
    "divide_program()\n",
    "print(\"The code ends here\")"
   ]
  },
  {
   "cell_type": "code",
   "execution_count": 59,
   "id": "1e08c64a-7749-4f05-9770-0bf748b7bcda",
   "metadata": {},
   "outputs": [
    {
     "name": "stdin",
     "output_type": "stream",
     "text": [
      "enter the Numerator 1\n",
      "enter the denominator 0\n"
     ]
    },
    {
     "name": "stdout",
     "output_type": "stream",
     "text": [
      "the denominator not be zero ,please give valid division by zero\n"
     ]
    },
    {
     "name": "stdin",
     "output_type": "stream",
     "text": [
      "enter the Numerator 1\n",
      "enter the denominator 5\n"
     ]
    },
    {
     "name": "stdout",
     "output_type": "stream",
     "text": [
      "the ans is 0.2\n",
      "egeergiuqerg\n",
      "the grg\n",
      "the grg\n"
     ]
    }
   ],
   "source": [
    "def divide_program():\n",
    "\n",
    "    try:\n",
    "        a=int(input(\"enter the Numerator\"))\n",
    "        b=int(input(\"enter the denominator\"))\n",
    "        c=a/b\n",
    "        print(\"the ans is\",c)\n",
    "       \n",
    "    except ZeroDivisionError as z:\n",
    "        print(\"the denominator not be zero ,please give valid\",z)\n",
    "        divide_program()\n",
    "    else:\n",
    "        print(\"egeergiuqerg\")\n",
    "    finally:\n",
    "        print(\"the grg\")\n",
    "\n",
    "divide_program()\n"
   ]
  },
  {
   "cell_type": "code",
   "execution_count": 65,
   "id": "351bc307-3e2e-4b57-945a-1ad1bceb75a6",
   "metadata": {},
   "outputs": [
    {
     "name": "stdin",
     "output_type": "stream",
     "text": [
      "enter the Numerator 1\n",
      "enter the deno 2\n"
     ]
    },
    {
     "name": "stdout",
     "output_type": "stream",
     "text": [
      "the ans is  0.5\n",
      "The code ends here\n"
     ]
    }
   ],
   "source": [
    "def divide_programe():\n",
    "   try:\n",
    "       a=int(input(\"enter the Numerator\"))\n",
    "       b=int(input(\"enter the deno\"))\n",
    "       c=a/b\n",
    "       print(\"the ans is \",c)\n",
    "   except Exception as e:\n",
    "       print(\"The denominator cannot be zero,please try againthe erro is\",e)\n",
    "       divide_programe()\n",
    "divide_programe()\n",
    "print(\"The code ends here\")"
   ]
  },
  {
   "cell_type": "code",
   "execution_count": 73,
   "id": "1908b0bb-8d2b-4f11-ac03-42e25263cd9b",
   "metadata": {},
   "outputs": [
    {
     "name": "stdout",
     "output_type": "stream",
     "text": [
      "something wrong occred with error No module named 'pytorch'\n",
      "the code ends here\n"
     ]
    }
   ],
   "source": [
    "def calci():\n",
    "    try:\n",
    "        import pytorch\n",
    "        a=eval(input(\"enter the Numerator\"))\n",
    "        b=eval(input(\"enetr the deno\"))\n",
    "        d=a+b\n",
    "        print(d)\n",
    "        c=a/b\n",
    "        print(c)\n",
    "    except ZeroDivisionError as e:\n",
    "        print(\"the denomenotor should not be zero\",\"the error is\",e)\n",
    "        calci()\n",
    "    except TypeError as e:\n",
    "        print(\"two strings cannot be divided\",e)\n",
    "        calci()\n",
    "    except Exception as e:\n",
    "        print(\"something wrong occred with error\",e)\n",
    "\n",
    "calci()\n",
    "print(\"the code ends here\")"
   ]
  },
  {
   "cell_type": "code",
   "execution_count": 75,
   "id": "00c79638-0ab1-4518-a106-5653dc179306",
   "metadata": {},
   "outputs": [
    {
     "ename": "ModuleNotFoundError",
     "evalue": "No module named 'pytorch'",
     "output_type": "error",
     "traceback": [
      "\u001b[1;31m----------------------------------------------------------------\u001b[0m",
      "\u001b[1;31mModuleNotFoundError\u001b[0m            Traceback (most recent call last)",
      "Cell \u001b[1;32mIn[75], line 1\u001b[0m\n\u001b[1;32m----> 1\u001b[0m \u001b[38;5;28;01mimport\u001b[39;00m \u001b[38;5;21;01mpytorch\u001b[39;00m\n",
      "\u001b[1;31mModuleNotFoundError\u001b[0m: No module named 'pytorch'"
     ]
    }
   ],
   "source": [
    "import pytorch"
   ]
  },
  {
   "cell_type": "code",
   "execution_count": 77,
   "id": "d3163786-e333-467c-b084-7abf47a19315",
   "metadata": {},
   "outputs": [
    {
     "ename": "TypeError",
     "evalue": "unsupported operand type(s) for /: 'str' and 'str'",
     "output_type": "error",
     "traceback": [
      "\u001b[1;31m----------------------------------------------------------------\u001b[0m",
      "\u001b[1;31mTypeError\u001b[0m                      Traceback (most recent call last)",
      "Cell \u001b[1;32mIn[77], line 1\u001b[0m\n\u001b[1;32m----> 1\u001b[0m \u001b[38;5;124m\"\u001b[39m\u001b[38;5;124ma\u001b[39m\u001b[38;5;124m\"\u001b[39m\u001b[38;5;241m/\u001b[39m\u001b[38;5;124m\"\u001b[39m\u001b[38;5;124mb\u001b[39m\u001b[38;5;124m\"\u001b[39m\n",
      "\u001b[1;31mTypeError\u001b[0m: unsupported operand type(s) for /: 'str' and 'str'"
     ]
    }
   ],
   "source": [
    "\"a\"/\"b\""
   ]
  },
  {
   "cell_type": "code",
   "execution_count": null,
   "id": "a53c4067-4a3e-46aa-ab92-140849e67144",
   "metadata": {},
   "outputs": [],
   "source": [
    "**python try with else clause"
   ]
  },
  {
   "cell_type": "code",
   "execution_count": null,
   "id": "bffc331a-41cf-4a85-bb34-c0abfb9310b7",
   "metadata": {},
   "outputs": [],
   "source": [
    "In some situations ,you might want to run a certain block of code inside try run without any error\n",
    "for this we use optional else keyword with try\n"
   ]
  },
  {
   "cell_type": "code",
   "execution_count": 83,
   "id": "2279bd56-e62c-41a0-93e3-9fc30b9d4ef5",
   "metadata": {},
   "outputs": [
    {
     "name": "stdout",
     "output_type": "stream",
     "text": [
      "division by zero\n"
     ]
    }
   ],
   "source": [
    "try:\n",
    "    a=1\n",
    "    b=0\n",
    "    c=a/b\n",
    "except Exception as ex:\n",
    "    print(ex)\n",
    "else:\n",
    "    print(a)\n",
    "    print(b)\n",
    "    print(c)"
   ]
  },
  {
   "cell_type": "code",
   "execution_count": 89,
   "id": "16449e62-0eaa-4b1b-955e-38112d440d97",
   "metadata": {},
   "outputs": [
    {
     "name": "stdin",
     "output_type": "stream",
     "text": [
      "enter the Numerator 1\n",
      "enter the deno 2\n"
     ]
    },
    {
     "name": "stdout",
     "output_type": "stream",
     "text": [
      "1\n",
      "2\n",
      "0.5\n"
     ]
    }
   ],
   "source": [
    "try:\n",
    "   a=eval(input(\"enter the Numerator\"))\n",
    "   b=eval(input(\"enter the deno\"))\n",
    "   c=a/b\n",
    "except Exception as ex:\n",
    "   print(ex)\n",
    "else:\n",
    "   print(a)\n",
    "   print(b)\n",
    "   print(c)"
   ]
  },
  {
   "cell_type": "code",
   "execution_count": 91,
   "id": "5bb41577-fe17-4a1b-b9db-f1a2fe494904",
   "metadata": {},
   "outputs": [
    {
     "name": "stdin",
     "output_type": "stream",
     "text": [
      "enter the Numerator 1\n",
      "enter the deno 2\n"
     ]
    },
    {
     "name": "stdout",
     "output_type": "stream",
     "text": [
      "it ran successfully\n"
     ]
    }
   ],
   "source": [
    "try:\n",
    "   a=eval(input(\"enter the Numerator\"))\n",
    "   b=eval(input(\"enter the deno\"))\n",
    "   c=a/b\n",
    "except Exception as ex:\n",
    "   print(ex)\n",
    "else:\n",
    "   print(\"it ran successfully\")"
   ]
  },
  {
   "cell_type": "code",
   "execution_count": null,
   "id": "61b9975f-81ce-438d-85b3-eaa28e14a373",
   "metadata": {},
   "outputs": [],
   "source": [
    "*python try finally"
   ]
  },
  {
   "cell_type": "code",
   "execution_count": 93,
   "id": "4017bdc9-da54-4898-b2b1-ee2441765425",
   "metadata": {},
   "outputs": [
    {
     "ename": "NameError",
     "evalue": "name 'f' is not defined",
     "output_type": "error",
     "traceback": [
      "\u001b[1;31m----------------------------------------------------------------\u001b[0m",
      "\u001b[1;31mFileNotFoundError\u001b[0m              Traceback (most recent call last)",
      "Cell \u001b[1;32mIn[93], line 2\u001b[0m\n\u001b[0;32m      1\u001b[0m \u001b[38;5;28;01mtry\u001b[39;00m:\n\u001b[1;32m----> 2\u001b[0m     f\u001b[38;5;241m=\u001b[39m\u001b[38;5;28mopen\u001b[39m(\u001b[38;5;124m\"\u001b[39m\u001b[38;5;124mtest.txt\u001b[39m\u001b[38;5;124m\"\u001b[39m)\n\u001b[0;32m      3\u001b[0m     \u001b[38;5;66;03m#perform\u001b[39;00m\n\u001b[0;32m      4\u001b[0m \u001b[38;5;28;01mfinally\u001b[39;00m:\n",
      "File \u001b[1;32m~\\anaconda3\\Lib\\site-packages\\IPython\\core\\interactiveshell.py:324\u001b[0m, in \u001b[0;36m_modified_open\u001b[1;34m(file, *args, **kwargs)\u001b[0m\n\u001b[0;32m    318\u001b[0m     \u001b[38;5;28;01mraise\u001b[39;00m \u001b[38;5;167;01mValueError\u001b[39;00m(\n\u001b[0;32m    319\u001b[0m         \u001b[38;5;124mf\u001b[39m\u001b[38;5;124m\"\u001b[39m\u001b[38;5;124mIPython won\u001b[39m\u001b[38;5;124m'\u001b[39m\u001b[38;5;124mt let you open fd=\u001b[39m\u001b[38;5;132;01m{\u001b[39;00mfile\u001b[38;5;132;01m}\u001b[39;00m\u001b[38;5;124m by default \u001b[39m\u001b[38;5;124m\"\u001b[39m\n\u001b[0;32m    320\u001b[0m         \u001b[38;5;124m\"\u001b[39m\u001b[38;5;124mas it is likely to crash IPython. If you know what you are doing, \u001b[39m\u001b[38;5;124m\"\u001b[39m\n\u001b[0;32m    321\u001b[0m         \u001b[38;5;124m\"\u001b[39m\u001b[38;5;124myou can use builtins\u001b[39m\u001b[38;5;124m'\u001b[39m\u001b[38;5;124m open.\u001b[39m\u001b[38;5;124m\"\u001b[39m\n\u001b[0;32m    322\u001b[0m     )\n\u001b[1;32m--> 324\u001b[0m \u001b[38;5;28;01mreturn\u001b[39;00m io_open(file, \u001b[38;5;241m*\u001b[39margs, \u001b[38;5;241m*\u001b[39m\u001b[38;5;241m*\u001b[39mkwargs)\n",
      "\u001b[1;31mFileNotFoundError\u001b[0m: [Errno 2] No such file or directory: 'test.txt'",
      "\nDuring handling of the above exception, another exception occurred:\n",
      "\u001b[1;31mNameError\u001b[0m                      Traceback (most recent call last)",
      "Cell \u001b[1;32mIn[93], line 5\u001b[0m\n\u001b[0;32m      2\u001b[0m     f\u001b[38;5;241m=\u001b[39m\u001b[38;5;28mopen\u001b[39m(\u001b[38;5;124m\"\u001b[39m\u001b[38;5;124mtest.txt\u001b[39m\u001b[38;5;124m\"\u001b[39m)\n\u001b[0;32m      3\u001b[0m     \u001b[38;5;66;03m#perform\u001b[39;00m\n\u001b[0;32m      4\u001b[0m \u001b[38;5;28;01mfinally\u001b[39;00m:\n\u001b[1;32m----> 5\u001b[0m     f\u001b[38;5;241m.\u001b[39mclose()\n",
      "\u001b[1;31mNameError\u001b[0m: name 'f' is not defined"
     ]
    }
   ],
   "source": [
    "try:\n",
    "    f=open(\"test.txt\")\n",
    "    #perform\n",
    "finally:\n",
    "    f.close()"
   ]
  },
  {
   "cell_type": "code",
   "execution_count": 97,
   "id": "45a67b00-fbac-4c81-9ff5-9e87ddc99b40",
   "metadata": {},
   "outputs": [
    {
     "name": "stdout",
     "output_type": "stream",
     "text": [
      "1\n",
      "2\n",
      "0.5\n",
      "the execution is done\n"
     ]
    }
   ],
   "source": [
    "try:\n",
    "    a=1\n",
    "    b=2\n",
    "    c=a/b\n",
    "except Exception as ex:\n",
    "    print(ex)\n",
    "\n",
    "else:\n",
    "    print(a)\n",
    "    print(b)\n",
    "    print(c)\n",
    "\n",
    "finally:\n",
    "    print(\"the execution is done\")"
   ]
  },
  {
   "cell_type": "code",
   "execution_count": null,
   "id": "3430fe1d-e78c-4e23-9b3d-a2dda2fa339a",
   "metadata": {},
   "outputs": [],
   "source": [
    "**rasing exceptions in python\n",
    "-In python programming ,exception are raised when error occurs at runtime,\n",
    "But we want manually raise an exception we use raise keyword-we can also pass value to the exception to clarify what \n",
    "that exception was raised."
   ]
  },
  {
   "cell_type": "code",
   "execution_count": 101,
   "id": "09372ae9-78a9-4718-ac67-148485ad2521",
   "metadata": {},
   "outputs": [
    {
     "name": "stdin",
     "output_type": "stream",
     "text": [
      "enter a psoition -1\n"
     ]
    },
    {
     "name": "stdout",
     "output_type": "stream",
     "text": [
      "***** the is not a positive nummber\n"
     ]
    }
   ],
   "source": [
    "try:\n",
    "    a=int(input(\"enter a psoition\"))\n",
    "    if a<=0:\n",
    "        raise ValueError(\"the is not a positive nummber\")\n",
    "\n",
    "except ValueError as ve:\n",
    "    print(\"*****\",ve)"
   ]
  },
  {
   "cell_type": "code",
   "execution_count": null,
   "id": "2de2842d-8d69-44c4-927b-d3682c40c674",
   "metadata": {},
   "outputs": [],
   "source": [
    " 7 Python Custom Exceptions:\n",
    " • Python has numerous built in exceptions that force your program to give an error when\n",
    " somthing in program goes wrong.\n",
    " • but sometimes you may need to create your own custom exceptions that serve your purpose\n",
    " Create custom exceptions\n",
    " • In python, user can define custom exceptions by creating a new class.\n",
    " • This new class has to be dervied from the exception class."
   ]
  },
  {
   "cell_type": "code",
   "execution_count": 107,
   "id": "57610894-52a2-47a7-acfd-94c8ac8bd80b",
   "metadata": {},
   "outputs": [
    {
     "name": "stdin",
     "output_type": "stream",
     "text": [
      "enter a postive no -1\n"
     ]
    },
    {
     "name": "stdout",
     "output_type": "stream",
     "text": [
      "This is not a postive number\n"
     ]
    }
   ],
   "source": [
    "class WrongValue(Exception):\n",
    "   pass\n",
    "try:\n",
    "   a=int(input(\"enter a postive no\"))\n",
    "   if a<=0:\n",
    "         raise WrongValue(\"This is not a postive number\")\n",
    "except WrongValue as wv:\n",
    "   print(wv)"
   ]
  },
  {
   "cell_type": "code",
   "execution_count": 111,
   "id": "1a979950-3819-49ba-a697-0bcc9b50602e",
   "metadata": {},
   "outputs": [
    {
     "name": "stdout",
     "output_type": "stream",
     "text": [
      "***\n"
     ]
    },
    {
     "ename": "WrongValue",
     "evalue": "an error occured",
     "output_type": "error",
     "traceback": [
      "\u001b[1;31m----------------------------------------------------------------\u001b[0m",
      "\u001b[1;31mWrongValue\u001b[0m                     Traceback (most recent call last)",
      "Cell \u001b[1;32mIn[111], line 2\u001b[0m\n\u001b[0;32m      1\u001b[0m \u001b[38;5;28mprint\u001b[39m(\u001b[38;5;124m\"\u001b[39m\u001b[38;5;124m***\u001b[39m\u001b[38;5;124m\"\u001b[39m)\n\u001b[1;32m----> 2\u001b[0m \u001b[38;5;28;01mraise\u001b[39;00m WrongValue(\u001b[38;5;124m\"\u001b[39m\u001b[38;5;124man error occured\u001b[39m\u001b[38;5;124m\"\u001b[39m)\n\u001b[0;32m      3\u001b[0m \u001b[38;5;28mprint\u001b[39m(\u001b[38;5;124m\"\u001b[39m\u001b[38;5;124m***\u001b[39m\u001b[38;5;124m\"\u001b[39m)\n",
      "\u001b[1;31mWrongValue\u001b[0m: an error occured"
     ]
    }
   ],
   "source": [
    "print(\"***\")\n",
    "raise WrongValue(\"an error occured\")\n",
    "print(\"***\")"
   ]
  },
  {
   "cell_type": "code",
   "execution_count": 117,
   "id": "619b9ce8-b77e-467f-9154-00262304751b",
   "metadata": {},
   "outputs": [
    {
     "name": "stdout",
     "output_type": "stream",
     "text": [
      "Something went wrong when opening the file\n"
     ]
    }
   ],
   "source": [
    "try:\n",
    "    f=open(\"vasu.txt\")\n",
    "    try:\n",
    "        f.write(\"hi vasu\")\n",
    "    except:\n",
    "        print(\"Somthing went wrong when writting to the file\")\n",
    "    finally:\n",
    "        f.close()\n",
    "except:\n",
    "     print(\"Something went wrong when opening the file\")\n",
    "          "
   ]
  },
  {
   "cell_type": "code",
   "execution_count": null,
   "id": "1ca25021-a964-46e2-82fb-8b035644b619",
   "metadata": {},
   "outputs": [],
   "source": []
  },
  {
   "cell_type": "code",
   "execution_count": null,
   "id": "7b66d2f6-a415-4031-a6c8-f233951d672a",
   "metadata": {},
   "outputs": [],
   "source": [
    "\"\"\"\"\"\"\"\"\"\"\"Python user Input\"\"\"\"\"\""
   ]
  },
  {
   "cell_type": "code",
   "execution_count": null,
   "id": "83e6d7af-c05d-4bb8-bf58-c9275ec70323",
   "metadata": {},
   "outputs": [],
   "source": [
    "User Input\n",
    "Python allows for user input.\n",
    "\n",
    "That means we are able to ask the user for input.\n",
    "\n",
    "The method is a bit different in Python 3.6 than Python 2.7.\n",
    "\n",
    "Python 3.6 uses the input() method.\n",
    "\n",
    "Python 2.7 uses the raw_input() method.\n",
    "\n",
    "The following example asks for the username, and when you entered the username, it gets printed on the screen:"
   ]
  },
  {
   "cell_type": "code",
   "execution_count": 121,
   "id": "07d08dcc-2990-479d-ae2e-20c7013ef08e",
   "metadata": {},
   "outputs": [
    {
     "name": "stdin",
     "output_type": "stream",
     "text": [
      "Enter username: vasu\n"
     ]
    },
    {
     "name": "stdout",
     "output_type": "stream",
     "text": [
      "Username is: vasu\n"
     ]
    }
   ],
   "source": [
    "username = input(\"Enter username:\")\n",
    "print(\"Username is: \" + username)"
   ]
  },
  {
   "cell_type": "code",
   "execution_count": 133,
   "id": "9d7bccb2-dcb6-4c9b-81cd-58202a4a584e",
   "metadata": {},
   "outputs": [
    {
     "ename": "NameError",
     "evalue": "name 'raw_input' is not defined",
     "output_type": "error",
     "traceback": [
      "\u001b[1;31m----------------------------------------------------------------\u001b[0m",
      "\u001b[1;31mNameError\u001b[0m                      Traceback (most recent call last)",
      "Cell \u001b[1;32mIn[133], line 1\u001b[0m\n\u001b[1;32m----> 1\u001b[0m username \u001b[38;5;241m=\u001b[39m raw_input(\u001b[38;5;124m\"\u001b[39m\u001b[38;5;124mEnter username:\u001b[39m\u001b[38;5;124m\"\u001b[39m)\n\u001b[0;32m      2\u001b[0m \u001b[38;5;28mprint\u001b[39m(\u001b[38;5;124m\"\u001b[39m\u001b[38;5;124mUsername is: \u001b[39m\u001b[38;5;124m\"\u001b[39m \u001b[38;5;241m+\u001b[39m username)\n",
      "\u001b[1;31mNameError\u001b[0m: name 'raw_input' is not defined"
     ]
    }
   ],
   "source": [
    "username = raw_input(\"Enter username:\")\n",
    "print(\"Username is: \" + username)"
   ]
  },
  {
   "cell_type": "code",
   "execution_count": 139,
   "id": "afa243ce-4a31-494d-a408-c90c74b48da6",
   "metadata": {},
   "outputs": [
    {
     "ename": "SyntaxError",
     "evalue": "(unicode error) 'unicodeescape' codec can't decode bytes in position 2-3: truncated \\UXXXXXXXX escape (3543221109.py, line 1)",
     "output_type": "error",
     "traceback": [
      "\u001b[1;36m  Cell \u001b[1;32mIn[139], line 1\u001b[1;36m\u001b[0m\n\u001b[1;33m    f=open(\"C:\\Users\\gadam\\OneDrive\\Pictures\\Desktop\\data science.txt\")\u001b[0m\n\u001b[1;37m           ^\u001b[0m\n\u001b[1;31mSyntaxError\u001b[0m\u001b[1;31m:\u001b[0m (unicode error) 'unicodeescape' codec can't decode bytes in position 2-3: truncated \\UXXXXXXXX escape\n"
     ]
    }
   ],
   "source": [
    "f=open(\"C:\\Users\\gadam\\OneDrive\\Pictures\\Desktop\\data science.txt\")\n",
    "print(f.read())"
   ]
  },
  {
   "cell_type": "code",
   "execution_count": null,
   "id": "010c8311-7a53-4f51-8c1a-6d4f2d07c986",
   "metadata": {},
   "outputs": [],
   "source": []
  },
  {
   "cell_type": "code",
   "execution_count": null,
   "id": "2829344b-2e95-479b-b143-eab999580f80",
   "metadata": {},
   "outputs": [],
   "source": []
  },
  {
   "cell_type": "code",
   "execution_count": null,
   "id": "53989866-48f5-4235-bea7-d22e9fe65520",
   "metadata": {},
   "outputs": [],
   "source": []
  },
  {
   "cell_type": "code",
   "execution_count": null,
   "id": "f7d9999a-9570-49e6-ab53-4d77e06ed4ab",
   "metadata": {},
   "outputs": [],
   "source": []
  }
 ],
 "metadata": {
  "kernelspec": {
   "display_name": "Python 3 (ipykernel)",
   "language": "python",
   "name": "python3"
  },
  "language_info": {
   "codemirror_mode": {
    "name": "ipython",
    "version": 3
   },
   "file_extension": ".py",
   "mimetype": "text/x-python",
   "name": "python",
   "nbconvert_exporter": "python",
   "pygments_lexer": "ipython3",
   "version": "3.12.4"
  }
 },
 "nbformat": 4,
 "nbformat_minor": 5
}
