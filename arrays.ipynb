{
 "cells": [
  {
   "cell_type": "code",
   "execution_count": null,
   "id": "dd794310-bb28-4df6-8f4a-f9ba4f834756",
   "metadata": {},
   "outputs": [],
   "source": [
    "          '''python Arrays''' "
   ]
  },
  {
   "cell_type": "code",
   "execution_count": null,
   "id": "d2b3cfb2-49bd-4770-9eba-cba68351d80b",
   "metadata": {},
   "outputs": [],
   "source": [
    "Python doesnot jave built in support for arrays but python lists can be use instead"
   ]
  },
  {
   "cell_type": "code",
   "execution_count": null,
   "id": "93dc604b-89da-4ae4-9e3e-a51184452454",
   "metadata": {},
   "outputs": [],
   "source": [
    " This page shows you how to use LISTS as ARRAYS, however, to work with arrays in Python you will have to import a library, like the NumPy library."
   ]
  },
  {
   "cell_type": "code",
   "execution_count": null,
   "id": "9edb8be8-3c0c-4b92-8dd7-50209e91d1ab",
   "metadata": {},
   "outputs": [],
   "source": [
    "Arrays are used to store multiple values in one single variable:"
   ]
  },
  {
   "cell_type": "code",
   "execution_count": 1,
   "id": "f5a7f378-584e-49f0-acc1-7d0cd2d3e3bc",
   "metadata": {},
   "outputs": [
    {
     "data": {
      "text/plain": [
       "['cars', 'volvos', 'BMw']"
      ]
     },
     "execution_count": 1,
     "metadata": {},
     "output_type": "execute_result"
    }
   ],
   "source": [
    "cars=[\"cars\",\"volvos\",\"BMw\"]\n",
    "cars"
   ]
  },
  {
   "cell_type": "code",
   "execution_count": null,
   "id": "ec77eec1-9c97-4d66-8f53-e471ef04251e",
   "metadata": {},
   "outputs": [],
   "source": [
    "**what is an array?\n",
    "An array is special variable that take more than one value at a time.\n",
    "If you have list of items storing the cars in single variables coulf look like this:\n"
   ]
  },
  {
   "cell_type": "code",
   "execution_count": null,
   "id": "650e368a-5554-4dbf-8496-e4e34cc996a2",
   "metadata": {},
   "outputs": [],
   "source": [
    "However, what if you want to loop through the cars and find a specific one? And what if you had not 3 cars, but 300?"
   ]
  },
  {
   "cell_type": "code",
   "execution_count": null,
   "id": "3febb1d8-e7dc-446d-8f73-a2fd497801ce",
   "metadata": {},
   "outputs": [],
   "source": [
    "The solution is an array!"
   ]
  },
  {
   "cell_type": "code",
   "execution_count": null,
   "id": "5bae82f9-1d62-4a21-be79-d7c515836c54",
   "metadata": {},
   "outputs": [],
   "source": [
    "An array can hold many values under a single name,\n",
    "and you can access the values by referring to an index number."
   ]
  },
  {
   "cell_type": "code",
   "execution_count": null,
   "id": "71e132eb-fc88-4326-9f43-23b9c30b22e4",
   "metadata": {},
   "outputs": [],
   "source": [
    "**Access the Elements of an Array**\n",
    "\n",
    "You refer to an array element by referring to the index number."
   ]
  },
  {
   "cell_type": "code",
   "execution_count": 3,
   "id": "afc9dd3e-bcc7-428c-9725-698bcfa3c7e5",
   "metadata": {},
   "outputs": [
    {
     "name": "stdout",
     "output_type": "stream",
     "text": [
      "Ford\n"
     ]
    }
   ],
   "source": [
    "cars = [\"Ford\", \"Volvo\", \"BMW\"]\n",
    "\n",
    "x = cars[0]\n",
    "\n",
    "print(x)"
   ]
  },
  {
   "cell_type": "code",
   "execution_count": null,
   "id": "68013cc1-c8fc-4c12-991c-fee086d50063",
   "metadata": {},
   "outputs": [],
   "source": [
    "Modify the value of the first array item:"
   ]
  },
  {
   "cell_type": "code",
   "execution_count": 7,
   "id": "2ae0a635-ffaa-4424-8910-75987100baf6",
   "metadata": {},
   "outputs": [
    {
     "data": {
      "text/plain": [
       "['Toyota', 'Volvo', 'BMW']"
      ]
     },
     "execution_count": 7,
     "metadata": {},
     "output_type": "execute_result"
    }
   ],
   "source": [
    "cars[0] = \"Toyota\"\n",
    "cars"
   ]
  },
  {
   "cell_type": "code",
   "execution_count": null,
   "id": "ae3a1b30-6c4a-4872-92be-023060493315",
   "metadata": {},
   "outputs": [],
   "source": [
    "**The Length of an Array**\n"
   ]
  },
  {
   "cell_type": "code",
   "execution_count": null,
   "id": "b0a95c2d-0d06-47e3-a14b-ea1b27aa0760",
   "metadata": {},
   "outputs": [],
   "source": [
    " len() :method to return the length of an array (the number of elements in an array)."
   ]
  },
  {
   "cell_type": "code",
   "execution_count": 11,
   "id": "905a75b8-2e9a-44d9-880f-46eca1439342",
   "metadata": {},
   "outputs": [
    {
     "name": "stdout",
     "output_type": "stream",
     "text": [
      "3\n"
     ]
    }
   ],
   "source": [
    "cars=['Toyota', 'Volvo', 'BMW']\n",
    "x = len(cars)\n",
    "print(x)"
   ]
  },
  {
   "cell_type": "code",
   "execution_count": null,
   "id": "090feb80-22a0-432e-84a6-dd77fa466224",
   "metadata": {},
   "outputs": [],
   "source": [
    "**Looping Array Elements**"
   ]
  },
  {
   "cell_type": "code",
   "execution_count": null,
   "id": "ebb4fcef-e8fa-499c-bb1b-921123accc1e",
   "metadata": {},
   "outputs": [],
   "source": [
    "You can use the for in loop to loop through all the elements of an array."
   ]
  },
  {
   "cell_type": "code",
   "execution_count": 15,
   "id": "b8d8bc3c-d660-4e4d-9840-76828434171c",
   "metadata": {},
   "outputs": [
    {
     "name": "stdout",
     "output_type": "stream",
     "text": [
      "Toyota\n",
      "Volvo\n",
      "BMW\n"
     ]
    }
   ],
   "source": [
    "cars=['Toyota', 'Volvo', 'BMW']\n",
    "for i in cars:\n",
    "    print(i)"
   ]
  },
  {
   "cell_type": "code",
   "execution_count": null,
   "id": "918c6d5e-0f38-44b8-b7c5-334406dd81fd",
   "metadata": {},
   "outputs": [],
   "source": [
    "**Adding Array Elements\n",
    "using append() to add items at the end"
   ]
  },
  {
   "cell_type": "code",
   "execution_count": 19,
   "id": "e2f5df29-1db8-4e83-9d83-ccf3956b053c",
   "metadata": {},
   "outputs": [
    {
     "name": "stdout",
     "output_type": "stream",
     "text": [
      "['Toyota', 'Volvo', 'BMW', 'benz']\n"
     ]
    }
   ],
   "source": [
    "cars=['Toyota', 'Volvo', 'BMW']\n",
    "cars.append(\"benz\")\n",
    "print(cars)"
   ]
  },
  {
   "cell_type": "code",
   "execution_count": null,
   "id": "a6209711-a49c-470a-a2de-4e55e5df385e",
   "metadata": {},
   "outputs": [],
   "source": [
    "**Removing Array Elements**"
   ]
  },
  {
   "cell_type": "code",
   "execution_count": null,
   "id": "49739a53-188a-4144-aeef-84bffda78f9c",
   "metadata": {},
   "outputs": [],
   "source": [
    "You can use the pop() method to remove an element from the array."
   ]
  },
  {
   "cell_type": "code",
   "execution_count": 23,
   "id": "6ab53b59-33f7-44cb-8e49-4de571515b50",
   "metadata": {},
   "outputs": [
    {
     "data": {
      "text/plain": [
       "'Volvo'"
      ]
     },
     "execution_count": 23,
     "metadata": {},
     "output_type": "execute_result"
    }
   ],
   "source": [
    "cars=['Toyota', 'Volvo', 'BMW']\n",
    "cars.pop(1)\n"
   ]
  },
  {
   "cell_type": "code",
   "execution_count": 25,
   "id": "5e554390-7eea-4fd3-a5fc-4f2c0ded4a2b",
   "metadata": {},
   "outputs": [
    {
     "data": {
      "text/plain": [
       "['Toyota', 'BMW']"
      ]
     },
     "execution_count": 25,
     "metadata": {},
     "output_type": "execute_result"
    }
   ],
   "source": [
    "cars"
   ]
  },
  {
   "cell_type": "code",
   "execution_count": null,
   "id": "5d8e3faa-06bb-48cc-a42d-25c1c4b57ec1",
   "metadata": {},
   "outputs": [],
   "source": [
    " remove() method to remove an element from the array."
   ]
  },
  {
   "cell_type": "code",
   "execution_count": 31,
   "id": "3f9aae47-be80-40c8-bfa1-354048587d88",
   "metadata": {},
   "outputs": [
    {
     "name": "stdout",
     "output_type": "stream",
     "text": [
      "['Toyota', 'Volvo']\n"
     ]
    }
   ],
   "source": [
    "cars=['Toyota', 'Volvo', 'BMW']\n",
    "cars.remove(\"BMW\")\n",
    "print(cars)"
   ]
  },
  {
   "cell_type": "code",
   "execution_count": 37,
   "id": "13dc27b8-9649-439b-8524-d9731ed4f226",
   "metadata": {},
   "outputs": [
    {
     "data": {
      "text/plain": [
       "['BMW', 'Toyota', 'Volvo']"
      ]
     },
     "execution_count": 37,
     "metadata": {},
     "output_type": "execute_result"
    }
   ],
   "source": [
    "cars=['Toyota', 'Volvo', 'BMW']\n",
    "\n",
    "cars.sort()\n",
    "cars"
   ]
  },
  {
   "cell_type": "code",
   "execution_count": 39,
   "id": "b21df5cf-7651-405e-a1d8-394a460f4579",
   "metadata": {},
   "outputs": [
    {
     "data": {
      "text/plain": [
       "['BMW', 'Volvo', 'Toyota']"
      ]
     },
     "execution_count": 39,
     "metadata": {},
     "output_type": "execute_result"
    }
   ],
   "source": [
    "cars=['Toyota', 'Volvo', 'BMW']\n",
    "cars.reverse()\n",
    "cars"
   ]
  },
  {
   "cell_type": "code",
   "execution_count": 49,
   "id": "41462c0d-8411-4e49-989a-cb1a87f58125",
   "metadata": {},
   "outputs": [
    {
     "data": {
      "text/plain": [
       "['Toyota', 'value', 'Volvo', 'BMW']"
      ]
     },
     "execution_count": 49,
     "metadata": {},
     "output_type": "execute_result"
    }
   ],
   "source": [
    "cars=['Toyota', 'Volvo', 'BMW']\n",
    "\n",
    "cars.insert(1,\"value\")\n",
    "cars"
   ]
  },
  {
   "cell_type": "code",
   "execution_count": 53,
   "id": "b53999bf-48e7-4ddd-906c-960735423f7a",
   "metadata": {},
   "outputs": [
    {
     "data": {
      "text/plain": [
       "'Toyota'"
      ]
     },
     "execution_count": 53,
     "metadata": {},
     "output_type": "execute_result"
    }
   ],
   "source": [
    "cars[0]"
   ]
  },
  {
   "cell_type": "code",
   "execution_count": 55,
   "id": "13116167-5e40-47f7-b562-490111c97290",
   "metadata": {},
   "outputs": [
    {
     "data": {
      "text/plain": [
       "0"
      ]
     },
     "execution_count": 55,
     "metadata": {},
     "output_type": "execute_result"
    }
   ],
   "source": [
    "cars.index(\"Toyota\")"
   ]
  },
  {
   "cell_type": "code",
   "execution_count": 57,
   "id": "8e2fa97f-eae7-485f-9ac8-33b078454d2e",
   "metadata": {},
   "outputs": [],
   "source": [
    "fruits = [4, 55, 64, 32, 16, 32]\n",
    "\n",
    "x = fruits.index(32)"
   ]
  },
  {
   "cell_type": "code",
   "execution_count": 65,
   "id": "106b0792-396b-4075-949d-554b8da85daa",
   "metadata": {},
   "outputs": [
    {
     "name": "stdout",
     "output_type": "stream",
     "text": [
      "['Toyota', 'Volvo', 'BMW', 'Toyota', 'Volvo', 'BMW']\n"
     ]
    }
   ],
   "source": [
    "cars=['Toyota', 'Volvo', 'BMW']\n",
    "fruits = [4, 55, 64, 32, 16, 32]\n",
    "cars.extend(cars)\n",
    "print(cars)"
   ]
  },
  {
   "cell_type": "code",
   "execution_count": 71,
   "id": "558f4c38-559e-4042-bdef-453dc3d3f258",
   "metadata": {},
   "outputs": [
    {
     "data": {
      "text/plain": [
       "2"
      ]
     },
     "execution_count": 71,
     "metadata": {},
     "output_type": "execute_result"
    }
   ],
   "source": [
    "cars.count('Volvo')"
   ]
  },
  {
   "cell_type": "code",
   "execution_count": 79,
   "id": "0659054c-8d82-4736-86dc-c3b57ecd063d",
   "metadata": {},
   "outputs": [
    {
     "name": "stdout",
     "output_type": "stream",
     "text": [
      "['Toyota', 'Volvo', 'BMW']\n"
     ]
    }
   ],
   "source": [
    "fruits = [4, 55, 64, 32, 16, 32]\n",
    "cars=['Toyota', 'Volvo', 'BMW']\n",
    "fruits=cars.copy()\n",
    "print(fruits)"
   ]
  },
  {
   "cell_type": "code",
   "execution_count": null,
   "id": "e0098cf5-17b9-49ce-9ef0-6485d0618df5",
   "metadata": {},
   "outputs": [],
   "source": []
  },
  {
   "cell_type": "code",
   "execution_count": null,
   "id": "2cb7bf89-2170-4db0-929e-767c043a58fe",
   "metadata": {},
   "outputs": [],
   "source": []
  },
  {
   "cell_type": "code",
   "execution_count": null,
   "id": "01c5f888-7e8a-4328-9442-85698dd6553a",
   "metadata": {},
   "outputs": [],
   "source": []
  },
  {
   "cell_type": "code",
   "execution_count": null,
   "id": "07c38fa1-ff2a-4ba4-b3b3-74caa67f5b02",
   "metadata": {},
   "outputs": [],
   "source": []
  },
  {
   "cell_type": "code",
   "execution_count": null,
   "id": "c83f9e7a-9a8a-44af-853d-ad209168f6a1",
   "metadata": {},
   "outputs": [],
   "source": []
  },
  {
   "cell_type": "code",
   "execution_count": null,
   "id": "c11c0a44-7683-4a72-b7fc-3e0f4e0b3b2d",
   "metadata": {},
   "outputs": [],
   "source": []
  },
  {
   "cell_type": "code",
   "execution_count": null,
   "id": "ec8837fc-ebc1-4f11-adce-551f29ad2f2a",
   "metadata": {},
   "outputs": [],
   "source": []
  },
  {
   "cell_type": "code",
   "execution_count": null,
   "id": "0f1a3f11-b208-42f0-bdb8-95ed9e9e7d67",
   "metadata": {},
   "outputs": [],
   "source": []
  },
  {
   "cell_type": "code",
   "execution_count": null,
   "id": "f080a944-5a08-4f1c-a117-f9ccfd8f5eca",
   "metadata": {},
   "outputs": [],
   "source": []
  },
  {
   "cell_type": "code",
   "execution_count": null,
   "id": "64f44127-2be0-4a79-a338-fcc20f3c67d6",
   "metadata": {},
   "outputs": [],
   "source": []
  },
  {
   "cell_type": "code",
   "execution_count": null,
   "id": "3f85d275-9e36-48f4-9c69-36680833930d",
   "metadata": {},
   "outputs": [],
   "source": []
  },
  {
   "cell_type": "code",
   "execution_count": null,
   "id": "815d1c40-718c-43dd-bf7a-df312f0a82d9",
   "metadata": {},
   "outputs": [],
   "source": []
  },
  {
   "cell_type": "code",
   "execution_count": null,
   "id": "85bea373-7d17-47d5-a76f-abb1258f9fdb",
   "metadata": {},
   "outputs": [],
   "source": []
  },
  {
   "cell_type": "code",
   "execution_count": null,
   "id": "b5f1edeb-2ee3-41a2-ac7f-650829d4c158",
   "metadata": {},
   "outputs": [],
   "source": []
  },
  {
   "cell_type": "code",
   "execution_count": null,
   "id": "4e6e2ecd-54e2-4f19-930f-4e578fae4966",
   "metadata": {},
   "outputs": [],
   "source": []
  },
  {
   "cell_type": "code",
   "execution_count": null,
   "id": "d23807ec-ab2f-4237-a0d6-c2071d03db38",
   "metadata": {},
   "outputs": [],
   "source": []
  },
  {
   "cell_type": "code",
   "execution_count": null,
   "id": "07dbbf20-6b0b-4d57-ae24-5a8dedefeb09",
   "metadata": {},
   "outputs": [],
   "source": []
  },
  {
   "cell_type": "code",
   "execution_count": null,
   "id": "98de19b0-5719-47db-9bb8-9e2a70341f70",
   "metadata": {},
   "outputs": [],
   "source": []
  },
  {
   "cell_type": "code",
   "execution_count": null,
   "id": "a6ddae23-a7ea-48ee-a062-11b8b0f7c5d8",
   "metadata": {},
   "outputs": [],
   "source": []
  },
  {
   "cell_type": "code",
   "execution_count": null,
   "id": "a2c05af2-a808-4388-bb70-b3b1ba042f75",
   "metadata": {},
   "outputs": [],
   "source": []
  },
  {
   "cell_type": "code",
   "execution_count": null,
   "id": "f6d0425d-a255-4a86-a00d-88b6746d1ebe",
   "metadata": {},
   "outputs": [],
   "source": []
  },
  {
   "cell_type": "code",
   "execution_count": null,
   "id": "ab91c651-ba46-4134-9924-eabca2a0fd0d",
   "metadata": {},
   "outputs": [],
   "source": []
  },
  {
   "cell_type": "code",
   "execution_count": null,
   "id": "a987c55b-a5d1-4a87-aaca-a2601996cfa2",
   "metadata": {},
   "outputs": [],
   "source": []
  },
  {
   "cell_type": "code",
   "execution_count": null,
   "id": "96acf1b3-33ab-4011-87c9-1f20f4746235",
   "metadata": {},
   "outputs": [],
   "source": []
  },
  {
   "cell_type": "code",
   "execution_count": null,
   "id": "1ad96a4b-76b9-43c4-b4cc-0efcd8e59166",
   "metadata": {},
   "outputs": [],
   "source": []
  },
  {
   "cell_type": "code",
   "execution_count": null,
   "id": "60a90836-ffb9-4e2c-9601-0333bbc6304f",
   "metadata": {},
   "outputs": [],
   "source": []
  },
  {
   "cell_type": "code",
   "execution_count": null,
   "id": "c70fea9e-4f82-4d8f-8853-f28ed765523b",
   "metadata": {},
   "outputs": [],
   "source": []
  },
  {
   "cell_type": "code",
   "execution_count": null,
   "id": "e2aa8ece-53ff-4c2a-8cd5-4cc8dfead434",
   "metadata": {},
   "outputs": [],
   "source": []
  }
 ],
 "metadata": {
  "kernelspec": {
   "display_name": "Python 3 (ipykernel)",
   "language": "python",
   "name": "python3"
  },
  "language_info": {
   "codemirror_mode": {
    "name": "ipython",
    "version": 3
   },
   "file_extension": ".py",
   "mimetype": "text/x-python",
   "name": "python",
   "nbconvert_exporter": "python",
   "pygments_lexer": "ipython3",
   "version": "3.12.4"
  }
 },
 "nbformat": 4,
 "nbformat_minor": 5
}
