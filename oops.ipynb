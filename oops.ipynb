{
 "cells": [
  {
   "cell_type": "code",
   "execution_count": null,
   "id": "1d3a0770-085f-45b6-9cef-21879a28216c",
   "metadata": {},
   "outputs": [],
   "source": [
    "             '''Python classes and objects'''"
   ]
  },
  {
   "cell_type": "code",
   "execution_count": null,
   "id": "b92d360f-f314-464e-bff5-15cbab520acf",
   "metadata": {},
   "outputs": [],
   "source": [
    "1.Python is an object oriented programming language.\n",
    "2.Almost evrything in python is an object,with its properties and methods\n",
    "1 OOPS\n",
    " • Object oriented programing\n",
    " • It consist of object. The OOPS approach divides the program into object,classes etc\n",
    " • The object is bunlded with properties/attribute(variable) and behaviour(methods)\n",
    " • due to code re-usabilty,wchich makes code cleaner and less complex.\n",
    " • features from oops : Inheritence, encapsulation,abstraction,polymorphism\n",
    " • DRYconcept(Dont repeat yourself\n",
    "\n",
    " ]: properties/attributes= Variables\n",
    " behaviour=methods\n",
    "\n",
    " class Student:\n",
    " attribute:Name, rol_no,gender,marks\n",
    " behaviour:methods(studying,playing,singing\n",
    "\n",
    "      methods and vairiables are class member"
   ]
  },
  {
   "cell_type": "code",
   "execution_count": null,
   "id": "37b0f869-5843-43fe-8e42-89da816d893f",
   "metadata": {},
   "outputs": [],
   "source": [
    "**Class:\n",
    "1.A class is object constructer or a blueprint for creating objects\n",
    "2.class is a collection of objects\n",
    "3.It has class members:\n",
    "    *Attributes\n",
    "    *behaviour"
   ]
  },
  {
   "cell_type": "code",
   "execution_count": null,
   "id": "0da8a797-ecb0-4fac-9a2a-8c6f8be079bd",
   "metadata": {},
   "outputs": [],
   "source": [
    "1.create a class\n",
    "To  create a class ,use the keyword class:\n"
   ]
  },
  {
   "cell_type": "code",
   "execution_count": 117,
   "id": "0c0fb4b4-75f9-4862-9dc1-731cf92439ee",
   "metadata": {},
   "outputs": [],
   "source": [
    "class myclass:\n",
    "    x=23\n"
   ]
  },
  {
   "cell_type": "code",
   "execution_count": null,
   "id": "47b37f54-06cf-4231-bbf5-c2acf23d6350",
   "metadata": {},
   "outputs": [],
   "source": [
    "**Object:\n",
    "1.whenever we defined class only the blueprint of the object is created\n",
    "2.there is no memory loction\n",
    "3.object is created then only the memory is assighned to class memebrs\n",
    "4.instantation is nothing but creating a new object instance of class\n",
    "now we can use the class named Myclass to create objects'"
   ]
  },
  {
   "cell_type": "code",
   "execution_count": 119,
   "id": "d62ad607-f010-42d4-b632-3fbf5ba4d8f1",
   "metadata": {},
   "outputs": [
    {
     "name": "stdout",
     "output_type": "stream",
     "text": [
      "67\n"
     ]
    }
   ],
   "source": [
    "class myclass:\n",
    "    x=67\n",
    "\n",
    "p1=myclass()\n",
    "print(p1.x)"
   ]
  },
  {
   "cell_type": "code",
   "execution_count": 153,
   "id": "cb6b4271-7292-4ec6-ab83-a241d4b8e205",
   "metadata": {},
   "outputs": [
    {
     "name": "stdout",
     "output_type": "stream",
     "text": [
      "re\n",
      "honda\n",
      "pulsor\n",
      "riding\n"
     ]
    }
   ],
   "source": [
    "class bike():\n",
    "    a=\"re\"\n",
    "    b=\"honda\"\n",
    "    c=\"pulsor\"\n",
    "\n",
    "    def riding(self):\n",
    "         print(\"riding\")\n",
    "\n",
    "obj=bike()\n",
    "print(obj.a)\n",
    "print(obj.b)\n",
    "print(obj.c)\n",
    "obj.riding()"
   ]
  },
  {
   "cell_type": "code",
   "execution_count": null,
   "id": "3c29a864-2623-472e-9995-41cfb6bd7705",
   "metadata": {},
   "outputs": [],
   "source": [
    " function and method: when the function is used inside the class it is called metho"
   ]
  },
  {
   "cell_type": "code",
   "execution_count": 177,
   "id": "e92964c2-2d1b-4474-a04a-9be3e05e589a",
   "metadata": {},
   "outputs": [],
   "source": [
    "list=[1,2,34,43]\n",
    "class list:\n",
    "    def append(self,j):\n",
    "        pass\n",
    "    def sort(self):\n",
    "        pass\n",
    "\n",
    "obj=list()\n"
   ]
  },
  {
   "cell_type": "code",
   "execution_count": 179,
   "id": "35f9e593-b4b4-49fa-9755-ab8aac8d6035",
   "metadata": {},
   "outputs": [
    {
     "data": {
      "text/plain": [
       "1593946583360"
      ]
     },
     "execution_count": 179,
     "metadata": {},
     "output_type": "execute_result"
    }
   ],
   "source": [
    "id(obj)"
   ]
  },
  {
   "cell_type": "code",
   "execution_count": 181,
   "id": "2728599e-4bb2-42e7-9944-5479900bc131",
   "metadata": {},
   "outputs": [
    {
     "name": "stdout",
     "output_type": "stream",
     "text": [
      "riding ram\n"
     ]
    }
   ],
   "source": [
    "class Bike():\n",
    "    a=\"re\"\n",
    "    b=\"er\"\n",
    "    c=\"wfe\"\n",
    "    def riding(self,a):\n",
    "        print(\"riding\",a)\n",
    "\n",
    "obj1=Bike()\n",
    "obj1.riding(\"ram\")"
   ]
  },
  {
   "cell_type": "code",
   "execution_count": 191,
   "id": "b827fce0-c474-4b1c-b9c5-621971c66930",
   "metadata": {},
   "outputs": [],
   "source": [
    " class-template\n",
    " object- instance of class\n",
    "class ABC:\n",
    "  variables\n",
    "  method()\n",
    "a=ABC\n"
   ]
  },
  {
   "cell_type": "code",
   "execution_count": null,
   "id": "2fce0250-1033-4cca-9ab8-a4dc7388ff75",
   "metadata": {},
   "outputs": [],
   "source": [
    "**Constructer:\n",
    "*Init:\n",
    "1.constructer method or instance method\n",
    "2.whenever an object is created for a class ,the constructer will be called\n",
    "3.this will create the attributes and assighn values to them\n",
    "4.self:which represent the instance of class.by using self we can access the attributes and methods of class"
   ]
  },
  {
   "cell_type": "code",
   "execution_count": null,
   "id": "d01bdc2b-77dd-466a-a062-5e90593c4974",
   "metadata": {},
   "outputs": [],
   "source": [
    "***.The __init__()function:\n",
    "1.The examples above are classes and objects in their simplest form, and are not really useful in real life applications.\n",
    "2.To understand the meaning of classes we have to understand the built-in __init__() function.\n",
    "3.All classes have a function called __init__(), which is always executed when the class is being initiated.\n",
    "4.Use the __init__() function to assign values to object properties, or other operations that are necessary to do when the object is being created:"
   ]
  },
  {
   "cell_type": "code",
   "execution_count": 127,
   "id": "01213ed2-935e-4505-843c-2c3b76ad25a2",
   "metadata": {},
   "outputs": [
    {
     "name": "stdout",
     "output_type": "stream",
     "text": [
      "vasu\n",
      "12\n"
     ]
    }
   ],
   "source": [
    "class Person:\n",
    "    def __init__(self,name,age):\n",
    "        self.name=name\n",
    "        self.age=age\n",
    "\n",
    "p1=Person(\"vasu\",12)\n",
    "print(p1.name)\n",
    "print(p1.age)"
   ]
  },
  {
   "cell_type": "code",
   "execution_count": null,
   "id": "f3aaea67-76cc-41ff-a46c-c310474ff45b",
   "metadata": {},
   "outputs": [],
   "source": [
    "Note: The __init__() function is called automatically every time the class is being used to create a new object."
   ]
  },
  {
   "cell_type": "code",
   "execution_count": 15,
   "id": "d64ffb76-d5c1-4267-88f5-cd1f4589b1ea",
   "metadata": {},
   "outputs": [
    {
     "name": "stdout",
     "output_type": "stream",
     "text": [
      "*****\n",
      "ONEPLUS\n",
      "256GB\n",
      "8GB\n",
      "the specification of mobile is ONEPLUS and Ram is 256GB and memory is 8GB\n"
     ]
    }
   ],
   "source": [
    "class Mobile:\n",
    "    def __init__(self,name,memory,ram):\n",
    "        self.name=name\n",
    "        self.memory=memory\n",
    "        self.ram=ram\n",
    "        print(\"*****\")\n",
    "    def specification(self):\n",
    "        print(\"the specification of mobile is {} and Ram is {} and memory is {}\".format(self.name,self.memory,self.ram))\n",
    "\n",
    "obj1=Mobile(\"ONEPLUS\",\"256GB\",\"8GB\")\n",
    "print(obj1.name)\n",
    "print(obj1.memory)\n",
    "print(obj1.ram)\n",
    "obj1.specification()"
   ]
  },
  {
   "cell_type": "code",
   "execution_count": 21,
   "id": "d7e98058-6607-4597-9441-5b46111b1b2a",
   "metadata": {},
   "outputs": [
    {
     "name": "stdout",
     "output_type": "stream",
     "text": [
      "*****\n",
      "ONEPLUS\n",
      "256GB\n",
      "2GB\n",
      "the specification of mobile is ONEPLUS and Ram is 2GB and memory is 256GB\n"
     ]
    }
   ],
   "source": [
    "class Mobile:\n",
    "    def __init__(self,name,memory,ram=\"2GB\"): #constructor or instance method\n",
    "        self.name=name\n",
    "        self.memory=memory\n",
    "        self.ram=ram\n",
    "        self.country=\"India\"\n",
    "        print(\"*****\")\n",
    "    def specification(self):\n",
    "        print(\"the specification of mobile is {} and Ram is {} and memory is {}\".format(self.name,self.ram,self.memory))\n",
    "\n",
    "obj1=Mobile(\"ONEPLUS\",\"256GB\")\n",
    "print(obj1.name)\n",
    "print(obj1.memory)\n",
    "print(obj1.ram)\n",
    "obj1.specification()"
   ]
  },
  {
   "cell_type": "code",
   "execution_count": null,
   "id": "51d25d9d-c441-4d19-af4d-7f77ef49bdac",
   "metadata": {},
   "outputs": [],
   "source": [
    "**Self()\n",
    "\n",
    "-self is a parameter  which is always pointing to current instance of the class,\n",
    "and used to access variables that belongs to the class.\n",
    "\n",
    "-It doee not have be named self ,YOu can call it whenever you like ,\n",
    "but it has to be the first parameterof any function in the class\n",
    "\n",
    "-self-->current object\n"
   ]
  },
  {
   "cell_type": "code",
   "execution_count": 31,
   "id": "648d7421-404b-4f6e-9e68-75736f5b68dd",
   "metadata": {},
   "outputs": [
    {
     "name": "stdout",
     "output_type": "stream",
     "text": [
      "srinu\n",
      "21\n",
      "hello my name is srinu\n"
     ]
    }
   ],
   "source": [
    "class Person:\n",
    "    def __init__(mysillyobject,name,age):\n",
    "        mysillyobject.name=name\n",
    "        mysillyobject.age=age\n",
    "\n",
    "    def myfunction(abc):\n",
    "        print(\"hello my name is \" + abc.name)\n",
    "\n",
    "p1=Person(\"srinu\",21)\n",
    "print(p1.name)\n",
    "print(p1.age)\n",
    "p1.myfunction()"
   ]
  },
  {
   "cell_type": "code",
   "execution_count": 39,
   "id": "da18f926-bf11-4d4c-8b13-1fe6cce20a4b",
   "metadata": {},
   "outputs": [
    {
     "name": "stdout",
     "output_type": "stream",
     "text": [
      "23\n",
      "Python\n",
      "23\n",
      "id 1906474227504\n"
     ]
    }
   ],
   "source": [
    "class Vg:\n",
    "    def __init__(self,a):\n",
    "        self.a=a\n",
    "    def ds(self):\n",
    "        print(\"Python\")\n",
    "        print(self.a)\n",
    "        print(\"id\",id(self))\n",
    "\n",
    "v1=Vg(23)\n",
    "print(v1.a)\n",
    "v1.ds()\n"
   ]
  },
  {
   "cell_type": "code",
   "execution_count": null,
   "id": "6232de5a-8cf2-4c3a-bc3d-56bdcfaf2eb6",
   "metadata": {},
   "outputs": [],
   "source": [
    "if v1 is the instance of class and can access class members .hence self can also access\n",
    "class members"
   ]
  },
  {
   "cell_type": "code",
   "execution_count": null,
   "id": "d5c501b6-0b36-4055-ae04-946c92364520",
   "metadata": {},
   "outputs": [],
   "source": [
    "**__str__() Function\n",
    "\n",
    "The __str__() function controls what should be returned when the class object is represented as a string\n",
    "If __str__() function is not set,the string representation of the object is returned"
   ]
  },
  {
   "cell_type": "code",
   "execution_count": 43,
   "id": "b1dc45d3-5dca-4539-9708-7f2385095976",
   "metadata": {},
   "outputs": [
    {
     "name": "stdout",
     "output_type": "stream",
     "text": [
      "<__main__.Person object at 0x000001BBE40BBB90>\n"
     ]
    }
   ],
   "source": [
    "class Person:\n",
    "    def __init__(self,name,age):\n",
    "        self.name=name\n",
    "        self.age=age\n",
    "\n",
    "p1=Person(\"John\",23)\n",
    "print(p1)"
   ]
  },
  {
   "cell_type": "code",
   "execution_count": 45,
   "id": "06815e1a-f1f3-445c-949f-1a7d3cec33d5",
   "metadata": {},
   "outputs": [
    {
     "name": "stdout",
     "output_type": "stream",
     "text": [
      "John(23)\n"
     ]
    }
   ],
   "source": [
    "class Person:\n",
    "    def __init__(self,name,age):\n",
    "        self.name=name\n",
    "        self.age=age\n",
    "    def __str__(self):\n",
    "        return f\"{self.name}({self.age})\"\n",
    "\n",
    "p1=Person(\"John\",23)\n",
    "print(p1)"
   ]
  },
  {
   "cell_type": "code",
   "execution_count": null,
   "id": "ef965ccd-fb9d-489c-915f-a672f80e9fa5",
   "metadata": {},
   "outputs": [],
   "source": [
    "***Object Methods\n",
    "Objects can also contain methods.Methods in objects are function that belong to the object.\n",
    "Let us create a Method in the Person class:"
   ]
  },
  {
   "cell_type": "code",
   "execution_count": 47,
   "id": "1eff55cb-aacd-4980-9028-1da8817047e6",
   "metadata": {},
   "outputs": [
    {
     "name": "stdout",
     "output_type": "stream",
     "text": [
      "Hello my name is John\n"
     ]
    }
   ],
   "source": [
    "class Person:\n",
    "  def __init__(self, name, age):\n",
    "    self.name = name\n",
    "    self.age = age\n",
    "\n",
    "  def myfunc(self):\n",
    "    print(\"Hello my name is \" + self.name)\n",
    "\n",
    "p1 = Person(\"John\", 36)\n",
    "p1.myfunc()"
   ]
  },
  {
   "cell_type": "code",
   "execution_count": null,
   "id": "73a7b9ff-18ab-45a2-8d4d-9553346694dd",
   "metadata": {},
   "outputs": [],
   "source": [
    "**Modify Object Properties\n",
    "\n",
    "You can modify properties on object like this:"
   ]
  },
  {
   "cell_type": "code",
   "execution_count": null,
   "id": "be58ac83-204a-4bf4-a46b-cd09faa7d781",
   "metadata": {},
   "outputs": [],
   "source": [
    "set the age of p1 to 40"
   ]
  },
  {
   "cell_type": "code",
   "execution_count": 53,
   "id": "a0a25460-c9ab-4b3e-b8c9-28414cabbf21",
   "metadata": {},
   "outputs": [
    {
     "name": "stdout",
     "output_type": "stream",
     "text": [
      "40\n"
     ]
    }
   ],
   "source": [
    "class Person:\n",
    "  def __init__(self, name, age):\n",
    "    self.name = name\n",
    "    self.age = age\n",
    "\n",
    "  def myfunc(self):\n",
    "    print(\"Hello my name is \" + self.name)\n",
    "\n",
    "p1 = Person(\"John\", 36)\n",
    "\n",
    "p1.age = 40\n",
    "\n",
    "print(p1.age)\n"
   ]
  },
  {
   "cell_type": "code",
   "execution_count": null,
   "id": "1aa2c5e1-80fc-46ff-bfff-5bb7375424ae",
   "metadata": {},
   "outputs": [],
   "source": [
    "**Delete Object Properties \n",
    "\n",
    "We can delete the properties on objects by using the del keyword:\n"
   ]
  },
  {
   "cell_type": "code",
   "execution_count": 57,
   "id": "85443430-efcb-4aa9-9704-e08cd121cb7d",
   "metadata": {},
   "outputs": [
    {
     "ename": "AttributeError",
     "evalue": "'Person' object has no attribute 'age'",
     "output_type": "error",
     "traceback": [
      "\u001b[1;31m---------------------------------------------------------------------------\u001b[0m",
      "\u001b[1;31mAttributeError\u001b[0m                            Traceback (most recent call last)",
      "Cell \u001b[1;32mIn[57], line 12\u001b[0m\n\u001b[0;32m      9\u001b[0m p1 \u001b[38;5;241m=\u001b[39m Person(\u001b[38;5;124m\"\u001b[39m\u001b[38;5;124mJohn\u001b[39m\u001b[38;5;124m\"\u001b[39m, \u001b[38;5;241m36\u001b[39m)\n\u001b[0;32m     11\u001b[0m \u001b[38;5;28;01mdel\u001b[39;00m p1\u001b[38;5;241m.\u001b[39mage\n\u001b[1;32m---> 12\u001b[0m \u001b[38;5;28mprint\u001b[39m(p1\u001b[38;5;241m.\u001b[39mage)\n",
      "\u001b[1;31mAttributeError\u001b[0m: 'Person' object has no attribute 'age'"
     ]
    }
   ],
   "source": [
    "class Person:\n",
    "  def __init__(self, name, age):\n",
    "    self.name = name\n",
    "    self.age = age\n",
    "\n",
    "  def myfunc(self):\n",
    "    print(\"Hello my name is \" + self.name)\n",
    "\n",
    "p1 = Person(\"John\", 36)\n",
    "\n",
    "del p1.age\n",
    "print(p1.age)"
   ]
  },
  {
   "cell_type": "code",
   "execution_count": null,
   "id": "282dba31-293a-45a8-93c7-56188cc7deec",
   "metadata": {},
   "outputs": [],
   "source": [
    "**Delete Objects\n",
    "\n",
    "delete objects by using the del keyword:"
   ]
  },
  {
   "cell_type": "code",
   "execution_count": 61,
   "id": "6dcef05a-c05c-4cad-b0ac-34b906d66cfe",
   "metadata": {},
   "outputs": [
    {
     "ename": "NameError",
     "evalue": "name 'p1' is not defined",
     "output_type": "error",
     "traceback": [
      "\u001b[1;31m---------------------------------------------------------------------------\u001b[0m",
      "\u001b[1;31mNameError\u001b[0m                                 Traceback (most recent call last)",
      "Cell \u001b[1;32mIn[61], line 12\u001b[0m\n\u001b[0;32m      9\u001b[0m p1 \u001b[38;5;241m=\u001b[39m Person(\u001b[38;5;124m\"\u001b[39m\u001b[38;5;124mJohn\u001b[39m\u001b[38;5;124m\"\u001b[39m, \u001b[38;5;241m36\u001b[39m)\n\u001b[0;32m     11\u001b[0m \u001b[38;5;28;01mdel\u001b[39;00m p1\n\u001b[1;32m---> 12\u001b[0m \u001b[38;5;28mprint\u001b[39m(p1)\n",
      "\u001b[1;31mNameError\u001b[0m: name 'p1' is not defined"
     ]
    }
   ],
   "source": [
    "class Person:\n",
    "  def __init__(self, name, age):\n",
    "    self.name = name\n",
    "    self.age = age\n",
    "\n",
    "  def myfunc(self):\n",
    "    print(\"Hello my name is \" + self.name)\n",
    "\n",
    "p1 = Person(\"John\", 36)\n",
    "\n",
    "del p1\n",
    "print(p1)"
   ]
  },
  {
   "cell_type": "code",
   "execution_count": null,
   "id": "8fb6ebf6-4293-4038-88e0-38d214052454",
   "metadata": {},
   "outputs": [],
   "source": [
    "**The pass Statement:\n",
    "class definations cannot be empty but if you have some reasons class defination with no content ,put in the pass statement to avoid getting an error"
   ]
  },
  {
   "cell_type": "code",
   "execution_count": 63,
   "id": "e96306d8-b8fc-45aa-8c63-29ec4f4fc5c6",
   "metadata": {},
   "outputs": [],
   "source": [
    "class Person:\n",
    "  pass\n",
    "\n",
    "# having an empty class definition like this, would raise an error without the pass statement\n"
   ]
  },
  {
   "cell_type": "code",
   "execution_count": null,
   "id": "e84e251c-80e4-44e8-b49a-9a6178cfd2a9",
   "metadata": {},
   "outputs": [],
   "source": []
  },
  {
   "cell_type": "code",
   "execution_count": null,
   "id": "2f7fa847-a8ae-4c67-977b-2c4c7dd0822a",
   "metadata": {},
   "outputs": [],
   "source": [
    "     \"\"\"\"\"\"\"\"\"Python **Inheritence\"\"\"\"\"\"\"\"\"\"\"\"\"\"\"\""
   ]
  },
  {
   "cell_type": "code",
   "execution_count": null,
   "id": "2541664a-d55b-4886-8462-a081914ea428",
   "metadata": {},
   "outputs": [],
   "source": [
    "*Inheritence:\n",
    "1.Inherites allows us to define a class that inherits all the methods and properties from another class\n",
    "2.Parent class:\n",
    "   is the class being inherited from,also called base class\n",
    "3.child class: is the class inherits from another class ,also called derived class."
   ]
  },
  {
   "cell_type": "code",
   "execution_count": null,
   "id": "cf7d2072-97c3-40bf-9ce0-9799fb75a877",
   "metadata": {},
   "outputs": [],
   "source": [
    "Create a Parent class:\n",
    "Any class can be a parent class, so the syntax is the same as creating any other class:"
   ]
  },
  {
   "cell_type": "code",
   "execution_count": 71,
   "id": "83f191eb-324b-4177-9d16-256ff358fb0d",
   "metadata": {},
   "outputs": [
    {
     "name": "stdout",
     "output_type": "stream",
     "text": [
      "srini vasulu\n"
     ]
    }
   ],
   "source": [
    "# Create a class named Person, with firstname and lastname properties, and a printname method:\n",
    "\n",
    "class Person:\n",
    "    def __init__(self,firstname,lastname):\n",
    "        self.firstname=firstname\n",
    "        self .lastname=lastname\n",
    "    def printname(self):\n",
    "        print(self.firstname,self.lastname)\n",
    "\n",
    "x=Person(\"srini\",\"vasulu\")\n",
    "x.printname()"
   ]
  },
  {
   "cell_type": "code",
   "execution_count": null,
   "id": "2a8b9da4-44fe-4e40-ac74-7008c5ba7788",
   "metadata": {},
   "outputs": [],
   "source": [
    "Create a child class:\n",
    "To create a class that inherits the functionalities from another class ,send the parent class as parameter when creating the child class"
   ]
  },
  {
   "cell_type": "code",
   "execution_count": null,
   "id": "a5eb47a8-f103-445f-896f-8b2eb4b363b8",
   "metadata": {},
   "outputs": [],
   "source": [
    "Create a class named Student, which will inherit the properties and methods from the Person class:\n"
   ]
  },
  {
   "cell_type": "code",
   "execution_count": null,
   "id": "1b357146-4beb-4dd2-a000-5f0f1b2a460a",
   "metadata": {},
   "outputs": [],
   "source": [
    "class Student(Person):\n",
    "  pass"
   ]
  },
  {
   "cell_type": "code",
   "execution_count": null,
   "id": "65a3ccdc-1259-4db8-848d-c950be6e04da",
   "metadata": {},
   "outputs": [],
   "source": [
    "Now the Student class has the same properties and methods as the Person class."
   ]
  },
  {
   "cell_type": "code",
   "execution_count": 81,
   "id": "a59c6855-45ac-4cd6-9687-8624411585da",
   "metadata": {},
   "outputs": [
    {
     "name": "stdout",
     "output_type": "stream",
     "text": [
      "sai Lakshmi\n"
     ]
    }
   ],
   "source": [
    "class Person:\n",
    "    def __init__(self,firstname,lastname):\n",
    "        self.firstname=firstname\n",
    "        self.lastname=lastname\n",
    "    def printname(self):\n",
    "        print(self.firstname,self.lastname)\n",
    "\n",
    "class Student(Person):\n",
    "    pass\n",
    "\n",
    "x=Student(\"sai\",\"Lakshmi\")\n",
    "x.printname()"
   ]
  },
  {
   "cell_type": "code",
   "execution_count": null,
   "id": "fa41cebd-8547-4357-b15a-a1983c3d9fa5",
   "metadata": {},
   "outputs": [],
   "source": []
  },
  {
   "cell_type": "code",
   "execution_count": null,
   "id": "87605aab-e8c1-4903-9ab7-b854b79cbd53",
   "metadata": {},
   "outputs": [],
   "source": [
    "Add the __init__() Function:\n",
    "So far we have created a child class that inherits the properties and methods from its parent.\n",
    "\n",
    "We want to add the __init__() function to the child class (instead of the pass keyword).\n",
    "Note: The __init__() function is called automatically every time the class is being used to create a new object."
   ]
  },
  {
   "cell_type": "code",
   "execution_count": null,
   "id": "947ae238-ee26-4e65-8137-557c03de49f6",
   "metadata": {},
   "outputs": [],
   "source": [
    "add the __init__()  function to the child class\n",
    "\n",
    "class Student(Person):\n",
    "  def __init__(self, fname, lname):\n",
    "    #add properties etc."
   ]
  },
  {
   "cell_type": "code",
   "execution_count": 113,
   "id": "79d228aa-7188-46a1-975b-5cfe92a86367",
   "metadata": {},
   "outputs": [
    {
     "name": "stdout",
     "output_type": "stream",
     "text": [
      "vasu Bhavya\n"
     ]
    }
   ],
   "source": [
    "class Person:\n",
    "    def __init__(self,fname,lname):\n",
    "        self.fname=fname\n",
    "        self.lname=lname\n",
    "    def printname(self):\n",
    "        print(self.fname,self.lname)\n",
    "\n",
    "class Student(Person):\n",
    "    def __init__(self ,fname,lname):\n",
    "        \n",
    "       Person.__init__(self,fname,lname)\n",
    "\n",
    "x=Student(\"vasu\",\"Bhavya\")\n",
    "x.printname()"
   ]
  },
  {
   "cell_type": "code",
   "execution_count": null,
   "id": "d3656b1d-cd21-4eb4-9eaa-72be00c76dd8",
   "metadata": {},
   "outputs": [],
   "source": [
    "Use the super() Function:\n",
    "Python also has a super() function that will make the child class inherit all the methods and properties from parent class"
   ]
  },
  {
   "cell_type": "code",
   "execution_count": 149,
   "id": "e19a20c9-2232-4162-be4c-24d9c8153a9d",
   "metadata": {},
   "outputs": [
    {
     "name": "stdout",
     "output_type": "stream",
     "text": [
      "vasu Bhavya\n"
     ]
    }
   ],
   "source": [
    "class Person:\n",
    "    def __init__(self,fname,lname):\n",
    "        self.fname=fname\n",
    "        self.lname=lname\n",
    "    def printname(self):\n",
    "        self.vasu=\"vasu\"\n",
    "        print(self.fname,self.lname)\n",
    "\n",
    "class Student(Person):\n",
    "    def __init__(self ,fname,lname):\n",
    "              super().__init__(fname,lname)\n",
    "   \n",
    "\n",
    "x=Student(\"vasu\",\"Bhavya\")\n",
    "x.printname()"
   ]
  },
  {
   "cell_type": "code",
   "execution_count": null,
   "id": "b2e31eb1-3580-49f0-83ca-27036683b87b",
   "metadata": {},
   "outputs": [],
   "source": [
    "*ADD properties\n"
   ]
  },
  {
   "cell_type": "code",
   "execution_count": 159,
   "id": "1a00b9b8-e9ac-4b86-b20d-a901a488b584",
   "metadata": {},
   "outputs": [
    {
     "name": "stdout",
     "output_type": "stream",
     "text": [
      "vasu Bhavya\n",
      "2019\n"
     ]
    }
   ],
   "source": [
    "class Person:\n",
    "    def __init__(self,fname,lname):\n",
    "        self.fname=fname\n",
    "        self.lname=lname\n",
    "    def printname(self):\n",
    "        self.vasu=\"vasu\"\n",
    "        print(self.fname,self.lname)\n",
    "\n",
    "class Student(Person):\n",
    "    def __init__(self ,fname,lname):\n",
    "        super().__init__(fname,lname)\n",
    "        self.graduationyear=2019\n",
    "   \n",
    "\n",
    "x=Student(\"vasu\",\"Bhavya\")\n",
    "x.printname()\n",
    "print(x.graduationyear)"
   ]
  },
  {
   "cell_type": "code",
   "execution_count": 193,
   "id": "7097f8de-67a6-4338-8f6d-679360aacc87",
   "metadata": {},
   "outputs": [
    {
     "name": "stdout",
     "output_type": "stream",
     "text": [
      "1999\n",
      "vasu Bhavya 11\n",
      "None\n"
     ]
    }
   ],
   "source": [
    "class Person:\n",
    "    def __init__(self,fname,lname,age):\n",
    "        self.name=fname\n",
    "        self.lname=lname\n",
    "        self.old=age\n",
    "    def printname(self):\n",
    "        print(self.name,self.lname,self.old)\n",
    "\n",
    "class Student(Person):\n",
    "    def __init__(self ,fname,lname,year,age):\n",
    "        super().__init__(fname,lname,age)\n",
    "        self.graduationyear=year\n",
    "   \n",
    "\n",
    "x=Student(\"vasu\",\"Bhavya\",1999,11)\n",
    "print(x.graduationyear)\n",
    "print(x.printname())\n"
   ]
  },
  {
   "cell_type": "code",
   "execution_count": null,
   "id": "ffa6e339-42e4-4e79-8c27-580b7bebe681",
   "metadata": {},
   "outputs": [],
   "source": [
    "Add Methods:"
   ]
  },
  {
   "cell_type": "code",
   "execution_count": 199,
   "id": "91b4bde8-1bd9-4fcd-9513-883e5161a4df",
   "metadata": {},
   "outputs": [
    {
     "name": "stdout",
     "output_type": "stream",
     "text": [
      "1999\n",
      "vasu Bhavya 11\n",
      "None\n",
      "welcome vasu Bhavya to class of 1999\n",
      "None\n"
     ]
    }
   ],
   "source": [
    "class Person:\n",
    "    def __init__(self,fname,lname,age):\n",
    "        self.name=fname\n",
    "        self.lname=lname\n",
    "        self.old=age\n",
    "    def printname(self):\n",
    "        print(self.name,self.lname,self.old)\n",
    "\n",
    "class Student(Person):\n",
    "    def __init__(self ,fname,lname,year,age):\n",
    "        super().__init__(fname,lname,age)\n",
    "        self.graduationyear=year\n",
    "    def welcome(self):\n",
    "        print(\"welcome\",self.name,self.lname,\"to class of\",self.graduationyear)\n",
    "   \n",
    "\n",
    "x=Student(\"vasu\",\"Bhavya\",1999,11)\n",
    "print(x.graduationyear)\n",
    "print(x.printname())\n",
    "print(x.welcome())"
   ]
  },
  {
   "cell_type": "code",
   "execution_count": null,
   "id": "da8e021e-7377-4ac0-a22b-16118a3379aa",
   "metadata": {},
   "outputs": [],
   "source": [
    "1.single inheritence:\n",
    "*.one parent class and one child class"
   ]
  },
  {
   "cell_type": "code",
   "execution_count": 201,
   "id": "39263576-b5ba-4786-ab21-016192c3dc53",
   "metadata": {},
   "outputs": [],
   "source": [
    "class A:\n",
    "    def feature(self):\n",
    "        print(\"feature 1 working\")\n",
    "    def feature_2(self):\n",
    "        print(\"feature_2 is working\")\n",
    "\n",
    "a=A()"
   ]
  },
  {
   "cell_type": "code",
   "execution_count": 203,
   "id": "d47a9788-fbf9-4cfe-9fbc-1e39207e17eb",
   "metadata": {},
   "outputs": [
    {
     "name": "stdout",
     "output_type": "stream",
     "text": [
      "feature 1 working\n"
     ]
    }
   ],
   "source": [
    "a.feature()"
   ]
  },
  {
   "cell_type": "code",
   "execution_count": 207,
   "id": "36abde82-14b4-42e5-9610-801252d7a9b4",
   "metadata": {},
   "outputs": [
    {
     "name": "stdout",
     "output_type": "stream",
     "text": [
      "feature_2 is working\n"
     ]
    }
   ],
   "source": [
    "a.feature_2()"
   ]
  },
  {
   "cell_type": "code",
   "execution_count": 209,
   "id": "ad1c4ae0-a9cb-4cdf-97ee-57c78d1f829e",
   "metadata": {},
   "outputs": [],
   "source": [
    "class B(A):\n",
    "    def feature_3(self):\n",
    "        print(\"feature 3 working\")\n",
    "    def feature_4(self):\n",
    "        print(\"feature 4 working\")\n",
    "\n",
    "d=B()"
   ]
  },
  {
   "cell_type": "code",
   "execution_count": 211,
   "id": "458c89d3-79bb-4135-a6d8-9251d83267bb",
   "metadata": {},
   "outputs": [
    {
     "name": "stdout",
     "output_type": "stream",
     "text": [
      "feature 3 working\n"
     ]
    }
   ],
   "source": [
    "d.feature_3()"
   ]
  },
  {
   "cell_type": "code",
   "execution_count": 215,
   "id": "5d3b96d0-763a-4133-91a4-9d68ae6fff1b",
   "metadata": {},
   "outputs": [
    {
     "name": "stdout",
     "output_type": "stream",
     "text": [
      "feature_2 is working\n"
     ]
    }
   ],
   "source": [
    "d.feature_2()"
   ]
  },
  {
   "cell_type": "code",
   "execution_count": null,
   "id": "bca6c61e-d4ec-4cf3-a5b7-ceafee6d9f32",
   "metadata": {},
   "outputs": [],
   "source": [
    "2.Multilevel inheritence:\n",
    "inherts from multiple another classes"
   ]
  },
  {
   "cell_type": "code",
   "execution_count": 221,
   "id": "a02e4f79-e6b1-4daa-8e7d-f3269901a58b",
   "metadata": {},
   "outputs": [
    {
     "name": "stdout",
     "output_type": "stream",
     "text": [
      "feature i working\n"
     ]
    }
   ],
   "source": [
    "class grandfather:\n",
    "    def feature_1(self):\n",
    "        print(\"feature i working\")\n",
    "    def feature_2(self):\n",
    "        print(\"feature 2 working\")\n",
    "\n",
    "class father(grandfather):\n",
    "    def feature_3(self):\n",
    "        print(\"feature 3 working\")\n",
    "    def feature_4(self):\n",
    "        print(\"feature 4 working\")\n",
    "\n",
    "class child(father):\n",
    "    def feature_5(self):\n",
    "        print(\"feature 5 working\")\n",
    "    def feature_6(self):\n",
    "        print(\"feature 6 working\")\n",
    "\n",
    "C=child()\n",
    "C.feature_1()"
   ]
  },
  {
   "cell_type": "code",
   "execution_count": 223,
   "id": "6c133fb6-2dc5-48c1-9bb6-b3a13bceaeec",
   "metadata": {},
   "outputs": [
    {
     "name": "stdout",
     "output_type": "stream",
     "text": [
      "feature 3 working\n"
     ]
    }
   ],
   "source": [
    "B=father()\n",
    "B.feature_3()"
   ]
  },
  {
   "cell_type": "code",
   "execution_count": 225,
   "id": "39509676-afc1-47bd-ace3-9cfb5dbd889d",
   "metadata": {},
   "outputs": [
    {
     "name": "stdout",
     "output_type": "stream",
     "text": [
      "feature 2 working\n"
     ]
    }
   ],
   "source": [
    "A=grandfather()\n",
    "A.feature_2()"
   ]
  },
  {
   "cell_type": "code",
   "execution_count": null,
   "id": "8e66b014-9d4e-4fc7-832a-f7975fa022f8",
   "metadata": {},
   "outputs": [],
   "source": [
    "3.Multiple inheritence\n",
    "\n",
    "Inherits from two parent classes"
   ]
  },
  {
   "cell_type": "code",
   "execution_count": 235,
   "id": "4d34e387-47a8-450e-8888-bd4c48afb70b",
   "metadata": {},
   "outputs": [
    {
     "name": "stdout",
     "output_type": "stream",
     "text": [
      "feature 2 working\n"
     ]
    },
    {
     "data": {
      "text/plain": [
       "<bound method father2.feature_4 of <__main__.father2 object at 0x000001BBE40C4E90>>"
      ]
     },
     "execution_count": 235,
     "metadata": {},
     "output_type": "execute_result"
    }
   ],
   "source": [
    "class father1:\n",
    "    def feature_1(self):\n",
    "        print(\"feature i working\")\n",
    "    def feature_2(self):\n",
    "        print(\"feature 2 working\")\n",
    "\n",
    "class father2:\n",
    "    def feature_3(self):\n",
    "        print(\"feature 3 working\")\n",
    "    def feature_4(self):\n",
    "        print(\"feature 4 working\")\n",
    "\n",
    "class child(father1,father2):\n",
    "    def feature_5(self):\n",
    "        print(\"feature 5 working\")\n",
    "    def feature_6(self):\n",
    "        print(\"feature 6 working\")\n",
    "\n",
    "A=father1()\n",
    "A.feature_2()\n",
    "B=father2()\n",
    "B.feature_4"
   ]
  },
  {
   "cell_type": "code",
   "execution_count": 233,
   "id": "33241cbc-82f2-4e77-ab72-84716f2b5ed4",
   "metadata": {},
   "outputs": [
    {
     "name": "stdout",
     "output_type": "stream",
     "text": [
      "feature 4 working\n"
     ]
    }
   ],
   "source": [
    "c=child()\n",
    "c.feature_4()"
   ]
  },
  {
   "cell_type": "code",
   "execution_count": 239,
   "id": "7765a155-129c-4471-8fc6-ef053e47da08",
   "metadata": {},
   "outputs": [
    {
     "name": "stdout",
     "output_type": "stream",
     "text": [
      "feature 4 working\n"
     ]
    }
   ],
   "source": [
    "B=father2()\n",
    "B.feature_4()"
   ]
  },
  {
   "cell_type": "code",
   "execution_count": null,
   "id": "d533be49-9ec5-47b8-b2b1-ce381fc0d097",
   "metadata": {},
   "outputs": [],
   "source": [
    "4.Heirarical inheritence:\n",
    "One Parent class and multiple child classes"
   ]
  },
  {
   "cell_type": "code",
   "execution_count": 241,
   "id": "5620b934-2828-4e43-85d6-b3131dc30e23",
   "metadata": {},
   "outputs": [
    {
     "name": "stdout",
     "output_type": "stream",
     "text": [
      "feature 2 working\n"
     ]
    }
   ],
   "source": [
    "class grandfather:\n",
    "    def feature_1(self):\n",
    "        print(\"feature i working\")\n",
    "    def feature_2(self):\n",
    "        print(\"feature 2 working\")\n",
    "\n",
    "class father(grandfather):\n",
    "    def feature_3(self):\n",
    "        print(\"feature 3 working\")\n",
    "    def feature_4(self):\n",
    "        print(\"feature 4 working\")\n",
    "\n",
    "class child1(grandfather):\n",
    "    def feature_5(self):\n",
    "        print(\"feature 5 working\")\n",
    "    def feature_6(self):\n",
    "        print(\"feature 6 working\")\n",
    "\n",
    "class child2(grandfather):\n",
    "    def feature_7(self):\n",
    "        print(\"feature 7 working\")\n",
    "    def feature_8(self):\n",
    "        print(\"feature 8 working\")\n",
    "\n",
    "class child3(grandfather):\n",
    "    def feature_9(self):\n",
    "        print(\"feature 9 working\")\n",
    "    def feature_10(self):\n",
    "        print(\"feature 10 working\")\n",
    "\n",
    "b=child3()\n",
    "b.feature_2()"
   ]
  },
  {
   "cell_type": "code",
   "execution_count": 243,
   "id": "5457e532-dc05-4973-81ae-de013b3efa5c",
   "metadata": {},
   "outputs": [
    {
     "name": "stdout",
     "output_type": "stream",
     "text": [
      "feature 3 working\n"
     ]
    }
   ],
   "source": [
    "a=father()\n",
    "a.feature_3()"
   ]
  },
  {
   "cell_type": "code",
   "execution_count": 245,
   "id": "d3f47872-39cc-47c2-91bf-0b219eafe6b4",
   "metadata": {},
   "outputs": [
    {
     "name": "stdout",
     "output_type": "stream",
     "text": [
      "feature 2 working\n"
     ]
    }
   ],
   "source": [
    "c=child1()\n",
    "c.feature_2()"
   ]
  },
  {
   "cell_type": "code",
   "execution_count": null,
   "id": "08e7bf24-bde2-4c96-9499-13172b0e289d",
   "metadata": {},
   "outputs": [],
   "source": [
    "5.Hybrid Inheritence\n",
    "Inheritence consisting of multiple types of inheritences is called hybrid inheritence."
   ]
  },
  {
   "cell_type": "code",
   "execution_count": 257,
   "id": "71ce4600-cc1d-4d30-b0af-dd8fd506c175",
   "metadata": {},
   "outputs": [
    {
     "ename": "TypeError",
     "evalue": "Cannot create a consistent method resolution\norder (MRO) for bases grandfather, father",
     "output_type": "error",
     "traceback": [
      "\u001b[1;31m---------------------------------------------------------------------------\u001b[0m",
      "\u001b[1;31mTypeError\u001b[0m                                 Traceback (most recent call last)",
      "Cell \u001b[1;32mIn[257], line 25\u001b[0m\n\u001b[0;32m     22\u001b[0m     \u001b[38;5;28;01mdef\u001b[39;00m \u001b[38;5;21mfeature_8\u001b[39m(\u001b[38;5;28mself\u001b[39m):\n\u001b[0;32m     23\u001b[0m         \u001b[38;5;28mprint\u001b[39m(\u001b[38;5;124m\"\u001b[39m\u001b[38;5;124mfeature 8 working\u001b[39m\u001b[38;5;124m\"\u001b[39m)\n\u001b[1;32m---> 25\u001b[0m \u001b[38;5;28;01mclass\u001b[39;00m \u001b[38;5;21;01mchild3\u001b[39;00m(grandfather,father):\n\u001b[0;32m     26\u001b[0m     \u001b[38;5;28;01mdef\u001b[39;00m \u001b[38;5;21mfeature_9\u001b[39m(\u001b[38;5;28mself\u001b[39m):\n\u001b[0;32m     27\u001b[0m         \u001b[38;5;28mprint\u001b[39m(\u001b[38;5;124m\"\u001b[39m\u001b[38;5;124mfeature 9 working\u001b[39m\u001b[38;5;124m\"\u001b[39m)\n",
      "\u001b[1;31mTypeError\u001b[0m: Cannot create a consistent method resolution\norder (MRO) for bases grandfather, father"
     ]
    }
   ],
   "source": [
    "class grandfather:\n",
    "    def feature_1(self):\n",
    "        print(\"feature i working\")\n",
    "    def feature_2(self):\n",
    "        print(\"feature 2 working\")\n",
    "\n",
    "class father(grandfather):\n",
    "    def feature_3(self):\n",
    "        print(\"feature 3 working\")\n",
    "    def feature_4(self):\n",
    "        print(\"feature 4 working\")\n",
    "\n",
    "class child1(grandfather):\n",
    "    def feature_5(self):\n",
    "        print(\"feature 5 working\")\n",
    "    def feature_6(self):\n",
    "        print(\"feature 6 working\")\n",
    "\n",
    "class child2(grandfather):\n",
    "    def feature_7(self):\n",
    "        print(\"feature 7 working\")\n",
    "    def feature_8(self):\n",
    "        print(\"feature 8 working\")\n",
    "\n",
    "class child3(grandfather,father):\n",
    "    def feature_9(self):\n",
    "        print(\"feature 9 working\")\n",
    "    def feature_10(self):\n",
    "        print(\"feature 10 working\")\n",
    "\n",
    "c=child3()\n",
    "c.feature_10()"
   ]
  },
  {
   "cell_type": "code",
   "execution_count": null,
   "id": "20d0b694-83ed-450a-9048-92f17927a211",
   "metadata": {},
   "outputs": [],
   "source": []
  },
  {
   "cell_type": "code",
   "execution_count": null,
   "id": "91919708-2bfc-420d-b1df-0753f1f94a7a",
   "metadata": {},
   "outputs": [],
   "source": [
    "     "
   ]
  },
  {
   "cell_type": "code",
   "execution_count": null,
   "id": "f3fb8b52-d75d-4d78-8a85-6d3fc3788c52",
   "metadata": {},
   "outputs": [],
   "source": [
    "\"\"\"\"\"\"\"\"\"\"\"Polymorphism\"\"\"\"\"\"\"\"\"\"\"\"\"\n",
    "\n",
    "1.THe word \"POlymorphism \" means \"many forms\" and in programming it refers to \n",
    "methods/functions and opearators with the same name that can be executed on objects or classes"
   ]
  },
  {
   "cell_type": "code",
   "execution_count": null,
   "id": "420a1b54-7cee-4aa9-add0-69f0962e041d",
   "metadata": {},
   "outputs": [],
   "source": [
    "For of python function that can be used on different objects is the len() function"
   ]
  },
  {
   "cell_type": "code",
   "execution_count": null,
   "id": "322aba62-c58c-4767-914f-4e17f4548c64",
   "metadata": {},
   "outputs": [],
   "source": [
    "String:\n",
    "for strings len() function returns the number of characters"
   ]
  },
  {
   "cell_type": "code",
   "execution_count": 1,
   "id": "b630f7f0-b56f-47e6-9343-47fbfbf52c70",
   "metadata": {},
   "outputs": [
    {
     "name": "stdout",
     "output_type": "stream",
     "text": [
      "11\n"
     ]
    }
   ],
   "source": [
    "x=\"Hello World\"\n",
    "print(len(x))"
   ]
  },
  {
   "cell_type": "code",
   "execution_count": null,
   "id": "c061df22-2c74-46d4-b9df-27b57db5aa58",
   "metadata": {},
   "outputs": [],
   "source": [
    "Tuple:for tuple it returns the number of items in that "
   ]
  },
  {
   "cell_type": "code",
   "execution_count": 3,
   "id": "fb3e381d-bb47-446b-9906-b180fed37a7a",
   "metadata": {},
   "outputs": [
    {
     "name": "stdout",
     "output_type": "stream",
     "text": [
      "3\n"
     ]
    }
   ],
   "source": [
    "mytuple=(\"apple\",\"banana\",\"cherry\")\n",
    "print(len(mytuple))"
   ]
  },
  {
   "cell_type": "code",
   "execution_count": null,
   "id": "fd0d0e92-e183-4527-bacf-cfefd2502766",
   "metadata": {},
   "outputs": [],
   "source": [
    "Dictionary\n",
    "For dictionaries len() returns the number of key/value pairs in the dictionary:"
   ]
  },
  {
   "cell_type": "code",
   "execution_count": null,
   "id": "9ecb9fbd-9036-4328-971c-588b30fc6611",
   "metadata": {},
   "outputs": [],
   "source": [
    "Class Polymorphism\n",
    "Polymorphism is often used in Class methods, where we can have multiple classes with the same method name.\n",
    "\n",
    "For example, say we have three classes: Car, Boat, and Plane, and they all have a method called move():"
   ]
  },
  {
   "cell_type": "code",
   "execution_count": 13,
   "id": "010ecf24-dc8b-44b5-b919-dacd82313ea2",
   "metadata": {},
   "outputs": [
    {
     "name": "stdout",
     "output_type": "stream",
     "text": [
      "Drive\n",
      "Sail\n",
      "Fly\n",
      "Drive\n",
      "Ford Mustang None\n"
     ]
    }
   ],
   "source": [
    "class Car:\n",
    "    def __init__(self,brand,model):\n",
    "        self.brand=brand\n",
    "        self.model=model\n",
    "    def move(self):\n",
    "        print(\"Drive\")\n",
    "\n",
    "class Boat:\n",
    "    def __init__(self,brand,model):\n",
    "        self.brand=brand\n",
    "        self.model=model\n",
    "    def move(self):\n",
    "        print(\"Sail\")\n",
    "\n",
    "class Plane:\n",
    "    def __init__(self,brand,model):\n",
    "        self.brand=brand\n",
    "        self.model=model\n",
    "    def move(self):\n",
    "        print(\"Fly\")\n",
    "\n",
    "car1=Car(\"Ford\",\"Mustang\")\n",
    "boat1=Boat(\"Ship\",\"Touting\")\n",
    "Plane1=Plane(\"Airindia\",\"Eagles\")\n",
    "for i in (car1,boat1,Plane1):\n",
    "    i.move()\n",
    "\n",
    "print(car1.brand,car1.model,car1.move())"
   ]
  },
  {
   "cell_type": "code",
   "execution_count": null,
   "id": "d85e2add-1e4f-4406-94d8-27cfd199dac8",
   "metadata": {},
   "outputs": [],
   "source": [
    "1.Opearator Overloading"
   ]
  },
  {
   "cell_type": "code",
   "execution_count": null,
   "id": "4fc40fde-8e22-4954-be9c-f41299dff975",
   "metadata": {},
   "outputs": [],
   "source": [
    "\"+\" can used for addition and concatination"
   ]
  },
  {
   "cell_type": "code",
   "execution_count": 259,
   "id": "79262d64-65b7-444d-964f-0dd7bd22e9cd",
   "metadata": {},
   "outputs": [
    {
     "data": {
      "text/plain": [
       "5"
      ]
     },
     "execution_count": 259,
     "metadata": {},
     "output_type": "execute_result"
    }
   ],
   "source": [
    "2+3"
   ]
  },
  {
   "cell_type": "code",
   "execution_count": 261,
   "id": "e862cf8d-d0b7-4736-837e-97792cdd89c8",
   "metadata": {},
   "outputs": [
    {
     "data": {
      "text/plain": [
       "'msdhini'"
      ]
     },
     "execution_count": 261,
     "metadata": {},
     "output_type": "execute_result"
    }
   ],
   "source": [
    "\"ms\"+\"dhini\""
   ]
  },
  {
   "cell_type": "code",
   "execution_count": null,
   "id": "ffc0df7a-0f32-4b28-8347-d1cb17d49a37",
   "metadata": {},
   "outputs": [],
   "source": [
    "2.Method Overloading:\n",
    "we can basically pass any  number arguements to the same function while calling a function "
   ]
  },
  {
   "cell_type": "code",
   "execution_count": 267,
   "id": "e2abcfdb-7d30-4c52-a0f2-90bf79992698",
   "metadata": {},
   "outputs": [
    {
     "name": "stdout",
     "output_type": "stream",
     "text": [
      "56\n"
     ]
    }
   ],
   "source": [
    "class My:\n",
    "    def add_no(self,a=23,b=23,c=23):\n",
    "        sum_no=a+b+c\n",
    "        print(sum_no)\n",
    "\n",
    "m=My()\n",
    "m.add_no(10)\n",
    "        "
   ]
  },
  {
   "cell_type": "code",
   "execution_count": 269,
   "id": "57bf8ddf-044d-4446-b9fb-388eff15a837",
   "metadata": {},
   "outputs": [
    {
     "name": "stdout",
     "output_type": "stream",
     "text": [
      "63\n"
     ]
    }
   ],
   "source": [
    "m.add_no(20,20)"
   ]
  },
  {
   "cell_type": "code",
   "execution_count": 271,
   "id": "280c5cd8-eac6-4cbe-be54-fe895abbc629",
   "metadata": {},
   "outputs": [
    {
     "name": "stdout",
     "output_type": "stream",
     "text": [
      "60\n"
     ]
    }
   ],
   "source": [
    "m.add_no(10,20,30)"
   ]
  },
  {
   "cell_type": "code",
   "execution_count": 288,
   "id": "7bf08039-7932-4b9d-8432-74f83ccfeb00",
   "metadata": {},
   "outputs": [
    {
     "name": "stdout",
     "output_type": "stream",
     "text": [
      "23\n"
     ]
    }
   ],
   "source": [
    "def add(datatype,*args):\n",
    "    if datatype == \"int\":\n",
    "        ans=0\n",
    "    if datatype == \"str\":\n",
    "        ans=\" \"\n",
    "    for x in args:\n",
    "        an=ans+x\n",
    "    print(an)\n",
    "\n",
    "add(\"int\",12,23)"
   ]
  },
  {
   "cell_type": "code",
   "execution_count": 286,
   "id": "6018800c-e124-4b18-9562-5d0da81cde82",
   "metadata": {},
   "outputs": [
    {
     "name": "stdout",
     "output_type": "stream",
     "text": [
      " msdhoni\n"
     ]
    }
   ],
   "source": [
    "add(\"str\",\"ms\",\"dhoni\")"
   ]
  },
  {
   "cell_type": "code",
   "execution_count": null,
   "id": "610e1e05-e8d1-43e2-9bd2-e54312c47203",
   "metadata": {},
   "outputs": [],
   "source": [
    "3.Method Overiding\n",
    "-inheritence\n",
    "-same method name in both classes\n",
    "-parent method is overridden by child class"
   ]
  },
  {
   "cell_type": "code",
   "execution_count": 15,
   "id": "756aea9b-b391-44b9-82a0-a25e216790dc",
   "metadata": {},
   "outputs": [
    {
     "name": "stdout",
     "output_type": "stream",
     "text": [
      "Ford\n",
      "Mustang\n",
      "Move!\n",
      "Ibiza\n",
      "Touring 20\n",
      "Sail!\n",
      "Boeing\n",
      "747\n",
      "Fly!\n"
     ]
    }
   ],
   "source": [
    "class Vehicle:\n",
    "  def __init__(self, brand, model):\n",
    "    self.brand = brand\n",
    "    self.model = model\n",
    "\n",
    "  def move(self):\n",
    "    print(\"Move!\")\n",
    "\n",
    "class Car(Vehicle):\n",
    "  pass\n",
    "\n",
    "class Boat(Vehicle):\n",
    "  def move(self):\n",
    "    print(\"Sail!\")\n",
    "\n",
    "class Plane(Vehicle):\n",
    "  def move(self):\n",
    "    print(\"Fly!\")\n",
    "\n",
    "car1 = Car(\"Ford\", \"Mustang\") #Create a Car object\n",
    "boat1 = Boat(\"Ibiza\", \"Touring 20\") #Create a Boat object\n",
    "plane1 = Plane(\"Boeing\", \"747\") #Create a Plane object\n",
    "\n",
    "for x in (car1, boat1, plane1):\n",
    "  print(x.brand)\n",
    "  print(x.model)\n",
    "  x.move()"
   ]
  },
  {
   "cell_type": "code",
   "execution_count": 292,
   "id": "e42b75e6-b576-453c-af71-9f9c271b43df",
   "metadata": {},
   "outputs": [
    {
     "name": "stdout",
     "output_type": "stream",
     "text": [
      "Ninja will br used\n"
     ]
    }
   ],
   "source": [
    "#case1\n",
    "class dad:\n",
    "    def ride(self):\n",
    "        print(\"scooter will be used\")\n",
    "\n",
    "class son(dad):\n",
    "    def ride(self):\n",
    "        print(\"Ninja will br used\")\n",
    "\n",
    "bike=son()\n",
    "bike.ride()"
   ]
  },
  {
   "cell_type": "code",
   "execution_count": null,
   "id": "c0aa50a3-06b0-43dc-84d9-8e8b4840679e",
   "metadata": {},
   "outputs": [],
   "source": [
    "#case2"
   ]
  },
  {
   "cell_type": "code",
   "execution_count": 294,
   "id": "d614a021-fdca-4c6b-86af-883122f88cfd",
   "metadata": {},
   "outputs": [
    {
     "name": "stdout",
     "output_type": "stream",
     "text": [
      "scooter will be used\n"
     ]
    }
   ],
   "source": [
    "class dad:\n",
    "    def ride(self):\n",
    "        print(\"scooter will be used\")\n",
    "\n",
    "class son(dad):\n",
    "    pass\n",
    "\n",
    "bike=son()\n",
    "bike.ride()"
   ]
  },
  {
   "cell_type": "code",
   "execution_count": null,
   "id": "d4404e2a-00d5-442e-a095-26caaf304524",
   "metadata": {},
   "outputs": [],
   "source": [
    "#case3"
   ]
  },
  {
   "cell_type": "code",
   "execution_count": 296,
   "id": "17bf2fa6-3210-4089-8cdb-fbcee52300a4",
   "metadata": {},
   "outputs": [
    {
     "name": "stdout",
     "output_type": "stream",
     "text": [
      "scooter will be used\n",
      "Ninja will br used\n"
     ]
    }
   ],
   "source": [
    "class dad:\n",
    "    def ride(self):\n",
    "        print(\"scooter will be used\")\n",
    "\n",
    "class son(dad):\n",
    "    def ride(self):\n",
    "        super().ride()\n",
    "        print(\"Ninja will br used\")\n",
    "\n",
    "bike=son()\n",
    "bike.ride()"
   ]
  },
  {
   "cell_type": "code",
   "execution_count": 298,
   "id": "c4f129a8-28a1-427f-9878-8cf09bfca93e",
   "metadata": {},
   "outputs": [
    {
     "name": "stdout",
     "output_type": "stream",
     "text": [
      "Ninja will br used\n",
      "scooter will be used\n"
     ]
    }
   ],
   "source": [
    "class dad:\n",
    "    def ride(self):\n",
    "        print(\"scooter will be used\")\n",
    "\n",
    "class son(dad):\n",
    "    def ride(self):\n",
    "        print(\"Ninja will br used\")\n",
    "        super().ride()\n",
    "\n",
    "bike=son()\n",
    "bike.ride()"
   ]
  },
  {
   "cell_type": "code",
   "execution_count": 416,
   "id": "64bc9939-b4b4-4bec-a28a-6379a5c7f98e",
   "metadata": {},
   "outputs": [
    {
     "name": "stdout",
     "output_type": "stream",
     "text": [
      "net banking of sbi\n"
     ]
    }
   ],
   "source": [
    "class RBI:\n",
    "    def UPI(self):\n",
    "        print(\"UPI of RBI\")\n",
    "class SBI(RBI):\n",
    "    def NET_WORKING(self):\n",
    "        print(\"net banking of sbi\")\n",
    "\n",
    "class ICICI(RBI):\n",
    "    def NET_BANKING(self):\n",
    "        print(\"net banking od icici\")\n",
    "    def UPI(self):\n",
    "        print(\"upi of icici\")\n",
    "\n",
    "obj_sbi=SBI() \n",
    "obj_sbi.NET_WORKING()"
   ]
  },
  {
   "cell_type": "code",
   "execution_count": 418,
   "id": "4d98b346-3ff5-4cf5-bead-b88d1c1e16f2",
   "metadata": {},
   "outputs": [
    {
     "name": "stdout",
     "output_type": "stream",
     "text": [
      "UPI of RBI\n"
     ]
    }
   ],
   "source": [
    "obj_sbi.UPI()"
   ]
  },
  {
   "cell_type": "code",
   "execution_count": 420,
   "id": "b7f903dc-8cff-41a4-95d0-c1d61c387d27",
   "metadata": {},
   "outputs": [
    {
     "name": "stdout",
     "output_type": "stream",
     "text": [
      "upi of icici\n"
     ]
    }
   ],
   "source": [
    "obj_ici=ICICI()\n",
    "obj_ici.UPI()"
   ]
  },
  {
   "cell_type": "code",
   "execution_count": null,
   "id": "691334a8-3daf-4de4-9669-5d723aa253fd",
   "metadata": {},
   "outputs": [],
   "source": [
    "5.Constructer overriding\n"
   ]
  },
  {
   "cell_type": "code",
   "execution_count": 308,
   "id": "8150c216-436e-47ee-8b1e-8d641054a81a",
   "metadata": {},
   "outputs": [
    {
     "name": "stdout",
     "output_type": "stream",
     "text": [
      "constructer of B\n",
      "10\n"
     ]
    }
   ],
   "source": [
    "class A:\n",
    "    def __init__(self):\n",
    "        print(\"constructer of A\")\n",
    "    def my(self):\n",
    "        pass\n",
    "\n",
    "class B(A):\n",
    "    def __init__(self,a):\n",
    "        self.a=a\n",
    "        print(\"constructer of B\")\n",
    "    def _my(self):\n",
    "        print(self.a)\n",
    "\n",
    "b=B(10)\n",
    "b._my()"
   ]
  },
  {
   "cell_type": "code",
   "execution_count": 316,
   "id": "7b88dd19-3b3b-4219-9167-38ef249e81c4",
   "metadata": {},
   "outputs": [
    {
     "name": "stdout",
     "output_type": "stream",
     "text": [
      "constructer of A\n"
     ]
    }
   ],
   "source": [
    "class A:\n",
    "    def __init__(self):\n",
    "        print(\"constructer of A\")\n",
    "    def my(self):\n",
    "        pass\n",
    "\n",
    "class B(A):\n",
    "   # def __init__(self,a):\n",
    "   #     self.a=a\n",
    "   #     print(\"constructer of B\")\n",
    "    def my(self):\n",
    "        pass\n",
    "\n",
    "b=B()\n",
    "b.my()"
   ]
  },
  {
   "cell_type": "code",
   "execution_count": 328,
   "id": "3936564f-ec10-4829-8a0a-d897944dddf2",
   "metadata": {},
   "outputs": [
    {
     "name": "stdout",
     "output_type": "stream",
     "text": [
      "constructer of A\n",
      "constructer of B\n"
     ]
    }
   ],
   "source": [
    "class A:\n",
    "    def __init__(self):\n",
    "        print(\"constructer of A\")\n",
    "    def my(self):\n",
    "        pass\n",
    "\n",
    "class B(A):\n",
    "    def __init__(self):\n",
    "        super().__init__()\n",
    "        print(\"constructer of B\")\n",
    "    def my(self):\n",
    "        pass \n",
    "\n",
    "b=B()\n",
    "b.my()"
   ]
  },
  {
   "cell_type": "code",
   "execution_count": null,
   "id": "1cd6a6b7-4bae-48b0-97e0-0d649edae3b6",
   "metadata": {},
   "outputs": [],
   "source": [
    "#ex:"
   ]
  },
  {
   "cell_type": "code",
   "execution_count": 330,
   "id": "37097ac8-0c95-4f94-9661-fd22478d02b8",
   "metadata": {},
   "outputs": [
    {
     "name": "stdout",
     "output_type": "stream",
     "text": [
      "$$$$$$\n",
      "we are in the child class data method\n",
      "12\n"
     ]
    }
   ],
   "source": [
    "class Person:\n",
    "    def __init__(self,name,age):\n",
    "        self.name=name\n",
    "        self.age=age\n",
    "        print(\"******\")\n",
    "\n",
    "    def  diplay_data(self):\n",
    "        print(\"we are in the parent display data method\")\n",
    "        print(self.name,self.age)\n",
    "\n",
    "class Employee(Person):\n",
    "    def __init__(self,emp_id):\n",
    "        self.emp_id=emp_id\n",
    "        print(\"$$$$$$\")\n",
    "    def diplay_data(self):\n",
    "        print(\"we are in the child class data method\")\n",
    "        print(self.emp_id)\n",
    "\n",
    "obj=Employee(12)\n",
    "obj.diplay_data()\n"
   ]
  },
  {
   "cell_type": "code",
   "execution_count": 354,
   "id": "809b9e4b-e818-461b-ba29-fa785ef02db8",
   "metadata": {},
   "outputs": [
    {
     "name": "stdout",
     "output_type": "stream",
     "text": [
      "******\n",
      "$$$$$$\n",
      "we are in the child class data method\n",
      "ms dhoni 23 324244\n",
      "None\n"
     ]
    }
   ],
   "source": [
    "class Person:\n",
    "    def __init__(self,name,age):\n",
    "        self.name=name\n",
    "        self.age=age\n",
    "        print(\"******\")\n",
    "\n",
    "    def  diplay_data(self):\n",
    "        print(\"we are in the parent display data method\")\n",
    "        print(self.name,self.age)\n",
    "\n",
    "class Employee(Person):\n",
    "    def __init__(self,emp_id,name,age):\n",
    "        super().__init__(name,age)\n",
    "        self.emp_id=emp_id\n",
    "        print(\"$$$$$$\")\n",
    "    def diplay_data(self):\n",
    "        print(\"we are in the child class data method\")\n",
    "        print(self.emp_id,self.name,self.age)\n",
    "\n",
    "obj1=Employee(\"ms dhoni\",23,\"324244\")\n",
    "print(obj1.diplay_data())\n"
   ]
  },
  {
   "cell_type": "code",
   "execution_count": 17,
   "id": "ea9817fd-0722-4f79-9fea-26617da84859",
   "metadata": {},
   "outputs": [
    {
     "name": "stdout",
     "output_type": "stream",
     "text": [
      "*******\n",
      "$$$$$$$\n",
      "We are in the child display data method\n"
     ]
    },
    {
     "ename": "AttributeError",
     "evalue": "'Employee' object has no attribute 'team'",
     "output_type": "error",
     "traceback": [
      "\u001b[1;31m---------------------------------------------------------------------------\u001b[0m",
      "\u001b[1;31mAttributeError\u001b[0m                            Traceback (most recent call last)",
      "Cell \u001b[1;32mIn[17], line 23\u001b[0m\n\u001b[0;32m     19\u001b[0m         \u001b[38;5;28mprint\u001b[39m(team)\n\u001b[0;32m     22\u001b[0m obj1\u001b[38;5;241m=\u001b[39mEmployee(\u001b[38;5;124m\"\u001b[39m\u001b[38;5;124mMs Dhoni\u001b[39m\u001b[38;5;124m\"\u001b[39m,\u001b[38;5;241m23\u001b[39m,\u001b[38;5;124m\"\u001b[39m\u001b[38;5;124mvasu\u001b[39m\u001b[38;5;124m\"\u001b[39m)\n\u001b[1;32m---> 23\u001b[0m \u001b[38;5;28mprint\u001b[39m(obj1\u001b[38;5;241m.\u001b[39mdisplay_data(\u001b[38;5;124m\"\u001b[39m\u001b[38;5;124m87\u001b[39m\u001b[38;5;124m\"\u001b[39m))\n",
      "Cell \u001b[1;32mIn[17], line 17\u001b[0m, in \u001b[0;36mEmployee.display_data\u001b[1;34m(self, team)\u001b[0m\n\u001b[0;32m     15\u001b[0m \u001b[38;5;28;01mdef\u001b[39;00m \u001b[38;5;21mdisplay_data\u001b[39m(\u001b[38;5;28mself\u001b[39m,team):\n\u001b[0;32m     16\u001b[0m     \u001b[38;5;28mprint\u001b[39m(\u001b[38;5;124m\"\u001b[39m\u001b[38;5;124mWe are in the child display data method\u001b[39m\u001b[38;5;124m\"\u001b[39m)\n\u001b[1;32m---> 17\u001b[0m     \u001b[38;5;28mprint\u001b[39m(\u001b[38;5;28mself\u001b[39m\u001b[38;5;241m.\u001b[39memp_id,\u001b[38;5;28mself\u001b[39m\u001b[38;5;241m.\u001b[39mname,\u001b[38;5;28mself\u001b[39m\u001b[38;5;241m.\u001b[39mage,\u001b[38;5;28mself\u001b[39m\u001b[38;5;241m.\u001b[39mteam)\n",
      "\u001b[1;31mAttributeError\u001b[0m: 'Employee' object has no attribute 'team'"
     ]
    }
   ],
   "source": [
    "class Person:\n",
    "    def __init__(self,name,age):\n",
    "        self.name=name\n",
    "        self.age=age\n",
    "        print(\"*******\")\n",
    "    def display_data(self):\n",
    "        print(\"we are in the parent in the display data methoda\")\n",
    "        print(self.name,self.age)\n",
    "\n",
    "class Employee(Person):\n",
    "    def __init__(self,name,age,emp_id):\n",
    "        super().__init__(name,age)\n",
    "        self.emp_id=emp_id\n",
    "        print(\"$$$$$$$\")\n",
    "    def display_data(self,team):\n",
    "        print(\"We are in the child display data method\")\n",
    "        print(self.emp_id,self.name,self.age,self.team)\n",
    "    def sample(self):\n",
    "        print(team)\n",
    "        \n",
    "\n",
    "obj1=Employee(\"Ms Dhoni\",23,\"vasu\")\n",
    "print(obj1.display_data(\"87\"))\n",
    "\n",
    "\n"
   ]
  },
  {
   "cell_type": "code",
   "execution_count": null,
   "id": "9a1a2c53-a3ef-47de-936b-0ab0758ea0a3",
   "metadata": {},
   "outputs": [],
   "source": []
  },
  {
   "cell_type": "code",
   "execution_count": null,
   "id": "3abd3126-eef3-49e5-9e7e-e17155924cbc",
   "metadata": {},
   "outputs": [],
   "source": [
    "'''''''''''Python Iterators'''''''''''''''"
   ]
  },
  {
   "cell_type": "code",
   "execution_count": null,
   "id": "4e78548e-6fcb-492b-b4a4-e0209e0d0d06",
   "metadata": {},
   "outputs": [],
   "source": [
    "1.An Iterator is an object that contains a countable number of values.\n",
    "2.An Iterator is an object that can be iterated upon ,You can traverse through all the values.\n",
    "3.Technically in Python an iterator is an object which implements the iterator protocol,which consist of the methods __iter__() and __next__()."
   ]
  },
  {
   "cell_type": "code",
   "execution_count": null,
   "id": "393bc69d-7c10-411f-9054-be216eb4d322",
   "metadata": {},
   "outputs": [],
   "source": [
    "Iterator vs Iterable"
   ]
  },
  {
   "cell_type": "code",
   "execution_count": null,
   "id": "f9305037-162a-4873-9f41-f607859c4066",
   "metadata": {},
   "outputs": [],
   "source": [
    "List,tuple,Dictionaries and sets are all iterable objects.They are iterble containers which you can get an iterator from.\n",
    "All these objects have a iter() method which is used to get an iterator."
   ]
  },
  {
   "cell_type": "code",
   "execution_count": 25,
   "id": "c28f3fb0-9690-49e0-ae92-93d4095221bc",
   "metadata": {},
   "outputs": [
    {
     "name": "stdout",
     "output_type": "stream",
     "text": [
      "apple\n",
      "banana\n",
      "cherry\n"
     ]
    }
   ],
   "source": [
    "mytuple=(\"apple\",\"banana\",\"cherry\")\n",
    "myit=iter(mytuple)\n",
    "print(next(myit))\n",
    "print(next(myit))\n",
    "print(next(myit))\n",
    "\n",
    "\n"
   ]
  },
  {
   "cell_type": "code",
   "execution_count": null,
   "id": "cb7bcfb7-0e66-4856-83a2-5514f9f86e46",
   "metadata": {},
   "outputs": [],
   "source": [
    "Even strings are iterable objects, and can return an iterator:"
   ]
  },
  {
   "cell_type": "code",
   "execution_count": null,
   "id": "5bc90552-ba05-4ce8-b7b7-19bbbad1e3e5",
   "metadata": {},
   "outputs": [],
   "source": [
    "Strings are also iterable objects containing a sequence of characters"
   ]
  },
  {
   "cell_type": "code",
   "execution_count": 39,
   "id": "f3b59ed0-3f09-4ce8-b4df-428f75e6a729",
   "metadata": {},
   "outputs": [
    {
     "name": "stdout",
     "output_type": "stream",
     "text": [
      "b\n",
      "a\n",
      "n\n",
      "a\n",
      "n\n",
      "a\n"
     ]
    }
   ],
   "source": [
    "mystr=\"banana\"\n",
    "myit=iter(mystr)\n",
    "print(next(myit))\n",
    "print(next(myit))\n",
    "print(next(myit))\n",
    "print(next(myit))\n",
    "print(next(myit))\n",
    "print(next(myit))\n"
   ]
  },
  {
   "cell_type": "code",
   "execution_count": null,
   "id": "9d0d8a8c-a4b2-4f51-a3fb-e24740efce01",
   "metadata": {},
   "outputs": [],
   "source": [
    "Looping through an iterator"
   ]
  },
  {
   "cell_type": "code",
   "execution_count": null,
   "id": "4360fa18-d2f9-4c15-90a7-34beedb7d3ce",
   "metadata": {},
   "outputs": [],
   "source": [
    "We can also use  a for loop to iterate through an iterable objetct:"
   ]
  },
  {
   "cell_type": "code",
   "execution_count": 41,
   "id": "0de4af58-2100-4ab6-b766-f50ed9381989",
   "metadata": {},
   "outputs": [
    {
     "name": "stdout",
     "output_type": "stream",
     "text": [
      "apple\n",
      "banana\n",
      "cherry\n"
     ]
    }
   ],
   "source": [
    "mytuple=(\"apple\",\"banana\",\"cherry\")\n",
    "\n",
    "for i in mytuple:\n",
    "    print(i)"
   ]
  },
  {
   "cell_type": "code",
   "execution_count": null,
   "id": "8383ae13-969c-43fd-bbed-d353e1ab11e5",
   "metadata": {},
   "outputs": [],
   "source": [
    "Iterate the characters of a string:"
   ]
  },
  {
   "cell_type": "code",
   "execution_count": 43,
   "id": "4ec4400f-4f3b-44f2-8cc2-ce0ffad7843b",
   "metadata": {},
   "outputs": [
    {
     "name": "stdout",
     "output_type": "stream",
     "text": [
      "b\n",
      "a\n",
      "n\n",
      "a\n",
      "n\n",
      "a\n"
     ]
    }
   ],
   "source": [
    "mystr = \"banana\"\n",
    "\n",
    "for x in mystr:\n",
    "  print(x)"
   ]
  },
  {
   "cell_type": "code",
   "execution_count": null,
   "id": "c94a6ee5-aa91-4252-9dd9-49381027a191",
   "metadata": {},
   "outputs": [],
   "source": [
    "** Create an Iterator**"
   ]
  },
  {
   "cell_type": "code",
   "execution_count": null,
   "id": "df578201-730a-42e5-856f-8f8ac1495e17",
   "metadata": {},
   "outputs": [],
   "source": [
    "1.To create an object/class as an iterator you have to implement the methods __iter__() and__next__() to your object.\n",
    "2.As you have learned in the Python Classes/Objects chapter, all classes have a function called __init__(), which allows you to do some initializing when the object is being created.\n",
    "3.The __iter__() method acts similar, you can do operations (initializing etc.), but must always return the iterator object itself.\n",
    "4.The __next__() method also allows you to do operations, and must return the next item in the sequence."
   ]
  },
  {
   "cell_type": "code",
   "execution_count": 91,
   "id": "10be8f80-b6e9-434f-b50a-d4529c0a91dc",
   "metadata": {},
   "outputs": [
    {
     "name": "stdout",
     "output_type": "stream",
     "text": [
      "1\n",
      "2\n",
      "3\n",
      "4\n",
      "5\n",
      "6\n",
      "7\n"
     ]
    }
   ],
   "source": [
    "class mynum:\n",
    "    def __iter__(self):\n",
    "        self.a=1\n",
    "        return self\n",
    "    def __next__(self):\n",
    "        x=self.a\n",
    "        self.a+=1\n",
    "        return x\n",
    "\n",
    "myclass=mynum()\n",
    "myiter=iter(myclass)\n",
    "\n",
    "print(next(myiter))\n",
    "print(next(myiter))\n",
    "print(next(myiter))\n",
    "print(next(myiter))\n",
    "print(next(myiter))\n",
    "print(next(myiter))\n",
    "print(next(myiter))"
   ]
  },
  {
   "cell_type": "code",
   "execution_count": null,
   "id": "9d8e9c1f-6af5-4c39-bac5-4766b52d46ed",
   "metadata": {},
   "outputs": [],
   "source": []
  },
  {
   "cell_type": "code",
   "execution_count": 81,
   "id": "fc2b9909-42dd-41b6-bb8f-8b7e6f9695f5",
   "metadata": {},
   "outputs": [
    {
     "name": "stdout",
     "output_type": "stream",
     "text": [
      "[0, 2, 4, 6, 8, 10, 12, 14, 16, 18, 20, 22, 24, 26, 28, 30, 32, 34, 36, 38, 40, 42, 44, 46, 48]\n"
     ]
    }
   ],
   "source": [
    "def even(num):\n",
    "    even=[]\n",
    "    Odd=[]\n",
    "    for i in range(50):\n",
    "        if i%2==0:\n",
    "            even.append(i)\n",
    "        else:\n",
    "            Odd.append(i)\n",
    "            \n",
    "    return even\n",
    "    # return Odd\n",
    "\n",
    "      \n",
    "print(even(50))\n"
   ]
  },
  {
   "cell_type": "code",
   "execution_count": null,
   "id": "52ebf94c-b83d-4d87-a84b-cce3be59a890",
   "metadata": {},
   "outputs": [],
   "source": [
    "**Stop Iteration"
   ]
  },
  {
   "cell_type": "code",
   "execution_count": null,
   "id": "7408e907-ef39-4a69-906a-1668dd94d178",
   "metadata": {},
   "outputs": [],
   "source": [
    "1.The above example would continue forever if you had enough next() statements or if it was used in a for loop.\n",
    "2.To prevent the Iteration from going on forever ,we can use the StopIteration statement\n",
    "3.In the __next__() method ,we can add  a terminating condition to raise an error if the iteration is done a specified number of times.\n",
    "    \n",
    "                                                                                                   "
   ]
  },
  {
   "cell_type": "code",
   "execution_count": 103,
   "id": "b85fc13d-d027-4767-9cff-3145614c0a64",
   "metadata": {},
   "outputs": [
    {
     "name": "stdout",
     "output_type": "stream",
     "text": [
      "1\n",
      "2\n",
      "3\n",
      "4\n",
      "5\n",
      "6\n",
      "7\n",
      "8\n",
      "9\n",
      "10\n",
      "11\n",
      "12\n",
      "13\n",
      "14\n",
      "15\n",
      "16\n",
      "17\n",
      "18\n",
      "19\n",
      "20\n"
     ]
    }
   ],
   "source": [
    "class MyNum:\n",
    "    def __iter__(self):\n",
    "        self.a=1\n",
    "        return self\n",
    "    def __next__(self):\n",
    "        if self.a<=20:\n",
    "            x=self.a\n",
    "            self.a+=1\n",
    "            return x\n",
    "        else:\n",
    "            raise StopIteration\n",
    "\n",
    "myclass=MyNum()\n",
    "myiter=iter(myclass)\n",
    "\n",
    "for x in myiter:\n",
    "    print(x)\n",
    "        "
   ]
  },
  {
   "cell_type": "code",
   "execution_count": null,
   "id": "498ba24f-3562-400d-b463-9700279e5766",
   "metadata": {},
   "outputs": [],
   "source": []
  },
  {
   "cell_type": "code",
   "execution_count": null,
   "id": "18ef6616-783b-47ae-bf2f-d63646f1e5e7",
   "metadata": {},
   "outputs": [],
   "source": [
    " ''''''''' Python Scope''''''''''"
   ]
  },
  {
   "cell_type": "code",
   "execution_count": null,
   "id": "d2c56dd8-61b7-4317-be31-e4badcd23804",
   "metadata": {},
   "outputs": [],
   "source": [
    "A variable is only available from inside the region it is created .This is called scope."
   ]
  },
  {
   "cell_type": "code",
   "execution_count": null,
   "id": "2f676306-1dfa-46c1-b537-c73aa0823e5f",
   "metadata": {},
   "outputs": [],
   "source": [
    "Local Scope:"
   ]
  },
  {
   "cell_type": "code",
   "execution_count": null,
   "id": "a69d3074-fc5c-4a57-9e62-1f6cb5ffa965",
   "metadata": {},
   "outputs": [],
   "source": [
    "A variable created inside a function belongs to the local scope varaible of that function and can only used inside that function "
   ]
  },
  {
   "cell_type": "code",
   "execution_count": 105,
   "id": "eadf568a-6902-4376-98cb-389fcc9e4355",
   "metadata": {},
   "outputs": [
    {
     "name": "stdout",
     "output_type": "stream",
     "text": [
      "23\n"
     ]
    }
   ],
   "source": [
    "def myfunc():\n",
    "    x=23\n",
    "    print(x)\n",
    "\n",
    "myfunc()"
   ]
  },
  {
   "cell_type": "code",
   "execution_count": null,
   "id": "b05386aa-a0d3-454a-ba6a-abea99f5ee5e",
   "metadata": {},
   "outputs": [],
   "source": [
    "**Function inside the Function**"
   ]
  },
  {
   "cell_type": "code",
   "execution_count": null,
   "id": "29e619a4-debe-408d-9adf-205670ec5429",
   "metadata": {},
   "outputs": [],
   "source": [
    "As explained in the exaple above ,the variable x is not available outside the function but it is available for any function inside the function"
   ]
  },
  {
   "cell_type": "code",
   "execution_count": null,
   "id": "611b9dd8-8f9e-4956-97b3-57b63791edf9",
   "metadata": {},
   "outputs": [],
   "source": [
    "The local variable can be accessed from a function within the function:"
   ]
  },
  {
   "cell_type": "code",
   "execution_count": 111,
   "id": "d9200e91-eb40-4372-bd7b-3df79b1c8314",
   "metadata": {},
   "outputs": [
    {
     "name": "stdout",
     "output_type": "stream",
     "text": [
      "24\n"
     ]
    }
   ],
   "source": [
    "def myfunc():\n",
    "    x=24\n",
    "    def innerfunc():\n",
    "        print(x)\n",
    "    innerfunc()\n",
    "\n",
    "myfunc()\n"
   ]
  },
  {
   "cell_type": "code",
   "execution_count": null,
   "id": "487f1ed7-ccb1-4c72-88ba-4094ee4ecae3",
   "metadata": {},
   "outputs": [],
   "source": [
    "*Global Scope :\n",
    " A variable created in the main body of the Python code is a global variable and belongs to global scope\n",
    "Global variables are available from within any scope, global and local."
   ]
  },
  {
   "cell_type": "code",
   "execution_count": 117,
   "id": "674c0b73-2ac7-410a-8d20-e9ea5c4e8b3f",
   "metadata": {},
   "outputs": [
    {
     "name": "stdout",
     "output_type": "stream",
     "text": [
      "24\n",
      "24\n"
     ]
    }
   ],
   "source": [
    "x=24\n",
    "def myfunc():\n",
    "    print(x)\n",
    "\n",
    "myfunc()\n",
    "print(x)"
   ]
  },
  {
   "cell_type": "code",
   "execution_count": null,
   "id": "ac65b0fc-01ef-4654-8621-a36247f8459e",
   "metadata": {},
   "outputs": [],
   "source": [
    "Naming Variables\n",
    "If you operate with the same variable name inside and outside of a function,Python will treat them as two seperate variables one available\n",
    "in the global scope (outside the function) and one available in the local scope(insde the function)"
   ]
  },
  {
   "cell_type": "code",
   "execution_count": 121,
   "id": "91ccd6d1-2a74-4b93-9097-eb7e338fe6bb",
   "metadata": {},
   "outputs": [
    {
     "name": "stdout",
     "output_type": "stream",
     "text": [
      "23\n",
      "27\n"
     ]
    }
   ],
   "source": [
    "x=27\n",
    "def myfunc():\n",
    "    x=23\n",
    "    print(x)\n",
    "\n",
    "myfunc()\n",
    "print(x)"
   ]
  },
  {
   "cell_type": "code",
   "execution_count": null,
   "id": "5d1161f8-bf50-4f96-ac7f-c305238a02d1",
   "metadata": {},
   "outputs": [],
   "source": []
  },
  {
   "cell_type": "code",
   "execution_count": null,
   "id": "cbbf83b1-007f-4780-9be5-7dd478219721",
   "metadata": {},
   "outputs": [],
   "source": [
    "Global Keyword\n",
    "\n",
    "If you need to create a global variable ,but are stuck in the local scope,\n",
    "you can create the global keyword\n",
    "\n",
    "The global keyword makes the variable global"
   ]
  },
  {
   "cell_type": "code",
   "execution_count": 137,
   "id": "8e13c0ff-3cc5-4e5b-8698-7d6c3b62e45d",
   "metadata": {},
   "outputs": [
    {
     "name": "stdout",
     "output_type": "stream",
     "text": [
      "23\n",
      "23\n"
     ]
    }
   ],
   "source": [
    "def myfunc():\n",
    "    global x\n",
    "    x=23\n",
    "    print(x)\n",
    "\n",
    "myfunc()\n",
    "print(x)\n"
   ]
  },
  {
   "cell_type": "code",
   "execution_count": null,
   "id": "1d40fa70-a273-4fd5-83d7-eb47cd3bd6cd",
   "metadata": {},
   "outputs": [],
   "source": [
    "*Nonlocal Keyword\n",
    "The nonlocal keyword is used to work with variables inside nested functions.\n",
    "The nonlocal keyword makes the variable belong to the outer function.\n",
    "\n"
   ]
  },
  {
   "cell_type": "code",
   "execution_count": 141,
   "id": "8407f218-b96b-451d-b1fe-35001d4f1132",
   "metadata": {},
   "outputs": [
    {
     "name": "stdout",
     "output_type": "stream",
     "text": [
      "hello\n"
     ]
    }
   ],
   "source": [
    "def myfunc():\n",
    "    x=\"srinu\"\n",
    "    def myfunc2():\n",
    "        nonlocal x\n",
    "        x=\"hello\"\n",
    "    myfunc2()\n",
    "    return x\n",
    "\n",
    "print(myfunc())"
   ]
  },
  {
   "cell_type": "code",
   "execution_count": null,
   "id": "f291542d-5179-4f7b-8c18-1d88dea38440",
   "metadata": {},
   "outputs": [],
   "source": []
  },
  {
   "cell_type": "code",
   "execution_count": null,
   "id": "19691e48-1316-44da-ba42-da22c26080a5",
   "metadata": {},
   "outputs": [],
   "source": [
    "\"\"\"\"\"\"\"\"\"Encapsulation\"\"\"\"\"\"\"\"\"\"\"\""
   ]
  },
  {
   "cell_type": "code",
   "execution_count": null,
   "id": "ccc8f205-8aca-4232-a76d-92aae62c79e3",
   "metadata": {},
   "outputs": [],
   "source": [
    "public access modifier:"
   ]
  },
  {
   "cell_type": "code",
   "execution_count": null,
   "id": "53ecb95e-c98a-4ad7-a687-41c4be7fdd13",
   "metadata": {},
   "outputs": [],
   "source": [
    "we are basically including various methods and and variables and objects into one class\n",
    "It is used to avoid the outer accidents modification in our code"
   ]
  },
  {
   "cell_type": "code",
   "execution_count": 143,
   "id": "590c63ba-4809-480c-a419-b98c6e9aa027",
   "metadata": {},
   "outputs": [
    {
     "name": "stdout",
     "output_type": "stream",
     "text": [
      "batting\n",
      "player name is dhoni\n"
     ]
    }
   ],
   "source": [
    "class Cricket:\n",
    "    player=\"dhoni\"\n",
    "    def batting(self):\n",
    "        print(\"batting\")\n",
    "        print(f\"player name is {self.player}\")\n",
    "\n",
    "class IPL(Cricket):\n",
    "    def t20_batting(self):\n",
    "        c=Cricket()\n",
    "        c.batting()\n",
    "\n",
    "play=Cricket()\n",
    "play.batting()"
   ]
  },
  {
   "cell_type": "code",
   "execution_count": 145,
   "id": "857345e9-8cdd-4d11-a29d-4aede9ae27f2",
   "metadata": {},
   "outputs": [
    {
     "name": "stdout",
     "output_type": "stream",
     "text": [
      "batting\n",
      "player name is dhoni\n"
     ]
    }
   ],
   "source": [
    "i=IPL()\n",
    "i.t20_batting()"
   ]
  },
  {
   "cell_type": "code",
   "execution_count": 147,
   "id": "cb31e91a-3faa-4fd8-bd4e-f5f29c9b4acd",
   "metadata": {},
   "outputs": [
    {
     "data": {
      "text/plain": [
       "['__class__',\n",
       " '__delattr__',\n",
       " '__dict__',\n",
       " '__dir__',\n",
       " '__doc__',\n",
       " '__eq__',\n",
       " '__format__',\n",
       " '__ge__',\n",
       " '__getattribute__',\n",
       " '__getstate__',\n",
       " '__gt__',\n",
       " '__hash__',\n",
       " '__init__',\n",
       " '__init_subclass__',\n",
       " '__le__',\n",
       " '__lt__',\n",
       " '__module__',\n",
       " '__ne__',\n",
       " '__new__',\n",
       " '__reduce__',\n",
       " '__reduce_ex__',\n",
       " '__repr__',\n",
       " '__setattr__',\n",
       " '__sizeof__',\n",
       " '__str__',\n",
       " '__subclasshook__',\n",
       " '__weakref__',\n",
       " 'batting',\n",
       " 'player']"
      ]
     },
     "execution_count": 147,
     "metadata": {},
     "output_type": "execute_result"
    }
   ],
   "source": [
    "dir(play)"
   ]
  },
  {
   "cell_type": "code",
   "execution_count": null,
   "id": "0e3504bf-0a61-41b6-b559-8490ef79f35b",
   "metadata": {},
   "outputs": [],
   "source": [
    "protected access modifier:\n",
    "we use single underscore \n",
    "It can be access by it's own object"
   ]
  },
  {
   "cell_type": "code",
   "execution_count": 153,
   "id": "41ad2086-e624-4b2d-873c-e31829063801",
   "metadata": {},
   "outputs": [
    {
     "name": "stdout",
     "output_type": "stream",
     "text": [
      "batting\n",
      "player name is dhoni\n"
     ]
    }
   ],
   "source": [
    "class Cricket:\n",
    "    _player=\"dhoni\"\n",
    "    minimum_bal=10000\n",
    "    def _batting(self):\n",
    "        print(\"batting\")\n",
    "        print(f\"player name is {self._player}\")\n",
    "\n",
    "class IPL(Cricket):\n",
    "    def t20_batting(self):\n",
    "        c=Cricket()\n",
    "        c._batting()\n",
    "\n",
    "c=Cricket()\n",
    "c._batting()"
   ]
  },
  {
   "cell_type": "code",
   "execution_count": 159,
   "id": "56e016de-8edb-4dd6-8c5f-ae5606de47c2",
   "metadata": {},
   "outputs": [
    {
     "data": {
      "text/plain": [
       "5000"
      ]
     },
     "execution_count": 159,
     "metadata": {},
     "output_type": "execute_result"
    }
   ],
   "source": [
    "c.minimum_bal=5000\n",
    "c.minimum_bal"
   ]
  },
  {
   "cell_type": "code",
   "execution_count": 161,
   "id": "5defe276-7c45-4d70-9595-56357a4f2660",
   "metadata": {},
   "outputs": [
    {
     "name": "stdout",
     "output_type": "stream",
     "text": [
      "batting\n",
      "player name is dhoni\n"
     ]
    }
   ],
   "source": [
    "i=IPL()\n",
    "i._batting()"
   ]
  },
  {
   "cell_type": "code",
   "execution_count": null,
   "id": "ecdce519-239b-44c6-aee7-aa27be2d1e79",
   "metadata": {},
   "outputs": [],
   "source": [
    "private access modifier:"
   ]
  },
  {
   "cell_type": "code",
   "execution_count": 163,
   "id": "b087c784-186b-4b74-a7b8-b3034d3ab280",
   "metadata": {},
   "outputs": [
    {
     "name": "stdout",
     "output_type": "stream",
     "text": [
      "batting\n",
      "player name is dhoni\n"
     ]
    }
   ],
   "source": [
    "class Cricket:\n",
    "    __player=\"dhoni\"\n",
    "    minimum_bal=10000\n",
    "    def _batting(self):\n",
    "        print(\"batting\")\n",
    "        print(f\"player name is {self.__player}\")\n",
    "\n",
    "class IPL(Cricket):\n",
    "    def t20_batting(self):\n",
    "        c=Cricket()\n",
    "        c._batting()\n",
    "\n",
    "c=Cricket()\n",
    "c._batting()"
   ]
  },
  {
   "cell_type": "code",
   "execution_count": 165,
   "id": "10c8a907-cd6d-4ec2-8566-329df4f5302d",
   "metadata": {},
   "outputs": [
    {
     "ename": "TypeError",
     "evalue": "Cricket._batting() missing 1 required positional argument: 'self'",
     "output_type": "error",
     "traceback": [
      "\u001b[1;31m---------------------------------------------------------------------------\u001b[0m",
      "\u001b[1;31mTypeError\u001b[0m                                 Traceback (most recent call last)",
      "Cell \u001b[1;32mIn[165], line 2\u001b[0m\n\u001b[0;32m      1\u001b[0m i\u001b[38;5;241m=\u001b[39mIPL\n\u001b[1;32m----> 2\u001b[0m i\u001b[38;5;241m.\u001b[39m_batting()\n",
      "\u001b[1;31mTypeError\u001b[0m: Cricket._batting() missing 1 required positional argument: 'self'"
     ]
    }
   ],
   "source": [
    "i=IPL\n",
    "i._batting()"
   ]
  },
  {
   "cell_type": "code",
   "execution_count": null,
   "id": "54d9d34b-90f9-49c9-ac7c-9253d9b261ea",
   "metadata": {},
   "outputs": [],
   "source": []
  },
  {
   "cell_type": "code",
   "execution_count": null,
   "id": "735e3c15-46b1-4bf5-bb27-275faecaca81",
   "metadata": {},
   "outputs": [],
   "source": [
    "                    '''Abstraction'''''\n",
    "\n",
    "1. An abstract class can considered as a blueprint(templete) for other class.\n",
    "It allows you to create a set of methods that must be created within the child classes built from abstractclass.\n",
    "2.While we are desighning a large functional unit we use an abstract class. when we want to provide a common interface for different implementation of a component,we use an abstract class.\n",
    "3. By defining an abstract base class ,you can define a common API(application  programm interface)for a set of subclasses.\n",
    "THis capability is especially usefull in situations where a 3rd party is going you provide the implementation with in plugins.\n",
    "4.Also usefull when working with the large team or large code base where keeping all classes in our mind is difficult not possible "
   ]
  },
  {
   "cell_type": "code",
   "execution_count": null,
   "id": "e0dd9fa0-1120-451c-9944-bbc3e763ec27",
   "metadata": {},
   "outputs": [],
   "source": [
    "It is a technic to hide the import datails until user shows whatever they want that much they will prvide"
   ]
  },
  {
   "cell_type": "code",
   "execution_count": 1,
   "id": "793350a0-5d02-45e3-9bbb-faf906cd946f",
   "metadata": {},
   "outputs": [
    {
     "name": "stdout",
     "output_type": "stream",
     "text": [
      "study\n"
     ]
    }
   ],
   "source": [
    "#concrete class\n",
    "class myclass:\n",
    "    def study(self):\n",
    "        print(\"study\")\n",
    "\n",
    "m=myclass()\n",
    "m.study()"
   ]
  },
  {
   "cell_type": "code",
   "execution_count": 3,
   "id": "c14dca48-a035-42d6-ba93-47ffad55ffdd",
   "metadata": {},
   "outputs": [],
   "source": [
    "from abc import ABC,abstractmethod"
   ]
  },
  {
   "cell_type": "code",
   "execution_count": 5,
   "id": "6b4aad34-d039-429c-85ea-19e17007082d",
   "metadata": {},
   "outputs": [],
   "source": [
    "class Vg_class(ABC): #make the class inherited from ABC parents class\n",
    "    @abstractmethod #decorator\n",
    "    def study1(self): #only declaration\n",
    "        pass #no implementation\n",
    "\n",
    "    @abstractmethod\n",
    "    def study2(self):\n",
    "        pass"
   ]
  },
  {
   "cell_type": "code",
   "execution_count": 7,
   "id": "62ee1f46-7b0f-499e-aa44-31627e2b0ddd",
   "metadata": {},
   "outputs": [
    {
     "ename": "TypeError",
     "evalue": "Can't instantiate abstract class Vg_class without an implementation for abstract methods 'study1', 'study2'",
     "output_type": "error",
     "traceback": [
      "\u001b[1;31m----------------------------------------------------------------\u001b[0m",
      "\u001b[1;31mTypeError\u001b[0m                      Traceback (most recent call last)",
      "Cell \u001b[1;32mIn[7], line 1\u001b[0m\n\u001b[1;32m----> 1\u001b[0m v\u001b[38;5;241m=\u001b[39mVg_class()\n",
      "\u001b[1;31mTypeError\u001b[0m: Can't instantiate abstract class Vg_class without an implementation for abstract methods 'study1', 'study2'"
     ]
    }
   ],
   "source": [
    "v=Vg_class()\n"
   ]
  },
  {
   "cell_type": "code",
   "execution_count": 13,
   "id": "b59f93e5-e660-4bdf-96a9-33a8d12e1286",
   "metadata": {},
   "outputs": [
    {
     "name": "stdout",
     "output_type": "stream",
     "text": [
      "studing in mock\n"
     ]
    }
   ],
   "source": [
    "from abc import ABC,abstractmethod\n",
    "\n",
    "class Vg_class(ABC): #make the class inherited from ABC parents class\n",
    "    @abstractmethod #decorator\n",
    "    def study1(self): #only declaration\n",
    "        pass #no implementation\n",
    "\n",
    "    @abstractmethod\n",
    "    def study2(self):\n",
    "        pass\n",
    "    def work(self):\n",
    "        print(\"*\")\n",
    "\n",
    "#Vg_class is an abstract class\n",
    "\n",
    "class Vg_client(Vg_class):\n",
    "    def study1(self):\n",
    "        print(\"studing in mock\")\n",
    "    def study2(self):\n",
    "        print(\"studying by own\")\n",
    "    def study3(self):\n",
    "        print(\"study extra\")\n",
    "\n",
    "obj=Vg_client()\n",
    "obj.study1()\n",
    "        \n",
    "\n"
   ]
  },
  {
   "cell_type": "code",
   "execution_count": 17,
   "id": "de6c5adf-bb25-4abc-a6e9-25b44bd6841a",
   "metadata": {},
   "outputs": [
    {
     "ename": "TypeError",
     "evalue": "Can't instantiate abstract class Vg_client without an implementation for abstract method 'study2'",
     "output_type": "error",
     "traceback": [
      "\u001b[1;31m----------------------------------------------------------------\u001b[0m",
      "\u001b[1;31mTypeError\u001b[0m                      Traceback (most recent call last)",
      "Cell \u001b[1;32mIn[17], line 20\u001b[0m\n\u001b[0;32m     17\u001b[0m     \u001b[38;5;28;01mdef\u001b[39;00m \u001b[38;5;21mstudy1\u001b[39m(\u001b[38;5;28mself\u001b[39m):\n\u001b[0;32m     18\u001b[0m         \u001b[38;5;28mprint\u001b[39m(\u001b[38;5;124m\"\u001b[39m\u001b[38;5;124mstudying in mock\u001b[39m\u001b[38;5;124m\"\u001b[39m)\n\u001b[1;32m---> 20\u001b[0m obj\u001b[38;5;241m=\u001b[39mVg_client()\n",
      "\u001b[1;31mTypeError\u001b[0m: Can't instantiate abstract class Vg_client without an implementation for abstract method 'study2'"
     ]
    }
   ],
   "source": [
    "from abc import ABC,abstractmethod\n",
    "\n",
    "class Vg_class(ABC): #make the class inherited from ABC parents class\n",
    "    @abstractmethod #decorator\n",
    "    def study1(self): #only declaration\n",
    "        pass #no implementation\n",
    "\n",
    "    @abstractmethod\n",
    "    def study2(self):\n",
    "        pass\n",
    "    def work(self):\n",
    "        print(\"*\")\n",
    "\n",
    "#Vg_class is an abstract class\n",
    "\n",
    "class Vg_client(Vg_class):\n",
    "    def study1(self):\n",
    "        print(\"studying in mock\")\n",
    "\n",
    "obj=Vg_client()"
   ]
  },
  {
   "cell_type": "code",
   "execution_count": null,
   "id": "1a31f477-cf47-4e8e-a13a-4a5d58747b03",
   "metadata": {},
   "outputs": [],
   "source": [
    "Types of variables:\n",
    "1.instance variable\n",
    "2.static variable \n",
    "3. local variable "
   ]
  },
  {
   "cell_type": "code",
   "execution_count": 43,
   "id": "a4b0c5f1-d0aa-4442-80c5-2b2125f50718",
   "metadata": {},
   "outputs": [
    {
     "ename": "SyntaxError",
     "evalue": "invalid syntax (2697569144.py, line 1)",
     "output_type": "error",
     "traceback": [
      "\u001b[1;36m  Cell \u001b[1;32mIn[43], line 1\u001b[1;36m\u001b[0m\n\u001b[1;33m    1,instance variable:\u001b[0m\n\u001b[1;37m               ^\u001b[0m\n\u001b[1;31mSyntaxError\u001b[0m\u001b[1;31m:\u001b[0m invalid syntax\n"
     ]
    }
   ],
   "source": [
    "1,instance variable:\n",
    "->Created  by using __init__\n",
    "-> When we wnat to the varibale  should vary from object to object \n",
    "Eg:\n",
    "\n",
    "\n",
    "\n"
   ]
  },
  {
   "cell_type": "code",
   "execution_count": 45,
   "id": "3a9ef0b7-478e-49f2-9c7c-f67b425c8526",
   "metadata": {},
   "outputs": [],
   "source": [
    "class student():\n",
    "    def __init__(self,name,age):\n",
    "        self.name=name\n",
    "        self.age=age\n",
    "    def study(self):\n",
    "        print(\"student name is\",self.name)"
   ]
  },
  {
   "cell_type": "code",
   "execution_count": 47,
   "id": "33c7fb3a-263f-4a0e-ad7a-063093b4992e",
   "metadata": {},
   "outputs": [
    {
     "name": "stdout",
     "output_type": "stream",
     "text": [
      "Ms Dhoni\n",
      "student name is Ms Dhoni\n"
     ]
    }
   ],
   "source": [
    "s1=student(\"Ms Dhoni\",12)\n",
    "print(s1.name)\n",
    "s1.study()\n"
   ]
  },
  {
   "cell_type": "code",
   "execution_count": 51,
   "id": "328453ac-8282-42cd-b29e-a228c6f7fd19",
   "metadata": {},
   "outputs": [
    {
     "name": "stdout",
     "output_type": "stream",
     "text": [
      "student name is virat\n"
     ]
    }
   ],
   "source": [
    "s2=student(\"virat\",10)\n",
    "s2.study()"
   ]
  },
  {
   "cell_type": "code",
   "execution_count": null,
   "id": "987a5ca3-3d67-497a-a26d-200412adfb99",
   "metadata": {},
   "outputs": [],
   "source": [
    "2.static variable :\n",
    "-> if the value of the variable is not varying object to object\n",
    "->so static variable\n",
    "->one copy for the all the object "
   ]
  },
  {
   "cell_type": "code",
   "execution_count": 53,
   "id": "5b80e6d3-b56d-455c-8a37-e96d6b1d925c",
   "metadata": {},
   "outputs": [],
   "source": [
    "class Student():\n",
    "    team=\"India\" # static variable\n",
    "    def __init__(self,name,age):\n",
    "        self.name=name #instance variable\n",
    "        self.age=age\n",
    "    def study(self):\n",
    "        print(\"Studemt name is \",self.name,self.team)\n",
    "   "
   ]
  },
  {
   "cell_type": "code",
   "execution_count": 55,
   "id": "2be4933e-0e0a-4ab2-877d-befb18107664",
   "metadata": {},
   "outputs": [
    {
     "name": "stdout",
     "output_type": "stream",
     "text": [
      "Studemt name is  vasu India\n"
     ]
    }
   ],
   "source": [
    "s1=Student(\"vasu\",10)\n",
    "s1.study()\n"
   ]
  },
  {
   "cell_type": "code",
   "execution_count": 57,
   "id": "fe876b04-cc80-4219-a9f4-68635f070201",
   "metadata": {},
   "outputs": [
    {
     "name": "stdout",
     "output_type": "stream",
     "text": [
      "Studemt name is  viart India\n"
     ]
    }
   ],
   "source": [
    "s2=Student(\"viart\",12)\n",
    "s2.study()"
   ]
  },
  {
   "cell_type": "code",
   "execution_count": null,
   "id": "08cff763-5966-4c41-bd4b-71978567b9e2",
   "metadata": {},
   "outputs": [],
   "source": [
    "3.local variable:\n",
    "->also know as method level variable\n",
    "-> used to meet the temporory requirement of method "
   ]
  },
  {
   "cell_type": "code",
   "execution_count": 59,
   "id": "71deec96-4131-48ff-be76-c33842e35f24",
   "metadata": {},
   "outputs": [
    {
     "name": "stdout",
     "output_type": "stream",
     "text": [
      "My name is vasu India\n"
     ]
    }
   ],
   "source": [
    "class Student:\n",
    "    team=\"India\" #static variable \n",
    "    def __init__(self,name,age):\n",
    "        self.name=name\n",
    "        self.age=age\n",
    "    def study(self):\n",
    "        print(\"My name is\",self.name,self.team)\n",
    "    def play(self):\n",
    "        hours=2\n",
    "        print(hours)\n",
    "\n",
    "obj=Student(\"vasu\",21)\n",
    "obj.study()"
   ]
  },
  {
   "cell_type": "code",
   "execution_count": 61,
   "id": "e2055bb9-02c4-423c-a2cb-615828e18950",
   "metadata": {},
   "outputs": [
    {
     "name": "stdout",
     "output_type": "stream",
     "text": [
      "2\n"
     ]
    }
   ],
   "source": [
    "obj.play()"
   ]
  },
  {
   "cell_type": "code",
   "execution_count": null,
   "id": "83787274-a37d-4e53-9c90-1135913f8cec",
   "metadata": {},
   "outputs": [],
   "source": []
  },
  {
   "cell_type": "code",
   "execution_count": null,
   "id": "41c032f8-f37e-49e2-a5d1-e67bf7a2b15d",
   "metadata": {},
   "outputs": [],
   "source": []
  }
 ],
 "metadata": {
  "kernelspec": {
   "display_name": "Python 3 (ipykernel)",
   "language": "python",
   "name": "python3"
  },
  "language_info": {
   "codemirror_mode": {
    "name": "ipython",
    "version": 3
   },
   "file_extension": ".py",
   "mimetype": "text/x-python",
   "name": "python",
   "nbconvert_exporter": "python",
   "pygments_lexer": "ipython3",
   "version": "3.12.4"
  }
 },
 "nbformat": 4,
 "nbformat_minor": 5
}
