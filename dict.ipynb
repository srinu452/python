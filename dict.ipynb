{
 "cells": [
  {
   "cell_type": "code",
   "execution_count": null,
   "id": "39b5a15c-d8c7-4b7e-8613-4cf60d20ab7e",
   "metadata": {},
   "outputs": [],
   "source": [
    "               \"\"\" Python Dictionaries\"\"\""
   ]
  },
  {
   "cell_type": "code",
   "execution_count": 1,
   "id": "a5943845-e177-454f-b7bf-927b88111342",
   "metadata": {},
   "outputs": [
    {
     "name": "stdout",
     "output_type": "stream",
     "text": [
      "{'brand': 'ford', 'model': 'Mustang', 'year': 1932}\n"
     ]
    }
   ],
   "source": [
    "thisdict={\n",
    "    \"brand\":\"ford\",\n",
    "    \"model\":\"Mustang\",\n",
    "    \"year\":1932\n",
    "}\n",
    "print(thisdict)"
   ]
  },
  {
   "cell_type": "code",
   "execution_count": null,
   "id": "cd5690b8-0586-4a8f-af82-6568070d276a",
   "metadata": {},
   "outputs": [],
   "source": [
    "Dictionary:\n",
    "Dictionaries are used to store the values in key's :value pairs\n",
    "A dictionary is a collection of which is ordered*.changeable and do not allow  duplicates\n",
    "Disctionaries are writtern in curly brackets and have keys and values;"
   ]
  },
  {
   "cell_type": "code",
   "execution_count": 3,
   "id": "e5b542b9-db97-4370-9ef6-2b29035c15a9",
   "metadata": {},
   "outputs": [
    {
     "name": "stdout",
     "output_type": "stream",
     "text": [
      "{'brand': 'ford', 'model': 'Mustang', 'year': 1932}\n"
     ]
    }
   ],
   "source": [
    "thisdict={\n",
    "    \"brand\":\"ford\",\n",
    "    \"model\":\"Mustang\",\n",
    "    \"year\":1932\n",
    "}\n",
    "print(thisdict)"
   ]
  },
  {
   "cell_type": "code",
   "execution_count": null,
   "id": "506990b6-e8df-4bb3-ae62-0b076466fc53",
   "metadata": {},
   "outputs": [],
   "source": [
    "1.Dict Items :\n",
    "Dicts are items are ordered and changeable and do not allow duplicates \n",
    "dicts items are presented in key:values pairs and can be reffered to by using the key name"
   ]
  },
  {
   "cell_type": "code",
   "execution_count": 13,
   "id": "4743d14d-4b22-48e2-ac14-11e659e02562",
   "metadata": {},
   "outputs": [
    {
     "name": "stdout",
     "output_type": "stream",
     "text": [
      "Mustang\n"
     ]
    }
   ],
   "source": [
    "thisdict={\n",
    "    \"brand\":\"ford\",\n",
    "    \"model\":\"Mustang\",\n",
    "    \"year\":1932\n",
    "}\n",
    "print(thisdict[\"model\"])"
   ]
  },
  {
   "cell_type": "code",
   "execution_count": null,
   "id": "e41c5693-0528-4cf9-be81-999fd742bb29",
   "metadata": {},
   "outputs": [],
   "source": [
    "ordered or unordered ?\n",
    "when we say that dicts are oredered that means items have defined order and taht order will not change.\n",
    "Unordered means that the items do not have a defiend order you cannot refer to an item by using an index."
   ]
  },
  {
   "cell_type": "code",
   "execution_count": null,
   "id": "a74490b5-4502-4255-a483-3796aeeb1a0a",
   "metadata": {},
   "outputs": [],
   "source": [
    "changeable:\n",
    "Dictionaries are changeable meaning that we can change ,add or remove items after the dictionaries has been created."
   ]
  },
  {
   "cell_type": "code",
   "execution_count": null,
   "id": "75235d40-4003-415c-87bd-f1b30cca9c77",
   "metadata": {},
   "outputs": [],
   "source": [
    "Duplicates not Allowes\n",
    "Dictionaries cannot have two items with same key:"
   ]
  },
  {
   "cell_type": "code",
   "execution_count": null,
   "id": "85086236-f6dc-41a4-9de9-a079d4ae0aaf",
   "metadata": {},
   "outputs": [],
   "source": [
    "Duplicates values will overwrite existing values;"
   ]
  },
  {
   "cell_type": "code",
   "execution_count": 17,
   "id": "93071c30-b8a5-4ddd-b638-b25c888ed44a",
   "metadata": {},
   "outputs": [
    {
     "name": "stdout",
     "output_type": "stream",
     "text": [
      "{'brand': 'ford', 'model': 'Mustang', 'year': 1999}\n"
     ]
    }
   ],
   "source": [
    "thisdict={\n",
    "    \"brand\":\"ford\",\n",
    "    \"model\":\"Mustang\",\n",
    "    \"year\":1932,\n",
    "    \"year\":1999\n",
    "}\n",
    "print(thisdict)"
   ]
  },
  {
   "cell_type": "code",
   "execution_count": null,
   "id": "53710296-f633-425b-81f2-574ce9e07cef",
   "metadata": {},
   "outputs": [],
   "source": [
    "2.Dictionary length:\n",
    "TO determine the how many items a dictionary has use the len() function"
   ]
  },
  {
   "cell_type": "code",
   "execution_count": 21,
   "id": "c4964a27-7314-4c41-829d-8ca55d0ff6c1",
   "metadata": {},
   "outputs": [
    {
     "name": "stdout",
     "output_type": "stream",
     "text": [
      "3\n"
     ]
    }
   ],
   "source": [
    "thisdict={\n",
    "    \"brand\":\"ford\",\n",
    "    \"model\":\"Mustang\",\n",
    "    \"year\":1932\n",
    "}\n",
    "print(len(thisdict))\n"
   ]
  },
  {
   "cell_type": "code",
   "execution_count": 23,
   "id": "fcb2ee2a-a1fd-4ec7-8d5a-6094c66005f5",
   "metadata": {},
   "outputs": [
    {
     "ename": "SyntaxError",
     "evalue": "invalid decimal literal (424903710.py, line 1)",
     "output_type": "error",
     "traceback": [
      "\u001b[1;36m  Cell \u001b[1;32mIn[23], line 1\u001b[1;36m\u001b[0m\n\u001b[1;33m    3.Dictionaries Iems _data types:\u001b[0m\n\u001b[1;37m     ^\u001b[0m\n\u001b[1;31mSyntaxError\u001b[0m\u001b[1;31m:\u001b[0m invalid decimal literal\n"
     ]
    }
   ],
   "source": [
    "3.Dictionaries Iems _data types:\n",
    "The values in dictionaries items can be of any data type:"
   ]
  },
  {
   "cell_type": "code",
   "execution_count": 31,
   "id": "d61a334d-1419-43fe-a0c3-a350d8476398",
   "metadata": {},
   "outputs": [
    {
     "name": "stdout",
     "output_type": "stream",
     "text": [
      "{'brand': 'ford', 'model': 'Mustang', 'year': 1932, 'electric': False, 'colors': ['red', 'blue', 'yellow'], 'prices': (12, 3, 4, 5, 32, 6), 'sales': {'good sales'}, 'comples': (12+7j)}\n"
     ]
    }
   ],
   "source": [
    "thisdict={\n",
    "    \"brand\":\"ford\",\n",
    "    \"model\":\"Mustang\",\n",
    "    \"year\":1932,\n",
    "    \"electric\":False,\n",
    "    \"colors\":[\"red\",\"blue\",\"yellow\"],\n",
    "    \"prices\":(12,3,4,5,32,6),\n",
    "    \"sales\":{\"good sales\"},\n",
    "    \"comples\":12+7j\n",
    "}\n",
    "print(thisdict)"
   ]
  },
  {
   "cell_type": "code",
   "execution_count": null,
   "id": "e2910e3c-7ea0-4c34-9ba8-76268777aeb3",
   "metadata": {},
   "outputs": [],
   "source": [
    "type()\n",
    "<class 'dict'>"
   ]
  },
  {
   "cell_type": "code",
   "execution_count": 33,
   "id": "89abf4ea-0b58-477c-826b-98f1646779d3",
   "metadata": {},
   "outputs": [
    {
     "name": "stdout",
     "output_type": "stream",
     "text": [
      "<class 'dict'>\n"
     ]
    }
   ],
   "source": [
    "thisdict={\n",
    "    \"brand\":\"ford\",\n",
    "    \"model\":\"Mustang\",\n",
    "    \"year\":1932,\n",
    "    \"electric\":False,\n",
    "    \"colors\":[\"red\",\"blue\",\"yellow\"],\n",
    "    \"prices\":(12,3,4,5,32,6),\n",
    "    \"sales\":{\"good sales\"},\n",
    "    \"comples\":12+7j\n",
    "}\n",
    "print(type(thisdict))"
   ]
  },
  {
   "cell_type": "code",
   "execution_count": null,
   "id": "febff3b4-a810-4475-821a-dcc28895a444",
   "metadata": {},
   "outputs": [],
   "source": [
    "5.Dict() constructer\n",
    "It is also posiible to use the dict() constructer to make dictionaries"
   ]
  },
  {
   "cell_type": "code",
   "execution_count": 43,
   "id": "f15cb269-102d-489d-8588-f17de12416d2",
   "metadata": {},
   "outputs": [
    {
     "name": "stdout",
     "output_type": "stream",
     "text": [
      "{'brand': 'ford', 'model': 'Mustang', 'year': 1932, 'electric': False, 'colors': ['red', 'blue', 'yellow'], 'prices': (12, 3, 4, 5, 32, 6), 'sales': {'good sales'}, 'comples': (12+7j)}\n"
     ]
    }
   ],
   "source": [
    "thisdict=dict(\n",
    "    brand=\"ford\",\n",
    "    model=\"Mustang\",\n",
    "    year=1932,\n",
    "    electric=False,\n",
    "    colors=[\"red\",\"blue\",\"yellow\"],\n",
    "    prices=(12,3,4,5,32,6),\n",
    "    sales={\"good sales\"},\n",
    "    comples=12+7j\n",
    ")\n",
    "print((thisdict))"
   ]
  },
  {
   "cell_type": "code",
   "execution_count": null,
   "id": "c0c5a845-9fee-4872-86c5-e691ba46f7e0",
   "metadata": {},
   "outputs": [],
   "source": [
    "6.Access Dictionaries\n",
    "YOu can acces the items of dict by reffering to its key name,inside square brackets"
   ]
  },
  {
   "cell_type": "code",
   "execution_count": 45,
   "id": "6b62e182-e87b-4104-bc77-0dbf138c0e85",
   "metadata": {},
   "outputs": [
    {
     "name": "stdout",
     "output_type": "stream",
     "text": [
      "ford\n"
     ]
    }
   ],
   "source": [
    "thisdict={\n",
    "    \"brand\":\"ford\",\n",
    "    \"model\":\"Mustang\",\n",
    "    \"year\":1932,\n",
    "    \"electric\":False,\n",
    "    \"colors\":[\"red\",\"blue\",\"yellow\"],\n",
    "    \"prices\":(12,3,4,5,32,6),\n",
    "    \"sales\":{\"good sales\"},\n",
    "    \"comples\":12+7j\n",
    "}\n",
    "print(thisdict[\"brand\"])"
   ]
  },
  {
   "cell_type": "code",
   "execution_count": null,
   "id": "937f5c11-ac67-4535-a5a9-ee8e9bdc95d0",
   "metadata": {},
   "outputs": [],
   "source": [
    "7.get(): to get items by mentioning their key name"
   ]
  },
  {
   "cell_type": "code",
   "execution_count": 49,
   "id": "f35b2551-d2c9-450c-89a8-42a1284ddd2c",
   "metadata": {},
   "outputs": [
    {
     "name": "stdout",
     "output_type": "stream",
     "text": [
      "Mustang\n"
     ]
    }
   ],
   "source": [
    "x=thisdict.get(\"model\")\n",
    "print(x)"
   ]
  },
  {
   "cell_type": "code",
   "execution_count": 51,
   "id": "89386c0b-1759-40a1-b1d4-fe1141246b16",
   "metadata": {},
   "outputs": [
    {
     "ename": "SyntaxError",
     "evalue": "invalid syntax (1845196877.py, line 1)",
     "output_type": "error",
     "traceback": [
      "\u001b[1;36m  Cell \u001b[1;32mIn[51], line 1\u001b[1;36m\u001b[0m\n\u001b[1;33m    7.1 get keys():\u001b[0m\n\u001b[1;37m        ^\u001b[0m\n\u001b[1;31mSyntaxError\u001b[0m\u001b[1;31m:\u001b[0m invalid syntax\n"
     ]
    }
   ],
   "source": [
    "7.1 get keys():\n",
    "the keys() method will return a list of all the keynames in the dictionaries"
   ]
  },
  {
   "cell_type": "code",
   "execution_count": 53,
   "id": "27e30b7c-a3a9-48f7-abcf-99fe55daec70",
   "metadata": {},
   "outputs": [
    {
     "name": "stdout",
     "output_type": "stream",
     "text": [
      "dict_keys(['brand', 'model', 'year', 'electric', 'colors', 'prices', 'sales', 'comples'])\n"
     ]
    }
   ],
   "source": [
    "x=thisdict.keys()\n",
    "print(x)"
   ]
  },
  {
   "cell_type": "code",
   "execution_count": 59,
   "id": "c1be1c56-596e-44de-a0b8-623a56e026af",
   "metadata": {},
   "outputs": [
    {
     "name": "stdout",
     "output_type": "stream",
     "text": [
      "dict_keys(['brand', 'model', 'year', 'electric', 'colors', 'prices', 'sales', 'comples'])\n",
      "dict_keys(['brand', 'model', 'year', 'electric', 'colors', 'prices', 'sales', 'comples', 'height'])\n"
     ]
    }
   ],
   "source": [
    "thisdict={\n",
    "    \"brand\":\"ford\",\n",
    "    \"model\":\"Mustang\",\n",
    "    \"year\":1932,\n",
    "    \"electric\":False,\n",
    "    \"colors\":[\"red\",\"blue\",\"yellow\"],\n",
    "    \"prices\":(12,3,4,5,32,6),\n",
    "    \"sales\":{\"good sales\"},\n",
    "    \"comples\":12+7j\n",
    "}\n",
    "x=thisdict.keys()\n",
    "print(x)#before the change\n",
    "thisdict[\"height\"]=24\n",
    "print(x)#after the change"
   ]
  },
  {
   "cell_type": "code",
   "execution_count": null,
   "id": "870a1c59-7b93-49dc-8122-3754b73b5259",
   "metadata": {},
   "outputs": [],
   "source": [
    "8.2 Get values()\n",
    "The values() method will return  a list of all the values in the dictionaty"
   ]
  },
  {
   "cell_type": "code",
   "execution_count": 61,
   "id": "cca8ecb2-a4f4-441d-8ed1-1dad9cf2014e",
   "metadata": {},
   "outputs": [
    {
     "name": "stdout",
     "output_type": "stream",
     "text": [
      "dict_values(['ford', 'Mustang', 1932, False, ['red', 'blue', 'yellow'], (12, 3, 4, 5, 32, 6), {'good sales'}, (12+7j)])\n"
     ]
    }
   ],
   "source": [
    "thisdict={\n",
    "    \"brand\":\"ford\",\n",
    "    \"model\":\"Mustang\",\n",
    "    \"year\":1932,\n",
    "    \"electric\":False,\n",
    "    \"colors\":[\"red\",\"blue\",\"yellow\"],\n",
    "    \"prices\":(12,3,4,5,32,6),\n",
    "    \"sales\":{\"good sales\"},\n",
    "    \"comples\":12+7j\n",
    "}\n",
    "x=thisdict.values()\n",
    "print(x)"
   ]
  },
  {
   "cell_type": "code",
   "execution_count": 63,
   "id": "0b705809-6e6d-4946-b774-240a8daa15df",
   "metadata": {},
   "outputs": [
    {
     "name": "stdout",
     "output_type": "stream",
     "text": [
      "dict_values(['ford', 'Mustang', 1932, False, ['red', 'blue', 'yellow'], (12, 3, 4, 5, 32, 6), {'good sales'}, (12+7j)])\n",
      "dict_values(['ford', 'benz', 1932, False, ['red', 'blue', 'yellow'], (12, 3, 4, 5, 32, 6), {'good sales'}, (12+7j)])\n"
     ]
    }
   ],
   "source": [
    "thisdict={\n",
    "    \"brand\":\"ford\",\n",
    "    \"model\":\"Mustang\",\n",
    "    \"year\":1932,\n",
    "    \"electric\":False,\n",
    "    \"colors\":[\"red\",\"blue\",\"yellow\"],\n",
    "    \"prices\":(12,3,4,5,32,6),\n",
    "    \"sales\":{\"good sales\"},\n",
    "    \"comples\":12+7j\n",
    "}\n",
    "x=thisdict.values()\n",
    "print(x)#before the change\n",
    "thisdict[\"model\"]=\"benz\"\n",
    "print(x)#after the change"
   ]
  },
  {
   "cell_type": "code",
   "execution_count": null,
   "id": "05de5675-53da-4a0d-a93a-fbb26c96ddf0",
   "metadata": {},
   "outputs": [],
   "source": [
    "Add a new item to the original dictionary, and see that the values list gets updated as well:"
   ]
  },
  {
   "cell_type": "code",
   "execution_count": 65,
   "id": "6f934978-9438-4b9e-9ad8-876065dc1075",
   "metadata": {},
   "outputs": [
    {
     "name": "stdout",
     "output_type": "stream",
     "text": [
      "dict_values(['ford', 'Mustang', 1932, False, ['red', 'blue', 'yellow'], (12, 3, 4, 5, 32, 6), {'good sales'}, (12+7j)])\n",
      "dict_values(['ford', 'Mustang', 1932, False, ['red', 'blue', 'yellow'], (12, 3, 4, 5, 32, 6), {'good sales'}, (12+7j), 25])\n"
     ]
    }
   ],
   "source": [
    "thisdict={\n",
    "    \"brand\":\"ford\",\n",
    "    \"model\":\"Mustang\",\n",
    "    \"year\":1932,\n",
    "    \"electric\":False,\n",
    "    \"colors\":[\"red\",\"blue\",\"yellow\"],\n",
    "    \"prices\":(12,3,4,5,32,6),\n",
    "    \"sales\":{\"good sales\"},\n",
    "    \"comples\":12+7j\n",
    "}\n",
    "x=thisdict.values()\n",
    "print(x)\n",
    "thisdict[\"height\"]=25\n",
    "print(x)"
   ]
  },
  {
   "cell_type": "code",
   "execution_count": null,
   "id": "66d86bc3-8326-45c5-8aca-45d9f99cad71",
   "metadata": {},
   "outputs": [],
   "source": [
    "8.4 Get Items\n",
    "the items() method will return each item in a dictionaries as tuples in a list."
   ]
  },
  {
   "cell_type": "code",
   "execution_count": 67,
   "id": "00f9d114-9fa0-4822-8e0e-20a9397962e0",
   "metadata": {},
   "outputs": [
    {
     "name": "stdout",
     "output_type": "stream",
     "text": [
      "dict_items([('brand', 'ford'), ('model', 'Mustang'), ('year', 1932), ('electric', False), ('colors', ['red', 'blue', 'yellow']), ('prices', (12, 3, 4, 5, 32, 6)), ('sales', {'good sales'}), ('comples', (12+7j))])\n"
     ]
    }
   ],
   "source": [
    "thisdict={\n",
    "    \"brand\":\"ford\",\n",
    "    \"model\":\"Mustang\",\n",
    "    \"year\":1932,\n",
    "    \"electric\":False,\n",
    "    \"colors\":[\"red\",\"blue\",\"yellow\"],\n",
    "    \"prices\":(12,3,4,5,32,6),\n",
    "    \"sales\":{\"good sales\"},\n",
    "    \"comples\":12+7j\n",
    "}\n",
    "x=thisdict.items()\n",
    "print(x)"
   ]
  },
  {
   "cell_type": "code",
   "execution_count": null,
   "id": "74eee0c7-fd9b-436e-8733-d7a4e7f151f7",
   "metadata": {},
   "outputs": [],
   "source": [
    "Make a change in the original dictionary, and see that the items list gets updated as well:"
   ]
  },
  {
   "cell_type": "code",
   "execution_count": 69,
   "id": "d5e445b1-c1b4-4c83-85b2-fc5b1c4cc9d0",
   "metadata": {},
   "outputs": [
    {
     "name": "stdout",
     "output_type": "stream",
     "text": [
      "dict_items([('brand', 'ford'), ('model', 'Mustang'), ('year', 1932), ('electric', False), ('colors', ['red', 'blue', 'yellow']), ('prices', (12, 3, 4, 5, 32, 6)), ('sales', {'good sales'}), ('comples', (12+7j))])\n",
      "dict_items([('brand', 'ford'), ('model', 'Mustang'), ('year', 1983), ('electric', False), ('colors', ['red', 'blue', 'yellow']), ('prices', (12, 3, 4, 5, 32, 6)), ('sales', {'good sales'}), ('comples', (12+7j))])\n"
     ]
    }
   ],
   "source": [
    "thisdict={\n",
    "    \"brand\":\"ford\",\n",
    "    \"model\":\"Mustang\",\n",
    "    \"year\":1932,\n",
    "    \"electric\":False,\n",
    "    \"colors\":[\"red\",\"blue\",\"yellow\"],\n",
    "    \"prices\":(12,3,4,5,32,6),\n",
    "    \"sales\":{\"good sales\"},\n",
    "    \"comples\":12+7j\n",
    "}\n",
    "x=thisdict.items()\n",
    "print(x)\n",
    "thisdict[\"year\"]=1983\n",
    "print(x)"
   ]
  },
  {
   "cell_type": "code",
   "execution_count": null,
   "id": "a58fb54b-ab09-4a24-9a17-98f56eb69bb3",
   "metadata": {},
   "outputs": [],
   "source": [
    "Add a new item to the original dictionary, and see that the items list gets updated as well:"
   ]
  },
  {
   "cell_type": "code",
   "execution_count": 71,
   "id": "cd8750e7-159b-4906-8f64-6c450971504c",
   "metadata": {},
   "outputs": [
    {
     "name": "stdout",
     "output_type": "stream",
     "text": [
      "dict_items([('brand', 'ford'), ('model', 'Mustang'), ('year', 1932), ('electric', False), ('colors', ['red', 'blue', 'yellow']), ('prices', (12, 3, 4, 5, 32, 6)), ('sales', {'good sales'}), ('comples', (12+7j))])\n",
      "dict_items([('brand', 'ford'), ('model', 'Mustang'), ('year', 1932), ('electric', False), ('colors', ['red', 'blue', 'yellow']), ('prices', (12, 3, 4, 5, 32, 6)), ('sales', {'good sales'}), ('comples', (12+7j)), ('height', 223)])\n"
     ]
    }
   ],
   "source": [
    "thisdict={\n",
    "    \"brand\":\"ford\",\n",
    "    \"model\":\"Mustang\",\n",
    "    \"year\":1932,\n",
    "    \"electric\":False,\n",
    "    \"colors\":[\"red\",\"blue\",\"yellow\"],\n",
    "    \"prices\":(12,3,4,5,32,6),\n",
    "    \"sales\":{\"good sales\"},\n",
    "    \"comples\":12+7j\n",
    "}\n",
    "x=thisdict.items()\n",
    "print(x)\n",
    "thisdict[\"height\"]=223\n",
    "print(x)"
   ]
  },
  {
   "cell_type": "code",
   "execution_count": null,
   "id": "daf29ef5-5c67-417a-9aa3-b3d8c76ecbdb",
   "metadata": {},
   "outputs": [],
   "source": [
    "9.Check If key exsits\n",
    "To determine if a specified key is preseneted in a disctionaries use the in keyword:"
   ]
  },
  {
   "cell_type": "code",
   "execution_count": 77,
   "id": "253d1cdc-1347-4384-81ab-fec9ff033558",
   "metadata": {},
   "outputs": [
    {
     "name": "stdout",
     "output_type": "stream",
     "text": [
      "yes\n"
     ]
    }
   ],
   "source": [
    "thisdict={\n",
    "    \"brand\":\"ford\",\n",
    "    \"model\":\"Mustang\",\n",
    "    \"year\":1932,\n",
    "    \"electric\":False,\n",
    "    \"colors\":[\"red\",\"blue\",\"yellow\"],\n",
    "    \"prices\":(12,3,4,5,32,6),\n",
    "    \"sales\":{\"good sales\"},\n",
    "    \"comples\":12+7j\n",
    "}\n",
    "if \"model\" in thisdict:\n",
    "    print(\"yes\")"
   ]
  },
  {
   "cell_type": "code",
   "execution_count": null,
   "id": "f59e5d08-f522-4f81-88f2-42d0cdb93c40",
   "metadata": {},
   "outputs": [],
   "source": [
    "10.change Dictionaries\n",
    "10.1 Change values :\n"
   ]
  },
  {
   "cell_type": "code",
   "execution_count": null,
   "id": "5f3ff547-268e-46d1-8dbd-978f22578f21",
   "metadata": {},
   "outputs": [],
   "source": [
    "We can change the values of every item by reffering to its key name:"
   ]
  },
  {
   "cell_type": "code",
   "execution_count": 79,
   "id": "cf910e6d-fe53-4d5d-b9ff-b9272e5ecda1",
   "metadata": {},
   "outputs": [
    {
     "name": "stdout",
     "output_type": "stream",
     "text": [
      "{'brand': 'royal', 'model': 'Mustang', 'year': 1932, 'electric': False, 'colors': ['red', 'blue', 'yellow'], 'prices': (12, 3, 4, 5, 32, 6), 'sales': {'good sales'}, 'comples': (12+7j)}\n"
     ]
    }
   ],
   "source": [
    "thisdict={\n",
    "    \"brand\":\"ford\",\n",
    "    \"model\":\"Mustang\",\n",
    "    \"year\":1932,\n",
    "    \"electric\":False,\n",
    "    \"colors\":[\"red\",\"blue\",\"yellow\"],\n",
    "    \"prices\":(12,3,4,5,32,6),\n",
    "    \"sales\":{\"good sales\"},\n",
    "    \"comples\":12+7j\n",
    "}\n",
    "thisdict[\"brand\"]=\"royal\"\n",
    "print(thisdict)"
   ]
  },
  {
   "cell_type": "code",
   "execution_count": null,
   "id": "c8e36137-4e42-491e-bc14-8ae413ac5c22",
   "metadata": {},
   "outputs": [],
   "source": [
    "10.2 Update dictionaries\n",
    "update() method will update the dictionaries with the items from the given arguement\n",
    "The arguement must be a dictionaries or an iterable object with key: values pairs"
   ]
  },
  {
   "cell_type": "code",
   "execution_count": 81,
   "id": "4f7f8fde-03ec-4cbb-8d21-8f5b3671e6ca",
   "metadata": {},
   "outputs": [
    {
     "name": "stdout",
     "output_type": "stream",
     "text": [
      "{'brand': 'ford', 'model': 'Mustang', 'year': 1779, 'electric': False, 'colors': ['red', 'blue', 'yellow'], 'prices': (12, 3, 4, 5, 32, 6), 'sales': {'good sales'}, 'comples': (12+7j)}\n"
     ]
    }
   ],
   "source": [
    "thisdict={\n",
    "    \"brand\":\"ford\",\n",
    "    \"model\":\"Mustang\",\n",
    "    \"year\":1932,\n",
    "    \"electric\":False,\n",
    "    \"colors\":[\"red\",\"blue\",\"yellow\"],\n",
    "    \"prices\":(12,3,4,5,32,6),\n",
    "    \"sales\":{\"good sales\"},\n",
    "    \"comples\":12+7j\n",
    "}\n",
    "thisdict.update({\"year\":1779})\n",
    "print(thisdict)"
   ]
  },
  {
   "cell_type": "code",
   "execution_count": null,
   "id": "b7a4ce08-8259-4e7d-a824-79c4f6c21def",
   "metadata": {},
   "outputs": [],
   "source": [
    "11.Adding Items:\n",
    "Addind a new itwm to the dictionary by using new index key and assighning value to it"
   ]
  },
  {
   "cell_type": "code",
   "execution_count": 85,
   "id": "7d26c8a0-9cbb-4a35-a6f2-c9c08ddc3265",
   "metadata": {},
   "outputs": [
    {
     "name": "stdout",
     "output_type": "stream",
     "text": [
      "{'brand': 'ford', 'model': 'Mustang', 'year': 1932, 'electric': False, 'colors': ['red', 'blue', 'yellow'], 'prices': (12, 3, 4, 5, 32, 6), 'sales': {'good sales'}, 'comples': (12+7j), 'city': ['india']}\n"
     ]
    }
   ],
   "source": [
    "thisdict={\n",
    "    \"brand\":\"ford\",\n",
    "    \"model\":\"Mustang\",\n",
    "    \"year\":1932,\n",
    "    \"electric\":False,\n",
    "    \"colors\":[\"red\",\"blue\",\"yellow\"],\n",
    "    \"prices\":(12,3,4,5,32,6),\n",
    "    \"sales\":{\"good sales\"},\n",
    "    \"comples\":12+7j\n",
    "}\n",
    "thisdict[\"city\"]=[\"india\"]\n",
    "print(thisdict)"
   ]
  },
  {
   "cell_type": "code",
   "execution_count": null,
   "id": "7602388d-68e5-470c-82c6-909da4847f1b",
   "metadata": {},
   "outputs": [],
   "source": [
    "update()\"Add a color item to the dictionary by using the update() method:"
   ]
  },
  {
   "cell_type": "code",
   "execution_count": 87,
   "id": "0f8e6b52-4123-4d48-9085-8ce0a0672ee4",
   "metadata": {},
   "outputs": [
    {
     "name": "stdout",
     "output_type": "stream",
     "text": [
      "{'brand': 'ford', 'model': 'Mustang', 'year': 1932, 'electric': False, 'colors': ['red', 'blue', 'yellow'], 'prices': (12, 3, 4, 5, 32, 6), 'sales': {'good sales'}, 'comples': (12+7j), 'contry': 'jamaika'}\n"
     ]
    }
   ],
   "source": [
    "thisdict={\n",
    "    \"brand\":\"ford\",\n",
    "    \"model\":\"Mustang\",\n",
    "    \"year\":1932,\n",
    "    \"electric\":False,\n",
    "    \"colors\":[\"red\",\"blue\",\"yellow\"],\n",
    "    \"prices\":(12,3,4,5,32,6),\n",
    "    \"sales\":{\"good sales\"},\n",
    "    \"comples\":12+7j\n",
    "}\n",
    "thisdict.update({\"contry\":\"jamaika\"})\n",
    "print(thisdict)"
   ]
  },
  {
   "cell_type": "code",
   "execution_count": null,
   "id": "08de3767-24f6-42c7-a406-3cfd6fb63a3d",
   "metadata": {},
   "outputs": [],
   "source": [
    "12.Removing Items:\n",
    "there are several methods remove items from a dictionaries"
   ]
  },
  {
   "cell_type": "code",
   "execution_count": null,
   "id": "79b6e839-a98a-4c95-a91e-d60bd0b4459b",
   "metadata": {},
   "outputs": [],
   "source": [
    "12.1->pop() : removes the item with the specified keyname"
   ]
  },
  {
   "cell_type": "code",
   "execution_count": 91,
   "id": "8bc0c63c-a94f-4383-aea7-a1243ee03366",
   "metadata": {},
   "outputs": [
    {
     "name": "stdout",
     "output_type": "stream",
     "text": [
      "{'brand': 'ford', 'model': 'Mustang', 'year': 1932, 'electric': False, 'colors': ['red', 'blue', 'yellow'], 'prices': (12, 3, 4, 5, 32, 6), 'sales': {'good sales'}}\n"
     ]
    }
   ],
   "source": [
    "thisdict={\n",
    "    \"brand\":\"ford\",\n",
    "    \"model\":\"Mustang\",\n",
    "    \"year\":1932,\n",
    "    \"electric\":False,\n",
    "    \"colors\":[\"red\",\"blue\",\"yellow\"],\n",
    "    \"prices\":(12,3,4,5,32,6),\n",
    "    \"sales\":{\"good sales\"},\n",
    "    \"comples\":12+7j\n",
    "}\n",
    "thisdict.pop(\"comples\")\n",
    "print(thisdict)"
   ]
  },
  {
   "cell_type": "code",
   "execution_count": null,
   "id": "1f23072d-cde9-4356-b4a2-65301ecbcaf1",
   "metadata": {},
   "outputs": [],
   "source": [
    "12.-> popitem() method removes the item of the last inserted "
   ]
  },
  {
   "cell_type": "code",
   "execution_count": 95,
   "id": "c7018ec7-d9e6-4b98-a9ef-182cdd6e4e15",
   "metadata": {},
   "outputs": [
    {
     "name": "stdout",
     "output_type": "stream",
     "text": [
      "{'brand': 'ford', 'model': 'Mustang', 'year': 1932, 'electric': False, 'colors': ['red', 'blue', 'yellow'], 'prices': (12, 3, 4, 5, 32, 6)}\n"
     ]
    }
   ],
   "source": [
    "thisdict={\n",
    "    \"brand\":\"ford\",\n",
    "    \"model\":\"Mustang\",\n",
    "    \"year\":1932,\n",
    "    \"electric\":False,\n",
    "    \"colors\":[\"red\",\"blue\",\"yellow\"],\n",
    "    \"prices\":(12,3,4,5,32,6),\n",
    "    \"sales\":{\"good sales\"},\n",
    "    \n",
    "}\n",
    "thisdict.popitem()\n",
    "print(thisdict)"
   ]
  },
  {
   "cell_type": "code",
   "execution_count": null,
   "id": "262eedc5-f2d0-46e4-806e-4618c123e020",
   "metadata": {},
   "outputs": [],
   "source": [
    "12.3 del keyword removes the item with the specified key name:"
   ]
  },
  {
   "cell_type": "code",
   "execution_count": 99,
   "id": "bcb2ba34-0013-4a41-b030-6a0004fa947c",
   "metadata": {},
   "outputs": [
    {
     "name": "stdout",
     "output_type": "stream",
     "text": [
      "{'brand': 'ford', 'year': 1932, 'electric': False, 'colors': ['red', 'blue', 'yellow'], 'prices': (12, 3, 4, 5, 32, 6), 'sales': {'good sales'}, 'comples': (12+7j)}\n"
     ]
    }
   ],
   "source": [
    "thisdict={\n",
    "    \"brand\":\"ford\",\n",
    "    \"model\":\"Mustang\",\n",
    "    \"year\":1932,\n",
    "    \"electric\":False,\n",
    "    \"colors\":[\"red\",\"blue\",\"yellow\"],\n",
    "    \"prices\":(12,3,4,5,32,6),\n",
    "    \"sales\":{\"good sales\"},\n",
    "    \"comples\":12+7j\n",
    "    \n",
    "}\n",
    "del thisdict[\"model\"]\n",
    "print(thisdict)"
   ]
  },
  {
   "cell_type": "code",
   "execution_count": 101,
   "id": "a4fad303-6685-4e07-89c3-4df44c81eb33",
   "metadata": {},
   "outputs": [
    {
     "ename": "NameError",
     "evalue": "name 'thisdict' is not defined",
     "output_type": "error",
     "traceback": [
      "\u001b[1;31m---------------------------------------------------------------------------\u001b[0m",
      "\u001b[1;31mNameError\u001b[0m                                 Traceback (most recent call last)",
      "Cell \u001b[1;32mIn[101], line 7\u001b[0m\n\u001b[0;32m      1\u001b[0m thisdict \u001b[38;5;241m=\u001b[39m {\n\u001b[0;32m      2\u001b[0m   \u001b[38;5;124m\"\u001b[39m\u001b[38;5;124mbrand\u001b[39m\u001b[38;5;124m\"\u001b[39m: \u001b[38;5;124m\"\u001b[39m\u001b[38;5;124mFord\u001b[39m\u001b[38;5;124m\"\u001b[39m,\n\u001b[0;32m      3\u001b[0m   \u001b[38;5;124m\"\u001b[39m\u001b[38;5;124mmodel\u001b[39m\u001b[38;5;124m\"\u001b[39m: \u001b[38;5;124m\"\u001b[39m\u001b[38;5;124mMustang\u001b[39m\u001b[38;5;124m\"\u001b[39m,\n\u001b[0;32m      4\u001b[0m   \u001b[38;5;124m\"\u001b[39m\u001b[38;5;124myear\u001b[39m\u001b[38;5;124m\"\u001b[39m: \u001b[38;5;241m1964\u001b[39m\n\u001b[0;32m      5\u001b[0m }\n\u001b[0;32m      6\u001b[0m \u001b[38;5;28;01mdel\u001b[39;00m thisdict\n\u001b[1;32m----> 7\u001b[0m \u001b[38;5;28mprint\u001b[39m(thisdict)\n",
      "\u001b[1;31mNameError\u001b[0m: name 'thisdict' is not defined"
     ]
    }
   ],
   "source": [
    "thisdict = {\n",
    "  \"brand\": \"Ford\",\n",
    "  \"model\": \"Mustang\",\n",
    "  \"year\": 1964\n",
    "}\n",
    "del thisdict\n",
    "print(thisdict) # it means deleted "
   ]
  },
  {
   "cell_type": "code",
   "execution_count": null,
   "id": "21b45705-5324-4777-8b21-af029fb0616b",
   "metadata": {},
   "outputs": [],
   "source": [
    "12.6 clear() method empties the dictionaries"
   ]
  },
  {
   "cell_type": "code",
   "execution_count": 103,
   "id": "77d1407a-675e-471f-96c7-060cc14b1968",
   "metadata": {},
   "outputs": [
    {
     "name": "stdout",
     "output_type": "stream",
     "text": [
      "{}\n"
     ]
    }
   ],
   "source": [
    "thisdict = {\n",
    "  \"brand\": \"Ford\",\n",
    "  \"model\": \"Mustang\",\n",
    "  \"year\": 1964\n",
    "}\n",
    "thisdict.clear()\n",
    "print(thisdict)"
   ]
  },
  {
   "cell_type": "code",
   "execution_count": null,
   "id": "88a06821-a28d-4e22-94b1-7e7e986d2bd0",
   "metadata": {},
   "outputs": [],
   "source": [
    "13.loop through dictionaries\n",
    "we can loop through the dictionaries by sing a for loop.\n",
    "when looping through a dictionaries the return value are the keys of the dictionaries but there are methods to return the values as well"
   ]
  },
  {
   "cell_type": "code",
   "execution_count": 111,
   "id": "8d84d3f4-7ba3-43a7-93fd-dbca3952543f",
   "metadata": {},
   "outputs": [
    {
     "name": "stdout",
     "output_type": "stream",
     "text": [
      "brand\n",
      "model\n",
      "year\n",
      "electric\n",
      "colors\n",
      "prices\n",
      "sales\n",
      "comples\n"
     ]
    }
   ],
   "source": [
    "# Print all key names in the dictionary, one by one:\n",
    "thisdict={\n",
    "    \"brand\":\"ford\",\n",
    "    \"model\":\"Mustang\",\n",
    "    \"year\":1932,\n",
    "    \"electric\":False,\n",
    "    \"colors\":[\"red\",\"blue\",\"yellow\"],\n",
    "    \"prices\":(12,3,4,5,32,6),\n",
    "    \"sales\":{\"good sales\"},\n",
    "    \"comples\":12+7j\n",
    "    \n",
    "}\n",
    "for i in thisdict:\n",
    "   print(i)"
   ]
  },
  {
   "cell_type": "code",
   "execution_count": 113,
   "id": "85a5a140-ebcc-4a37-8712-b8159710b0f5",
   "metadata": {},
   "outputs": [
    {
     "name": "stdout",
     "output_type": "stream",
     "text": [
      "ford\n",
      "Mustang\n",
      "1932\n",
      "False\n",
      "['red', 'blue', 'yellow']\n",
      "(12, 3, 4, 5, 32, 6)\n",
      "{'good sales'}\n",
      "(12+7j)\n"
     ]
    }
   ],
   "source": [
    "thisdict={\n",
    "    \"brand\":\"ford\",\n",
    "    \"model\":\"Mustang\",\n",
    "    \"year\":1932,\n",
    "    \"electric\":False,\n",
    "    \"colors\":[\"red\",\"blue\",\"yellow\"],\n",
    "    \"prices\":(12,3,4,5,32,6),\n",
    "    \"sales\":{\"good sales\"},\n",
    "    \"comples\":12+7j\n",
    "    \n",
    "}\n",
    "for i in thisdict:\n",
    "    print(thisdict[i])"
   ]
  },
  {
   "cell_type": "code",
   "execution_count": null,
   "id": "f41081af-ae19-4560-a0a3-f9067237c0f4",
   "metadata": {},
   "outputs": [],
   "source": [
    "You can also use the values() method to return values of a dictionary:"
   ]
  },
  {
   "cell_type": "code",
   "execution_count": 115,
   "id": "ae46f84b-4bc5-4a63-b4f6-7ea59ed8381d",
   "metadata": {},
   "outputs": [
    {
     "name": "stdout",
     "output_type": "stream",
     "text": [
      "ford\n",
      "Mustang\n",
      "1932\n",
      "False\n",
      "['red', 'blue', 'yellow']\n",
      "(12, 3, 4, 5, 32, 6)\n",
      "{'good sales'}\n",
      "(12+7j)\n"
     ]
    }
   ],
   "source": [
    "for i in thisdict.values():\n",
    "    print(i)"
   ]
  },
  {
   "cell_type": "code",
   "execution_count": null,
   "id": "3d27dbdc-b521-4552-a905-d054f8c09e9b",
   "metadata": {},
   "outputs": [],
   "source": [
    "You can use the keys() method to return the keys of a dictionary:"
   ]
  },
  {
   "cell_type": "code",
   "execution_count": 117,
   "id": "6dacb15a-3537-44e0-ae07-bcd73ab765f6",
   "metadata": {},
   "outputs": [
    {
     "name": "stdout",
     "output_type": "stream",
     "text": [
      "brand\n",
      "model\n",
      "year\n",
      "electric\n",
      "colors\n",
      "prices\n",
      "sales\n",
      "comples\n"
     ]
    }
   ],
   "source": [
    "for i in thisdict.keys():\n",
    "    print(i)"
   ]
  },
  {
   "cell_type": "code",
   "execution_count": null,
   "id": "514c0aa3-8475-486e-9e5d-31c052d0372d",
   "metadata": {},
   "outputs": [],
   "source": [
    "Loop through both keys and values, by using the items() method:"
   ]
  },
  {
   "cell_type": "code",
   "execution_count": 123,
   "id": "61292a60-af94-41a3-b7de-b96ce064f678",
   "metadata": {},
   "outputs": [
    {
     "name": "stdout",
     "output_type": "stream",
     "text": [
      "('brand', 'ford')\n",
      "('model', 'Mustang')\n",
      "('year', 1932)\n",
      "('electric', False)\n",
      "('colors', ['red', 'blue', 'yellow'])\n",
      "('prices', (12, 3, 4, 5, 32, 6))\n",
      "('sales', {'good sales'})\n",
      "('comples', (12+7j))\n"
     ]
    }
   ],
   "source": [
    "for i in thisdict.items():\n",
    "    print(i)"
   ]
  },
  {
   "cell_type": "code",
   "execution_count": 125,
   "id": "ef3e94f0-c4b4-4303-a275-46c34fb09020",
   "metadata": {},
   "outputs": [
    {
     "name": "stdout",
     "output_type": "stream",
     "text": [
      "brand ford\n",
      "model Mustang\n",
      "year 1932\n",
      "electric False\n",
      "colors ['red', 'blue', 'yellow']\n",
      "prices (12, 3, 4, 5, 32, 6)\n",
      "sales {'good sales'}\n",
      "comples (12+7j)\n"
     ]
    }
   ],
   "source": [
    "for i,j in thisdict.items():\n",
    "    print(i,j)"
   ]
  },
  {
   "cell_type": "code",
   "execution_count": null,
   "id": "fd8f7a1a-3904-4866-8178-208803440304",
   "metadata": {},
   "outputs": [],
   "source": [
    "14.copy() :\n",
    "to copy of one dictionary from another"
   ]
  },
  {
   "cell_type": "code",
   "execution_count": 127,
   "id": "7d837dc9-be1a-4bcc-b98f-8cfb9894a24a",
   "metadata": {},
   "outputs": [
    {
     "name": "stdout",
     "output_type": "stream",
     "text": [
      "{'brand': 'ford', 'model': 'Mustang', 'year': 1932, 'electric': False, 'colors': ['red', 'blue', 'yellow'], 'prices': (12, 3, 4, 5, 32, 6), 'sales': {'good sales'}, 'comples': (12+7j)}\n"
     ]
    }
   ],
   "source": [
    "thisdict={\n",
    "    \"brand\":\"ford\",\n",
    "    \"model\":\"Mustang\",\n",
    "    \"year\":1932,\n",
    "    \"electric\":False,\n",
    "    \"colors\":[\"red\",\"blue\",\"yellow\"],\n",
    "    \"prices\":(12,3,4,5,32,6),\n",
    "    \"sales\":{\"good sales\"},\n",
    "    \"comples\":12+7j\n",
    "    \n",
    "}\n",
    "mydict=thisdict.copy()\n",
    "print(mydict)"
   ]
  },
  {
   "cell_type": "code",
   "execution_count": null,
   "id": "39fc23b4-2448-4b10-9568-c2d2fb6039cc",
   "metadata": {},
   "outputs": [],
   "source": [
    "dict()\"Another way to make a copy is to use the built-in function dict()."
   ]
  },
  {
   "cell_type": "code",
   "execution_count": 129,
   "id": "bf1c0073-31a3-457b-ae64-223ec23a467d",
   "metadata": {},
   "outputs": [
    {
     "name": "stdout",
     "output_type": "stream",
     "text": [
      "{'brand': 'ford', 'model': 'Mustang', 'year': 1932, 'electric': False, 'colors': ['red', 'blue', 'yellow'], 'prices': (12, 3, 4, 5, 32, 6), 'sales': {'good sales'}, 'comples': (12+7j)}\n"
     ]
    }
   ],
   "source": [
    "thisdict={\n",
    "    \"brand\":\"ford\",\n",
    "    \"model\":\"Mustang\",\n",
    "    \"year\":1932,\n",
    "    \"electric\":False,\n",
    "    \"colors\":[\"red\",\"blue\",\"yellow\"],\n",
    "    \"prices\":(12,3,4,5,32,6),\n",
    "    \"sales\":{\"good sales\"},\n",
    "    \"comples\":12+7j\n",
    "    \n",
    "}\n",
    "mydict=dict(thisdict)\n",
    "print(mydict)"
   ]
  },
  {
   "cell_type": "code",
   "execution_count": null,
   "id": "99d46f62-88b2-4498-bca6-b9028aa16f85",
   "metadata": {},
   "outputs": [],
   "source": [
    "15.nested dictionaries\n",
    "\n",
    "a dictionary contain dictionaries this is called nested dictonaries"
   ]
  },
  {
   "cell_type": "code",
   "execution_count": 131,
   "id": "a28d02cf-fbe4-42ba-b081-7cae211cb8a0",
   "metadata": {},
   "outputs": [
    {
     "name": "stdout",
     "output_type": "stream",
     "text": [
      "{'child': {'name': 'vasu', 'age': 19}, 'parent': {'narayana': 'amma', 'age': 50}, 'parent2': {'name': 'ramu', 'age': 70}}\n"
     ]
    }
   ],
   "source": [
    "myfamily={\n",
    "    \"child\":{\n",
    "       \"name\":\"vasu\",\n",
    "        \"age\":19\n",
    "    },\n",
    "    \"parent\":{\n",
    "        \"narayana\":\"amma\",\n",
    "        \"age\":50\n",
    "    },\n",
    "    \"parent2\":{\n",
    "        \"name\":\"ramu\",\n",
    "        \"age\":70\n",
    "    }\n",
    "}\n",
    "print(myfamily)"
   ]
  },
  {
   "cell_type": "code",
   "execution_count": null,
   "id": "4e82a41c-3771-457a-9845-62fb1525f1e9",
   "metadata": {},
   "outputs": [],
   "source": [
    "if you want add  three difrent dictionaries to one "
   ]
  },
  {
   "cell_type": "code",
   "execution_count": 135,
   "id": "f4bfe1a3-ed65-4adf-b72d-9eb958b4ef2f",
   "metadata": {},
   "outputs": [
    {
     "name": "stdout",
     "output_type": "stream",
     "text": [
      "{'child1': {'name': 'vasu', 'age': 19}, 'child2': {'name': 'Tobias', 'year': 2007}, 'child3': {'name': 'Linus', 'year': 2011}}\n"
     ]
    }
   ],
   "source": [
    "child={\n",
    "       \"name\":\"vasu\",\n",
    "        \"age\":19\n",
    "    }\n",
    "child2 = {\n",
    "  \"name\" : \"Tobias\",\n",
    "  \"year\" : 2007\n",
    "}\n",
    "child3 = {\n",
    "  \"name\" : \"Linus\",\n",
    "  \"year\" : 2011\n",
    "}\n",
    "myfamily={\n",
    "    \"child1\":child,\n",
    "    \"child2\":child2,\n",
    "    \"child3\":child3\n",
    "}\n",
    "print(myfamily)\n"
   ]
  },
  {
   "cell_type": "code",
   "execution_count": null,
   "id": "01a16fd9-3ec2-4853-84b7-565b4bbedbf0",
   "metadata": {},
   "outputs": [],
   "source": [
    "15.Access Items in Nested Dictionaries:\n",
    "to acces items from nested dictionary you use the  name of the dictionaries starting with the outer dictionaries:"
   ]
  },
  {
   "cell_type": "code",
   "execution_count": 165,
   "id": "ca7bc9ec-7ffd-4cb0-a5c8-033f71af03e2",
   "metadata": {},
   "outputs": [
    {
     "name": "stdout",
     "output_type": "stream",
     "text": [
      "dict_items([('name', 'vasu'), ('age', 19)])\n"
     ]
    }
   ],
   "source": [
    "myfamily={\n",
    "    \"child\":{\n",
    "       \"name\":\"vasu\",\n",
    "        \"age\":19\n",
    "    },\n",
    "    \"parent\":{\n",
    "        \"narayana\":\"amma\",\n",
    "        \"age\":50\n",
    "    },\n",
    "    \"parent2\":{\n",
    "        \"name\":\"ramu\",\n",
    "        \"age\":70\n",
    "    }\n",
    "}\n",
    "print(myfamily[\"child\"].items())"
   ]
  },
  {
   "cell_type": "code",
   "execution_count": 167,
   "id": "920b4444-460b-413b-b209-737e7cfd8160",
   "metadata": {},
   "outputs": [
    {
     "name": "stdout",
     "output_type": "stream",
     "text": [
      "dict_values(['vasu', 19])\n"
     ]
    }
   ],
   "source": [
    "print(myfamily[\"child\"].values())"
   ]
  },
  {
   "cell_type": "code",
   "execution_count": 169,
   "id": "224e66c1-4dc6-47c0-a034-2dac804224eb",
   "metadata": {},
   "outputs": [
    {
     "name": "stdout",
     "output_type": "stream",
     "text": [
      "dict_keys(['name', 'age'])\n"
     ]
    }
   ],
   "source": [
    "print(myfamily[\"child\"].keys())"
   ]
  },
  {
   "cell_type": "code",
   "execution_count": 171,
   "id": "8081a05d-ecd1-4584-ae5c-136f1d3d504a",
   "metadata": {},
   "outputs": [
    {
     "name": "stdout",
     "output_type": "stream",
     "text": [
      "{'name': 'vasu', 'age': 19}\n"
     ]
    }
   ],
   "source": [
    "print(myfamily[\"child\"])"
   ]
  },
  {
   "cell_type": "code",
   "execution_count": 179,
   "id": "abc4ed34-6647-41dd-9399-1bc125760fbc",
   "metadata": {},
   "outputs": [
    {
     "name": "stdout",
     "output_type": "stream",
     "text": [
      "dict_values(['vasu', 19]) {'narayana': 'amma', 'age': 50}\n"
     ]
    }
   ],
   "source": [
    "print(myfamily[\"child\"],myfamily[\"parent\"])"
   ]
  },
  {
   "cell_type": "code",
   "execution_count": 181,
   "id": "45db6e8b-d453-4e4f-8006-11ea59ab543e",
   "metadata": {},
   "outputs": [
    {
     "name": "stdout",
     "output_type": "stream",
     "text": [
      "dict_keys(['name', 'age']) dict_values(['amma', 50]) dict_items([('name', 'ramu'), ('age', 70)])\n"
     ]
    }
   ],
   "source": [
    "print(myfamily[\"child\"].keys(),myfamily[\"parent\"].values(),myfamily[\"parent2\"].items())"
   ]
  },
  {
   "cell_type": "code",
   "execution_count": null,
   "id": "9531a531-17fb-41cb-b4bc-075ca27e56e7",
   "metadata": {},
   "outputs": [],
   "source": [
    "17.Loop Through Nested Dictionaries:\n",
    "you can loop through  a dictionary by using items() method "
   ]
  },
  {
   "cell_type": "code",
   "execution_count": 191,
   "id": "3721a54e-5c1b-48e5-86da-6fd20fad9a7d",
   "metadata": {},
   "outputs": [
    {
     "name": "stdout",
     "output_type": "stream",
     "text": [
      "child\n",
      "name: vasu\n",
      "age: 19\n",
      "parent\n",
      "narayana: amma\n",
      "age: 50\n",
      "parent2\n",
      "name: ramu\n",
      "age: 70\n"
     ]
    }
   ],
   "source": [
    "myfamily={\n",
    "    \"child\":{\n",
    "       \"name\":\"vasu\",\n",
    "        \"age\":19\n",
    "    },\n",
    "    \"parent\":{\n",
    "        \"narayana\":\"amma\",\n",
    "        \"age\":50\n",
    "    },\n",
    "    \"parent2\":{\n",
    "        \"name\":\"ramu\",\n",
    "        \"age\":70\n",
    "    }\n",
    "}\n",
    "for i,obj in myfamily.items():\n",
    "    print(i)\n",
    "    for y in obj:\n",
    "        print(y+':',obj[y])"
   ]
  },
  {
   "cell_type": "code",
   "execution_count": 195,
   "id": "9e71070e-be99-4cfe-980f-d78e7b699bf1",
   "metadata": {},
   "outputs": [
    {
     "name": "stdout",
     "output_type": "stream",
     "text": [
      "Mustang\n",
      "{'brand': 'Ford', 'model': 'Mustang', 'year': 1964}\n"
     ]
    }
   ],
   "source": [
    "# setdefault()\n",
    "car = {\n",
    "  \"brand\": \"Ford\",\n",
    "  \"model\": \"Mustang\",\n",
    "  \"year\": 1964\n",
    "}\n",
    "\n",
    "x = car.setdefault(\"model\", \"Bronco\")\n",
    "\n",
    "print(x)\n",
    "print(car)"
   ]
  },
  {
   "cell_type": "code",
   "execution_count": 197,
   "id": "ef115c3c-08ab-49a9-bbba-f1b18aef9aa2",
   "metadata": {},
   "outputs": [
    {
     "name": "stdout",
     "output_type": "stream",
     "text": [
      "{'key1': 0, 'key2': 0, 'key3': 0}\n"
     ]
    }
   ],
   "source": [
    "x = ('key1', 'key2', 'key3')\n",
    "y = 0\n",
    "\n",
    "thisdict = dict.fromkeys(x, y)\n",
    "\n",
    "\n",
    "print(thisdict)"
   ]
  },
  {
   "cell_type": "code",
   "execution_count": 199,
   "id": "723ceca1-83e0-4b3a-b409-5c2e6e728000",
   "metadata": {},
   "outputs": [
    {
     "name": "stdout",
     "output_type": "stream",
     "text": [
      "{'key1': None, 'key2': None, 'key3': None}\n"
     ]
    }
   ],
   "source": [
    "x = ('key1', 'key2', 'key3')\n",
    "\n",
    "thisdict = dict.fromkeys(x)\n",
    "\n",
    "print(thisdict)"
   ]
  },
  {
   "cell_type": "code",
   "execution_count": null,
   "id": "48a72b33-7987-4060-9a79-f0d58881f97e",
   "metadata": {},
   "outputs": [],
   "source": []
  },
  {
   "cell_type": "code",
   "execution_count": null,
   "id": "8cedcf11-7749-48db-89c8-c7c07d8aaa8a",
   "metadata": {},
   "outputs": [],
   "source": []
  },
  {
   "cell_type": "code",
   "execution_count": null,
   "id": "00cd7632-55c8-4b04-b157-42f0f88f2547",
   "metadata": {},
   "outputs": [],
   "source": []
  },
  {
   "cell_type": "code",
   "execution_count": null,
   "id": "e5d27679-b0cc-43b5-828c-6313e07ddb83",
   "metadata": {},
   "outputs": [],
   "source": []
  },
  {
   "cell_type": "code",
   "execution_count": null,
   "id": "8b4ce28c-037e-4dc8-995c-05b6b7ebb0cf",
   "metadata": {},
   "outputs": [],
   "source": []
  },
  {
   "cell_type": "code",
   "execution_count": null,
   "id": "8b9d103d-af85-4cae-b9af-529331f1755e",
   "metadata": {},
   "outputs": [],
   "source": []
  },
  {
   "cell_type": "code",
   "execution_count": null,
   "id": "3f429777-b5ea-4bae-bc3b-162a2424b95a",
   "metadata": {},
   "outputs": [],
   "source": []
  }
 ],
 "metadata": {
  "kernelspec": {
   "display_name": "Python 3 (ipykernel)",
   "language": "python",
   "name": "python3"
  },
  "language_info": {
   "codemirror_mode": {
    "name": "ipython",
    "version": 3
   },
   "file_extension": ".py",
   "mimetype": "text/x-python",
   "name": "python",
   "nbconvert_exporter": "python",
   "pygments_lexer": "ipython3",
   "version": "3.12.4"
  }
 },
 "nbformat": 4,
 "nbformat_minor": 5
}
