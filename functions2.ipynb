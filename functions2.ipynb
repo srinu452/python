{
 "cells": [
  {
   "cell_type": "code",
   "execution_count": null,
   "id": "a7d37121-1876-4990-9954-991ee59fe668",
   "metadata": {},
   "outputs": [],
   "source": [
    "          '''Python functions''''"
   ]
  },
  {
   "cell_type": "code",
   "execution_count": null,
   "id": "47ea2b04-af8d-4e31-a373-e6d2e9b02619",
   "metadata": {},
   "outputs": [],
   "source": [
    "1.A function is a block of code which only runs when it is called\n",
    "2.We can pass the data know as parameters into a function\n",
    "3.A function can return data as a result."
   ]
  },
  {
   "cell_type": "code",
   "execution_count": null,
   "id": "c8fdb822-5c18-4d78-87cc-c9460fc8d26f",
   "metadata": {},
   "outputs": [],
   "source": [
    "**Creating a Function**\n",
    "In python a function is defined using def keyword:"
   ]
  },
  {
   "cell_type": "code",
   "execution_count": 3,
   "id": "be26d95b-af2f-4221-a712-be8ff62e8df7",
   "metadata": {},
   "outputs": [
    {
     "name": "stdout",
     "output_type": "stream",
     "text": [
      "Hello from a function\n"
     ]
    }
   ],
   "source": [
    "def my_function():\n",
    "    print(\"Hello from a function\")\n",
    "my_function()"
   ]
  },
  {
   "cell_type": "code",
   "execution_count": null,
   "id": "e30c8a8a-9eda-42d2-9813-e54752139239",
   "metadata": {},
   "outputs": [],
   "source": [
    "**Calling a Function**\n",
    "To call a function,use the function name followed by paranthesis"
   ]
  },
  {
   "cell_type": "code",
   "execution_count": 5,
   "id": "6415705e-7cba-48eb-a9cc-2bb72ca9e4fa",
   "metadata": {},
   "outputs": [
    {
     "name": "stdout",
     "output_type": "stream",
     "text": [
      "Hello from a function\n"
     ]
    }
   ],
   "source": [
    "def my_function():\n",
    "  print(\"Hello from a function\")\n",
    "\n",
    "my_function()"
   ]
  },
  {
   "cell_type": "code",
   "execution_count": null,
   "id": "5266156e-b096-4294-a632-3ae3c943871d",
   "metadata": {},
   "outputs": [],
   "source": [
    "**Arguements**\n",
    "1.Information can be passed in a functions as arguments\n",
    "2.Arguments are specified after the function name,inside the parentheses\n",
    "3.We can add as many arguments as our need,jusr seperate them with a comma.\n",
    "4."
   ]
  },
  {
   "cell_type": "code",
   "execution_count": 7,
   "id": "f276726c-ccd6-48b2-8b43-57c6305b5419",
   "metadata": {},
   "outputs": [
    {
     "name": "stdout",
     "output_type": "stream",
     "text": [
      "emailresnes\n"
     ]
    }
   ],
   "source": [
    "def my_function(fname):\n",
    "    print(fname+\"resnes\")\n",
    "my_function(\"email\")"
   ]
  },
  {
   "cell_type": "code",
   "execution_count": null,
   "id": "020cdfbe-8b5f-4b44-9758-0e0c6a86830f",
   "metadata": {},
   "outputs": [],
   "source": [
    "** Parameters or Arguements?\n",
    "The terms parameters and arguments can be use for the same thing:\n",
    "                                             information that are passed into afunction."
   ]
  },
  {
   "cell_type": "code",
   "execution_count": null,
   "id": "1cf22aeb-9814-4f96-a4d9-4980f79dd0be",
   "metadata": {},
   "outputs": [],
   "source": [
    "1.A parameter is the variable listed inside the parentheses in the function definition.\n",
    "2.An argument is the value that is sent to the function when it is called."
   ]
  },
  {
   "cell_type": "code",
   "execution_count": null,
   "id": "b35f8162-502c-4ff1-9e47-d77965a4a5ee",
   "metadata": {},
   "outputs": [],
   "source": [
    "** Number of Arguments\n",
    "By default, a function must be called with the correct number of arguements .\n",
    "Meaning that if your function expects 2 arguments ,you have to call function with 2 arguments ,not more and not less"
   ]
  },
  {
   "cell_type": "code",
   "execution_count": 11,
   "id": "5593edff-4dd6-4fdb-9f86-291c98827328",
   "metadata": {},
   "outputs": [
    {
     "name": "stdout",
     "output_type": "stream",
     "text": [
      "srini vasulu\n"
     ]
    }
   ],
   "source": [
    "def my_function(fname, lname):\n",
    "  print(fname + \" \" + lname)\n",
    "\n",
    "my_function(\"srini\", \"vasulu\")"
   ]
  },
  {
   "cell_type": "code",
   "execution_count": null,
   "id": "9294b261-1d93-4fcc-833a-5449a0ab755f",
   "metadata": {},
   "outputs": [],
   "source": [
    "If you try to call the function with 1 or 3 arguments, you will get an error:"
   ]
  },
  {
   "cell_type": "code",
   "execution_count": 13,
   "id": "82351fe0-e84a-4ef6-b5b1-9c5ac42ae5e7",
   "metadata": {},
   "outputs": [
    {
     "ename": "TypeError",
     "evalue": "my_function() missing 1 required positional argument: 'lname'",
     "output_type": "error",
     "traceback": [
      "\u001b[1;31m---------------------------------------------------------------------------\u001b[0m",
      "\u001b[1;31mTypeError\u001b[0m                                 Traceback (most recent call last)",
      "Cell \u001b[1;32mIn[13], line 4\u001b[0m\n\u001b[0;32m      1\u001b[0m \u001b[38;5;28;01mdef\u001b[39;00m \u001b[38;5;21mmy_function\u001b[39m(fname, lname):\n\u001b[0;32m      2\u001b[0m   \u001b[38;5;28mprint\u001b[39m(fname \u001b[38;5;241m+\u001b[39m \u001b[38;5;124m\"\u001b[39m\u001b[38;5;124m \u001b[39m\u001b[38;5;124m\"\u001b[39m \u001b[38;5;241m+\u001b[39m lname)\n\u001b[1;32m----> 4\u001b[0m my_function(\u001b[38;5;124m\"\u001b[39m\u001b[38;5;124msrini\u001b[39m\u001b[38;5;124m\"\u001b[39m)\n",
      "\u001b[1;31mTypeError\u001b[0m: my_function() missing 1 required positional argument: 'lname'"
     ]
    }
   ],
   "source": [
    "def my_function(fname, lname):\n",
    "  print(fname + \" \" + lname)\n",
    "\n",
    "my_function(\"srini\")"
   ]
  },
  {
   "cell_type": "code",
   "execution_count": null,
   "id": "42d3e9fa-784a-46b1-8f29-824eff0ae2a7",
   "metadata": {},
   "outputs": [],
   "source": [
    "**Arbitary Arguments ,*args\n",
    "\n",
    "If we do not know how many arguments that will passed into our function\n",
    "add * before the parameter name in the function defination\n",
    "\n",
    "This way the function will recieve a tuple of arguments and can access the items accordingly"
   ]
  },
  {
   "cell_type": "code",
   "execution_count": 33,
   "id": "eb9b61b1-1c3e-4cb5-a288-9a17c1276043",
   "metadata": {},
   "outputs": [
    {
     "name": "stdout",
     "output_type": "stream",
     "text": [
      "My name is:sri\n"
     ]
    }
   ],
   "source": [
    "def my_function(*name):\n",
    "    print(\"My name is:\"+name[0])\n",
    "\n",
    "my_function(\"sri\",\"vasu\",\"gadham\")"
   ]
  },
  {
   "cell_type": "code",
   "execution_count": null,
   "id": "c237d32c-308b-4709-a63d-9613ebbf219a",
   "metadata": {},
   "outputs": [],
   "source": [
    "**keyword Arguments**\n",
    "we can also send arguments with the key=value synatx\n",
    "this way order of the arguements does not matter."
   ]
  },
  {
   "cell_type": "code",
   "execution_count": 49,
   "id": "dff7bf4b-c786-4292-b6ed-9d99c09c9839",
   "metadata": {},
   "outputs": [
    {
     "name": "stdout",
     "output_type": "stream",
     "text": [
      "the youngest child is :sai\n"
     ]
    }
   ],
   "source": [
    "def my_function(child3,child2,child1):\n",
    "    print(\"the youngest child is :\"+child3)\n",
    "\n",
    "my_function(child1=\"vasu\",child2=\"sri\",child3=\"sai\")"
   ]
  },
  {
   "cell_type": "code",
   "execution_count": null,
   "id": "dad94646-0554-445d-8452-9929b925f94f",
   "metadata": {},
   "outputs": [],
   "source": [
    "\"\"\"Arbitary Keyword Arguments\"\"\"\n",
    "**kwargs\n",
    "If you do not know how many keyword arguments that will be passed into your function, add two asterisk: \n",
    "** before the parameter name in the function definition.\n"
   ]
  },
  {
   "cell_type": "code",
   "execution_count": 53,
   "id": "55aa771f-4d52-4488-a1ed-fd46709c1bde",
   "metadata": {},
   "outputs": [
    {
     "name": "stdout",
     "output_type": "stream",
     "text": [
      "His last name is:vasu\n"
     ]
    }
   ],
   "source": [
    "def my_function(**kid):\n",
    "    print(\"His last name is:\"+kid[\"fname\"])\n",
    "\n",
    "my_function(fname=\"vasu\",lname=\"sai\")"
   ]
  },
  {
   "cell_type": "code",
   "execution_count": null,
   "id": "f3b4cc38-a705-4232-96f2-f7ac5fe33336",
   "metadata": {},
   "outputs": [],
   "source": [
    "\"\"\"Default parameter value\"\"\"\n",
    "The following example shows how to use a default parameter value.\n",
    "\n",
    "If we call the function without argument, it uses the default value:"
   ]
  },
  {
   "cell_type": "code",
   "execution_count": 63,
   "id": "e9f116ad-5ef0-462f-b466-e40708291ece",
   "metadata": {},
   "outputs": [
    {
     "name": "stdout",
     "output_type": "stream",
     "text": [
      "I am an sweden\n",
      "I am an India\n",
      "I am an indian\n"
     ]
    }
   ],
   "source": [
    "def my_function(country=\"indian\"):\n",
    "    print(\"I am an \"+country)\n",
    "\n",
    "my_function(\"sweden\")\n",
    "my_function(\"India\")\n",
    "my_function()\n"
   ]
  },
  {
   "cell_type": "code",
   "execution_count": null,
   "id": "073a031a-b7dc-4541-880b-ad9046411b49",
   "metadata": {},
   "outputs": [],
   "source": [
    "\"\"\"Passing a List as an Argument\"\"\"\n",
    "We can send any data types of arguements to a function(string,number,list,dictionary)\n",
    "and it will treated as the same data type inside the function."
   ]
  },
  {
   "cell_type": "code",
   "execution_count": 87,
   "id": "b30eaf09-4289-4624-944a-3d692105ae4c",
   "metadata": {},
   "outputs": [
    {
     "name": "stdout",
     "output_type": "stream",
     "text": [
      "apple\n",
      "banana\n",
      "cherry\n"
     ]
    }
   ],
   "source": [
    "def my_function(food):\n",
    "    for i in food:\n",
    "        print(i)\n",
    "\n",
    "fruits=[\"apple\",\"banana\",\"cherry\"]\n",
    "my_function(fruits)"
   ]
  },
  {
   "cell_type": "code",
   "execution_count": 89,
   "id": "52090d70-0ae2-4d2d-b7da-079e94176800",
   "metadata": {},
   "outputs": [
    {
     "data": {
      "text/plain": [
       "'Return Values'"
      ]
     },
     "execution_count": 89,
     "metadata": {},
     "output_type": "execute_result"
    }
   ],
   "source": [
    "\"\"\"Return Values\"\"\"\n",
    "TO let a function return a value,use the return statement:\n"
   ]
  },
  {
   "cell_type": "code",
   "execution_count": 97,
   "id": "8f7fddf9-9f72-439b-bb94-e919dc685c36",
   "metadata": {},
   "outputs": [
    {
     "name": "stdout",
     "output_type": "stream",
     "text": [
      "8\n",
      "20\n",
      "36\n"
     ]
    }
   ],
   "source": [
    "def my_function(x):\n",
    "    return x*4\n",
    "\n",
    "print(my_function(2))\n",
    "print(my_function(5))\n",
    "print(my_function(9))"
   ]
  },
  {
   "cell_type": "code",
   "execution_count": null,
   "id": "786b904b-1bb9-4ba2-be3e-9bd1275173a2",
   "metadata": {},
   "outputs": [],
   "source": [
    "\"\"\"The pass Statement\"\"\""
   ]
  },
  {
   "cell_type": "code",
   "execution_count": null,
   "id": "ba328724-af69-4928-93b2-7b713096431a",
   "metadata": {},
   "outputs": [],
   "source": [
    "function definitions cannot be empty, but if you for some reason have a function definition with no content, put in the pass statement to avoid getting an error.\n",
    "\n"
   ]
  },
  {
   "cell_type": "code",
   "execution_count": 103,
   "id": "23263663-aa32-4cea-a51d-0d6e1d217822",
   "metadata": {},
   "outputs": [],
   "source": [
    "def myfunction(s):\n",
    "    pass\n",
    "\n",
    "myfunction(\"hi\")"
   ]
  },
  {
   "cell_type": "code",
   "execution_count": null,
   "id": "e0159193-4c4e-4f11-bf42-8b846c5de2bd",
   "metadata": {},
   "outputs": [],
   "source": [
    "\"\"\"Positional-Only Arguments\"\"\""
   ]
  },
  {
   "cell_type": "code",
   "execution_count": null,
   "id": "a68e3a64-903b-4998-bfe1-e500cb29da34",
   "metadata": {},
   "outputs": [],
   "source": [
    "We can specify that a function can have only positional arguments or only keyword arguments.\n"
   ]
  },
  {
   "cell_type": "code",
   "execution_count": null,
   "id": "a256aa7a-56ce-4560-8584-9d0d691b41c8",
   "metadata": {},
   "outputs": [],
   "source": [
    "To specify that a function can have only positional arguments, add , / after the arguments:"
   ]
  },
  {
   "cell_type": "code",
   "execution_count": 117,
   "id": "6fc15bbe-ae0a-419b-91b0-890db242f6cd",
   "metadata": {},
   "outputs": [
    {
     "name": "stdout",
     "output_type": "stream",
     "text": [
      "12\n"
     ]
    }
   ],
   "source": [
    "def my_function(x,/):\n",
    "    print(x)\n",
    "\n",
    "my_function(12)"
   ]
  },
  {
   "cell_type": "code",
   "execution_count": 119,
   "id": "f8e74e58-ceeb-48b8-aaa9-ce5daa3d9ab0",
   "metadata": {},
   "outputs": [
    {
     "ename": "TypeError",
     "evalue": "my_function() got some positional-only arguments passed as keyword arguments: 'x'",
     "output_type": "error",
     "traceback": [
      "\u001b[1;31m---------------------------------------------------------------------------\u001b[0m",
      "\u001b[1;31mTypeError\u001b[0m                                 Traceback (most recent call last)",
      "Cell \u001b[1;32mIn[119], line 4\u001b[0m\n\u001b[0;32m      1\u001b[0m \u001b[38;5;28;01mdef\u001b[39;00m \u001b[38;5;21mmy_function\u001b[39m(x,\u001b[38;5;241m/\u001b[39m):\n\u001b[0;32m      2\u001b[0m     \u001b[38;5;28mprint\u001b[39m(x)\n\u001b[1;32m----> 4\u001b[0m my_function(x\u001b[38;5;241m=\u001b[39m\u001b[38;5;241m12\u001b[39m)\n",
      "\u001b[1;31mTypeError\u001b[0m: my_function() got some positional-only arguments passed as keyword arguments: 'x'"
     ]
    }
   ],
   "source": [
    "def my_function(x,/):\n",
    "    print(x)\n",
    "\n",
    "my_function(x=12)"
   ]
  },
  {
   "cell_type": "code",
   "execution_count": null,
   "id": "73e4c7f1-9779-4e00-927e-9c7f8665ad85",
   "metadata": {},
   "outputs": [],
   "source": [
    "Without the , / you are actually allowed to use keyword arguments even if the function expects positional arguments:"
   ]
  },
  {
   "cell_type": "code",
   "execution_count": 121,
   "id": "7891d052-3e19-443e-8746-0601fb82b7d9",
   "metadata": {},
   "outputs": [
    {
     "name": "stdout",
     "output_type": "stream",
     "text": [
      "3\n"
     ]
    }
   ],
   "source": [
    "def my_function(x):\n",
    "    print(x)\n",
    "\n",
    "my_function(x=3)"
   ]
  },
  {
   "cell_type": "code",
   "execution_count": null,
   "id": "abdb123b-58f6-40fc-b54a-64479f5dd803",
   "metadata": {},
   "outputs": [],
   "source": [
    "\"\"\"Keyword-Only Arguments\"\"\"\n",
    "To specify that a function can have only keyword arguments , add*,before the arguements"
   ]
  },
  {
   "cell_type": "code",
   "execution_count": 123,
   "id": "b8bc2b04-78ac-4d4d-8558-02dfda8b963a",
   "metadata": {},
   "outputs": [
    {
     "name": "stdout",
     "output_type": "stream",
     "text": [
      "2\n"
     ]
    }
   ],
   "source": [
    "def my_function(*,x):\n",
    "    print(x)\n",
    "\n",
    "my_function(x=2)"
   ]
  },
  {
   "cell_type": "code",
   "execution_count": null,
   "id": "1235ebb4-ddc3-48b9-af1c-9a57b5851343",
   "metadata": {},
   "outputs": [],
   "source": [
    "But when adding the *, / you will get an error if you try to send a positional argument:"
   ]
  },
  {
   "cell_type": "code",
   "execution_count": 125,
   "id": "f91b15bf-bb43-457b-a7e2-99a961216cf9",
   "metadata": {},
   "outputs": [
    {
     "ename": "TypeError",
     "evalue": "my_function() takes 0 positional arguments but 1 was given",
     "output_type": "error",
     "traceback": [
      "\u001b[1;31m---------------------------------------------------------------------------\u001b[0m",
      "\u001b[1;31mTypeError\u001b[0m                                 Traceback (most recent call last)",
      "Cell \u001b[1;32mIn[125], line 5\u001b[0m\n\u001b[0;32m      2\u001b[0m \u001b[38;5;28;01mdef\u001b[39;00m \u001b[38;5;21mmy_function\u001b[39m(\u001b[38;5;241m*\u001b[39m, x):\n\u001b[0;32m      3\u001b[0m   \u001b[38;5;28mprint\u001b[39m(x)\n\u001b[1;32m----> 5\u001b[0m my_function(\u001b[38;5;241m3\u001b[39m)\n",
      "\u001b[1;31mTypeError\u001b[0m: my_function() takes 0 positional arguments but 1 was given"
     ]
    }
   ],
   "source": [
    "# Example\n",
    "def my_function(*, x):\n",
    "  print(x)\n",
    "\n",
    "my_function(3)"
   ]
  },
  {
   "cell_type": "code",
   "execution_count": null,
   "id": "998bb78e-bee0-4fc2-9164-7f5b18fa2983",
   "metadata": {},
   "outputs": [],
   "source": [
    "\"\"\"Combine Positional-Only and Keyword-Only\"\"\"\n",
    "We can combine both rwo arguments types in a same function\n",
    "Any arguments before the/,are positional-only,and any argument after the*,are keyword only"
   ]
  },
  {
   "cell_type": "code",
   "execution_count": 127,
   "id": "58c327e6-fd13-4d89-8144-1cf5c202eddb",
   "metadata": {},
   "outputs": [
    {
     "name": "stdout",
     "output_type": "stream",
     "text": [
      "37\n"
     ]
    }
   ],
   "source": [
    "def my_function(a,b,/,*,c,d):\n",
    "    print(a+b+c+d)\n",
    "\n",
    "my_function(5,6,c=3,d=23)"
   ]
  },
  {
   "cell_type": "code",
   "execution_count": null,
   "id": "2f6072ac-9575-490a-b25d-80333fdf4640",
   "metadata": {},
   "outputs": [],
   "source": [
    "***Recursion***\n",
    "1.Python also accepts function recursion,which means a defined function can call itself\n",
    "2.Recursion is a common mathematical and programming concept.\n",
    "3. It means that a function calls itself. This has the benefit of meaning that you can loop through data to reach a result.\n",
    "4."
   ]
  },
  {
   "cell_type": "code",
   "execution_count": null,
   "id": "75591485-76e0-4494-97ab-e97c97c11537",
   "metadata": {},
   "outputs": [],
   "source": [
    "In this example, tri_recursion() is a function that we have defined to call itself (\"recurse\"). \n",
    "We use the k variable as the data, which decrements (-1) every time we recurse. The recursion ends when the condition is not greater than 0 (i.e. when it is 0)."
   ]
  },
  {
   "cell_type": "code",
   "execution_count": 151,
   "id": "b367278c-ed8f-4014-b8e8-c5bc30f51cbe",
   "metadata": {},
   "outputs": [
    {
     "name": "stdout",
     "output_type": "stream",
     "text": [
      "\n",
      "\n",
      "Recursuion example results\n",
      "1\n",
      "3\n",
      "6\n",
      "10\n",
      "15\n"
     ]
    },
    {
     "data": {
      "text/plain": [
       "15"
      ]
     },
     "execution_count": 151,
     "metadata": {},
     "output_type": "execute_result"
    }
   ],
   "source": [
    "def tri_recursion(k):\n",
    "    if(k>0):\n",
    "        result=k+tri_recursion(k-1)\n",
    "        print(result)\n",
    "    else:\n",
    "        result=0\n",
    "    return result\n",
    "\n",
    "print(\"\\n\\nRecursuion example results\")\n",
    "tri_recursion(5)\n",
    "# Let's walk through the execution of tri_recursion(5):\n",
    "\n",
    "# Step 1 (k = 5):\n",
    "\n",
    "# Calls tri_recursion(4).\n",
    "# Waits for the result of tri_recursion(4).\n",
    "# Step 2 (k = 4):\n",
    "\n",
    "# Calls tri_recursion(3).\n",
    "# Waits for the result of tri_recursion(3).\n",
    "# Step 3 (k = 3):\n",
    "\n",
    "# Calls tri_recursion(2).\n",
    "# Waits for the result of tri_recursion(2).\n",
    "# Step 4 (k = 2):\n",
    "\n",
    "# Calls tri_recursion(1).\n",
    "# Waits for the result of tri_recursion(1).\n",
    "# Step 5 (k = 1):\n",
    "\n",
    "# Calls tri_recursion(0).\n",
    "# Waits for the result of tri_recursion(0).\n",
    "# Step 6 (k = 0):\n",
    "\n",
    "# Returns 0 (base case).\n",
    "# Now, we go back up the recursive calls:\n",
    "\n",
    "# Step 5 (k = 1):\n",
    "\n",
    "# result = 1 + 0 = 1\n",
    "# Prints 1\n",
    "# Returns 1\n",
    "# Step 4 (k = 2):\n",
    "\n",
    "# result = 2 + 1 = 3\n",
    "# Prints 3\n",
    "# Returns 3\n",
    "# Step 3 (k = 3):\n",
    "\n",
    "# result = 3 + 3 = 6\n",
    "# Prints 6\n",
    "# Returns 6\n",
    "# Step 2 (k = 4):\n",
    "\n",
    "# result = 4 + 6 = 10\n",
    "# Prints 10\n",
    "# Returns 10\n",
    "# Step 1 (k = 5):\n",
    "\n",
    "# result = 5 + 10 = 15\n",
    "# Prints 15\n",
    "# Returns 15\n",
    "# The final output of the f"
   ]
  },
  {
   "cell_type": "code",
   "execution_count": null,
   "id": "dd5010e1-4697-4330-bf93-6ac29e9e49c6",
   "metadata": {},
   "outputs": [],
   "source": []
  },
  {
   "cell_type": "code",
   "execution_count": null,
   "id": "49943543-274f-49ef-b856-08c6a1aefcdb",
   "metadata": {},
   "outputs": [],
   "source": []
  },
  {
   "cell_type": "code",
   "execution_count": 143,
   "id": "32e1e98c-f492-47d9-b91c-c89c487a9ffc",
   "metadata": {},
   "outputs": [
    {
     "name": "stdout",
     "output_type": "stream",
     "text": [
      "3000\n"
     ]
    }
   ],
   "source": [
    "import sys\n",
    "print(sys.getrecursionlimit())\n",
    "def greet():\n",
    "    print(\"hello\")\n",
    "    greet()"
   ]
  },
  {
   "cell_type": "code",
   "execution_count": 25,
   "id": "a3829bff-b9a2-4ff5-a124-395db5c1409e",
   "metadata": {},
   "outputs": [
    {
     "name": "stdout",
     "output_type": "stream",
     "text": [
      "Help on built-in function print in module builtins:\n",
      "\n",
      "print(*args, sep=' ', end='\\n', file=None, flush=False)\n",
      "    Prints the values to a stream, or to sys.stdout by default.\n",
      "\n",
      "    sep\n",
      "      string inserted between values, default a space.\n",
      "    end\n",
      "      string appended after the last value, default a newline.\n",
      "    file\n",
      "      a file-like object (stream); defaults to the current sys.stdout.\n",
      "    flush\n",
      "      whether to forcibly flush the stream.\n",
      "\n"
     ]
    }
   ],
   "source": [
    "help(print)"
   ]
  },
  {
   "cell_type": "code",
   "execution_count": 30,
   "id": "e3440455-b86a-4e14-a217-d78de6dbf989",
   "metadata": {},
   "outputs": [
    {
     "name": "stdout",
     "output_type": "stream",
     "text": [
      "Help on built-in function len in module builtins:\n",
      "\n",
      "len(obj, /)\n",
      "    Return the number of items in a container.\n",
      "\n"
     ]
    }
   ],
   "source": [
    "help(len)"
   ]
  },
  {
   "cell_type": "code",
   "execution_count": 34,
   "id": "c6464dc4-39d5-4755-814f-99f45a874619",
   "metadata": {},
   "outputs": [
    {
     "name": "stdout",
     "output_type": "stream",
     "text": [
      "Help on built-in function max in module builtins:\n",
      "\n",
      "max(...)\n",
      "    max(iterable, *[, default=obj, key=func]) -> value\n",
      "    max(arg1, arg2, *args, *[, key=func]) -> value\n",
      "\n",
      "    With a single iterable argument, return its biggest item. The\n",
      "    default keyword-only argument specifies an object to return if\n",
      "    the provided iterable is empty.\n",
      "    With two or more arguments, return the largest argument.\n",
      "\n"
     ]
    }
   ],
   "source": [
    " help(max)"
   ]
  },
  {
   "cell_type": "code",
   "execution_count": 62,
   "id": "86527de4-9568-4038-b196-c424b6f822a2",
   "metadata": {},
   "outputs": [],
   "source": [
    "def user_input():\n",
    "    name=str(input(\"eneter your name\"))\n",
    "    return name\n",
    "def display_name(x):\n",
    "    print(\"name of customer is:\",x)"
   ]
  },
  {
   "cell_type": "code",
   "execution_count": 64,
   "id": "5e85f0f9-918b-41a9-8187-6cc7c4092bb5",
   "metadata": {},
   "outputs": [
    {
     "name": "stdin",
     "output_type": "stream",
     "text": [
      "eneter your name vasu\n"
     ]
    },
    {
     "name": "stdout",
     "output_type": "stream",
     "text": [
      "name of customer is: vasu\n"
     ]
    }
   ],
   "source": [
    "name=user_input()\n",
    "display_name(name)"
   ]
  },
  {
   "cell_type": "code",
   "execution_count": 68,
   "id": "eb6ff93a-a6ab-4643-937e-c2133c662bed",
   "metadata": {},
   "outputs": [
    {
     "name": "stdin",
     "output_type": "stream",
     "text": [
      "enter the no -23\n"
     ]
    },
    {
     "name": "stdout",
     "output_type": "stream",
     "text": [
      "23\n"
     ]
    }
   ],
   "source": [
    "def absolute_value(num):\n",
    "    if num>=0:\n",
    "        return num\n",
    "    else:\n",
    "        return -num\n",
    "\n",
    "no=int(input(\"enter the no\"))\n",
    "print(absolute_value(no))"
   ]
  },
  {
   "cell_type": "code",
   "execution_count": 70,
   "id": "bfb8c9f1-83ec-4aa6-9a91-a300767345a5",
   "metadata": {},
   "outputs": [
    {
     "name": "stdout",
     "output_type": "stream",
     "text": [
      "2\n"
     ]
    }
   ],
   "source": [
    " print(absolute_value(-2))"
   ]
  },
  {
   "cell_type": "code",
   "execution_count": 72,
   "id": "da2a4664-bb94-4bbc-bceb-859ef0336499",
   "metadata": {},
   "outputs": [
    {
     "name": "stdout",
     "output_type": "stream",
     "text": [
      "200\n"
     ]
    }
   ],
   "source": [
    " print(absolute_value(-200))"
   ]
  },
  {
   "cell_type": "code",
   "execution_count": null,
   "id": "87d7c7c5-38cc-4a29-b308-d31936b7dff1",
   "metadata": {},
   "outputs": [],
   "source": [
    "local variables: variables declare inside the function"
   ]
  },
  {
   "cell_type": "code",
   "execution_count": 76,
   "id": "06ecb7ea-35ac-48eb-9fd5-1f8452790919",
   "metadata": {},
   "outputs": [
    {
     "name": "stdout",
     "output_type": "stream",
     "text": [
      "the value of myfunc is 78\n"
     ]
    },
    {
     "ename": "NameError",
     "evalue": "name 'a' is not defined",
     "output_type": "error",
     "traceback": [
      "\u001b[1;31m---------------------------------------------------------------------------\u001b[0m",
      "\u001b[1;31mNameError\u001b[0m                                 Traceback (most recent call last)",
      "Cell \u001b[1;32mIn[76], line 6\u001b[0m\n\u001b[0;32m      3\u001b[0m     \u001b[38;5;28mprint\u001b[39m(\u001b[38;5;124m\"\u001b[39m\u001b[38;5;124mthe value of myfunc is \u001b[39m\u001b[38;5;132;01m{}\u001b[39;00m\u001b[38;5;124m\"\u001b[39m\u001b[38;5;241m.\u001b[39mformat(a))\n\u001b[0;32m      5\u001b[0m myfunc()\n\u001b[1;32m----> 6\u001b[0m \u001b[38;5;28mprint\u001b[39m(\u001b[38;5;124m\"\u001b[39m\u001b[38;5;124mthe value outside the funct is \u001b[39m\u001b[38;5;132;01m{}\u001b[39;00m\u001b[38;5;124m\"\u001b[39m\u001b[38;5;241m.\u001b[39mformat(a))\n",
      "\u001b[1;31mNameError\u001b[0m: name 'a' is not defined"
     ]
    }
   ],
   "source": [
    "def myfunc():\n",
    "    a=78\n",
    "    print(\"the value of myfunc is {}\".format(a))\n",
    "\n",
    "myfunc()\n",
    "print(\"the value outside the funct is {}\".format(a))"
   ]
  },
  {
   "cell_type": "code",
   "execution_count": null,
   "id": "07e467d7-fae3-42e9-b8bf-4d8c957ed695",
   "metadata": {},
   "outputs": [],
   "source": [
    "global variable:\n",
    "variables declare iutside the function"
   ]
  },
  {
   "cell_type": "code",
   "execution_count": 82,
   "id": "22f6e957-9bca-4c01-af69-6e2838c5d156",
   "metadata": {},
   "outputs": [
    {
     "name": "stdout",
     "output_type": "stream",
     "text": [
      "value inside the functionis5\n",
      "the value out side the func is10\n"
     ]
    }
   ],
   "source": [
    "def my_func():#3\n",
    "     x=5#4\n",
    "     print(\"value inside the functionis{}\".format(x))#5\n",
    "x=10 #1\n",
    "my_func() #2\n",
    "print(\"the value out side the func is{}\".format(x))#6\n",
    "    "
   ]
  },
  {
   "cell_type": "code",
   "execution_count": 86,
   "id": "70135827-84db-4f38-a3cd-55aeb347d62c",
   "metadata": {},
   "outputs": [
    {
     "name": "stdout",
     "output_type": "stream",
     "text": [
      "24 144\n"
     ]
    }
   ],
   "source": [
    "def addsum(a,b):\n",
    "    sum=a+b\n",
    "    product=a*b\n",
    "    return sum,product\n",
    "\n",
    "x,y=addsum(12,12)\n",
    "print(x,y)"
   ]
  },
  {
   "cell_type": "code",
   "execution_count": 96,
   "id": "3a1bcd48-de83-42c1-81d6-ab5b80bcf53d",
   "metadata": {},
   "outputs": [
    {
     "name": "stdout",
     "output_type": "stream",
     "text": [
      "ms dhoni*"
     ]
    }
   ],
   "source": [
    "a=\"ms\"\n",
    "b=\"dhoni\"\n",
    "print(a,b,sep=\" \", end=\"*\")"
   ]
  },
  {
   "cell_type": "code",
   "execution_count": 98,
   "id": "44c97e8d-672a-46ee-bccb-d0bda58b2b35",
   "metadata": {},
   "outputs": [
    {
     "name": "stdout",
     "output_type": "stream",
     "text": [
      "ms*dhoni&&"
     ]
    }
   ],
   "source": [
    "print(a,b,sep=\"*\",end=\"&&\")"
   ]
  },
  {
   "cell_type": "code",
   "execution_count": null,
   "id": "232a057d-d719-4ee9-a2b0-4213de6c5447",
   "metadata": {},
   "outputs": [],
   "source": [
    "default arguments: example"
   ]
  },
  {
   "cell_type": "code",
   "execution_count": 102,
   "id": "1fba8e6a-0e1f-4517-abeb-487388b14093",
   "metadata": {},
   "outputs": [
    {
     "name": "stdout",
     "output_type": "stream",
     "text": [
      "your order is 1kg Non veg biryani and in sweet Ice cream\n"
     ]
    }
   ],
   "source": [
    "def food_order(sweet,main_course,quantity=1):\n",
    "    quantity=1\n",
    "    print(\"your order is {}kg {} and in sweet {}\".format(quantity,main_course,sweet))\n",
    "\n",
    "food_order(\"Ice cream\",\"Non veg biryani\",3)"
   ]
  },
  {
   "cell_type": "code",
   "execution_count": 104,
   "id": "c645822d-efcf-4308-8773-930ba5d89ca9",
   "metadata": {},
   "outputs": [
    {
     "name": "stdout",
     "output_type": "stream",
     "text": [
      "Hello evryone  , Good Morning\n"
     ]
    }
   ],
   "source": [
    "def greet_msg(name=\"evryone\",msg=\"Good Morning\"):\n",
    "    print(\"Hello\", name,\" ,\" ,msg)\n",
    "\n",
    "greet_msg()"
   ]
  },
  {
   "cell_type": "code",
   "execution_count": 106,
   "id": "6424627f-0761-4c7c-a7c6-23437f857420",
   "metadata": {},
   "outputs": [
    {
     "name": "stdout",
     "output_type": "stream",
     "text": [
      "Hello Dhoni  , Good Morning\n"
     ]
    }
   ],
   "source": [
    "greet_msg(\"Dhoni\")"
   ]
  },
  {
   "cell_type": "code",
   "execution_count": 108,
   "id": "6a24f0de-3c2f-4be2-83fe-7a6fa9408aa9",
   "metadata": {},
   "outputs": [
    {
     "name": "stdout",
     "output_type": "stream",
     "text": [
      "Hello Dhoni  , good eveing\n"
     ]
    }
   ],
   "source": [
    " greet_msg(\"Dhoni\",\"good eveing\")"
   ]
  },
  {
   "cell_type": "code",
   "execution_count": null,
   "id": "87d3e734-4eb8-40a6-8264-ef34ea2bb085",
   "metadata": {},
   "outputs": [],
   "source": [
    " *** Keyword Argument"
   ]
  },
  {
   "cell_type": "code",
   "execution_count": null,
   "id": "df4d03f9-06a8-4673-9ad9-43c977086e85",
   "metadata": {},
   "outputs": [],
   "source": [
    " order of arguments can be changed\n",
    "- when we call a function this values, get assigned to the arguments according␣\n",
    " ↪to der positions"
   ]
  },
  {
   "cell_type": "code",
   "execution_count": 110,
   "id": "85191755-8212-431c-bab6-0450c5163058",
   "metadata": {},
   "outputs": [
    {
     "name": "stdout",
     "output_type": "stream",
     "text": [
      "I am  virat\n",
      "My team  RCb\n",
      "I won  icc\n"
     ]
    }
   ],
   "source": [
    "def IPL(name,team,tropy):\n",
    "    print(\"I am \",name)\n",
    "    print(\"My team \",team)\n",
    "    print(\"I won \",tropy)\n",
    "\n",
    "IPL(\"virat\",\"RCb\",\"icc\")"
   ]
  },
  {
   "cell_type": "code",
   "execution_count": 116,
   "id": "3c9d8253-6bc4-4099-b26b-ccc544456188",
   "metadata": {},
   "outputs": [
    {
     "name": "stdout",
     "output_type": "stream",
     "text": [
      "I am  dhoni\n",
      "My team  CSK\n",
      "I won  2\n"
     ]
    }
   ],
   "source": [
    "  IPL(team=\"CSK\",tropy=2,name=\"dhoni\")"
   ]
  },
  {
   "cell_type": "code",
   "execution_count": 118,
   "id": "f3e96a84-e5bb-4422-91d3-0238d5cb87ac",
   "metadata": {},
   "outputs": [
    {
     "name": "stdout",
     "output_type": "stream",
     "text": [
      "The player name is: dhoni\n",
      "The team name is: CSK 2\n"
     ]
    }
   ],
   "source": [
    "def IPL(player_name=\"sachin\",team='MI',trophy=\"5\"):\n",
    "    print(\"The player name is:\",player_name)\n",
    "    print(\"The team name is:\",team,trophy)\n",
    "\n",
    "IPL(team=\"CSK\",trophy=2,player_name=\"dhoni\")"
   ]
  },
  {
   "cell_type": "code",
   "execution_count": 120,
   "id": "37fae993-9f14-4d71-91a1-a0ecc9eff5ca",
   "metadata": {},
   "outputs": [
    {
     "ename": "SyntaxError",
     "evalue": "positional argument follows keyword argument (1889973911.py, line 1)",
     "output_type": "error",
     "traceback": [
      "\u001b[1;36m  Cell \u001b[1;32mIn[120], line 1\u001b[1;36m\u001b[0m\n\u001b[1;33m    details(city=\"Satara\",age=24,\"Vijay mane\")\u001b[0m\n\u001b[1;37m                                             ^\u001b[0m\n\u001b[1;31mSyntaxError\u001b[0m\u001b[1;31m:\u001b[0m positional argument follows keyword argument\n"
     ]
    }
   ],
   "source": [
    "details(city=\"Satara\",age=24,\"Vijay mane\")"
   ]
  },
  {
   "cell_type": "code",
   "execution_count": null,
   "id": "bc5e52d2-890e-4074-9073-579855d83f12",
   "metadata": {},
   "outputs": [],
   "source": [
    "6 **kwargs"
   ]
  },
  {
   "cell_type": "code",
   "execution_count": 126,
   "id": "b974f40a-27f0-4735-92c2-89167f309134",
   "metadata": {},
   "outputs": [
    {
     "name": "stdout",
     "output_type": "stream",
     "text": [
      "{'name': 'bhushan', 'batch': 5, 'Branch': 'Entc', 'City': 'vizag'}\n",
      "<class 'dict'>\n"
     ]
    }
   ],
   "source": [
    "def Our_batch_details(**details):\n",
    "    print(details)\n",
    "    print(type(details))\n",
    "\n",
    "Our_batch_details(name=\"bhushan\",batch=5,Branch=\"Entc\",City=\"vizag\")"
   ]
  },
  {
   "cell_type": "code",
   "execution_count": 129,
   "id": "2724bb60-43c9-4142-aabe-357dc18c726a",
   "metadata": {},
   "outputs": [
    {
     "ename": "TypeError",
     "evalue": "Our_batch_details() takes 0 positional arguments but 1 was given",
     "output_type": "error",
     "traceback": [
      "\u001b[1;31m---------------------------------------------------------------------------\u001b[0m",
      "\u001b[1;31mTypeError\u001b[0m                                 Traceback (most recent call last)",
      "Cell \u001b[1;32mIn[129], line 1\u001b[0m\n\u001b[1;32m----> 1\u001b[0m Our_batch_details(\u001b[38;5;124m\"\u001b[39m\u001b[38;5;124mmale\u001b[39m\u001b[38;5;124m\"\u001b[39m,name\u001b[38;5;241m=\u001b[39m\u001b[38;5;124m\"\u001b[39m\u001b[38;5;124mbhushan\u001b[39m\u001b[38;5;124m\"\u001b[39m,batch\u001b[38;5;241m=\u001b[39m\u001b[38;5;241m5\u001b[39m,Branch\u001b[38;5;241m=\u001b[39m\u001b[38;5;124m\"\u001b[39m\u001b[38;5;124mEntc\u001b[39m\u001b[38;5;124m\"\u001b[39m,City\u001b[38;5;241m=\u001b[39m\u001b[38;5;124m\"\u001b[39m\u001b[38;5;124mvizag\u001b[39m\u001b[38;5;124m\"\u001b[39m)\n",
      "\u001b[1;31mTypeError\u001b[0m: Our_batch_details() takes 0 positional arguments but 1 was given"
     ]
    }
   ],
   "source": [
    " Our_batch_details(\"male\",name=\"bhushan\",batch=5,Branch=\"Entc\",City=\"vizag\")"
   ]
  },
  {
   "cell_type": "code",
   "execution_count": 131,
   "id": "6eae2f89-90be-4edb-a07c-e352685e7397",
   "metadata": {},
   "outputs": [
    {
     "name": "stdout",
     "output_type": "stream",
     "text": [
      "{'name': 'bhushan', 'batch': 5, 'Branch': 'Entc', 'City': 'vizag'}\n",
      "('male', '123', '78%', 'paid')\n"
     ]
    }
   ],
   "source": [
    " def Our_batch_details(*other,**details):\n",
    "    print(details)\n",
    "    print(other)\n",
    " Our_batch_details(\"male\",\"123\",\"78%\",\"paid\",name=\"bhushan\",batch=5,Branch=\"Entc\",City=\"vizag\")\n"
   ]
  },
  {
   "cell_type": "code",
   "execution_count": 133,
   "id": "4ce561d4-52b7-40d3-a65b-287e45390d43",
   "metadata": {},
   "outputs": [
    {
     "name": "stdout",
     "output_type": "stream",
     "text": [
      "Dhoni\n",
      "('RCB', 'PWI')\n",
      "{'T20': 1, 'ODI': 1, 'CT': 1, 'IPL': 4}\n",
      "CSK\n"
     ]
    }
   ],
   "source": [
    "def cricket(name,team1,*teams,**tittle):\n",
    "    print(name)\n",
    "    print(teams)\n",
    "    print(tittle)\n",
    "    print(team1)\n",
    "cricket(\"Dhoni\",\"CSK\",\"RCB\",\"PWI\",T20=1,ODI=1,CT=1,IPL=4)"
   ]
  },
  {
   "cell_type": "code",
   "execution_count": null,
   "id": "9105aea6-41f6-4f51-b15e-05ce0b97c0cc",
   "metadata": {},
   "outputs": [],
   "source": [
    "                     '''python lambda function'''"
   ]
  },
  {
   "cell_type": "code",
   "execution_count": null,
   "id": "3af60b73-497f-45a2-9dab-824328df7416",
   "metadata": {},
   "outputs": [],
   "source": [
    "A lambda function is a small anonymous(without name) function \n",
    "A lambda function can take any number of arguments,but can only have one expression\n"
   ]
  },
  {
   "cell_type": "code",
   "execution_count": null,
   "id": "ec0a7d08-287c-42ff-a48f-6bc0daed9472",
   "metadata": {},
   "outputs": [],
   "source": [
    "Syntax:\n",
    "lambda arguments: expression"
   ]
  },
  {
   "cell_type": "code",
   "execution_count": 1,
   "id": "7d5c2b6d-21a0-4c00-8416-9e29e3bb5d68",
   "metadata": {},
   "outputs": [
    {
     "name": "stdout",
     "output_type": "stream",
     "text": [
      "14\n"
     ]
    }
   ],
   "source": [
    "x=lambda a:a+10\n",
    "print(x(4))"
   ]
  },
  {
   "cell_type": "code",
   "execution_count": null,
   "id": "7035ea2d-9df6-499f-ad7f-b8abb40eaa26",
   "metadata": {},
   "outputs": [],
   "source": [
    "Lambda function can take any number of arguements but take only one expression"
   ]
  },
  {
   "cell_type": "code",
   "execution_count": 3,
   "id": "faf316bd-7cc1-4bef-b1da-ac0b24ef5f51",
   "metadata": {},
   "outputs": [
    {
     "name": "stdout",
     "output_type": "stream",
     "text": [
      "8\n"
     ]
    }
   ],
   "source": [
    "x=lambda a,b:a*b\n",
    "print(x(2,4))"
   ]
  },
  {
   "cell_type": "code",
   "execution_count": 7,
   "id": "dcac9614-6a60-4ce0-9fd5-4f986f732fc9",
   "metadata": {},
   "outputs": [
    {
     "name": "stdout",
     "output_type": "stream",
     "text": [
      "272\n"
     ]
    }
   ],
   "source": [
    "x=lambda a,b,c:a*b*c\n",
    "print(x(2,4,34))"
   ]
  },
  {
   "cell_type": "code",
   "execution_count": null,
   "id": "0afa3e17-da81-4956-9eb7-166189ec3f97",
   "metadata": {},
   "outputs": [],
   "source": [
    "**Why use Lambda function?\n",
    "The power of lambda function better shown when you use them as an anonymous function inside the another function.\n",
    "Say you have a function defination that takes one arguement,and that argument wil be multipllied with an unknown number"
   ]
  },
  {
   "cell_type": "code",
   "execution_count": 17,
   "id": "f31c04bb-d421-4b91-b00b-6b0e247cd09a",
   "metadata": {},
   "outputs": [
    {
     "name": "stdout",
     "output_type": "stream",
     "text": [
      "22\n"
     ]
    }
   ],
   "source": [
    "def myfunc(n):\n",
    "    return lambda a:a*n\n",
    "\n",
    "mydoubler=myfunc(2)\n",
    "print(mydoubler(11))"
   ]
  },
  {
   "cell_type": "code",
   "execution_count": null,
   "id": "e96b7853-fcf1-4c98-90cb-6d32837463ca",
   "metadata": {},
   "outputs": [],
   "source": [
    "or, use the same function defination to make a function that always triples the number you send in."
   ]
  },
  {
   "cell_type": "code",
   "execution_count": 19,
   "id": "2bcf2a9c-cdd8-4a52-be37-d90c56b09c4d",
   "metadata": {},
   "outputs": [
    {
     "name": "stdout",
     "output_type": "stream",
     "text": [
      "33\n"
     ]
    }
   ],
   "source": [
    "def myfunc(n):\n",
    "  return lambda a : a * n\n",
    "\n",
    "mytripler = myfunc(3)\n",
    "\n",
    "print(mytripler(11))"
   ]
  },
  {
   "cell_type": "code",
   "execution_count": null,
   "id": "7ba0608b-f6c3-4074-80f5-3ec0263f5016",
   "metadata": {},
   "outputs": [],
   "source": [
    "Or, use the same function definition to make both functions, in the same program:"
   ]
  },
  {
   "cell_type": "code",
   "execution_count": 21,
   "id": "466a40b1-0398-4fb6-afe6-1deea3281235",
   "metadata": {},
   "outputs": [
    {
     "name": "stdout",
     "output_type": "stream",
     "text": [
      "6\n",
      "12\n"
     ]
    }
   ],
   "source": [
    "def myfunc(n):\n",
    "    return lambda a:a*n\n",
    "\n",
    "mydoubler=myfunc(2)\n",
    "mytripler=myfunc(3)\n",
    "print(mydoubler(3))\n",
    "print(mytripler(4))"
   ]
  },
  {
   "cell_type": "code",
   "execution_count": 23,
   "id": "59ab5d5c-f6fc-446e-b913-3648e87a8066",
   "metadata": {},
   "outputs": [
    {
     "data": {
      "text/plain": [
       "'Ms Dhoni'"
      ]
     },
     "execution_count": 23,
     "metadata": {},
     "output_type": "execute_result"
    }
   ],
   "source": [
    "firstname= \"    ms    \"\n",
    "lastname=\"      dhoni  \"\n",
    "full_name=lambda firstname,lastname:(firstname.strip().title()+\" \"+lastname.strip().title())\n",
    "full_name(firstname,lastname)"
   ]
  },
  {
   "cell_type": "code",
   "execution_count": 135,
   "id": "76a047dd-c65c-4e3a-80d1-7faba1eca954",
   "metadata": {},
   "outputs": [
    {
     "data": {
      "text/plain": [
       "'Virat Kohli'"
      ]
     },
     "execution_count": 135,
     "metadata": {},
     "output_type": "execute_result"
    }
   ],
   "source": [
    "full_name(\"virat\",\"kohli\")"
   ]
  },
  {
   "cell_type": "code",
   "execution_count": 137,
   "id": "36536911-0e05-486a-b417-54983a4756cd",
   "metadata": {},
   "outputs": [
    {
     "data": {
      "text/plain": [
       "True"
      ]
     },
     "execution_count": 137,
     "metadata": {},
     "output_type": "execute_result"
    }
   ],
   "source": [
    "def even_check(n):\n",
    "    if n%2==0:\n",
    "       return True\n",
    "    else:\n",
    "        return False\n",
    "\n",
    "even_check(2)"
   ]
  },
  {
   "cell_type": "code",
   "execution_count": 139,
   "id": "e27467eb-b239-49ac-b3c0-727525e07002",
   "metadata": {},
   "outputs": [
    {
     "data": {
      "text/plain": [
       "False"
      ]
     },
     "execution_count": 139,
     "metadata": {},
     "output_type": "execute_result"
    }
   ],
   "source": [
    "even_check(3)"
   ]
  },
  {
   "cell_type": "code",
   "execution_count": 141,
   "id": "35d4e7ee-e72b-474c-91a9-6f8fde87396b",
   "metadata": {},
   "outputs": [
    {
     "data": {
      "text/plain": [
       "True"
      ]
     },
     "execution_count": 141,
     "metadata": {},
     "output_type": "execute_result"
    }
   ],
   "source": [
    "even_check_lam=lambda n:n%2==0\n",
    "even_check_lam(2)"
   ]
  },
  {
   "cell_type": "code",
   "execution_count": 143,
   "id": "f132a5a5-3bb4-406e-a88d-2679bb749e0b",
   "metadata": {},
   "outputs": [
    {
     "data": {
      "text/plain": [
       "False"
      ]
     },
     "execution_count": 143,
     "metadata": {},
     "output_type": "execute_result"
    }
   ],
   "source": [
    "even_check_lam(3)"
   ]
  },
  {
   "cell_type": "code",
   "execution_count": 145,
   "id": "fdefab29-3904-49a4-98b4-b8318fd0a5eb",
   "metadata": {},
   "outputs": [
    {
     "data": {
      "text/plain": [
       "False"
      ]
     },
     "execution_count": 145,
     "metadata": {},
     "output_type": "execute_result"
    }
   ],
   "source": [
    "def comparefunc(a,b):\n",
    "    if a>b:\n",
    "        return True\n",
    "    else:\n",
    "        return False\n",
    "\n",
    "comparefunc(12,23)"
   ]
  },
  {
   "cell_type": "code",
   "execution_count": 147,
   "id": "8320a0bb-6b47-41a7-941a-f7a491a1bcdb",
   "metadata": {},
   "outputs": [
    {
     "data": {
      "text/plain": [
       "False"
      ]
     },
     "execution_count": 147,
     "metadata": {},
     "output_type": "execute_result"
    }
   ],
   "source": [
    "compare=lambda a,b:a>b\n",
    "compare(12,23)"
   ]
  },
  {
   "cell_type": "code",
   "execution_count": 151,
   "id": "f1cecc99-c1be-4d72-860c-e17cd733db27",
   "metadata": {},
   "outputs": [
    {
     "data": {
      "text/plain": [
       "21"
      ]
     },
     "execution_count": 151,
     "metadata": {},
     "output_type": "execute_result"
    }
   ],
   "source": [
    "larger=lambda x,y:x if x>y else y\n",
    "larger(12,21)"
   ]
  },
  {
   "cell_type": "code",
   "execution_count": null,
   "id": "8abe7a07-300b-4ce3-abf0-73cdb5322294",
   "metadata": {},
   "outputs": [],
   "source": [
    "**sort"
   ]
  },
  {
   "cell_type": "code",
   "execution_count": 155,
   "id": "319b91a3-fbd7-4412-a282-ddc066630a8b",
   "metadata": {},
   "outputs": [
    {
     "data": {
      "text/plain": [
       "['avakaay', 'srinu', 'vasu']"
      ]
     },
     "execution_count": 155,
     "metadata": {},
     "output_type": "execute_result"
    }
   ],
   "source": [
    "cricket=[\"srinu\",\"vasu\",\"avakaay\"]\n",
    "cricket.sort()\n",
    "cricket\n"
   ]
  },
  {
   "cell_type": "code",
   "execution_count": 161,
   "id": "79644f21-1a15-4a3e-8693-5b94956b9fcb",
   "metadata": {},
   "outputs": [
    {
     "data": {
      "text/plain": [
       "['vasu', 'srinu', 'avakaay']"
      ]
     },
     "execution_count": 161,
     "metadata": {},
     "output_type": "execute_result"
    }
   ],
   "source": [
    "cricket.sort(key=lambda x:len(x))\n",
    "cricket"
   ]
  },
  {
   "cell_type": "code",
   "execution_count": 165,
   "id": "ae3d349b-a829-4f22-946a-dd80db3b0aa0",
   "metadata": {},
   "outputs": [
    {
     "data": {
      "text/plain": [
       "5"
      ]
     },
     "execution_count": 165,
     "metadata": {},
     "output_type": "execute_result"
    }
   ],
   "source": [
    "key=[4,2,7]\n",
    "len(\"srinu\")"
   ]
  },
  {
   "cell_type": "code",
   "execution_count": 167,
   "id": "40163a8b-9724-4329-877b-e0aa5bb03450",
   "metadata": {},
   "outputs": [
    {
     "data": {
      "text/plain": [
       "['avakaay', 'srinu', 'vasu']"
      ]
     },
     "execution_count": 167,
     "metadata": {},
     "output_type": "execute_result"
    }
   ],
   "source": [
    "cricket.sort(key=lambda x:len(x),reverse=True)\n",
    "cricket"
   ]
  },
  {
   "cell_type": "code",
   "execution_count": 169,
   "id": "9f4b6c1b-aec5-40cf-bcd8-f1b37a417a35",
   "metadata": {},
   "outputs": [
    {
     "data": {
      "text/plain": [
       "[('ABD', 1000), ('ROHIT', 1000), ('VIRAT', 20000)]"
      ]
     },
     "execution_count": 169,
     "metadata": {},
     "output_type": "execute_result"
    }
   ],
   "source": [
    "cricket_scores=[(\"ABD\",1000),(\"VIRAT\",20000),(\"ROHIT\",1000)]\n",
    "cricket_scores.sort()\n",
    "cricket_scores"
   ]
  },
  {
   "cell_type": "code",
   "execution_count": 173,
   "id": "efcc024f-e59e-44cd-b61c-baa66c4372d5",
   "metadata": {},
   "outputs": [
    {
     "data": {
      "text/plain": [
       "[('ABD', 1000), ('ROHIT', 1000), ('VIwRAT', 20000)]"
      ]
     },
     "execution_count": 173,
     "metadata": {},
     "output_type": "execute_result"
    }
   ],
   "source": [
    "cricket_scores=[(\"ABD\",1000),(\"VIwRAT\",20000),(\"ROHIT\",1000)]\n",
    "cricket_scores.sort(key=lambda x:len(x[0]))\n",
    "cricket_scores\n"
   ]
  },
  {
   "cell_type": "code",
   "execution_count": 175,
   "id": "f3f5dce6-6d8a-4fe2-8990-740d763349e5",
   "metadata": {},
   "outputs": [
    {
     "data": {
      "text/plain": [
       "[('VIwRAT', 20000), ('ROHIT', 1000), ('ABD', 1000)]"
      ]
     },
     "execution_count": 175,
     "metadata": {},
     "output_type": "execute_result"
    }
   ],
   "source": [
    "cricket_scores=[(\"ABD\",1000),(\"VIwRAT\",20000),(\"ROHIT\",1000)]\n",
    "cricket_scores.sort(key=lambda x:len(x[0]),reverse=True)\n",
    "cricket_scores"
   ]
  },
  {
   "cell_type": "code",
   "execution_count": 179,
   "id": "83bf3752-c7ff-4c20-ab86-7920e55c6e51",
   "metadata": {},
   "outputs": [
    {
     "data": {
      "text/plain": [
       "[('VIwRAT', 20000), ('ABD', 1000), ('ROHIT', 1000)]"
      ]
     },
     "execution_count": 179,
     "metadata": {},
     "output_type": "execute_result"
    }
   ],
   "source": [
    "cricket_scores=[(\"ABD\",1000),(\"VIwRAT\",20000),(\"ROHIT\",1000)]\n",
    "cricket_scores.sort(key=lambda x:x[1],reverse=True)\n",
    "cricket_scores"
   ]
  },
  {
   "cell_type": "code",
   "execution_count": 183,
   "id": "0de42e00-8055-4471-adb7-dd9795bd67c4",
   "metadata": {},
   "outputs": [
    {
     "data": {
      "text/plain": [
       "[{'name': 'Atish', 'marks': 15},\n",
       " {'name': 'Ajay', 'marks': 14},\n",
       " {'name': 'Amit', 'marks': 19}]"
      ]
     },
     "execution_count": 183,
     "metadata": {},
     "output_type": "execute_result"
    }
   ],
   "source": [
    "marks=[{\"name\":\"Atish\",\"marks\":15},{\"name\":\"Ajay\",\"marks\":14},{\"name\":\n",
    " \"Amit\",\"marks\":19}]\n",
    "marks"
   ]
  },
  {
   "cell_type": "code",
   "execution_count": 185,
   "id": "31c23aa8-a35a-43bf-8d21-92f34e13e408",
   "metadata": {},
   "outputs": [
    {
     "data": {
      "text/plain": [
       "[{'name': 'Ajay', 'marks': 14},\n",
       " {'name': 'Atish', 'marks': 15},\n",
       " {'name': 'Amit', 'marks': 19}]"
      ]
     },
     "execution_count": 185,
     "metadata": {},
     "output_type": "execute_result"
    }
   ],
   "source": [
    "marks.sort(key=lambda x:x[\"marks\"])\n",
    "marks"
   ]
  },
  {
   "cell_type": "code",
   "execution_count": 187,
   "id": "a7728718-fc90-4e95-9b39-42810010fb7a",
   "metadata": {},
   "outputs": [
    {
     "data": {
      "text/plain": [
       "[{'name': 'Ajay', 'marks': 14},\n",
       " {'name': 'Amit', 'marks': 19},\n",
       " {'name': 'Atish', 'marks': 15}]"
      ]
     },
     "execution_count": 187,
     "metadata": {},
     "output_type": "execute_result"
    }
   ],
   "source": [
    "marks.sort(key=lambda x:x[\"name\"])\n",
    "marks\n",
    "           "
   ]
  },
  {
   "cell_type": "code",
   "execution_count": 189,
   "id": "5328a67d-d96f-4040-abfd-e9014b263ff0",
   "metadata": {},
   "outputs": [
    {
     "data": {
      "text/plain": [
       "121"
      ]
     },
     "execution_count": 189,
     "metadata": {},
     "output_type": "execute_result"
    }
   ],
   "source": [
    "ord(\"y\")"
   ]
  },
  {
   "cell_type": "code",
   "execution_count": 191,
   "id": "c7ca4d20-6bf5-4ee2-8e23-02117d289976",
   "metadata": {},
   "outputs": [
    {
     "data": {
      "text/plain": [
       "[{'name': 'Amit', 'marks': 19},\n",
       " {'name': 'Atish', 'marks': 15},\n",
       " {'name': 'Ajay', 'marks': 14}]"
      ]
     },
     "execution_count": 191,
     "metadata": {},
     "output_type": "execute_result"
    }
   ],
   "source": [
    "marks.sort(key=lambda x:(x[\"marks\"],len(x[\"name\"])),reverse=True)\n",
    "marks"
   ]
  },
  {
   "cell_type": "code",
   "execution_count": 203,
   "id": "1800869f-d58e-4b1b-b2b8-ea7164b9b4b9",
   "metadata": {},
   "outputs": [
    {
     "data": {
      "text/plain": [
       "'kl'"
      ]
     },
     "execution_count": 203,
     "metadata": {},
     "output_type": "execute_result"
    }
   ],
   "source": [
    "name=[\"Viarat kohli\",\"kl rahul\",\"Zaheer khan\"]\n",
    "\"kl rahul\".split(\" \")[0]"
   ]
  },
  {
   "cell_type": "code",
   "execution_count": 209,
   "id": "3926eea4-7ddc-4d6c-a342-b5e68c787aae",
   "metadata": {},
   "outputs": [
    {
     "data": {
      "text/plain": [
       "['Kl rahul,', 'Zaheer khan', 'Viratttttttttt kohli']"
      ]
     },
     "execution_count": 209,
     "metadata": {},
     "output_type": "execute_result"
    }
   ],
   "source": [
    "name=[\"Viratttttttttt kohli\",\"Kl rahul,\",\"Zaheer khan\"]\n",
    "name.sort(key=lambda x:len(x.split(\" \")[0]))\n",
    "name"
   ]
  },
  {
   "cell_type": "code",
   "execution_count": null,
   "id": "b15ebb03-25e8-4e90-be9b-632ad6cbe3db",
   "metadata": {},
   "outputs": [],
   "source": []
  },
  {
   "cell_type": "code",
   "execution_count": null,
   "id": "31702bcf-454f-4a2d-b589-93ec10e0bace",
   "metadata": {},
   "outputs": [],
   "source": [
    "Use of lambda function in python\n",
    "1.fliter\n",
    "*This is used to filter some elements of list or iterable conditions\n",
    "2.the returned list will give elements which are True for what that condition\n",
    "3.fliter function takes in a function and a list as argument"
   ]
  },
  {
   "cell_type": "code",
   "execution_count": null,
   "id": "6206eb92-b626-4b6c-9bab-6636e296b504",
   "metadata": {},
   "outputs": [],
   "source": [
    "filter(function,iterable)"
   ]
  },
  {
   "cell_type": "code",
   "execution_count": 215,
   "id": "b642f7d3-a59c-4ce1-a0b4-d65a76a99ae7",
   "metadata": {},
   "outputs": [
    {
     "data": {
      "text/plain": [
       "[2, 6, 8]"
      ]
     },
     "execution_count": 215,
     "metadata": {},
     "output_type": "execute_result"
    }
   ],
   "source": [
    "my_list=[1,2,3,45,6,7,7,8,]\n",
    "list(filter(lambda x:x%2==0,my_list))"
   ]
  },
  {
   "cell_type": "code",
   "execution_count": 221,
   "id": "b9a2f4f0-c352-405a-b633-fdacc85e171d",
   "metadata": {},
   "outputs": [
    {
     "data": {
      "text/plain": [
       "[1, 3, 5, 67, 899, 9]"
      ]
     },
     "execution_count": 221,
     "metadata": {},
     "output_type": "execute_result"
    }
   ],
   "source": [
    "list(filter(lambda x:x%2!=0,[1,2,3,4,5,6,67,8,899,9,10]))"
   ]
  },
  {
   "cell_type": "code",
   "execution_count": 223,
   "id": "e332ca99-cd7b-43a7-af12-5a8d6f9dbdcd",
   "metadata": {},
   "outputs": [
    {
     "data": {
      "text/plain": [
       "32"
      ]
     },
     "execution_count": 223,
     "metadata": {},
     "output_type": "execute_result"
    }
   ],
   "source": [
    "larger_no=lambda x,y:x if x>y else y\n",
    "larger_no(12,32)"
   ]
  },
  {
   "cell_type": "code",
   "execution_count": 225,
   "id": "e9a1d44c-0e9f-49b0-92ab-14d2b7dafbcb",
   "metadata": {},
   "outputs": [
    {
     "data": {
      "text/plain": [
       "964.2222222222222"
      ]
     },
     "execution_count": 225,
     "metadata": {},
     "output_type": "execute_result"
    }
   ],
   "source": [
    "data=[12,23,34,5,6234,2,2,2334,32]\n",
    "avg=sum(data)/len(data)\n",
    "avg"
   ]
  },
  {
   "cell_type": "code",
   "execution_count": 229,
   "id": "4596a05a-767a-4c0c-9fbb-194d65ce6b76",
   "metadata": {},
   "outputs": [
    {
     "data": {
      "text/plain": [
       "[6234, 2334]"
      ]
     },
     "execution_count": 229,
     "metadata": {},
     "output_type": "execute_result"
    }
   ],
   "source": [
    "list(filter(lambda x:x>avg,data))"
   ]
  },
  {
   "cell_type": "code",
   "execution_count": null,
   "id": "485228a5-3829-415e-9ee8-822c09b09aa7",
   "metadata": {},
   "outputs": [],
   "source": [
    "#removing missing data"
   ]
  },
  {
   "cell_type": "code",
   "execution_count": null,
   "id": "678e08d3-f507-4f08-a7a4-f87bda76d366",
   "metadata": {},
   "outputs": [],
   "source": [
    "\" \",0,0.0,0j,[],(),{},False,None"
   ]
  },
  {
   "cell_type": "code",
   "execution_count": 233,
   "id": "7354d327-3c81-4923-af7f-ca15482afb85",
   "metadata": {},
   "outputs": [
    {
     "data": {
      "text/plain": [
       "[' ', 1, 2, 3, 44, 'dhoni']"
      ]
     },
     "execution_count": 233,
     "metadata": {},
     "output_type": "execute_result"
    }
   ],
   "source": [
    "main_data=[\" \",0,0.0,0j,[],(),{},False,None,1,2,3,44,\"dhoni\"]\n",
    "list(filter(None,main_data))"
   ]
  },
  {
   "cell_type": "code",
   "execution_count": null,
   "id": "7b63eddb-0cd3-4e1a-81c8-b68a7bb8631e",
   "metadata": {},
   "outputs": [],
   "source": []
  },
  {
   "cell_type": "code",
   "execution_count": null,
   "id": "3239827a-8225-42a5-b32e-35717ed579b1",
   "metadata": {},
   "outputs": [],
   "source": [
    "\"Map\""
   ]
  },
  {
   "cell_type": "code",
   "execution_count": null,
   "id": "7e42381e-147e-4f1a-9013-2b6c7ec7c8ae",
   "metadata": {},
   "outputs": [],
   "source": [
    "This function executes a specified function on each element of the iterable(sequenace ) and perfaps change the elements."
   ]
  },
  {
   "cell_type": "code",
   "execution_count": null,
   "id": "08f59e0d-a142-473b-94bd-36e3f2b6e115",
   "metadata": {},
   "outputs": [],
   "source": [
    "Syntax:map(function,iterable)"
   ]
  },
  {
   "cell_type": "code",
   "execution_count": 248,
   "id": "20a9e6e4-00e1-4cfc-a699-29db2127bcde",
   "metadata": {},
   "outputs": [
    {
     "data": {
      "text/plain": [
       "[1, 4, 9, 16]"
      ]
     },
     "execution_count": 248,
     "metadata": {},
     "output_type": "execute_result"
    }
   ],
   "source": [
    "sample_list=[1,2,3,4]\n",
    "list(map(lambda x:x**2,sample_list))"
   ]
  },
  {
   "cell_type": "code",
   "execution_count": 258,
   "id": "09f104d1-ac50-486b-8b03-b1b1e5931a5f",
   "metadata": {},
   "outputs": [
    {
     "data": {
      "text/plain": [
       "'Even'"
      ]
     },
     "execution_count": 258,
     "metadata": {},
     "output_type": "execute_result"
    }
   ],
   "source": [
    "def even_odd_check(n):\n",
    "    if n%2==0:\n",
    "        return \"Even\"\n",
    "    else:\n",
    "        return \"ODD\"\n",
    "\n",
    "even_odd_check(12)"
   ]
  },
  {
   "cell_type": "code",
   "execution_count": 260,
   "id": "1ba7514d-ea6b-4674-9b27-b249696726e3",
   "metadata": {},
   "outputs": [
    {
     "data": {
      "text/plain": [
       "['ODD', 'Even', 'ODD', 'Even', 'ODD', 'Even']"
      ]
     },
     "execution_count": 260,
     "metadata": {},
     "output_type": "execute_result"
    }
   ],
   "source": [
    "new_list=[1,2,3,4,5,6]\n",
    "list(map(even_odd_check,new_list))"
   ]
  },
  {
   "cell_type": "code",
   "execution_count": 278,
   "id": "48810b8a-49c2-4e18-842c-a95f0a0bc103",
   "metadata": {},
   "outputs": [],
   "source": [
    "temp_id=[(\"delhi\",12),(\"mubai\",22),(\"pune\",23)]\n",
    "Celius_to_fer=lambda x:(x[0],(x[1]*(9/5)+32))\n"
   ]
  },
  {
   "cell_type": "code",
   "execution_count": 280,
   "id": "6833e5d0-2d92-4581-b612-eb9d3935aad1",
   "metadata": {},
   "outputs": [
    {
     "data": {
      "text/plain": [
       "[('delhi', 53.6), ('mubai', 71.6), ('pune', 73.4)]"
      ]
     },
     "execution_count": 280,
     "metadata": {},
     "output_type": "execute_result"
    }
   ],
   "source": [
    "list(map(Celius_to_fer,temp_id))"
   ]
  },
  {
   "cell_type": "code",
   "execution_count": 282,
   "id": "cb21cc52-f7aa-4e57-8e07-5882d9609467",
   "metadata": {},
   "outputs": [
    {
     "data": {
      "text/plain": [
       "[53.6, 71.6, 73.4]"
      ]
     },
     "execution_count": 282,
     "metadata": {},
     "output_type": "execute_result"
    }
   ],
   "source": [
    "Celius_to_fer=lambda x:((x[1]*(9/5)+32))\n",
    "list(map(Celius_to_fer,temp_id))"
   ]
  },
  {
   "cell_type": "code",
   "execution_count": 292,
   "id": "ff262b5b-c1c9-4b37-be84-6b5a110d3e65",
   "metadata": {},
   "outputs": [
    {
     "data": {
      "text/plain": [
       "[('DELHI', 53.6, 'delhi'), ('MUBAI', 71.6, 'mubai'), ('PUNE', 73.4, 'pune')]"
      ]
     },
     "execution_count": 292,
     "metadata": {},
     "output_type": "execute_result"
    }
   ],
   "source": [
    "Celius_to_fer=lambda x:((x[0].upper(),x[1]*(9/5)+32,x[0]))\n",
    "list(map(Celius_to_fer,temp_id))"
   ]
  },
  {
   "cell_type": "code",
   "execution_count": null,
   "id": "2e33a49d-c576-4cd2-8dc9-788440485fbe",
   "metadata": {},
   "outputs": [],
   "source": []
  },
  {
   "cell_type": "code",
   "execution_count": null,
   "id": "98b0cb46-6197-4da4-8ff1-6eb402cec6c0",
   "metadata": {},
   "outputs": [],
   "source": [
    "\"Reduce\""
   ]
  },
  {
   "cell_type": "code",
   "execution_count": null,
   "id": "4fcf7228-0d7b-4f77-8e3d-c81b7a143a5f",
   "metadata": {},
   "outputs": [],
   "source": [
    "This function is used to reduce a sequence of elemnts to a single value by processing the elements according tothe function applied"
   ]
  },
  {
   "cell_type": "code",
   "execution_count": null,
   "id": "9fab1332-5951-4698-ac72-460d356827fe",
   "metadata": {},
   "outputs": [],
   "source": [
    "- it returns single value"
   ]
  },
  {
   "cell_type": "code",
   "execution_count": null,
   "id": "b19bb7be-a3e9-4d2d-b711-552d31f82774",
   "metadata": {},
   "outputs": [],
   "source": [
    "- not availble default so we have to use functools module to import and use it"
   ]
  },
  {
   "cell_type": "code",
   "execution_count": null,
   "id": "a6d30d8d-b9ef-48cd-bf77-f473a4706e3f",
   "metadata": {},
   "outputs": [],
   "source": [
    "Syntax:\n",
    "reduce(function,sequence)"
   ]
  },
  {
   "cell_type": "code",
   "execution_count": null,
   "id": "467adc39-32ec-46b2-b6c3-feb54759efc7",
   "metadata": {},
   "outputs": [],
   "source": [
    "my=[1,2,3,4]"
   ]
  },
  {
   "cell_type": "code",
   "execution_count": 294,
   "id": "97fd241c-36e3-4120-b718-da6b1f9c4397",
   "metadata": {},
   "outputs": [
    {
     "data": {
      "text/plain": [
       "<function __main__.<lambda>(x, y)>"
      ]
     },
     "execution_count": 294,
     "metadata": {},
     "output_type": "execute_result"
    }
   ],
   "source": [
    "lambda x,y:x+y"
   ]
  },
  {
   "cell_type": "code",
   "execution_count": null,
   "id": "8342d601-af91-4222-a0f0-f9efd26a5970",
   "metadata": {},
   "outputs": [],
   "source": [
    "from functools import reduce"
   ]
  },
  {
   "cell_type": "code",
   "execution_count": 300,
   "id": "461c808d-4215-455a-b92c-01c8a66cd49a",
   "metadata": {},
   "outputs": [
    {
     "data": {
      "text/plain": [
       "24"
      ]
     },
     "execution_count": 300,
     "metadata": {},
     "output_type": "execute_result"
    }
   ],
   "source": [
    "from functools import reduce\n",
    "my=[1,2,3,4]\n",
    "reduce(lambda x,y:x*y,my)"
   ]
  },
  {
   "cell_type": "code",
   "execution_count": 302,
   "id": "8cba93ba-1e25-4e99-b447-0d2a1b90925b",
   "metadata": {},
   "outputs": [
    {
     "data": {
      "text/plain": [
       "10"
      ]
     },
     "execution_count": 302,
     "metadata": {},
     "output_type": "execute_result"
    }
   ],
   "source": [
    "reduce(lambda x,y:x+y,my)"
   ]
  },
  {
   "cell_type": "code",
   "execution_count": 461,
   "id": "fe389c3f-b3dd-4ed1-8fb7-7542dfb11ba6",
   "metadata": {},
   "outputs": [
    {
     "name": "stdin",
     "output_type": "stream",
     "text": [
      "enter the no 4\n"
     ]
    },
    {
     "ename": "TypeError",
     "evalue": "'list' object is not callable",
     "output_type": "error",
     "traceback": [
      "\u001b[1;31m---------------------------------------------------------------------------\u001b[0m",
      "\u001b[1;31mTypeError\u001b[0m                                 Traceback (most recent call last)",
      "Cell \u001b[1;32mIn[461], line 2\u001b[0m\n\u001b[0;32m      1\u001b[0m x\u001b[38;5;241m=\u001b[39m\u001b[38;5;28mint\u001b[39m(\u001b[38;5;28minput\u001b[39m(\u001b[38;5;124m\"\u001b[39m\u001b[38;5;124menter the no\u001b[39m\u001b[38;5;124m\"\u001b[39m))\n\u001b[1;32m----> 2\u001b[0m fact_list\u001b[38;5;241m=\u001b[39m\u001b[38;5;28mlist\u001b[39m(\u001b[38;5;28mrange\u001b[39m(\u001b[38;5;241m1\u001b[39m,x\u001b[38;5;241m+\u001b[39m\u001b[38;5;241m1\u001b[39m))\n\u001b[0;32m      3\u001b[0m fact\u001b[38;5;241m=\u001b[39mreduce(\u001b[38;5;28;01mlambda\u001b[39;00m x,y:x\u001b[38;5;241m*\u001b[39my ,fact_list)\n\u001b[0;32m      4\u001b[0m \u001b[38;5;28mprint\u001b[39m(\u001b[38;5;124m\"\u001b[39m\u001b[38;5;124mthe factorail of \u001b[39m\u001b[38;5;132;01m{}\u001b[39;00m\u001b[38;5;124m is \u001b[39m\u001b[38;5;132;01m{}\u001b[39;00m\u001b[38;5;124m\"\u001b[39m\u001b[38;5;241m.\u001b[39mformat(x,fact))\n",
      "\u001b[1;31mTypeError\u001b[0m: 'list' object is not callable"
     ]
    }
   ],
   "source": [
    "x=int(input(\"enter the no\"))\n",
    "fact_list=list(range(1,x+1))\n",
    "fact=reduce(lambda x,y:x*y ,fact_list)\n",
    "print(\"the factorail of {} is {}\".format(x,fact))"
   ]
  },
  {
   "cell_type": "code",
   "execution_count": null,
   "id": "7021c7cb-907a-41fc-953b-e39a0f390855",
   "metadata": {},
   "outputs": [],
   "source": [
    " lambda:\n",
    "-anonomys fun\n",
    "-fun without name\n",
    "-syntax(lambda argument:exp)\n",
    "- argument can be many and exp will one\n",
    "- no def keyword is used\n",
    "- return is not needed\n",
    "- we can use lambda with high order functions such (filter,map,reduce)\n",
    "\n",
    "filter:\n",
    " filter(func,seq)\n",
    " return the true values\n",
    " list(filter(fun,sq))\n",
    "\n",
    " map:\n",
    " map(func,seq)\n",
    " perfom the operations on all value based on fun\n",
    " list()\n",
    "\n",
    "reduce:\n",
    " not by default\n",
    " functions to use it\n",
    " helps to reduce seqencetooneelement\n",
    " reduce(fun,sequence)\n",
    " "
   ]
  },
  {
   "cell_type": "code",
   "execution_count": 314,
   "id": "5715fc26-ed15-42b1-b7f9-58ca49cb2110",
   "metadata": {},
   "outputs": [
    {
     "data": {
      "text/plain": [
       "[(20, 60, 60), (80, 150, 120)]"
      ]
     },
     "execution_count": 314,
     "metadata": {},
     "output_type": "execute_result"
    }
   ],
   "source": [
    "my_list=[[10,20,30],[40,50,60]]\n",
    "list(map(lambda x:(x[0]*2,x[1]*3,x[2]*2),my_list))"
   ]
  },
  {
   "cell_type": "code",
   "execution_count": 316,
   "id": "1de22ec4-0164-4edd-bc0a-3caf8d52c808",
   "metadata": {},
   "outputs": [
    {
     "data": {
      "text/plain": [
       "[[10, 20, 30], [40, 50, 60]]"
      ]
     },
     "execution_count": 316,
     "metadata": {},
     "output_type": "execute_result"
    }
   ],
   "source": [
    "my_list=[[10,20,30],[40,50,60]]\n",
    "my_list"
   ]
  },
  {
   "cell_type": "code",
   "execution_count": 338,
   "id": "703612ac-36fa-4cad-afef-8c94bfed2730",
   "metadata": {},
   "outputs": [
    {
     "data": {
      "text/plain": [
       "45"
      ]
     },
     "execution_count": 338,
     "metadata": {},
     "output_type": "execute_result"
    }
   ],
   "source": [
    "add=lambda x,y:x*15 \n",
    "add(3)"
   ]
  },
  {
   "cell_type": "code",
   "execution_count": 340,
   "id": "cdaa96f1-1341-450e-8ced-a33d68ec1d79",
   "metadata": {},
   "outputs": [
    {
     "data": {
      "text/plain": [
       "34"
      ]
     },
     "execution_count": 340,
     "metadata": {},
     "output_type": "execute_result"
    }
   ],
   "source": [
    "add=lambda x,y:x  if x>y else y\n",
    "add(23,34)"
   ]
  },
  {
   "cell_type": "code",
   "execution_count": 366,
   "id": "6429e957-6066-4ec7-b147-4b6e885aa02d",
   "metadata": {},
   "outputs": [
    {
     "data": {
      "text/plain": [
       "[('maths', 23), ('english', 32), ('Science', 53)]"
      ]
     },
     "execution_count": 366,
     "metadata": {},
     "output_type": "execute_result"
    }
   ],
   "source": [
    "tuple1=[(\"english\",32),(\"maths\",23),(\"Science\",53)]\n",
    "tuple1.sort(key=lambda x:x[1])\n",
    "tuple1"
   ]
  },
  {
   "cell_type": "code",
   "execution_count": 419,
   "id": "cd37959f-5c5e-4b7d-b48e-0620014bac59",
   "metadata": {},
   "outputs": [
    {
     "ename": "TypeError",
     "evalue": "'list' object is not callable",
     "output_type": "error",
     "traceback": [
      "\u001b[1;31m---------------------------------------------------------------------------\u001b[0m",
      "\u001b[1;31mTypeError\u001b[0m                                 Traceback (most recent call last)",
      "Cell \u001b[1;32mIn[419], line 2\u001b[0m\n\u001b[0;32m      1\u001b[0m my_list\u001b[38;5;241m=\u001b[39m[\u001b[38;5;241m1\u001b[39m,\u001b[38;5;241m2\u001b[39m,\u001b[38;5;241m3\u001b[39m,\u001b[38;5;241m4\u001b[39m,\u001b[38;5;241m5\u001b[39m,\u001b[38;5;241m6\u001b[39m,\u001b[38;5;241m7\u001b[39m,\u001b[38;5;241m8\u001b[39m]\n\u001b[1;32m----> 2\u001b[0m \u001b[38;5;28mlist\u001b[39m(\u001b[38;5;28mfilter\u001b[39m(\u001b[38;5;28;01mlambda\u001b[39;00m x:x\u001b[38;5;241m%\u001b[39m\u001b[38;5;241m2\u001b[39m\u001b[38;5;241m==\u001b[39m\u001b[38;5;241m0\u001b[39m,my_list))\n",
      "\u001b[1;31mTypeError\u001b[0m: 'list' object is not callable"
     ]
    }
   ],
   "source": [
    "my_list=[1,2,3,4,5,6,7,8]\n",
    "list(filter(lambda x:x%2==0,my_list))"
   ]
  }
 ],
 "metadata": {
  "kernelspec": {
   "display_name": "Python 3 (ipykernel)",
   "language": "python",
   "name": "python3"
  },
  "language_info": {
   "codemirror_mode": {
    "name": "ipython",
    "version": 3
   },
   "file_extension": ".py",
   "mimetype": "text/x-python",
   "name": "python",
   "nbconvert_exporter": "python",
   "pygments_lexer": "ipython3",
   "version": "3.12.4"
  }
 },
 "nbformat": 4,
 "nbformat_minor": 5
}
