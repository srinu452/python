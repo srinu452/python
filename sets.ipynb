{
 "cells": [
  {
   "cell_type": "code",
   "execution_count": null,
   "id": "99b072bc-5a18-4a16-8f2a-ab97bf886fef",
   "metadata": {},
   "outputs": [],
   "source": [
    "                             '''Python Sets'''\n"
   ]
  },
  {
   "cell_type": "code",
   "execution_count": 4,
   "id": "e99f46f8-b09e-48d3-a386-c91ed27a1efa",
   "metadata": {},
   "outputs": [
    {
     "name": "stdout",
     "output_type": "stream",
     "text": [
      "{'apple', 'cherry', 'banana'}\n"
     ]
    }
   ],
   "source": [
    "myset={\"apple\",\"banana\",\"cherry\"}\n",
    "print(myset)"
   ]
  },
  {
   "cell_type": "code",
   "execution_count": null,
   "id": "cf4619e3-4e61-4084-8053-40b552aada47",
   "metadata": {},
   "outputs": [],
   "source": [
    "Set:\n",
    "Sets are used to store multiple items in a single varaible\n",
    "A set is a collection which is unoredered,unchangeble*,and unindexed"
   ]
  },
  {
   "cell_type": "code",
   "execution_count": null,
   "id": "01581858-83f6-4b0a-8b8b-420ce7d79f7f",
   "metadata": {},
   "outputs": [],
   "source": [
    "Note:\n",
    "Set items are unchangeble ,but we can remove the items and add the new items"
   ]
  },
  {
   "cell_type": "code",
   "execution_count": null,
   "id": "f638afae-0d22-468a-bc8d-2c6ef0f3ca81",
   "metadata": {},
   "outputs": [],
   "source": [
    "Sets are written in curly brackets:"
   ]
  },
  {
   "cell_type": "code",
   "execution_count": null,
   "id": "1fd37d32-60e3-4b8c-b94c-7578173c876c",
   "metadata": {},
   "outputs": [],
   "source": [
    "1.Create Set"
   ]
  },
  {
   "cell_type": "code",
   "execution_count": 20,
   "id": "67a9c56b-c920-4d80-85c9-a3f5f8ed007d",
   "metadata": {},
   "outputs": [
    {
     "name": "stdout",
     "output_type": "stream",
     "text": [
      "{'apple', 'banana', ('tuple',), 12, 14}\n"
     ]
    }
   ],
   "source": [
    "myset={\"apple\",\"banana\",14,12,(\"tuple\",)}\n",
    "print(myset)"
   ]
  },
  {
   "cell_type": "code",
   "execution_count": null,
   "id": "478683da-80cf-4fab-b09b-5ec234af33a0",
   "metadata": {},
   "outputs": [],
   "source": [
    "Note :\n",
    "Sets are unoredered ,so we can not be sure in which order the items will appear"
   ]
  },
  {
   "cell_type": "code",
   "execution_count": null,
   "id": "6c9c08a9-50e2-40b3-b071-63c2f40094dc",
   "metadata": {},
   "outputs": [],
   "source": [
    "2.Set Items\n",
    "Set items are Unordered and unchangeable and do not alllow duplicates values"
   ]
  },
  {
   "cell_type": "code",
   "execution_count": null,
   "id": "915ded49-dbe5-4b82-8eaf-ef94b701a6d2",
   "metadata": {},
   "outputs": [],
   "source": [
    "'''Unordered'''\n",
    "Unordered Means that the items in aset do not have a defined ordered\n",
    "set items can appear in a different in a different ordered evry time you use them,and cannot be reffered to by index or key."
   ]
  },
  {
   "cell_type": "code",
   "execution_count": null,
   "id": "5542d208-ac37-42bf-806c-7a56ab58612d",
   "metadata": {},
   "outputs": [],
   "source": [
    "'''Unchangeable'''\n",
    "sets are unchangeable that means we cannot change the items after set has been created"
   ]
  },
  {
   "cell_type": "code",
   "execution_count": null,
   "id": "5625d19c-77ed-4805-b1a9-eb9202e17c86",
   "metadata": {},
   "outputs": [],
   "source": [
    "Note:\n",
    "Once a set is created, you cannot change its items, but you can remove items and add new items."
   ]
  },
  {
   "cell_type": "code",
   "execution_count": null,
   "id": "d71fac9e-ba43-4ca3-9447-c4623432ce66",
   "metadata": {},
   "outputs": [],
   "source": [
    "'''Duplicates Not Allowed'''\n",
    "Sets cannot have two items with the same value.\n",
    "\n",
    "If give duplicate items it will take only unique values"
   ]
  },
  {
   "cell_type": "code",
   "execution_count": 22,
   "id": "bd606683-a770-43e6-bd6b-c3be1a7efec6",
   "metadata": {},
   "outputs": [
    {
     "name": "stdout",
     "output_type": "stream",
     "text": [
      "{'apple', 'banana', ('tuple',), 12, 14}\n"
     ]
    }
   ],
   "source": [
    "myset={\"apple\",\"banana\",14,12,(\"tuple\",),12,\"apple\"}\n",
    "print(myset)\n"
   ]
  },
  {
   "cell_type": "code",
   "execution_count": null,
   "id": "7722319a-aacc-4f47-9f25-89be77e812c5",
   "metadata": {},
   "outputs": [],
   "source": [
    "Note: The values True and 1 are considered the same value in sets, and are treated as duplicates:"
   ]
  },
  {
   "cell_type": "code",
   "execution_count": 26,
   "id": "3c57a632-a2c9-4a08-9b9a-ad9e2d31a8ba",
   "metadata": {},
   "outputs": [
    {
     "name": "stdout",
     "output_type": "stream",
     "text": [
      "{'apple', True, 'banana', ('tuple',), 12, 14}\n"
     ]
    }
   ],
   "source": [
    "myset={\"apple\",\"banana\",14,12,(\"tuple\",),12,\"apple\",True,1}\n",
    "print(myset)\n"
   ]
  },
  {
   "cell_type": "code",
   "execution_count": 28,
   "id": "d02bfdde-a74e-4f38-919e-1324ed5330e8",
   "metadata": {},
   "outputs": [
    {
     "name": "stdout",
     "output_type": "stream",
     "text": [
      "{'apple', 1, 'banana', ('tuple',), 12, 14}\n"
     ]
    }
   ],
   "source": [
    "myset={\"apple\",\"banana\",14,12,(\"tuple\",),12,\"apple\",1,True}\n",
    "print(myset)"
   ]
  },
  {
   "cell_type": "code",
   "execution_count": null,
   "id": "8261a9ae-b3c4-430e-819a-c1abb4a939c9",
   "metadata": {},
   "outputs": [],
   "source": [
    "Note: The values False and 0 are considered the same value in sets, and are treated as duplicates:"
   ]
  },
  {
   "cell_type": "code",
   "execution_count": 30,
   "id": "d25e4ab3-735e-455b-8625-37f913a67355",
   "metadata": {},
   "outputs": [
    {
     "name": "stdout",
     "output_type": "stream",
     "text": [
      "{'apple', 1, False, 'banana', ('tuple',), 12, 14}\n"
     ]
    }
   ],
   "source": [
    "myset={\"apple\",\"banana\",14,12,(\"tuple\",),12,\"apple\",1,True,False,0}\n",
    "print(myset)"
   ]
  },
  {
   "cell_type": "code",
   "execution_count": 32,
   "id": "6e3feb8b-b612-4d43-9609-84f7699fb8e9",
   "metadata": {},
   "outputs": [
    {
     "name": "stdout",
     "output_type": "stream",
     "text": [
      "{'apple', 1, 0, 'banana', ('tuple',), 12, 14}\n"
     ]
    }
   ],
   "source": [
    "myset={\"apple\",\"banana\",14,12,(\"tuple\",),12,\"apple\",1,True,0,False}\n",
    "print(myset)"
   ]
  },
  {
   "cell_type": "code",
   "execution_count": null,
   "id": "fcff8646-6587-4eac-b749-a9dc75e0a356",
   "metadata": {},
   "outputs": [],
   "source": [
    "3.Length of set\n",
    "Using len()  function to get number of items in a set"
   ]
  },
  {
   "cell_type": "code",
   "execution_count": 34,
   "id": "dcf3b8b4-4229-4b5a-8d54-3a178e33a2ba",
   "metadata": {},
   "outputs": [
    {
     "name": "stdout",
     "output_type": "stream",
     "text": [
      "7\n"
     ]
    }
   ],
   "source": [
    "myset={\"apple\",\"banana\",14,12,(\"tuple\",),12,\"apple\",1,True,False,0}\n",
    "print(len(myset)) #duplicates cannot considered\n"
   ]
  },
  {
   "cell_type": "code",
   "execution_count": null,
   "id": "4d223fe7-aab3-45eb-b397-4a08a5126120",
   "metadata": {},
   "outputs": [],
   "source": [
    "4.Set Items - Data Types\n",
    "Set items can be of any data type:"
   ]
  },
  {
   "cell_type": "code",
   "execution_count": 36,
   "id": "8490e7f8-76f1-42de-8ddb-0ceaa4b360ba",
   "metadata": {},
   "outputs": [
    {
     "name": "stdout",
     "output_type": "stream",
     "text": [
      "{'apple', 'cherry', 'banana'} {1, 3, 5, 7, 9} {False, True}\n"
     ]
    }
   ],
   "source": [
    "set1 = {\"apple\", \"banana\", \"cherry\"}\n",
    "set2 = {1, 5, 7, 9, 3}\n",
    "set3 = {True, False, False}\n",
    "print(set1,set2,set3)"
   ]
  },
  {
   "cell_type": "code",
   "execution_count": null,
   "id": "92237626-97ad-454c-a54c-fc8c5c861ea6",
   "metadata": {},
   "outputs": [],
   "source": [
    "A set can contain different data types:"
   ]
  },
  {
   "cell_type": "code",
   "execution_count": 38,
   "id": "25c57f86-e706-46b2-b274-ba2648e6cf50",
   "metadata": {},
   "outputs": [
    {
     "name": "stdout",
     "output_type": "stream",
     "text": [
      "{'apple', 1, False, 'banana', ('tuple',), 12, 14}\n"
     ]
    }
   ],
   "source": [
    "myset={\"apple\",\"banana\",14,12,(\"tuple\",),12,\"apple\",1,True,False,0}\n",
    "print(myset)"
   ]
  },
  {
   "cell_type": "code",
   "execution_count": null,
   "id": "6e150be0-9254-4948-b0f4-8c00778c16d8",
   "metadata": {},
   "outputs": [],
   "source": [
    "5.type():\n",
    "From Python's perspective, sets are defined as objects with the data type 'set':\n",
    "\n",
    "<class 'set'>"
   ]
  },
  {
   "cell_type": "code",
   "execution_count": 40,
   "id": "18654a9a-3284-4cd7-bc21-d573a5c7f97d",
   "metadata": {},
   "outputs": [
    {
     "name": "stdout",
     "output_type": "stream",
     "text": [
      "<class 'set'>\n"
     ]
    }
   ],
   "source": [
    "myset={\"apple\",\"banana\",14,12,(\"tuple\",),12,\"apple\",1,True,False,0}\n",
    "print(type(myset))"
   ]
  },
  {
   "cell_type": "code",
   "execution_count": null,
   "id": "1b181dbf-bb57-4f86-9eed-e488a9f1365f",
   "metadata": {},
   "outputs": [],
   "source": [
    "6.The set() Constructor:\n",
    "It is also possible to use the set() constructor to make a set.\n",
    "\n"
   ]
  },
  {
   "cell_type": "code",
   "execution_count": 42,
   "id": "c516d743-3282-4710-8bb2-f2d05f7e1430",
   "metadata": {},
   "outputs": [
    {
     "name": "stdout",
     "output_type": "stream",
     "text": [
      "{'apple', 1, False, 'banana', 12, 14, ('tuple',)}\n"
     ]
    }
   ],
   "source": [
    "myset=set((\"apple\",\"banana\",14,12,(\"tuple\",),12,\"apple\",1,True,False,0))\n",
    "print(myset)\n"
   ]
  },
  {
   "cell_type": "code",
   "execution_count": null,
   "id": "fbea1429-d8a1-4514-9d12-0ef794ba4809",
   "metadata": {},
   "outputs": [],
   "source": [
    "6.Access set items:\n",
    "You cannot access items in a set by reffering to an indexing or a key\n",
    "\n",
    "but we can loop through the set items using a for loop ,or ask \n",
    "Specified values present in given set or not "
   ]
  },
  {
   "cell_type": "code",
   "execution_count": 44,
   "id": "8e6392d2-5a16-49e9-ac19-4122e143a033",
   "metadata": {},
   "outputs": [
    {
     "name": "stdout",
     "output_type": "stream",
     "text": [
      "apple\n",
      "1\n",
      "False\n",
      "banana\n",
      "12\n",
      "14\n",
      "('tuple',)\n"
     ]
    }
   ],
   "source": [
    "myset=set((\"apple\",\"banana\",14,12,(\"tuple\",),12,\"apple\",1,True,False,0))\n",
    "for i in myset:\n",
    "    print(i)"
   ]
  },
  {
   "cell_type": "code",
   "execution_count": null,
   "id": "d7785696-11ee-4c65-88a4-48838c713396",
   "metadata": {},
   "outputs": [],
   "source": [
    "Check if \"banana\" is present in the set:"
   ]
  },
  {
   "cell_type": "code",
   "execution_count": 46,
   "id": "6a84d372-f55d-4078-ba3c-e2b27d99cf5d",
   "metadata": {},
   "outputs": [
    {
     "name": "stdout",
     "output_type": "stream",
     "text": [
      "Yes\n"
     ]
    }
   ],
   "source": [
    "myset=set((\"apple\",\"banana\",14,12,(\"tuple\",),12,\"apple\",1,True,False,0))\n",
    "if \"banana\" in myset:\n",
    "    print(\"Yes\")"
   ]
  },
  {
   "cell_type": "code",
   "execution_count": null,
   "id": "4964fe2d-f050-49f1-93fc-d171c0c13cf0",
   "metadata": {},
   "outputs": [],
   "source": [
    "Check if \"banana\" is NOT present in the set:"
   ]
  },
  {
   "cell_type": "code",
   "execution_count": 48,
   "id": "dec0482d-b377-46e5-bec3-c3696c0d979a",
   "metadata": {},
   "outputs": [
    {
     "name": "stdout",
     "output_type": "stream",
     "text": [
      "no\n"
     ]
    }
   ],
   "source": [
    "myset=set((\"apple\",\"banana\",14,12,(\"tuple\",),12,\"apple\",1,True,False,0))\n",
    "if \"banana\"  not in myset:\n",
    "    print(\"Yes\")\n",
    "else:\n",
    "    print(\"no\")"
   ]
  },
  {
   "cell_type": "code",
   "execution_count": null,
   "id": "eb831ac7-a0ea-4b6f-b605-3896f2f3105d",
   "metadata": {},
   "outputs": [],
   "source": [
    "7.Change Items:\n",
    "Once a set is created, you cannot change its items, but you can add new items."
   ]
  },
  {
   "cell_type": "code",
   "execution_count": null,
   "id": "20dbe312-713a-4694-835d-5f9f379382aa",
   "metadata": {},
   "outputs": [],
   "source": [
    "7.1:Add Items:\n",
    "to add items into set we can use set() function"
   ]
  },
  {
   "cell_type": "code",
   "execution_count": 52,
   "id": "2ead3e67-3f12-4318-8398-abbd039a8d4c",
   "metadata": {},
   "outputs": [
    {
     "name": "stdout",
     "output_type": "stream",
     "text": [
      "{'apple', 1, False, 'banana', ('tuple',), 12, 'iphone', 14}\n"
     ]
    }
   ],
   "source": [
    "myset={\"apple\",\"banana\",14,12,(\"tuple\",),12,\"apple\",1,True,False,0}\n",
    "myset.add(\"iphone\")\n",
    "print(myset)"
   ]
  },
  {
   "cell_type": "code",
   "execution_count": null,
   "id": "89febbf1-4e81-4055-8cee-39f4da115a9d",
   "metadata": {},
   "outputs": [],
   "source": [
    "7.2 ADD SEts:update()\n",
    "to add items from another set we can use update() function\n"
   ]
  },
  {
   "cell_type": "code",
   "execution_count": 54,
   "id": "db3895a1-320a-428b-b208-efe915bb637f",
   "metadata": {},
   "outputs": [
    {
     "name": "stdout",
     "output_type": "stream",
     "text": [
      "{'apple', 1, False, 'papaya', 'banana', 12, 'mango', 14, 'pineapple', ('tuple',)}\n"
     ]
    }
   ],
   "source": [
    "myset={\"apple\",\"banana\",14,12,(\"tuple\",),12,\"apple\",1,True,False,0}\n",
    "set1 = {\"pineapple\", \"mango\", \"papaya\"}\n",
    "myset.update(set1)\n",
    "print(myset)"
   ]
  },
  {
   "cell_type": "code",
   "execution_count": null,
   "id": "4aaa9f2f-3b5d-4a67-b21f-51deeee133e7",
   "metadata": {},
   "outputs": [],
   "source": [
    "7.4Add Any Iterable:\n",
    "We can add any iterable objext (tuples,lists ,dictionaries)"
   ]
  },
  {
   "cell_type": "code",
   "execution_count": 56,
   "id": "bed5db9a-a726-468f-a218-d0ee7c4c9108",
   "metadata": {},
   "outputs": [
    {
     "name": "stdout",
     "output_type": "stream",
     "text": [
      "{False, 1, 'papaya', 'banana', 12, 'mango', 14, ('tuple',), 'apple', 'pineapple'}\n"
     ]
    }
   ],
   "source": [
    "myset={\"apple\",\"banana\",14,12,(\"tuple\",),12,\"apple\",1,True,False,0}\n",
    "set1 = (\"pineapple\", \"mango\", \"papaya\")\n",
    "myset.update(set1)\n",
    "print(myset)"
   ]
  },
  {
   "cell_type": "code",
   "execution_count": 66,
   "id": "21be4e9d-f830-4200-952f-8fa626ffaea4",
   "metadata": {},
   "outputs": [
    {
     "name": "stdout",
     "output_type": "stream",
     "text": [
      "{False, 1, 'apple', 'rayuudy', 'papaya', 'banana', 12, 'mango', 14, 'pineapple', ('tuple',)}\n"
     ]
    }
   ],
   "source": [
    "myset={False, 1, 'papaya', 'banana', 12, 'mango', 14, ('tuple',), 'apple', 'pineapple'}\n",
    "\n",
    "set1 = [\"mango\", \"mango\", \"rayuudy\",12]\n",
    "myset.update(set1)\n",
    "print(myset)"
   ]
  },
  {
   "cell_type": "code",
   "execution_count": null,
   "id": "b207bef5-b25c-412c-aea9-9f7ff5649fb9",
   "metadata": {},
   "outputs": [],
   "source": [
    "8.Remove set Items :\n",
    "To remove an items in set we can use the remove() or discard() function"
   ]
  },
  {
   "cell_type": "code",
   "execution_count": 76,
   "id": "80993012-6f04-4bc6-9a37-cd8dc43064cb",
   "metadata": {},
   "outputs": [
    {
     "name": "stdout",
     "output_type": "stream",
     "text": [
      "{False, 1, 'papaya', 'banana', 'pineapple', 12, 'mango', 14, 'rayuudy', ('tuple',)}\n"
     ]
    }
   ],
   "source": [
    "myset={False, 1, 'apple', 'rayuudy', 'papaya', 'banana', 12, 'mango', 14, 'pineapple', ('tuple',)}\n",
    "myset.remove(\"apple\")\n",
    "print(myset)#Note: If the item to remove does not exist, remove() will raise an error."
   ]
  },
  {
   "cell_type": "code",
   "execution_count": 86,
   "id": "a9900b03-afe0-435a-9a4b-f9e711d596ff",
   "metadata": {},
   "outputs": [
    {
     "name": "stdout",
     "output_type": "stream",
     "text": [
      "{False, 1, 'papaya', 'banana', 'pineapple', 12, 'mango', 14, 'rayuudy', ('tuple',)}\n"
     ]
    }
   ],
   "source": [
    "myset={False, 1, 'apple', 'rayuudy', 'papaya', 'banana', 12, 'mango', 14, 'pineapple', ('tuple',)}\n",
    "myset.discard(\"apple\")#Note: If the item to remove does not exist, discard() will NOT raise an error.\n",
    "print(myset)"
   ]
  },
  {
   "cell_type": "code",
   "execution_count": 88,
   "id": "deefc98f-aa00-411e-91b3-0db7746e3a86",
   "metadata": {},
   "outputs": [
    {
     "ename": "KeyError",
     "evalue": "'ple'",
     "output_type": "error",
     "traceback": [
      "\u001b[1;31m---------------------------------------------------------------------------\u001b[0m",
      "\u001b[1;31mKeyError\u001b[0m                                  Traceback (most recent call last)",
      "Cell \u001b[1;32mIn[88], line 2\u001b[0m\n\u001b[0;32m      1\u001b[0m myset\u001b[38;5;241m=\u001b[39m{\u001b[38;5;28;01mFalse\u001b[39;00m, \u001b[38;5;241m1\u001b[39m, \u001b[38;5;124m'\u001b[39m\u001b[38;5;124mapple\u001b[39m\u001b[38;5;124m'\u001b[39m, \u001b[38;5;124m'\u001b[39m\u001b[38;5;124mrayuudy\u001b[39m\u001b[38;5;124m'\u001b[39m, \u001b[38;5;124m'\u001b[39m\u001b[38;5;124mpapaya\u001b[39m\u001b[38;5;124m'\u001b[39m, \u001b[38;5;124m'\u001b[39m\u001b[38;5;124mbanana\u001b[39m\u001b[38;5;124m'\u001b[39m, \u001b[38;5;241m12\u001b[39m, \u001b[38;5;124m'\u001b[39m\u001b[38;5;124mmango\u001b[39m\u001b[38;5;124m'\u001b[39m, \u001b[38;5;241m14\u001b[39m, \u001b[38;5;124m'\u001b[39m\u001b[38;5;124mpineapple\u001b[39m\u001b[38;5;124m'\u001b[39m, (\u001b[38;5;124m'\u001b[39m\u001b[38;5;124mtuple\u001b[39m\u001b[38;5;124m'\u001b[39m,)}\n\u001b[1;32m----> 2\u001b[0m myset\u001b[38;5;241m.\u001b[39mremove(\u001b[38;5;124m\"\u001b[39m\u001b[38;5;124mple\u001b[39m\u001b[38;5;124m\"\u001b[39m)\n\u001b[0;32m      3\u001b[0m \u001b[38;5;28mprint\u001b[39m(myset)\n",
      "\u001b[1;31mKeyError\u001b[0m: 'ple'"
     ]
    }
   ],
   "source": [
    "#Note: If the item to remove does not exist, remove() will raise an error.\n",
    "myset={False, 1, 'apple', 'rayuudy', 'papaya', 'banana', 12, 'mango', 14, 'pineapple', ('tuple',)}\n",
    "myset.remove(\"ple\")\n",
    "print(myset)"
   ]
  },
  {
   "cell_type": "code",
   "execution_count": 90,
   "id": "99c34a36-e9d7-4037-90a5-cb615d194abb",
   "metadata": {},
   "outputs": [
    {
     "name": "stdout",
     "output_type": "stream",
     "text": [
      "{False, 1, 'apple', 'papaya', 'banana', 'pineapple', 12, 'mango', 14, 'rayuudy', ('tuple',)}\n"
     ]
    }
   ],
   "source": [
    "#Note: If the item to remove does not exist, discard() will NOT raise an error.\n",
    "\n",
    "myset={False, 1, 'apple', 'rayuudy', 'papaya', 'banana', 12, 'mango', 14, 'pineapple', ('tuple',)}\n",
    "myset.discard(\"ale\")\n",
    "print(myset)"
   ]
  },
  {
   "cell_type": "code",
   "execution_count": null,
   "id": "f4f4763c-a1c4-41b6-9500-c0680e5ecf16",
   "metadata": {},
   "outputs": [],
   "source": [
    "8.1: pop():we can also use the pop() method to delete the item,\n",
    "but here we couldnot know the which item will be deleting"
   ]
  },
  {
   "cell_type": "code",
   "execution_count": 98,
   "id": "bc8b4ede-8366-4419-90fb-a0ae1ffcdb2b",
   "metadata": {},
   "outputs": [
    {
     "name": "stdout",
     "output_type": "stream",
     "text": [
      "False\n",
      "{1, 'apple', 'rayuudy', 'papaya', 'banana', 12, 'mango', 14, 'pineapple', ('tuple',)}\n"
     ]
    }
   ],
   "source": [
    "set1={False, 1, 'apple', 'papaya', 'banana', 'pineapple', 12, 'mango', 14, 'rayuudy', ('tuple',)}\n",
    "x=set1.pop()\n",
    "\n",
    "print(x)\n",
    "print(set1)"
   ]
  },
  {
   "cell_type": "code",
   "execution_count": null,
   "id": "adf20e18-4c34-4737-9c81-9f9914a1fa0c",
   "metadata": {},
   "outputs": [],
   "source": [
    "8.2 clear() : used to empty the set"
   ]
  },
  {
   "cell_type": "code",
   "execution_count": 100,
   "id": "a6eaf875-22c5-4236-b5a4-e40837741d3c",
   "metadata": {},
   "outputs": [
    {
     "name": "stdout",
     "output_type": "stream",
     "text": [
      "set()\n"
     ]
    }
   ],
   "source": [
    "set1={False, 1, 'apple', 'papaya', 'banana', 'pineapple', 12, 'mango', 14, 'rayuudy', ('tuple',)}\n",
    "set1.clear()\n",
    "print(set1)"
   ]
  },
  {
   "cell_type": "code",
   "execution_count": null,
   "id": "7a853479-b767-4051-9b7d-f74fac57529b",
   "metadata": {},
   "outputs": [],
   "source": [
    "The del keyword will delete the set completely:"
   ]
  },
  {
   "cell_type": "code",
   "execution_count": 102,
   "id": "8691e975-9add-4cdf-bd41-f1a7b7c0b6a4",
   "metadata": {},
   "outputs": [
    {
     "ename": "NameError",
     "evalue": "name 'set1' is not defined",
     "output_type": "error",
     "traceback": [
      "\u001b[1;31m---------------------------------------------------------------------------\u001b[0m",
      "\u001b[1;31mNameError\u001b[0m                                 Traceback (most recent call last)",
      "Cell \u001b[1;32mIn[102], line 3\u001b[0m\n\u001b[0;32m      1\u001b[0m set1\u001b[38;5;241m=\u001b[39m{\u001b[38;5;28;01mFalse\u001b[39;00m, \u001b[38;5;241m1\u001b[39m, \u001b[38;5;124m'\u001b[39m\u001b[38;5;124mapple\u001b[39m\u001b[38;5;124m'\u001b[39m, \u001b[38;5;124m'\u001b[39m\u001b[38;5;124mpapaya\u001b[39m\u001b[38;5;124m'\u001b[39m, \u001b[38;5;124m'\u001b[39m\u001b[38;5;124mbanana\u001b[39m\u001b[38;5;124m'\u001b[39m, \u001b[38;5;124m'\u001b[39m\u001b[38;5;124mpineapple\u001b[39m\u001b[38;5;124m'\u001b[39m, \u001b[38;5;241m12\u001b[39m, \u001b[38;5;124m'\u001b[39m\u001b[38;5;124mmango\u001b[39m\u001b[38;5;124m'\u001b[39m, \u001b[38;5;241m14\u001b[39m, \u001b[38;5;124m'\u001b[39m\u001b[38;5;124mrayuudy\u001b[39m\u001b[38;5;124m'\u001b[39m, (\u001b[38;5;124m'\u001b[39m\u001b[38;5;124mtuple\u001b[39m\u001b[38;5;124m'\u001b[39m,)}\n\u001b[0;32m      2\u001b[0m \u001b[38;5;28;01mdel\u001b[39;00m set1\n\u001b[1;32m----> 3\u001b[0m \u001b[38;5;28mprint\u001b[39m(set1)\n",
      "\u001b[1;31mNameError\u001b[0m: name 'set1' is not defined"
     ]
    }
   ],
   "source": [
    "set1={False, 1, 'apple', 'papaya', 'banana', 'pineapple', 12, 'mango', 14, 'rayuudy', ('tuple',)}\n",
    "del set1\n",
    "print(set1) #this will raise an error because the set no longer exists"
   ]
  },
  {
   "cell_type": "code",
   "execution_count": null,
   "id": "9e171093-f296-40b9-87d4-0e8c374f3178",
   "metadata": {},
   "outputs": [],
   "source": [
    "9.Loop Sets \n",
    "we can loop through the sets using for loop\n"
   ]
  },
  {
   "cell_type": "code",
   "execution_count": 104,
   "id": "188867ae-0b67-403c-a33b-8931b850a017",
   "metadata": {},
   "outputs": [
    {
     "name": "stdout",
     "output_type": "stream",
     "text": [
      "False\n",
      "1\n",
      "apple\n",
      "rayuudy\n",
      "papaya\n",
      "banana\n",
      "12\n",
      "mango\n",
      "14\n",
      "pineapple\n",
      "('tuple',)\n"
     ]
    }
   ],
   "source": [
    "set1={False, 1, 'apple', 'papaya', 'banana', 'pineapple', 12, 'mango', 14, 'rayuudy', ('tuple',)}\n",
    "for i in set1:\n",
    "    print(i)"
   ]
  },
  {
   "cell_type": "code",
   "execution_count": null,
   "id": "f3b3c32b-ced5-41e1-9730-0687d5bbcf58",
   "metadata": {},
   "outputs": [],
   "source": [
    "10.Joins sets:\n",
    "The union()and update() methods Joins all items from both sets\n",
    "the intersection() method keeps only duplicates\n",
    "the difference() methods keeps only the items from the first set that are not in in the other set()\n",
    "The symmetric_difference() method keeps all items EXCEPT the duplicates.\n"
   ]
  },
  {
   "cell_type": "code",
   "execution_count": null,
   "id": "a44528a4-6ece-4056-952e-30ad5cfc0221",
   "metadata": {},
   "outputs": [],
   "source": [
    "10.1 union():The union() method returns a new set with all items from both sets."
   ]
  },
  {
   "cell_type": "code",
   "execution_count": 110,
   "id": "76f06e4c-e115-4498-8e08-a5bb8983d7a0",
   "metadata": {},
   "outputs": [
    {
     "name": "stdout",
     "output_type": "stream",
     "text": [
      "{False, 1, 'apple', 'kajjjakaya', 'rayuudy', 'papaya', 'banana', 12, 'mango', 14, 'vasu', 'pineapple', ('tuple',)}\n"
     ]
    }
   ],
   "source": [
    "set1={False, 1, 'apple', 'papaya', 'banana', 'pineapple', 12, 'mango', 14, 'rayuudy', ('tuple',)}\n",
    "set2={\"apple\",\"kajjjakaya\",\"vasu\"}\n",
    "set3=set1.union(set2)\n",
    "print(set3)"
   ]
  },
  {
   "cell_type": "code",
   "execution_count": null,
   "id": "ea812b5c-8b88-414a-8b57-2308b8efe25c",
   "metadata": {},
   "outputs": [],
   "source": [
    "You can use the | operator instead of the union() method, and you will get the same result."
   ]
  },
  {
   "cell_type": "code",
   "execution_count": 114,
   "id": "5b6e0874-8333-4dc8-b76d-f37e9b6089b8",
   "metadata": {},
   "outputs": [
    {
     "name": "stdout",
     "output_type": "stream",
     "text": [
      "{False, 1, 'apple', 'kajjjakaya', 'rayuudy', 'papaya', 'banana', 12, 'mango', 14, 15, 'vasu', 'pineapple', ('tuple',)}\n"
     ]
    }
   ],
   "source": [
    "set1={False, 1, 'apple', 'papaya', 'banana', 'pineapple', 12, 'mango', 14, 'rayuudy', ('tuple',)}\n",
    "set2={\"apple\",\"kajjjakaya\",\"vasu\",15}\n",
    "set3=set1 | set2\n",
    "print(set3)"
   ]
  },
  {
   "cell_type": "code",
   "execution_count": null,
   "id": "8d543fa8-a9e3-40cf-8065-c87b777b8c64",
   "metadata": {},
   "outputs": [],
   "source": [
    "10.6 Join Multiple Sets:\n",
    "All the joining methods and operators can be used to join multiple sets.\n",
    "\n",
    "When using a method, just add more sets in the parentheses, separated by commas:"
   ]
  },
  {
   "cell_type": "code",
   "execution_count": 120,
   "id": "915bcc72-1320-492f-94fe-de47987c96cc",
   "metadata": {},
   "outputs": [
    {
     "name": "stdout",
     "output_type": "stream",
     "text": [
      "{False, 1, 'kajjjakaya', 2, 3, 'papaya', 'banana', 12, 'mango', 14, 15, 'John', 'vasu', 'rayuudy', ('tuple',), 'Elena', 'cherry', 'apple', 'a', 'b', 'c', 'bananas', 'pineapple'}\n"
     ]
    }
   ],
   "source": [
    "set1={False, 1, 'apple', 'papaya', 'banana', 'pineapple', 12, 'mango', 14, 'rayuudy', ('tuple',)}\n",
    "set2={\"apple\",\"kajjjakaya\",\"vasu\",15}\n",
    "set3 = {\"a\", \"b\", \"c\"}\n",
    "set4 = {1, 2, 3}\n",
    "set5 = {\"John\", \"Elena\"}\n",
    "set6 = {\"apple\", \"bananas\", \"cherry\"}\n",
    "set7=set1 .union( set2,set3,set4,set5,set6)\n",
    "print(set7)"
   ]
  },
  {
   "cell_type": "code",
   "execution_count": null,
   "id": "83e86089-1093-4cab-8a3a-87f62ac32012",
   "metadata": {},
   "outputs": [],
   "source": [
    "hen using the | operator, separate the sets with more | operators:"
   ]
  },
  {
   "cell_type": "code",
   "execution_count": 122,
   "id": "b80450ba-5b31-495e-9c59-bde260969324",
   "metadata": {},
   "outputs": [
    {
     "name": "stdout",
     "output_type": "stream",
     "text": [
      "{'apple', 1, 2, 3, 'a', 'b', 'John', 'c', 'bananas', 'Elena', 'cherry'}\n"
     ]
    }
   ],
   "source": [
    "set1 = {\"a\", \"b\", \"c\"}\n",
    "set2 = {1, 2, 3}\n",
    "set3 = {\"John\", \"Elena\"}\n",
    "set4 = {\"apple\", \"bananas\", \"cherry\"}\n",
    "\n",
    "myset = set1 | set2 | set3 |set4\n",
    "print(myset)\n"
   ]
  },
  {
   "cell_type": "code",
   "execution_count": null,
   "id": "19e60bf6-3b03-4dd7-ac81-961eb1355fee",
   "metadata": {},
   "outputs": [],
   "source": [
    "Join a Set and a Tuple\n",
    "The union() method allows you to join a set with other data types, like lists or tuples.\n",
    "\n",
    "The result will be a set.\n",
    "\n"
   ]
  },
  {
   "cell_type": "code",
   "execution_count": 126,
   "id": "8527291c-0ce4-4abf-8c84-a8829ccee8e6",
   "metadata": {},
   "outputs": [
    {
     "name": "stdout",
     "output_type": "stream",
     "text": [
      "{1, 2, 3, 4, 'a', 'srinu', 'b', 5, 'c'}\n"
     ]
    }
   ],
   "source": [
    "x = {\"a\", \"b\", \"c\"}\n",
    "y = (1, 2, 3)\n",
    "z=[1,2,\"srinu\",4,5,]\n",
    "\n",
    "z = x.union(y,z)\n",
    "print(z)"
   ]
  },
  {
   "cell_type": "code",
   "execution_count": null,
   "id": "d3f00ae5-b422-4f6a-9fea-003cf0cb2d50",
   "metadata": {},
   "outputs": [],
   "source": [
    "Note: The  | operator only allows you to join sets with sets, and not with other data types like you can with the  union() method."
   ]
  },
  {
   "cell_type": "code",
   "execution_count": null,
   "id": "53aae39b-aeec-4812-855e-7e521bcc5340",
   "metadata": {},
   "outputs": [],
   "source": [
    "12.Intersection():Keep ONLY the duplicates\n",
    "The intersection() method will return a new set, that only contains the items that are present in both sets."
   ]
  },
  {
   "cell_type": "code",
   "execution_count": 128,
   "id": "1186daba-20b3-4695-8201-a903109db7e0",
   "metadata": {},
   "outputs": [
    {
     "name": "stdout",
     "output_type": "stream",
     "text": [
      "set()\n"
     ]
    }
   ],
   "source": [
    "set1={False, 1, 'apple', 'papaya', 'banana', 'pineapple', 12, 'mango', 14, 'rayuudy', ('tuple',)}\n",
    "set2={\"apple\",\"kajjjakaya\",\"vasu\",15}\n",
    "set3 = {\"a\", \"b\", ,\"apple\",\"c\"}\n",
    "set4 = {1, 2,12, 3}\n",
    "set5 = {\"John\", \"vasu\",\"Elena\"}\n",
    "set6 = {\"apple\", \"bananas\", \"cherry\"}\n",
    "set7=set1.intersection(set2,set3,set4,set5,set6)\n",
    "print(set7)"
   ]
  },
  {
   "cell_type": "code",
   "execution_count": 130,
   "id": "5dfb03fa-a7c9-45ca-8038-0d47647dc880",
   "metadata": {},
   "outputs": [
    {
     "name": "stdout",
     "output_type": "stream",
     "text": [
      "{'apple'}\n"
     ]
    }
   ],
   "source": [
    "set7=set1.intersection(set2)\n",
    "print(set7)"
   ]
  },
  {
   "cell_type": "code",
   "execution_count": 132,
   "id": "614d08e5-86dc-4913-86f0-a718982d0eba",
   "metadata": {},
   "outputs": [
    {
     "name": "stdout",
     "output_type": "stream",
     "text": [
      "set()\n"
     ]
    }
   ],
   "source": [
    "set7=set1.intersection(set2,set3)\n",
    "print(set7)"
   ]
  },
  {
   "cell_type": "code",
   "execution_count": null,
   "id": "a10efc0d-ce92-45f9-b591-d1b4c5cf4a48",
   "metadata": {},
   "outputs": [],
   "source": [
    "You can use the & operator instead of the intersection() method, and you will get the same result."
   ]
  },
  {
   "cell_type": "code",
   "execution_count": 134,
   "id": "3687d6a6-b080-4940-bacf-c1e811de86cd",
   "metadata": {},
   "outputs": [
    {
     "name": "stdout",
     "output_type": "stream",
     "text": [
      "{'apple'}\n"
     ]
    }
   ],
   "source": [
    "set1 = {\"apple\", \"banana\", \"cherry\"}\n",
    "set2 = {\"google\", \"microsoft\", \"apple\"}\n",
    "\n",
    "set3 = set1 & set2\n",
    "print(set3)"
   ]
  },
  {
   "cell_type": "code",
   "execution_count": null,
   "id": "d8d886f4-bedb-4529-a9f6-8ced4d82a551",
   "metadata": {},
   "outputs": [],
   "source": [
    "Note: The & operator only allows you to join sets with sets, and not with other data types like you can with the intersection() method."
   ]
  },
  {
   "cell_type": "code",
   "execution_count": null,
   "id": "58f5e467-e34c-4189-9a61-4b471c72ca0b",
   "metadata": {},
   "outputs": [],
   "source": [
    "14.intersection_update() method will also keep ONLY the duplicates, but it will change the original set instead of returning a new set."
   ]
  },
  {
   "cell_type": "code",
   "execution_count": 136,
   "id": "1a9719ee-9acb-46dd-bcb6-a77c514d16f6",
   "metadata": {},
   "outputs": [
    {
     "name": "stdout",
     "output_type": "stream",
     "text": [
      "{'apple'}\n"
     ]
    }
   ],
   "source": [
    "set1 = {\"apple\", \"banana\", \"cherry\"}\n",
    "set2 = {\"google\", \"microsoft\", \"apple\"}\n",
    "\n",
    "set1.intersection_update(set2)\n",
    "\n",
    "print(set1)"
   ]
  },
  {
   "cell_type": "code",
   "execution_count": null,
   "id": "89ac1ebd-73dc-48db-812b-4669b3f903c9",
   "metadata": {},
   "outputs": [],
   "source": [
    "The values True and 1 are considered the same value. The same goes for False and 0."
   ]
  },
  {
   "cell_type": "code",
   "execution_count": 138,
   "id": "ad85af0c-f55e-40b9-b286-5c98c9f5e76b",
   "metadata": {},
   "outputs": [
    {
     "name": "stdout",
     "output_type": "stream",
     "text": [
      "{False, 1, 'apple'}\n"
     ]
    }
   ],
   "source": [
    "set1 = {\"apple\", 1,  \"banana\", 0, \"cherry\"}\n",
    "set2 = {False, \"google\", 1, \"apple\", 2, True}\n",
    "\n",
    "set3 = set1.intersection(set2)\n",
    "\n",
    "print(set3)"
   ]
  },
  {
   "cell_type": "code",
   "execution_count": null,
   "id": "b73ec2a3-23c1-4808-92fa-68932cb3b83b",
   "metadata": {},
   "outputs": [],
   "source": [
    "15.Difference() method will return new set that will conatain only\n",
    "the items from the first set that ara not present in the other set'"
   ]
  },
  {
   "cell_type": "code",
   "execution_count": 140,
   "id": "69aece96-f3e2-4b2b-b5df-d508b28e0982",
   "metadata": {},
   "outputs": [
    {
     "name": "stdout",
     "output_type": "stream",
     "text": [
      "{'banana', 'cherry'}\n"
     ]
    }
   ],
   "source": [
    "set1 = {\"apple\", \"banana\", \"cherry\"}\n",
    "set2 = {\"google\", \"microsoft\", \"apple\"}\n",
    "\n",
    "set3 = set1.difference(set2)\n",
    "\n",
    "print(set3)"
   ]
  },
  {
   "cell_type": "code",
   "execution_count": null,
   "id": "cfcab7a6-92d6-482a-80db-fccb7dd90393",
   "metadata": {},
   "outputs": [],
   "source": [
    "You can use the - operator instead of the difference() method, and you will get the same result."
   ]
  },
  {
   "cell_type": "code",
   "execution_count": 142,
   "id": "1eb244f9-daa6-4071-a6d6-1cf3f5318502",
   "metadata": {},
   "outputs": [
    {
     "name": "stdout",
     "output_type": "stream",
     "text": [
      "{'banana', 'cherry'}\n"
     ]
    }
   ],
   "source": [
    "set1 = {\"apple\", \"banana\", \"cherry\"}\n",
    "set2 = {\"google\", \"microsoft\", \"apple\"}\n",
    "\n",
    "set3 = set1 - set2\n",
    "print(set3)"
   ]
  },
  {
   "cell_type": "code",
   "execution_count": null,
   "id": "2d0aa4a4-4e50-4851-af48-cd51947c1b3b",
   "metadata": {},
   "outputs": [],
   "source": [
    "Note: The - operator only allows you to join sets with sets, and not with other data types like you can with the difference() method."
   ]
  },
  {
   "cell_type": "code",
   "execution_count": null,
   "id": "b73ecd13-e9fb-48ef-8d36-6253150d63c0",
   "metadata": {},
   "outputs": [],
   "source": [
    "difference_update() method will also keep the items from the first set that are not in the other set, but it will change the original set instead of returning a new set."
   ]
  },
  {
   "cell_type": "code",
   "execution_count": 144,
   "id": "1e08c50d-df1d-4f2b-a0a2-5723ca2af75b",
   "metadata": {},
   "outputs": [
    {
     "name": "stdout",
     "output_type": "stream",
     "text": [
      "{'cherry', 'banana'}\n"
     ]
    }
   ],
   "source": [
    "set1 = {\"apple\", \"banana\", \"cherry\"}\n",
    "set2 = {\"google\", \"microsoft\", \"apple\"}\n",
    "\n",
    "set1.difference_update(set2)\n",
    "\n",
    "print(set1)"
   ]
  },
  {
   "cell_type": "code",
   "execution_count": null,
   "id": "54327a5c-3fc9-4d12-b9b5-f26deae43ad9",
   "metadata": {},
   "outputs": [],
   "source": [
    "18.Symmetric Differences\n",
    "The symmetric_difference() method will keep only the elements that are NOT present in both sets."
   ]
  },
  {
   "cell_type": "code",
   "execution_count": 146,
   "id": "e8e2029c-bb68-4eeb-b95d-d7143316a4b1",
   "metadata": {},
   "outputs": [
    {
     "name": "stdout",
     "output_type": "stream",
     "text": [
      "{'microsoft', 'banana', 'google', 'cherry'}\n"
     ]
    }
   ],
   "source": [
    "set1 = {\"apple\", \"banana\", \"cherry\"}\n",
    "set2 = {\"google\", \"microsoft\", \"apple\"}\n",
    "\n",
    "set3 = set1.symmetric_difference(set2)\n",
    "\n",
    "print(set3)"
   ]
  },
  {
   "cell_type": "code",
   "execution_count": null,
   "id": "6975d133-d03a-4212-838e-f51ee5ea8efe",
   "metadata": {},
   "outputs": [],
   "source": [
    "You can use the ^ operator instead of the symmetric_difference() method, and you will get the same result."
   ]
  },
  {
   "cell_type": "code",
   "execution_count": 148,
   "id": "c2e74591-f38f-4002-8431-8b4f16891ba6",
   "metadata": {},
   "outputs": [
    {
     "name": "stdout",
     "output_type": "stream",
     "text": [
      "{'microsoft', 'banana', 'google', 'cherry'}\n"
     ]
    }
   ],
   "source": [
    "set1 = {\"apple\", \"banana\", \"cherry\"}\n",
    "set2 = {\"google\", \"microsoft\", \"apple\"}\n",
    "\n",
    "set3 = set1 ^ set2\n",
    "print(set3)"
   ]
  },
  {
   "cell_type": "code",
   "execution_count": null,
   "id": "2868eb74-278e-4d4f-8131-d98b3e91265b",
   "metadata": {},
   "outputs": [],
   "source": [
    "Note: The ^ operator only allows you to join sets with sets, and not with other data types like you can with the symmetric_difference() method."
   ]
  },
  {
   "cell_type": "code",
   "execution_count": null,
   "id": "ac8e1a8c-cda7-4b84-ba0a-c84ebce69fd4",
   "metadata": {},
   "outputs": [],
   "source": [
    "20.symmetric_difference_update() method will also keep all but the duplicates, but it will change the original set instead of returning a new set.\n",
    "\n"
   ]
  },
  {
   "cell_type": "code",
   "execution_count": 150,
   "id": "62e7f423-47cd-4bb3-a85a-2b2dc6f1e26a",
   "metadata": {},
   "outputs": [
    {
     "name": "stdout",
     "output_type": "stream",
     "text": [
      "{'microsoft', 'cherry', 'google', 'banana'}\n"
     ]
    }
   ],
   "source": [
    "set1 = {\"apple\", \"banana\", \"cherry\"}\n",
    "set2 = {\"google\", \"microsoft\", \"apple\"}\n",
    "\n",
    "set1.symmetric_difference_update(set2)\n",
    "\n",
    "print(set1)"
   ]
  },
  {
   "cell_type": "code",
   "execution_count": null,
   "id": "b56fb38a-8904-46ee-825a-ae545a8f067b",
   "metadata": {},
   "outputs": [],
   "source": []
  },
  {
   "cell_type": "code",
   "execution_count": null,
   "id": "d2f8966a-f38d-4bef-9838-321639d92154",
   "metadata": {},
   "outputs": [],
   "source": []
  },
  {
   "cell_type": "code",
   "execution_count": null,
   "id": "752ad54f-a1ab-4cb7-b60c-72a2407c0589",
   "metadata": {},
   "outputs": [],
   "source": []
  },
  {
   "cell_type": "code",
   "execution_count": null,
   "id": "e46c0eaa-d3c3-4446-a313-b576338bdb68",
   "metadata": {},
   "outputs": [],
   "source": []
  },
  {
   "cell_type": "code",
   "execution_count": null,
   "id": "bc1b08b2-0246-4841-a85a-64732f8a383f",
   "metadata": {},
   "outputs": [],
   "source": []
  },
  {
   "cell_type": "code",
   "execution_count": null,
   "id": "732afc57-998e-4d3b-bc4a-e4f6f466ac9d",
   "metadata": {},
   "outputs": [],
   "source": []
  },
  {
   "cell_type": "code",
   "execution_count": null,
   "id": "c2b391c5-9edb-425c-8e70-0d9e1ecd1c5f",
   "metadata": {},
   "outputs": [],
   "source": []
  },
  {
   "cell_type": "code",
   "execution_count": null,
   "id": "c7ed1243-d282-44dd-9795-43499aa1668f",
   "metadata": {},
   "outputs": [],
   "source": []
  },
  {
   "cell_type": "code",
   "execution_count": null,
   "id": "34940b15-31eb-443f-8509-be53168c4252",
   "metadata": {},
   "outputs": [],
   "source": []
  },
  {
   "cell_type": "code",
   "execution_count": null,
   "id": "7876a0fc-9324-4096-9c96-d885adcc31bf",
   "metadata": {},
   "outputs": [],
   "source": []
  },
  {
   "cell_type": "code",
   "execution_count": null,
   "id": "f0be6a26-1bba-4468-8bf6-262df6fe550e",
   "metadata": {},
   "outputs": [],
   "source": [
    "21.isdisjoint():\n",
    "Definition and Usage\n",
    "The isdisjoint() method returns True if none of the items are present in both sets, otherwise it returns False.\n",
    "\n",
    "    Return True if no items in set x is present in set y:"
   ]
  },
  {
   "cell_type": "code",
   "execution_count": 152,
   "id": "120b3c7a-d01d-4733-bb12-88b446b78cdf",
   "metadata": {},
   "outputs": [
    {
     "name": "stdout",
     "output_type": "stream",
     "text": [
      "True\n"
     ]
    }
   ],
   "source": [
    "x = {\"apple\", \"banana\", \"cherry\"}\n",
    "y = {\"google\", \"microsoft\", \"facebook\"}\n",
    "\n",
    "z = x.isdisjoint(y)\n",
    "\n",
    "print(z)"
   ]
  },
  {
   "cell_type": "code",
   "execution_count": null,
   "id": "5d74d037-d55d-4a43-b30a-82398c45ee0a",
   "metadata": {},
   "outputs": [],
   "source": [
    "22.issubset():Return True if all items in set x are present in set y:"
   ]
  },
  {
   "cell_type": "code",
   "execution_count": 154,
   "id": "6d0f3f9e-868b-4e39-be98-b5cd2c05b844",
   "metadata": {},
   "outputs": [
    {
     "name": "stdout",
     "output_type": "stream",
     "text": [
      "True\n"
     ]
    }
   ],
   "source": [
    "x = {\"a\", \"b\", \"c\"}\n",
    "y = {\"f\", \"e\", \"d\", \"c\", \"b\", \"a\"}\n",
    "\n",
    "z = x.issubset(y)\n",
    "\n",
    "print(z)"
   ]
  },
  {
   "cell_type": "code",
   "execution_count": 156,
   "id": "e88ba761-20e9-4020-a62b-4c797f4cb43d",
   "metadata": {},
   "outputs": [
    {
     "name": "stdout",
     "output_type": "stream",
     "text": [
      "True\n"
     ]
    }
   ],
   "source": [
    "x = {\"a\", \"b\", \"c\"}\n",
    "y = {\"f\", \"e\", \"d\", \"c\", \"b\", \"a\"}\n",
    "\n",
    "z = x <= y\n",
    "\n",
    "print(z)"
   ]
  },
  {
   "cell_type": "code",
   "execution_count": 158,
   "id": "dfb06f71-e85d-4836-b681-8ea0947715ac",
   "metadata": {},
   "outputs": [
    {
     "name": "stdout",
     "output_type": "stream",
     "text": [
      "False\n"
     ]
    }
   ],
   "source": [
    "x = {\"a\", \"b\", \"c\"}\n",
    "y = {\"f\", \"e\", \"d\", \"c\", \"b\"}\n",
    "\n",
    "z = x.issubset(y)\n",
    "\n",
    "print(z)"
   ]
  },
  {
   "cell_type": "code",
   "execution_count": null,
   "id": "97573358-5d31-4935-b4cc-b121695c6c6d",
   "metadata": {},
   "outputs": [],
   "source": [
    "23.issuperset():Return True if all items set y are present in set x:"
   ]
  },
  {
   "cell_type": "code",
   "execution_count": 162,
   "id": "5a9cfa1b-f192-4015-be6a-d71490859460",
   "metadata": {},
   "outputs": [
    {
     "name": "stdout",
     "output_type": "stream",
     "text": [
      "True\n"
     ]
    }
   ],
   "source": [
    "x = {\"f\", \"e\", \"d\", \"c\", \"b\", \"a\"}\n",
    "y = {\"a\", \"b\", \"c\"}\n",
    "\n",
    "z = x.issuperset(y)\n",
    "\n",
    "print(z)"
   ]
  },
  {
   "cell_type": "code",
   "execution_count": 164,
   "id": "61df3070-826a-4d2c-9184-9260129ec924",
   "metadata": {},
   "outputs": [
    {
     "name": "stdout",
     "output_type": "stream",
     "text": [
      "True\n"
     ]
    }
   ],
   "source": [
    "x = {\"f\", \"e\", \"d\", \"c\", \"b\", \"a\"}\n",
    "y = {\"a\", \"b\", \"c\"}\n",
    "\n",
    "z = x >= y\n",
    "\n",
    "print(z)"
   ]
  },
  {
   "cell_type": "code",
   "execution_count": null,
   "id": "b276e558-4dc0-4408-9920-58afe308efc7",
   "metadata": {},
   "outputs": [],
   "source": []
  },
  {
   "cell_type": "code",
   "execution_count": null,
   "id": "029facf4-c4d7-4494-b132-1c517180a817",
   "metadata": {},
   "outputs": [],
   "source": []
  },
  {
   "cell_type": "code",
   "execution_count": null,
   "id": "860e82ea-faef-4dfa-b3ed-04283c8d1641",
   "metadata": {},
   "outputs": [],
   "source": []
  },
  {
   "cell_type": "code",
   "execution_count": null,
   "id": "bef2650d-87df-4b2e-889f-996bc0610b47",
   "metadata": {},
   "outputs": [],
   "source": []
  },
  {
   "cell_type": "code",
   "execution_count": null,
   "id": "db72dc8f-244e-4d88-8705-8eccf8cce62f",
   "metadata": {},
   "outputs": [],
   "source": []
  },
  {
   "cell_type": "code",
   "execution_count": null,
   "id": "d92cbf7f-e844-439d-a13e-317cb86b4d69",
   "metadata": {},
   "outputs": [],
   "source": []
  },
  {
   "cell_type": "code",
   "execution_count": null,
   "id": "89288304-43a4-4226-a454-a95ced3a03f5",
   "metadata": {},
   "outputs": [],
   "source": []
  },
  {
   "cell_type": "code",
   "execution_count": null,
   "id": "a7202002-e592-4257-96c4-915ba38012fe",
   "metadata": {},
   "outputs": [],
   "source": []
  },
  {
   "cell_type": "code",
   "execution_count": null,
   "id": "28836b35-ef75-4430-b7e9-68cad9324839",
   "metadata": {},
   "outputs": [],
   "source": []
  },
  {
   "cell_type": "code",
   "execution_count": null,
   "id": "4323b834-35ed-4567-be43-6b1852dc31a1",
   "metadata": {},
   "outputs": [],
   "source": []
  },
  {
   "cell_type": "code",
   "execution_count": null,
   "id": "7ea6b4f3-e276-46f5-a8de-c8e0369ab043",
   "metadata": {},
   "outputs": [],
   "source": []
  }
 ],
 "metadata": {
  "kernelspec": {
   "display_name": "Python 3 (ipykernel)",
   "language": "python",
   "name": "python3"
  },
  "language_info": {
   "codemirror_mode": {
    "name": "ipython",
    "version": 3
   },
   "file_extension": ".py",
   "mimetype": "text/x-python",
   "name": "python",
   "nbconvert_exporter": "python",
   "pygments_lexer": "ipython3",
   "version": "3.12.4"
  }
 },
 "nbformat": 4,
 "nbformat_minor": 5
}
