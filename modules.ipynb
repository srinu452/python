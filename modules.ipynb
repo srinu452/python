{
 "cells": [
  {
   "cell_type": "code",
   "execution_count": null,
   "id": "f6cb07c4-b862-4001-a502-f8d5234eca13",
   "metadata": {},
   "outputs": [],
   "source": [
    "          ''''Modules''''>> Packages>> lib>>> frameworks"
   ]
  },
  {
   "cell_type": "code",
   "execution_count": null,
   "id": "588eacdb-e879-47b7-b152-7e592e963018",
   "metadata": {},
   "outputs": [],
   "source": [
    "what is module?\n",
    "1.modules refer to a file containing python statements and definations.\n",
    "2.A file conatianing python code for example: example.py  is called module\n",
    "3.we use modules to break the large programs into small managable,organised files.\n",
    "4.we can use the functions in module and import it."
   ]
  },
  {
   "cell_type": "code",
   "execution_count": null,
   "id": "e1f62efd-0d3d-40eb-9cc1-8a60671367ff",
   "metadata": {},
   "outputs": [],
   "source": [
    "Create a Module:\n",
    "**Python math**"
   ]
  },
  {
   "cell_type": "code",
   "execution_count": null,
   "id": "cc03943d-d9db-4d09-b436-2e49b20fdc24",
   "metadata": {},
   "outputs": [],
   "source": [
    "to create a module just save the code you want in file with the file extension .py:"
   ]
  },
  {
   "cell_type": "code",
   "execution_count": null,
   "id": "1f90a4b3-a5ad-4f23-8abf-21e24094f369",
   "metadata": {},
   "outputs": [],
   "source": [
    "save the code in afile named mymodule.py"
   ]
  },
  {
   "cell_type": "code",
   "execution_count": 1,
   "id": "00391ea6-1de8-4e21-bec0-11872518173e",
   "metadata": {},
   "outputs": [
    {
     "name": "stdout",
     "output_type": "stream",
     "text": [
      "hellovasu\n"
     ]
    }
   ],
   "source": [
    "def greeting(name):\n",
    "    print(\"hello\"+name)\n",
    "\n",
    "greeting(\"vasu\")"
   ]
  },
  {
   "cell_type": "code",
   "execution_count": 7,
   "id": "bbf42f69-9191-4c37-b7b0-6ced62bed2ff",
   "metadata": {},
   "outputs": [],
   "source": [
    "import math\n",
    "# math.py\n",
    "def add(a,b):\n",
    "    return a+b\n",
    "\n",
    "def sub(a,b):\n",
    "    return a-b\n",
    "\n",
    "def mul(a,b):\n",
    "    return a*b\n",
    "\n"
   ]
  },
  {
   "cell_type": "code",
   "execution_count": null,
   "id": "ab7b5548-42e9-465e-9fc4-f3b571f225f4",
   "metadata": {},
   "outputs": [],
   "source": [
    "sci.py"
   ]
  },
  {
   "cell_type": "code",
   "execution_count": null,
   "id": "1d60ee3f-9c1a-4a6a-be18-c8c446667b61",
   "metadata": {},
   "outputs": [],
   "source": [
    "history.py"
   ]
  },
  {
   "cell_type": "code",
   "execution_count": null,
   "id": "b0018c6a-670e-4edc-a585-4b8ba0d87c0f",
   "metadata": {},
   "outputs": [],
   "source": [
    "study.py"
   ]
  },
  {
   "cell_type": "code",
   "execution_count": 11,
   "id": "1d7d0fdb-1b34-47db-8053-70ec96e221d2",
   "metadata": {},
   "outputs": [],
   "source": [
    "math.mul"
   ]
  },
  {
   "cell_type": "code",
   "execution_count": 291,
   "id": "331db62b-3f50-4800-af8b-01d12fd962e0",
   "metadata": {},
   "outputs": [
    {
     "name": "stdout",
     "output_type": "stream",
     "text": [
      "1 4\n"
     ]
    }
   ],
   "source": [
    "x=min(1,2,3)\n",
    "y=max(2,3,4)\n",
    "print(x,y)"
   ]
  },
  {
   "cell_type": "code",
   "execution_count": 293,
   "id": "094dc501-9f14-476e-b1e3-9eafa3706ad5",
   "metadata": {},
   "outputs": [
    {
     "data": {
      "text/plain": [
       "23.8"
      ]
     },
     "execution_count": 293,
     "metadata": {},
     "output_type": "execute_result"
    }
   ],
   "source": [
    "x=abs(-23.8)\n",
    "x"
   ]
  },
  {
   "cell_type": "code",
   "execution_count": 297,
   "id": "a78b2470-7cd0-4fb2-bcc4-728543a1d206",
   "metadata": {},
   "outputs": [
    {
     "data": {
      "text/plain": [
       "16.0"
      ]
     },
     "execution_count": 297,
     "metadata": {},
     "output_type": "execute_result"
    }
   ],
   "source": [
    "# The pow(x, y) function returns the value of x to the power of y (xy).\n",
    "x=pow(4,2)\n",
    "x"
   ]
  },
  {
   "cell_type": "code",
   "execution_count": 303,
   "id": "67442085-aff9-4886-b82d-b8918d6ede21",
   "metadata": {},
   "outputs": [
    {
     "data": {
      "text/plain": [
       "(3, 23)"
      ]
     },
     "execution_count": 303,
     "metadata": {},
     "output_type": "execute_result"
    }
   ],
   "source": [
    "# The math.ceil() method rounds a number upwards to its nearest integer, and the\n",
    "# math.floor() method rounds a number downwards to its nearest integer, and returns the result:\n",
    "x=math.ceil(2.3)\n",
    "y=math.floor(23.32)\n",
    "x,y"
   ]
  },
  {
   "cell_type": "code",
   "execution_count": 13,
   "id": "6fe7dfce-1c56-4d29-b6f5-b9317dd1f438",
   "metadata": {},
   "outputs": [],
   "source": [
    "import math"
   ]
  },
  {
   "cell_type": "code",
   "execution_count": null,
   "id": "ebd1a3dd-0f53-4b31-8671-64356415c99f",
   "metadata": {},
   "outputs": [],
   "source": [
    "1.The math.trunc() method returns the truncated integer part of a number."
   ]
  },
  {
   "cell_type": "code",
   "execution_count": 305,
   "id": "15cbe007-7229-4594-9882-72699e7535c5",
   "metadata": {},
   "outputs": [
    {
     "name": "stdout",
     "output_type": "stream",
     "text": [
      "2\n",
      "8\n",
      "-99\n"
     ]
    }
   ],
   "source": [
    "print(math.trunc(2.77))\n",
    "print(math.trunc(8.32))\n",
    "print(math.trunc(-99.29))\n",
    "#Note: This method will NOT round the number up/down to the nearest integer, \n",
    "#but simply remove the decimals."
   ]
  },
  {
   "cell_type": "code",
   "execution_count": null,
   "id": "b7eea050-2314-43a0-b413-b08e88462ec8",
   "metadata": {},
   "outputs": [],
   "source": [
    "2.The math.tanh() method returns the hyperbolic tangent of a number.\n",
    "math.tanh(x)\n"
   ]
  },
  {
   "cell_type": "code",
   "execution_count": 307,
   "id": "ede848bd-c262-4cb0-8bbd-b36dab35647d",
   "metadata": {},
   "outputs": [
    {
     "name": "stdout",
     "output_type": "stream",
     "text": [
      "0.9999997749296758\n",
      "0.7615941559557649\n",
      "-0.9999917628565104\n"
     ]
    }
   ],
   "source": [
    "import math\n",
    "\n",
    "# Return the hyperbolic tangent of different numbers\n",
    "print(math.tanh(8))\n",
    "print(math.tanh(1))\n",
    "print(math.tanh(-6.2))"
   ]
  },
  {
   "cell_type": "code",
   "execution_count": null,
   "id": "f45702c0-e19d-4c70-bcdb-7ae610cfd51f",
   "metadata": {},
   "outputs": [],
   "source": [
    "3.The math.acos() method returns the arc cosine value of a number.\n",
    "\n",
    "Note: The parameter passed in math.acos() must lie between -1 to 1.\n",
    "\n",
    "Tip: math.acos(-1) will return the value of PI.\n",
    "Syntax\n",
    "math.acos(x)"
   ]
  },
  {
   "cell_type": "code",
   "execution_count": 309,
   "id": "f7572ca3-b106-4c41-b74d-87b6205fd6b0",
   "metadata": {},
   "outputs": [
    {
     "name": "stdout",
     "output_type": "stream",
     "text": [
      "0.9884320889261531\n",
      "2.15316056466364\n",
      "1.5707963267948966\n",
      "0.0\n",
      "3.141592653589793\n"
     ]
    }
   ],
   "source": [
    "# Import math Library\n",
    "import math\n",
    "\n",
    "# Return the arc cosine of numbers\n",
    "print(math.acos(0.55))\n",
    "print(math.acos(-0.55))\n",
    "print(math.acos(0))\n",
    "print(math.acos(1))\n",
    "print(math.acos(-1))"
   ]
  },
  {
   "cell_type": "code",
   "execution_count": null,
   "id": "5ebdd436-3d6c-4118-ab2a-2dc3da2f174c",
   "metadata": {},
   "outputs": [],
   "source": [
    "4.The math.acosh() method returns the inverse hyperbolic cosine of a number.\n",
    "\n",
    "Note: The parameter passed in acosh() must be greater than or equal to 1.\n",
    "Syntax\n",
    "math.acosh(x)"
   ]
  },
  {
   "cell_type": "code",
   "execution_count": 311,
   "id": "6b48c71e-e790-4409-9fe6-313e4dd33236",
   "metadata": {},
   "outputs": [
    {
     "name": "stdout",
     "output_type": "stream",
     "text": [
      "2.6339157938496336\n",
      "4.71841914237288\n",
      "1.5447131178707394\n",
      "0.0\n"
     ]
    }
   ],
   "source": [
    "print (math.acosh(7))\n",
    "print (math.acosh(56))\n",
    "print (math.acosh(2.45))\n",
    "print (math.acosh(1))"
   ]
  },
  {
   "cell_type": "code",
   "execution_count": null,
   "id": "d19e222f-36cd-4d2f-95bd-daf4f8d8cd0a",
   "metadata": {},
   "outputs": [],
   "source": [
    "5.The math.asin() method returns the arc sine of a number.\n",
    "\n",
    "Note: The parameter passed in math.asin() must lie between -1 to 1.\n",
    "\n",
    "Tip: math.asin(1) will return the value of PI/2, and math.asin(-1) will return the value of -PI/2.\n",
    "Syntax\n",
    "math.asin(x)"
   ]
  },
  {
   "cell_type": "code",
   "execution_count": 313,
   "id": "67a81658-7fda-4340-8adc-77506dc943d7",
   "metadata": {},
   "outputs": [
    {
     "name": "stdout",
     "output_type": "stream",
     "text": [
      "0.5823642378687435\n",
      "-0.5823642378687435\n",
      "0.0\n",
      "1.5707963267948966\n",
      "-1.5707963267948966\n"
     ]
    }
   ],
   "source": [
    "print(math.asin(0.55))\n",
    "print(math.asin(-0.55))\n",
    "print(math.asin(0))\n",
    "print(math.asin(1))\n",
    "print(math.asin(-1))\n"
   ]
  },
  {
   "cell_type": "code",
   "execution_count": null,
   "id": "3fffa870-549d-4717-8e73-b35c7a581309",
   "metadata": {},
   "outputs": [],
   "source": [
    "6.The math.asinh() method returns the inverse hyperbolic sine of a number.\n",
    "\n",
    "Syntax\n",
    "math.asinh(x)"
   ]
  },
  {
   "cell_type": "code",
   "execution_count": 315,
   "id": "35231b88-56b3-405d-ae58-477a0ae7ca02",
   "metadata": {},
   "outputs": [
    {
     "name": "stdout",
     "output_type": "stream",
     "text": [
      "2.644120761058629\n",
      "4.718578581151767\n",
      "1.6284998192841909\n",
      "0.881373587019543\n"
     ]
    }
   ],
   "source": [
    "# Import math Library\n",
    "import math\n",
    "\n",
    "# Return the inverse hyperbolic sine of numbers\n",
    "print(math.asinh(7))\n",
    "print(math.asinh(56))\n",
    "print(math.asinh(2.45))\n",
    "print(math.asinh(1))\n"
   ]
  },
  {
   "cell_type": "code",
   "execution_count": null,
   "id": "5e9f363a-da37-433a-9f9e-2c41e9bed234",
   "metadata": {},
   "outputs": [],
   "source": [
    "7.The math.atan() method returns the arc tangent of a number (x) as a numeric value between -PI/2 and PI/2 radians.\n",
    "\n",
    "Arc tangent is also defined as an inverse tangent function of x, where x is the value of the arc tangent is to be calculated.\n",
    "\n",
    "Syntax\n",
    "math.atan(x)"
   ]
  },
  {
   "cell_type": "code",
   "execution_count": 317,
   "id": "3f04e7e6-7782-42a0-a84f-9af4987c7f9c",
   "metadata": {},
   "outputs": [
    {
     "name": "stdout",
     "output_type": "stream",
     "text": [
      "0.37185607384858127\n",
      "1.5558720618048116\n",
      "-1.5232132235179132\n"
     ]
    }
   ],
   "source": [
    "print (math.atan(0.39))\n",
    "print (math.atan(67))\n",
    "print (math.atan(-21))"
   ]
  },
  {
   "cell_type": "code",
   "execution_count": null,
   "id": "31cda776-9770-46ef-a944-18ffe983c3ba",
   "metadata": {},
   "outputs": [],
   "source": [
    "8.The math.atan2() method returns the arc tangent of y/x, in radians. Where x and y are the coordinates of a point (x,y).\n",
    "\n",
    "The returned value is between PI and -PI.\n",
    "\n",
    "Syntax\n",
    "math.atan2(y, x)"
   ]
  },
  {
   "cell_type": "code",
   "execution_count": 319,
   "id": "ebda0716-49a9-4cd9-b96b-00e532a2cd9c",
   "metadata": {},
   "outputs": [
    {
     "name": "stdout",
     "output_type": "stream",
     "text": [
      "1.0121970114513341\n",
      "1.1071487177940904\n",
      "1.7738415440483617\n"
     ]
    }
   ],
   "source": [
    "print(math.atan2(8, 5))\n",
    "print(math.atan2(20, 10))\n",
    "print(math.atan2(34, -7))"
   ]
  },
  {
   "cell_type": "code",
   "execution_count": null,
   "id": "d0a54285-76c3-46a8-a270-24f946008440",
   "metadata": {},
   "outputs": [],
   "source": [
    "9.The math.atanh() method returns the inverse hyperbolic tangent of a number.\n",
    "\n",
    "Note: The parameter passed in math.atanh() must lie between -0.99 to 0.99.\n",
    "\n",
    "Syntax\n",
    "math.atanh(x)"
   ]
  },
  {
   "cell_type": "code",
   "execution_count": 321,
   "id": "f6121850-b9cd-4975-811e-4a9371b24ae4",
   "metadata": {},
   "outputs": [
    {
     "name": "stdout",
     "output_type": "stream",
     "text": [
      "0.6776660677579618\n",
      "-0.12058102840844402\n"
     ]
    }
   ],
   "source": [
    "print(math.atanh(0.59))\n",
    "print(math.atanh(-0.12))"
   ]
  },
  {
   "cell_type": "code",
   "execution_count": null,
   "id": "e66e41a8-192a-4298-ada2-785d1a61828d",
   "metadata": {},
   "outputs": [],
   "source": [
    "10.The math.comb() method returns the number of ways picking k unordered outcomes from n possibilities, without repetition, also known as combinations.\n",
    "\n",
    "Note: The parameters passed in this method must be positive integers.\n",
    "Syntax\n",
    "math.comb(n, k)"
   ]
  },
  {
   "cell_type": "code",
   "execution_count": 325,
   "id": "47c43a7d-adb6-4934-8c20-7544209a8e04",
   "metadata": {},
   "outputs": [
    {
     "name": "stdout",
     "output_type": "stream",
     "text": [
      "35\n"
     ]
    }
   ],
   "source": [
    "# Import math Library\n",
    "import math\n",
    "\n",
    "# Initialize the number of items to choose from\n",
    "n = 7\n",
    "\n",
    "# Initialize the number of possibilities to choose\n",
    "k = 3\n",
    "\n",
    "# Print total number of possible combinations\n",
    "print (math.comb(n, k))"
   ]
  },
  {
   "cell_type": "code",
   "execution_count": null,
   "id": "1586f5a1-76d3-4607-8606-320a60afc00c",
   "metadata": {},
   "outputs": [],
   "source": [
    "11.The math.copysign() method returns a float consisting of the value of the first parameter and the sign(+/-) of the second parameter.\n",
    "\n",
    "Syntax\n",
    "math.copysign(x, y)"
   ]
  },
  {
   "cell_type": "code",
   "execution_count": 327,
   "id": "7f04ccf4-0915-4038-90b4-c7fd5b37c145",
   "metadata": {},
   "outputs": [
    {
     "name": "stdout",
     "output_type": "stream",
     "text": [
      "-4.0\n",
      "8.0\n",
      "-43.0\n"
     ]
    }
   ],
   "source": [
    "#Import math Library\n",
    "import math\n",
    "\n",
    "#Return the value of the first parameter and the sign of the second parameter\n",
    "print(math.copysign(4, -1))\n",
    "print(math.copysign(-8, 97.21))\n",
    "print(math.copysign(-43, -76))"
   ]
  },
  {
   "cell_type": "code",
   "execution_count": null,
   "id": "3191a65a-5258-422e-93cd-0a6e3ca6ac9a",
   "metadata": {},
   "outputs": [],
   "source": [
    "12.The math.cos() method returns the cosine of a number.\n",
    "\n",
    "Syntax\n",
    "math.cos(x)"
   ]
  },
  {
   "cell_type": "code",
   "execution_count": 329,
   "id": "bce37ae3-4317-4ad4-99ed-c9c9bf1dabe8",
   "metadata": {},
   "outputs": [
    {
     "name": "stdout",
     "output_type": "stream",
     "text": [
      "1.0\n",
      "0.3342377271245026\n",
      "-0.8390715290764524\n",
      "-1.0\n"
     ]
    }
   ],
   "source": [
    "print (math.cos(0.00))\n",
    "print (math.cos(-1.23))\n",
    "print (math.cos(10))\n",
    "print (math.cos(3.14159265359))"
   ]
  },
  {
   "cell_type": "code",
   "execution_count": null,
   "id": "dd5da756-52f8-445f-a2ff-4d31b8541a7d",
   "metadata": {},
   "outputs": [],
   "source": [
    "13.The math.cosh() method returns the hyperbolic cosine of a number (equivalent to (exp(number) + exp(-number)) / 2).\n",
    "\n",
    "Syntax\n",
    "math.cosh(x)"
   ]
  },
  {
   "cell_type": "code",
   "execution_count": 331,
   "id": "c44daa36-1146-4eac-b7e1-619de5395154",
   "metadata": {},
   "outputs": [
    {
     "name": "stdout",
     "output_type": "stream",
     "text": [
      "1.5430806348152437\n",
      "3665.986837772461\n",
      "1.0\n",
      "2.3954685410471868\n"
     ]
    }
   ],
   "source": [
    "print (math.cosh(1))\n",
    "print (math.cosh(8.90))\n",
    "print (math.cosh(0))\n",
    "print (math.cosh(1.52))"
   ]
  },
  {
   "cell_type": "code",
   "execution_count": null,
   "id": "d1dbe8a2-6f1c-4d5e-ac4d-229be6c30e32",
   "metadata": {},
   "outputs": [],
   "source": [
    "13.The mmath.degrees() method converts an angle from radians to degrees.\n",
    "\n",
    "Tip: PI (3.14..) radians are equal to 180 degrees, which means that 1 radian is equal to 57.2957795 degrees.\n",
    "\n",
    "Tip: See also math.radians() to convert a degree value into radians.\n",
    "Syntax\n",
    "math.degrees(x)\n"
   ]
  },
  {
   "cell_type": "code",
   "execution_count": 333,
   "id": "8ab77cc4-268b-4840-bc86-660cf574ad40",
   "metadata": {},
   "outputs": [
    {
     "name": "stdout",
     "output_type": "stream",
     "text": [
      "509.9324376664327\n",
      "-1145.9155902616465\n",
      "57.29577951308232\n",
      "5156.620156177409\n"
     ]
    }
   ],
   "source": [
    "print (math.degrees(8.90))\n",
    "print (math.degrees(-20))\n",
    "print (math.degrees(1))\n",
    "print (math.degrees(90))"
   ]
  },
  {
   "cell_type": "code",
   "execution_count": null,
   "id": "6a862b71-d57c-4dbc-bcda-3c36489b1328",
   "metadata": {},
   "outputs": [],
   "source": [
    "14.The math.dist() method returns the Euclidean distance between two points (p and q), where p and q are the coordinates of that point.\n",
    "\n",
    "Note: The two points (p and q) must be of the same dimensions.\n",
    "\n",
    "Syntax\n",
    "math.dist(p, q)"
   ]
  },
  {
   "cell_type": "code",
   "execution_count": 335,
   "id": "30782964-c571-4b17-8f65-54e8e816cef6",
   "metadata": {},
   "outputs": [
    {
     "name": "stdout",
     "output_type": "stream",
     "text": [
      "2.0\n",
      "9.486832980505138\n"
     ]
    }
   ],
   "source": [
    "p = [3]\n",
    "q = [1]\n",
    "\n",
    "# Calculate Euclidean distance\n",
    "print (math.dist(p, q))\n",
    "\n",
    "p = [3, 3]\n",
    "q = [6, 12]\n",
    "\n",
    "# Calculate Euclidean distance\n",
    "print (math.dist(p, q))"
   ]
  },
  {
   "cell_type": "code",
   "execution_count": null,
   "id": "9a59af8a-e40f-4faa-a7a8-2288206924a7",
   "metadata": {},
   "outputs": [],
   "source": [
    "15.Definition and Usage\n",
    "The math.erf() method returns the error function of a number.\n",
    "\n",
    "This method accepts a value between - inf and + inf, and returns a value between - 1 to + 1.\n",
    "\n",
    "Syntax\n",
    "math.erf(x)"
   ]
  },
  {
   "cell_type": "code",
   "execution_count": 337,
   "id": "62d2dc86-9d8f-4e14-9c6a-dd1fddbfade4",
   "metadata": {},
   "outputs": [
    {
     "name": "stdout",
     "output_type": "stream",
     "text": [
      "0.6566277023003051\n",
      "0.9419137152583654\n",
      "-1.0\n"
     ]
    }
   ],
   "source": [
    "# Import math Library\n",
    "import math\n",
    "\n",
    "# Print error function for different numbers\n",
    "print (math.erf(0.67))\n",
    "print (math.erf(1.34))\n",
    "print (math.erf(-6))"
   ]
  },
  {
   "cell_type": "code",
   "execution_count": null,
   "id": "bc7d5a87-501c-49c4-a46b-5517c7dc1496",
   "metadata": {},
   "outputs": [],
   "source": [
    "17.The math.erfc() method returns the complementary error function of a number.\n",
    "\n",
    "This method accepts a value between - inf and + inf, and returns a value between 0 and 2."
   ]
  },
  {
   "cell_type": "code",
   "execution_count": 339,
   "id": "7a19b2bb-ad2e-4b69-831c-8c4500236e46",
   "metadata": {},
   "outputs": [
    {
     "name": "stdout",
     "output_type": "stream",
     "text": [
      "0.3433722976996949\n",
      "0.05808628474163466\n",
      "2.0\n"
     ]
    }
   ],
   "source": [
    "print (math.erfc(0.67))\n",
    "print (math.erfc(1.34))\n",
    "print (math.erfc(-6))"
   ]
  },
  {
   "cell_type": "code",
   "execution_count": null,
   "id": "7123b649-ff4a-4371-879a-6af6098ed25a",
   "metadata": {},
   "outputs": [],
   "source": [
    "18.The math.exp() method returns E raised to the power of x (Ex).\n",
    "\n",
    "'E' is the base of the natural system of logarithms (approximately 2.718282) and x is the number passed to it.\n",
    "Syntax\n",
    "math.exp(x)"
   ]
  },
  {
   "cell_type": "code",
   "execution_count": 341,
   "id": "ab180d3b-d7f9-4c11-a549-e6e04226e6d9",
   "metadata": {},
   "outputs": [
    {
     "name": "stdout",
     "output_type": "stream",
     "text": [
      "1.6948892444103338e+28\n",
      "0.0010179138409954387\n"
     ]
    }
   ],
   "source": [
    "print(math.exp(65))\n",
    "print(math.exp(-6.89))"
   ]
  },
  {
   "cell_type": "code",
   "execution_count": null,
   "id": "553e42c7-2bff-405a-9ca7-2fcbc29f3e00",
   "metadata": {},
   "outputs": [],
   "source": [
    "19.The math.expm1() method returns Ex - 1.\n",
    "\n",
    "'E' is the base of the natural system of logarithms (approximately 2.718282) and x is the number passed to it.\n",
    "\n",
    "This function is more accurate than calling math.exp() and subtracting 1.\n",
    "\n",
    "Syntax\n",
    "math.expm1(x)"
   ]
  },
  {
   "cell_type": "code",
   "execution_count": 343,
   "id": "51b65088-a5d0-4900-a41f-a30118cef8d3",
   "metadata": {},
   "outputs": [
    {
     "name": "stdout",
     "output_type": "stream",
     "text": [
      "78962960182679.69\n",
      "-0.9999813562576685\n"
     ]
    }
   ],
   "source": [
    "#Import math Library\n",
    "import math\n",
    "\n",
    "#Return the exponential value of a number - 1\n",
    "print(math.expm1(32))\n",
    "print(math.expm1(-10.89))"
   ]
  },
  {
   "cell_type": "code",
   "execution_count": null,
   "id": "887de7ea-5709-4d57-b53b-167891b780bd",
   "metadata": {},
   "outputs": [],
   "source": [
    "math.fabs()\tReturns the absolute value of a number\n",
    "math.factorial()\tReturns the factorial of a number\n",
    "math.floor()\tRounds a number down to the nearest integer\n",
    "math.fmod()\tReturns the remainder of x/y\n",
    "math.frexp()\tReturns the mantissa and the exponent, of a specified number\n",
    "math.fsum()\tReturns the sum of all items in any iterable (tuples, arrays, lists, etc.)\n",
    "math.gamma()\tReturns the gamma function at x\n",
    "math.gcd()\tReturns the greatest common divisor of two integers\n",
    "math.hypot()\tReturns the Euclidean norm\n",
    "math.isclose()\tChecks whether two values are close to each other, or not\n",
    "math.isfinite()\tChecks whether a number is finite or not\n",
    "math.isinf()\tChecks whether a number is infinite or not\n",
    "math.isnan()\tChecks whether a value is NaN (not a number) or not\n",
    "math.isqrt()\tRounds a square root number downwards to the nearest integer\n",
    "math.ldexp()\tReturns the inverse of math.frexp() which is x * (2**i) of the given numbers x and i\n",
    "math.lgamma()\tReturns the log gamma value of x\n",
    "math.log()\tReturns the natural logarithm of a number, or the logarithm of number to base\n",
    "math.log10()\tReturns the base-10 logarithm of x\n",
    "math.log1p()\tReturns the natural logarithm of 1+x\n",
    "math.log2()\tReturns the base-2 logarithm of x\n",
    "math.perm()\tReturns the number of ways to choose k items from n items with order and without repetition\n",
    "math.pow()\tReturns the value of x to the power of y\n",
    "math.prod()\tReturns the product of all the elements in an iterable\n",
    "math.radians()\tConverts a degree value into radians\n",
    "math.remainder()\tReturns the closest value that can make numerator completely divisible by the denominator\n",
    "math.sin()\tReturns the sine of a number\n",
    "math.sinh()\tReturns the hyperbolic sine of a number\n",
    "math.sqrt()\tReturns the square root of a number\n",
    "math.tan()\tReturns the tangent of a number\n",
    "math.tanh()\tReturns the hyperbolic tangent of a number\n",
    "math.trunc()\tReturns the truncated integer parts of a number\n",
    "Math Constants\n",
    "Constant\tDescription\n",
    "math.e\tReturns Euler's number (2.7182...)\n",
    "math.inf\tReturns a floating-point positive infinity\n",
    "math.nan\tReturns a floating-point NaN (Not a Number) value\n",
    "math.pi\tReturns PI (3.1415...)\n",
    "math.tau\tReturns tau (6.2831...)"
   ]
  },
  {
   "cell_type": "code",
   "execution_count": 15,
   "id": "922c24c1-a1b1-4034-8aa1-4c2c175b9f46",
   "metadata": {},
   "outputs": [
    {
     "name": "stdout",
     "output_type": "stream",
     "text": [
      "<class 'list'>\n"
     ]
    }
   ],
   "source": [
    "a=[1,2,3,44]\n",
    "print(type(a))"
   ]
  },
  {
   "cell_type": "code",
   "execution_count": null,
   "id": "6ff923a9-5c92-4d5a-ac9d-1ba3e997f5d6",
   "metadata": {},
   "outputs": [],
   "source": [
    "Use a Module:\n",
    "now we can use the module we just created ,by using the import statement."
   ]
  },
  {
   "cell_type": "code",
   "execution_count": 21,
   "id": "7568c223-725d-45bd-a497-2f7c40c9cc16",
   "metadata": {},
   "outputs": [
    {
     "ename": "ModuleNotFoundError",
     "evalue": "No module named 'mymodule'",
     "output_type": "error",
     "traceback": [
      "\u001b[1;31m----------------------------------------------------------------\u001b[0m",
      "\u001b[1;31mModuleNotFoundError\u001b[0m            Traceback (most recent call last)",
      "Cell \u001b[1;32mIn[21], line 1\u001b[0m\n\u001b[1;32m----> 1\u001b[0m \u001b[38;5;28;01mimport\u001b[39;00m \u001b[38;5;21;01mmymodule\u001b[39;00m\n\u001b[0;32m      2\u001b[0m mymodule\u001b[38;5;241m.\u001b[39mgreeting(\u001b[38;5;124m\"\u001b[39m\u001b[38;5;124mjonathan\u001b[39m\u001b[38;5;124m\"\u001b[39m)\n",
      "\u001b[1;31mModuleNotFoundError\u001b[0m: No module named 'mymodule'"
     ]
    }
   ],
   "source": []
  },
  {
   "cell_type": "code",
   "execution_count": 19,
   "id": "189d1676-a9ac-438a-92b7-ad98c74458ac",
   "metadata": {},
   "outputs": [
    {
     "name": "stdout",
     "output_type": "stream",
     "text": [
      "hellovasu\n"
     ]
    }
   ],
   "source": [
    "def greeting(name):\n",
    "    print(\"hello\"+name)\n",
    "\n",
    "greeting(\"vasu\")"
   ]
  },
  {
   "cell_type": "code",
   "execution_count": 25,
   "id": "598c4511-6a7d-43f4-bb62-e47c56f5648a",
   "metadata": {},
   "outputs": [
    {
     "name": "stdout",
     "output_type": "stream",
     "text": [
      "hellovasu\n"
     ]
    },
    {
     "ename": "ModuleNotFoundError",
     "evalue": "No module named 'mymodule'",
     "output_type": "error",
     "traceback": [
      "\u001b[1;31m----------------------------------------------------------------\u001b[0m",
      "\u001b[1;31mModuleNotFoundError\u001b[0m            Traceback (most recent call last)",
      "Cell \u001b[1;32mIn[25], line 5\u001b[0m\n\u001b[0;32m      2\u001b[0m     \u001b[38;5;28mprint\u001b[39m(\u001b[38;5;124m\"\u001b[39m\u001b[38;5;124mhello\u001b[39m\u001b[38;5;124m\"\u001b[39m\u001b[38;5;241m+\u001b[39mname)\n\u001b[0;32m      4\u001b[0m greeting(\u001b[38;5;124m\"\u001b[39m\u001b[38;5;124mvasu\u001b[39m\u001b[38;5;124m\"\u001b[39m)\n\u001b[1;32m----> 5\u001b[0m \u001b[38;5;28;01mimport\u001b[39;00m \u001b[38;5;21;01mmymodule\u001b[39;00m\n\u001b[0;32m      6\u001b[0m mymodule\u001b[38;5;241m.\u001b[39mgreeting(\u001b[38;5;124m\"\u001b[39m\u001b[38;5;124mjonathan\u001b[39m\u001b[38;5;124m\"\u001b[39m)\n",
      "\u001b[1;31mModuleNotFoundError\u001b[0m: No module named 'mymodule'"
     ]
    }
   ],
   "source": [
    "def greeting(name):\n",
    "    print(\"hello\"+name)\n",
    "\n",
    "greeting(\"vasu\")\n",
    "import mymodule\n",
    "mymodule.greeting(\"jonathan\")"
   ]
  },
  {
   "cell_type": "code",
   "execution_count": null,
   "id": "2242db96-a776-4db4-ab4a-2ed3af8747a6",
   "metadata": {},
   "outputs": [],
   "source": [
    "Variables in Modules:\n",
    "the module can conatin functions as already described but also variables of all types(arrays,dictionaries,objects):"
   ]
  },
  {
   "cell_type": "code",
   "execution_count": null,
   "id": "fa89faf5-749e-49bf-8ce8-f81b7310b345",
   "metadata": {},
   "outputs": [],
   "source": [
    "person1={\n",
    "    \"name\":\"vasu\",\n",
    "    \"age\":12,\n",
    "    \"country\":\"Norway\"\n",
    "}\n",
    " save this code with name.py"
   ]
  },
  {
   "cell_type": "code",
   "execution_count": null,
   "id": "010a142c-1454-4df3-8a6a-d09e3df52d58",
   "metadata": {},
   "outputs": [],
   "source": [
    "import name\n",
    "a=name.person1[\"age\"]\n",
    "print(a)\n",
    "#always should be like this module.function or variables"
   ]
  },
  {
   "cell_type": "code",
   "execution_count": null,
   "id": "861433d2-7a35-4132-ba84-ecb5b9a53918",
   "metadata": {},
   "outputs": [],
   "source": [
    "Naming a Module:\n",
    "You can name the module file whatever you like, but it must have the file extension .py"
   ]
  },
  {
   "cell_type": "code",
   "execution_count": null,
   "id": "1e1b13a8-af56-403b-92a8-fcba2e6454a5",
   "metadata": {},
   "outputs": [],
   "source": [
    "Re-naming a Module\n",
    "You can create an alias when you import a module, by using the as keyword:"
   ]
  },
  {
   "cell_type": "code",
   "execution_count": null,
   "id": "7dd380c6-bce3-4b4b-ab01-20b97de164af",
   "metadata": {},
   "outputs": [],
   "source": [
    "import mymodule as mx\n",
    "\n",
    "a = mx.person1[\"age\"]\n",
    "print(a)"
   ]
  },
  {
   "cell_type": "code",
   "execution_count": null,
   "id": "d3a4aedf-dfab-45cb-8d8d-483f8758e0b6",
   "metadata": {},
   "outputs": [],
   "source": [
    "Built-in Modules:"
   ]
  },
  {
   "cell_type": "code",
   "execution_count": 29,
   "id": "c97fca62-94b8-4b0c-825e-0aec5cc03b84",
   "metadata": {},
   "outputs": [
    {
     "ename": "SyntaxError",
     "evalue": "invalid syntax (3557117559.py, line 1)",
     "output_type": "error",
     "traceback": [
      "\u001b[1;36m  Cell \u001b[1;32mIn[29], line 1\u001b[1;36m\u001b[0m\n\u001b[1;33m    import *\u001b[0m\n\u001b[1;37m           ^\u001b[0m\n\u001b[1;31mSyntaxError\u001b[0m\u001b[1;31m:\u001b[0m invalid syntax\n"
     ]
    }
   ],
   "source": [
    "Import and use the platform module:"
   ]
  },
  {
   "cell_type": "code",
   "execution_count": 31,
   "id": "4addc53e-2371-4e88-b2f1-f0c4847022f0",
   "metadata": {},
   "outputs": [
    {
     "name": "stdout",
     "output_type": "stream",
     "text": [
      "Windows\n"
     ]
    }
   ],
   "source": [
    "import platform\n",
    "\n",
    "x = platform.system()\n",
    "print(x)"
   ]
  },
  {
   "cell_type": "code",
   "execution_count": null,
   "id": "37b62b51-aca3-40ae-8c0f-34c4a72bcd6a",
   "metadata": {},
   "outputs": [],
   "source": [
    "Using the dir() Function:\n",
    "There is a built-in function to list all the function names (or variable names) in a module. The dir() function:"
   ]
  },
  {
   "cell_type": "code",
   "execution_count": 33,
   "id": "33de49c3-3fb2-4025-9dc9-367e696ee957",
   "metadata": {},
   "outputs": [
    {
     "name": "stdout",
     "output_type": "stream",
     "text": [
      "['_Processor', '_WIN32_CLIENT_RELEASES', '_WIN32_SERVER_RELEASES', '__builtins__', '__cached__', '__copyright__', '__doc__', '__file__', '__loader__', '__name__', '__package__', '__spec__', '__version__', '_comparable_version', '_default_architecture', '_follow_symlinks', '_get_machine_win32', '_java_getprop', '_mac_ver_xml', '_node', '_norm_version', '_os_release_cache', '_os_release_candidates', '_parse_os_release', '_platform', '_platform_cache', '_sys_version', '_sys_version_cache', '_syscmd_file', '_syscmd_ver', '_uname_cache', '_unknown_as_blank', '_ver_stages', '_win32_ver', '_wmi', '_wmi_query', 'architecture', 'collections', 'freedesktop_os_release', 'functools', 'itertools', 'java_ver', 'libc_ver', 'mac_ver', 'machine', 'node', 'os', 'platform', 'processor', 'python_branch', 'python_build', 'python_compiler', 'python_implementation', 'python_revision', 'python_version', 'python_version_tuple', 're', 'release', 'sys', 'system', 'system_alias', 'uname', 'uname_result', 'version', 'win32_edition', 'win32_is_iot', 'win32_ver']\n"
     ]
    }
   ],
   "source": [
    "import platform\n",
    "\n",
    "x = dir(platform)\n",
    "print(x)"
   ]
  },
  {
   "cell_type": "code",
   "execution_count": null,
   "id": "1feb4234-86aa-4767-9164-8a150efb94f1",
   "metadata": {},
   "outputs": [],
   "source": [
    "Import From Module:\n",
    "You can choose to import only parts from a module, by using the from keyword."
   ]
  },
  {
   "cell_type": "code",
   "execution_count": null,
   "id": "9f096111-5cb4-4a87-ba14-25e31abbfc47",
   "metadata": {},
   "outputs": [],
   "source": [
    "def greeting(name):\n",
    "  print(\"Hello, \" + name)\n",
    "\n",
    "person1 = {\n",
    "  \"name\": \"John\",\n",
    "  \"age\": 36,\n",
    "  \"country\": \"Norway\"\n",
    "}\n"
   ]
  },
  {
   "cell_type": "code",
   "execution_count": null,
   "id": "9d95f293-3bf4-4da5-a51e-60c9887d415b",
   "metadata": {},
   "outputs": [],
   "source": [
    "# Example\n",
    "# Import only the person1 dictionary from the module:\n",
    "\n",
    "\n",
    "from mymodule import person1\n",
    "\n",
    "print (person1[\"age\"])"
   ]
  },
  {
   "cell_type": "code",
   "execution_count": null,
   "id": "b8de8206-abfb-4aee-80ea-7d3014c5b092",
   "metadata": {},
   "outputs": [],
   "source": []
  },
  {
   "cell_type": "code",
   "execution_count": null,
   "id": "612da00f-c1ff-4a90-a474-63af4dde816c",
   "metadata": {},
   "outputs": [],
   "source": [
    "** How to import modules in python "
   ]
  },
  {
   "cell_type": "code",
   "execution_count": null,
   "id": "1ad88183-737a-49c4-9311-a1487386a5da",
   "metadata": {},
   "outputs": [],
   "source": [
    "we can import modules by using keyword import"
   ]
  },
  {
   "cell_type": "code",
   "execution_count": 1,
   "id": "257022b4-0827-49f3-a661-ee41ba3e9f66",
   "metadata": {},
   "outputs": [],
   "source": [
    "import math"
   ]
  },
  {
   "cell_type": "code",
   "execution_count": 3,
   "id": "d3fe0e2b-fd5a-4972-ac4c-5dd67afc8d6c",
   "metadata": {},
   "outputs": [
    {
     "data": {
      "text/plain": [
       "['__doc__',\n",
       " '__loader__',\n",
       " '__name__',\n",
       " '__package__',\n",
       " '__spec__',\n",
       " 'acos',\n",
       " 'acosh',\n",
       " 'asin',\n",
       " 'asinh',\n",
       " 'atan',\n",
       " 'atan2',\n",
       " 'atanh',\n",
       " 'cbrt',\n",
       " 'ceil',\n",
       " 'comb',\n",
       " 'copysign',\n",
       " 'cos',\n",
       " 'cosh',\n",
       " 'degrees',\n",
       " 'dist',\n",
       " 'e',\n",
       " 'erf',\n",
       " 'erfc',\n",
       " 'exp',\n",
       " 'exp2',\n",
       " 'expm1',\n",
       " 'fabs',\n",
       " 'factorial',\n",
       " 'floor',\n",
       " 'fmod',\n",
       " 'frexp',\n",
       " 'fsum',\n",
       " 'gamma',\n",
       " 'gcd',\n",
       " 'hypot',\n",
       " 'inf',\n",
       " 'isclose',\n",
       " 'isfinite',\n",
       " 'isinf',\n",
       " 'isnan',\n",
       " 'isqrt',\n",
       " 'lcm',\n",
       " 'ldexp',\n",
       " 'lgamma',\n",
       " 'log',\n",
       " 'log10',\n",
       " 'log1p',\n",
       " 'log2',\n",
       " 'modf',\n",
       " 'nan',\n",
       " 'nextafter',\n",
       " 'perm',\n",
       " 'pi',\n",
       " 'pow',\n",
       " 'prod',\n",
       " 'radians',\n",
       " 'remainder',\n",
       " 'sin',\n",
       " 'sinh',\n",
       " 'sqrt',\n",
       " 'sumprod',\n",
       " 'tan',\n",
       " 'tanh',\n",
       " 'tau',\n",
       " 'trunc',\n",
       " 'ulp']"
      ]
     },
     "execution_count": 3,
     "metadata": {},
     "output_type": "execute_result"
    }
   ],
   "source": [
    "dir(math)"
   ]
  },
  {
   "cell_type": "code",
   "execution_count": 5,
   "id": "1ebf1857-bb60-4589-9072-4ac0a3cd85a9",
   "metadata": {},
   "outputs": [
    {
     "data": {
      "text/plain": [
       "2.0"
      ]
     },
     "execution_count": 5,
     "metadata": {},
     "output_type": "execute_result"
    }
   ],
   "source": [
    "math.sqrt(4)"
   ]
  },
  {
   "cell_type": "code",
   "execution_count": 7,
   "id": "ab6ffee5-6178-4698-b169-870989bdff95",
   "metadata": {},
   "outputs": [
    {
     "data": {
      "text/plain": [
       "3.141592653589793"
      ]
     },
     "execution_count": 7,
     "metadata": {},
     "output_type": "execute_result"
    }
   ],
   "source": [
    "math.pi"
   ]
  },
  {
   "cell_type": "code",
   "execution_count": 9,
   "id": "78b3eaa9-9515-4714-85ef-51df7b7bb8d5",
   "metadata": {},
   "outputs": [
    {
     "data": {
      "text/plain": [
       "0.0"
      ]
     },
     "execution_count": 9,
     "metadata": {},
     "output_type": "execute_result"
    }
   ],
   "source": [
    "math.log(1)"
   ]
  },
  {
   "cell_type": "code",
   "execution_count": 11,
   "id": "3481b9d2-6990-466e-b165-d03f9ec12c32",
   "metadata": {},
   "outputs": [
    {
     "data": {
      "text/plain": [
       "138.0"
      ]
     },
     "execution_count": 11,
     "metadata": {},
     "output_type": "execute_result"
    }
   ],
   "source": [
    "1/2*12*23"
   ]
  },
  {
   "cell_type": "code",
   "execution_count": 13,
   "id": "0b68e4c1-f682-4d1a-af01-2c329993ecf7",
   "metadata": {},
   "outputs": [
    {
     "data": {
      "text/plain": [
       "829.3804605477054"
      ]
     },
     "execution_count": 13,
     "metadata": {},
     "output_type": "execute_result"
    }
   ],
   "source": [
    "math.pi*12*22"
   ]
  },
  {
   "cell_type": "code",
   "execution_count": 17,
   "id": "019a05ff-c372-4280-9134-6800704618d5",
   "metadata": {},
   "outputs": [
    {
     "data": {
      "text/plain": [
       "376.99111843077515"
      ]
     },
     "execution_count": 17,
     "metadata": {},
     "output_type": "execute_result"
    }
   ],
   "source": [
    "area=math.pi*10*12\n",
    "area"
   ]
  },
  {
   "cell_type": "code",
   "execution_count": null,
   "id": "08046d22-cd30-45d9-8d92-e03239363103",
   "metadata": {},
   "outputs": [],
   "source": [
    "3 import with renaming"
   ]
  },
  {
   "cell_type": "code",
   "execution_count": 19,
   "id": "8ea455f6-505d-4e9b-8e2e-d7ea1be8013a",
   "metadata": {},
   "outputs": [],
   "source": [
    "import math as m"
   ]
  },
  {
   "cell_type": "code",
   "execution_count": 21,
   "id": "2da56c28-a3f8-43bf-8d0e-ea47d699c041",
   "metadata": {},
   "outputs": [
    {
     "data": {
      "text/plain": [
       "1.4142135623730951"
      ]
     },
     "execution_count": 21,
     "metadata": {},
     "output_type": "execute_result"
    }
   ],
   "source": [
    "m.sqrt(2)"
   ]
  },
  {
   "cell_type": "code",
   "execution_count": 23,
   "id": "4be5f89b-6ba8-4d26-82b8-5ad1900d1ba5",
   "metadata": {},
   "outputs": [
    {
     "data": {
      "text/plain": [
       "3.141592653589793"
      ]
     },
     "execution_count": 23,
     "metadata": {},
     "output_type": "execute_result"
    }
   ],
   "source": [
    "m.pi"
   ]
  },
  {
   "cell_type": "code",
   "execution_count": 25,
   "id": "231c7243-a76f-4d58-8aad-5fbe7dbf8d72",
   "metadata": {},
   "outputs": [],
   "source": [
    "from math import sqrt,pi"
   ]
  },
  {
   "cell_type": "code",
   "execution_count": 27,
   "id": "a63b3c72-7e8f-4596-a370-af9315a238e6",
   "metadata": {},
   "outputs": [
    {
     "data": {
      "text/plain": [
       "2.0"
      ]
     },
     "execution_count": 27,
     "metadata": {},
     "output_type": "execute_result"
    }
   ],
   "source": [
    "sqrt(4)"
   ]
  },
  {
   "cell_type": "code",
   "execution_count": 29,
   "id": "778f3fda-77ba-4b3b-83f4-c46466ec5ffe",
   "metadata": {},
   "outputs": [
    {
     "data": {
      "text/plain": [
       "3.141592653589793"
      ]
     },
     "execution_count": 29,
     "metadata": {},
     "output_type": "execute_result"
    }
   ],
   "source": [
    "pi"
   ]
  },
  {
   "cell_type": "code",
   "execution_count": 31,
   "id": "1bca3901-98fe-4c74-b142-3dcf790c323e",
   "metadata": {},
   "outputs": [],
   "source": [
    "from math import sqrt as s"
   ]
  },
  {
   "cell_type": "code",
   "execution_count": 33,
   "id": "40f6f4a6-7d8c-4b6c-b5f9-ca3120b8ba93",
   "metadata": {},
   "outputs": [
    {
     "data": {
      "text/plain": [
       "1.4142135623730951"
      ]
     },
     "execution_count": 33,
     "metadata": {},
     "output_type": "execute_result"
    }
   ],
   "source": [
    "s(2)"
   ]
  },
  {
   "cell_type": "code",
   "execution_count": 35,
   "id": "3149d785-9718-4c3d-b66e-c92e7505ffd0",
   "metadata": {},
   "outputs": [],
   "source": [
    "from math import sqrt,pi,acos,log"
   ]
  },
  {
   "cell_type": "code",
   "execution_count": 37,
   "id": "2cf97da6-b551-4842-87a5-4b7281ee43be",
   "metadata": {},
   "outputs": [
    {
     "data": {
      "text/plain": [
       "2.4849066497880004"
      ]
     },
     "execution_count": 37,
     "metadata": {},
     "output_type": "execute_result"
    }
   ],
   "source": [
    "log(12)"
   ]
  },
  {
   "cell_type": "code",
   "execution_count": 39,
   "id": "ae3ef52c-60ec-4963-96ad-c9aaea140618",
   "metadata": {},
   "outputs": [],
   "source": [
    "import math"
   ]
  },
  {
   "cell_type": "code",
   "execution_count": 41,
   "id": "9c01b8ff-a439-4c89-be22-707da902d699",
   "metadata": {},
   "outputs": [
    {
     "data": {
      "text/plain": [
       "3.141592653589793"
      ]
     },
     "execution_count": 41,
     "metadata": {},
     "output_type": "execute_result"
    }
   ],
   "source": [
    "math.pi"
   ]
  },
  {
   "cell_type": "code",
   "execution_count": null,
   "id": "59d4e2cf-848b-40e7-8911-ebd5e0522c83",
   "metadata": {},
   "outputs": [],
   "source": [
    "4 Import all"
   ]
  },
  {
   "cell_type": "code",
   "execution_count": 45,
   "id": "eafe6f52-2595-455e-b292-2aef48a571f3",
   "metadata": {},
   "outputs": [],
   "source": [
    "from math import *\n",
    "# can lead to duplicate definations for an identifier"
   ]
  },
  {
   "cell_type": "code",
   "execution_count": 47,
   "id": "dcc107cb-d407-4bdd-a007-dfb4da468dba",
   "metadata": {},
   "outputs": [
    {
     "data": {
      "text/plain": [
       "3.141592653589793"
      ]
     },
     "execution_count": 47,
     "metadata": {},
     "output_type": "execute_result"
    }
   ],
   "source": [
    "pi"
   ]
  },
  {
   "cell_type": "code",
   "execution_count": 49,
   "id": "f585870d-e8ca-4e99-b674-8db8f2e18e97",
   "metadata": {},
   "outputs": [
    {
     "data": {
      "text/plain": [
       "3.4641016151377544"
      ]
     },
     "execution_count": 49,
     "metadata": {},
     "output_type": "execute_result"
    }
   ],
   "source": [
    "sqrt(12)"
   ]
  },
  {
   "cell_type": "code",
   "execution_count": null,
   "id": "fdac5211-08ff-46ba-9ef9-a4c614d7c8de",
   "metadata": {},
   "outputs": [],
   "source": [
    "def log"
   ]
  },
  {
   "cell_type": "code",
   "execution_count": 66,
   "id": "b76ed054-7613-481d-ba1f-25333ceaf125",
   "metadata": {},
   "outputs": [
    {
     "data": {
      "text/plain": [
       "144"
      ]
     },
     "execution_count": 66,
     "metadata": {},
     "output_type": "execute_result"
    }
   ],
   "source": [
    "def sq(n):\n",
    "    return n**2\n",
    "\n",
    "sq(12)"
   ]
  },
  {
   "cell_type": "code",
   "execution_count": 68,
   "id": "57a3b633-bbdd-4db9-9cc0-bfe9809a1a13",
   "metadata": {},
   "outputs": [
    {
     "data": {
      "text/plain": [
       "'math'"
      ]
     },
     "execution_count": 68,
     "metadata": {},
     "output_type": "execute_result"
    }
   ],
   "source": [
    "math.__name__"
   ]
  },
  {
   "cell_type": "code",
   "execution_count": null,
   "id": "84da953f-6329-450c-805c-0809163db1dd",
   "metadata": {},
   "outputs": [],
   "source": []
  },
  {
   "cell_type": "code",
   "execution_count": null,
   "id": "ecc12fa3-3b56-436f-bc72-df5173e9bc15",
   "metadata": {},
   "outputs": [],
   "source": [
    "**Python packages**"
   ]
  },
  {
   "cell_type": "code",
   "execution_count": null,
   "id": "4cc440c9-7fb2-4cd1-8b97-17873b71e1b1",
   "metadata": {},
   "outputs": [],
   "source": [
    "1.we don't store all our files on our computer in same location.\n",
    "2.we use a well organised heirachy of directories for easy access.\n",
    "3.similar modules in one packages and different modules in different in different packages.\n",
    "4.directory(folder) -sub-directory (folder inside director)\n",
    "5.packages have sub packages\n",
    "6.A directory must contain a file named init.py in order python to consider it as package."
   ]
  },
  {
   "cell_type": "code",
   "execution_count": 74,
   "id": "b71b58ef-8988-47f3-b695-2fed4bff7fec",
   "metadata": {},
   "outputs": [
    {
     "ename": "SyntaxError",
     "evalue": "invalid syntax (967116390.py, line 1)",
     "output_type": "error",
     "traceback": [
      "\u001b[1;36m  Cell \u001b[1;32mIn[74], line 1\u001b[1;36m\u001b[0m\n\u001b[1;33m    Game:\u001b[0m\n\u001b[1;37m         ^\u001b[0m\n\u001b[1;31mSyntaxError\u001b[0m\u001b[1;31m:\u001b[0m invalid syntax\n"
     ]
    }
   ],
   "source": [
    " Game:\n",
    "     sound:\n",
    "         load:\n",
    "             load_game()\n",
    "             grapics _increase()\n",
    "         play\n",
    "         pause\n",
    "     Image:\n",
    "           open\n",
    "           change\n",
    "           close\n",
    "     level:\n",
    "          start \n",
    "          load     \n",
    "          over"
   ]
  },
  {
   "cell_type": "code",
   "execution_count": 76,
   "id": "79e08e4e-62ee-46bc-8fd9-a26118706fdb",
   "metadata": {},
   "outputs": [],
   "source": [
    "import Game.level.start\n",
    "start.play()"
   ]
  },
  {
   "cell_type": "code",
   "execution_count": null,
   "id": "8d0df02f-2833-47e1-9633-f5ed16253825",
   "metadata": {},
   "outputs": [],
   "source": []
  },
  {
   "cell_type": "code",
   "execution_count": null,
   "id": "fe62039a-c5f5-4e65-9774-50e83a21a2d6",
   "metadata": {},
   "outputs": [],
   "source": [
    "from Game.Image.change import profile_pic\n",
    "profile_oic(\"23355ev\")"
   ]
  },
  {
   "cell_type": "code",
   "execution_count": null,
   "id": "a34f8036-0cc1-4d8e-b6fa-b9eb168a92b9",
   "metadata": {},
   "outputs": [],
   "source": [
    "module--packages--library--framework"
   ]
  },
  {
   "cell_type": "code",
   "execution_count": null,
   "id": "17d0c787-4505-4dec-8d7d-7c4ea0ccb567",
   "metadata": {},
   "outputs": [],
   "source": []
  },
  {
   "cell_type": "code",
   "execution_count": null,
   "id": "c1711b4b-b607-400c-8ee8-08d13c364df8",
   "metadata": {},
   "outputs": [],
   "source": [
    "** Libraries"
   ]
  },
  {
   "cell_type": "code",
   "execution_count": null,
   "id": "5ae4588a-0471-4810-8934-cc379644afe3",
   "metadata": {},
   "outputs": [],
   "source": [
    "-it is a collection of various packages\n",
    "-eg:pandas,numpy,matplotlib,seaborn"
   ]
  },
  {
   "cell_type": "code",
   "execution_count": null,
   "id": "abd243a3-18f6-4065-85aa-5f36f6e69f0c",
   "metadata": {},
   "outputs": [],
   "source": [
    "power bi and tableau,grafana ,sitewise(tools)"
   ]
  },
  {
   "cell_type": "code",
   "execution_count": null,
   "id": "2207c6e2-d435-4389-afaf-bebbfa9cc185",
   "metadata": {},
   "outputs": [],
   "source": [
    "** Frameswork"
   ]
  },
  {
   "cell_type": "code",
   "execution_count": null,
   "id": "eb73bfb3-9826-4042-9d3c-172f545b466b",
   "metadata": {},
   "outputs": [],
   "source": [
    "It will be collection of various liabraries\n",
    "-web apllications frameworks :flASK,django"
   ]
  },
  {
   "cell_type": "code",
   "execution_count": null,
   "id": "5f57db64-3320-431e-a2d8-9d45eb17df1f",
   "metadata": {},
   "outputs": [],
   "source": [
    "#####"
   ]
  },
  {
   "cell_type": "code",
   "execution_count": null,
   "id": "0de79e4d-6b63-4307-b53b-e6ff3b5e11cc",
   "metadata": {},
   "outputs": [],
   "source": [
    "#module>> Packages>> Libraries >>>Frameworks"
   ]
  },
  {
   "cell_type": "code",
   "execution_count": null,
   "id": "d77931ca-6ee5-46e4-8ad8-29624d99cad3",
   "metadata": {},
   "outputs": [],
   "source": [
    "This notebook provides an overview of python modules and packages and libraries and framework with exapmples and explanations to help you understanf thier usage and importance\n",
    "\n",
    "*Python Modules:\n",
    "1.Modules refer to a file containing Python statements and definations.\n",
    "2.A file containing Python code,for ex exmple.py is called a module.\n",
    "3.We use modules to break down the large prpgrams into small programs mangeble and organised files \n",
    "4.we can use the functions in mofule by importing it\n",
    "\n",
    "*\n",
    "ex:\n",
    "def greet(name):\n",
    "    return f\"Hello,{fname}!\"\n",
    "\n",
    "def add(a,b):\n",
    "    return a+b\n",
    "\n",
    "import mymodule\n",
    "\n",
    "print(mymodule.greet(\"Alice\"))\n",
    "print(mymodule.add(5,6))"
   ]
  },
  {
   "cell_type": "code",
   "execution_count": null,
   "id": "5f695f65-ecfe-4674-b12c-1962cb11f15e",
   "metadata": {},
   "outputs": [],
   "source": [
    "#python packages \n",
    "A packages is a way of organising related modules into a directory heirachy \n",
    "Each package in python in directory that must conatain a spacial file called __init__.py\n",
    "Packages help in organising the code in stryctuerd way making easier to manage and reuse\n",
    "\n",
    "# Directory structure:\n",
    " # mypackage/\n",
    " #\n",
    " # __init__.py\n",
    " #\n",
    " #\n",
    " # module1.py\n",
    " # module2.py\n",
    " # Example module1.py\n",
    " def foo():\n",
    "      return \"foo\"\n",
    " # Using the package\n",
    " from mypackage import module1\n",
    " print(module1.foo())"
   ]
  },
  {
   "cell_type": "code",
   "execution_count": null,
   "id": "b2a2f472-5751-4902-9c5f-bc4dc73cdb83",
   "metadata": {},
   "outputs": [],
   "source": [
    " ##Popular Python Libraries\n",
    " Python libraries are collections of modules and packages that provide␣\n",
    " ↪pre-written code for common tasks. Here are some of the most popular Python␣\n",
    " ↪libraries"
   ]
  },
  {
   "cell_type": "code",
   "execution_count": null,
   "id": "08c4e1a2-642f-478f-84d1-8b3463120a05",
   "metadata": {},
   "outputs": [],
   "source": [
    "Numpy\n",
    "Numpy is a powerful library for numerical computing in pytthon'\n",
    "It supports for arrays ,matrices and many mathematical functions"
   ]
  },
  {
   "cell_type": "code",
   "execution_count": 98,
   "id": "36966713-c7be-43bc-836f-2a77c6660b3d",
   "metadata": {},
   "outputs": [
    {
     "name": "stdout",
     "output_type": "stream",
     "text": [
      "array: [13  3  4  5  6  6]\n",
      "Array+2: [15  5  6  7  8  8]\n",
      "Arrya*3: [26  6  8 10 12 12]\n",
      "Zeros: [[0. 0.]\n",
      " [0. 0.]]\n",
      "Ones: [[1. 1. 1.]\n",
      " [1. 1. 1.]]\n",
      "Arange: [0 1 2 3 4 5 6 7 8 9]\n"
     ]
    }
   ],
   "source": [
    "import numpy as np \n",
    "\n",
    "arr=np.array([13,3,4,5,6,6])\n",
    "print(\"array:\",arr)\n",
    "\n",
    "#basic Operatoins\n",
    "print(\"Array+2:\",arr+2)\n",
    "print(\"Arrya*3:\",arr*2)\n",
    "#commonly used functions\n",
    "print(\"Zeros:\",np.zeros((2,2)))\n",
    "print(\"Ones:\",np.ones((2,3)))\n",
    "print(\"Arange:\",np.arange(10))"
   ]
  },
  {
   "cell_type": "code",
   "execution_count": null,
   "id": "e54de89e-bcda-4195-b10c-fd5fdfe5579c",
   "metadata": {},
   "outputs": [],
   "source": [
    "*pandas \n",
    "pandas is library for data manipulations and analysis.It provides data structures and like series and dataFrame"
   ]
  },
  {
   "cell_type": "code",
   "execution_count": 106,
   "id": "7ae4ad61-19d8-4173-b957-f4065fa35b3d",
   "metadata": {},
   "outputs": [
    {
     "name": "stdout",
     "output_type": "stream",
     "text": [
      "Series:\n",
      " 0    12\n",
      "1     4\n",
      "2     4\n",
      "3     5\n",
      "4     5\n",
      "5     5\n",
      "dtype: int64\n"
     ]
    }
   ],
   "source": [
    "import pandas as pd\n",
    "#creating a Sries\n",
    "series=pd.Series([12,4,4,5,5,5,])\n",
    "print(\"Series:\\n\",series)"
   ]
  },
  {
   "cell_type": "code",
   "execution_count": 112,
   "id": "0e2fc90f-3cde-43e4-a3ce-61c010edcec7",
   "metadata": {},
   "outputs": [
    {
     "data": {
      "text/html": [
       "<div>\n",
       "<style scoped>\n",
       "    .dataframe tbody tr th:only-of-type {\n",
       "        vertical-align: middle;\n",
       "    }\n",
       "\n",
       "    .dataframe tbody tr th {\n",
       "        vertical-align: top;\n",
       "    }\n",
       "\n",
       "    .dataframe thead th {\n",
       "        text-align: right;\n",
       "    }\n",
       "</style>\n",
       "<table border=\"1\" class=\"dataframe\">\n",
       "  <thead>\n",
       "    <tr style=\"text-align: right;\">\n",
       "      <th></th>\n",
       "      <th>A</th>\n",
       "      <th>B</th>\n",
       "    </tr>\n",
       "  </thead>\n",
       "  <tbody>\n",
       "    <tr>\n",
       "      <th>0</th>\n",
       "      <td>1</td>\n",
       "      <td>24</td>\n",
       "    </tr>\n",
       "    <tr>\n",
       "      <th>1</th>\n",
       "      <td>2</td>\n",
       "      <td>4</td>\n",
       "    </tr>\n",
       "    <tr>\n",
       "      <th>2</th>\n",
       "      <td>3</td>\n",
       "      <td>4</td>\n",
       "    </tr>\n",
       "    <tr>\n",
       "      <th>3</th>\n",
       "      <td>44</td>\n",
       "      <td>42</td>\n",
       "    </tr>\n",
       "  </tbody>\n",
       "</table>\n",
       "</div>"
      ],
      "text/plain": [
       "    A   B\n",
       "0   1  24\n",
       "1   2   4\n",
       "2   3   4\n",
       "3  44  42"
      ]
     },
     "execution_count": 112,
     "metadata": {},
     "output_type": "execute_result"
    }
   ],
   "source": [
    "#creating DataFrame\n",
    "df=pd.DataFrame({\n",
    "    'A':[1,2,3,44],\n",
    "    'B':[24,4,4,42]})\n",
    "df"
   ]
  },
  {
   "cell_type": "code",
   "execution_count": null,
   "id": "78f1bce7-5e31-42ea-9b61-47a49a6c458b",
   "metadata": {},
   "outputs": [],
   "source": [
    "# Reading and writing data\n",
    " # Assuming you have a CSV file 'data.csv'\n",
    " # df = pd.read_csv('data.csv')\n",
    " # df.to_excel('output.xlsx')\n"
   ]
  },
  {
   "cell_type": "code",
   "execution_count": 118,
   "id": "2f635267-d009-4350-b59a-2f67728d2043",
   "metadata": {},
   "outputs": [
    {
     "name": "stdout",
     "output_type": "stream",
     "text": [
      "Head:\n",
      "     A   B\n",
      "0   1  24\n",
      "1   2   4\n",
      "2   3   4\n",
      "3  44  42\n",
      "Describe:\n",
      "                A          B\n",
      "count   4.000000   4.000000\n",
      "mean   12.500000  18.500000\n",
      "std    21.015867  18.284784\n",
      "min     1.000000   4.000000\n",
      "25%     1.750000   4.000000\n",
      "50%     2.500000  14.000000\n",
      "75%    13.250000  28.500000\n",
      "max    44.000000  42.000000\n",
      "DataFrame with new column:\n",
      "     A   B   C\n",
      "0   1  24  25\n",
      "1   2   4   6\n",
      "2   3   4   7\n",
      "3  44  42  86\n"
     ]
    }
   ],
   "source": [
    "# Data manipulation\n",
    "print(\"Head:\\n\", df.head())\n",
    "print(\"Describe:\\n\", df.describe())\n",
    "df['C'] = df['A'] + df['B']\n",
    "print(\"DataFrame with new column:\\n\", df)"
   ]
  },
  {
   "cell_type": "code",
   "execution_count": 120,
   "id": "c8b50fbd-7235-42ea-81b4-37149bceec47",
   "metadata": {},
   "outputs": [
    {
     "data": {
      "text/html": [
       "<div>\n",
       "<style scoped>\n",
       "    .dataframe tbody tr th:only-of-type {\n",
       "        vertical-align: middle;\n",
       "    }\n",
       "\n",
       "    .dataframe tbody tr th {\n",
       "        vertical-align: top;\n",
       "    }\n",
       "\n",
       "    .dataframe thead th {\n",
       "        text-align: right;\n",
       "    }\n",
       "</style>\n",
       "<table border=\"1\" class=\"dataframe\">\n",
       "  <thead>\n",
       "    <tr style=\"text-align: right;\">\n",
       "      <th></th>\n",
       "      <th>A</th>\n",
       "      <th>B</th>\n",
       "      <th>C</th>\n",
       "      <th>D</th>\n",
       "    </tr>\n",
       "  </thead>\n",
       "  <tbody>\n",
       "    <tr>\n",
       "      <th>0</th>\n",
       "      <td>1</td>\n",
       "      <td>24</td>\n",
       "      <td>25</td>\n",
       "      <td>24</td>\n",
       "    </tr>\n",
       "    <tr>\n",
       "      <th>1</th>\n",
       "      <td>2</td>\n",
       "      <td>4</td>\n",
       "      <td>6</td>\n",
       "      <td>8</td>\n",
       "    </tr>\n",
       "    <tr>\n",
       "      <th>2</th>\n",
       "      <td>3</td>\n",
       "      <td>4</td>\n",
       "      <td>7</td>\n",
       "      <td>12</td>\n",
       "    </tr>\n",
       "    <tr>\n",
       "      <th>3</th>\n",
       "      <td>44</td>\n",
       "      <td>42</td>\n",
       "      <td>86</td>\n",
       "      <td>1848</td>\n",
       "    </tr>\n",
       "  </tbody>\n",
       "</table>\n",
       "</div>"
      ],
      "text/plain": [
       "    A   B   C     D\n",
       "0   1  24  25    24\n",
       "1   2   4   6     8\n",
       "2   3   4   7    12\n",
       "3  44  42  86  1848"
      ]
     },
     "execution_count": 120,
     "metadata": {},
     "output_type": "execute_result"
    }
   ],
   "source": [
    "df['D']=df['A']*df['B']\n",
    "df"
   ]
  },
  {
   "cell_type": "code",
   "execution_count": null,
   "id": "4607f6df-6747-4813-99a7-78a4a21c681f",
   "metadata": {},
   "outputs": [],
   "source": [
    "Matplotlib&seaborn.\n",
    "Matplotlib is a library for creating static ,animated and interactive visualisations in python.\n",
    "Seaborn is built on top of Matplotlib and provides a high_level interface for drawwing attarctive stataical graphics"
   ]
  },
  {
   "cell_type": "code",
   "execution_count": 132,
   "id": "759ff46a-fa25-4676-82ea-6238d3a61d15",
   "metadata": {},
   "outputs": [
    {
     "data": {
      "image/png": "[encoded data removed]",
      "text/plain": [
       "<Figure size 640x480 with 1 Axes>"
      ]
     },
     "metadata": {},
     "output_type": "display_data"
    }
   ],
   "source": [
    "import matplotlib.pyplot as plt\n",
    "import seaborn as sns\n",
    "\n",
    "#matplotlib example\n",
    "plt.plot([1,2,3,4],[1,2,5,4])\n",
    "plt.title(\"Matplotlib Plot\")\n",
    "plt.show()"
   ]
  },
  {
   "cell_type": "code",
   "execution_count": 136,
   "id": "b4520090-3549-491b-b415-ab1887d21226",
   "metadata": {},
   "outputs": [
    {
     "data": {
      "text/html": [
       "<div>\n",
       "<style scoped>\n",
       "    .dataframe tbody tr th:only-of-type {\n",
       "        vertical-align: middle;\n",
       "    }\n",
       "\n",
       "    .dataframe tbody tr th {\n",
       "        vertical-align: top;\n",
       "    }\n",
       "\n",
       "    .dataframe thead th {\n",
       "        text-align: right;\n",
       "    }\n",
       "</style>\n",
       "<table border=\"1\" class=\"dataframe\">\n",
       "  <thead>\n",
       "    <tr style=\"text-align: right;\">\n",
       "      <th></th>\n",
       "      <th>age</th>\n",
       "      <th>workclass</th>\n",
       "      <th>fnlwgt</th>\n",
       "      <th>education</th>\n",
       "      <th>educational-num</th>\n",
       "      <th>marital-status</th>\n",
       "      <th>occupation</th>\n",
       "      <th>relationship</th>\n",
       "      <th>race</th>\n",
       "      <th>gender</th>\n",
       "      <th>capital-gain</th>\n",
       "      <th>capital-loss</th>\n",
       "      <th>hours-per-week</th>\n",
       "      <th>native-country</th>\n",
       "      <th>income</th>\n",
       "    </tr>\n",
       "  </thead>\n",
       "  <tbody>\n",
       "    <tr>\n",
       "      <th>0</th>\n",
       "      <td>25</td>\n",
       "      <td>Private</td>\n",
       "      <td>226802</td>\n",
       "      <td>11th</td>\n",
       "      <td>7</td>\n",
       "      <td>Never-married</td>\n",
       "      <td>Machine-op-inspct</td>\n",
       "      <td>Own-child</td>\n",
       "      <td>Black</td>\n",
       "      <td>Male</td>\n",
       "      <td>0</td>\n",
       "      <td>0</td>\n",
       "      <td>40</td>\n",
       "      <td>United-States</td>\n",
       "      <td>&lt;=50K</td>\n",
       "    </tr>\n",
       "    <tr>\n",
       "      <th>1</th>\n",
       "      <td>38</td>\n",
       "      <td>Private</td>\n",
       "      <td>89814</td>\n",
       "      <td>HS-grad</td>\n",
       "      <td>9</td>\n",
       "      <td>Married-civ-spouse</td>\n",
       "      <td>Farming-fishing</td>\n",
       "      <td>Husband</td>\n",
       "      <td>White</td>\n",
       "      <td>Male</td>\n",
       "      <td>0</td>\n",
       "      <td>0</td>\n",
       "      <td>50</td>\n",
       "      <td>United-States</td>\n",
       "      <td>&lt;=50K</td>\n",
       "    </tr>\n",
       "    <tr>\n",
       "      <th>2</th>\n",
       "      <td>28</td>\n",
       "      <td>Local-gov</td>\n",
       "      <td>336951</td>\n",
       "      <td>Assoc-acdm</td>\n",
       "      <td>12</td>\n",
       "      <td>Married-civ-spouse</td>\n",
       "      <td>Protective-serv</td>\n",
       "      <td>Husband</td>\n",
       "      <td>White</td>\n",
       "      <td>Male</td>\n",
       "      <td>0</td>\n",
       "      <td>0</td>\n",
       "      <td>40</td>\n",
       "      <td>United-States</td>\n",
       "      <td>&gt;50K</td>\n",
       "    </tr>\n",
       "    <tr>\n",
       "      <th>3</th>\n",
       "      <td>44</td>\n",
       "      <td>Private</td>\n",
       "      <td>160323</td>\n",
       "      <td>Some-college</td>\n",
       "      <td>10</td>\n",
       "      <td>Married-civ-spouse</td>\n",
       "      <td>Machine-op-inspct</td>\n",
       "      <td>Husband</td>\n",
       "      <td>Black</td>\n",
       "      <td>Male</td>\n",
       "      <td>7688</td>\n",
       "      <td>0</td>\n",
       "      <td>40</td>\n",
       "      <td>United-States</td>\n",
       "      <td>&gt;50K</td>\n",
       "    </tr>\n",
       "    <tr>\n",
       "      <th>4</th>\n",
       "      <td>18</td>\n",
       "      <td>?</td>\n",
       "      <td>103497</td>\n",
       "      <td>Some-college</td>\n",
       "      <td>10</td>\n",
       "      <td>Never-married</td>\n",
       "      <td>?</td>\n",
       "      <td>Own-child</td>\n",
       "      <td>White</td>\n",
       "      <td>Female</td>\n",
       "      <td>0</td>\n",
       "      <td>0</td>\n",
       "      <td>30</td>\n",
       "      <td>United-States</td>\n",
       "      <td>&lt;=50K</td>\n",
       "    </tr>\n",
       "    <tr>\n",
       "      <th>...</th>\n",
       "      <td>...</td>\n",
       "      <td>...</td>\n",
       "      <td>...</td>\n",
       "      <td>...</td>\n",
       "      <td>...</td>\n",
       "      <td>...</td>\n",
       "      <td>...</td>\n",
       "      <td>...</td>\n",
       "      <td>...</td>\n",
       "      <td>...</td>\n",
       "      <td>...</td>\n",
       "      <td>...</td>\n",
       "      <td>...</td>\n",
       "      <td>...</td>\n",
       "      <td>...</td>\n",
       "    </tr>\n",
       "    <tr>\n",
       "      <th>48837</th>\n",
       "      <td>27</td>\n",
       "      <td>Private</td>\n",
       "      <td>257302</td>\n",
       "      <td>Assoc-acdm</td>\n",
       "      <td>12</td>\n",
       "      <td>Married-civ-spouse</td>\n",
       "      <td>Tech-support</td>\n",
       "      <td>Wife</td>\n",
       "      <td>White</td>\n",
       "      <td>Female</td>\n",
       "      <td>0</td>\n",
       "      <td>0</td>\n",
       "      <td>38</td>\n",
       "      <td>United-States</td>\n",
       "      <td>&lt;=50K</td>\n",
       "    </tr>\n",
       "    <tr>\n",
       "      <th>48838</th>\n",
       "      <td>40</td>\n",
       "      <td>Private</td>\n",
       "      <td>154374</td>\n",
       "      <td>HS-grad</td>\n",
       "      <td>9</td>\n",
       "      <td>Married-civ-spouse</td>\n",
       "      <td>Machine-op-inspct</td>\n",
       "      <td>Husband</td>\n",
       "      <td>White</td>\n",
       "      <td>Male</td>\n",
       "      <td>0</td>\n",
       "      <td>0</td>\n",
       "      <td>40</td>\n",
       "      <td>United-States</td>\n",
       "      <td>&gt;50K</td>\n",
       "    </tr>\n",
       "    <tr>\n",
       "      <th>48839</th>\n",
       "      <td>58</td>\n",
       "      <td>Private</td>\n",
       "      <td>151910</td>\n",
       "      <td>HS-grad</td>\n",
       "      <td>9</td>\n",
       "      <td>Widowed</td>\n",
       "      <td>Adm-clerical</td>\n",
       "      <td>Unmarried</td>\n",
       "      <td>White</td>\n",
       "      <td>Female</td>\n",
       "      <td>0</td>\n",
       "      <td>0</td>\n",
       "      <td>40</td>\n",
       "      <td>United-States</td>\n",
       "      <td>&lt;=50K</td>\n",
       "    </tr>\n",
       "    <tr>\n",
       "      <th>48840</th>\n",
       "      <td>22</td>\n",
       "      <td>Private</td>\n",
       "      <td>201490</td>\n",
       "      <td>HS-grad</td>\n",
       "      <td>9</td>\n",
       "      <td>Never-married</td>\n",
       "      <td>Adm-clerical</td>\n",
       "      <td>Own-child</td>\n",
       "      <td>White</td>\n",
       "      <td>Male</td>\n",
       "      <td>0</td>\n",
       "      <td>0</td>\n",
       "      <td>20</td>\n",
       "      <td>United-States</td>\n",
       "      <td>&lt;=50K</td>\n",
       "    </tr>\n",
       "    <tr>\n",
       "      <th>48841</th>\n",
       "      <td>52</td>\n",
       "      <td>Self-emp-inc</td>\n",
       "      <td>287927</td>\n",
       "      <td>HS-grad</td>\n",
       "      <td>9</td>\n",
       "      <td>Married-civ-spouse</td>\n",
       "      <td>Exec-managerial</td>\n",
       "      <td>Wife</td>\n",
       "      <td>White</td>\n",
       "      <td>Female</td>\n",
       "      <td>15024</td>\n",
       "      <td>0</td>\n",
       "      <td>40</td>\n",
       "      <td>United-States</td>\n",
       "      <td>&gt;50K</td>\n",
       "    </tr>\n",
       "  </tbody>\n",
       "</table>\n",
       "<p>48842 rows × 15 columns</p>\n",
       "</div>"
      ],
      "text/plain": [
       "       age     workclass  fnlwgt     education  educational-num  \\\n",
       "0       25       Private  226802          11th                7   \n",
       "1       38       Private   89814       HS-grad                9   \n",
       "2       28     Local-gov  336951    Assoc-acdm               12   \n",
       "3       44       Private  160323  Some-college               10   \n",
       "4       18             ?  103497  Some-college               10   \n",
       "...    ...           ...     ...           ...              ...   \n",
       "48837   27       Private  257302    Assoc-acdm               12   \n",
       "48838   40       Private  154374       HS-grad                9   \n",
       "48839   58       Private  151910       HS-grad                9   \n",
       "48840   22       Private  201490       HS-grad                9   \n",
       "48841   52  Self-emp-inc  287927       HS-grad                9   \n",
       "\n",
       "           marital-status         occupation relationship   race  gender  \\\n",
       "0           Never-married  Machine-op-inspct    Own-child  Black    Male   \n",
       "1      Married-civ-spouse    Farming-fishing      Husband  White    Male   \n",
       "2      Married-civ-spouse    Protective-serv      Husband  White    Male   \n",
       "3      Married-civ-spouse  Machine-op-inspct      Husband  Black    Male   \n",
       "4           Never-married                  ?    Own-child  White  Female   \n",
       "...                   ...                ...          ...    ...     ...   \n",
       "48837  Married-civ-spouse       Tech-support         Wife  White  Female   \n",
       "48838  Married-civ-spouse  Machine-op-inspct      Husband  White    Male   \n",
       "48839             Widowed       Adm-clerical    Unmarried  White  Female   \n",
       "48840       Never-married       Adm-clerical    Own-child  White    Male   \n",
       "48841  Married-civ-spouse    Exec-managerial         Wife  White  Female   \n",
       "\n",
       "       capital-gain  capital-loss  hours-per-week native-country income  \n",
       "0                 0             0              40  United-States  <=50K  \n",
       "1                 0             0              50  United-States  <=50K  \n",
       "2                 0             0              40  United-States   >50K  \n",
       "3              7688             0              40  United-States   >50K  \n",
       "4                 0             0              30  United-States  <=50K  \n",
       "...             ...           ...             ...            ...    ...  \n",
       "48837             0             0              38  United-States  <=50K  \n",
       "48838             0             0              40  United-States   >50K  \n",
       "48839             0             0              40  United-States  <=50K  \n",
       "48840             0             0              20  United-States  <=50K  \n",
       "48841         15024             0              40  United-States   >50K  \n",
       "\n",
       "[48842 rows x 15 columns]"
      ]
     },
     "execution_count": 136,
     "metadata": {},
     "output_type": "execute_result"
    }
   ],
   "source": [
    "df=pd.read_csv(r\"C:\\Users\\gadam\\OneDrive\\Pictures\\Desktop\\data science\\resource_r0le2ft2.csv\")\n",
    "df"
   ]
  },
  {
   "cell_type": "code",
   "execution_count": null,
   "id": "1e4a890e-3e31-4a84-803f-fa7827d1e1e4",
   "metadata": {},
   "outputs": [],
   "source": [
    "##python frames"
   ]
  },
  {
   "cell_type": "code",
   "execution_count": null,
   "id": "6cdd0284-7ef1-46d4-944a-7f91fbf40046",
   "metadata": {},
   "outputs": [],
   "source": [
    "Frameworks are collections of libraries and tools that provide a structered \n",
    "environment for developing applications they are more comprehensive than libraries offering a scarrfold to build applications"
   ]
  },
  {
   "cell_type": "code",
   "execution_count": null,
   "id": "37d9cd07-4551-4703-8c8b-9573c8f89767",
   "metadata": {},
   "outputs": [],
   "source": [
    "Flask(Web Development)\n",
    "Flask is a micro web framework written in python.It is lightweight and easy to use"
   ]
  },
  {
   "cell_type": "code",
   "execution_count": 145,
   "id": "0aeedec2-4483-486e-8d44-6dd17110c2f8",
   "metadata": {},
   "outputs": [
    {
     "name": "stdout",
     "output_type": "stream",
     "text": [
      " * Serving Flask app '__main__'\n",
      " * Debug mode: on\n"
     ]
    },
    {
     "name": "stderr",
     "output_type": "stream",
     "text": [
      "WARNING: This is a development server. Do not use it in a production deployment. Use a production WSGI server instead.\n",
      " * Running on http://127.0.0.1:5000\n",
      "Press CTRL+C to quit\n",
      " * Restarting with watchdog (windowsapi)\n"
     ]
    },
    {
     "ename": "SystemExit",
     "evalue": "1",
     "output_type": "error",
     "traceback": [
      "An exception has occurred, use %tb to see the full traceback.\n",
      "\u001b[1;31mSystemExit\u001b[0m\u001b[1;31m:\u001b[0m 1\n"
     ]
    },
    {
     "name": "stderr",
     "output_type": "stream",
     "text": [
      "C:\\Users\\gadam\\anaconda3\\Lib\\site-packages\\IPython\\core\\interactiveshell.py:3585: UserWarning: To exit: use 'exit', 'quit', or Ctrl-D.\n",
      "  warn(\"To exit: use 'exit', 'quit', or Ctrl-D.\", stacklevel=1)\n"
     ]
    }
   ],
   "source": [
    "from flask import Flask\n",
    "app=Flask(__name__)\n",
    "@app.route('/')\n",
    "def home():\n",
    "    return \"Hello,Flask\"\n",
    "\n",
    "if __name__==\"__main__\":\n",
    "    app.run(debug=True)\n"
   ]
  },
  {
   "cell_type": "code",
   "execution_count": null,
   "id": "b426b838-e9be-4f94-8b3b-e9c859bebace",
   "metadata": {},
   "outputs": [],
   "source": []
  },
  {
   "cell_type": "code",
   "execution_count": null,
   "id": "7ceef930-a038-4df5-9877-d80de8423d62",
   "metadata": {},
   "outputs": [],
   "source": []
  },
  {
   "cell_type": "code",
   "execution_count": null,
   "id": "47df4b98-0008-4ffd-b610-f35633970346",
   "metadata": {},
   "outputs": [],
   "source": []
  },
  {
   "cell_type": "code",
   "execution_count": null,
   "id": "d873201b-762f-4a2f-8c0c-75c5b0b363ad",
   "metadata": {},
   "outputs": [],
   "source": []
  },
  {
   "cell_type": "code",
   "execution_count": null,
   "id": "01e18510-9f64-4782-bfa3-fedc691b6ab6",
   "metadata": {},
   "outputs": [],
   "source": []
  },
  {
   "cell_type": "code",
   "execution_count": null,
   "id": "4644a617-8417-49be-914f-1fa158b40494",
   "metadata": {},
   "outputs": [],
   "source": []
  },
  {
   "cell_type": "code",
   "execution_count": null,
   "id": "b647bbb3-20fc-4f26-94ba-0d115da018b8",
   "metadata": {},
   "outputs": [],
   "source": []
  },
  {
   "cell_type": "code",
   "execution_count": null,
   "id": "e0c7173b-9adb-4d37-823d-a6260707e486",
   "metadata": {},
   "outputs": [],
   "source": []
  },
  {
   "cell_type": "code",
   "execution_count": null,
   "id": "191f2709-ae0a-42a6-933e-9b74137df8f6",
   "metadata": {},
   "outputs": [],
   "source": []
  },
  {
   "cell_type": "code",
   "execution_count": null,
   "id": "7078f947-ab75-49c5-962b-25e81a68ea01",
   "metadata": {},
   "outputs": [],
   "source": []
  },
  {
   "cell_type": "code",
   "execution_count": null,
   "id": "d4a36a5a-2bb9-47c1-a073-3f83a214f397",
   "metadata": {},
   "outputs": [],
   "source": []
  },
  {
   "cell_type": "code",
   "execution_count": null,
   "id": "f85c4d6b-cee1-4734-b8cb-879aeeb6ef8e",
   "metadata": {},
   "outputs": [],
   "source": []
  },
  {
   "cell_type": "code",
   "execution_count": null,
   "id": "71d55fd7-fe32-4a2f-ab2c-a9f227ebef7a",
   "metadata": {},
   "outputs": [],
   "source": []
  },
  {
   "cell_type": "code",
   "execution_count": null,
   "id": "7afdc07d-d8f9-44af-9df1-b8936a24689a",
   "metadata": {},
   "outputs": [],
   "source": []
  },
  {
   "cell_type": "code",
   "execution_count": null,
   "id": "49985aec-e9db-4117-82fc-2a21526b1384",
   "metadata": {},
   "outputs": [],
   "source": []
  },
  {
   "cell_type": "code",
   "execution_count": null,
   "id": "e01132c5-dcf2-4574-88a0-109441c02254",
   "metadata": {},
   "outputs": [],
   "source": [
    "'''''Python Datetime''''''''''"
   ]
  },
  {
   "cell_type": "code",
   "execution_count": null,
   "id": "1ede60b7-1270-45fb-9fb7-dd74f9b4b15c",
   "metadata": {},
   "outputs": [],
   "source": [
    "A date in Python is not data type of its own,but we can import a module named datetime to wotk with dates as date objects"
   ]
  },
  {
   "cell_type": "code",
   "execution_count": 147,
   "id": "e8e73468-90fd-4d16-b389-31b981d4f7f1",
   "metadata": {},
   "outputs": [],
   "source": [
    "import datetime"
   ]
  },
  {
   "cell_type": "code",
   "execution_count": 151,
   "id": "710b17b1-b55b-4f31-a9bd-0a9525b1b52a",
   "metadata": {},
   "outputs": [
    {
     "name": "stdout",
     "output_type": "stream",
     "text": [
      "2024-08-11 14:54:45.670171\n"
     ]
    }
   ],
   "source": [
    "x=datetime.datetime.now()\n",
    "print(x)"
   ]
  },
  {
   "cell_type": "code",
   "execution_count": null,
   "id": "3c91b7db-94e9-42ac-8b5d-e0dbc96826c4",
   "metadata": {},
   "outputs": [],
   "source": [
    "we can see the above example in the formatt of year,month,day.hour.minute.sec and microsecond\n",
    "The datetime module has many methods to return information about the date object"
   ]
  },
  {
   "cell_type": "code",
   "execution_count": 169,
   "id": "5ddcfb66-015a-419d-bc72-31a3b42b2e37",
   "metadata": {},
   "outputs": [],
   "source": [
    "import datetime"
   ]
  },
  {
   "cell_type": "code",
   "execution_count": 173,
   "id": "aec6ad66-2d79-475a-9f04-ee53f19a0266",
   "metadata": {},
   "outputs": [
    {
     "name": "stdout",
     "output_type": "stream",
     "text": [
      "2024\n",
      "Sunday\n"
     ]
    }
   ],
   "source": [
    "x=datetime.datetime.now()\n",
    "print(x.year)\n",
    "print(x.strftime(\"%A\"))"
   ]
  },
  {
   "cell_type": "code",
   "execution_count": 187,
   "id": "18816b96-a8a8-4ee7-a040-13f2cb212764",
   "metadata": {},
   "outputs": [
    {
     "name": "stdout",
     "output_type": "stream",
     "text": [
      "Sunday\n"
     ]
    }
   ],
   "source": [
    "import datetime\n",
    "print(x.strftime(\"%A\"))\n"
   ]
  },
  {
   "cell_type": "code",
   "execution_count": 189,
   "id": "2e2e9cea-c760-4a41-953a-4f25fbb9eec3",
   "metadata": {},
   "outputs": [
    {
     "name": "stdout",
     "output_type": "stream",
     "text": [
      "Sunday\n"
     ]
    }
   ],
   "source": [
    "print(x.strftime(\"%A\"))"
   ]
  },
  {
   "cell_type": "code",
   "execution_count": null,
   "id": "4910a4e9-373a-41dc-b05c-4576bb7f4d65",
   "metadata": {},
   "outputs": [],
   "source": [
    "**Creating date objects***"
   ]
  },
  {
   "cell_type": "code",
   "execution_count": null,
   "id": "93c05774-7546-4c4c-be36-348b8d37bd4d",
   "metadata": {},
   "outputs": [],
   "source": [
    "To create date ,we can use the datetime() class(constructer) of the datetime module.\n",
    "the Datetime() class requires three parameters to create a date :year ,month and day"
   ]
  },
  {
   "cell_type": "code",
   "execution_count": 197,
   "id": "836d4c49-f799-41ec-b8d8-0e1d574e10d4",
   "metadata": {},
   "outputs": [
    {
     "name": "stdout",
     "output_type": "stream",
     "text": [
      "2020-02-02 10:20:10\n"
     ]
    }
   ],
   "source": [
    "import datetime\n",
    "x=datetime.datetime(2020,2,2, 10,20,10)\n",
    "print(x)"
   ]
  },
  {
   "cell_type": "code",
   "execution_count": null,
   "id": "c5f60fc7-e302-4c53-be15-b14e511f9561",
   "metadata": {},
   "outputs": [],
   "source": [
    "The strftime() method\n",
    "the datetime object has a method for formatting date objects into readable strings \n",
    "the method is called strftime() and takes one parameter format,to specify of the returned string:"
   ]
  },
  {
   "cell_type": "code",
   "execution_count": 211,
   "id": "f4773cc3-e79e-48ac-9478-c8e27015f678",
   "metadata": {},
   "outputs": [
    {
     "name": "stdout",
     "output_type": "stream",
     "text": [
      "August\n"
     ]
    }
   ],
   "source": [
    "import datetime\n",
    "x=datetime.datetime.now()\n",
    "print(x.strftime(\"%B\"))"
   ]
  },
  {
   "cell_type": "code",
   "execution_count": 213,
   "id": "d5cfb2b2-be7d-41df-96d9-62a528c79f12",
   "metadata": {},
   "outputs": [
    {
     "name": "stdout",
     "output_type": "stream",
     "text": [
      "Sun\n"
     ]
    }
   ],
   "source": [
    "print(x.strftime(\"%a\"))#\tWeekday, short version"
   ]
  },
  {
   "cell_type": "code",
   "execution_count": 215,
   "id": "cc688fd2-fad5-4578-ba8e-9be9c2b7d8f3",
   "metadata": {},
   "outputs": [
    {
     "name": "stdout",
     "output_type": "stream",
     "text": [
      "Sunday\n"
     ]
    }
   ],
   "source": [
    "print(x.strftime(\"%A\"))#\tWeekday, full version"
   ]
  },
  {
   "cell_type": "code",
   "execution_count": 219,
   "id": "6b4dc3be-f973-4779-8b81-8afcb1071535",
   "metadata": {},
   "outputs": [
    {
     "name": "stdout",
     "output_type": "stream",
     "text": [
      "0\n"
     ]
    }
   ],
   "source": [
    "print(x.strftime(\"%w\"))#Weekday as a number 0-6, 0 is Sunday"
   ]
  },
  {
   "cell_type": "code",
   "execution_count": 221,
   "id": "7b4e36b8-3f03-45d9-b692-53dbe25ecc09",
   "metadata": {},
   "outputs": [
    {
     "name": "stdout",
     "output_type": "stream",
     "text": [
      "32\n"
     ]
    }
   ],
   "source": [
    "print(x.strftime(\"%W\"))"
   ]
  },
  {
   "cell_type": "code",
   "execution_count": 223,
   "id": "021a5ea3-6794-41c1-b54a-aba95b63f9a1",
   "metadata": {},
   "outputs": [
    {
     "name": "stdout",
     "output_type": "stream",
     "text": [
      "11\n"
     ]
    }
   ],
   "source": [
    "print(x.strftime(\"%d\"))#Day of month 01-31"
   ]
  },
  {
   "cell_type": "code",
   "execution_count": 243,
   "id": "97c6bc0d-ecc9-4dc6-b5c5-35167dc515da",
   "metadata": {},
   "outputs": [
    {
     "name": "stdout",
     "output_type": "stream",
     "text": [
      "August\n",
      "Aug\n"
     ]
    }
   ],
   "source": [
    "print(x.strftime(\"%B\"))\n",
    "print(x.strftime(\"%b\"))#Month name, short version\n",
    "#Month name, full version"
   ]
  },
  {
   "cell_type": "code",
   "execution_count": 227,
   "id": "7bbfbd0c-751f-4001-b3e3-715a1964078a",
   "metadata": {},
   "outputs": [
    {
     "name": "stdout",
     "output_type": "stream",
     "text": [
      "08\n"
     ]
    }
   ],
   "source": [
    "print(x.strftime(\"%m\"))#Month as a number 01-12"
   ]
  },
  {
   "cell_type": "code",
   "execution_count": 229,
   "id": "1ec6d633-f7d6-4dbe-9c38-30d4ed79f587",
   "metadata": {},
   "outputs": [
    {
     "name": "stdout",
     "output_type": "stream",
     "text": [
      "24\n"
     ]
    }
   ],
   "source": [
    "print(x.strftime(\"%y\"))#Year, short version, without century"
   ]
  },
  {
   "cell_type": "code",
   "execution_count": 231,
   "id": "bae3dc49-c542-4ede-89dc-4fc472ede231",
   "metadata": {},
   "outputs": [
    {
     "name": "stdout",
     "output_type": "stream",
     "text": [
      "2024\n"
     ]
    }
   ],
   "source": [
    "print(x.strftime(\"%Y\"))#\tYear, full version"
   ]
  },
  {
   "cell_type": "code",
   "execution_count": 233,
   "id": "cca91ae1-5e9b-4535-b3e7-872d49b2b75b",
   "metadata": {},
   "outputs": [
    {
     "name": "stdout",
     "output_type": "stream",
     "text": [
      "15\n"
     ]
    }
   ],
   "source": [
    "print(x.strftime(\"%H\"))#Hour 00-23"
   ]
  },
  {
   "cell_type": "code",
   "execution_count": 235,
   "id": "61b48fbd-7289-41e8-919f-e91d14c35d6f",
   "metadata": {},
   "outputs": [
    {
     "name": "stdout",
     "output_type": "stream",
     "text": [
      "Aug\n"
     ]
    }
   ],
   "source": [
    "print(x.strftime(\"%h\"))"
   ]
  },
  {
   "cell_type": "code",
   "execution_count": 237,
   "id": "388f93cc-1583-4ee5-a35c-8da44be5def6",
   "metadata": {},
   "outputs": [
    {
     "name": "stdout",
     "output_type": "stream",
     "text": [
      "03\n"
     ]
    }
   ],
   "source": [
    "print(x.strftime(\"%I\"))#Hour 00-12"
   ]
  },
  {
   "cell_type": "code",
   "execution_count": 239,
   "id": "73b55993-1817-42c1-9f54-566ec7339771",
   "metadata": {},
   "outputs": [
    {
     "name": "stdout",
     "output_type": "stream",
     "text": [
      "PM\n"
     ]
    }
   ],
   "source": [
    "print(x.strftime(\"%p\"))#AM/PM"
   ]
  },
  {
   "cell_type": "code",
   "execution_count": 247,
   "id": "7c10a465-3cd8-4d78-89d4-3451eecb5193",
   "metadata": {},
   "outputs": [
    {
     "name": "stdout",
     "output_type": "stream",
     "text": [
      "06\n"
     ]
    }
   ],
   "source": [
    "print(x.strftime(\"%M\"))\t#Minute 00-59\t"
   ]
  },
  {
   "cell_type": "code",
   "execution_count": 249,
   "id": "73be8962-995d-4933-8814-10675db390fc",
   "metadata": {},
   "outputs": [
    {
     "name": "stdout",
     "output_type": "stream",
     "text": [
      "31\n"
     ]
    }
   ],
   "source": [
    "print(x.strftime(\"%S\"))#\tSecond 00-59"
   ]
  },
  {
   "cell_type": "code",
   "execution_count": 251,
   "id": "ff7022b4-b31c-4e69-993f-159fbeb65a9f",
   "metadata": {},
   "outputs": [
    {
     "name": "stdout",
     "output_type": "stream",
     "text": [
      "279709\n"
     ]
    }
   ],
   "source": [
    "print(x.strftime(\"%f\"))#Microsecond 000000-999999"
   ]
  },
  {
   "cell_type": "code",
   "execution_count": 255,
   "id": "82340c32-81f5-4dc4-9ea8-97303033cfab",
   "metadata": {},
   "outputs": [
    {
     "name": "stdout",
     "output_type": "stream",
     "text": [
      "\n"
     ]
    }
   ],
   "source": [
    "print(x.strftime(\"%z\"))#UTC offset"
   ]
  },
  {
   "cell_type": "code",
   "execution_count": 257,
   "id": "4cf217f9-a317-438f-bac2-1985b8dc048e",
   "metadata": {},
   "outputs": [
    {
     "name": "stdout",
     "output_type": "stream",
     "text": [
      "\n"
     ]
    }
   ],
   "source": [
    "print(x.strftime(\"%Z\"))#Timezone"
   ]
  },
  {
   "cell_type": "code",
   "execution_count": 259,
   "id": "f4585972-3fa9-4340-adcc-be39ced79694",
   "metadata": {},
   "outputs": [
    {
     "name": "stdout",
     "output_type": "stream",
     "text": [
      "224\n"
     ]
    }
   ],
   "source": [
    "print(x.strftime(\"%j\"))#Day number of year 001-366"
   ]
  },
  {
   "cell_type": "code",
   "execution_count": 261,
   "id": "606869d3-4047-4d71-b19a-9c1249b64906",
   "metadata": {},
   "outputs": [
    {
     "name": "stdout",
     "output_type": "stream",
     "text": [
      "32\n"
     ]
    }
   ],
   "source": [
    "print(x.strftime(\"%U\"))#Week number of year, Sunday as the first day of week, 00-53\t"
   ]
  },
  {
   "cell_type": "code",
   "execution_count": 263,
   "id": "a90e4265-e6d5-4799-9c1c-32ac111a16bd",
   "metadata": {},
   "outputs": [
    {
     "name": "stdout",
     "output_type": "stream",
     "text": [
      "32\n"
     ]
    }
   ],
   "source": [
    "print(x.strftime(\"%W\"))#Week number of year, Monday as the first day of week, 00-53\t52"
   ]
  },
  {
   "cell_type": "code",
   "execution_count": 265,
   "id": "500cca83-f532-45e5-aff4-b8f13a403289",
   "metadata": {},
   "outputs": [
    {
     "name": "stdout",
     "output_type": "stream",
     "text": [
      "Sun Aug 11 15:06:31 2024\n"
     ]
    }
   ],
   "source": [
    "print(x.strftime(\"%c\"))#Local version of date and time"
   ]
  },
  {
   "cell_type": "code",
   "execution_count": 267,
   "id": "09a55be1-dc24-4943-84a6-42ce130b9fa6",
   "metadata": {},
   "outputs": [
    {
     "name": "stdout",
     "output_type": "stream",
     "text": [
      "20\n"
     ]
    }
   ],
   "source": [
    "print(x.strftime(\"%C\"))#\tCentury"
   ]
  },
  {
   "cell_type": "code",
   "execution_count": 271,
   "id": "87b9fa43-ddb3-493c-8a08-696e0c3b4ccf",
   "metadata": {},
   "outputs": [
    {
     "name": "stdout",
     "output_type": "stream",
     "text": [
      "08/11/24\n"
     ]
    }
   ],
   "source": [
    "print(x.strftime(\"%x\"))#\tLocal version of date\t"
   ]
  },
  {
   "cell_type": "code",
   "execution_count": 269,
   "id": "ce27a9a9-a625-4385-8bc3-654d096c5ce7",
   "metadata": {},
   "outputs": [
    {
     "name": "stdout",
     "output_type": "stream",
     "text": [
      "15:06:31\n"
     ]
    }
   ],
   "source": [
    "print(x.strftime(\"%X\"))#\tLocal version of time\t"
   ]
  },
  {
   "cell_type": "code",
   "execution_count": 279,
   "id": "5634aa43-e18d-45af-a54f-cdf5fbb1af25",
   "metadata": {},
   "outputs": [
    {
     "name": "stdout",
     "output_type": "stream",
     "text": [
      "%\n"
     ]
    }
   ],
   "source": [
    "print(x.strftime(\"%%\"))#\tA % character\t%"
   ]
  },
  {
   "cell_type": "code",
   "execution_count": 281,
   "id": "0fe8dd28-4fc8-4d3b-99ea-e74dc7a74f5c",
   "metadata": {},
   "outputs": [
    {
     "name": "stdout",
     "output_type": "stream",
     "text": [
      "2024\n"
     ]
    }
   ],
   "source": [
    "print(x.strftime(\"%G\"))#ISO 8601 year\t2018"
   ]
  },
  {
   "cell_type": "code",
   "execution_count": 283,
   "id": "ac70c65f-65c6-4960-89ac-6d31c2d58c21",
   "metadata": {},
   "outputs": [
    {
     "name": "stdout",
     "output_type": "stream",
     "text": [
      "7\n"
     ]
    }
   ],
   "source": [
    "print(x.strftime(\"%u\"))#\tISO 8601 weekday (1-7)"
   ]
  },
  {
   "cell_type": "code",
   "execution_count": 285,
   "id": "627e6d90-7e8d-41b9-81ac-f5882ea5ea23",
   "metadata": {},
   "outputs": [
    {
     "name": "stdout",
     "output_type": "stream",
     "text": [
      "32\n"
     ]
    }
   ],
   "source": [
    "# ISO 8601 weeknumber (01-53)\t01\n",
    "print(x.strftime(\"%V\"))#\t"
   ]
  },
  {
   "cell_type": "code",
   "execution_count": null,
   "id": "0532a1f8-e1a1-49e1-ba74-34b9bc715ed6",
   "metadata": {},
   "outputs": [],
   "source": []
  },
  {
   "cell_type": "code",
   "execution_count": null,
   "id": "f8192ec1-c61f-46e4-88ff-45e0ae0bc985",
   "metadata": {},
   "outputs": [],
   "source": [
    "            \"\"\"\" Python Json\"\"\""
   ]
  },
  {
   "cell_type": "code",
   "execution_count": null,
   "id": "169cfdea-956f-42ce-a854-bfd902c82340",
   "metadata": {},
   "outputs": [],
   "source": [
    "JSON is syntax for storing and echanging data.\n",
    "JSON is text,writtern with JavaScrit object notation"
   ]
  },
  {
   "cell_type": "code",
   "execution_count": null,
   "id": "1b07a43c-6090-459d-aab1-621b1a37c85e",
   "metadata": {},
   "outputs": [],
   "source": [
    "Pyhton has built in package called json which can be used to work with JSON data"
   ]
  },
  {
   "cell_type": "code",
   "execution_count": 345,
   "id": "8d3d00c7-1656-46b0-8429-d0e9295840f3",
   "metadata": {},
   "outputs": [],
   "source": [
    "import json"
   ]
  },
  {
   "cell_type": "code",
   "execution_count": 349,
   "id": "b8392904-b303-4e1c-9da9-69ba12414d28",
   "metadata": {},
   "outputs": [],
   "source": [
    "Parse JSON - Convert from JSON to Python"
   ]
  },
  {
   "cell_type": "code",
   "execution_count": null,
   "id": "c413f101-21d2-451c-8f61-0e8a8f2c6a7e",
   "metadata": {},
   "outputs": [],
   "source": [
    "If you have a JSON string, you can parse it by using the json.loads() method."
   ]
  },
  {
   "cell_type": "code",
   "execution_count": 357,
   "id": "099f23b0-6ae2-44b1-973d-e63121b02af7",
   "metadata": {},
   "outputs": [
    {
     "name": "stdout",
     "output_type": "stream",
     "text": [
      "{'name': 'vasu', 'age': 12, 'city': 'New York'}\n"
     ]
    }
   ],
   "source": [
    "#some JSON:\n",
    "x='{\"name\":\"vasu\",\"age\":12,\"city\":\"New York\"}'\n",
    "#parse x:\n",
    "y=json.loads(x)\n",
    "print(y)"
   ]
  },
  {
   "cell_type": "code",
   "execution_count": 371,
   "id": "e0818365-dd8f-4696-a011-1f667843827e",
   "metadata": {},
   "outputs": [
    {
     "name": "stdout",
     "output_type": "stream",
     "text": [
      "vasu\n"
     ]
    }
   ],
   "source": [
    "print(y[\"name\"])"
   ]
  },
  {
   "cell_type": "code",
   "execution_count": null,
   "id": "46124819-2f20-48d7-9caf-5c559d3c3c6d",
   "metadata": {},
   "outputs": [],
   "source": [
    "convert from Python to json\n",
    "If you have any Python object you can convert it into a JSON string by using json.dumps()\n"
   ]
  },
  {
   "cell_type": "code",
   "execution_count": 373,
   "id": "befb6a4a-990b-41a8-b7be-8f7f0cb6ed0b",
   "metadata": {},
   "outputs": [
    {
     "name": "stdout",
     "output_type": "stream",
     "text": [
      "{\"name\": \"vasu\", \"age\": 13, \"city\": \"banglore\"}\n"
     ]
    }
   ],
   "source": [
    "# a Python object (dict):\n",
    "x={\"name\":\"vasu\",\"age\":13,\"city\":\"banglore\"}\n",
    "# convert into JSON:\n",
    "y=json.dumps(x)\n",
    "# the result is a JSON string:\n",
    "print(y)"
   ]
  },
  {
   "cell_type": "code",
   "execution_count": null,
   "id": "3d9efc88-cb4c-4f05-a1f3-dc76b4fd19ae",
   "metadata": {},
   "outputs": [],
   "source": [
    "You can convert Python objects of the following types, into JSON strings:\n",
    "\n",
    "dict\n",
    "list\n",
    "tuple\n",
    "string\n",
    "int\n",
    "float\n",
    "True\n",
    "False\n",
    "None"
   ]
  },
  {
   "cell_type": "code",
   "execution_count": null,
   "id": "d5153ebf-d366-44c8-b2ff-4c177cedc262",
   "metadata": {},
   "outputs": [],
   "source": []
  },
  {
   "cell_type": "code",
   "execution_count": 381,
   "id": "99f9dd76-b77c-4229-8332-1eca3b4e2b0c",
   "metadata": {},
   "outputs": [
    {
     "name": "stdout",
     "output_type": "stream",
     "text": [
      "\"{\\\"name\\\":\\\"vasu\\\",\\\"age\\\":23}\"\n",
      "[\"apple\", \"bananas\"]\n",
      "[\"apple\", \"bananas\"]\n",
      "\"hello\"\n",
      "42\n",
      "31.76\n",
      "true\n",
      "false\n",
      "null\n"
     ]
    }
   ],
   "source": [
    "import json\n",
    "print(json.dumps('{\"name\":\"vasu\",\"age\":23}'))\n",
    "print(json.dumps([\"apple\", \"bananas\"]))\n",
    "print(json.dumps((\"apple\", \"bananas\")))\n",
    "print(json.dumps(\"hello\"))\n",
    "print(json.dumps(42))\n",
    "print(json.dumps(31.76))\n",
    "print(json.dumps(True))\n",
    "print(json.dumps(False))\n",
    "print(json.dumps(None))"
   ]
  },
  {
   "cell_type": "code",
   "execution_count": 383,
   "id": "e56371b7-b92d-4e3c-b6d6-0da20f1d0b2c",
   "metadata": {},
   "outputs": [
    {
     "name": "stdout",
     "output_type": "stream",
     "text": [
      "{\"name\": \"vasu\", \"age\": 23}\n",
      "[\"apple\", \"bananas\"]\n",
      "[\"apple\", \"bananas\"]\n",
      "\"hello\"\n",
      "42\n",
      "31.76\n",
      "true\n",
      "false\n",
      "null\n"
     ]
    }
   ],
   "source": [
    "print(json.dumps({\"name\":\"vasu\",\"age\":23}))\n",
    "print(json.dumps([\"apple\", \"bananas\"]))\n",
    "print(json.dumps((\"apple\", \"bananas\")))\n",
    "print(json.dumps(\"hello\"))\n",
    "print(json.dumps(42))\n",
    "print(json.dumps(31.76))\n",
    "print(json.dumps(True))\n",
    "print(json.dumps(False))\n",
    "print(json.dumps(None))"
   ]
  },
  {
   "cell_type": "code",
   "execution_count": 385,
   "id": "dec61a12-881d-4bf7-a19d-df71b21a2e17",
   "metadata": {},
   "outputs": [
    {
     "name": "stdout",
     "output_type": "stream",
     "text": [
      "{\"name\": \"john\", \"age\": 23, \"maried\": true, \"Divorced\": false, \"children\": [\"sai\", \"Bhavya\"], \"pets\": null, \"cars\": [{\"model\": \"BMW 230\", \"mpg\": 23.43}, {\"model\": \"Ford Edge\", \"mpg\": 24.1}]}\n"
     ]
    }
   ],
   "source": [
    "x={\"name\":\"john\",\n",
    "   \"age\":23,\n",
    "   \"maried\":True,\n",
    "   \"Divorced\":False,\n",
    "   \"children\":(\"sai\",\"Bhavya\"),\n",
    "   \"pets\":None,\n",
    "   \"cars\":[\n",
    "       {\"model\":\"BMW 230\",\"mpg\":23.43},\n",
    "       {\"model\":\"Ford Edge\",\"mpg\":24.1}\n",
    "   ]\n",
    "  }\n",
    "print(json.dumps(x))"
   ]
  },
  {
   "cell_type": "code",
   "execution_count": null,
   "id": "6ea54889-2539-459a-8ddf-5c1c9bfe181f",
   "metadata": {},
   "outputs": [],
   "source": [
    "Format the Result:\n",
    "The example above prints a JSON string, but it is not very easy to read, with no indentations and line breaks.\n"
   ]
  },
  {
   "cell_type": "code",
   "execution_count": 401,
   "id": "04c95330-e043-4cf9-9622-46145c5f9b41",
   "metadata": {},
   "outputs": [
    {
     "name": "stdout",
     "output_type": "stream",
     "text": [
      "{\n",
      "    \"name\": \"john\",\n",
      "    \"age\": 23,\n",
      "    \"maried\": true,\n",
      "    \"Divorced\": false,\n",
      "    \"children\": [\n",
      "        \"sai\",\n",
      "        \"Bhavya\"\n",
      "    ],\n",
      "    \"pets\": null,\n",
      "    \"cars\": [\n",
      "        {\n",
      "            \"model\": \"BMW 230\",\n",
      "            \"mpg\": 23.43\n",
      "        },\n",
      "        {\n",
      "            \"model\": \"Ford Edge\",\n",
      "            \"mpg\": 24.1\n",
      "        }\n",
      "    ]\n",
      "}\n"
     ]
    }
   ],
   "source": [
    "print(json.dumps(x,indent=4))"
   ]
  },
  {
   "cell_type": "code",
   "execution_count": 397,
   "id": "bdeeadb0-cd87-4ddc-bd1b-283c23e7ae75",
   "metadata": {},
   "outputs": [
    {
     "ename": "TypeError",
     "evalue": "JSONEncoder.__init__() got an unexpected keyword argument 'seperators'",
     "output_type": "error",
     "traceback": [
      "\u001b[1;31m---------------------------------------------------------------------------\u001b[0m",
      "\u001b[1;31mTypeError\u001b[0m                                 Traceback (most recent call last)",
      "Cell \u001b[1;32mIn[397], line 2\u001b[0m\n\u001b[0;32m      1\u001b[0m \u001b[38;5;28;01mimport\u001b[39;00m \u001b[38;5;21;01mjson\u001b[39;00m\n\u001b[1;32m----> 2\u001b[0m \u001b[38;5;28mprint\u001b[39m(json\u001b[38;5;241m.\u001b[39mdumps(x,indent\u001b[38;5;241m=\u001b[39m\u001b[38;5;241m4\u001b[39m,seperators\u001b[38;5;241m=\u001b[39m(\u001b[38;5;124m\"\u001b[39m\u001b[38;5;124m.\u001b[39m\u001b[38;5;124m\"\u001b[39m,\u001b[38;5;124m\"\u001b[39m\u001b[38;5;124m=\u001b[39m\u001b[38;5;124m\"\u001b[39m)))\n",
      "File \u001b[1;32m~\\anaconda3\\Lib\\json\\__init__.py:234\u001b[0m, in \u001b[0;36mdumps\u001b[1;34m(obj, skipkeys, ensure_ascii, check_circular, allow_nan, cls, indent, separators, default, sort_keys, **kw)\u001b[0m\n\u001b[0;32m    232\u001b[0m \u001b[38;5;28;01mif\u001b[39;00m \u001b[38;5;28mcls\u001b[39m \u001b[38;5;129;01mis\u001b[39;00m \u001b[38;5;28;01mNone\u001b[39;00m:\n\u001b[0;32m    233\u001b[0m     \u001b[38;5;28mcls\u001b[39m \u001b[38;5;241m=\u001b[39m JSONEncoder\n\u001b[1;32m--> 234\u001b[0m \u001b[38;5;28;01mreturn\u001b[39;00m \u001b[38;5;28mcls\u001b[39m(\n\u001b[0;32m    235\u001b[0m     skipkeys\u001b[38;5;241m=\u001b[39mskipkeys, ensure_ascii\u001b[38;5;241m=\u001b[39mensure_ascii,\n\u001b[0;32m    236\u001b[0m     check_circular\u001b[38;5;241m=\u001b[39mcheck_circular, allow_nan\u001b[38;5;241m=\u001b[39mallow_nan, indent\u001b[38;5;241m=\u001b[39mindent,\n\u001b[0;32m    237\u001b[0m     separators\u001b[38;5;241m=\u001b[39mseparators, default\u001b[38;5;241m=\u001b[39mdefault, sort_keys\u001b[38;5;241m=\u001b[39msort_keys,\n\u001b[0;32m    238\u001b[0m     \u001b[38;5;241m*\u001b[39m\u001b[38;5;241m*\u001b[39mkw)\u001b[38;5;241m.\u001b[39mencode(obj)\n",
      "\u001b[1;31mTypeError\u001b[0m: JSONEncoder.__init__() got an unexpected keyword argument 'seperators'"
     ]
    }
   ],
   "source": [
    "\n",
    "print(json.dumps(x,indent=4,seperators=(\".\",\"=\")))"
   ]
  },
  {
   "cell_type": "code",
   "execution_count": null,
   "id": "c7e6427b-3486-42ce-b511-24d710f67dd1",
   "metadata": {},
   "outputs": [],
   "source": [
    "Order the result:The json.dumps() method has parameters to order the keys in the result\n",
    ":Use the sort_keys parameter to specify if the result should be sorted or not:"
   ]
  },
  {
   "cell_type": "code",
   "execution_count": 403,
   "id": "e48538b5-f757-4b77-bd8c-e6865cb0a1f6",
   "metadata": {},
   "outputs": [
    {
     "name": "stdout",
     "output_type": "stream",
     "text": [
      "{\n",
      "    \"Divorced\": false,\n",
      "    \"age\": 23,\n",
      "    \"cars\": [\n",
      "        {\n",
      "            \"model\": \"BMW 230\",\n",
      "            \"mpg\": 23.43\n",
      "        },\n",
      "        {\n",
      "            \"model\": \"Ford Edge\",\n",
      "            \"mpg\": 24.1\n",
      "        }\n",
      "    ],\n",
      "    \"children\": [\n",
      "        \"sai\",\n",
      "        \"Bhavya\"\n",
      "    ],\n",
      "    \"maried\": true,\n",
      "    \"name\": \"john\",\n",
      "    \"pets\": null\n",
      "}\n"
     ]
    }
   ],
   "source": [
    "print(json.dumps(x,indent=4,sort_keys=True))"
   ]
  },
  {
   "cell_type": "code",
   "execution_count": null,
   "id": "3c9328ec-e04e-4ff9-957e-41fe61cda38e",
   "metadata": {},
   "outputs": [],
   "source": [
    "                 \"\" regular Expression\"\""
   ]
  },
  {
   "cell_type": "code",
   "execution_count": null,
   "id": "3de32d86-f9da-48da-a4a5-8983852974cf",
   "metadata": {},
   "outputs": [],
   "source": [
    "A RegEx,It is a sequence of characters that forms a search pattern"
   ]
  },
  {
   "cell_type": "code",
   "execution_count": null,
   "id": "ef3bafa9-e1a7-4652-b80b-28544265ca4a",
   "metadata": {},
   "outputs": [],
   "source": [
    "RegEx can be used to chek if a string conatins the specified serach pattern."
   ]
  },
  {
   "cell_type": "code",
   "execution_count": null,
   "id": "22e36639-9403-4c14-a71f-0e06ff6491f7",
   "metadata": {},
   "outputs": [],
   "source": [
    "RegEx Module\n",
    "Python has  a built in package called \"re\",which can be used to work with Regular Expressions\n"
   ]
  },
  {
   "cell_type": "code",
   "execution_count": 405,
   "id": "7799112d-90e0-45ad-bd31-f76a02941dfa",
   "metadata": {},
   "outputs": [],
   "source": [
    "import re"
   ]
  },
  {
   "cell_type": "code",
   "execution_count": 435,
   "id": "4f1403d6-097e-4ae2-8527-c84e349cc942",
   "metadata": {},
   "outputs": [
    {
     "name": "stdout",
     "output_type": "stream",
     "text": [
      "YES! WE have a match\n"
     ]
    }
   ],
   "source": [
    "#Check if the string starts with \"The\" and ends with \"Spain\":\n",
    "txt=\"The rain in Spain\"\n",
    "x=re.search(\"^The.*Spain$\",txt)\n",
    "if x:\n",
    "    print(\"YES! WE have a match\")\n",
    "else:\n",
    "    print(\"NO match\")"
   ]
  },
  {
   "cell_type": "code",
   "execution_count": null,
   "id": "329ab65f-95c9-44ed-9b80-47e64310edb2",
   "metadata": {},
   "outputs": [],
   "source": [
    "Character\tDescription\tExample\tTry it\n",
    "[]\tA set of characters\t\"[a-m]\"\t\n",
    "\\\tSignals a special sequence (can also be used to escape special characters)\t\"\\d\"\t\n",
    ".\tAny character (except newline character)\t\"he..o\"\t\n",
    "^\tStarts with\t\"^hello\"\t\n",
    "$\tEnds with\t\"planet$\"\t\n",
    "*\tZero or more occurrences\t\"he.*o\"\t\n",
    "+\tOne or more occurrences\t\"he.+o\"\t\n",
    "?\tZero or one occurrences\t\"he.?o\"\t\n",
    "{}\tExactly the specified number of occurrences\t\"he.{2}o\"\t\n",
    "|\tEither or\t\"falls|stays\"\t\n",
    "()\tCapture and group\t "
   ]
  },
  {
   "cell_type": "code",
   "execution_count": null,
   "id": "a1a575db-0355-471f-a0bd-8b00a49cca00",
   "metadata": {},
   "outputs": [],
   "source": [
    "THE findall() Function\n",
    "the findall() function returns a list containing all matches"
   ]
  },
  {
   "cell_type": "code",
   "execution_count": 445,
   "id": "c860eb85-3874-483d-a047-8e0c48ab4659",
   "metadata": {},
   "outputs": [
    {
     "name": "stdout",
     "output_type": "stream",
     "text": [
      "[]\n"
     ]
    }
   ],
   "source": [
    "import re\n",
    "txt=\"The rain in Spain\"\n",
    "x=re.findall(\"ai\",txt)\n",
    "print(x)"
   ]
  },
  {
   "cell_type": "code",
   "execution_count": null,
   "id": "12396ac0-f231-4ca9-862d-b9c0dc0f4240",
   "metadata": {},
   "outputs": [],
   "source": [
    "The list contains the matches in the order they are found.\n",
    "\n",
    "If no matches are found, an empty list is returned:"
   ]
  },
  {
   "cell_type": "code",
   "execution_count": 447,
   "id": "eafa12be-2b72-4ead-8290-d34b64be02a8",
   "metadata": {},
   "outputs": [
    {
     "name": "stdout",
     "output_type": "stream",
     "text": [
      "[]\n"
     ]
    }
   ],
   "source": [
    "import re\n",
    "\n",
    "txt = \"The rain in Spain\"\n",
    "x = re.findall(\"Portugal\", txt)\n",
    "print(x)"
   ]
  },
  {
   "cell_type": "code",
   "execution_count": null,
   "id": "eb64bad5-3c22-4c3b-95e8-29b69c401ce2",
   "metadata": {},
   "outputs": [],
   "source": [
    "** search() function:\n",
    "the search() function searches a the string for a match,and return a match object ifthere is a match\n",
    "If there is more than one match, only the first occurrence of the match will be returned:"
   ]
  },
  {
   "cell_type": "code",
   "execution_count": 449,
   "id": "05faf9b6-e276-4382-afaf-91c5764d1d68",
   "metadata": {},
   "outputs": [
    {
     "name": "stdout",
     "output_type": "stream",
     "text": [
      "The first white-space character is located in position: 3\n"
     ]
    },
    {
     "name": "stderr",
     "output_type": "stream",
     "text": [
      "<>:4: SyntaxWarning: invalid escape sequence '\\s'\n",
      "<>:4: SyntaxWarning: invalid escape sequence '\\s'\n",
      "C:\\Users\\gadam\\AppData\\Local\\Temp\\ipykernel_17396\\36967289.py:4: SyntaxWarning: invalid escape sequence '\\s'\n",
      "  x = re.search(\"\\s\", txt)\n"
     ]
    }
   ],
   "source": [
    "import re\n",
    "\n",
    "txt = \"The rain in Spain\"\n",
    "x = re.search(\"\\s\", txt)\n",
    "\n",
    "print(\"The first white-space character is located in position:\", x.start()) \n"
   ]
  },
  {
   "cell_type": "code",
   "execution_count": null,
   "id": "65c634b5-0895-4787-ac53-86bcad3397b5",
   "metadata": {},
   "outputs": [],
   "source": [
    "If no matches are found, the value None is returned:"
   ]
  },
  {
   "cell_type": "code",
   "execution_count": 455,
   "id": "9092969a-1d0b-44d8-82fc-b3a75a43b08d",
   "metadata": {},
   "outputs": [
    {
     "name": "stdout",
     "output_type": "stream",
     "text": [
      "None\n"
     ]
    }
   ],
   "source": [
    "import re\n",
    "\n",
    "txt = \"The rain in Spain\"\n",
    "x = re.search(\"rainsw\", txt)\n",
    "print(x)"
   ]
  },
  {
   "cell_type": "code",
   "execution_count": null,
   "id": "7cb53c46-64d9-4ff8-bc09-6c72b15240bc",
   "metadata": {},
   "outputs": [],
   "source": [
    "**split() function returns a list where the string has been split at each match"
   ]
  },
  {
   "cell_type": "code",
   "execution_count": 461,
   "id": "0ecb54f9-dc4f-41c1-8d31-063b8a2a4e11",
   "metadata": {},
   "outputs": [
    {
     "name": "stdout",
     "output_type": "stream",
     "text": [
      "['The ra', 'n ', 's too Good']\n"
     ]
    }
   ],
   "source": [
    "txt=\"The rain is too Good\"\n",
    "x=re.split(\"i\",txt)\n",
    "print(x)"
   ]
  },
  {
   "cell_type": "code",
   "execution_count": 463,
   "id": "66a364d7-9141-48b4-85f4-10902b51fbd4",
   "metadata": {},
   "outputs": [
    {
     "name": "stdout",
     "output_type": "stream",
     "text": [
      "['The', 'rain', 'is', 'too', 'Good']\n"
     ]
    },
    {
     "name": "stderr",
     "output_type": "stream",
     "text": [
      "<>:2: SyntaxWarning: invalid escape sequence '\\s'\n",
      "<>:2: SyntaxWarning: invalid escape sequence '\\s'\n",
      "C:\\Users\\gadam\\AppData\\Local\\Temp\\ipykernel_17396\\1283826479.py:2: SyntaxWarning: invalid escape sequence '\\s'\n",
      "  x=re.split(\"\\s\",txt)\n"
     ]
    }
   ],
   "source": [
    "txt=\"The rain is too Good\"\n",
    "x=re.split(\"\\s\",txt)\n",
    "print(x)"
   ]
  },
  {
   "cell_type": "code",
   "execution_count": null,
   "id": "d180d019-40ae-4300-8362-554e3b1ab8b2",
   "metadata": {},
   "outputs": [],
   "source": [
    "we can control the number of occurences by pecifiying the \"maxslpit\" parametr"
   ]
  },
  {
   "cell_type": "code",
   "execution_count": 467,
   "id": "1b93dfc2-7365-440b-9514-2379a2c7b23c",
   "metadata": {},
   "outputs": [
    {
     "name": "stdout",
     "output_type": "stream",
     "text": [
      "['The', 'rain', 'is too Good']\n"
     ]
    },
    {
     "name": "stderr",
     "output_type": "stream",
     "text": [
      "<>:2: SyntaxWarning: invalid escape sequence '\\s'\n",
      "<>:2: SyntaxWarning: invalid escape sequence '\\s'\n",
      "C:\\Users\\gadam\\AppData\\Local\\Temp\\ipykernel_17396\\3879999861.py:2: SyntaxWarning: invalid escape sequence '\\s'\n",
      "  x=re.split(\"\\s\",txt,2)\n"
     ]
    }
   ],
   "source": [
    "txt=\"The rain is too Good\"\n",
    "x=re.split(\"\\s\",txt,2)\n",
    "print(x)"
   ]
  },
  {
   "cell_type": "code",
   "execution_count": null,
   "id": "9f0d9edf-652c-4289-b56f-2d72f6eb1bab",
   "metadata": {},
   "outputs": [],
   "source": [
    "*sub() function replaces the matches with the text of your chioces"
   ]
  },
  {
   "cell_type": "code",
   "execution_count": 469,
   "id": "98ac09a2-5a5f-447b-b014-ee077f36e689",
   "metadata": {},
   "outputs": [
    {
     "name": "stdout",
     "output_type": "stream",
     "text": [
      "I23am23srinivasulu\n"
     ]
    },
    {
     "name": "stderr",
     "output_type": "stream",
     "text": [
      "<>:2: SyntaxWarning: invalid escape sequence '\\s'\n",
      "<>:2: SyntaxWarning: invalid escape sequence '\\s'\n",
      "C:\\Users\\gadam\\AppData\\Local\\Temp\\ipykernel_17396\\1731102696.py:2: SyntaxWarning: invalid escape sequence '\\s'\n",
      "  x=re.sub(\"\\s\",\"23\",txt)\n"
     ]
    }
   ],
   "source": [
    "txt=\"I am srinivasulu\"\n",
    "x=re.sub(\"\\s\",\"23\",txt)\n",
    "print(x)"
   ]
  },
  {
   "cell_type": "code",
   "execution_count": 471,
   "id": "a3084dee-1dbc-4a0d-88e3-2445a9c0db7e",
   "metadata": {},
   "outputs": [
    {
     "name": "stdout",
     "output_type": "stream",
     "text": [
      "The9rain9in Spain\n"
     ]
    },
    {
     "name": "stderr",
     "output_type": "stream",
     "text": [
      "<>:6: SyntaxWarning: invalid escape sequence '\\s'\n",
      "<>:6: SyntaxWarning: invalid escape sequence '\\s'\n",
      "C:\\Users\\gadam\\AppData\\Local\\Temp\\ipykernel_17396\\1431646933.py:6: SyntaxWarning: invalid escape sequence '\\s'\n",
      "  x = re.sub(\"\\s\", \"9\", txt, 2)\n"
     ]
    }
   ],
   "source": [
    "# Replace the first 2 occurrences:\n",
    "\n",
    "import re\n",
    "\n",
    "txt = \"The rain in Spain\"\n",
    "x = re.sub(\"\\s\", \"9\", txt, 2)\n",
    "print(x)"
   ]
  },
  {
   "cell_type": "code",
   "execution_count": null,
   "id": "5691e720-72d4-49a7-854e-584844bcab8f",
   "metadata": {},
   "outputs": [],
   "source": [
    "Match Object:\n",
    "A match Object is an Object conataining information about the search and the result"
   ]
  },
  {
   "cell_type": "code",
   "execution_count": 473,
   "id": "1f7d321f-c914-4d97-a7f0-c2aed404fc06",
   "metadata": {},
   "outputs": [
    {
     "name": "stdout",
     "output_type": "stream",
     "text": [
      "<re.Match object; span=(5, 7), match='ai'>\n"
     ]
    }
   ],
   "source": [
    "import re\n",
    "\n",
    "txt = \"The rain in Spain\"\n",
    "x = re.search(\"ai\", txt)\n",
    "print(x) #this will print an object"
   ]
  },
  {
   "cell_type": "code",
   "execution_count": null,
   "id": "2737377c-b57d-47cc-8e60-c90f7dceed9d",
   "metadata": {},
   "outputs": [],
   "source": [
    ".span() returns a tuple containing the start-, and end positions of the match.\n",
    ".string returns the string passed into the function\n",
    ".group() returns the part of the string where there was a match"
   ]
  },
  {
   "cell_type": "code",
   "execution_count": null,
   "id": "13132ecc-7fb9-4121-8c3b-74305cab6980",
   "metadata": {},
   "outputs": [],
   "source": [
    "#span()"
   ]
  },
  {
   "cell_type": "code",
   "execution_count": 481,
   "id": "9d3f223e-794c-4d3b-b568-5d2a7ab38a85",
   "metadata": {},
   "outputs": [
    {
     "name": "stdout",
     "output_type": "stream",
     "text": [
      "(5, 7)\n"
     ]
    }
   ],
   "source": [
    "txt=\"I am student\"\n",
    "x=re.search(\"st\",txt)\n",
    "print(x.span())"
   ]
  },
  {
   "cell_type": "code",
   "execution_count": 487,
   "id": "64058301-1d92-4f48-af07-2354fc57f2ce",
   "metadata": {},
   "outputs": [
    {
     "name": "stdout",
     "output_type": "stream",
     "text": [
      "The rain in Spain\n"
     ]
    }
   ],
   "source": [
    "import re\n",
    "\n",
    "txt = \"The rain in Spain\"\n",
    "x = re.search(\"i\", txt)\n",
    "print(x.string)"
   ]
  },
  {
   "cell_type": "code",
   "execution_count": 493,
   "id": "3d8e2915-2806-4ffa-914e-65dbe5bf38f5",
   "metadata": {},
   "outputs": [
    {
     "name": "stdout",
     "output_type": "stream",
     "text": [
      "in\n"
     ]
    }
   ],
   "source": [
    "\n",
    "txt = \"The rain in Spain\"\n",
    "x = re.search(r\"\\bi\\w+\", txt)\n",
    "print(x.group())"
   ]
  },
  {
   "cell_type": "code",
   "execution_count": null,
   "id": "e7b08ef0-e8b3-44b9-b4bd-81336e5a1c71",
   "metadata": {},
   "outputs": [],
   "source": []
  },
  {
   "cell_type": "code",
   "execution_count": null,
   "id": "5974e5d9-33cc-41b9-8c62-8ec7dddee55e",
   "metadata": {},
   "outputs": [],
   "source": [
    "          \"\"\"\" Python PIP\"\"\"\""
   ]
  },
  {
   "cell_type": "code",
   "execution_count": null,
   "id": "c6f72a8d-daea-4467-a739-e15a7c404a2c",
   "metadata": {},
   "outputs": [],
   "source": [
    "what is pip?\n",
    "pip is a package manager for python packages , or modules if you like\n"
   ]
  },
  {
   "cell_type": "code",
   "execution_count": null,
   "id": "b89251c2-0cfd-43ab-b72d-0e1ac05a9a80",
   "metadata": {},
   "outputs": [],
   "source": [
    "What is a Package?\n",
    "A package contains all the files you need for a module.\n",
    "\n",
    "Modules are Python code libraries you can include in your project."
   ]
  },
  {
   "cell_type": "code",
   "execution_count": null,
   "id": "0d4dab59-0d77-4e9f-950c-15dfdbb73dda",
   "metadata": {},
   "outputs": [],
   "source": [
    "Check if PIP is Installed\n",
    "Navigate your command line to the location of Python's script directory, and type the following:\n",
    "\n",
    "ExampleGet your own Python Server\n",
    "Check PIP version:\n",
    "\n",
    "C:\\Users\\Your Name\\AppData\\Local\\Programs\\Python\\Python36-32\\Scripts>pip --version"
   ]
  },
  {
   "cell_type": "code",
   "execution_count": null,
   "id": "7f33e0ca-858d-4f7d-a3af-cf1367c1ccdc",
   "metadata": {},
   "outputs": [],
   "source": [
    "Install PIP\n",
    "If you do not have PIP installed, you can download and install it from this page:\n",
    "https://pypi.org/project/pip/\n",
    "\n"
   ]
  },
  {
   "cell_type": "code",
   "execution_count": null,
   "id": "12b434fc-82ec-4112-8d3c-ded70cf115e4",
   "metadata": {},
   "outputs": [],
   "source": [
    "Download a Package\n",
    "Downloading a package is very easy.\n",
    "\n",
    "Open the command line interface and tell PIP to download the package you want.\n",
    "\n",
    "Navigate your command line to the location of Python's script directory, and type the following:\n",
    "\n",
    "Example\n",
    "Download a package named \"camelcase\":\n",
    "\n",
    "C:\\Users\\Your Name\\AppData\\Local\\Programs\\Python\\Python36-32\\Scripts>pip install camelcase"
   ]
  },
  {
   "cell_type": "code",
   "execution_count": 495,
   "id": "7370c5b1-ded7-4e47-840b-abbc5476d6f4",
   "metadata": {},
   "outputs": [
    {
     "name": "stdout",
     "output_type": "stream",
     "text": [
      "Collecting camelcase\n",
      "  Using cached camelcase-0.2-py3-none-any.whl\n",
      "Installing collected packages: camelcase\n",
      "Successfully installed camelcase-0.2\n",
      "Note: you may need to restart the kernel to use updated packages.\n"
     ]
    }
   ],
   "source": [
    "pip install camelcase"
   ]
  },
  {
   "cell_type": "code",
   "execution_count": 499,
   "id": "a0c85c49-4c57-4f98-927d-e23cbf9897c9",
   "metadata": {},
   "outputs": [
    {
     "name": "stdout",
     "output_type": "stream",
     "text": [
      "I Am Srinivasu Datascinece\n"
     ]
    }
   ],
   "source": [
    "import camelcase\n",
    "c=camelcase.CamelCase()\n",
    "txt=\"i am srinivasu datascinece\"\n",
    "print(c.hump(txt))\n",
    "#This method capitalizes the first letter of each word."
   ]
  },
  {
   "cell_type": "code",
   "execution_count": null,
   "id": "24e4f8ae-278b-4ef1-a812-e451b257c1e0",
   "metadata": {},
   "outputs": [],
   "source": [
    "Remove a Package;\n",
    "use the uninstall command to remove a packege"
   ]
  },
  {
   "cell_type": "code",
   "execution_count": null,
   "id": "13174b6c-17a3-48d2-9266-e3d57306fef0",
   "metadata": {},
   "outputs": [
    {
     "name": "stdout",
     "output_type": "stream",
     "text": [
      "^C\n",
      "Note: you may need to restart the kernel to use updated packages.\n"
     ]
    }
   ],
   "source": [
    "pip uninstall camelcase"
   ]
  },
  {
   "cell_type": "code",
   "execution_count": 505,
   "id": "c69bdeac-696b-4be2-a5fe-e08ecfc1c279",
   "metadata": {},
   "outputs": [
    {
     "name": "stdout",
     "output_type": "stream",
     "text": [
      "I Am Srinivasu Datascinece\n"
     ]
    }
   ],
   "source": [
    "import camelcase\n",
    "c=camelcase.CamelCase()\n",
    "txt=\"i am srinivasu datascinece\"\n",
    "print(c.hump(txt))"
   ]
  },
  {
   "cell_type": "code",
   "execution_count": null,
   "id": "8b8bebb9-7b26-4844-ace0-4d1c915505b9",
   "metadata": {},
   "outputs": [],
   "source": [
    "pip list packages"
   ]
  },
  {
   "cell_type": "code",
   "execution_count": 507,
   "id": "e34afafd-f61a-45d4-94e2-ccf71ca59701",
   "metadata": {},
   "outputs": [
    {
     "name": "stdout",
     "output_type": "stream",
     "text": [
      "Package                           Version\n",
      "--------------------------------- ------------------\n",
      "aext-assistant                    4.0.15\n",
      "aext-assistant-server             4.0.15\n",
      "aext-core                         4.0.15\n",
      "aext-core-server                  4.0.15\n",
      "aext-panels                       4.0.15\n",
      "aext-panels-server                4.0.15\n",
      "aext-share-notebook               4.0.15\n",
      "aext-share-notebook-server        4.0.15\n",
      "aext-shared                       4.0.15\n",
      "aiobotocore                       2.12.3\n",
      "aiohttp                           3.9.5\n",
      "aioitertools                      0.7.1\n",
      "aiosignal                         1.2.0\n",
      "alabaster                         0.7.16\n",
      "altair                            5.0.1\n",
      "anaconda-anon-usage               0.4.4\n",
      "anaconda-catalogs                 0.2.0\n",
      "anaconda-client                   1.12.3\n",
      "anaconda-cloud-auth               0.5.1\n",
      "anaconda-navigator                2.6.0\n",
      "anaconda-project                  0.11.1\n",
      "annotated-types                   0.6.0\n",
      "anyio                             4.2.0\n",
      "appdirs                           1.4.4\n",
      "archspec                          0.2.3\n",
      "argon2-cffi                       21.3.0\n",
      "argon2-cffi-bindings              21.2.0\n",
      "arrow                             1.2.3\n",
      "astroid                           2.14.2\n",
      "astropy                           6.1.0\n",
      "astropy-iers-data                 0.2024.6.3.0.31.14\n",
      "asttokens                         2.0.5\n",
      "async-lru                         2.0.4\n",
      "atomicwrites                      1.4.0\n",
      "attrs                             23.1.0\n",
      "Automat                           20.2.0\n",
      "autopep8                          2.0.4\n",
      "Babel                             2.11.0\n",
      "bcrypt                            3.2.0\n",
      "beautifulsoup4                    4.12.3\n",
      "binaryornot                       0.4.4\n",
      "black                             24.4.2\n",
      "bleach                            4.1.0\n",
      "blinker                           1.6.2\n",
      "bokeh                             3.4.1\n",
      "boltons                           23.0.0\n",
      "botocore                          1.34.69\n",
      "Bottleneck                        1.3.7\n",
      "Brotli                            1.0.9\n",
      "cachetools                        5.3.3\n",
      "camelcase                         0.2\n",
      "certifi                           2024.6.2\n",
      "cffi                              1.16.0\n",
      "chardet                           4.0.0\n",
      "charset-normalizer                2.0.4\n",
      "click                             8.1.7\n",
      "cloudpickle                       2.2.1\n",
      "colorama                          0.4.6\n",
      "colorcet                          3.1.0\n",
      "comm                              0.2.1\n",
      "conda                             24.5.0\n",
      "conda-build                       24.5.1\n",
      "conda-content-trust               0.2.0\n",
      "conda_index                       0.5.0\n",
      "conda-libmamba-solver             24.1.0\n",
      "conda-pack                        0.7.1\n",
      "conda-package-handling            2.3.0\n",
      "conda_package_streaming           0.10.0\n",
      "conda-repo-cli                    1.0.88\n",
      "conda-token                       0.5.0+1.g2209e04\n",
      "constantly                        23.10.4\n",
      "contourpy                         1.2.0\n",
      "cookiecutter                      2.6.0\n",
      "cryptography                      42.0.5\n",
      "cssselect                         1.2.0\n",
      "cycler                            0.11.0\n",
      "cytoolz                           0.12.2\n",
      "dask                              2024.5.0\n",
      "dask-expr                         1.1.0\n",
      "datashader                        0.16.2\n",
      "debugpy                           1.6.7\n",
      "decorator                         5.1.1\n",
      "defusedxml                        0.7.1\n",
      "diff-match-patch                  20200713\n",
      "dill                              0.3.8\n",
      "distributed                       2024.5.0\n",
      "distro                            1.9.0\n",
      "docstring-to-markdown             0.11\n",
      "docutils                          0.18.1\n",
      "entrypoints                       0.4\n",
      "et-xmlfile                        1.1.0\n",
      "executing                         0.8.3\n",
      "fastjsonschema                    2.16.2\n",
      "filelock                          3.13.1\n",
      "flake8                            7.0.0\n",
      "Flask                             3.0.3\n",
      "fonttools                         4.51.0\n",
      "frozendict                        2.4.2\n",
      "frozenlist                        1.4.0\n",
      "fsspec                            2024.3.1\n",
      "gensim                            4.3.2\n",
      "gitdb                             4.0.7\n",
      "GitPython                         3.1.37\n",
      "greenlet                          3.0.1\n",
      "h11                               0.14.0\n",
      "h5py                              3.11.0\n",
      "HeapDict                          1.0.1\n",
      "holoviews                         1.19.0\n",
      "httpcore                          1.0.2\n",
      "httpx                             0.26.0\n",
      "hvplot                            0.10.0\n",
      "hyperlink                         21.0.0\n",
      "idna                              3.7\n",
      "imagecodecs                       2023.1.23\n",
      "imageio                           2.33.1\n",
      "imagesize                         1.4.1\n",
      "imbalanced-learn                  0.12.3\n",
      "importlib-metadata                7.0.1\n",
      "incremental                       22.10.0\n",
      "inflection                        0.5.1\n",
      "iniconfig                         1.1.1\n",
      "intake                            0.7.0\n",
      "intervaltree                      3.1.0\n",
      "ipykernel                         6.28.0\n",
      "ipython                           8.25.0\n",
      "ipython-genutils                  0.2.0\n",
      "ipywidgets                        7.8.1\n",
      "isort                             5.13.2\n",
      "itemadapter                       0.3.0\n",
      "itemloaders                       1.1.0\n",
      "itsdangerous                      2.2.0\n",
      "jaraco.classes                    3.2.1\n",
      "jedi                              0.18.1\n",
      "jellyfish                         1.0.1\n",
      "Jinja2                            3.1.4\n",
      "jmespath                          1.0.1\n",
      "joblib                            1.4.2\n",
      "json5                             0.9.6\n",
      "jsonpatch                         1.33\n",
      "jsonpointer                       2.1\n",
      "jsonschema                        4.19.2\n",
      "jsonschema-specifications         2023.7.1\n",
      "jupyter                           1.0.0\n",
      "jupyter_client                    8.6.0\n",
      "jupyter-console                   6.6.3\n",
      "jupyter_core                      5.7.2\n",
      "jupyter-events                    0.10.0\n",
      "jupyter-lsp                       2.2.0\n",
      "jupyter_server                    2.14.1\n",
      "jupyter_server_terminals          0.4.4\n",
      "jupyterlab                        4.0.11\n",
      "jupyterlab-pygments               0.1.2\n",
      "jupyterlab_server                 2.25.1\n",
      "jupyterlab-widgets                1.0.0\n",
      "keyring                           24.3.1\n",
      "kiwisolver                        1.4.4\n",
      "lazy_loader                       0.4\n",
      "lazy-object-proxy                 1.10.0\n",
      "lckr_jupyterlab_variableinspector 3.1.0\n",
      "libarchive-c                      2.9\n",
      "libmambapy                        1.5.8\n",
      "linkify-it-py                     2.0.0\n",
      "llvmlite                          0.42.0\n",
      "lmdb                              1.4.1\n",
      "locket                            1.0.0\n",
      "lxml                              5.2.1\n",
      "lz4                               4.3.2\n",
      "Markdown                          3.4.1\n",
      "markdown-it-py                    2.2.0\n",
      "MarkupSafe                        2.1.3\n",
      "matplotlib                        3.8.4\n",
      "matplotlib-inline                 0.1.6\n",
      "mccabe                            0.7.0\n",
      "mdit-py-plugins                   0.3.0\n",
      "mdurl                             0.1.0\n",
      "menuinst                          2.1.1\n",
      "mistune                           2.0.4\n",
      "mkl-fft                           1.3.8\n",
      "mkl-random                        1.2.4\n",
      "mkl-service                       2.4.0\n",
      "more-itertools                    10.1.0\n",
      "mpmath                            1.3.0\n",
      "msgpack                           1.0.3\n",
      "multidict                         6.0.4\n",
      "multipledispatch                  0.6.0\n",
      "mypy                              1.10.0\n",
      "mypy-extensions                   1.0.0\n",
      "navigator-updater                 0.5.1\n",
      "nbclient                          0.8.0\n",
      "nbconvert                         7.10.0\n",
      "nbformat                          5.9.2\n",
      "nest-asyncio                      1.6.0\n",
      "networkx                          3.2.1\n",
      "nltk                              3.8.1\n",
      "notebook                          7.0.8\n",
      "notebook_shim                     0.2.3\n",
      "numba                             0.59.1\n",
      "numexpr                           2.8.7\n",
      "numpy                             1.26.4\n",
      "numpydoc                          1.7.0\n",
      "openpyxl                          3.1.2\n",
      "overrides                         7.4.0\n",
      "packaging                         23.2\n",
      "pandas                            2.2.2\n",
      "pandocfilters                     1.5.0\n",
      "panel                             1.4.4\n",
      "param                             2.1.0\n",
      "paramiko                          2.8.1\n",
      "parsel                            1.8.1\n",
      "parso                             0.8.3\n",
      "partd                             1.4.1\n",
      "pathspec                          0.10.3\n",
      "patsy                             0.5.6\n",
      "pexpect                           4.8.0\n",
      "pickleshare                       0.7.5\n",
      "pillow                            10.3.0\n",
      "pip                               24.0\n",
      "pkce                              1.0.3\n",
      "pkginfo                           1.10.0\n",
      "platformdirs                      3.10.0\n",
      "plotly                            5.22.0\n",
      "pluggy                            1.0.0\n",
      "ply                               3.11\n",
      "prometheus-client                 0.14.1\n",
      "prompt-toolkit                    3.0.43\n",
      "Protego                           0.1.16\n",
      "protobuf                          3.20.3\n",
      "psutil                            5.9.0\n",
      "ptyprocess                        0.7.0\n",
      "pure-eval                         0.2.2\n",
      "py-cpuinfo                        9.0.0\n",
      "pyarrow                           14.0.2\n",
      "pyasn1                            0.4.8\n",
      "pyasn1-modules                    0.2.8\n",
      "pycodestyle                       2.11.1\n",
      "pycosat                           0.6.6\n",
      "pycparser                         2.21\n",
      "pyct                              0.5.0\n",
      "pycurl                            7.45.2\n",
      "pydantic                          2.5.3\n",
      "pydantic_core                     2.14.6\n",
      "pydeck                            0.8.0\n",
      "PyDispatcher                      2.0.5\n",
      "pydocstyle                        6.3.0\n",
      "pyerfa                            2.0.1.4\n",
      "pyflakes                          3.2.0\n",
      "Pygments                          2.15.1\n",
      "PyJWT                             2.8.0\n",
      "pylint                            2.16.2\n",
      "pylint-venv                       3.0.3\n",
      "pyls-spyder                       0.4.0\n",
      "PyNaCl                            1.5.0\n",
      "pyodbc                            5.0.1\n",
      "pyOpenSSL                         24.0.0\n",
      "pyparsing                         3.0.9\n",
      "PyQt5                             5.15.10\n",
      "PyQt5-sip                         12.13.0\n",
      "PyQtWebEngine                     5.15.6\n",
      "PySocks                           1.7.1\n",
      "pytest                            7.4.4\n",
      "python-dateutil                   2.9.0.post0\n",
      "python-dotenv                     0.21.0\n",
      "python-json-logger                2.0.7\n",
      "python-lsp-black                  2.0.0\n",
      "python-lsp-jsonrpc                1.1.2\n",
      "python-lsp-server                 1.10.0\n",
      "python-slugify                    5.0.2\n",
      "python-snappy                     0.6.1\n",
      "pytoolconfig                      1.2.6\n",
      "pytz                              2024.1\n",
      "pyviz_comms                       3.0.2\n",
      "pywavelets                        1.5.0\n",
      "pywin32                           305.1\n",
      "pywin32-ctypes                    0.2.2\n",
      "pywinpty                          2.0.10\n",
      "PyYAML                            6.0.1\n",
      "pyzmq                             25.1.2\n",
      "QDarkStyle                        3.2.3\n",
      "qstylizer                         0.2.2\n",
      "QtAwesome                         1.2.2\n",
      "qtconsole                         5.5.1\n",
      "QtPy                              2.4.1\n",
      "queuelib                          1.6.2\n",
      "referencing                       0.30.2\n",
      "regex                             2023.10.3\n",
      "requests                          2.32.2\n",
      "requests-file                     1.5.1\n",
      "requests-toolbelt                 1.0.0\n",
      "rfc3339-validator                 0.1.4\n",
      "rfc3986-validator                 0.1.1\n",
      "rich                              13.3.5\n",
      "rope                              1.12.0\n",
      "rpds-py                           0.10.6\n",
      "Rtree                             1.0.1\n",
      "ruamel.yaml                       0.17.21\n",
      "ruamel-yaml-conda                 0.17.21\n",
      "s3fs                              2024.3.1\n",
      "scikit-image                      0.23.2\n",
      "scikit-learn                      1.4.2\n",
      "scipy                             1.13.1\n",
      "Scrapy                            2.11.1\n",
      "seaborn                           0.13.2\n",
      "semver                            3.0.2\n",
      "Send2Trash                        1.8.2\n",
      "service-identity                  18.1.0\n",
      "setuptools                        69.5.1\n",
      "sip                               6.7.12\n",
      "six                               1.16.0\n",
      "smart-open                        5.2.1\n",
      "smmap                             4.0.0\n",
      "sniffio                           1.3.0\n",
      "snowballstemmer                   2.2.0\n",
      "sortedcontainers                  2.4.0\n",
      "soupsieve                         2.5\n",
      "Sphinx                            7.3.7\n",
      "sphinxcontrib-applehelp           1.0.2\n",
      "sphinxcontrib-devhelp             1.0.2\n",
      "sphinxcontrib-htmlhelp            2.0.0\n",
      "sphinxcontrib-jsmath              1.0.1\n",
      "sphinxcontrib-qthelp              1.0.3\n",
      "sphinxcontrib-serializinghtml     1.1.10\n",
      "spyder                            5.5.1\n",
      "spyder-kernels                    2.5.0\n",
      "SQLAlchemy                        2.0.30\n",
      "stack-data                        0.2.0\n",
      "statsmodels                       0.14.2\n",
      "streamlit                         1.32.0\n",
      "sympy                             1.12\n",
      "tables                            3.9.2\n",
      "tabulate                          0.9.0\n",
      "tblib                             1.7.0\n",
      "tenacity                          8.2.2\n",
      "terminado                         0.17.1\n",
      "text-unidecode                    1.3\n",
      "textdistance                      4.2.1\n",
      "threadpoolctl                     2.2.0\n",
      "three-merge                       0.1.1\n",
      "tifffile                          2023.4.12\n",
      "tinycss2                          1.2.1\n",
      "tldextract                        3.2.0\n",
      "toml                              0.10.2\n",
      "tomli                             2.0.1\n",
      "tomlkit                           0.11.1\n",
      "toolz                             0.12.0\n",
      "tornado                           6.4.1\n",
      "tqdm                              4.66.4\n",
      "traitlets                         5.14.3\n",
      "truststore                        0.8.0\n",
      "Twisted                           23.10.0\n",
      "twisted-iocpsupport               1.0.2\n",
      "typing_extensions                 4.11.0\n",
      "tzdata                            2023.3\n",
      "uc-micro-py                       1.0.1\n",
      "ujson                             5.10.0\n",
      "unicodedata2                      15.1.0\n",
      "Unidecode                         1.2.0\n",
      "urllib3                           2.2.2\n",
      "w3lib                             2.1.2\n",
      "watchdog                          4.0.1\n",
      "wcwidth                           0.2.5\n",
      "webencodings                      0.5.1\n",
      "websocket-client                  1.8.0\n",
      "Werkzeug                          3.0.3\n",
      "whatthepatch                      1.0.2\n",
      "wheel                             0.43.0\n",
      "widgetsnbextension                3.6.6\n",
      "win-inet-pton                     1.1.0\n",
      "wrapt                             1.14.1\n",
      "xarray                            2023.6.0\n",
      "xlwings                           0.31.4\n",
      "xyzservices                       2022.9.0\n",
      "yapf                              0.40.2\n",
      "yarl                              1.9.3\n",
      "zict                              3.0.0\n",
      "zipp                              3.17.0\n",
      "zope.interface                    5.4.0\n",
      "zstandard                         0.22.0\n",
      "Note: you may need to restart the kernel to use updated packages.\n"
     ]
    }
   ],
   "source": [
    "pip list"
   ]
  },
  {
   "cell_type": "code",
   "execution_count": null,
   "id": "32349fb1-2c2c-4360-bc6b-bde649102687",
   "metadata": {},
   "outputs": [],
   "source": []
  }
 ],
 "metadata": {
  "kernelspec": {
   "display_name": "Python 3 (ipykernel)",
   "language": "python",
   "name": "python3"
  },
  "language_info": {
   "codemirror_mode": {
    "name": "ipython",
    "version": 3
   },
   "file_extension": ".py",
   "mimetype": "text/x-python",
   "name": "python",
   "nbconvert_exporter": "python",
   "pygments_lexer": "ipython3",
   "version": "3.12.4"
  }
 },
 "nbformat": 4,
 "nbformat_minor": 5
}
