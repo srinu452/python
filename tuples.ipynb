{
 "cells": [
  {
   "cell_type": "code",
   "execution_count": null,
   "id": "dd0cfdd1-f0af-4c38-bef8-4822073c977b",
   "metadata": {},
   "outputs": [],
   "source": [
    "            '''TUples'''"
   ]
  },
  {
   "cell_type": "code",
   "execution_count": null,
   "id": "748bf27e-185b-426b-9f3d-10e94bfeeeac",
   "metadata": {},
   "outputs": [],
   "source": [
    "mytuple=(\"srinu\",\"banana\",\"cherry\")"
   ]
  },
  {
   "cell_type": "code",
   "execution_count": null,
   "id": "29ed7a00-26e5-456f-aa88-91719fdddb64",
   "metadata": {},
   "outputs": [],
   "source": [
    "Tuples are used to store multiple items in a single variable\n",
    "A tuple is a collection which is ordered and unchangeble\n",
    "tuples are written with round beackets "
   ]
  },
  {
   "cell_type": "code",
   "execution_count": 1,
   "id": "0be8cd8c-2c59-446b-bac6-8e3f087f9662",
   "metadata": {},
   "outputs": [
    {
     "name": "stdout",
     "output_type": "stream",
     "text": [
      "('srinu', 'banana', 'cherry')\n"
     ]
    }
   ],
   "source": [
    "thistuple=(\"srinu\",\"banana\",\"cherry\")\n",
    "print(thistuple)"
   ]
  },
  {
   "cell_type": "code",
   "execution_count": null,
   "id": "8825a32e-aa77-4c02-9ac6-f2389bdc78e0",
   "metadata": {},
   "outputs": [],
   "source": [
    "1.Tuple Items \n",
    "tuples items are ordered unchangeble and allow duplicates values\n",
    "tuple items are indexed ,the first item has value start with[0].."
   ]
  },
  {
   "cell_type": "code",
   "execution_count": null,
   "id": "2688c9f5-1c90-4435-ae70-38a47c17d34c",
   "metadata": {},
   "outputs": [],
   "source": [
    "Ordered:\n",
    "When we say that tuples are ordered, it means that the items have a defined order, and that order will not change."
   ]
  },
  {
   "cell_type": "code",
   "execution_count": null,
   "id": "1f5c112c-9ae5-4d6d-a9ec-16eeb3860d2a",
   "metadata": {},
   "outputs": [],
   "source": [
    "Unchangeable:\n",
    "Tuples are unchangeble ,that means we can not change,add,remove the items once they been created"
   ]
  },
  {
   "cell_type": "code",
   "execution_count": null,
   "id": "41204561-ca42-4725-8263-1349fa8e0500",
   "metadata": {},
   "outputs": [],
   "source": [
    "Allow Duplicates:\n",
    "Since tuples are indexed, they can have items with the same value:"
   ]
  },
  {
   "cell_type": "code",
   "execution_count": 3,
   "id": "4cdecab3-153f-41d3-bc91-0b5ecca5c348",
   "metadata": {},
   "outputs": [
    {
     "name": "stdout",
     "output_type": "stream",
     "text": [
      "('apple', 'banana', 'cherry', 'apple', 'cherry')\n"
     ]
    }
   ],
   "source": [
    "thistuple = (\"apple\", \"banana\", \"cherry\", \"apple\", \"cherry\")\n",
    "print(thistuple)"
   ]
  },
  {
   "cell_type": "code",
   "execution_count": null,
   "id": "ee62e97f-4a9f-4a93-bf7d-9d06b007c32a",
   "metadata": {},
   "outputs": [],
   "source": [
    "2.Tuple length\n",
    "To determine how many items a tuple has use the len() function"
   ]
  },
  {
   "cell_type": "code",
   "execution_count": 5,
   "id": "318bb6e5-5f4b-421e-8891-c1588ce22834",
   "metadata": {},
   "outputs": [
    {
     "name": "stdout",
     "output_type": "stream",
     "text": [
      "5\n"
     ]
    }
   ],
   "source": [
    "thistuple = (\"apple\", \"banana\", \"cherry\", \"apple\", \"cherry\")\n",
    "print(len(thistuple))"
   ]
  },
  {
   "cell_type": "code",
   "execution_count": null,
   "id": "829dabcd-7bab-42cf-af3c-ce4bb7370e78",
   "metadata": {},
   "outputs": [],
   "source": [
    "'''Create Tuple With One Item'''\n",
    "To create one item tuple ,you have add a comma after one item otherwise python will not recognise it as a tuple."
   ]
  },
  {
   "cell_type": "code",
   "execution_count": 21,
   "id": "405cbf18-0da8-4e7b-ab8e-21f73e5c50cf",
   "metadata": {},
   "outputs": [
    {
     "name": "stdout",
     "output_type": "stream",
     "text": [
      "('apple',)\n",
      "apple\n"
     ]
    }
   ],
   "source": [
    "t1 = (\"apple\",)#tuple\n",
    "print(t1)\n",
    "\n",
    "# not tuple\n",
    "t1 = (\"apple\")\n",
    "print(t1)"
   ]
  },
  {
   "cell_type": "code",
   "execution_count": null,
   "id": "dc416996-261b-4e19-9b67-605578f7df1f",
   "metadata": {},
   "outputs": [],
   "source": [
    "3.Tuple Items - Data Types\n",
    "\n",
    "tuple can be any type of data"
   ]
  },
  {
   "cell_type": "code",
   "execution_count": 25,
   "id": "961c88de-0f1d-44d6-b569-84bb2e84968d",
   "metadata": {},
   "outputs": [
    {
     "name": "stdout",
     "output_type": "stream",
     "text": [
      "('apple', 'banana', 'cherry') (1, 5, 7, 9, 3) (True, False, False)\n"
     ]
    }
   ],
   "source": [
    "t1 = (\"apple\", \"banana\", \"cherry\")\n",
    "t2 = (1, 5, 7, 9, 3)\n",
    "t3 = (True, False, False)\n",
    "print(t1,t2,t3)"
   ]
  },
  {
   "cell_type": "code",
   "execution_count": null,
   "id": "236c11fe-6080-4227-a971-fafdccd76bda",
   "metadata": {},
   "outputs": [],
   "source": [
    "A tuple can contain different data types:"
   ]
  },
  {
   "cell_type": "code",
   "execution_count": 35,
   "id": "e839e15e-cd30-4f8a-b3db-ac5da9e4aad1",
   "metadata": {},
   "outputs": [
    {
     "name": "stdout",
     "output_type": "stream",
     "text": [
      "('string', 1, (12+4j), True, ['srinu'], {'set'}, {'dict': 12})\n"
     ]
    }
   ],
   "source": [
    "t1=(\"string\",1,12+4j,True,[\"srinu\"],{\"set\"},{\"dict\":12})\n",
    "print(t1)"
   ]
  },
  {
   "cell_type": "code",
   "execution_count": null,
   "id": "79062461-44ff-487a-a9ed-c87d3b144bfb",
   "metadata": {},
   "outputs": [],
   "source": [
    "4.type()\n",
    "From Python's perspective, tuples are defined as objects with the data type 'tuple':\n",
    "<class 'tuple'>"
   ]
  },
  {
   "cell_type": "code",
   "execution_count": 37,
   "id": "cee88a12-1ebe-466d-8447-b4ef848313ae",
   "metadata": {},
   "outputs": [
    {
     "name": "stdout",
     "output_type": "stream",
     "text": [
      "<class 'tuple'>\n"
     ]
    }
   ],
   "source": [
    "t1=(\"string\",1,12+4j,True,[\"srinu\"],{\"set\"},{\"dict\":12})\n",
    "print(type(t1))"
   ]
  },
  {
   "cell_type": "code",
   "execution_count": null,
   "id": "5dd6e80a-9f00-4944-9fa4-1b81a7a53d79",
   "metadata": {},
   "outputs": [],
   "source": [
    "5.The tuple() Constructor:\n",
    "It is also possible to use the tuple() constructor to make a tuple.\n"
   ]
  },
  {
   "cell_type": "code",
   "execution_count": 47,
   "id": "701ffbbd-1fc0-4676-baaf-68da4784a1a7",
   "metadata": {},
   "outputs": [
    {
     "name": "stdout",
     "output_type": "stream",
     "text": [
      "('string', 1, (12+4j), True, ['srinu'], {'set'}, {'dict': 12})\n"
     ]
    }
   ],
   "source": [
    "t1=tuple((\"string\",1,12+4j,True,[\"srinu\"],{\"set\"},{\"dict\":12}))\n",
    "print(t1)\n"
   ]
  },
  {
   "cell_type": "code",
   "execution_count": null,
   "id": "7dab1b6a-cbe0-4d0b-97f3-738d099b6a60",
   "metadata": {},
   "outputs": [],
   "source": [
    "6. - Access Tuple Items:\n",
    "We can access the tuple items by giving indexing inside the square brackets"
   ]
  },
  {
   "cell_type": "code",
   "execution_count": 49,
   "id": "1e0bcc14-0e7a-4cfa-a4b1-cdea187b0033",
   "metadata": {},
   "outputs": [
    {
     "name": "stdout",
     "output_type": "stream",
     "text": [
      "string\n"
     ]
    }
   ],
   "source": [
    "t1=tuple((\"string\",1,12+4j,True,[\"srinu\"],{\"set\"},{\"dict\":12}))\n",
    "print(t1[0])"
   ]
  },
  {
   "cell_type": "code",
   "execution_count": 61,
   "id": "8725ea7f-61ab-45cd-a125-1bd8214960c7",
   "metadata": {},
   "outputs": [
    {
     "name": "stdout",
     "output_type": "stream",
     "text": [
      "{'dict': 12}\n"
     ]
    }
   ],
   "source": [
    "# Negative Indexing\n",
    "t1=(\"string\",1,12+4j,True,[\"srinu\"],{\"set\"},{\"dict\":12})\n",
    "print(t1[-1])"
   ]
  },
  {
   "cell_type": "code",
   "execution_count": null,
   "id": "1f8bd63d-d388-4c15-999a-a3ccab7e12eb",
   "metadata": {},
   "outputs": [],
   "source": [
    "'''Range of Indexes'''\n",
    "we can specify the range of indexes by specifying where to start and where to end the range\n",
    "When you specifying a range the return values will be a new tuple with the specified items."
   ]
  },
  {
   "cell_type": "code",
   "execution_count": 63,
   "id": "72f08640-d91f-4ef5-af09-74776669928b",
   "metadata": {},
   "outputs": [
    {
     "name": "stdout",
     "output_type": "stream",
     "text": [
      "((12+4j), True)\n"
     ]
    }
   ],
   "source": [
    "t1=(\"string\",1,12+4j,True,[\"srinu\"],{\"set\"},{\"dict\":12})\n",
    "print(t1[2:4])"
   ]
  },
  {
   "cell_type": "code",
   "execution_count": 65,
   "id": "a3876a3c-4aca-4363-82be-b33608175df0",
   "metadata": {},
   "outputs": [
    {
     "name": "stdout",
     "output_type": "stream",
     "text": [
      "('string', 1, (12+4j), True)\n"
     ]
    }
   ],
   "source": [
    "#Remember that the first item has index 0.\n",
    "t1=(\"string\",1,12+4j,True,[\"srinu\"],{\"set\"},{\"dict\":12})\n",
    "print(t1[:4])"
   ]
  },
  {
   "cell_type": "code",
   "execution_count": 67,
   "id": "aea4c92d-3a67-48af-aad6-411d3a3dbc0a",
   "metadata": {},
   "outputs": [
    {
     "name": "stdout",
     "output_type": "stream",
     "text": [
      "((12+4j), True, ['srinu'], {'set'}, {'dict': 12})\n"
     ]
    }
   ],
   "source": [
    "# By leaving out the end value, the range will go on to the end of the tuple:\n",
    "t1=(\"string\",1,12+4j,True,[\"srinu\"],{\"set\"},{\"dict\":12})\n",
    "print(t1[2:])"
   ]
  },
  {
   "cell_type": "code",
   "execution_count": 71,
   "id": "a7b4e895-49dd-474b-8cc9-9534bd8b0c52",
   "metadata": {},
   "outputs": [
    {
     "name": "stdout",
     "output_type": "stream",
     "text": [
      "(True, ['srinu'], {'set'})\n"
     ]
    }
   ],
   "source": [
    "# Range of Negative Indexes\n",
    "t1=(\"string\",1,12+4j,True,[\"srinu\"],{\"set\"},{\"dict\":12})\n",
    "print(t1[-4:-1])"
   ]
  },
  {
   "cell_type": "code",
   "execution_count": null,
   "id": "d054ab00-f163-40f2-9ef4-8d679a2323d1",
   "metadata": {},
   "outputs": [],
   "source": [
    "7.Check if Item Exists\n",
    "To determine if a specified item is present in a tuple use the in keyword:\n"
   ]
  },
  {
   "cell_type": "code",
   "execution_count": 79,
   "id": "8d982da1-bd41-467d-b6ec-6746b0c8f4c7",
   "metadata": {},
   "outputs": [
    {
     "name": "stdout",
     "output_type": "stream",
     "text": [
      "Yes 'string' is avvailable\n"
     ]
    }
   ],
   "source": [
    "t1=(\"string\",1,12+4j,True,[\"srinu\"],{\"set\"},{\"dict\":12})\n",
    "if \"string\" in  t1:\n",
    "    print( \"Yes 'string' is avvailable\")"
   ]
  },
  {
   "cell_type": "code",
   "execution_count": null,
   "id": "f2f94a4b-bf9b-420e-b8ce-b66b618877a4",
   "metadata": {},
   "outputs": [],
   "source": [
    "7.Update Tuples"
   ]
  },
  {
   "cell_type": "code",
   "execution_count": null,
   "id": "91c0f1f7-c7fd-46f5-8ddb-31ffe1180408",
   "metadata": {},
   "outputs": [],
   "source": [
    "Tuples are unchangeble mean swe cannot change ,add, remove items once the tuple is created"
   ]
  },
  {
   "cell_type": "code",
   "execution_count": null,
   "id": "cccbe7fd-572a-4dfc-b3f6-d30ae8e88417",
   "metadata": {},
   "outputs": [],
   "source": [
    "But there are some workarounds."
   ]
  },
  {
   "cell_type": "code",
   "execution_count": null,
   "id": "e51e37c0-ef48-42aa-8012-d272b418c786",
   "metadata": {},
   "outputs": [],
   "source": [
    "Change Tuple Values\n",
    "Once a tuple is created, you cannot change its values. \n",
    "Tuples are unchangeable, \n",
    "or immutable as it also is called."
   ]
  },
  {
   "cell_type": "code",
   "execution_count": null,
   "id": "48ec78bd-7b55-4022-99e6-4118c7b5f255",
   "metadata": {},
   "outputs": [],
   "source": [
    "We can do onething, means first we have to convert to list  and modify  it and retrun back change the tuple"
   ]
  },
  {
   "cell_type": "code",
   "execution_count": 85,
   "id": "9fd8f69e-d060-4314-bf7e-4a0dd0689b2e",
   "metadata": {},
   "outputs": [
    {
     "name": "stdout",
     "output_type": "stream",
     "text": [
      "('string', 'List', (12+4j), True, ['srinu'], {'set'}, {'dict': 12})\n"
     ]
    }
   ],
   "source": [
    "t1=(\"string\",1,12+4j,True,[\"srinu\"],{\"set\"},{\"dict\":12})\n",
    "y=list(t1)\n",
    "y[1]=\"List\"\n",
    "t1=tuple(y)\n",
    "print(t1)"
   ]
  },
  {
   "cell_type": "code",
   "execution_count": null,
   "id": "dbc91eb0-a81a-4908-9cfd-ff86ae7d6ec2",
   "metadata": {},
   "outputs": [],
   "source": [
    "''Add Items''\n",
    "Since tuples are immutable, they do not have a built-in append() method\n",
    "but there are other ways to add items to a tuple.\n",
    "\n",
    "1. Convert into a list: Just like the workaround for changing a tuple, \n",
    "you can convert it into a list, add your item(s), and convert it back into a tuple."
   ]
  },
  {
   "cell_type": "code",
   "execution_count": 91,
   "id": "0bd322c8-8e23-49b1-8f8e-664f1ff85fe6",
   "metadata": {},
   "outputs": [
    {
     "name": "stdout",
     "output_type": "stream",
     "text": [
      "('string', 1, (12+4j), True, ['srinu'], {'set'}, {'dict': 12}, 'append')\n"
     ]
    }
   ],
   "source": [
    "t1=(\"string\",1,12+4j,True,[\"srinu\"],{\"set\"},{\"dict\":12})\n",
    "y=list(t1)\n",
    "y.append(\"append\")\n",
    "t1=tuple(y)\n",
    "print(t1)"
   ]
  },
  {
   "cell_type": "code",
   "execution_count": null,
   "id": "0c74f41f-a4a3-479c-bb22-f6f9c46bd0fb",
   "metadata": {},
   "outputs": [],
   "source": [
    "9.Add a tuple to tuple:\n",
    "we can add a new tuple with another tuple ,we have to add that tuple with many tuple using + operator "
   ]
  },
  {
   "cell_type": "code",
   "execution_count": 93,
   "id": "c3a8dec2-a77b-4c24-a2cb-443f12855329",
   "metadata": {},
   "outputs": [
    {
     "name": "stdout",
     "output_type": "stream",
     "text": [
      "('string', 1, (12+4j), True, ['srinu'], {'set'}, {'dict': 12}, 'newtuple')\n"
     ]
    }
   ],
   "source": [
    "t1=(\"string\",1,12+4j,True,[\"srinu\"],{\"set\"},{\"dict\":12})\n",
    "t2=(\"newtuple\",)\n",
    "t1+=t2\n",
    "print(t1)"
   ]
  },
  {
   "cell_type": "code",
   "execution_count": 97,
   "id": "954c51e4-6bff-4edd-8cc0-b64b4e943091",
   "metadata": {},
   "outputs": [
    {
     "name": "stdout",
     "output_type": "stream",
     "text": [
      "('string', 1, (12+4j), True, ['srinu'], {'set'}, {'dict': 12}, 'newtuple', 'apple', 'banana', 'cherry')\n"
     ]
    }
   ],
   "source": [
    "t1=(\"string\",1,12+4j,True,[\"srinu\"],{\"set\"},{\"dict\":12})\n",
    "t2=(\"newtuple\",)\n",
    "t3=(\"apple\", \"banana\", \"cherry\")\n",
    "t1=t1+t2+t3\n",
    "print(t1)"
   ]
  },
  {
   "cell_type": "code",
   "execution_count": null,
   "id": "3c7e3a17-3eff-4c9a-a4ac-429b0a301f79",
   "metadata": {},
   "outputs": [],
   "source": [
    "8.remove items:You cannot remove items in a tuple.Tuples are unchangeable,\n",
    "so you cannot remove items from it, but you can use the same workaround as we used for changing and adding tuple item\n",
    "Tuples are unchangeable, so you cannot remove items from it, but you can use the same workaround as we used for changing and adding tuple item"
   ]
  },
  {
   "cell_type": "code",
   "execution_count": 101,
   "id": "edc3cdbc-d5e3-4ff9-b5e8-d7aef77277c7",
   "metadata": {},
   "outputs": [
    {
     "name": "stdout",
     "output_type": "stream",
     "text": [
      "('string', (12+4j), True, ['srinu'], {'set'}, {'dict': 12}, 'newtuple', 'apple', 'banana', 'cherry')\n"
     ]
    }
   ],
   "source": [
    "t1=('string', 1, (12+4j), True, ['srinu'], {'set'}, {'dict': 12}, 'newtuple', 'apple', 'banana', 'cherry')\n",
    "y=list(t1)\n",
    "y.remove(1)\n",
    "t1=tuple(y)\n",
    "print(t1)"
   ]
  },
  {
   "cell_type": "code",
   "execution_count": null,
   "id": "42e405e1-e9e6-4cc8-9b59-81db28509897",
   "metadata": {},
   "outputs": [],
   "source": [
    "The del keyword can delete the tuple completely:"
   ]
  },
  {
   "cell_type": "code",
   "execution_count": 109,
   "id": "c13ce7f2-2710-49b0-b109-87cfc7b09c1b",
   "metadata": {},
   "outputs": [
    {
     "ename": "NameError",
     "evalue": "name 't1' is not defined",
     "output_type": "error",
     "traceback": [
      "\u001b[1;31m---------------------------------------------------------------------------\u001b[0m",
      "\u001b[1;31mNameError\u001b[0m                                 Traceback (most recent call last)",
      "Cell \u001b[1;32mIn[109], line 3\u001b[0m\n\u001b[0;32m      1\u001b[0m t1\u001b[38;5;241m=\u001b[39m(\u001b[38;5;124m'\u001b[39m\u001b[38;5;124mstring\u001b[39m\u001b[38;5;124m'\u001b[39m, \u001b[38;5;241m1\u001b[39m, (\u001b[38;5;241m12\u001b[39m\u001b[38;5;241m+\u001b[39m\u001b[38;5;241m4\u001b[39mj), \u001b[38;5;28;01mTrue\u001b[39;00m, [\u001b[38;5;124m'\u001b[39m\u001b[38;5;124msrinu\u001b[39m\u001b[38;5;124m'\u001b[39m], {\u001b[38;5;124m'\u001b[39m\u001b[38;5;124mset\u001b[39m\u001b[38;5;124m'\u001b[39m}, {\u001b[38;5;124m'\u001b[39m\u001b[38;5;124mdict\u001b[39m\u001b[38;5;124m'\u001b[39m: \u001b[38;5;241m12\u001b[39m}, \u001b[38;5;124m'\u001b[39m\u001b[38;5;124mnewtuple\u001b[39m\u001b[38;5;124m'\u001b[39m, \u001b[38;5;124m'\u001b[39m\u001b[38;5;124mapple\u001b[39m\u001b[38;5;124m'\u001b[39m, \u001b[38;5;124m'\u001b[39m\u001b[38;5;124mbanana\u001b[39m\u001b[38;5;124m'\u001b[39m, \u001b[38;5;124m'\u001b[39m\u001b[38;5;124mcherry\u001b[39m\u001b[38;5;124m'\u001b[39m)\n\u001b[0;32m      2\u001b[0m \u001b[38;5;28;01mdel\u001b[39;00m t1\n\u001b[1;32m----> 3\u001b[0m \u001b[38;5;28mprint\u001b[39m(t1)\n",
      "\u001b[1;31mNameError\u001b[0m: name 't1' is not defined"
     ]
    }
   ],
   "source": [
    "t1=('string', 1, (12+4j), True, ['srinu'], {'set'}, {'dict': 12}, 'newtuple', 'apple', 'banana', 'cherry')\n",
    "del t1\n",
    "print(t1)#this will raise an error because the tuple no longer exists"
   ]
  },
  {
   "cell_type": "code",
   "execution_count": null,
   "id": "93f2d169-9f9c-473b-a8e4-72767abd2285",
   "metadata": {},
   "outputs": [],
   "source": [
    "10.Python - Unpack Tuples"
   ]
  },
  {
   "cell_type": "code",
   "execution_count": null,
   "id": "abae846a-695d-4ada-ba29-71b65eecb41e",
   "metadata": {},
   "outputs": [],
   "source": [
    "unpacking  a tuple:\n",
    "\n",
    "When we create a tuple ,we normally assighn values to it.THis is called \"packing\" a tuple:"
   ]
  },
  {
   "cell_type": "code",
   "execution_count": 113,
   "id": "f815ca11-2574-4938-be4e-24e08f73dd76",
   "metadata": {},
   "outputs": [
    {
     "name": "stdout",
     "output_type": "stream",
     "text": [
      "('string', 1, (12+4j), True, ['srinu'], {'set'}, {'dict': 12}, 'newtuple', 'apple', 'banana', 'cherry')\n"
     ]
    }
   ],
   "source": [
    "# ExampleGet your own Python Server\n",
    "# Packing a tuple:\n",
    "t1=('string', 1, (12+4j), True, ['srinu'], {'set'}, {'dict': 12}, 'newtuple', 'apple', 'banana', 'cherry')\n",
    "print(t1)"
   ]
  },
  {
   "cell_type": "code",
   "execution_count": null,
   "id": "f2f122c5-2e8e-4d5b-9269-a4192dfd3e73",
   "metadata": {},
   "outputs": [],
   "source": [
    " \"Unpacking\":\n",
    "But, in python ,we can also allowed to extract the values back into variables .This is called \"Unpacking\":"
   ]
  },
  {
   "cell_type": "code",
   "execution_count": 123,
   "id": "62c3d49e-c554-4692-b7ec-cbece7c87e24",
   "metadata": {},
   "outputs": [
    {
     "name": "stdout",
     "output_type": "stream",
     "text": [
      "apple\n",
      "banana\n",
      "cherry\n"
     ]
    }
   ],
   "source": [
    "fruits = (\"apple\", \"banana\", \"cherry\")\n",
    "(tuple,grapes,lion)=fruits\n",
    "print(tuple)\n",
    "print(grapes)\n",
    "print(lion)#Note: The number of variables must match the number of values in the tuple, if not, you must use an asterisk to collect the remaining values as a list."
   ]
  },
  {
   "cell_type": "code",
   "execution_count": null,
   "id": "936f427c-acd2-43db-bcd6-630df2685b65",
   "metadata": {},
   "outputs": [],
   "source": [
    "11.Using Asterisk*\n",
    "If the number of variables is less then the number of values ,\n",
    "you can add an * to the variable name and the values will be assighned to the variable as a list;"
   ]
  },
  {
   "cell_type": "code",
   "execution_count": 125,
   "id": "8ab8e303-c2dc-408e-8bf1-c8f431a9e96c",
   "metadata": {},
   "outputs": [
    {
     "name": "stdout",
     "output_type": "stream",
     "text": [
      "string\n",
      "1\n",
      "[(12+4j), True, ['srinu'], {'set'}, {'dict': 12}, 'newtuple', 'apple', 'banana', 'cherry']\n"
     ]
    }
   ],
   "source": [
    "t1=('string', 1, (12+4j), True, ['srinu'], {'set'}, {'dict': 12}, 'newtuple', 'apple', 'banana', 'cherry')\n",
    "(tuple,grapes,*lion)=t1\n",
    "print(tuple)\n",
    "print(grapes)\n",
    "print(lion)"
   ]
  },
  {
   "cell_type": "code",
   "execution_count": null,
   "id": "84c08e8c-e1e8-4b50-9092-05ded2ce7148",
   "metadata": {},
   "outputs": [],
   "source": [
    "If the asterisk is added to another variable name than\n",
    "the last, Python will assign values to the variable until\n",
    "the number of values left matches the number of variables left.\n",
    "\n"
   ]
  },
  {
   "cell_type": "code",
   "execution_count": 127,
   "id": "2d92f8f1-70f4-4ebc-b889-1312bfb073f3",
   "metadata": {},
   "outputs": [
    {
     "name": "stdout",
     "output_type": "stream",
     "text": [
      "string\n",
      "[1, (12+4j), True, ['srinu'], {'set'}, {'dict': 12}, 'newtuple', 'apple', 'banana']\n",
      "cherry\n"
     ]
    }
   ],
   "source": [
    "t1=('string', 1, (12+4j), True, ['srinu'], {'set'}, {'dict': 12}, 'newtuple', 'apple', 'banana', 'cherry')\n",
    "(tuple,*grapes,lion)=t1\n",
    "print(tuple)\n",
    "print(grapes)\n",
    "print(lion)"
   ]
  },
  {
   "cell_type": "code",
   "execution_count": null,
   "id": "98ba9a49-3a2d-4f4c-9241-5297ceab873c",
   "metadata": {},
   "outputs": [],
   "source": [
    "14.Loop Tuples\n",
    "Loop through a tuple:\n",
    "we can loop through tuple items by using a for loop.\n",
    "                                          "
   ]
  },
  {
   "cell_type": "code",
   "execution_count": 135,
   "id": "9e392eb3-73c5-4096-983d-b0a7e80af629",
   "metadata": {},
   "outputs": [
    {
     "name": "stdout",
     "output_type": "stream",
     "text": [
      "string\n",
      "1\n",
      "(12+4j)\n",
      "True\n",
      "['srinu']\n",
      "{'set'}\n",
      "{'dict': 12}\n",
      "newtuple\n",
      "apple\n",
      "banana\n",
      "cherry\n"
     ]
    }
   ],
   "source": [
    "t1=('string', 1, (12+4j), True, ['srinu'], {'set'}, {'dict': 12}, 'newtuple', 'apple', 'banana', 'cherry')\n",
    "for i in t1:\n",
    "    print(i)"
   ]
  },
  {
   "cell_type": "code",
   "execution_count": null,
   "id": "a8347e75-7731-49ad-8925-e04ee092fb36",
   "metadata": {},
   "outputs": [],
   "source": [
    "Loop thruogh the index numbers:\n",
    "\n",
    "we can also loop through the tuple items by reffering to their index number:\n",
    "Use the len() and range() function to create a suitable iterable"
   ]
  },
  {
   "cell_type": "code",
   "execution_count": 139,
   "id": "29a830a7-7326-46b8-bde1-fec260dfcff9",
   "metadata": {},
   "outputs": [
    {
     "name": "stdout",
     "output_type": "stream",
     "text": [
      "string\n",
      "1\n",
      "(12+4j)\n",
      "True\n",
      "['srinu']\n",
      "{'set'}\n",
      "{'dict': 12}\n",
      "newtuple\n",
      "apple\n",
      "banana\n",
      "cherry\n"
     ]
    }
   ],
   "source": [
    "t1=('string', 1, (12+4j), True, ['srinu'], {'set'}, {'dict': 12}, 'newtuple', 'apple', 'banana', 'cherry')\n",
    "for i in range(len(t1)):\n",
    "    print(t1[i])"
   ]
  },
  {
   "cell_type": "code",
   "execution_count": null,
   "id": "0ce38f90-403d-44b9-91ae-3711b048ce82",
   "metadata": {},
   "outputs": [],
   "source": [
    "'''While loop'''\n",
    "We can loop through the tuple items by using a while loop.\n",
    "\n",
    "use the len() function to detaermine the length of a tuple ,then start at 0 and loop your waythrough the tuple by reffereing to their indexes\n",
    "after that increase the index by 1 after each iteration"
   ]
  },
  {
   "cell_type": "code",
   "execution_count": 147,
   "id": "cd2d9e02-b2d6-4952-ae38-2a2037b93d8b",
   "metadata": {},
   "outputs": [
    {
     "name": "stdout",
     "output_type": "stream",
     "text": [
      "string\n",
      "1\n",
      "(12+4j)\n",
      "True\n",
      "['srinu']\n",
      "{'set'}\n",
      "{'dict': 12}\n",
      "newtuple\n",
      "apple\n",
      "banana\n",
      "cherry\n"
     ]
    }
   ],
   "source": [
    "t1=('string', 1, (12+4j), True, ['srinu'], {'set'}, {'dict': 12}, 'newtuple', 'apple', 'banana', 'cherry')\n",
    "i=0\n",
    "while i in range(len(t1)):\n",
    "    print(t1[i])\n",
    "    i=i+1\n",
    "    "
   ]
  },
  {
   "cell_type": "code",
   "execution_count": 149,
   "id": "3f1ee431-7fbd-4579-993e-3350ef778712",
   "metadata": {},
   "outputs": [
    {
     "ename": "SyntaxError",
     "evalue": "invalid imaginary literal (3924831875.py, line 1)",
     "output_type": "error",
     "traceback": [
      "\u001b[1;36m  Cell \u001b[1;32mIn[149], line 1\u001b[1;36m\u001b[0m\n\u001b[1;33m    15.Join Tuples\u001b[0m\n\u001b[1;37m       ^\u001b[0m\n\u001b[1;31mSyntaxError\u001b[0m\u001b[1;31m:\u001b[0m invalid imaginary literal\n"
     ]
    }
   ],
   "source": [
    "15.Join Tuples\n",
    "Join two tuples \n",
    "to join  two or more tuples you can use the + operator\n"
   ]
  },
  {
   "cell_type": "code",
   "execution_count": 153,
   "id": "8aac19d6-a02b-42a7-89da-b84cc12acd9f",
   "metadata": {},
   "outputs": [
    {
     "name": "stdout",
     "output_type": "stream",
     "text": [
      "('string', 1, (12+4j), True, ['srinu'], {'set'}, {'dict': 12}, 'newtuple', 'apple', 'banana', 'cherry', 1, 2, 3)\n"
     ]
    }
   ],
   "source": [
    "t1=('string', 1, (12+4j), True, ['srinu'], {'set'}, {'dict': 12}, 'newtuple', 'apple', 'banana', 'cherry')\n",
    "t2=(1,2,3)\n",
    "t3=t1+t2\n",
    "\n",
    "print(t3)"
   ]
  },
  {
   "cell_type": "code",
   "execution_count": null,
   "id": "44d6610b-f97c-48d4-9096-cff924052309",
   "metadata": {},
   "outputs": [],
   "source": [
    "'''Multiply Tuples'''\n",
    "If you want to multiply the content of a tuple a given number of times\n",
    "you can use the * operator"
   ]
  },
  {
   "cell_type": "code",
   "execution_count": 159,
   "id": "c2240c4c-e318-45c3-8541-78af9fc48d62",
   "metadata": {},
   "outputs": [
    {
     "name": "stdout",
     "output_type": "stream",
     "text": [
      "(1, 2, 3, 1, 2, 3, 1, 2, 3, 1, 2, 3)\n"
     ]
    }
   ],
   "source": [
    "t2=(1,2,3)\n",
    "tuple1=t2*4\n",
    "print(tuple1)"
   ]
  },
  {
   "cell_type": "code",
   "execution_count": null,
   "id": "4084041a-6983-474f-a364-7b2bfbf67b08",
   "metadata": {},
   "outputs": [],
   "source": [
    "** tuple Methods** \n"
   ]
  },
  {
   "cell_type": "code",
   "execution_count": 161,
   "id": "ed4211d7-a7a5-4fb7-a702-8ae81572059f",
   "metadata": {},
   "outputs": [
    {
     "name": "stdout",
     "output_type": "stream",
     "text": [
      "4\n"
     ]
    }
   ],
   "source": [
    "'''count'''\n",
    "t=(1, 2, 3, 1, 2, 3, 1, 2, 3, 1, 2, 3)\n",
    "print(t.count(2))"
   ]
  },
  {
   "cell_type": "code",
   "execution_count": 173,
   "id": "d9dc3a42-e391-4066-82b9-348b85f5f905",
   "metadata": {},
   "outputs": [
    {
     "name": "stdout",
     "output_type": "stream",
     "text": [
      "7\n"
     ]
    }
   ],
   "source": [
    "'''index'''\n",
    "t1=(1, 2, 3, 1, 2, 3, 1, 2, 3, 1, 2, 3)\n",
    "print(t1.index(2,5))# 9 starting point"
   ]
  },
  {
   "cell_type": "code",
   "execution_count": null,
   "id": "1086a4e1-34b0-4797-b585-be2a52cf0b62",
   "metadata": {},
   "outputs": [],
   "source": []
  },
  {
   "cell_type": "code",
   "execution_count": null,
   "id": "5d6bf118-6208-4f1d-ab0e-03be15c49dbe",
   "metadata": {},
   "outputs": [],
   "source": []
  },
  {
   "cell_type": "code",
   "execution_count": null,
   "id": "ca0691cc-b6d6-41df-80a4-068e1991bd94",
   "metadata": {},
   "outputs": [],
   "source": []
  },
  {
   "cell_type": "code",
   "execution_count": null,
   "id": "dc34ea1a-b5dc-45f1-8d46-131cd1e2d51f",
   "metadata": {},
   "outputs": [],
   "source": []
  },
  {
   "cell_type": "code",
   "execution_count": null,
   "id": "683c0c31-b4b6-4a60-aef9-7ea5c74cd4b9",
   "metadata": {},
   "outputs": [],
   "source": []
  },
  {
   "cell_type": "code",
   "execution_count": null,
   "id": "f502e860-adfc-4b60-87d1-c032d49ee5b3",
   "metadata": {},
   "outputs": [],
   "source": []
  },
  {
   "cell_type": "code",
   "execution_count": null,
   "id": "2d1b69a9-acc4-4956-91f5-9f10098d08e4",
   "metadata": {},
   "outputs": [],
   "source": []
  },
  {
   "cell_type": "code",
   "execution_count": null,
   "id": "26b3683b-eda6-41b3-8f35-e239a583ca1d",
   "metadata": {},
   "outputs": [],
   "source": []
  },
  {
   "cell_type": "code",
   "execution_count": null,
   "id": "55f1f668-ceaa-4061-a5d5-0ad7ecba1453",
   "metadata": {},
   "outputs": [],
   "source": []
  },
  {
   "cell_type": "code",
   "execution_count": null,
   "id": "5784f838-be0f-4e03-9e1c-0abb5caf6a48",
   "metadata": {},
   "outputs": [],
   "source": []
  },
  {
   "cell_type": "code",
   "execution_count": null,
   "id": "abb25917-da82-4693-81e6-09af6ef013a9",
   "metadata": {},
   "outputs": [],
   "source": []
  },
  {
   "cell_type": "code",
   "execution_count": null,
   "id": "3d6d3a85-10b3-469c-b07e-97a1087bccf2",
   "metadata": {},
   "outputs": [],
   "source": []
  },
  {
   "cell_type": "code",
   "execution_count": null,
   "id": "c33c0234-04b7-4a1b-939d-ba9ec0c2a41e",
   "metadata": {},
   "outputs": [],
   "source": []
  },
  {
   "cell_type": "code",
   "execution_count": null,
   "id": "b307c289-0392-46f8-830d-83f094403cde",
   "metadata": {},
   "outputs": [],
   "source": []
  },
  {
   "cell_type": "code",
   "execution_count": null,
   "id": "b70bfe16-2675-427a-b774-387b75ec771c",
   "metadata": {},
   "outputs": [],
   "source": []
  },
  {
   "cell_type": "code",
   "execution_count": null,
   "id": "74b8dfb2-1aa1-4edf-9714-a45211f4f399",
   "metadata": {},
   "outputs": [],
   "source": []
  },
  {
   "cell_type": "code",
   "execution_count": null,
   "id": "dfd1932d-8e8e-44b6-9aae-38369c43eff4",
   "metadata": {},
   "outputs": [],
   "source": []
  },
  {
   "cell_type": "code",
   "execution_count": null,
   "id": "ca5d97df-231c-400b-b186-367e6fd42334",
   "metadata": {},
   "outputs": [],
   "source": []
  },
  {
   "cell_type": "code",
   "execution_count": null,
   "id": "4fccf02b-1f45-4d11-93df-c94c637e6791",
   "metadata": {},
   "outputs": [],
   "source": []
  },
  {
   "cell_type": "code",
   "execution_count": null,
   "id": "a59d9ee1-c05a-47ea-8d82-4036bce24900",
   "metadata": {},
   "outputs": [],
   "source": []
  },
  {
   "cell_type": "code",
   "execution_count": null,
   "id": "ec1d6f63-60a1-4c0b-a5cd-8b8a381029b3",
   "metadata": {},
   "outputs": [],
   "source": []
  },
  {
   "cell_type": "code",
   "execution_count": null,
   "id": "1570fd22-edbc-48e0-aec8-15ba248602a4",
   "metadata": {},
   "outputs": [],
   "source": []
  },
  {
   "cell_type": "code",
   "execution_count": null,
   "id": "bbe84a3b-a225-442b-84e9-e1d420e5fb3e",
   "metadata": {},
   "outputs": [],
   "source": []
  },
  {
   "cell_type": "code",
   "execution_count": null,
   "id": "aa10149d-061e-4308-a750-6a4b47ee5f9f",
   "metadata": {},
   "outputs": [],
   "source": []
  },
  {
   "cell_type": "code",
   "execution_count": null,
   "id": "7030e7ba-dbec-49cd-8005-401621d2c1ed",
   "metadata": {},
   "outputs": [],
   "source": []
  },
  {
   "cell_type": "code",
   "execution_count": null,
   "id": "3f8188f1-0b7a-4a91-ac09-d3cc897f884e",
   "metadata": {},
   "outputs": [],
   "source": []
  },
  {
   "cell_type": "code",
   "execution_count": null,
   "id": "0e0ea014-997f-4dd7-9e8b-51d565f492bc",
   "metadata": {},
   "outputs": [],
   "source": []
  },
  {
   "cell_type": "code",
   "execution_count": null,
   "id": "0baa34d3-5c57-4b31-a145-dfe7ba48a5af",
   "metadata": {},
   "outputs": [],
   "source": []
  },
  {
   "cell_type": "code",
   "execution_count": null,
   "id": "92cbaece-a503-4c59-aa2f-bd8022644aed",
   "metadata": {},
   "outputs": [],
   "source": []
  }
 ],
 "metadata": {
  "kernelspec": {
   "display_name": "Python 3 (ipykernel)",
   "language": "python",
   "name": "python3"
  },
  "language_info": {
   "codemirror_mode": {
    "name": "ipython",
    "version": 3
   },
   "file_extension": ".py",
   "mimetype": "text/x-python",
   "name": "python",
   "nbconvert_exporter": "python",
   "pygments_lexer": "ipython3",
   "version": "3.12.4"
  }
 },
 "nbformat": 4,
 "nbformat_minor": 5
}
