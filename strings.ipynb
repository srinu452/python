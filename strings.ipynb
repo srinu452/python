{
 "cells": [
  {
   "cell_type": "code",
   "execution_count": null,
   "id": "49bb1555-a942-4e25-a393-fee159ea7146",
   "metadata": {},
   "outputs": [],
   "source": [
    "                         \"\"\"Strings\"\"\""
   ]
  },
  {
   "cell_type": "code",
   "execution_count": null,
   "id": "a98caa13-b517-4d7d-9fef-f9e04fbf29b9",
   "metadata": {},
   "outputs": [],
   "source": [
    "Strings in python are surrounded by single or multiple quotaions marks"
   ]
  },
  {
   "cell_type": "code",
   "execution_count": null,
   "id": "c7c6b1c5-e8b6-4377-a47d-635129fa682d",
   "metadata": {},
   "outputs": [],
   "source": [
    "'hello' is the same as \"hello\"."
   ]
  },
  {
   "cell_type": "code",
   "execution_count": null,
   "id": "f3f92bb3-e099-44fe-9856-67a83fdc9c91",
   "metadata": {},
   "outputs": [],
   "source": [
    "You can display a string literal with the print() function:"
   ]
  },
  {
   "cell_type": "code",
   "execution_count": 168,
   "id": "5c74d813-4434-4ddb-8fe0-e2917f4f2c9f",
   "metadata": {},
   "outputs": [
    {
     "name": "stdout",
     "output_type": "stream",
     "text": [
      "Hello\n",
      "Hello\n"
     ]
    }
   ],
   "source": [
    "print(\"Hello\")\n",
    "print('Hello')"
   ]
  },
  {
   "cell_type": "code",
   "execution_count": null,
   "id": "f64d097d-4ff4-4c8d-af38-00478d03709d",
   "metadata": {},
   "outputs": [],
   "source": [
    "\"\"\"1.Quotes Inside Quotes\"\"\""
   ]
  },
  {
   "cell_type": "code",
   "execution_count": null,
   "id": "4e749059-c852-4625-acbb-c22b3f74de5e",
   "metadata": {},
   "outputs": [],
   "source": [
    "You can mention the inside the string as long as they don't match to quotes surroundings the string"
   ]
  },
  {
   "cell_type": "code",
   "execution_count": 170,
   "id": "6b372a55-09b9-423a-bed3-4fdb06de5e67",
   "metadata": {},
   "outputs": [
    {
     "name": "stdout",
     "output_type": "stream",
     "text": [
      "It's alright\n",
      "He is called 'Johnny'\n",
      "He is called \"Johnny\"\n"
     ]
    }
   ],
   "source": [
    "print(\"It's alright\")\n",
    "print(\"He is called 'Johnny'\")\n",
    "print('He is called \"Johnny\"')"
   ]
  },
  {
   "cell_type": "code",
   "execution_count": null,
   "id": "66c929f8-d1e3-4592-a3a5-ac7a92850a6a",
   "metadata": {},
   "outputs": [],
   "source": [
    "\"\"\"2.Assign String to a Variable\"\"\""
   ]
  },
  {
   "cell_type": "code",
   "execution_count": null,
   "id": "84149fa0-8a62-4724-95f1-438e9300fb26",
   "metadata": {},
   "outputs": [],
   "source": [
    "Assigning a string to a variable is done with the variable name followed by an equal sign and the string:"
   ]
  },
  {
   "cell_type": "code",
   "execution_count": 172,
   "id": "0b369fe9-7600-45d1-bb84-927ed610754d",
   "metadata": {},
   "outputs": [
    {
     "name": "stdout",
     "output_type": "stream",
     "text": [
      "Hello\n"
     ]
    }
   ],
   "source": [
    "a=\"Hello\"\n",
    "print(a)"
   ]
  },
  {
   "cell_type": "code",
   "execution_count": null,
   "id": "59f20370-2f27-4537-b540-ce9836ec927d",
   "metadata": {},
   "outputs": [],
   "source": [
    "\"\"\"3.Multiline Strings\"\"\""
   ]
  },
  {
   "cell_type": "code",
   "execution_count": null,
   "id": "ecfc32a1-9c8c-4312-8ab5-833e3f112a21",
   "metadata": {},
   "outputs": [],
   "source": [
    "You can assign a multiple string to a variable by using three quotes:"
   ]
  },
  {
   "cell_type": "code",
   "execution_count": 174,
   "id": "6361bd5f-d925-4bb9-ae38-f8b06174f2b6",
   "metadata": {},
   "outputs": [
    {
     "name": "stdout",
     "output_type": "stream",
     "text": [
      "Lorem ipsum dolor sit amet,\n",
      "consectetur adipiscing elit,\n",
      "sed do eiusmod tempor incididunt\n",
      "ut labore et dolore magna aliqua.\n"
     ]
    }
   ],
   "source": [
    "a = \"\"\"Lorem ipsum dolor sit amet,\n",
    "consectetur adipiscing elit,\n",
    "sed do eiusmod tempor incididunt\n",
    "ut labore et dolore magna aliqua.\"\"\"\n",
    "print(a)"
   ]
  },
  {
   "cell_type": "code",
   "execution_count": 176,
   "id": "5890901e-db83-486c-82a2-15de56d57237",
   "metadata": {},
   "outputs": [
    {
     "name": "stdout",
     "output_type": "stream",
     "text": [
      "Lorem ipsum dolor sit amet,\n",
      "consectetur adipiscing elit,\n",
      "sed do eiusmod tempor incididunt\n",
      "ut labore et dolore magna aliqua.\n"
     ]
    }
   ],
   "source": [
    "a = '''Lorem ipsum dolor sit amet,\n",
    "consectetur adipiscing elit,\n",
    "sed do eiusmod tempor incididunt\n",
    "ut labore et dolore magna aliqua.'''\n",
    "print(a)"
   ]
  },
  {
   "cell_type": "code",
   "execution_count": null,
   "id": "75af2bc6-a26a-4d19-b60d-206aabceed84",
   "metadata": {},
   "outputs": [],
   "source": [
    "\"\"\"4.Strings are Arrays\"\"\""
   ]
  },
  {
   "cell_type": "code",
   "execution_count": null,
   "id": "78bfe893-1a22-4230-a18f-17da8210af8a",
   "metadata": {},
   "outputs": [],
   "source": [
    "strings in Python are arrays of bytes representing unicode characters."
   ]
  },
  {
   "cell_type": "code",
   "execution_count": null,
   "id": "70566c27-9882-4fd8-b3a7-ae6f08db3676",
   "metadata": {},
   "outputs": [],
   "source": [
    "However, Python does not have a character data type, a single character is simply a string with a length of "
   ]
  },
  {
   "cell_type": "code",
   "execution_count": null,
   "id": "3c2c5680-554b-4599-9a98-d93ec8cab1ce",
   "metadata": {},
   "outputs": [],
   "source": [
    "Square brackets can be used to \"access\" elements of the string.[]"
   ]
  },
  {
   "cell_type": "code",
   "execution_count": 184,
   "id": "20c83b60-91f0-4b0a-ba86-b6a51c7a78a8",
   "metadata": {},
   "outputs": [
    {
     "name": "stdout",
     "output_type": "stream",
     "text": [
      "H\n",
      "e\n",
      "r\n",
      "o\n"
     ]
    }
   ],
   "source": [
    "a=\"Hello World\"\n",
    "print(a[0])\n",
    "print(a[1])\n",
    "print(a[8])\n",
    "print(a[7])\n"
   ]
  },
  {
   "cell_type": "code",
   "execution_count": null,
   "id": "98ed5e11-c934-45ca-95de-997bf8b4cbe5",
   "metadata": {},
   "outputs": [],
   "source": [
    "\"\"\"5.Looping Through a String\"\"\""
   ]
  },
  {
   "cell_type": "code",
   "execution_count": null,
   "id": "dca0075c-6f77-48a2-bb6e-90f738919b91",
   "metadata": {},
   "outputs": [],
   "source": [
    "Since strings are arrays ,we can loop through the characters in strings with for loop"
   ]
  },
  {
   "cell_type": "code",
   "execution_count": 202,
   "id": "5a317327-dd7e-4272-83c7-a870e6876de1",
   "metadata": {},
   "outputs": [
    {
     "name": "stdout",
     "output_type": "stream",
     "text": [
      "b\n",
      "a\n",
      "n\n",
      "a\n",
      "n\n",
      "a\n"
     ]
    }
   ],
   "source": [
    "for i in \"banana\":\n",
    "   print(i)"
   ]
  },
  {
   "cell_type": "code",
   "execution_count": null,
   "id": "0dffed32-bbe4-42c2-aa69-b3f638a6bada",
   "metadata": {},
   "outputs": [],
   "source": [
    "\"\"\"6.String Length\"\"\""
   ]
  },
  {
   "cell_type": "code",
   "execution_count": null,
   "id": "037b0bf0-ad2d-4a4c-b94e-0096bc0e448c",
   "metadata": {},
   "outputs": [],
   "source": [
    "to get the length pf the string we can use len() function."
   ]
  },
  {
   "cell_type": "code",
   "execution_count": 204,
   "id": "46743081-3678-4101-a0db-803a19b9f390",
   "metadata": {},
   "outputs": [
    {
     "name": "stdout",
     "output_type": "stream",
     "text": [
      "12\n"
     ]
    }
   ],
   "source": [
    "a=\"data science\"\n",
    "print(len(a)) #Including spaces also"
   ]
  },
  {
   "cell_type": "code",
   "execution_count": null,
   "id": "25afb210-7cc5-4cb0-ba30-8fa560826950",
   "metadata": {},
   "outputs": [],
   "source": [
    "\"\"\"7.Check String\"\"\""
   ]
  },
  {
   "cell_type": "code",
   "execution_count": null,
   "id": "890a8dd9-148d-4b6a-bde6-217871a10904",
   "metadata": {},
   "outputs": [],
   "source": [
    "to check the certain character is present in given string or not \n",
    "by using in keyword"
   ]
  },
  {
   "cell_type": "code",
   "execution_count": 206,
   "id": "5851d781-1865-4eed-bc75-b9613423362d",
   "metadata": {},
   "outputs": [
    {
     "name": "stdout",
     "output_type": "stream",
     "text": [
      "True\n"
     ]
    }
   ],
   "source": [
    "txt=\"the text of the given string\"\n",
    "print(\"text\" in txt)\n"
   ]
  },
  {
   "cell_type": "code",
   "execution_count": null,
   "id": "de9044d0-b8f1-4993-9bb6-def8fe28553d",
   "metadata": {},
   "outputs": [],
   "source": [
    "Use it in an if statement:"
   ]
  },
  {
   "cell_type": "code",
   "execution_count": 212,
   "id": "b4030828-dcfb-4703-8fba-8807bdfa0a60",
   "metadata": {},
   "outputs": [
    {
     "name": "stdout",
     "output_type": "stream",
     "text": [
      "yes,'string' is present.\n"
     ]
    }
   ],
   "source": [
    "str=\"string data types\"\n",
    "if \"string\" in str:\n",
    "    print(\"yes,'string' is present.\")"
   ]
  },
  {
   "cell_type": "code",
   "execution_count": null,
   "id": "7ace47e8-d56e-472e-8ea1-bf1eafcaa4c9",
   "metadata": {},
   "outputs": [],
   "source": [
    "\"\"\"8.Check if NOT\"\"\""
   ]
  },
  {
   "cell_type": "code",
   "execution_count": null,
   "id": "160e4af0-027a-4e9e-9f53-d92bb50e1f18",
   "metadata": {},
   "outputs": [],
   "source": [
    "to check if a certain character is not prsent in the given string or not using not in"
   ]
  },
  {
   "cell_type": "code",
   "execution_count": 214,
   "id": "defb070e-5bff-43e6-b208-81ba9edc499f",
   "metadata": {},
   "outputs": [
    {
     "name": "stdout",
     "output_type": "stream",
     "text": [
      "True\n"
     ]
    }
   ],
   "source": [
    "str=\" I am developer\"\n",
    "print( \"srinu\"not in str) "
   ]
  },
  {
   "cell_type": "code",
   "execution_count": 226,
   "id": "1f31ab29-a79d-4135-a3b2-6214928fad21",
   "metadata": {},
   "outputs": [
    {
     "name": "stdout",
     "output_type": "stream",
     "text": [
      "True\n"
     ]
    }
   ],
   "source": [
    "str=\" I am developer\"\n",
    "if \"z\"not in str:\n",
    "    print( True)\n",
    "else:\n",
    "    print(False)"
   ]
  },
  {
   "cell_type": "code",
   "execution_count": null,
   "id": "7e874f2a-884d-4fea-bf58-d6256d754184",
   "metadata": {},
   "outputs": [],
   "source": [
    "\"\"\"9.Slicing\"\"\""
   ]
  },
  {
   "cell_type": "code",
   "execution_count": null,
   "id": "ac5f018e-a76d-4152-8be4-9ab8c35f4b80",
   "metadata": {},
   "outputs": [],
   "source": [
    "you can return a range of characters by using slicing:"
   ]
  },
  {
   "cell_type": "code",
   "execution_count": null,
   "id": "2d806be3-8398-45e4-995d-7708c5a80abd",
   "metadata": {},
   "outputs": [],
   "source": [
    "Specify the start index and end index seperated by colon to return a part of the string"
   ]
  },
  {
   "cell_type": "code",
   "execution_count": null,
   "id": "c2c4fd95-f8ce-4c38-ad48-2c80826aa383",
   "metadata": {},
   "outputs": [],
   "source": [
    "start:end(end-1):direction"
   ]
  },
  {
   "cell_type": "code",
   "execution_count": 228,
   "id": "0e7b8244-7959-40bc-8c9b-3ee32a11fdf3",
   "metadata": {},
   "outputs": [
    {
     "name": "stdout",
     "output_type": "stream",
     "text": [
      "llo\n"
     ]
    }
   ],
   "source": [
    "b=\"Hello World\"\n",
    "print(b[2:5])"
   ]
  },
  {
   "cell_type": "code",
   "execution_count": null,
   "id": "976c2abc-5c76-4e9c-80d5-d61a58ee36bd",
   "metadata": {},
   "outputs": [],
   "source": [
    "1.Slice From the Start"
   ]
  },
  {
   "cell_type": "code",
   "execution_count": null,
   "id": "9c88f28c-f000-469a-901f-a9b58ad82a01",
   "metadata": {},
   "outputs": [],
   "source": [
    "By leaving start index the range will start at the fisrt character"
   ]
  },
  {
   "cell_type": "code",
   "execution_count": 230,
   "id": "d8c13393-7d34-4071-9216-9181530184f1",
   "metadata": {},
   "outputs": [
    {
     "name": "stdout",
     "output_type": "stream",
     "text": [
      "Hello\n"
     ]
    }
   ],
   "source": [
    "b=\"Hello World\"\n",
    "print(b[:5]) #start=0"
   ]
  },
  {
   "cell_type": "code",
   "execution_count": null,
   "id": "456bf327-ef36-4e69-a7f9-c662453afe05",
   "metadata": {},
   "outputs": [],
   "source": [
    "2.Slice To the End\n",
    "By  leaving out the end index the range will go to the end"
   ]
  },
  {
   "cell_type": "code",
   "execution_count": 232,
   "id": "305513c2-9faf-4023-b26d-59931b0a2be1",
   "metadata": {},
   "outputs": [
    {
     "name": "stdout",
     "output_type": "stream",
     "text": [
      " big fan\n"
     ]
    }
   ],
   "source": [
    "x=\"I am big fan\"\n",
    "print(x[4:]) #end=0"
   ]
  },
  {
   "cell_type": "code",
   "execution_count": null,
   "id": "47ef1787-3c0f-49ab-a449-39f154415e9f",
   "metadata": {},
   "outputs": [],
   "source": [
    "3.Negative Indexing"
   ]
  },
  {
   "cell_type": "code",
   "execution_count": null,
   "id": "69400662-d2a0-4d44-b56a-9a23f838708e",
   "metadata": {},
   "outputs": [],
   "source": [
    "give negative index to start the end of the string "
   ]
  },
  {
   "cell_type": "code",
   "execution_count": null,
   "id": "695f2dc5-90ba-43a2-87dd-28756b54a34f",
   "metadata": {},
   "outputs": [],
   "source": [
    "python\n",
    "-6-5-4-3-2-1"
   ]
  },
  {
   "cell_type": "code",
   "execution_count": 258,
   "id": "ae604656-d157-4a1b-bb06-4391d2e177f8",
   "metadata": {},
   "outputs": [
    {
     "name": "stdout",
     "output_type": "stream",
     "text": [
      "on\n"
     ]
    }
   ],
   "source": [
    "x=\"python6776\"\n",
    "print(x[-6:-4])"
   ]
  },
  {
   "cell_type": "code",
   "execution_count": null,
   "id": "2f12b0c7-7579-4c54-b567-406e4ff7340c",
   "metadata": {},
   "outputs": [],
   "source": [
    "\"\"\"10.Modify Strings\"\"\""
   ]
  },
  {
   "cell_type": "code",
   "execution_count": null,
   "id": "8f19eae0-a2f1-4f3f-8cdd-a179b49cbd7d",
   "metadata": {},
   "outputs": [],
   "source": [
    "Pthon have a set built in methods that you can use on strings"
   ]
  },
  {
   "cell_type": "code",
   "execution_count": null,
   "id": "c7819c41-9596-49cf-ac5a-e998d5ddebf7",
   "metadata": {},
   "outputs": [],
   "source": [
    "1.Upper Case"
   ]
  },
  {
   "cell_type": "code",
   "execution_count": null,
   "id": "b71bb576-aaf8-4588-9099-8158d55bf61c",
   "metadata": {},
   "outputs": [],
   "source": [
    "The upper() method  returns the upper case string"
   ]
  },
  {
   "cell_type": "code",
   "execution_count": 260,
   "id": "41dc1c19-9c23-4939-9a62-4d7dfdd3843c",
   "metadata": {},
   "outputs": [
    {
     "name": "stdout",
     "output_type": "stream",
     "text": [
      "HELLO WORLS\n"
     ]
    }
   ],
   "source": [
    "a=\"Hello Worls\"\n",
    "print(a.upper())"
   ]
  },
  {
   "cell_type": "code",
   "execution_count": null,
   "id": "bd73745d-6f60-441e-b8f5-2cfdb8423e3b",
   "metadata": {},
   "outputs": [],
   "source": [
    "2.Lower Case"
   ]
  },
  {
   "cell_type": "code",
   "execution_count": null,
   "id": "8f66527d-4fb8-46d3-b500-71db9b09ccb3",
   "metadata": {},
   "outputs": [],
   "source": [
    "The lower() method returns the string in lower case:"
   ]
  },
  {
   "cell_type": "code",
   "execution_count": 278,
   "id": "6e6a6e95-3677-46f4-ab2b-dc275da946cc",
   "metadata": {},
   "outputs": [
    {
     "name": "stdout",
     "output_type": "stream",
     "text": [
      "hello, world!\n"
     ]
    }
   ],
   "source": [
    "a = \"Hello, World!\"\n",
    "print(a.lower())"
   ]
  },
  {
   "cell_type": "code",
   "execution_count": null,
   "id": "818155fb-0653-4f76-8d71-47fe53d7bca6",
   "metadata": {},
   "outputs": [],
   "source": [
    "3.Remove Whitespace"
   ]
  },
  {
   "cell_type": "code",
   "execution_count": null,
   "id": "2d057a10-c396-4981-9495-a1f5f9b7ab78",
   "metadata": {},
   "outputs": [],
   "source": [
    "The strip method removes the white spaces from the begging or the end:"
   ]
  },
  {
   "cell_type": "code",
   "execution_count": 270,
   "id": "90c1fb14-c0b6-4903-8b31-f7185ba28dd3",
   "metadata": {},
   "outputs": [
    {
     "name": "stdout",
     "output_type": "stream",
     "text": [
      "Hell World!\n"
     ]
    }
   ],
   "source": [
    "a=\" Hell World! \"\n",
    "print(a.strip())"
   ]
  },
  {
   "cell_type": "code",
   "execution_count": null,
   "id": "60f9b867-351b-420e-95ec-e0dfd365cdd8",
   "metadata": {},
   "outputs": [],
   "source": [
    "4.Replace String"
   ]
  },
  {
   "cell_type": "code",
   "execution_count": null,
   "id": "a632e3cd-10f6-4d02-8353-dd9d6b459f24",
   "metadata": {},
   "outputs": [],
   "source": [
    "The replace() method used to replaces a string with another string:"
   ]
  },
  {
   "cell_type": "code",
   "execution_count": 274,
   "id": "3671427a-20dc-4521-af6a-e7405e4fb9a9",
   "metadata": {},
   "outputs": [
    {
     "name": "stdout",
     "output_type": "stream",
     "text": [
      "HI World\n"
     ]
    }
   ],
   "source": [
    "a=\"Hello World\"\n",
    "print(a.replace(\"Hello\",\"HI\"))"
   ]
  },
  {
   "cell_type": "code",
   "execution_count": null,
   "id": "a60adec8-bfa3-4897-a0ce-79e83a8ea4a0",
   "metadata": {},
   "outputs": [],
   "source": [
    "5.Split String"
   ]
  },
  {
   "cell_type": "code",
   "execution_count": null,
   "id": "94b4d209-8001-4da1-9af5-3531e2f68953",
   "metadata": {},
   "outputs": [],
   "source": [
    "The split() method returns a list where the txt between the specified sepeartoe becomes the list items"
   ]
  },
  {
   "cell_type": "code",
   "execution_count": 286,
   "id": "cb238a9b-5388-4033-88e8-79a82727ca6c",
   "metadata": {},
   "outputs": [
    {
     "name": "stdout",
     "output_type": "stream",
     "text": [
      "['Hello ', ' World']\n"
     ]
    }
   ],
   "source": [
    "a=\"Hello , World\"\n",
    "print(a.split(\",\"))"
   ]
  },
  {
   "cell_type": "code",
   "execution_count": null,
   "id": "4a4a338f-35f8-4267-a276-b5105547e246",
   "metadata": {},
   "outputs": [],
   "source": [
    "\"\"\"11. String Conactination\"\"\""
   ]
  },
  {
   "cell_type": "code",
   "execution_count": null,
   "id": "868e322c-4508-441c-84e4-8cc34d2f4264",
   "metadata": {},
   "outputs": [],
   "source": [
    "To conacte or combine two strings by using + operator"
   ]
  },
  {
   "cell_type": "code",
   "execution_count": 288,
   "id": "bf6c7a09-e47a-421e-b960-cc47f738ee76",
   "metadata": {},
   "outputs": [
    {
     "name": "stdout",
     "output_type": "stream",
     "text": [
      "srinuvasulu\n"
     ]
    }
   ],
   "source": [
    "a=\"srinu\"\n",
    "b=\"vasulu\"\n",
    "print(a+b)"
   ]
  },
  {
   "cell_type": "code",
   "execution_count": null,
   "id": "926b18cd-58d1-411b-b8ae-9d04091b533a",
   "metadata": {},
   "outputs": [],
   "source": [
    "To add a space between them, add a \" \":"
   ]
  },
  {
   "cell_type": "code",
   "execution_count": 290,
   "id": "8b0c290f-1f52-4ec5-86f6-49b48dbd69b4",
   "metadata": {},
   "outputs": [
    {
     "name": "stdout",
     "output_type": "stream",
     "text": [
      "srinu vasulu\n"
     ]
    }
   ],
   "source": [
    "a=\"srinu\"\n",
    "b=\"vasulu\"\n",
    "print(a+ \" \"+b) #spaces "
   ]
  },
  {
   "cell_type": "code",
   "execution_count": null,
   "id": "663af24e-8acd-4d58-b93f-5a39042da766",
   "metadata": {},
   "outputs": [],
   "source": [
    "\"\"\"12.string format\"\"\""
   ]
  },
  {
   "cell_type": "code",
   "execution_count": null,
   "id": "a269a4a7-38d8-4d37-bc0f-fbc4a2748211",
   "metadata": {},
   "outputs": [],
   "source": [
    "As we learned in the Python Variables chapter, we cannot combine strings and numbers like this:"
   ]
  },
  {
   "cell_type": "code",
   "execution_count": 292,
   "id": "8f45087c-0389-42f1-86ad-b1d503cfebf8",
   "metadata": {},
   "outputs": [
    {
     "ename": "TypeError",
     "evalue": "can only concatenate str (not \"int\") to str",
     "output_type": "error",
     "traceback": [
      "\u001b[1;31m---------------------------------------------------------------------------\u001b[0m",
      "\u001b[1;31mTypeError\u001b[0m                                 Traceback (most recent call last)",
      "Cell \u001b[1;32mIn[292], line 2\u001b[0m\n\u001b[0;32m      1\u001b[0m age\u001b[38;5;241m=\u001b[39m\u001b[38;5;241m12\u001b[39m\n\u001b[1;32m----> 2\u001b[0m txt\u001b[38;5;241m=\u001b[39m\u001b[38;5;124m\"\u001b[39m\u001b[38;5;124mMy name is\u001b[39m\u001b[38;5;124m\"\u001b[39m\u001b[38;5;241m+\u001b[39mage\n\u001b[0;32m      3\u001b[0m txt\n",
      "\u001b[1;31mTypeError\u001b[0m: can only concatenate str (not \"int\") to str"
     ]
    }
   ],
   "source": [
    "age=12\n",
    "txt=\"My name is\"+age\n",
    "txt"
   ]
  },
  {
   "cell_type": "code",
   "execution_count": null,
   "id": "02594a39-e2bc-4b09-9e51-81cc19b9b623",
   "metadata": {},
   "outputs": [],
   "source": [
    "But we can combine strings with int by suing foramat() method"
   ]
  },
  {
   "cell_type": "code",
   "execution_count": null,
   "id": "81395088-ae74-4ad4-a992-76ce5e9dfdbe",
   "metadata": {},
   "outputs": [],
   "source": [
    "to specify the F=string simply put an f in front of string literal,add curly brackets {} as placeholders for variables and other operations."
   ]
  },
  {
   "cell_type": "code",
   "execution_count": 294,
   "id": "42755e50-1869-4ad0-b682-3348f7728a14",
   "metadata": {},
   "outputs": [
    {
     "name": "stdout",
     "output_type": "stream",
     "text": [
      "I am big fan,My age is72\n"
     ]
    }
   ],
   "source": [
    "age=72\n",
    "txt=f\"I am big fan,My age is{age}\"\n",
    "print(txt)"
   ]
  },
  {
   "cell_type": "code",
   "execution_count": null,
   "id": "af8bb023-5dae-44ef-a098-abd4bbd813e4",
   "metadata": {},
   "outputs": [],
   "source": [
    "1.Placeholders and Modifiers"
   ]
  },
  {
   "cell_type": "code",
   "execution_count": null,
   "id": "133755db-514c-4bd7-a1a7-8e1b8fcd192e",
   "metadata": {},
   "outputs": [],
   "source": [
    "A placeholder can contain variables, operations, functions, and modifiers to format the value."
   ]
  },
  {
   "cell_type": "code",
   "execution_count": 298,
   "id": "43542b32-6220-4828-a928-135ff2b09b86",
   "metadata": {},
   "outputs": [
    {
     "data": {
      "text/plain": [
       "'The Price is 59 dollers'"
      ]
     },
     "execution_count": 298,
     "metadata": {},
     "output_type": "execute_result"
    }
   ],
   "source": [
    "# Add a placeholder for the price variable:\n",
    "price=59\n",
    "txt=f\"The Price is {price} dollers\"\n",
    "txt"
   ]
  },
  {
   "cell_type": "code",
   "execution_count": null,
   "id": "22e9e2f2-f97b-414b-b2c9-5a0c1a6fd160",
   "metadata": {},
   "outputs": [],
   "source": [
    "A placeholder can include a modifier to format the value."
   ]
  },
  {
   "cell_type": "code",
   "execution_count": null,
   "id": "624e1e8c-6030-426d-81da-8762cda34ee7",
   "metadata": {},
   "outputs": [],
   "source": [
    "A modifier is included by adding a colon :\n",
    "followed by a legal formatting type, like .2f which means\n",
    "fixed point number with 2 decimals:"
   ]
  },
  {
   "cell_type": "code",
   "execution_count": 306,
   "id": "cecc4649-1801-4663-964d-8b2be6f69b06",
   "metadata": {},
   "outputs": [
    {
     "data": {
      "text/plain": [
       "'I am big fan 23.00000 '"
      ]
     },
     "execution_count": 306,
     "metadata": {},
     "output_type": "execute_result"
    }
   ],
   "source": [
    "price =23\n",
    "txt=f\"I am big fan {price:.5f} \"# it difines with float points\n",
    "txt"
   ]
  },
  {
   "cell_type": "code",
   "execution_count": null,
   "id": "bf833abc-2aa5-4022-ad81-d4fcae0aa306",
   "metadata": {},
   "outputs": [],
   "source": [
    "Perform a math operation in the placeholder, and return the result:"
   ]
  },
  {
   "cell_type": "code",
   "execution_count": 308,
   "id": "e8264ae8-ce1a-4c75-84e2-54e2e2f354b2",
   "metadata": {},
   "outputs": [
    {
     "data": {
      "text/plain": [
       "'The price is 230'"
      ]
     },
     "execution_count": 308,
     "metadata": {},
     "output_type": "execute_result"
    }
   ],
   "source": [
    "txt=f\"The price is {price*10}\"\n",
    "txt"
   ]
  },
  {
   "cell_type": "code",
   "execution_count": null,
   "id": "0a52c66a-eb29-4643-aeb6-f3decd26d83c",
   "metadata": {},
   "outputs": [],
   "source": [
    "\"\"\"13.Escape Characters\"\"\""
   ]
  },
  {
   "cell_type": "code",
   "execution_count": null,
   "id": "caabee9f-e666-4da8-8a35-01bb9843d314",
   "metadata": {},
   "outputs": [],
   "source": [
    "To insert characters that are illegal in a string, use an escape character.\n"
   ]
  },
  {
   "cell_type": "code",
   "execution_count": null,
   "id": "76f5fe4d-5e17-4380-ae9e-b647df5d50a9",
   "metadata": {},
   "outputs": [],
   "source": [
    "An escape character is a backslash \\ followed by the character you want to insert.\n"
   ]
  },
  {
   "cell_type": "code",
   "execution_count": 310,
   "id": "9ae0a8a5-fdd6-4e76-9372-581cb661cb9d",
   "metadata": {},
   "outputs": [
    {
     "ename": "SyntaxError",
     "evalue": "invalid syntax (3959930686.py, line 1)",
     "output_type": "error",
     "traceback": [
      "\u001b[1;36m  Cell \u001b[1;32mIn[310], line 1\u001b[1;36m\u001b[0m\n\u001b[1;33m    txt=\"I as am srini \"srinu\" egr\"\u001b[0m\n\u001b[1;37m                        ^\u001b[0m\n\u001b[1;31mSyntaxError\u001b[0m\u001b[1;31m:\u001b[0m invalid syntax\n"
     ]
    }
   ],
   "source": [
    "txt=\"I as am srini \"srinu\" egr\"\n",
    "txt"
   ]
  },
  {
   "cell_type": "code",
   "execution_count": null,
   "id": "6b8cd861-f2ba-4e65-955c-7a27decfb69c",
   "metadata": {},
   "outputs": [],
   "source": [
    "backslash \\\"string\\\""
   ]
  },
  {
   "cell_type": "code",
   "execution_count": 312,
   "id": "7a71d37e-d929-4c5a-a81d-8e8a173c4901",
   "metadata": {},
   "outputs": [
    {
     "data": {
      "text/plain": [
       "'string i am string \"hi vasu\" before'"
      ]
     },
     "execution_count": 312,
     "metadata": {},
     "output_type": "execute_result"
    }
   ],
   "source": [
    "txt=\"string i am string \\\"hi vasu\\\" before\"\n",
    "txt"
   ]
  },
  {
   "cell_type": "code",
   "execution_count": null,
   "id": "bc3e42d8-bd4a-4adf-beb5-00a57270c9fe",
   "metadata": {},
   "outputs": [],
   "source": [
    "1.\\'\tSingle Quote"
   ]
  },
  {
   "cell_type": "code",
   "execution_count": 321,
   "id": "23ad1ffa-1034-4e4a-9070-95120c4bab24",
   "metadata": {},
   "outputs": [
    {
     "data": {
      "text/plain": [
       "\"It's greate\""
      ]
     },
     "execution_count": 321,
     "metadata": {},
     "output_type": "execute_result"
    }
   ],
   "source": [
    "txt=\"It's greate\"\n",
    "txt"
   ]
  },
  {
   "cell_type": "code",
   "execution_count": 325,
   "id": "af42e627-a6c2-4c61-a535-0a76ff836b95",
   "metadata": {},
   "outputs": [
    {
     "name": "stdout",
     "output_type": "stream",
     "text": [
      "it 's greate\n"
     ]
    }
   ],
   "source": [
    "print('it \\'s greate')"
   ]
  },
  {
   "cell_type": "code",
   "execution_count": null,
   "id": "8300e8f3-d6be-4566-8d40-c3b05d9b8383",
   "metadata": {},
   "outputs": [],
   "source": [
    "2.\\\\\tBackslash"
   ]
  },
  {
   "cell_type": "code",
   "execution_count": 353,
   "id": "5beb9145-bf24-4453-b5cd-8c13650d411b",
   "metadata": {},
   "outputs": [
    {
     "name": "stdout",
     "output_type": "stream",
     "text": [
      "this will insert one \\qdw.\n"
     ]
    }
   ],
   "source": [
    "txt=\"this will insert one \\\\qdw.\"\n",
    "print(txt)"
   ]
  },
  {
   "cell_type": "code",
   "execution_count": null,
   "id": "5f4df2ea-9051-412f-b1e2-220082204791",
   "metadata": {},
   "outputs": [],
   "source": [
    "3.\\n\tNew Line"
   ]
  },
  {
   "cell_type": "code",
   "execution_count": 347,
   "id": "f30e6ee1-f636-417c-88c9-10d09e1736d4",
   "metadata": {},
   "outputs": [
    {
     "name": "stdout",
     "output_type": "stream",
     "text": [
      "this\n",
      " world\n"
     ]
    }
   ],
   "source": [
    "txt=\"this\\n world\"\n",
    "print(txt)"
   ]
  },
  {
   "cell_type": "code",
   "execution_count": null,
   "id": "64bb0177-2b52-41de-a527-fc95e037e77e",
   "metadata": {},
   "outputs": [],
   "source": [
    "4.\\r\tCarriage Return"
   ]
  },
  {
   "cell_type": "code",
   "execution_count": 355,
   "id": "fc3f6d09-c014-49b9-b938-06ec6e1eec0a",
   "metadata": {},
   "outputs": [
    {
     "name": "stdout",
     "output_type": "stream",
     "text": [
      "World!\n"
     ]
    }
   ],
   "source": [
    "txt = \"Hello\\rWorld!\" #it will print right side of the \\\n",
    "print(txt) \n"
   ]
  },
  {
   "cell_type": "code",
   "execution_count": 359,
   "id": "9a8b50ce-0d66-420a-aaf2-a7c77dbcb0f2",
   "metadata": {},
   "outputs": [
    {
     "name": "stdout",
     "output_type": "stream",
     "text": [
      "wprls\n"
     ]
    }
   ],
   "source": [
    "t=\"hi\\rwprls\"\n",
    "print(t)"
   ]
  },
  {
   "cell_type": "code",
   "execution_count": 361,
   "id": "964e6a47-02a5-4483-b5d0-db4348d5a74d",
   "metadata": {},
   "outputs": [
    {
     "name": "stdout",
     "output_type": "stream",
     "text": [
      "Hello\tWorld!\n"
     ]
    }
   ],
   "source": [
    "5.\\t\tTab\n",
    "txt = \"Hello\\tWorld!\"\n",
    "print(txt)  #It defines spacecs"
   ]
  },
  {
   "cell_type": "code",
   "execution_count": null,
   "id": "4d50e4c9-36af-4b12-8fe0-978a8e421edc",
   "metadata": {},
   "outputs": [],
   "source": [
    "6.\\b\tBackspace"
   ]
  },
  {
   "cell_type": "code",
   "execution_count": 363,
   "id": "dfc25a76-7c0e-4c2b-b812-3a3f78d38b0d",
   "metadata": {},
   "outputs": [
    {
     "name": "stdout",
     "output_type": "stream",
     "text": [
      "HelloWorld!\n"
     ]
    }
   ],
   "source": [
    "#This example erases one character (backspace):\n",
    "txt = \"Hello \\bWorld!\"\n",
    "print(txt) "
   ]
  },
  {
   "cell_type": "code",
   "execution_count": null,
   "id": "c42fa6bc-e488-4282-a8a0-1062b3cf34f0",
   "metadata": {},
   "outputs": [],
   "source": [
    "7.\\f\tForm Feed\t"
   ]
  },
  {
   "cell_type": "code",
   "execution_count": 377,
   "id": "1ebdc7b8-4aec-4499-a6ec-ea66dc4f1716",
   "metadata": {},
   "outputs": [
    {
     "name": "stdout",
     "output_type": "stream",
     "text": [
      "Hello\f",
      "world\n"
     ]
    }
   ],
   "source": [
    "txt=\"Hello\\fworld\"\n",
    "print(txt)"
   ]
  },
  {
   "cell_type": "code",
   "execution_count": null,
   "id": "2824a0d9-00b1-4ea7-803b-9fcaf9b9b9c9",
   "metadata": {},
   "outputs": [],
   "source": [
    "8.\\ooo\tOctal value"
   ]
  },
  {
   "cell_type": "code",
   "execution_count": 379,
   "id": "bfb185ec-f4a6-43f1-bbe4-f9463803def9",
   "metadata": {},
   "outputs": [
    {
     "name": "stdout",
     "output_type": "stream",
     "text": [
      "Hello\n"
     ]
    }
   ],
   "source": [
    "#A backslash followed by three integers will result in a octal value:\n",
    "txt = \"\\110\\145\\154\\154\\157\"\n",
    "print(txt)"
   ]
  },
  {
   "cell_type": "code",
   "execution_count": 395,
   "id": "9a30845c-b486-493d-a7e0-b0d47719465b",
   "metadata": {},
   "outputs": [
    {
     "data": {
      "text/plain": [
       "'SRH'"
      ]
     },
     "execution_count": 395,
     "metadata": {},
     "output_type": "execute_result"
    }
   ],
   "source": [
    "txt=\"\\123\\122\\110\"\n",
    "txt"
   ]
  },
  {
   "cell_type": "code",
   "execution_count": null,
   "id": "b4ce760f-cf16-4d87-9caf-0d9cd0fac67d",
   "metadata": {},
   "outputs": [],
   "source": [
    "9.\\xhh\tHex value"
   ]
  },
  {
   "cell_type": "code",
   "execution_count": 397,
   "id": "5f2e76d1-ce25-418d-968e-162464fe52f0",
   "metadata": {},
   "outputs": [
    {
     "name": "stdout",
     "output_type": "stream",
     "text": [
      "Hello\n"
     ]
    }
   ],
   "source": [
    "#A backslash followed by an 'x' and a hex number represents a hex value:\n",
    "txt = \"\\x48\\x65\\x6c\\x6c\\x6f\"\n",
    "print(txt) \n"
   ]
  },
  {
   "cell_type": "code",
   "execution_count": null,
   "id": "7f2933a0-bd52-4e83-89ff-4981f5c73fe0",
   "metadata": {},
   "outputs": [],
   "source": [
    "                    \"\"\"13.String Methods\"\"\""
   ]
  },
  {
   "cell_type": "code",
   "execution_count": null,
   "id": "48c51eff-ab9f-49ae-9589-892107ebbdb6",
   "metadata": {},
   "outputs": [],
   "source": [
    "Python has a set of built-in methods that you can use on strings."
   ]
  },
  {
   "cell_type": "code",
   "execution_count": null,
   "id": "c3b3f3b6-3187-41de-9ec4-b314babd959d",
   "metadata": {},
   "outputs": [],
   "source": [
    "1.capitilize():Upper case the first letter in this sentence:\n",
    "and  the rest is lower case."
   ]
  },
  {
   "cell_type": "code",
   "execution_count": 401,
   "id": "9d1344bf-fe01-413c-a7d2-b5a9dd6b676b",
   "metadata": {},
   "outputs": [
    {
     "name": "stdout",
     "output_type": "stream",
     "text": [
      "Hi hello namasthey\n"
     ]
    }
   ],
   "source": [
    "txt=\"hi hello namasthey\"\n",
    "print(txt.capitalize())"
   ]
  },
  {
   "cell_type": "code",
   "execution_count": 403,
   "id": "28b5f1ae-7926-482f-929b-8d3ef4fae47d",
   "metadata": {},
   "outputs": [
    {
     "name": "stdout",
     "output_type": "stream",
     "text": [
      "36 is my age.\n"
     ]
    }
   ],
   "source": [
    "txt = \"36 is my age.\"\n",
    "\n",
    "x = txt.capitalize()\n",
    "\n",
    "print (x)\n"
   ]
  },
  {
   "cell_type": "code",
   "execution_count": 405,
   "id": "c7bb1859-b373-4850-842e-34afb366fc56",
   "metadata": {},
   "outputs": [
    {
     "name": "stdout",
     "output_type": "stream",
     "text": [
      "Python is fun!\n"
     ]
    }
   ],
   "source": [
    "txt = \"python is FUN!\"\n",
    "\n",
    "x = txt.capitalize()\n",
    "\n",
    "print (x)"
   ]
  },
  {
   "cell_type": "code",
   "execution_count": null,
   "id": "68cdcea7-3831-492a-aa16-7d0d4dbb365b",
   "metadata": {},
   "outputs": [],
   "source": [
    "2.The casefold(): method returns a string where all the characters are lower case."
   ]
  },
  {
   "cell_type": "code",
   "execution_count": 407,
   "id": "55ce9319-5aa5-4c20-8942-257d74d777f0",
   "metadata": {},
   "outputs": [
    {
     "name": "stdout",
     "output_type": "stream",
     "text": [
      "hello, and welcome to my world!\n"
     ]
    }
   ],
   "source": [
    "txt=\"Hello, And Welcome To My World!\"\n",
    "print(txt.casefold()) #every letter should be lowercase"
   ]
  },
  {
   "cell_type": "code",
   "execution_count": null,
   "id": "4382c88e-5227-4467-bfbe-6dd126211494",
   "metadata": {},
   "outputs": [],
   "source": [
    "3.center():The center() method will center align the string, using a specified character (space is default) as the fill character.\n",
    "syntax:\n",
    "string.center(length, character)"
   ]
  },
  {
   "cell_type": "code",
   "execution_count": 435,
   "id": "7f56c633-92b8-4a6b-b4b5-833c43e5aa6a",
   "metadata": {},
   "outputs": [
    {
     "name": "stdout",
     "output_type": "stream",
     "text": [
      "*******banana*******\n"
     ]
    }
   ],
   "source": [
    "#Print the word \"banana\", taking up the space of 20 characters, with \"banana\" in the middle:\n",
    "\n",
    "txt=\"banana\"\n",
    "x=txt.center(20,\"*\")\n",
    "print(x)"
   ]
  },
  {
   "cell_type": "code",
   "execution_count": null,
   "id": "4d592550-dd9c-4f56-bab4-7adeba530545",
   "metadata": {},
   "outputs": [],
   "source": [
    "4.count():The count() method returns the number of times a specified value appears in the string.\n",
    "syntax:\n",
    "    string.count(value, start, end)"
   ]
  },
  {
   "cell_type": "code",
   "execution_count": null,
   "id": "ad49b415-d5fb-4fb6-81e5-0f887eb950c5",
   "metadata": {},
   "outputs": [],
   "source": [
    "# Return the number of times the value \"apple\" appears in the string:"
   ]
  },
  {
   "cell_type": "code",
   "execution_count": 463,
   "id": "85ff14de-ef77-4d9e-b05d-9528894b7f1d",
   "metadata": {},
   "outputs": [
    {
     "name": "stdout",
     "output_type": "stream",
     "text": [
      "2\n",
      "3\n",
      "1\n",
      "1\n"
     ]
    }
   ],
   "source": [
    "txt=\"I love apple,apple is good for health\"\n",
    "print(txt.count(\"apple\"))\n",
    "print(txt.count(\"a\"))\n",
    "print(txt.count(\"I\"))\n",
    "print(txt.count(\"apple\",10,24)) #position\n"
   ]
  },
  {
   "cell_type": "code",
   "execution_count": null,
   "id": "48439004-e31b-4099-b596-985b13ed6632",
   "metadata": {},
   "outputs": [],
   "source": [
    "5.encode():The encode() method encodes the string, using the specified encoding. If no encoding is specified, UTF-8 will be used.\n",
    "Syntax\n",
    "string.encode(encoding=encoding, errors=errors)"
   ]
  },
  {
   "cell_type": "code",
   "execution_count": 495,
   "id": "786d70b8-bf17-449d-bdbe-109674649c91",
   "metadata": {},
   "outputs": [
    {
     "name": "stdout",
     "output_type": "stream",
     "text": [
      "b'My name is St\\\\xe5le'\n",
      "b'My name is Stle'\n",
      "b'My name is St\\\\N{LATIN SMALL LETTER A WITH RING ABOVE}le'\n",
      "b'My name is St?le'\n",
      "b'My name is St&#229;le'\n"
     ]
    }
   ],
   "source": [
    "txt = \"My name is Ståle\"# a is differet\n",
    "\n",
    "print(txt.encode(encoding=\"ascii\",errors=\"backslashreplace\"))\n",
    "print(txt.encode(encoding=\"ascii\",errors=\"ignore\"))\n",
    "print(txt.encode(encoding=\"ascii\",errors=\"namereplace\"))\n",
    "print(txt.encode(encoding=\"ascii\",errors=\"replace\"))\n",
    "print(txt.encode(encoding=\"ascii\",errors=\"xmlcharrefreplace\"))\n"
   ]
  },
  {
   "cell_type": "code",
   "execution_count": null,
   "id": "a51ae19b-4c76-48e2-838e-12af59006394",
   "metadata": {},
   "outputs": [],
   "source": [
    "6.endswith():The endswith() method returns True if the string ends with the specified value, otherwise False.\n",
    "Syntax\n",
    "string.endswith(value, start, end)"
   ]
  },
  {
   "cell_type": "code",
   "execution_count": null,
   "id": "7b7810bf-8025-4d36-8645-32f2a4b35f82",
   "metadata": {},
   "outputs": [],
   "source": [
    "Check if the string ends with a punctuation sign (.):"
   ]
  },
  {
   "cell_type": "code",
   "execution_count": null,
   "id": "343de01e-9181-4815-9f7d-456659c8559b",
   "metadata": {},
   "outputs": [],
   "source": []
  },
  {
   "cell_type": "code",
   "execution_count": 469,
   "id": "a4b12f84-13ee-44b4-b710-019272d9cb0a",
   "metadata": {},
   "outputs": [
    {
     "name": "stdout",
     "output_type": "stream",
     "text": [
      "True\n"
     ]
    }
   ],
   "source": [
    "txt=\"Hello,welcome to my world.\"\n",
    "print(txt.endswith(\".\"))"
   ]
  },
  {
   "cell_type": "code",
   "execution_count": null,
   "id": "4b773ec0-9111-45fe-a621-54125f292c35",
   "metadata": {},
   "outputs": [],
   "source": [
    "Check if the string ends with the phrase \"my world.\":"
   ]
  },
  {
   "cell_type": "code",
   "execution_count": 473,
   "id": "580744b7-1c9f-4d44-a799-8c117ca4499f",
   "metadata": {},
   "outputs": [
    {
     "name": "stdout",
     "output_type": "stream",
     "text": [
      "True\n"
     ]
    }
   ],
   "source": [
    "txt=\"Hello,welcome to my world.\"\n",
    "print(txt.endswith(\"my world.\"))"
   ]
  },
  {
   "cell_type": "code",
   "execution_count": null,
   "id": "d6b8e8d9-2756-4fc2-9ea4-7ca66f978496",
   "metadata": {},
   "outputs": [],
   "source": [
    "Check if position 5 to 11 ends with the phrase \"my world.\":"
   ]
  },
  {
   "cell_type": "code",
   "execution_count": 491,
   "id": "57440709-9b93-4788-846a-c67b046037f0",
   "metadata": {},
   "outputs": [
    {
     "name": "stdout",
     "output_type": "stream",
     "text": [
      "False\n"
     ]
    }
   ],
   "source": [
    "txt=\"Hello,welcome to my world.\"\n",
    "print(txt.endswith(\"my world.\",19,24))"
   ]
  },
  {
   "cell_type": "code",
   "execution_count": null,
   "id": "19740c1d-e721-4ff2-80c1-8197445b674b",
   "metadata": {},
   "outputs": [],
   "source": [
    "7.expandtabs():The expandtabs() method sets the tab size to the specified number of whitespaces.\n",
    "string.expandtabs(tabsize)"
   ]
  },
  {
   "cell_type": "code",
   "execution_count": 501,
   "id": "cc69c4ff-5f7d-4e3e-92d8-d1bd0d721f1f",
   "metadata": {},
   "outputs": [
    {
     "name": "stdout",
     "output_type": "stream",
     "text": [
      "H\te\tl\tl\to\n",
      "H       e       l       l       o\n",
      "H  e  l  l  o\n",
      "H   e   l   l   o\n",
      "H         e         l         l         o\n"
     ]
    }
   ],
   "source": [
    "txt = \"H\\te\\tl\\tl\\to\"\n",
    "\n",
    "print(txt)\n",
    "print(txt.expandtabs())\n",
    "print(txt.expandtabs(2))\n",
    "print(txt.expandtabs(4))\n",
    "print(txt.expandtabs(10))\n"
   ]
  },
  {
   "cell_type": "code",
   "execution_count": null,
   "id": "8911d8fa-5234-49f3-bd8d-9068c0740613",
   "metadata": {},
   "outputs": [],
   "source": [
    "8.find():The find() method finds the first occurrence of the specified value.\n",
    "\n",
    "The find() method returns -1 if the value is not found.\n",
    "\n",
    "The find() method is almost the same as the index() method, the only difference is that the index() method raises an exception if the value is not found. (See example below)"
   ]
  },
  {
   "cell_type": "code",
   "execution_count": null,
   "id": "9788ce0c-8655-45aa-b18e-0914089592c8",
   "metadata": {},
   "outputs": [],
   "source": [
    "string.find(value, start, end)"
   ]
  },
  {
   "cell_type": "code",
   "execution_count": 503,
   "id": "97590037-ae3c-4f89-bc4a-eaada0089fc9",
   "metadata": {},
   "outputs": [
    {
     "name": "stdout",
     "output_type": "stream",
     "text": [
      "6\n"
     ]
    }
   ],
   "source": [
    "txt=\"Hello,welcome to my world.\"\n",
    "print(txt.find(\"welcome\"))"
   ]
  },
  {
   "cell_type": "code",
   "execution_count": null,
   "id": "4f64cbcd-4051-4b98-9628-423c5a65a398",
   "metadata": {},
   "outputs": [],
   "source": [
    "Where in the text is the first occurrence of the letter \"e\" when you only search between position 5 and 10?:"
   ]
  },
  {
   "cell_type": "code",
   "execution_count": 509,
   "id": "5f677147-6be9-44c5-976a-4ed103620072",
   "metadata": {},
   "outputs": [
    {
     "name": "stdout",
     "output_type": "stream",
     "text": [
      "7\n"
     ]
    }
   ],
   "source": [
    "txt=\"Hello,welcome to my world.\"\n",
    "print(txt.find(\"e\",5,15))"
   ]
  },
  {
   "cell_type": "code",
   "execution_count": null,
   "id": "c15ae4f8-6b4f-4295-81aa-9226f3f5f534",
   "metadata": {},
   "outputs": [],
   "source": [
    "Where in the text is the first occurrence of the letter \"e\"?:\n",
    "txt = \"Hello, welcome to my world.\"\n",
    "\n",
    "x = txt.find(\"e\")\n",
    "\n",
    "print(x)"
   ]
  },
  {
   "cell_type": "code",
   "execution_count": null,
   "id": "7cdd87f5-2310-4538-98db-19637acd9d74",
   "metadata": {},
   "outputs": [],
   "source": [
    "If the value is not found, the find() method returns -1,\n",
    "but the index() method will raise an exception:"
   ]
  },
  {
   "cell_type": "code",
   "execution_count": 511,
   "id": "247517ae-aeb2-4483-a858-9623225ae78b",
   "metadata": {},
   "outputs": [
    {
     "name": "stdout",
     "output_type": "stream",
     "text": [
      "-1\n"
     ]
    },
    {
     "ename": "ValueError",
     "evalue": "substring not found",
     "output_type": "error",
     "traceback": [
      "\u001b[1;31m---------------------------------------------------------------------------\u001b[0m",
      "\u001b[1;31mValueError\u001b[0m                                Traceback (most recent call last)",
      "Cell \u001b[1;32mIn[511], line 4\u001b[0m\n\u001b[0;32m      1\u001b[0m txt \u001b[38;5;241m=\u001b[39m \u001b[38;5;124m\"\u001b[39m\u001b[38;5;124mHello, welcome to my world.\u001b[39m\u001b[38;5;124m\"\u001b[39m\n\u001b[0;32m      3\u001b[0m \u001b[38;5;28mprint\u001b[39m(txt\u001b[38;5;241m.\u001b[39mfind(\u001b[38;5;124m\"\u001b[39m\u001b[38;5;124mq\u001b[39m\u001b[38;5;124m\"\u001b[39m))\n\u001b[1;32m----> 4\u001b[0m \u001b[38;5;28mprint\u001b[39m(txt\u001b[38;5;241m.\u001b[39mindex(\u001b[38;5;124m\"\u001b[39m\u001b[38;5;124mq\u001b[39m\u001b[38;5;124m\"\u001b[39m))\n",
      "\u001b[1;31mValueError\u001b[0m: substring not found"
     ]
    }
   ],
   "source": [
    "txt = \"Hello, welcome to my world.\"\n",
    "\n",
    "print(txt.find(\"q\"))\n",
    "print(txt.index(\"q\"))"
   ]
  },
  {
   "cell_type": "code",
   "execution_count": null,
   "id": "1a9e022b-3474-4e4d-8a4c-1a24e87a3441",
   "metadata": {},
   "outputs": [],
   "source": [
    "9.format():The format() method formats the specified value(s) and insert them inside the string's placeholder.\n",
    "placeholder is defined using curly {} Read more about the placehlders in the placeholder section below\n",
    "the format() returns the formatted string"
   ]
  },
  {
   "cell_type": "code",
   "execution_count": null,
   "id": "a5712922-1afe-425e-90ea-ca4b0402faf2",
   "metadata": {},
   "outputs": [],
   "source": [
    "string.format(value1, value2...)"
   ]
  },
  {
   "cell_type": "code",
   "execution_count": 517,
   "id": "5ce8770f-7f98-45ee-bd9e-563cac2c5207",
   "metadata": {},
   "outputs": [
    {
     "name": "stdout",
     "output_type": "stream",
     "text": [
      "For only49.00dolers\n"
     ]
    }
   ],
   "source": [
    "txt=\"For only {price:.2f} dolers\"\n",
    "print(txt.format(price=49))"
   ]
  },
  {
   "cell_type": "code",
   "execution_count": 531,
   "id": "f2657900-3651-436f-a084-54590acd7437",
   "metadata": {},
   "outputs": [
    {
     "name": "stdout",
     "output_type": "stream",
     "text": [
      "i am bid 68 is big\n"
     ]
    }
   ],
   "source": [
    "price=23\n",
    "x=f\"i am bid {price+45} is big\"\n",
    "print(x)"
   ]
  },
  {
   "cell_type": "code",
   "execution_count": 535,
   "id": "eee386f4-d07a-4317-9add-7044c27d3cf5",
   "metadata": {},
   "outputs": [
    {
     "name": "stdout",
     "output_type": "stream",
     "text": [
      "My name is sriu,I am 9\n"
     ]
    }
   ],
   "source": [
    "#named indexes:\n",
    "txt1=\"My name is {fname},I am {age}\".format(fname=\"sriu\",age=9)\n",
    "print(txt1)"
   ]
  },
  {
   "cell_type": "code",
   "execution_count": 537,
   "id": "97da73c9-02cc-4e71-bf83-c40b5b03934e",
   "metadata": {},
   "outputs": [
    {
     "data": {
      "text/plain": [
       "\"My name is john, I'am 76.\""
      ]
     },
     "execution_count": 537,
     "metadata": {},
     "output_type": "execute_result"
    }
   ],
   "source": [
    "#numbered indexes:\n",
    "txt2=\"My name is {0}, I'am {1}.\".format(\"john\",76)\n",
    "txt2"
   ]
  },
  {
   "cell_type": "code",
   "execution_count": 539,
   "id": "3476c573-904f-4cc9-b05c-e30b7cee92db",
   "metadata": {},
   "outputs": [
    {
     "name": "stdout",
     "output_type": "stream",
     "text": [
      " I am john big 23\n"
     ]
    }
   ],
   "source": [
    "#empty placeholders:\n",
    "txt3=\" I am {} big {}\".format(\"john\",23)\n",
    "print(txt3)"
   ]
  },
  {
   "cell_type": "code",
   "execution_count": 541,
   "id": "d6ecdb75-4bf1-47ab-bb8a-2768ca181509",
   "metadata": {},
   "outputs": [
    {
     "name": "stdout",
     "output_type": "stream",
     "text": [
      "We have 49       chickens.\n"
     ]
    }
   ],
   "source": [
    "#To demonstrate, we insert the number 8 to set the available space for the value to 8 characters.\n",
    "\n",
    "#Use \"<\" to left-align the value:\n",
    "\n",
    "txt = \"We have {:<8} chickens.\"\n",
    "print(txt.format(49))\n"
   ]
  },
  {
   "cell_type": "code",
   "execution_count": 543,
   "id": "5321755a-a6b8-40f5-9132-446c8f7fd80e",
   "metadata": {},
   "outputs": [
    {
     "name": "stdout",
     "output_type": "stream",
     "text": [
      "We have       49 chickens.\n"
     ]
    }
   ],
   "source": [
    "#To demonstrate, we insert the number 8 to set the available space for the value to 8 characters.\n",
    "\n",
    "#Use \">\" to right-align the value:\n",
    "\n",
    "txt = \"We have {:>8} chickens.\"\n",
    "print(txt.format(49))"
   ]
  },
  {
   "cell_type": "code",
   "execution_count": 553,
   "id": "83bf9bf8-b9a9-44eb-b241-a77a22bd59b0",
   "metadata": {},
   "outputs": [
    {
     "name": "stdout",
     "output_type": "stream",
     "text": [
      "We have   49    chickens.\n"
     ]
    }
   ],
   "source": [
    "#Use \"^\" to center-align the value:\n",
    "\n",
    "txt = \"We have {:^7} chickens.\"\n",
    "print(txt.format(49))"
   ]
  },
  {
   "cell_type": "code",
   "execution_count": 549,
   "id": "42bd23ad-3230-4e39-817f-96ce70493ebf",
   "metadata": {},
   "outputs": [
    {
     "name": "stdout",
     "output_type": "stream",
     "text": [
      "The temperature is -5 degrees celsius.\n"
     ]
    }
   ],
   "source": [
    "#Use \"=\" to place the plus/minus sign at the left most position:\n",
    "\n",
    "txt = \"The temperature is {:=} degrees celsius.\"\n",
    "\n",
    "print(txt.format(-5))"
   ]
  },
  {
   "cell_type": "code",
   "execution_count": 555,
   "id": "7a3b66b1-2695-4ba4-a120-2c11c43c9ef3",
   "metadata": {},
   "outputs": [
    {
     "name": "stdout",
     "output_type": "stream",
     "text": [
      "The temperature is between -3 and +7 degrees celsius.\n"
     ]
    }
   ],
   "source": [
    "#Use \"+\" to always indicate if the number is positive or negative:\n",
    "\n",
    "txt = \"The temperature is between {:+} and {:+} degrees celsius.\"\n",
    "\n",
    "print(txt.format(-3, 7))"
   ]
  },
  {
   "cell_type": "code",
   "execution_count": 557,
   "id": "ae2b7053-441b-427a-aefb-ba2968145e21",
   "metadata": {},
   "outputs": [
    {
     "name": "stdout",
     "output_type": "stream",
     "text": [
      "The temperature is between -3 and 7 degrees celsius.\n"
     ]
    }
   ],
   "source": [
    "#Use \"-\" to always indicate if the number is negative (positive numbers are displayed without any sign):\n",
    "\n",
    "txt = \"The temperature is between {:-} and {:-} degrees celsius.\"\n",
    "\n",
    "print(txt.format(-3, 7))\n"
   ]
  },
  {
   "cell_type": "code",
   "execution_count": 569,
   "id": "69a0fc01-ec39-44ae-a994-5cd594e7f94a",
   "metadata": {},
   "outputs": [
    {
     "name": "stdout",
     "output_type": "stream",
     "text": [
      "The temperature is between -3 and 7 degrees celsius.\n"
     ]
    }
   ],
   "source": [
    "#Use \" \" (a space) to insert a space before positive numbers and a minus sign before negative numbers:\n",
    "\n",
    "txt = \"The temperature is between {: } and {:} degrees celsius.\"\n",
    "\n",
    "print(txt.format(-3, 7))"
   ]
  },
  {
   "cell_type": "code",
   "execution_count": 571,
   "id": "5d13fd7d-0f0d-496d-a63b-afd36ed4c3e4",
   "metadata": {},
   "outputs": [
    {
     "name": "stdout",
     "output_type": "stream",
     "text": [
      "The universe is 13,800,000,000 years old.\n"
     ]
    }
   ],
   "source": [
    "#Use \",\" to add a comma as a thousand separator:\n",
    "\n",
    "txt = \"The universe is {:,} years old.\"\n",
    "\n",
    "print(txt.format(13800000000))"
   ]
  },
  {
   "cell_type": "code",
   "execution_count": 573,
   "id": "98cd5e47-09f9-4f87-8d37-534b4b7ece9e",
   "metadata": {},
   "outputs": [
    {
     "name": "stdout",
     "output_type": "stream",
     "text": [
      "The universe is 13_800_000_000 years old.\n"
     ]
    }
   ],
   "source": [
    "#Use \"_\" to add a underscore character as a thousand separator:\n",
    "\n",
    "txt = \"The universe is {:_} years old.\"\n",
    "\n",
    "print(txt.format(13800000000))"
   ]
  },
  {
   "cell_type": "code",
   "execution_count": 585,
   "id": "78e01f7b-8e4a-4c44-bce7-9bb7f88d92a9",
   "metadata": {},
   "outputs": [
    {
     "name": "stdout",
     "output_type": "stream",
     "text": [
      "The binary version of 10 is 1010\n"
     ]
    }
   ],
   "source": [
    "#Use \"b\" to convert the number into binary format:\n",
    "\n",
    "txt = \"The binary version of {0} is {0:b}\"\n",
    "\n",
    "print(txt.format(10))"
   ]
  },
  {
   "cell_type": "code",
   "execution_count": 587,
   "id": "acf77a0b-45be-4e9a-b096-ba63eae0b648",
   "metadata": {},
   "outputs": [
    {
     "name": "stdout",
     "output_type": "stream",
     "text": [
      "The binary version of 10 is \n",
      "\n"
     ]
    }
   ],
   "source": [
    "txt = \"The binary version of {0} is {0:c}\"#\tConverts the value into the corresponding unicode character\n",
    "\n",
    "print(txt.format(10))"
   ]
  },
  {
   "cell_type": "code",
   "execution_count": 589,
   "id": "bcebfd04-5b0e-42c1-b1ec-c6cfbbb666ca",
   "metadata": {},
   "outputs": [
    {
     "name": "stdout",
     "output_type": "stream",
     "text": [
      "We have 5 chickens.\n"
     ]
    }
   ],
   "source": [
    "#Use \"d\" to convert a number, in this case a binary number, into decimal number format:\n",
    "\n",
    "txt = \"We have {:d} chickens.\"\n",
    "print(txt.format(0b101))\n"
   ]
  },
  {
   "cell_type": "code",
   "execution_count": 591,
   "id": "26836fd8-e33e-411e-b83e-b6ec6cc1b8ba",
   "metadata": {},
   "outputs": [
    {
     "name": "stdout",
     "output_type": "stream",
     "text": [
      "We have 5.000000e+00 chickens.\n"
     ]
    }
   ],
   "source": [
    "#Use \"e\" to convert a number into scientific number format (with a lower-case e):\n",
    "\n",
    "txt = \"We have {:e} chickens.\"\n",
    "print(txt.format(5))\n"
   ]
  },
  {
   "cell_type": "code",
   "execution_count": 595,
   "id": "c15edc8f-2b5d-4eb4-a967-b9e91a3e9bd9",
   "metadata": {},
   "outputs": [
    {
     "name": "stdout",
     "output_type": "stream",
     "text": [
      "We have 5.000000E+00 chickens.\n"
     ]
    }
   ],
   "source": [
    "#Use \"E\" to convert a number into scientific number format (with an upper-case E):\n",
    "txt = \"We have {:E} chickens.\"\n",
    "print(txt.format(5))"
   ]
  },
  {
   "cell_type": "code",
   "execution_count": 599,
   "id": "454fa6a8-8b04-448b-845d-2833d98e30c2",
   "metadata": {},
   "outputs": [
    {
     "name": "stdout",
     "output_type": "stream",
     "text": [
      "The price is 45.00 dollars.\n",
      "The price is 45.000000 dollars.\n"
     ]
    }
   ],
   "source": [
    "#Use \"f\" to convert a number into a fixed point number, default with 6 decimals, but use a period followed by a number to specify the number of decimals:\n",
    "\n",
    "txt = \"The price is {price:.2f} dollars.\"\n",
    "print(txt.format(price=45))\n",
    "\n",
    "#without the \".2\" inside the placeholder, this number will be displayed like this:\n",
    "\n",
    "txt = \"The price is {:f} dollars.\"\n",
    "print(txt.format(45))\n"
   ]
  },
  {
   "cell_type": "code",
   "execution_count": 607,
   "id": "dd174867-c03f-4ef9-86b7-8dd863a9cac2",
   "metadata": {},
   "outputs": [
    {
     "name": "stdout",
     "output_type": "stream",
     "text": [
      "The price is INF dollars.\n",
      "The price is inf dollars.\n"
     ]
    }
   ],
   "source": [
    "#Use \"F\" to convert a number into a fixed point number, but display inf and nan as INF and NAN:\n",
    "\n",
    "x = float('inf')\n",
    "\n",
    "txt = \"The price is {:F} dollars.\"\n",
    "print(txt.format(x))\n",
    "\n",
    "#same example, but with a lower case f:\n",
    "\n",
    "txt = \"The price is {:f} dollars.\"\n",
    "print(txt.format(x))\n",
    "\n"
   ]
  },
  {
   "cell_type": "code",
   "execution_count": 609,
   "id": "08562652-e314-41f4-97a5-3351ed695b8c",
   "metadata": {},
   "outputs": [
    {
     "name": "stdout",
     "output_type": "stream",
     "text": [
      "The octal version of 10 is 12\n"
     ]
    }
   ],
   "source": [
    "#Use \"o\" to convert the number into octal format:\n",
    "\n",
    "txt = \"The octal version of {0} is {0:o}\"\n",
    "\n",
    "print(txt.format(10))"
   ]
  },
  {
   "cell_type": "code",
   "execution_count": 611,
   "id": "01f1542a-c3e8-44d6-b05d-41baff76407f",
   "metadata": {},
   "outputs": [
    {
     "name": "stdout",
     "output_type": "stream",
     "text": [
      "The Hexadecimal version of 255 is ff\n"
     ]
    }
   ],
   "source": [
    "#Use \"x\" to convert the number into Hex format:\n",
    "\n",
    "txt = \"The Hexadecimal version of {0} is {0:x}\"\n",
    "\n",
    "print(txt.format(255))\n"
   ]
  },
  {
   "cell_type": "code",
   "execution_count": 613,
   "id": "95ce1509-8835-4fc8-998c-8d6112464cd5",
   "metadata": {},
   "outputs": [
    {
     "name": "stdout",
     "output_type": "stream",
     "text": [
      "The Hexadecimal version of 255 is FF\n"
     ]
    }
   ],
   "source": [
    "#Use \"X\" to convert the number into upper-case Hex format:\n",
    "\n",
    "txt = \"The Hexadecimal version of {0} is {0:X}\"\n",
    "\n",
    "print(txt.format(255))"
   ]
  },
  {
   "cell_type": "code",
   "execution_count": 615,
   "id": "db9d183e-8108-4459-be46-2da418444be3",
   "metadata": {},
   "outputs": [
    {
     "name": "stdout",
     "output_type": "stream",
     "text": [
      "You scored 25.000000%\n",
      "You scored 25%\n"
     ]
    }
   ],
   "source": [
    "#Use \"%\" to convert the number into a percentage format:\n",
    "\n",
    "txt = \"You scored {:%}\"\n",
    "print(txt.format(0.25))\n",
    "\n",
    "#Or, without any decimals:\n",
    "\n",
    "txt = \"You scored {:.0%}\"\n",
    "print(txt.format(0.25))"
   ]
  },
  {
   "cell_type": "code",
   "execution_count": null,
   "id": "f3cea637-5d6d-4a4b-ae25-43134059ea35",
   "metadata": {},
   "outputs": [],
   "source": [
    "12.index():The index() method finds the first occurrence of the specified value.\n",
    "The index() method raises an exception if the value is not found.\n",
    "The index() method is almost the same as the find() method, the only difference is that the find() method returns -1 if the value is not found. (See example below)"
   ]
  },
  {
   "cell_type": "code",
   "execution_count": null,
   "id": "254e8376-bd1c-44fc-bab8-160decd970d9",
   "metadata": {},
   "outputs": [],
   "source": [
    "Syntax\n",
    "string.index(value, start, end)"
   ]
  },
  {
   "cell_type": "code",
   "execution_count": 627,
   "id": "638f1037-9f7f-47f4-95ff-c94f763fd698",
   "metadata": {},
   "outputs": [
    {
     "name": "stdout",
     "output_type": "stream",
     "text": [
      "1\n"
     ]
    }
   ],
   "source": [
    "txt = \"Hello, welcome to my world.\"\n",
    "\n",
    "x = txt.index(\"e\")\n",
    "\n",
    "print(x)"
   ]
  },
  {
   "cell_type": "code",
   "execution_count": 629,
   "id": "400ddea5-d94b-41e3-8526-57d6ed2c5958",
   "metadata": {},
   "outputs": [
    {
     "name": "stdout",
     "output_type": "stream",
     "text": [
      "7\n"
     ]
    }
   ],
   "source": [
    "txt = \"Hello, welcome to my world.\"\n",
    "\n",
    "x = txt.index(\"welcome\")\n",
    "\n",
    "print(x)"
   ]
  },
  {
   "cell_type": "code",
   "execution_count": 631,
   "id": "59fc2f87-afbc-437e-8782-b500baf63e02",
   "metadata": {},
   "outputs": [
    {
     "name": "stdout",
     "output_type": "stream",
     "text": [
      "8\n"
     ]
    }
   ],
   "source": [
    "txt = \"Hello, welcome to my world.\"\n",
    "\n",
    "x = txt.index(\"e\", 5, 10)\n",
    "\n",
    "print(x)"
   ]
  },
  {
   "cell_type": "code",
   "execution_count": 635,
   "id": "cfc7be85-2335-4a72-824f-c86b1ac91504",
   "metadata": {},
   "outputs": [
    {
     "name": "stdout",
     "output_type": "stream",
     "text": [
      "-1\n"
     ]
    },
    {
     "ename": "ValueError",
     "evalue": "substring not found",
     "output_type": "error",
     "traceback": [
      "\u001b[1;31m---------------------------------------------------------------------------\u001b[0m",
      "\u001b[1;31mValueError\u001b[0m                                Traceback (most recent call last)",
      "Cell \u001b[1;32mIn[635], line 4\u001b[0m\n\u001b[0;32m      1\u001b[0m txt \u001b[38;5;241m=\u001b[39m \u001b[38;5;124m\"\u001b[39m\u001b[38;5;124mHello, welcome to my world.\u001b[39m\u001b[38;5;124m\"\u001b[39m\n\u001b[0;32m      3\u001b[0m \u001b[38;5;28mprint\u001b[39m(txt\u001b[38;5;241m.\u001b[39mfind(\u001b[38;5;124m\"\u001b[39m\u001b[38;5;124mq\u001b[39m\u001b[38;5;124m\"\u001b[39m))\n\u001b[1;32m----> 4\u001b[0m \u001b[38;5;28mprint\u001b[39m(txt\u001b[38;5;241m.\u001b[39mindex(\u001b[38;5;124m\"\u001b[39m\u001b[38;5;124mq\u001b[39m\u001b[38;5;124m\"\u001b[39m))\n",
      "\u001b[1;31mValueError\u001b[0m: substring not found"
     ]
    }
   ],
   "source": [
    "txt = \"Hello, welcome to my world.\"\n",
    "\n",
    "print(txt.find(\"q\"))\n",
    "print(txt.index(\"q\"))"
   ]
  },
  {
   "cell_type": "code",
   "execution_count": null,
   "id": "18bcb738-c64e-4735-a422-b4766bcf3c47",
   "metadata": {},
   "outputs": [],
   "source": [
    "13.isalnum():The isalnum() method returns True if all the characters are alphanumeric, meaning alphabet letter (a-z) and numbers (0-9).\n",
    "string.isalnum()\n"
   ]
  },
  {
   "cell_type": "code",
   "execution_count": 637,
   "id": "86caf347-cdef-43e7-9a25-107601e508b2",
   "metadata": {},
   "outputs": [
    {
     "name": "stdout",
     "output_type": "stream",
     "text": [
      "True\n"
     ]
    }
   ],
   "source": [
    "txt = \"Company12\"\n",
    "\n",
    "x = txt.isalnum()\n",
    "\n",
    "print(x)"
   ]
  },
  {
   "cell_type": "code",
   "execution_count": 643,
   "id": "db1b3583-5bdc-4d75-a83f-31c1e1b4a25d",
   "metadata": {},
   "outputs": [
    {
     "name": "stdout",
     "output_type": "stream",
     "text": [
      "False\n"
     ]
    }
   ],
   "source": [
    "txt = \"Company 12\" #space!=alnum\n",
    "\n",
    "x = txt.isalnum()\n",
    "\n",
    "print(x)"
   ]
  },
  {
   "cell_type": "code",
   "execution_count": null,
   "id": "26442b31-7e7e-43a0-9379-8e7fffe0da34",
   "metadata": {},
   "outputs": [],
   "source": [
    "14.isalpha():The isalpha() method returns True if all the characters are alphabet letters (a-z).\n",
    "Syntax\n",
    "string.isalpha()"
   ]
  },
  {
   "cell_type": "code",
   "execution_count": 645,
   "id": "d9c3f031-512d-4e47-abd2-4fe3b46fc4a7",
   "metadata": {},
   "outputs": [
    {
     "name": "stdout",
     "output_type": "stream",
     "text": [
      "True\n"
     ]
    }
   ],
   "source": [
    "txt = \"CompanyX\"\n",
    "\n",
    "x = txt.isalpha()\n",
    "\n",
    "print(x)"
   ]
  },
  {
   "cell_type": "code",
   "execution_count": 647,
   "id": "40951abc-7a54-4cc1-bbb1-08ca57ea2d17",
   "metadata": {},
   "outputs": [
    {
     "name": "stdout",
     "output_type": "stream",
     "text": [
      "False\n"
     ]
    }
   ],
   "source": [
    "txt = \"Company10\"\n",
    "\n",
    "x = txt.isalpha()\n",
    "\n",
    "print(x)"
   ]
  },
  {
   "cell_type": "code",
   "execution_count": 653,
   "id": "aef2eace-cb4e-4f37-bc9e-40a069add07b",
   "metadata": {},
   "outputs": [],
   "source": [
    "15.isascii():The isascii() method returns True if all the characters are ascii characters  (a-z).\n",
    "Syntax\n",
    "string.isascii()"
   ]
  },
  {
   "cell_type": "code",
   "execution_count": 661,
   "id": "321c8fb6-6e04-4f15-842d-02f975186151",
   "metadata": {},
   "outputs": [
    {
     "name": "stdout",
     "output_type": "stream",
     "text": [
      "True\n"
     ]
    }
   ],
   "source": [
    "txt = \"Company*&&123\"\n",
    "\n",
    "x = txt.isascii()\n",
    "\n",
    "print(x)"
   ]
  },
  {
   "cell_type": "code",
   "execution_count": null,
   "id": "8d6ab914-cb3f-4b79-8d63-656f522ee65c",
   "metadata": {},
   "outputs": [],
   "source": [
    "16.isdecimal():The isdecimal() method returns True if all the characters are decimals (0-9).\n",
    "Syntax\n",
    "string.isdecimal()"
   ]
  },
  {
   "cell_type": "code",
   "execution_count": 663,
   "id": "8b85a579-9773-463c-99cf-ea157acd9d90",
   "metadata": {},
   "outputs": [
    {
     "name": "stdout",
     "output_type": "stream",
     "text": [
      "True\n"
     ]
    }
   ],
   "source": [
    "txt = \"1234\"\n",
    "\n",
    "x = txt.isdecimal()\n",
    "\n",
    "print(x)"
   ]
  },
  {
   "cell_type": "code",
   "execution_count": 665,
   "id": "601b7947-6f26-4599-9278-50973eef7330",
   "metadata": {},
   "outputs": [
    {
     "name": "stdout",
     "output_type": "stream",
     "text": [
      "True\n",
      "False\n"
     ]
    }
   ],
   "source": [
    "a = \"\\u0030\" #unicode for 0\n",
    "b = \"\\u0047\" #unicode for G\n",
    "\n",
    "print(a.isdecimal())\n",
    "print(b.isdecimal())"
   ]
  },
  {
   "cell_type": "code",
   "execution_count": null,
   "id": "46b373fb-150f-4ee6-ae6f-1332140e6c8f",
   "metadata": {},
   "outputs": [],
   "source": [
    "17.isdigit():The isdigit() method returns True if all the characters are digits, otherwise False.\n"
   ]
  },
  {
   "cell_type": "code",
   "execution_count": null,
   "id": "8a93304e-c1fa-46c3-9bca-6a83a7694948",
   "metadata": {},
   "outputs": [],
   "source": [
    "Syntax\n",
    "string.isdigit()"
   ]
  },
  {
   "cell_type": "code",
   "execution_count": 667,
   "id": "bedc4f46-223e-476c-8aa8-c07fad2aa101",
   "metadata": {},
   "outputs": [
    {
     "name": "stdout",
     "output_type": "stream",
     "text": [
      "True\n",
      "True\n"
     ]
    }
   ],
   "source": [
    "a = \"\\u0030\" #unicode for 0\n",
    "b = \"\\u00B2\" #unicode for ²\n",
    "\n",
    "print(a.isdigit())\n",
    "print(b.isdigit())"
   ]
  },
  {
   "cell_type": "code",
   "execution_count": 669,
   "id": "c9c1f024-7f17-4eae-be94-235a0abecc5c",
   "metadata": {},
   "outputs": [
    {
     "name": "stdout",
     "output_type": "stream",
     "text": [
      "True\n"
     ]
    }
   ],
   "source": [
    "txt = \"50800\"\n",
    "\n",
    "x = txt.isdigit()\n",
    "\n",
    "print(x)"
   ]
  },
  {
   "cell_type": "code",
   "execution_count": null,
   "id": "9e6d3d91-a6a6-4147-a592-44a4ba6c3e27",
   "metadata": {},
   "outputs": [],
   "source": [
    "18.isidentifier():The isidentifier() method returns True if the string is a valid identifier, otherwise False."
   ]
  },
  {
   "cell_type": "code",
   "execution_count": null,
   "id": "6568aff4-7af5-4152-aa58-c0556b53a567",
   "metadata": {},
   "outputs": [],
   "source": [
    "Syntax\n",
    "string.isidentifier()"
   ]
  },
  {
   "cell_type": "code",
   "execution_count": 671,
   "id": "6b3abf21-289a-4629-915b-23b4af861bf3",
   "metadata": {},
   "outputs": [
    {
     "name": "stdout",
     "output_type": "stream",
     "text": [
      "True\n"
     ]
    }
   ],
   "source": [
    "txt = \"Demo\"\n",
    "\n",
    "x = txt.isidentifier()\n",
    "\n",
    "print(x)"
   ]
  },
  {
   "cell_type": "code",
   "execution_count": 673,
   "id": "6014615b-b9ca-4bc6-b493-34199b1852ba",
   "metadata": {},
   "outputs": [
    {
     "name": "stdout",
     "output_type": "stream",
     "text": [
      "True\n",
      "True\n",
      "False\n",
      "False\n"
     ]
    }
   ],
   "source": [
    "a = \"MyFolder\"\n",
    "b = \"Demo002\"\n",
    "c = \"2bring\" #started with num\n",
    "d = \"my demo\"#space not aloewd\n",
    "\n",
    "print(a.isidentifier())\n",
    "print(b.isidentifier())\n",
    "print(c.isidentifier())\n",
    "print(d.isidentifier())\n"
   ]
  },
  {
   "cell_type": "code",
   "execution_count": null,
   "id": "123ce9cb-eade-43d4-8a02-2026acae1107",
   "metadata": {},
   "outputs": [],
   "source": [
    "18.islower():The islower() method returns True if all the characters are in lower case, otherwise False."
   ]
  },
  {
   "cell_type": "code",
   "execution_count": null,
   "id": "9e1be0d9-277f-4998-ad67-d184be75973e",
   "metadata": {},
   "outputs": [],
   "source": [
    "Syntax\n",
    "string.islower()"
   ]
  },
  {
   "cell_type": "code",
   "execution_count": 675,
   "id": "1a4ace0a-a273-4a67-936d-000aba74395f",
   "metadata": {},
   "outputs": [
    {
     "name": "stdout",
     "output_type": "stream",
     "text": [
      "True\n"
     ]
    }
   ],
   "source": [
    "txt = \"hello world!\"\n",
    "\n",
    "x = txt.islower()\n",
    "\n",
    "print(x)"
   ]
  },
  {
   "cell_type": "code",
   "execution_count": 677,
   "id": "3bb340ed-ff9c-40df-842c-3ec0e2805148",
   "metadata": {},
   "outputs": [
    {
     "name": "stdout",
     "output_type": "stream",
     "text": [
      "False\n",
      "True\n",
      "False\n"
     ]
    }
   ],
   "source": [
    "a = \"Hello world!\"\n",
    "b = \"hello 123\"\n",
    "c = \"mynameisPeter\"\n",
    "\n",
    "print(a.islower())\n",
    "print(b.islower())\n",
    "print(c.islower())"
   ]
  },
  {
   "cell_type": "code",
   "execution_count": null,
   "id": "d87eda6b-207f-4aaf-9a7c-2dbaaf3c0973",
   "metadata": {},
   "outputs": [],
   "source": [
    "20.isnumeric():The isnumeric() method returns True if all the characters are numeric (0-9), otherwise False.\n",
    "Exponents, like ² and ¾ are also considered to be numeric values.\n",
    "    "
   ]
  },
  {
   "cell_type": "code",
   "execution_count": null,
   "id": "e7e57219-7857-4e20-b3da-45b64a6f2dca",
   "metadata": {},
   "outputs": [],
   "source": [
    "Syntax\n",
    "string.isnumeric()"
   ]
  },
  {
   "cell_type": "code",
   "execution_count": 679,
   "id": "e0378d25-1e88-4e17-a001-b0ba959279c7",
   "metadata": {},
   "outputs": [
    {
     "name": "stdout",
     "output_type": "stream",
     "text": [
      "True\n"
     ]
    }
   ],
   "source": [
    "txt = \"565543\"\n",
    "\n",
    "x = txt.isnumeric()\n",
    "\n",
    "print(x)"
   ]
  },
  {
   "cell_type": "code",
   "execution_count": 681,
   "id": "6f28384c-3dea-4122-8411-c4cb56ab8b80",
   "metadata": {},
   "outputs": [
    {
     "name": "stdout",
     "output_type": "stream",
     "text": [
      "True\n",
      "True\n",
      "False\n",
      "False\n",
      "False\n"
     ]
    }
   ],
   "source": [
    "a = \"\\u0030\" #unicode for 0\n",
    "b = \"\\u00B2\" #unicode for &sup2;\n",
    "c = \"10km2\"\n",
    "d = \"-1\"\n",
    "e = \"1.5\"\n",
    "#\"-1\" and \"1.5\" are NOT considered numeric values,\n",
    "# because all the characters in the string must be \n",
    "# numeric, and the - and the . are not.\n",
    "\n",
    "\n",
    "print(a.isnumeric())\n",
    "print(b.isnumeric())\n",
    "print(c.isnumeric())\n",
    "print(d.isnumeric())\n",
    "print(e.isnumeric())"
   ]
  },
  {
   "cell_type": "code",
   "execution_count": null,
   "id": "3e6b077f-6a54-4e77-b687-14770b8190fc",
   "metadata": {},
   "outputs": [],
   "source": [
    "21.isprintable():The isprintable() method returns True if all the characters are printable, otherwise False."
   ]
  },
  {
   "cell_type": "code",
   "execution_count": null,
   "id": "7731540d-bea7-40a6-971d-9f802a977ff8",
   "metadata": {},
   "outputs": [],
   "source": [
    "Syntax\n",
    "string.isprintable()"
   ]
  },
  {
   "cell_type": "code",
   "execution_count": 683,
   "id": "c8083010-7f0d-4765-b4e7-abe3ed993945",
   "metadata": {},
   "outputs": [
    {
     "name": "stdout",
     "output_type": "stream",
     "text": [
      "True\n"
     ]
    }
   ],
   "source": [
    "txt = \"Hello! Are you #1?\"\n",
    "\n",
    "x = txt.isprintable()\n",
    "\n",
    "print(x)"
   ]
  },
  {
   "cell_type": "code",
   "execution_count": 685,
   "id": "4a0d9b09-f85c-48d7-a2e4-42016e64a566",
   "metadata": {},
   "outputs": [
    {
     "name": "stdout",
     "output_type": "stream",
     "text": [
      "False\n"
     ]
    }
   ],
   "source": [
    "txt = \"Hello!\\nAre you #1?\"\n",
    "\n",
    "x = txt.isprintable()\n",
    "\n",
    "print(x)"
   ]
  },
  {
   "cell_type": "code",
   "execution_count": null,
   "id": "6dc77df1-c277-4f8a-bdd1-42ba963d820d",
   "metadata": {},
   "outputs": [],
   "source": [
    "22.isspace():The isspace() method returns True if all the characters in a string are whitespaces, otherwise False."
   ]
  },
  {
   "cell_type": "code",
   "execution_count": null,
   "id": "1791ea34-5563-4ae1-9a92-33d8c43a1306",
   "metadata": {},
   "outputs": [],
   "source": [
    "Syntax\n",
    "string.isspace()"
   ]
  },
  {
   "cell_type": "code",
   "execution_count": 687,
   "id": "c3ea49e7-a28d-451e-aec2-10ee5c4f8d01",
   "metadata": {},
   "outputs": [
    {
     "name": "stdout",
     "output_type": "stream",
     "text": [
      "True\n"
     ]
    }
   ],
   "source": [
    "txt = \"   \"\n",
    "\n",
    "x = txt.isspace()\n",
    "\n",
    "print(x)"
   ]
  },
  {
   "cell_type": "code",
   "execution_count": 689,
   "id": "3a1fa659-996c-420d-a7cd-bdc854055d39",
   "metadata": {},
   "outputs": [
    {
     "name": "stdout",
     "output_type": "stream",
     "text": [
      "False\n"
     ]
    }
   ],
   "source": [
    "txt = \"   s   \"\n",
    "\n",
    "x = txt.isspace()\n",
    "\n",
    "print(x)"
   ]
  },
  {
   "cell_type": "code",
   "execution_count": null,
   "id": "e7d2786c-5904-4fd4-aa4e-df79f80b7105",
   "metadata": {},
   "outputs": [],
   "source": [
    "23.istitle():The istitle() method returns True if all words in a text start with a upper case letter, AND the rest of the word are lower case letters, otherwise False."
   ]
  },
  {
   "cell_type": "code",
   "execution_count": null,
   "id": "d01767a5-1059-4fd1-878a-372f3f006bb2",
   "metadata": {},
   "outputs": [],
   "source": [
    "Syntax\n",
    "string.istitle()"
   ]
  },
  {
   "cell_type": "code",
   "execution_count": 691,
   "id": "5736f4dc-7304-4cfd-ba22-3217d2e94cf5",
   "metadata": {},
   "outputs": [
    {
     "name": "stdout",
     "output_type": "stream",
     "text": [
      "True\n"
     ]
    }
   ],
   "source": [
    "txt = \"Hello, And Welcome To My World!\"\n",
    "\n",
    "x = txt.istitle()\n",
    "\n",
    "print(x)"
   ]
  },
  {
   "cell_type": "code",
   "execution_count": 693,
   "id": "ea65f3b2-5cbc-4a46-a24d-7a2343a57135",
   "metadata": {},
   "outputs": [
    {
     "name": "stdout",
     "output_type": "stream",
     "text": [
      "False\n",
      "True\n",
      "True\n",
      "True\n"
     ]
    }
   ],
   "source": [
    "a = \"HELLO, AND WELCOME TO MY WORLD\"\n",
    "b = \"Hello\"\n",
    "c = \"22 Names\"\n",
    "d = \"This Is %'!?\"\n",
    "\n",
    "print(a.istitle())\n",
    "print(b.istitle())\n",
    "print(c.istitle())\n",
    "print(d.istitle())"
   ]
  },
  {
   "cell_type": "code",
   "execution_count": null,
   "id": "bbb2e6b7-be2a-4176-a5c8-40fc42a8bdd7",
   "metadata": {},
   "outputs": [],
   "source": [
    "24.isupper():The isupper() method returns True if all the characters are in upper case, otherwise False.\n",
    "Numbers, symbols and spaces are not checked, only alphabet characters."
   ]
  },
  {
   "cell_type": "code",
   "execution_count": null,
   "id": "a98dae4a-1bae-4ceb-b672-4ed264d0b449",
   "metadata": {},
   "outputs": [],
   "source": [
    "Syntax\n",
    "string.isupper()"
   ]
  },
  {
   "cell_type": "code",
   "execution_count": 695,
   "id": "2428c8dd-4ee1-448a-93ab-297cb8bd1e23",
   "metadata": {},
   "outputs": [
    {
     "name": "stdout",
     "output_type": "stream",
     "text": [
      "True\n"
     ]
    }
   ],
   "source": [
    "txt = \"THIS IS NOW!\"\n",
    "\n",
    "x = txt.isupper()\n",
    "\n",
    "print(x)"
   ]
  },
  {
   "cell_type": "code",
   "execution_count": 697,
   "id": "132f76c2-ce4b-4f4d-9c90-0071ecb2bb7d",
   "metadata": {},
   "outputs": [
    {
     "name": "stdout",
     "output_type": "stream",
     "text": [
      "False\n",
      "False\n",
      "True\n"
     ]
    }
   ],
   "source": [
    "a = \"Hello World!\"\n",
    "b = \"hello 123\"\n",
    "c = \"MY NAME IS PETER\"\n",
    "\n",
    "print(a.isupper())\n",
    "print(b.isupper())\n",
    "print(c.isupper())"
   ]
  },
  {
   "cell_type": "code",
   "execution_count": null,
   "id": "2c79229f-a407-428b-8936-f65822cf997a",
   "metadata": {},
   "outputs": [],
   "source": [
    "25.join():The join() method takes all items in an iterable and joins them into one string."
   ]
  },
  {
   "cell_type": "code",
   "execution_count": null,
   "id": "e5dee266-f172-48e2-86f2-c568bd52d857",
   "metadata": {},
   "outputs": [],
   "source": [
    "Syntax\n",
    "string.join(iterable)"
   ]
  },
  {
   "cell_type": "code",
   "execution_count": 699,
   "id": "686b0c76-d197-4f73-baa0-5ffb80118855",
   "metadata": {},
   "outputs": [
    {
     "name": "stdout",
     "output_type": "stream",
     "text": [
      "John#Peter#Vicky\n"
     ]
    }
   ],
   "source": [
    "myTuple = (\"John\", \"Peter\", \"Vicky\")\n",
    "\n",
    "x = \"#\".join(myTuple)\n",
    "\n",
    "print(x)"
   ]
  },
  {
   "cell_type": "code",
   "execution_count": 701,
   "id": "a0be7a48-563b-4a5a-b0e5-53ecc3550090",
   "metadata": {},
   "outputs": [
    {
     "name": "stdout",
     "output_type": "stream",
     "text": [
      "nameTESTcountry\n"
     ]
    }
   ],
   "source": [
    "myDict = {\"name\": \"John\", \"country\": \"Norway\"}\n",
    "mySeparator = \"TEST\"\n",
    "\n",
    "x = mySeparator.join(myDict)\n",
    "\n",
    "print(x)"
   ]
  },
  {
   "cell_type": "code",
   "execution_count": null,
   "id": "1d12d040-ffdf-448c-989b-5cab5bcd97d4",
   "metadata": {},
   "outputs": [],
   "source": [
    "26.ljust():The ljust() method will left align the string, using a specified character (space is default) as the fill character."
   ]
  },
  {
   "cell_type": "code",
   "execution_count": null,
   "id": "73f52fc3-0ceb-4a7b-85c7-e50b153ee5ae",
   "metadata": {},
   "outputs": [],
   "source": [
    "Syntax\n",
    "string.ljust(length, character)"
   ]
  },
  {
   "cell_type": "code",
   "execution_count": 2,
   "id": "2cd29456-55ef-43f6-a7c2-34f0481fd399",
   "metadata": {},
   "outputs": [
    {
     "name": "stdout",
     "output_type": "stream",
     "text": [
      "banana               is my favorite fruit.\n"
     ]
    }
   ],
   "source": [
    "txt = \"banana\"\n",
    "\n",
    "x = txt.ljust(20)\n",
    "\n",
    "print(x, \"is my favorite fruit.\")"
   ]
  },
  {
   "cell_type": "code",
   "execution_count": 4,
   "id": "cdaf74b7-903f-4512-9858-ef408a2c58f7",
   "metadata": {},
   "outputs": [
    {
     "name": "stdout",
     "output_type": "stream",
     "text": [
      "bananaOOOOOOOOOOOOOO\n"
     ]
    }
   ],
   "source": [
    "txt = \"banana\"\n",
    "\n",
    "x = txt.ljust(20, \"O\")\n",
    "\n",
    "print(x)"
   ]
  },
  {
   "cell_type": "code",
   "execution_count": null,
   "id": "f43b8c63-9da3-48aa-ac47-20e98654ecc5",
   "metadata": {},
   "outputs": [],
   "source": [
    "27.lower():The lower() method returns a string where all characters are lower case."
   ]
  },
  {
   "cell_type": "code",
   "execution_count": null,
   "id": "50cf77a2-9150-407e-b18c-2f465e65a0f1",
   "metadata": {},
   "outputs": [],
   "source": [
    "Syntax\n",
    "string.lower()"
   ]
  },
  {
   "cell_type": "code",
   "execution_count": 6,
   "id": "e226936e-c67f-4a3f-a0fc-ec2c67531494",
   "metadata": {},
   "outputs": [
    {
     "name": "stdout",
     "output_type": "stream",
     "text": [
      "the maximum\n"
     ]
    }
   ],
   "source": [
    "txt=\"The MaxiMum\"\n",
    "print(txt.lower())"
   ]
  },
  {
   "cell_type": "code",
   "execution_count": null,
   "id": "85b8a414-9b0e-446f-9510-4ac721ac3571",
   "metadata": {},
   "outputs": [],
   "source": [
    "28.The lstrip(): method removes any leading characters (space is the default leading character to remove)"
   ]
  },
  {
   "cell_type": "code",
   "execution_count": null,
   "id": "df65fad7-dc59-445d-a021-6b38b4e81115",
   "metadata": {},
   "outputs": [],
   "source": [
    "Syntax\n",
    "string.lstrip(characters)"
   ]
  },
  {
   "cell_type": "code",
   "execution_count": 10,
   "id": "a3041668-034a-4bfa-a914-c3c96b2c6b09",
   "metadata": {},
   "outputs": [
    {
     "name": "stdout",
     "output_type": "stream",
     "text": [
      "of all fruits      banana is my favorite\n"
     ]
    }
   ],
   "source": [
    "txt = \"     banana     \"\n",
    "\n",
    "x = txt.lstrip()\n",
    "\n",
    "print(\"of all fruits\", x, \"is my favorite\")"
   ]
  },
  {
   "cell_type": "code",
   "execution_count": 12,
   "id": "fde0f869-18ae-418c-8a65-2524ff59ba59",
   "metadata": {},
   "outputs": [
    {
     "name": "stdout",
     "output_type": "stream",
     "text": [
      "banana\n"
     ]
    }
   ],
   "source": [
    "txt = \",,,,,ssaaww.....banana\"\n",
    "\n",
    "x = txt.lstrip(\",.asw\")\n",
    "\n",
    "print(x)"
   ]
  },
  {
   "cell_type": "code",
   "execution_count": 20,
   "id": "789369d5-84f5-454c-860a-33ce5dbadbe1",
   "metadata": {},
   "outputs": [
    {
     "name": "stdout",
     "output_type": "stream",
     "text": [
      "asu\n"
     ]
    }
   ],
   "source": [
    "txt=\"..,,,....sssvvuuu.....sasu\"\n",
    "print(txt.lstrip(\".,svu\"))"
   ]
  },
  {
   "cell_type": "code",
   "execution_count": null,
   "id": "3928ae35-04d9-4279-8d3c-89c53fd7c91e",
   "metadata": {},
   "outputs": [],
   "source": [
    "29.maketrans():The maketrans() method returns a mapping table that can be used with\n",
    "the translate() method to replace specified characters."
   ]
  },
  {
   "cell_type": "code",
   "execution_count": null,
   "id": "b35bd8fa-ac62-47e7-af7a-3235bda7e298",
   "metadata": {},
   "outputs": [],
   "source": [
    "Syntax\n",
    "str.maketrans(x, y, z)"
   ]
  },
  {
   "cell_type": "code",
   "execution_count": 22,
   "id": "8d01d995-e7f8-444f-a639-0f805c51807b",
   "metadata": {},
   "outputs": [
    {
     "name": "stdout",
     "output_type": "stream",
     "text": [
      "Hello Pam!\n"
     ]
    }
   ],
   "source": [
    "txt = \"Hello Sam!\"\n",
    "mytable = str.maketrans(\"S\", \"P\")\n",
    "print(txt.translate(mytable))"
   ]
  },
  {
   "cell_type": "code",
   "execution_count": 34,
   "id": "74647f42-c5ce-48af-bbe0-73d8fc972089",
   "metadata": {},
   "outputs": [
    {
     "name": "stdout",
     "output_type": "stream",
     "text": [
      "Hi Joe\n"
     ]
    }
   ],
   "source": [
    "txt=\"Hi Sam\"\n",
    "x=\"mSa\"\n",
    "y=\"eJo\"\n",
    "mytable=str.maketrans(x, y)\n",
    "print(txt.translate(mytable))"
   ]
  },
  {
   "cell_type": "code",
   "execution_count": 42,
   "id": "ba477b94-6994-45c0-9cd7-51d8f3def8de",
   "metadata": {},
   "outputs": [
    {
     "name": "stdout",
     "output_type": "stream",
     "text": [
      "G i Joe!\n"
     ]
    }
   ],
   "source": [
    "txt = \"Good night Sam!\"\n",
    "x = \"mSa\"\n",
    "y = \"eJo\"\n",
    "z = \"odnght\"\n",
    "mytable = str.maketrans(x, y, z)\n",
    "print(txt.translate(mytable))"
   ]
  },
  {
   "cell_type": "code",
   "execution_count": 44,
   "id": "5de0e44e-aed8-41b0-b0cf-19429d09c293",
   "metadata": {},
   "outputs": [
    {
     "name": "stdout",
     "output_type": "stream",
     "text": [
      "{109: 101, 83: 74, 97: 111, 111: None, 100: None, 110: None, 103: None, 104: None, 116: None}\n"
     ]
    }
   ],
   "source": [
    "txt = \"Good night Sam!\"\n",
    "x = \"mSa\"\n",
    "y = \"eJo\"\n",
    "z = \"odnght\"\n",
    "print(str.maketrans(x, y, z))"
   ]
  },
  {
   "cell_type": "code",
   "execution_count": null,
   "id": "b71939a4-1ad7-40fb-ac05-85cb35a0ca32",
   "metadata": {},
   "outputs": [],
   "source": [
    "30.partion():The partition() method searches for a specified string, and splits the string into a tuple containing three elements.\n",
    "The first element contains the part before the specified string.\n",
    "The second element contains the specified string.\n",
    "The third element contains the part after the string.\n",
    "\n",
    "Syntax\n",
    "string.partition(value)"
   ]
  },
  {
   "cell_type": "code",
   "execution_count": null,
   "id": "b668d48f-10a0-4207-875e-3ca5a36cc2b9",
   "metadata": {},
   "outputs": [],
   "source": [
    "1 - everything before the \"match\"\n",
    "2 - the \"match\"\n",
    "3 - everything after the \"match\""
   ]
  },
  {
   "cell_type": "code",
   "execution_count": 46,
   "id": "739f1dfe-3b30-476c-9aae-708096068480",
   "metadata": {},
   "outputs": [
    {
     "name": "stdout",
     "output_type": "stream",
     "text": [
      "('I could eat ', 'bananas', ' all day')\n"
     ]
    }
   ],
   "source": [
    "txt=\"I could eat bananas all day\"\n",
    "x=txt.partition(\"bananas\")\n",
    "print(x)"
   ]
  },
  {
   "cell_type": "code",
   "execution_count": null,
   "id": "c093d0af-002e-4a7c-9eaa-946db16dbd41",
   "metadata": {},
   "outputs": [],
   "source": [
    "If the specified value is not found,\n",
    "the partition() method returns a tuple containing:\n",
    "1 - the whole string,\n",
    "2 - an empty string, \n",
    "3 - an empty string:"
   ]
  },
  {
   "cell_type": "code",
   "execution_count": 48,
   "id": "feb08842-e664-4916-9a2d-365cce7dcc38",
   "metadata": {},
   "outputs": [
    {
     "name": "stdout",
     "output_type": "stream",
     "text": [
      "(' Icolud eat bananas evry day', '', '')\n"
     ]
    }
   ],
   "source": [
    "txt=\" Icolud eat bananas evry day\"\n",
    "x=txt.partition(\"apple\")\n",
    "print(x)"
   ]
  },
  {
   "cell_type": "code",
   "execution_count": null,
   "id": "31188602-1cf4-4177-8815-48b46fdf9cfa",
   "metadata": {},
   "outputs": [],
   "source": [
    "31.replace():The replace() method replaces a specified phrase with another specified phrase."
   ]
  },
  {
   "cell_type": "code",
   "execution_count": null,
   "id": "5eb6c84b-c671-4ee4-a0fb-502ab01b0308",
   "metadata": {},
   "outputs": [],
   "source": [
    "Syntax\n",
    "string.replace(oldvalue, newvalue, count)"
   ]
  },
  {
   "cell_type": "code",
   "execution_count": 50,
   "id": "78236fb6-b316-4a77-9fea-d5251ee8dc10",
   "metadata": {},
   "outputs": [
    {
     "name": "stdout",
     "output_type": "stream",
     "text": [
      " I like bananas\n"
     ]
    }
   ],
   "source": [
    "txt=\" I like apples\"\n",
    "x=txt.replace(\"apples\",\"bananas\")\n",
    "print(x)"
   ]
  },
  {
   "cell_type": "code",
   "execution_count": null,
   "id": "4f36d454-deed-4820-91e2-31b5e5812892",
   "metadata": {},
   "outputs": [],
   "source": [
    "Replace all occurrence of the word \"one\":"
   ]
  },
  {
   "cell_type": "code",
   "execution_count": 54,
   "id": "c751158f-7c17-4710-b7b5-47f0434be9cd",
   "metadata": {},
   "outputs": [
    {
     "name": "stdout",
     "output_type": "stream",
     "text": [
      "fisrt fisrt two two ith race horse,two two fisrt too\n"
     ]
    }
   ],
   "source": [
    "txt=\"one one two two ith race horse,two two one too\"\n",
    "x=txt.replace(\"one\",\"fisrt\")\n",
    "print(x)"
   ]
  },
  {
   "cell_type": "code",
   "execution_count": null,
   "id": "03d607a2-eb15-432e-a62c-b96d02efea46",
   "metadata": {},
   "outputs": [],
   "source": [
    "Replace the two first occurrence of the word \"one\":\n"
   ]
  },
  {
   "cell_type": "code",
   "execution_count": 56,
   "id": "fe66b3ac-7142-47e0-b1d9-f25afdfa6c95",
   "metadata": {},
   "outputs": [
    {
     "name": "stdout",
     "output_type": "stream",
     "text": [
      "one one second second ith race horse,two two one too\n"
     ]
    }
   ],
   "source": [
    "x=txt.replace(\"two\",\"second\",2)\n",
    "print(x)"
   ]
  },
  {
   "cell_type": "code",
   "execution_count": null,
   "id": "bd516606-8b4b-4278-b7ad-324e9adf29e6",
   "metadata": {},
   "outputs": [],
   "source": [
    "31.rfind():it finds the last occurence of the specified value.\n",
    "it returns -1 if value not find\n",
    "It is similar to rindex method"
   ]
  },
  {
   "cell_type": "code",
   "execution_count": null,
   "id": "c50cea83-7575-459b-ae6a-40fb192293f3",
   "metadata": {},
   "outputs": [],
   "source": [
    "Syntax\n",
    "string.rfind(value, start, end)"
   ]
  },
  {
   "cell_type": "code",
   "execution_count": 58,
   "id": "6f0bd473-21ad-4a07-9061-ff6c008ccb2f",
   "metadata": {},
   "outputs": [
    {
     "name": "stdout",
     "output_type": "stream",
     "text": [
      "12\n"
     ]
    }
   ],
   "source": [
    "txt = \"Mi casa, su casa.\"#last occurence\n",
    "\n",
    "x = txt.rfind(\"casa\")\n",
    "\n",
    "print(x)"
   ]
  },
  {
   "cell_type": "code",
   "execution_count": 60,
   "id": "ef0aedaf-8d21-498d-8465-1703b7d6bd7d",
   "metadata": {},
   "outputs": [
    {
     "name": "stdout",
     "output_type": "stream",
     "text": [
      "13\n"
     ]
    }
   ],
   "source": [
    "# Where in the text is the last occurrence of the letter \"e\"?:\n",
    "txt = \"Hello, welcome to my world.\"\n",
    "\n",
    "x = txt.rfind(\"e\")\n",
    "\n",
    "print(x)"
   ]
  },
  {
   "cell_type": "code",
   "execution_count": 62,
   "id": "ac404a7b-f234-4d8a-91ec-d2125819159c",
   "metadata": {},
   "outputs": [
    {
     "name": "stdout",
     "output_type": "stream",
     "text": [
      "8\n"
     ]
    }
   ],
   "source": [
    "txt = \"Hello, welcome to my world.\"\n",
    " #range btw 5 to 10\n",
    "x = txt.rfind(\"e\", 5, 10)\n",
    "\n",
    "print(x)"
   ]
  },
  {
   "cell_type": "code",
   "execution_count": 64,
   "id": "578f4d74-d2bf-40c1-8674-3e3806c1ab99",
   "metadata": {},
   "outputs": [
    {
     "name": "stdout",
     "output_type": "stream",
     "text": [
      "-1\n"
     ]
    },
    {
     "ename": "ValueError",
     "evalue": "substring not found",
     "output_type": "error",
     "traceback": [
      "\u001b[1;31m---------------------------------------------------------------------------\u001b[0m",
      "\u001b[1;31mValueError\u001b[0m                                Traceback (most recent call last)",
      "Cell \u001b[1;32mIn[64], line 7\u001b[0m\n\u001b[0;32m      4\u001b[0m txt \u001b[38;5;241m=\u001b[39m \u001b[38;5;124m\"\u001b[39m\u001b[38;5;124mHello, welcome to my world.\u001b[39m\u001b[38;5;124m\"\u001b[39m\n\u001b[0;32m      6\u001b[0m \u001b[38;5;28mprint\u001b[39m(txt\u001b[38;5;241m.\u001b[39mrfind(\u001b[38;5;124m\"\u001b[39m\u001b[38;5;124mq\u001b[39m\u001b[38;5;124m\"\u001b[39m))\n\u001b[1;32m----> 7\u001b[0m \u001b[38;5;28mprint\u001b[39m(txt\u001b[38;5;241m.\u001b[39mrindex(\u001b[38;5;124m\"\u001b[39m\u001b[38;5;124mq\u001b[39m\u001b[38;5;124m\"\u001b[39m))\n",
      "\u001b[1;31mValueError\u001b[0m: substring not found"
     ]
    }
   ],
   "source": [
    "#If the value is not found, the rfind() method returns -1,\n",
    "#but the rindex() method will raise an exception:\n",
    "\n",
    "txt = \"Hello, welcome to my world.\"\n",
    "\n",
    "print(txt.rfind(\"q\")) #returns -1\n",
    "print(txt.rindex(\"q\"))# error throws"
   ]
  },
  {
   "cell_type": "code",
   "execution_count": null,
   "id": "1cacbceb-8063-439c-80a9-4c7fb80da4ad",
   "metadata": {},
   "outputs": [],
   "source": [
    "32.rindex():it finds the last occurencces of the specified string\n",
    "it raise error if value not found in the string\n",
    "It is similar to rfind()"
   ]
  },
  {
   "cell_type": "code",
   "execution_count": 66,
   "id": "5f7735f9-167d-466b-bc1b-6f454403bd40",
   "metadata": {},
   "outputs": [
    {
     "name": "stdout",
     "output_type": "stream",
     "text": [
      "12\n"
     ]
    }
   ],
   "source": [
    "# Where in the text is the last occurrence of the string \"casa\"?:\n",
    "\n",
    "txt = \"Mi casa, su casa.\"\n",
    "\n",
    "x = txt.rindex(\"casa\")\n",
    "\n",
    "print(x)"
   ]
  },
  {
   "cell_type": "code",
   "execution_count": 68,
   "id": "4df881eb-02e4-4e6a-a4d7-bdeed6fc7c2a",
   "metadata": {},
   "outputs": [
    {
     "name": "stdout",
     "output_type": "stream",
     "text": [
      "13\n"
     ]
    }
   ],
   "source": [
    "# Where in the text is the last occurrence of the letter \"e\"?:\n",
    "\n",
    "txt = \"Hello, welcome to my world.\"\n",
    "\n",
    "x = txt.rindex(\"e\")\n",
    "\n",
    "print(x)"
   ]
  },
  {
   "cell_type": "code",
   "execution_count": 70,
   "id": "d5a8d68f-5e2c-42b2-a5de-3fb817fed2a2",
   "metadata": {},
   "outputs": [
    {
     "name": "stdout",
     "output_type": "stream",
     "text": [
      "8\n"
     ]
    }
   ],
   "source": [
    "# Where in the text is the last occurrence of the letter \"e\" when you only search between position 5 and 10?:\n",
    "\n",
    "txt = \"Hello, welcome to my world.\"\n",
    "\n",
    "x = txt.rindex(\"e\", 5, 10)\n",
    "\n",
    "print(x)\n"
   ]
  },
  {
   "cell_type": "code",
   "execution_count": 72,
   "id": "f9b19e73-2e3e-4104-8de2-40af367580f4",
   "metadata": {},
   "outputs": [
    {
     "name": "stdout",
     "output_type": "stream",
     "text": [
      "-1\n"
     ]
    },
    {
     "ename": "ValueError",
     "evalue": "substring not found",
     "output_type": "error",
     "traceback": [
      "\u001b[1;31m---------------------------------------------------------------------------\u001b[0m",
      "\u001b[1;31mValueError\u001b[0m                                Traceback (most recent call last)",
      "Cell \u001b[1;32mIn[72], line 6\u001b[0m\n\u001b[0;32m      3\u001b[0m txt \u001b[38;5;241m=\u001b[39m \u001b[38;5;124m\"\u001b[39m\u001b[38;5;124mHello, welcome to my world.\u001b[39m\u001b[38;5;124m\"\u001b[39m\n\u001b[0;32m      5\u001b[0m \u001b[38;5;28mprint\u001b[39m(txt\u001b[38;5;241m.\u001b[39mrfind(\u001b[38;5;124m\"\u001b[39m\u001b[38;5;124mq\u001b[39m\u001b[38;5;124m\"\u001b[39m))\n\u001b[1;32m----> 6\u001b[0m \u001b[38;5;28mprint\u001b[39m(txt\u001b[38;5;241m.\u001b[39mrindex(\u001b[38;5;124m\"\u001b[39m\u001b[38;5;124mq\u001b[39m\u001b[38;5;124m\"\u001b[39m))\n",
      "\u001b[1;31mValueError\u001b[0m: substring not found"
     ]
    }
   ],
   "source": [
    "# If the value is not found, the rfind() method returns -1, but the rindex() method will raise an exception:\n",
    "\n",
    "txt = \"Hello, welcome to my world.\"\n",
    "\n",
    "print(txt.rfind(\"q\"))\n",
    "print(txt.rindex(\"q\"))"
   ]
  },
  {
   "cell_type": "code",
   "execution_count": null,
   "id": "031ab995-86e6-403e-911b-b8ff8b7a3da9",
   "metadata": {},
   "outputs": [],
   "source": [
    "33.rjust():will right align the string ,using a specifoed character (space is defalut) as the fill character"
   ]
  },
  {
   "cell_type": "code",
   "execution_count": null,
   "id": "7bccc7c6-29a2-4aac-a1db-71bc5aa1e25f",
   "metadata": {},
   "outputs": [],
   "source": [
    "Syntax\n",
    "string.rjust(length, character)"
   ]
  },
  {
   "cell_type": "code",
   "execution_count": 76,
   "id": "3371da51-2cad-483d-8dc1-8e3273ac9aaf",
   "metadata": {},
   "outputs": [
    {
     "name": "stdout",
     "output_type": "stream",
     "text": [
      "               virat\n"
     ]
    }
   ],
   "source": [
    "txt=\" virat\"\n",
    "x=txt.rjust(20) #It takes 20 words to the right before value \n",
    "print(x)"
   ]
  },
  {
   "cell_type": "code",
   "execution_count": null,
   "id": "5b8374e7-5749-47ea-9ab9-f562ddc09146",
   "metadata": {},
   "outputs": [],
   "source": [
    "Using the letter \"O\" at the padding character:"
   ]
  },
  {
   "cell_type": "code",
   "execution_count": 78,
   "id": "c48ae869-4efc-45a5-acf5-a104d7533b7b",
   "metadata": {},
   "outputs": [
    {
     "name": "stdout",
     "output_type": "stream",
     "text": [
      "OOOOOOOOOOviartkohli\n"
     ]
    }
   ],
   "source": [
    "txt=\"viartkohli\"\n",
    "x=txt.rjust(20,\"O\")\n",
    "print(x)"
   ]
  },
  {
   "cell_type": "code",
   "execution_count": null,
   "id": "1a20a846-98f4-4e47-b584-f644278f35c0",
   "metadata": {},
   "outputs": [],
   "source": [
    "34.rpartition(): searches for the last occurences of a specified string,and splits the string into a tuple conataing theree elemensts\n",
    "The first element contains the part before the specified string.\n",
    "The second element conatains the specified string\n",
    "Third element conatins the part after the string"
   ]
  },
  {
   "cell_type": "code",
   "execution_count": null,
   "id": "9ca5e261-03ad-4857-85e2-28c19eafcccb",
   "metadata": {},
   "outputs": [],
   "source": [
    "Syntax\n",
    "string.rpartition(value)"
   ]
  },
  {
   "cell_type": "code",
   "execution_count": 86,
   "id": "434412c2-f8c9-4d07-8698-fecad019f7ec",
   "metadata": {},
   "outputs": [
    {
     "name": "stdout",
     "output_type": "stream",
     "text": [
      "('I colud eat bananas all day, ', 'bananas', ' are my fVOURte friuts')\n"
     ]
    }
   ],
   "source": [
    "txt=\"I colud eat bananas all day, bananas are my fVOURte friuts\"\n",
    "x=txt.rpartition(\"bananas\")\n",
    "print(x)"
   ]
  },
  {
   "cell_type": "code",
   "execution_count": null,
   "id": "34a2629b-0b3c-47a5-a95e-ae1d009c05d7",
   "metadata": {},
   "outputs": [],
   "source": [
    "If the specified value is not found,\n",
    "the rpartition() method returns a tuple containing:\n",
    "1 - an empty string, \n",
    "2 - an empty string, \n",
    "3 - the whole string:"
   ]
  },
  {
   "cell_type": "code",
   "execution_count": 88,
   "id": "63b17bbb-14dc-42fe-9e59-216de5717341",
   "metadata": {},
   "outputs": [
    {
     "name": "stdout",
     "output_type": "stream",
     "text": [
      "('', '', 'I could eat bananas all day, bananas are my favorite fruit')\n"
     ]
    }
   ],
   "source": [
    "txt = \"I could eat bananas all day, bananas are my favorite fruit\"\n",
    "\n",
    "x = txt.rpartition(\"apples\")\n",
    "\n",
    "print(x)"
   ]
  },
  {
   "cell_type": "code",
   "execution_count": null,
   "id": "b77fb2ae-c7f0-4519-9528-c164dd90b770",
   "metadata": {},
   "outputs": [],
   "source": [
    "35.rsplit(): It splits the string into a list,staring from the right\n",
    "If no \"Max \" is specified this method wil return the same as the split().method"
   ]
  },
  {
   "cell_type": "code",
   "execution_count": null,
   "id": "1b5a1fdf-c550-40b0-877d-0a5c794ed97f",
   "metadata": {},
   "outputs": [],
   "source": [
    "Syntax\n",
    "string.rsplit(separator, maxsplit)"
   ]
  },
  {
   "cell_type": "code",
   "execution_count": 96,
   "id": "72c15539-052a-4642-a3a7-2681e45026d0",
   "metadata": {},
   "outputs": [
    {
     "name": "stdout",
     "output_type": "stream",
     "text": [
      "['apple', 'banana', 'cherry']\n"
     ]
    }
   ],
   "source": [
    "txt=\"apple,banana,cherry\"\n",
    "x=txt.rsplit(\",\")\n",
    "print(x)"
   ]
  },
  {
   "cell_type": "code",
   "execution_count": 114,
   "id": "539fd42b-5208-44ef-b50f-24e4ce8a64af",
   "metadata": {},
   "outputs": [
    {
     "name": "stdout",
     "output_type": "stream",
     "text": [
      "['apple,banana', 'cherry']\n"
     ]
    }
   ],
   "source": [
    "# Split the string into a list with maximum 2 items:\n",
    "txt=\"apple,banana,cherry\"\n",
    "x=txt.rsplit(\",\" ,1)\n",
    "print(x)\n"
   ]
  },
  {
   "cell_type": "code",
   "execution_count": null,
   "id": "f5d9a14f-40f1-46a1-80bf-899303f6f484",
   "metadata": {},
   "outputs": [],
   "source": [
    "36.split():It splits the string into a list.\n",
    "You can specify the seperator ,default seperator is any whitespaces"
   ]
  },
  {
   "cell_type": "code",
   "execution_count": null,
   "id": "927a7762-3884-4a4b-a043-bf39396f501d",
   "metadata": {},
   "outputs": [],
   "source": [
    "Syntax\n",
    "string.split(separator, maxsplit)"
   ]
  },
  {
   "cell_type": "code",
   "execution_count": 112,
   "id": "688821f6-b4e7-42e8-989a-bdbbdf09d24d",
   "metadata": {},
   "outputs": [
    {
     "name": "stdout",
     "output_type": "stream",
     "text": [
      "['virat', 'dhoni,rohit']\n"
     ]
    }
   ],
   "source": [
    "txt=\"virat,dhoni,rohit\"\n",
    "x=txt.split(\",\",1)\n",
    "print(x)"
   ]
  },
  {
   "cell_type": "code",
   "execution_count": 116,
   "id": "1b004b3a-25b6-4bda-a368-d80dd25e41b9",
   "metadata": {},
   "outputs": [
    {
     "name": "stdout",
     "output_type": "stream",
     "text": [
      "['hello', 'my name is Peter', 'I am 26 years old']\n"
     ]
    }
   ],
   "source": [
    "# Split the string, using comma, followed by a space, as a separator:\n",
    "txt = \"hello, my name is Peter, I am 26 years old\"\n",
    "\n",
    "x = txt.split(\", \")\n",
    "\n",
    "print(x)"
   ]
  },
  {
   "cell_type": "code",
   "execution_count": 118,
   "id": "2b3e4688-4f44-455b-af66-415d8f84b2f0",
   "metadata": {},
   "outputs": [
    {
     "name": "stdout",
     "output_type": "stream",
     "text": [
      "['apple', 'banana', 'cherry', 'orange']\n"
     ]
    }
   ],
   "source": [
    "# Use a hash character as a separator:\n",
    "\n",
    "txt = \"apple#banana#cherry#orange\"\n",
    "\n",
    "x = txt.split(\"#\")\n",
    "\n",
    "print(x)\n"
   ]
  },
  {
   "cell_type": "code",
   "execution_count": 130,
   "id": "14c0af62-cb48-4445-abfe-c2fb8f6b4cef",
   "metadata": {},
   "outputs": [
    {
     "name": "stdout",
     "output_type": "stream",
     "text": [
      "['apple', 'banana', 'cherry#orange']\n"
     ]
    }
   ],
   "source": [
    "# Split the string into a list with max 2 items:\n",
    "\n",
    "txt = \"apple#banana#cherry#orange\"\n",
    "\n",
    "# setting the maxsplit parameter to 1, will return a list with 2 elements!\n",
    "x = txt.split(\"#\", 2)\n",
    "\n",
    "print(x)"
   ]
  },
  {
   "cell_type": "code",
   "execution_count": null,
   "id": "5c1cae64-0aea-4621-bb4f-3f47840d73ee",
   "metadata": {},
   "outputs": [],
   "source": [
    "37.splitlines():The splitlines() method splits a string into a list. The splitting is done at line breaks."
   ]
  },
  {
   "cell_type": "code",
   "execution_count": null,
   "id": "344791a5-c3cd-4c33-a387-a39b8b6eeeb3",
   "metadata": {},
   "outputs": [],
   "source": [
    "Syntax\n",
    "string.splitlines(keeplinebreaks)"
   ]
  },
  {
   "cell_type": "code",
   "execution_count": 132,
   "id": "3fabfc0a-6401-48ca-b084-1a977fbfd05f",
   "metadata": {},
   "outputs": [
    {
     "name": "stdout",
     "output_type": "stream",
     "text": [
      "['Thank you for the music', 'Welcome to the jungle']\n"
     ]
    }
   ],
   "source": [
    "txt = \"Thank you for the music\\nWelcome to the jungle\"\n",
    "\n",
    "x = txt.splitlines()\n",
    "\n",
    "print(x)"
   ]
  },
  {
   "cell_type": "code",
   "execution_count": 134,
   "id": "a0d531ec-0f0a-4632-bd21-291f4ec352d4",
   "metadata": {},
   "outputs": [
    {
     "name": "stdout",
     "output_type": "stream",
     "text": [
      "['I am vasu\\n', ' ramakrishna\\n', 'age is 89']\n"
     ]
    }
   ],
   "source": [
    "# Split the string, but keep the line breaks:\n",
    "txt=\"I am vasu\\n ramakrishna\\nage is 89\"\n",
    "x=txt.splitlines(True)\n",
    "print(x)"
   ]
  },
  {
   "cell_type": "code",
   "execution_count": null,
   "id": "9662524a-6b5d-4669-a7c7-a30faec75d04",
   "metadata": {},
   "outputs": [],
   "source": [
    "38.startswith():It returns the True if the string starts with the specified value,otherwise False"
   ]
  },
  {
   "cell_type": "code",
   "execution_count": null,
   "id": "9ddc389b-3199-485c-83b7-caa6d9012024",
   "metadata": {},
   "outputs": [],
   "source": [
    "Syntax\n",
    "string.startswith(value, start, end)"
   ]
  },
  {
   "cell_type": "code",
   "execution_count": 136,
   "id": "70df37cc-34af-4bac-9979-f2c60a49b9b7",
   "metadata": {},
   "outputs": [
    {
     "name": "stdout",
     "output_type": "stream",
     "text": [
      "True\n"
     ]
    }
   ],
   "source": [
    "# Check if the string starts with \"Hello\":\n",
    "txt=\"Hello ,Welcome to bangloere\"\n",
    "x=txt.startswith(\"Hello\")\n",
    "print(x)"
   ]
  },
  {
   "cell_type": "code",
   "execution_count": 146,
   "id": "b24ef139-0c3e-460a-95b6-44ec95cfd404",
   "metadata": {},
   "outputs": [
    {
     "name": "stdout",
     "output_type": "stream",
     "text": [
      "True\n"
     ]
    }
   ],
   "source": [
    "# Check if position 7 to 20 starts with the characters \"wel\":\n",
    "txt=\"Hello,welcome to my world\"\n",
    "x=txt.startswith(\"wel\",6,20) #6 is start point\n",
    "print(x)"
   ]
  },
  {
   "cell_type": "code",
   "execution_count": null,
   "id": "7d15f504-c99f-41c6-a27f-e49166dda9bf",
   "metadata": {},
   "outputs": [],
   "source": [
    "39.strip(): this method removes any leading and tailing whitespaces\n",
    "leading means at the beggining and tailing means at the nd\n",
    "You can specify which character(s) to remove, if not, any whitespaces will be removed.\n",
    "\n"
   ]
  },
  {
   "cell_type": "code",
   "execution_count": null,
   "id": "2c996a1a-6dab-41b5-a724-6cfcb97a9ca1",
   "metadata": {},
   "outputs": [],
   "source": [
    "Syntax\n",
    "string.strip(characters)"
   ]
  },
  {
   "cell_type": "code",
   "execution_count": 150,
   "id": "383925d4-7409-49f4-a9b3-e711d0ecf65f",
   "metadata": {},
   "outputs": [
    {
     "name": "stdout",
     "output_type": "stream",
     "text": [
      "In friuts banana is my favourate\n"
     ]
    }
   ],
   "source": [
    "txt=\"         banana      \"\n",
    "x=txt.strip()\n",
    "print(\"In friuts\" ,x,\"is my favourate\")\n"
   ]
  },
  {
   "cell_type": "code",
   "execution_count": 152,
   "id": "6676984e-c464-4606-b274-e92b5f6dd3c4",
   "metadata": {},
   "outputs": [
    {
     "name": "stdout",
     "output_type": "stream",
     "text": [
      "banana\n"
     ]
    }
   ],
   "source": [
    "# Remove the leading and trailing characters:\n",
    "txt = \",,,,,rrttgg.....banana....rrr\"\n",
    "\n",
    "x = txt.strip(\",.grt\")\n",
    "\n",
    "print(x)"
   ]
  },
  {
   "cell_type": "code",
   "execution_count": null,
   "id": "124f0f63-e753-4c54-b2e2-9e6131cc67c6",
   "metadata": {},
   "outputs": [],
   "source": [
    "40.swapcase():It returns a string where all the upper case and lower case and vice versa.\n",
    "Syntax\n",
    "string.swapcase()"
   ]
  },
  {
   "cell_type": "code",
   "execution_count": 154,
   "id": "4876683c-c273-4bd2-b052-9ed40a9a46b5",
   "metadata": {},
   "outputs": [
    {
     "name": "stdout",
     "output_type": "stream",
     "text": [
      "i AM bIG oF ntr\n"
     ]
    }
   ],
   "source": [
    "txt=\"I am Big Of NTR\" # upper to lower to upper\n",
    "x=txt.swapcase()\n",
    "print(x)"
   ]
  },
  {
   "cell_type": "code",
   "execution_count": null,
   "id": "fcbedc0b-50c7-4062-ba8d-5da71a0752f4",
   "metadata": {},
   "outputs": [],
   "source": [
    "41.title():It returns the First letter of the evry Word must be Capital\n",
    "If the word contains a number or a symbol, the first letter after that will be converted to upper case"
   ]
  },
  {
   "cell_type": "code",
   "execution_count": null,
   "id": "afdef71b-9663-4971-85f7-bb8cfd5b48af",
   "metadata": {},
   "outputs": [],
   "source": [
    "Syntax\n",
    "string.title()"
   ]
  },
  {
   "cell_type": "code",
   "execution_count": 156,
   "id": "fa929e2f-4864-434b-9e04-cb1252fe3436",
   "metadata": {},
   "outputs": [
    {
     "name": "stdout",
     "output_type": "stream",
     "text": [
      " I Am Fan Of Virat Kohli He Is King Our Cricket \n"
     ]
    }
   ],
   "source": [
    "txt=\" I am fan of virat kohli he is king our cricket \"\n",
    "x=txt.title()\n",
    "print(x)"
   ]
  },
  {
   "cell_type": "code",
   "execution_count": 158,
   "id": "73e2b8b3-1c5a-4cea-b349-37d13ae448c2",
   "metadata": {},
   "outputs": [
    {
     "name": "stdout",
     "output_type": "stream",
     "text": [
      "Hello B2B2B2 And 3G3G3G\n"
     ]
    }
   ],
   "source": [
    "# Note that the first letter after a non-alphabet letter is converted into a upper case letter:\n",
    "txt = \"hello b2b2b2 and 3g3g3g\"\n",
    "\n",
    "x = txt.title()\n",
    "\n",
    "print(x)"
   ]
  },
  {
   "cell_type": "code",
   "execution_count": null,
   "id": "7d1e1923-7497-4057-926f-c92b8ca68400",
   "metadata": {},
   "outputs": [],
   "source": [
    "42.translate():return the string where some specified characters are replaced with the characters in a dictionary or in a mapping table\n",
    "Use the maketrans() method to create a mapping table"
   ]
  },
  {
   "cell_type": "code",
   "execution_count": null,
   "id": "1866db41-4d5e-4670-a724-fdeff6352d75",
   "metadata": {},
   "outputs": [],
   "source": [
    "Syntax\n",
    "string.translate(table)"
   ]
  },
  {
   "cell_type": "code",
   "execution_count": 160,
   "id": "657a5bf6-c63f-49c4-9e9e-727d40646e2f",
   "metadata": {},
   "outputs": [
    {
     "name": "stdout",
     "output_type": "stream",
     "text": [
      "Hello Pam!\n"
     ]
    }
   ],
   "source": [
    "# Replace any \"S\" characters with a \"P\" character:\n",
    "mydict={83: 80}\n",
    "txt=\"Hello Sam!\"\n",
    "print(txt.translate(mydict))"
   ]
  },
  {
   "cell_type": "code",
   "execution_count": 162,
   "id": "d78b773f-4e35-4efe-933b-de0e57826467",
   "metadata": {},
   "outputs": [
    {
     "name": "stdout",
     "output_type": "stream",
     "text": [
      "Hello Pam\n"
     ]
    }
   ],
   "source": [
    "# Use a mapping table to replace \"S\" with \"P\":\n",
    "txt=\"Hello Sam\"\n",
    "mytable=str.maketrans(\"S\",\"P\")\n",
    "print(txt.translate(mytable))"
   ]
  },
  {
   "cell_type": "code",
   "execution_count": 164,
   "id": "01932ad5-ec1d-4341-a5d7-00b7ced0b9cb",
   "metadata": {},
   "outputs": [
    {
     "name": "stdout",
     "output_type": "stream",
     "text": [
      "Hi Joe\n"
     ]
    }
   ],
   "source": [
    "# Use a mapping table to replace many characters:\n",
    "txt=\"Hi Sam\"\n",
    "x=\"mSa\"\n",
    "y=\"eJo\"\n",
    "mytable=str.maketrans(x,y)\n",
    "print(txt.translate(mytable))"
   ]
  },
  {
   "cell_type": "code",
   "execution_count": 166,
   "id": "4bc57dd5-2f7f-4216-8740-e4480fa5fc63",
   "metadata": {},
   "outputs": [
    {
     "name": "stdout",
     "output_type": "stream",
     "text": [
      "G i Joe!\n"
     ]
    }
   ],
   "source": [
    "# The third parameter in the mapping table describes characters that you want to remove from the string:\n",
    "\n",
    "txt = \"Good night Sam!\"\n",
    "x = \"mSa\"\n",
    "y = \"eJo\"\n",
    "z = \"odnght\"\n",
    "mytable = str.maketrans(x, y, z)\n",
    "print(txt.translate(mytable))"
   ]
  },
  {
   "cell_type": "code",
   "execution_count": 168,
   "id": "3cd80c42-f134-4bac-ac9e-1287dabcff97",
   "metadata": {},
   "outputs": [
    {
     "name": "stdout",
     "output_type": "stream",
     "text": [
      "G i Joe!\n"
     ]
    }
   ],
   "source": [
    "# The same example as above, but using a dictionary instead of a mapping table:\n",
    "\n",
    "txt = \"Good night Sam!\"\n",
    "mydict = {109: 101, 83: 74, 97: 111, 111: None, 100: None, 110: None, 103: None, 104: None, 116: None}\n",
    "print(txt.translate(mydict))"
   ]
  },
  {
   "cell_type": "code",
   "execution_count": null,
   "id": "e5a1d0d1-8e36-485c-b15c-cc21489d4693",
   "metadata": {},
   "outputs": [],
   "source": [
    "43.upper():The upper() method returns a string where all characters are in upper case.\n",
    " Symbols and Numbers are ignored."
   ]
  },
  {
   "cell_type": "code",
   "execution_count": 170,
   "id": "f2ba2636-2ca8-4f2a-a5d3-9bfbb555aa9e",
   "metadata": {},
   "outputs": [
    {
     "name": "stdout",
     "output_type": "stream",
     "text": [
      "I AM SRINIVASULU\n"
     ]
    }
   ],
   "source": [
    "txt=\"I am srinivasuLU\"\n",
    "print(txt.upper())"
   ]
  },
  {
   "cell_type": "code",
   "execution_count": null,
   "id": "56eb56bd-ec0c-4b77-a960-db5cec0f4487",
   "metadata": {},
   "outputs": [],
   "source": [
    "45.zfill(): It fills the string at starting positionwith \n",
    "0 untill the length of mention string"
   ]
  },
  {
   "cell_type": "code",
   "execution_count": null,
   "id": "364bfbd3-71c4-47f0-985a-ce89bd6a8d95",
   "metadata": {},
   "outputs": [],
   "source": [
    "Syntax\n",
    "string.zfill(len)"
   ]
  },
  {
   "cell_type": "code",
   "execution_count": 172,
   "id": "202188b8-4352-498b-94e0-c3b499e7a94a",
   "metadata": {},
   "outputs": [
    {
     "name": "stdout",
     "output_type": "stream",
     "text": [
      "0000000050\n"
     ]
    }
   ],
   "source": [
    "# Fill the string with zeros until it is 10 characters long:\n",
    "\n",
    "txt = \"50\"\n",
    "\n",
    "x = txt.zfill(10)\n",
    "\n",
    "print(x)"
   ]
  },
  {
   "cell_type": "code",
   "execution_count": 174,
   "id": "7f08def1-c56e-4576-be5a-42bf05258f7e",
   "metadata": {},
   "outputs": [
    {
     "name": "stdout",
     "output_type": "stream",
     "text": [
      "00000hello\n",
      "welcome to the jungle\n",
      "000010.000\n"
     ]
    }
   ],
   "source": [
    "a = \"hello\"\n",
    "b = \"welcome to the jungle\"\n",
    "c = \"10.000\"\n",
    "\n",
    "print(a.zfill(10))\n",
    "print(b.zfill(10))\n",
    "print(c.zfill(10))"
   ]
  },
  {
   "cell_type": "code",
   "execution_count": null,
   "id": "f8800f50-1d84-4307-988a-0319c8bee336",
   "metadata": {},
   "outputs": [],
   "source": []
  },
  {
   "cell_type": "code",
   "execution_count": null,
   "id": "94ad01b9-500c-41ad-b49b-86b9196b3f82",
   "metadata": {},
   "outputs": [],
   "source": []
  },
  {
   "cell_type": "code",
   "execution_count": null,
   "id": "50b6cf1f-996e-4f3d-aa96-9cd274b4bc6f",
   "metadata": {},
   "outputs": [],
   "source": []
  },
  {
   "cell_type": "code",
   "execution_count": null,
   "id": "b89c5216-35b7-4c72-9be0-24c90d9e3f97",
   "metadata": {},
   "outputs": [],
   "source": []
  },
  {
   "cell_type": "code",
   "execution_count": null,
   "id": "6b262dbd-2426-46b0-92e1-261827ace994",
   "metadata": {},
   "outputs": [],
   "source": []
  },
  {
   "cell_type": "code",
   "execution_count": null,
   "id": "1d6d704d-895e-42f9-992a-f3e11dadfaf7",
   "metadata": {},
   "outputs": [],
   "source": []
  },
  {
   "cell_type": "code",
   "execution_count": null,
   "id": "2d93e2d3-d876-4f1e-87a3-af7133c99b15",
   "metadata": {},
   "outputs": [],
   "source": []
  },
  {
   "cell_type": "code",
   "execution_count": null,
   "id": "a3e12a9b-5cd9-4906-a0f7-23bb6766d72a",
   "metadata": {},
   "outputs": [],
   "source": []
  },
  {
   "cell_type": "code",
   "execution_count": null,
   "id": "419ac63c-849d-41d3-beed-4f142bfc9562",
   "metadata": {},
   "outputs": [],
   "source": []
  },
  {
   "cell_type": "code",
   "execution_count": null,
   "id": "d316ddcf-06f8-46a3-b4e2-b1611612813a",
   "metadata": {},
   "outputs": [],
   "source": []
  },
  {
   "cell_type": "code",
   "execution_count": null,
   "id": "0cf9cdf4-9a9a-4c73-ae4f-4264bc0cde16",
   "metadata": {},
   "outputs": [],
   "source": []
  },
  {
   "cell_type": "code",
   "execution_count": null,
   "id": "f21003f1-89f3-48a2-8834-1949bcca4e45",
   "metadata": {},
   "outputs": [],
   "source": []
  },
  {
   "cell_type": "code",
   "execution_count": null,
   "id": "943f4f20-b069-4eba-873d-89ecb0f9e1b0",
   "metadata": {},
   "outputs": [],
   "source": []
  },
  {
   "cell_type": "code",
   "execution_count": null,
   "id": "46121203-2960-4e1f-81cd-2dfa73b8ad62",
   "metadata": {},
   "outputs": [],
   "source": []
  },
  {
   "cell_type": "code",
   "execution_count": null,
   "id": "666d9c50-606d-463e-bfee-123026b6e19c",
   "metadata": {},
   "outputs": [],
   "source": []
  },
  {
   "cell_type": "code",
   "execution_count": null,
   "id": "830c1047-ab44-402e-b585-d0a73005f5e0",
   "metadata": {},
   "outputs": [],
   "source": []
  },
  {
   "cell_type": "code",
   "execution_count": null,
   "id": "5e8e21b8-80be-454c-8d79-e43419f36c07",
   "metadata": {},
   "outputs": [],
   "source": []
  },
  {
   "cell_type": "code",
   "execution_count": null,
   "id": "5ce790e4-6122-4578-8f64-ad62756f42eb",
   "metadata": {},
   "outputs": [],
   "source": []
  },
  {
   "cell_type": "code",
   "execution_count": null,
   "id": "05c73940-df62-4376-9b49-76c94c07fecd",
   "metadata": {},
   "outputs": [],
   "source": []
  },
  {
   "cell_type": "code",
   "execution_count": null,
   "id": "950b3e18-b7fe-4f12-8005-41ecc309d433",
   "metadata": {},
   "outputs": [],
   "source": []
  },
  {
   "cell_type": "code",
   "execution_count": null,
   "id": "4fb441b2-cc7f-4d87-9d3f-702d80e0ae96",
   "metadata": {},
   "outputs": [],
   "source": []
  },
  {
   "cell_type": "code",
   "execution_count": null,
   "id": "12c9ebdc-ca6c-455a-a613-d92d222ba8ca",
   "metadata": {},
   "outputs": [],
   "source": []
  },
  {
   "cell_type": "code",
   "execution_count": null,
   "id": "40b4fb94-eea5-4fad-863d-7002bfedd753",
   "metadata": {},
   "outputs": [],
   "source": []
  },
  {
   "cell_type": "code",
   "execution_count": null,
   "id": "093a1d83-e95d-4d79-a744-76c9a3d6fe11",
   "metadata": {},
   "outputs": [],
   "source": []
  }
 ],
 "metadata": {
  "kernelspec": {
   "display_name": "Python 3 (ipykernel)",
   "language": "python",
   "name": "python3"
  },
  "language_info": {
   "codemirror_mode": {
    "name": "ipython",
    "version": 3
   },
   "file_extension": ".py",
   "mimetype": "text/x-python",
   "name": "python",
   "nbconvert_exporter": "python",
   "pygments_lexer": "ipython3",
   "version": "3.12.4"
  }
 },
 "nbformat": 4,
 "nbformat_minor": 5
}
